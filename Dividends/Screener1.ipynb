{
 "cells": [
  {
   "cell_type": "code",
   "execution_count": 12,
   "id": "881e0a86-84d6-42e9-89db-69e9af511555",
   "metadata": {
    "pycharm": {
     "name": "#%%\n"
    }
   },
   "outputs": [],
   "source": [
    "import yfinance as yf\n",
    "import datetime as dt\n",
    "import pandas as pd\n",
    "from IPython.display import display_json"
   ]
  },
  {
   "cell_type": "code",
   "execution_count": 13,
   "id": "7e4f2c76-f727-4731-9cb7-d1337b18ce83",
   "metadata": {
    "pycharm": {
     "name": "#%%\n"
    }
   },
   "outputs": [],
   "source": [
    "start_date = '1970-01-01'\n",
    "end_date = dt.datetime.today()"
   ]
  },
  {
   "cell_type": "code",
   "execution_count": 4,
   "id": "12e1e04d-1f78-4758-b730-e33cb58b664f",
   "metadata": {
    "pycharm": {
     "name": "#%%\n"
    }
   },
   "outputs": [
    {
     "data": {
      "text/plain": "Empty DataFrame\nColumns: [div yield, Trailing annual div yield, exDiv, payout ratio]\nIndex: []",
      "text/html": "<div>\n<style scoped>\n    .dataframe tbody tr th:only-of-type {\n        vertical-align: middle;\n    }\n\n    .dataframe tbody tr th {\n        vertical-align: top;\n    }\n\n    .dataframe thead th {\n        text-align: right;\n    }\n</style>\n<table border=\"1\" class=\"dataframe\">\n  <thead>\n    <tr style=\"text-align: right;\">\n      <th></th>\n      <th>div yield</th>\n      <th>Trailing annual div yield</th>\n      <th>exDiv</th>\n      <th>payout ratio</th>\n    </tr>\n  </thead>\n  <tbody>\n  </tbody>\n</table>\n</div>"
     },
     "execution_count": 4,
     "metadata": {},
     "output_type": "execute_result"
    }
   ],
   "source": [
    "stock = yf.Ticker(\"O\")\n",
    "df = pd.DataFrame(columns=[\"div yield\", \"Trailing annual div yield\", \"exDiv\", \"payout ratio\"])\n",
    "# df.loc[\"O\"] = \"24-12-22\", \"3.5%\"\n",
    "# df.loc[\"AMZN\"] = \"23-11-22\", \"2%\"\n",
    "df"
   ]
  },
  {
   "cell_type": "code",
   "execution_count": 163,
   "id": "f2c45fd0-d3b8-4e23-819e-d10f09ffbb85",
   "metadata": {
    "pycharm": {
     "name": "#%%\n"
    }
   },
   "outputs": [
    {
     "data": {
      "text/plain": "      Dividends  Growth year  Growth rate  Years grow\nDate                                                 \n2004     0.3900          NaN          NaN           0\n2005     0.5600    43.589744          NaN           1\n2006     0.6425    14.732143          NaN           2\n2007     0.6150    -4.280156          NaN           3\n2008     0.5250   -14.634146          NaN           4\n2012     0.0950   -81.904762    -8.499435           8\n2013     0.1250    31.578947   -10.901595           9\n2014     0.1300     4.000000   -13.048023          10\n2015     0.1450    11.538462    -9.884300          11\n2016     0.1550     6.896552    -5.578160          12\n2017     0.1800    16.129032    14.028599          13\n2018     0.2020    12.222222    10.157254          14\n2019     0.2850    41.089109    17.575075          15\n2020     0.3075     7.894737    16.846330          16\n2021     0.3450    12.195122    17.906044          17\n2022     0.3850    11.594203    16.999079          18",
      "text/html": "<div>\n<style scoped>\n    .dataframe tbody tr th:only-of-type {\n        vertical-align: middle;\n    }\n\n    .dataframe tbody tr th {\n        vertical-align: top;\n    }\n\n    .dataframe thead th {\n        text-align: right;\n    }\n</style>\n<table border=\"1\" class=\"dataframe\">\n  <thead>\n    <tr style=\"text-align: right;\">\n      <th></th>\n      <th>Dividends</th>\n      <th>Growth year</th>\n      <th>Growth rate</th>\n      <th>Years grow</th>\n    </tr>\n    <tr>\n      <th>Date</th>\n      <th></th>\n      <th></th>\n      <th></th>\n      <th></th>\n    </tr>\n  </thead>\n  <tbody>\n    <tr>\n      <th>2004</th>\n      <td>0.3900</td>\n      <td>NaN</td>\n      <td>NaN</td>\n      <td>0</td>\n    </tr>\n    <tr>\n      <th>2005</th>\n      <td>0.5600</td>\n      <td>43.589744</td>\n      <td>NaN</td>\n      <td>1</td>\n    </tr>\n    <tr>\n      <th>2006</th>\n      <td>0.6425</td>\n      <td>14.732143</td>\n      <td>NaN</td>\n      <td>2</td>\n    </tr>\n    <tr>\n      <th>2007</th>\n      <td>0.6150</td>\n      <td>-4.280156</td>\n      <td>NaN</td>\n      <td>3</td>\n    </tr>\n    <tr>\n      <th>2008</th>\n      <td>0.5250</td>\n      <td>-14.634146</td>\n      <td>NaN</td>\n      <td>4</td>\n    </tr>\n    <tr>\n      <th>2012</th>\n      <td>0.0950</td>\n      <td>-81.904762</td>\n      <td>-8.499435</td>\n      <td>8</td>\n    </tr>\n    <tr>\n      <th>2013</th>\n      <td>0.1250</td>\n      <td>31.578947</td>\n      <td>-10.901595</td>\n      <td>9</td>\n    </tr>\n    <tr>\n      <th>2014</th>\n      <td>0.1300</td>\n      <td>4.000000</td>\n      <td>-13.048023</td>\n      <td>10</td>\n    </tr>\n    <tr>\n      <th>2015</th>\n      <td>0.1450</td>\n      <td>11.538462</td>\n      <td>-9.884300</td>\n      <td>11</td>\n    </tr>\n    <tr>\n      <th>2016</th>\n      <td>0.1550</td>\n      <td>6.896552</td>\n      <td>-5.578160</td>\n      <td>12</td>\n    </tr>\n    <tr>\n      <th>2017</th>\n      <td>0.1800</td>\n      <td>16.129032</td>\n      <td>14.028599</td>\n      <td>13</td>\n    </tr>\n    <tr>\n      <th>2018</th>\n      <td>0.2020</td>\n      <td>12.222222</td>\n      <td>10.157254</td>\n      <td>14</td>\n    </tr>\n    <tr>\n      <th>2019</th>\n      <td>0.2850</td>\n      <td>41.089109</td>\n      <td>17.575075</td>\n      <td>15</td>\n    </tr>\n    <tr>\n      <th>2020</th>\n      <td>0.3075</td>\n      <td>7.894737</td>\n      <td>16.846330</td>\n      <td>16</td>\n    </tr>\n    <tr>\n      <th>2021</th>\n      <td>0.3450</td>\n      <td>12.195122</td>\n      <td>17.906044</td>\n      <td>17</td>\n    </tr>\n    <tr>\n      <th>2022</th>\n      <td>0.3850</td>\n      <td>11.594203</td>\n      <td>16.999079</td>\n      <td>18</td>\n    </tr>\n  </tbody>\n</table>\n</div>"
     },
     "execution_count": 163,
     "metadata": {},
     "output_type": "execute_result"
    }
   ],
   "source": [
    "stock = yf.Ticker(\"ABR\")\n",
    "tmp = stock.dividends\n",
    "# list(data.columns)\n",
    "# data.columns\n",
    "df = pd.DataFrame(index=tmp.index)\n",
    "df[\"Dividends\"] = tmp\n",
    "# df[\"Growth rate\"] = ((df[\"Dividends\"]/df[\"Dividends\"].shift(1)) - 1) * 100\n",
    "# df['Year'] = df.index.year\n",
    "df.index = df.index.year\n",
    "df = df.groupby(df.index).mean()\n",
    "# df.columns\n",
    "df[\"Growth year\"] = ((df[\"Dividends\"]/df[\"Dividends\"].shift(1)) - 1) * 100\n",
    "df[\"Growth rate\"] = df[\"Growth year\"].expanding().mean()\n",
    "df[\"Years grow\"] = df.index - df.first_valid_index()\n",
    "df"
   ]
  },
  {
   "cell_type": "code",
   "execution_count": 154,
   "id": "04beffdf-cec0-497a-bce7-fe50eb33d2a3",
   "metadata": {
    "pycharm": {
     "name": "#%%\n"
    }
   },
   "outputs": [],
   "source": [
    "tickers = [\"O\", \"T\", \"MMM\", \"IBM\", \"PSTL\", \"ENB\", \"BCE\", \"CSCO\", \"MRK\", \"STAG\", \"INPFX\", \"TIP\", \"AAPL\", \"MSFT\", \"JPM\", \"KO\", \"V\", \"COST\", \"JNJ\", \"VICI\", \"MCD\", \"ABBV\", \"ABR\"]\n",
    "# tickers = [\"O\", \"T\", \"MMM\"]"
   ]
  },
  {
   "cell_type": "code",
   "execution_count": 155,
   "id": "92396830-1c91-43fd-9665-adf9a39cef1d",
   "metadata": {
    "pycharm": {
     "name": "#%%\n"
    }
   },
   "outputs": [],
   "source": [
    "df = pd.DataFrame(columns=[\"div yield\", \"Trailing annual div yield\", \"exDiv\", \"payout ratio\", \"5 year yield average\", \"Growth rate\", \"Years of grow\"])"
   ]
  },
  {
   "cell_type": "code",
   "execution_count": 156,
   "outputs": [
    {
     "data": {
      "text/plain": "       div yield  Trailing annual div yield      exDiv  payout ratio  \\\nAAPL        0.65                   0.625174 2022-11-04     14.729999   \nABBV        4.02                   3.826323 2023-01-12     73.730004   \nABR        10.91                  10.497614 2022-11-17     78.950000   \nBCE         5.86                   7.750533 2022-12-14    117.640000   \nCOST        0.72                   0.700381 2023-02-02     26.380000   \nCSCO        3.14                   3.123707 2023-01-04     54.510000   \nENB         6.43                   8.400983 2023-02-14    126.480010   \nIBM         4.91                   4.901451 2022-11-09    337.950020   \nINPFX        NaN                        NaN        NaT           NaN   \nJNJ         2.68                   2.634851 2023-02-17     66.120005   \nJPM         2.86                   2.857551 2023-01-05     33.090000   \nKO          2.89                   2.861372 2022-11-30     76.320000   \nMCD         2.21                   2.009319 2022-11-30     69.610000   \nMMM         5.28                   5.248789 2022-11-17     58.550000   \nMRK         2.73                   2.545148 2023-03-14     45.770000   \nMSFT        1.13                   1.048387 2023-02-15     28.219998   \nO           4.39                   4.344564 2023-01-31    298.280000   \nPSTL        6.14                   6.045752 2022-11-04    653.570000   \nSTAG        4.21                   4.104729 2023-01-30    108.770000   \nT           5.44                   0.000000 2023-01-09           NaN   \nTIP          NaN                   1.142805        NaT           NaN   \nV           0.80                   0.700903 2022-11-09     21.430000   \nVICI        4.59                   4.326074 2022-12-21    140.000000   \n\n       5 year yield average  Growth rate  Years of grow  \nAAPL                   0.98   468.068384           35.0  \nABBV                   4.36    14.391911           10.0  \nABR                    9.17     7.509414           18.0  \nBCE                    5.52   149.974023           34.0  \nCOST                   0.82    74.265842           18.0  \nCSCO                   2.93    18.505391           12.0  \nENB                    6.49    10.221437           32.0  \nIBM                    4.82    18.628999           60.0  \nINPFX                   NaN     1.337350           10.0  \nJNJ                    2.59    13.630227           60.0  \nJPM                    2.72    12.219708           39.0  \nKO                     3.12     9.934781           60.0  \nMCD                    2.29    23.512318           54.0  \nMMM                    3.38     9.025397           60.0  \nMRK                    2.96    12.222773           60.0  \nMSFT                   1.15    70.721478           19.0  \nO                      4.31     4.640202           28.0  \nPSTL                    NaN    37.082617            3.0  \nSTAG                   4.67    -4.370850           11.0  \nT                      7.00     2.665191           39.0  \nTIP                     NaN    31.859984           19.0  \nV                      0.61    21.798047           14.0  \nVICI                    NaN    10.763204            4.0  ",
      "text/html": "<div>\n<style scoped>\n    .dataframe tbody tr th:only-of-type {\n        vertical-align: middle;\n    }\n\n    .dataframe tbody tr th {\n        vertical-align: top;\n    }\n\n    .dataframe thead th {\n        text-align: right;\n    }\n</style>\n<table border=\"1\" class=\"dataframe\">\n  <thead>\n    <tr style=\"text-align: right;\">\n      <th></th>\n      <th>div yield</th>\n      <th>Trailing annual div yield</th>\n      <th>exDiv</th>\n      <th>payout ratio</th>\n      <th>5 year yield average</th>\n      <th>Growth rate</th>\n      <th>Years of grow</th>\n    </tr>\n  </thead>\n  <tbody>\n    <tr>\n      <th>AAPL</th>\n      <td>0.65</td>\n      <td>0.625174</td>\n      <td>2022-11-04</td>\n      <td>14.729999</td>\n      <td>0.98</td>\n      <td>468.068384</td>\n      <td>35.0</td>\n    </tr>\n    <tr>\n      <th>ABBV</th>\n      <td>4.02</td>\n      <td>3.826323</td>\n      <td>2023-01-12</td>\n      <td>73.730004</td>\n      <td>4.36</td>\n      <td>14.391911</td>\n      <td>10.0</td>\n    </tr>\n    <tr>\n      <th>ABR</th>\n      <td>10.91</td>\n      <td>10.497614</td>\n      <td>2022-11-17</td>\n      <td>78.950000</td>\n      <td>9.17</td>\n      <td>7.509414</td>\n      <td>18.0</td>\n    </tr>\n    <tr>\n      <th>BCE</th>\n      <td>5.86</td>\n      <td>7.750533</td>\n      <td>2022-12-14</td>\n      <td>117.640000</td>\n      <td>5.52</td>\n      <td>149.974023</td>\n      <td>34.0</td>\n    </tr>\n    <tr>\n      <th>COST</th>\n      <td>0.72</td>\n      <td>0.700381</td>\n      <td>2023-02-02</td>\n      <td>26.380000</td>\n      <td>0.82</td>\n      <td>74.265842</td>\n      <td>18.0</td>\n    </tr>\n    <tr>\n      <th>CSCO</th>\n      <td>3.14</td>\n      <td>3.123707</td>\n      <td>2023-01-04</td>\n      <td>54.510000</td>\n      <td>2.93</td>\n      <td>18.505391</td>\n      <td>12.0</td>\n    </tr>\n    <tr>\n      <th>ENB</th>\n      <td>6.43</td>\n      <td>8.400983</td>\n      <td>2023-02-14</td>\n      <td>126.480010</td>\n      <td>6.49</td>\n      <td>10.221437</td>\n      <td>32.0</td>\n    </tr>\n    <tr>\n      <th>IBM</th>\n      <td>4.91</td>\n      <td>4.901451</td>\n      <td>2022-11-09</td>\n      <td>337.950020</td>\n      <td>4.82</td>\n      <td>18.628999</td>\n      <td>60.0</td>\n    </tr>\n    <tr>\n      <th>INPFX</th>\n      <td>NaN</td>\n      <td>NaN</td>\n      <td>NaT</td>\n      <td>NaN</td>\n      <td>NaN</td>\n      <td>1.337350</td>\n      <td>10.0</td>\n    </tr>\n    <tr>\n      <th>JNJ</th>\n      <td>2.68</td>\n      <td>2.634851</td>\n      <td>2023-02-17</td>\n      <td>66.120005</td>\n      <td>2.59</td>\n      <td>13.630227</td>\n      <td>60.0</td>\n    </tr>\n    <tr>\n      <th>JPM</th>\n      <td>2.86</td>\n      <td>2.857551</td>\n      <td>2023-01-05</td>\n      <td>33.090000</td>\n      <td>2.72</td>\n      <td>12.219708</td>\n      <td>39.0</td>\n    </tr>\n    <tr>\n      <th>KO</th>\n      <td>2.89</td>\n      <td>2.861372</td>\n      <td>2022-11-30</td>\n      <td>76.320000</td>\n      <td>3.12</td>\n      <td>9.934781</td>\n      <td>60.0</td>\n    </tr>\n    <tr>\n      <th>MCD</th>\n      <td>2.21</td>\n      <td>2.009319</td>\n      <td>2022-11-30</td>\n      <td>69.610000</td>\n      <td>2.29</td>\n      <td>23.512318</td>\n      <td>54.0</td>\n    </tr>\n    <tr>\n      <th>MMM</th>\n      <td>5.28</td>\n      <td>5.248789</td>\n      <td>2022-11-17</td>\n      <td>58.550000</td>\n      <td>3.38</td>\n      <td>9.025397</td>\n      <td>60.0</td>\n    </tr>\n    <tr>\n      <th>MRK</th>\n      <td>2.73</td>\n      <td>2.545148</td>\n      <td>2023-03-14</td>\n      <td>45.770000</td>\n      <td>2.96</td>\n      <td>12.222773</td>\n      <td>60.0</td>\n    </tr>\n    <tr>\n      <th>MSFT</th>\n      <td>1.13</td>\n      <td>1.048387</td>\n      <td>2023-02-15</td>\n      <td>28.219998</td>\n      <td>1.15</td>\n      <td>70.721478</td>\n      <td>19.0</td>\n    </tr>\n    <tr>\n      <th>O</th>\n      <td>4.39</td>\n      <td>4.344564</td>\n      <td>2023-01-31</td>\n      <td>298.280000</td>\n      <td>4.31</td>\n      <td>4.640202</td>\n      <td>28.0</td>\n    </tr>\n    <tr>\n      <th>PSTL</th>\n      <td>6.14</td>\n      <td>6.045752</td>\n      <td>2022-11-04</td>\n      <td>653.570000</td>\n      <td>NaN</td>\n      <td>37.082617</td>\n      <td>3.0</td>\n    </tr>\n    <tr>\n      <th>STAG</th>\n      <td>4.21</td>\n      <td>4.104729</td>\n      <td>2023-01-30</td>\n      <td>108.770000</td>\n      <td>4.67</td>\n      <td>-4.370850</td>\n      <td>11.0</td>\n    </tr>\n    <tr>\n      <th>T</th>\n      <td>5.44</td>\n      <td>0.000000</td>\n      <td>2023-01-09</td>\n      <td>NaN</td>\n      <td>7.00</td>\n      <td>2.665191</td>\n      <td>39.0</td>\n    </tr>\n    <tr>\n      <th>TIP</th>\n      <td>NaN</td>\n      <td>1.142805</td>\n      <td>NaT</td>\n      <td>NaN</td>\n      <td>NaN</td>\n      <td>31.859984</td>\n      <td>19.0</td>\n    </tr>\n    <tr>\n      <th>V</th>\n      <td>0.80</td>\n      <td>0.700903</td>\n      <td>2022-11-09</td>\n      <td>21.430000</td>\n      <td>0.61</td>\n      <td>21.798047</td>\n      <td>14.0</td>\n    </tr>\n    <tr>\n      <th>VICI</th>\n      <td>4.59</td>\n      <td>4.326074</td>\n      <td>2022-12-21</td>\n      <td>140.000000</td>\n      <td>NaN</td>\n      <td>10.763204</td>\n      <td>4.0</td>\n    </tr>\n  </tbody>\n</table>\n</div>"
     },
     "execution_count": 156,
     "metadata": {},
     "output_type": "execute_result"
    }
   ],
   "source": [
    "tickers = yf.Tickers(tickers)\n",
    "for ticker in tickers.tickers:\n",
    "    stock = yf.Ticker(ticker)\n",
    "    data = stock.info\n",
    "\n",
    "    div_yield = data[\"dividendYield\"]  # * 100\n",
    "    div_ex = pd.to_datetime(data[\"exDividendDate\"], unit='s')  # Ex date\n",
    "    payout = data[\"payoutRatio\"] # * 100\n",
    "    trail_div_yield = data[\"trailingAnnualDividendYield\"]  # * 100\n",
    "    five_y_yield_avg = data[\"fiveYearAvgDividendYield\"]\n",
    "\n",
    "    tmp = stock.dividends\n",
    "    div_df = pd.DataFrame(index=tmp.index)\n",
    "    div_df[\"Dividends\"] = tmp\n",
    "    div_df.index = div_df.index.year\n",
    "    div_df = div_df.groupby(div_df.index).mean()\n",
    "    div_df[\"Growth year\"] = ((div_df[\"Dividends\"]/div_df[\"Dividends\"].shift(1)) - 1) * 100\n",
    "    div_df[\"Growth rate\"] = div_df[\"Growth year\"].expanding().mean()\n",
    "    div_df[\"Years grow\"] = div_df.index - div_df.first_valid_index()\n",
    "    growth_rate = float(div_df.tail(1)[\"Growth rate\"])\n",
    "    growth_year = int(div_df.tail(1)[\"Years grow\"])  # Years of growth\n",
    "\n",
    "    df.loc[ticker] = div_yield, trail_div_yield, div_ex, payout, five_y_yield_avg, growth_rate, growth_year\n",
    "df[\"payout ratio\"] *= 100\n",
    "df[\"div yield\"] *= 100\n",
    "df[\"Trailing annual div yield\"] *= 100\n",
    "\n",
    "df.sort_index()"
   ],
   "metadata": {
    "collapsed": false,
    "pycharm": {
     "name": "#%%\n"
    }
   }
  },
  {
   "cell_type": "code",
   "execution_count": 161,
   "outputs": [
    {
     "data": {
      "text/plain": "       div yield  Trailing annual div yield      exDiv  payout ratio  \\\nABR        10.91                  10.497614 2022-11-17     78.950000   \nENB         6.43                   8.400983 2023-02-14    126.480010   \nPSTL        6.14                   6.045752 2022-11-04    653.570000   \nBCE         5.86                   7.750533 2022-12-14    117.640000   \nT           5.44                   0.000000 2023-01-09           NaN   \nMMM         5.28                   5.248789 2022-11-17     58.550000   \nIBM         4.91                   4.901451 2022-11-09    337.950020   \nVICI        4.59                   4.326074 2022-12-21    140.000000   \nO           4.39                   4.344564 2023-01-31    298.280000   \nSTAG        4.21                   4.104729 2023-01-30    108.770000   \nABBV        4.02                   3.826323 2023-01-12     73.730004   \nCSCO        3.14                   3.123707 2023-01-04     54.510000   \nKO          2.89                   2.861372 2022-11-30     76.320000   \nJPM         2.86                   2.857551 2023-01-05     33.090000   \nMRK         2.73                   2.545148 2023-03-14     45.770000   \nJNJ         2.68                   2.634851 2023-02-17     66.120005   \nMCD         2.21                   2.009319 2022-11-30     69.610000   \nMSFT        1.13                   1.048387 2023-02-15     28.219998   \nV           0.80                   0.700903 2022-11-09     21.430000   \nCOST        0.72                   0.700381 2023-02-02     26.380000   \nAAPL        0.65                   0.625174 2022-11-04     14.729999   \nINPFX        NaN                        NaN        NaT           NaN   \nTIP          NaN                   1.142805        NaT           NaN   \n\n       5 year yield average  Growth rate  Years of grow  \nABR                    9.17     7.509414           18.0  \nENB                    6.49    10.221437           32.0  \nPSTL                    NaN    37.082617            3.0  \nBCE                    5.52   149.974023           34.0  \nT                      7.00     2.665191           39.0  \nMMM                    3.38     9.025397           60.0  \nIBM                    4.82    18.628999           60.0  \nVICI                    NaN    10.763204            4.0  \nO                      4.31     4.640202           28.0  \nSTAG                   4.67    -4.370850           11.0  \nABBV                   4.36    14.391911           10.0  \nCSCO                   2.93    18.505391           12.0  \nKO                     3.12     9.934781           60.0  \nJPM                    2.72    12.219708           39.0  \nMRK                    2.96    12.222773           60.0  \nJNJ                    2.59    13.630227           60.0  \nMCD                    2.29    23.512318           54.0  \nMSFT                   1.15    70.721478           19.0  \nV                      0.61    21.798047           14.0  \nCOST                   0.82    74.265842           18.0  \nAAPL                   0.98   468.068384           35.0  \nINPFX                   NaN     1.337350           10.0  \nTIP                     NaN    31.859984           19.0  ",
      "text/html": "<div>\n<style scoped>\n    .dataframe tbody tr th:only-of-type {\n        vertical-align: middle;\n    }\n\n    .dataframe tbody tr th {\n        vertical-align: top;\n    }\n\n    .dataframe thead th {\n        text-align: right;\n    }\n</style>\n<table border=\"1\" class=\"dataframe\">\n  <thead>\n    <tr style=\"text-align: right;\">\n      <th></th>\n      <th>div yield</th>\n      <th>Trailing annual div yield</th>\n      <th>exDiv</th>\n      <th>payout ratio</th>\n      <th>5 year yield average</th>\n      <th>Growth rate</th>\n      <th>Years of grow</th>\n    </tr>\n  </thead>\n  <tbody>\n    <tr>\n      <th>ABR</th>\n      <td>10.91</td>\n      <td>10.497614</td>\n      <td>2022-11-17</td>\n      <td>78.950000</td>\n      <td>9.17</td>\n      <td>7.509414</td>\n      <td>18.0</td>\n    </tr>\n    <tr>\n      <th>ENB</th>\n      <td>6.43</td>\n      <td>8.400983</td>\n      <td>2023-02-14</td>\n      <td>126.480010</td>\n      <td>6.49</td>\n      <td>10.221437</td>\n      <td>32.0</td>\n    </tr>\n    <tr>\n      <th>PSTL</th>\n      <td>6.14</td>\n      <td>6.045752</td>\n      <td>2022-11-04</td>\n      <td>653.570000</td>\n      <td>NaN</td>\n      <td>37.082617</td>\n      <td>3.0</td>\n    </tr>\n    <tr>\n      <th>BCE</th>\n      <td>5.86</td>\n      <td>7.750533</td>\n      <td>2022-12-14</td>\n      <td>117.640000</td>\n      <td>5.52</td>\n      <td>149.974023</td>\n      <td>34.0</td>\n    </tr>\n    <tr>\n      <th>T</th>\n      <td>5.44</td>\n      <td>0.000000</td>\n      <td>2023-01-09</td>\n      <td>NaN</td>\n      <td>7.00</td>\n      <td>2.665191</td>\n      <td>39.0</td>\n    </tr>\n    <tr>\n      <th>MMM</th>\n      <td>5.28</td>\n      <td>5.248789</td>\n      <td>2022-11-17</td>\n      <td>58.550000</td>\n      <td>3.38</td>\n      <td>9.025397</td>\n      <td>60.0</td>\n    </tr>\n    <tr>\n      <th>IBM</th>\n      <td>4.91</td>\n      <td>4.901451</td>\n      <td>2022-11-09</td>\n      <td>337.950020</td>\n      <td>4.82</td>\n      <td>18.628999</td>\n      <td>60.0</td>\n    </tr>\n    <tr>\n      <th>VICI</th>\n      <td>4.59</td>\n      <td>4.326074</td>\n      <td>2022-12-21</td>\n      <td>140.000000</td>\n      <td>NaN</td>\n      <td>10.763204</td>\n      <td>4.0</td>\n    </tr>\n    <tr>\n      <th>O</th>\n      <td>4.39</td>\n      <td>4.344564</td>\n      <td>2023-01-31</td>\n      <td>298.280000</td>\n      <td>4.31</td>\n      <td>4.640202</td>\n      <td>28.0</td>\n    </tr>\n    <tr>\n      <th>STAG</th>\n      <td>4.21</td>\n      <td>4.104729</td>\n      <td>2023-01-30</td>\n      <td>108.770000</td>\n      <td>4.67</td>\n      <td>-4.370850</td>\n      <td>11.0</td>\n    </tr>\n    <tr>\n      <th>ABBV</th>\n      <td>4.02</td>\n      <td>3.826323</td>\n      <td>2023-01-12</td>\n      <td>73.730004</td>\n      <td>4.36</td>\n      <td>14.391911</td>\n      <td>10.0</td>\n    </tr>\n    <tr>\n      <th>CSCO</th>\n      <td>3.14</td>\n      <td>3.123707</td>\n      <td>2023-01-04</td>\n      <td>54.510000</td>\n      <td>2.93</td>\n      <td>18.505391</td>\n      <td>12.0</td>\n    </tr>\n    <tr>\n      <th>KO</th>\n      <td>2.89</td>\n      <td>2.861372</td>\n      <td>2022-11-30</td>\n      <td>76.320000</td>\n      <td>3.12</td>\n      <td>9.934781</td>\n      <td>60.0</td>\n    </tr>\n    <tr>\n      <th>JPM</th>\n      <td>2.86</td>\n      <td>2.857551</td>\n      <td>2023-01-05</td>\n      <td>33.090000</td>\n      <td>2.72</td>\n      <td>12.219708</td>\n      <td>39.0</td>\n    </tr>\n    <tr>\n      <th>MRK</th>\n      <td>2.73</td>\n      <td>2.545148</td>\n      <td>2023-03-14</td>\n      <td>45.770000</td>\n      <td>2.96</td>\n      <td>12.222773</td>\n      <td>60.0</td>\n    </tr>\n    <tr>\n      <th>JNJ</th>\n      <td>2.68</td>\n      <td>2.634851</td>\n      <td>2023-02-17</td>\n      <td>66.120005</td>\n      <td>2.59</td>\n      <td>13.630227</td>\n      <td>60.0</td>\n    </tr>\n    <tr>\n      <th>MCD</th>\n      <td>2.21</td>\n      <td>2.009319</td>\n      <td>2022-11-30</td>\n      <td>69.610000</td>\n      <td>2.29</td>\n      <td>23.512318</td>\n      <td>54.0</td>\n    </tr>\n    <tr>\n      <th>MSFT</th>\n      <td>1.13</td>\n      <td>1.048387</td>\n      <td>2023-02-15</td>\n      <td>28.219998</td>\n      <td>1.15</td>\n      <td>70.721478</td>\n      <td>19.0</td>\n    </tr>\n    <tr>\n      <th>V</th>\n      <td>0.80</td>\n      <td>0.700903</td>\n      <td>2022-11-09</td>\n      <td>21.430000</td>\n      <td>0.61</td>\n      <td>21.798047</td>\n      <td>14.0</td>\n    </tr>\n    <tr>\n      <th>COST</th>\n      <td>0.72</td>\n      <td>0.700381</td>\n      <td>2023-02-02</td>\n      <td>26.380000</td>\n      <td>0.82</td>\n      <td>74.265842</td>\n      <td>18.0</td>\n    </tr>\n    <tr>\n      <th>AAPL</th>\n      <td>0.65</td>\n      <td>0.625174</td>\n      <td>2022-11-04</td>\n      <td>14.729999</td>\n      <td>0.98</td>\n      <td>468.068384</td>\n      <td>35.0</td>\n    </tr>\n    <tr>\n      <th>INPFX</th>\n      <td>NaN</td>\n      <td>NaN</td>\n      <td>NaT</td>\n      <td>NaN</td>\n      <td>NaN</td>\n      <td>1.337350</td>\n      <td>10.0</td>\n    </tr>\n    <tr>\n      <th>TIP</th>\n      <td>NaN</td>\n      <td>1.142805</td>\n      <td>NaT</td>\n      <td>NaN</td>\n      <td>NaN</td>\n      <td>31.859984</td>\n      <td>19.0</td>\n    </tr>\n  </tbody>\n</table>\n</div>"
     },
     "execution_count": 161,
     "metadata": {},
     "output_type": "execute_result"
    }
   ],
   "source": [
    "df.sort_values(\"div yield\", ascending=False)"
   ],
   "metadata": {
    "collapsed": false,
    "pycharm": {
     "name": "#%%\n"
    }
   }
  },
  {
   "cell_type": "code",
   "execution_count": 59,
   "outputs": [
    {
     "data": {
      "text/plain": "       div yield  Trailing annual div yield      exDiv  payout ratio  \\\nAAPL        0.65                   0.625174 2022-11-04     14.729999   \nABBV        4.02                   3.826323 2023-01-12     73.730004   \nABR        11.14                  10.497614 2022-11-17     78.950000   \nBCE         5.94                   7.750533 2022-12-14    117.640000   \nCOST        0.72                   0.700381 2023-02-02     26.380000   \nCSCO        3.14                   3.123707 2023-01-04     54.510000   \nENB         6.43                   8.400983 2023-02-14    126.480010   \nIBM         4.91                   4.901451 2022-11-09    337.950020   \nINPFX        NaN                        NaN        NaT           NaN   \nJNJ         2.68                   2.634851 2023-02-17     66.120005   \nJPM         2.86                   2.857551 2023-01-05     33.090000   \nKO          2.89                   2.861372 2022-11-30     76.320000   \nMCD         2.21                   2.009319 2022-11-30     69.610000   \nMMM         5.28                   5.248789 2022-11-17     58.550000   \nMRK         2.73                   2.545148 2023-03-14     45.770000   \nMSFT        1.13                   1.048387 2023-02-15     28.219998   \nO           4.44                   4.344564 2023-01-31    298.280000   \nPSTL        6.14                   6.045752 2022-11-04    653.570000   \nSTAG        4.21                   4.104729 2023-01-30    108.770000   \nT           5.44                   0.000000 2023-01-09           NaN   \nTIP          NaN                   1.142805        NaT           NaN   \nV           0.80                   0.700903 2022-11-09     21.430000   \nVICI        4.59                   4.326074 2022-12-21    140.000000   \n\n       5 year yield average  \nAAPL                   0.98  \nABBV                   4.36  \nABR                    9.17  \nBCE                    5.52  \nCOST                   0.82  \nCSCO                   2.93  \nENB                    6.49  \nIBM                    4.82  \nINPFX                   NaN  \nJNJ                    2.59  \nJPM                    2.72  \nKO                     3.12  \nMCD                    2.29  \nMMM                    3.38  \nMRK                    2.96  \nMSFT                   1.15  \nO                      4.31  \nPSTL                    NaN  \nSTAG                   4.67  \nT                      7.00  \nTIP                     NaN  \nV                      0.61  \nVICI                    NaN  ",
      "text/html": "<div>\n<style scoped>\n    .dataframe tbody tr th:only-of-type {\n        vertical-align: middle;\n    }\n\n    .dataframe tbody tr th {\n        vertical-align: top;\n    }\n\n    .dataframe thead th {\n        text-align: right;\n    }\n</style>\n<table border=\"1\" class=\"dataframe\">\n  <thead>\n    <tr style=\"text-align: right;\">\n      <th></th>\n      <th>div yield</th>\n      <th>Trailing annual div yield</th>\n      <th>exDiv</th>\n      <th>payout ratio</th>\n      <th>5 year yield average</th>\n    </tr>\n  </thead>\n  <tbody>\n    <tr>\n      <th>AAPL</th>\n      <td>0.65</td>\n      <td>0.625174</td>\n      <td>2022-11-04</td>\n      <td>14.729999</td>\n      <td>0.98</td>\n    </tr>\n    <tr>\n      <th>ABBV</th>\n      <td>4.02</td>\n      <td>3.826323</td>\n      <td>2023-01-12</td>\n      <td>73.730004</td>\n      <td>4.36</td>\n    </tr>\n    <tr>\n      <th>ABR</th>\n      <td>11.14</td>\n      <td>10.497614</td>\n      <td>2022-11-17</td>\n      <td>78.950000</td>\n      <td>9.17</td>\n    </tr>\n    <tr>\n      <th>BCE</th>\n      <td>5.94</td>\n      <td>7.750533</td>\n      <td>2022-12-14</td>\n      <td>117.640000</td>\n      <td>5.52</td>\n    </tr>\n    <tr>\n      <th>COST</th>\n      <td>0.72</td>\n      <td>0.700381</td>\n      <td>2023-02-02</td>\n      <td>26.380000</td>\n      <td>0.82</td>\n    </tr>\n    <tr>\n      <th>CSCO</th>\n      <td>3.14</td>\n      <td>3.123707</td>\n      <td>2023-01-04</td>\n      <td>54.510000</td>\n      <td>2.93</td>\n    </tr>\n    <tr>\n      <th>ENB</th>\n      <td>6.43</td>\n      <td>8.400983</td>\n      <td>2023-02-14</td>\n      <td>126.480010</td>\n      <td>6.49</td>\n    </tr>\n    <tr>\n      <th>IBM</th>\n      <td>4.91</td>\n      <td>4.901451</td>\n      <td>2022-11-09</td>\n      <td>337.950020</td>\n      <td>4.82</td>\n    </tr>\n    <tr>\n      <th>INPFX</th>\n      <td>NaN</td>\n      <td>NaN</td>\n      <td>NaT</td>\n      <td>NaN</td>\n      <td>NaN</td>\n    </tr>\n    <tr>\n      <th>JNJ</th>\n      <td>2.68</td>\n      <td>2.634851</td>\n      <td>2023-02-17</td>\n      <td>66.120005</td>\n      <td>2.59</td>\n    </tr>\n    <tr>\n      <th>JPM</th>\n      <td>2.86</td>\n      <td>2.857551</td>\n      <td>2023-01-05</td>\n      <td>33.090000</td>\n      <td>2.72</td>\n    </tr>\n    <tr>\n      <th>KO</th>\n      <td>2.89</td>\n      <td>2.861372</td>\n      <td>2022-11-30</td>\n      <td>76.320000</td>\n      <td>3.12</td>\n    </tr>\n    <tr>\n      <th>MCD</th>\n      <td>2.21</td>\n      <td>2.009319</td>\n      <td>2022-11-30</td>\n      <td>69.610000</td>\n      <td>2.29</td>\n    </tr>\n    <tr>\n      <th>MMM</th>\n      <td>5.28</td>\n      <td>5.248789</td>\n      <td>2022-11-17</td>\n      <td>58.550000</td>\n      <td>3.38</td>\n    </tr>\n    <tr>\n      <th>MRK</th>\n      <td>2.73</td>\n      <td>2.545148</td>\n      <td>2023-03-14</td>\n      <td>45.770000</td>\n      <td>2.96</td>\n    </tr>\n    <tr>\n      <th>MSFT</th>\n      <td>1.13</td>\n      <td>1.048387</td>\n      <td>2023-02-15</td>\n      <td>28.219998</td>\n      <td>1.15</td>\n    </tr>\n    <tr>\n      <th>O</th>\n      <td>4.44</td>\n      <td>4.344564</td>\n      <td>2023-01-31</td>\n      <td>298.280000</td>\n      <td>4.31</td>\n    </tr>\n    <tr>\n      <th>PSTL</th>\n      <td>6.14</td>\n      <td>6.045752</td>\n      <td>2022-11-04</td>\n      <td>653.570000</td>\n      <td>NaN</td>\n    </tr>\n    <tr>\n      <th>STAG</th>\n      <td>4.21</td>\n      <td>4.104729</td>\n      <td>2023-01-30</td>\n      <td>108.770000</td>\n      <td>4.67</td>\n    </tr>\n    <tr>\n      <th>T</th>\n      <td>5.44</td>\n      <td>0.000000</td>\n      <td>2023-01-09</td>\n      <td>NaN</td>\n      <td>7.00</td>\n    </tr>\n    <tr>\n      <th>TIP</th>\n      <td>NaN</td>\n      <td>1.142805</td>\n      <td>NaT</td>\n      <td>NaN</td>\n      <td>NaN</td>\n    </tr>\n    <tr>\n      <th>V</th>\n      <td>0.80</td>\n      <td>0.700903</td>\n      <td>2022-11-09</td>\n      <td>21.430000</td>\n      <td>0.61</td>\n    </tr>\n    <tr>\n      <th>VICI</th>\n      <td>4.59</td>\n      <td>4.326074</td>\n      <td>2022-12-21</td>\n      <td>140.000000</td>\n      <td>NaN</td>\n    </tr>\n  </tbody>\n</table>\n</div>"
     },
     "execution_count": 59,
     "metadata": {},
     "output_type": "execute_result"
    }
   ],
   "source": [],
   "metadata": {
    "collapsed": false,
    "pycharm": {
     "name": "#%%\n"
    }
   }
  },
  {
   "cell_type": "code",
   "execution_count": null,
   "outputs": [],
   "source": [],
   "metadata": {
    "collapsed": false,
    "pycharm": {
     "name": "#%%\n"
    }
   }
  }
 ],
 "metadata": {
  "kernelspec": {
   "display_name": "Python 3 (ipykernel)",
   "language": "python",
   "name": "python3"
  },
  "language_info": {
   "codemirror_mode": {
    "name": "ipython",
    "version": 3
   },
   "file_extension": ".py",
   "mimetype": "text/x-python",
   "name": "python",
   "nbconvert_exporter": "python",
   "pygments_lexer": "ipython3",
   "version": "3.11.1"
  }
 },
 "nbformat": 4,
 "nbformat_minor": 5
}