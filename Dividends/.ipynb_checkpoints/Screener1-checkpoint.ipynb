{
 "cells": [
  {
   "cell_type": "code",
   "execution_count": 60,
   "id": "881e0a86-84d6-42e9-89db-69e9af511555",
   "metadata": {},
   "outputs": [],
   "source": [
    "import yfinance as yf\n",
    "import datetime as dt\n",
    "import pandas as pd\n",
    "from IPython.display import display_json"
   ]
  },
  {
   "cell_type": "code",
   "execution_count": 61,
   "id": "7e4f2c76-f727-4731-9cb7-d1337b18ce83",
   "metadata": {},
   "outputs": [],
   "source": [
    "start_date = '1970-01-01'\n",
    "end_date = dt.datetime.today()"
   ]
  },
  {
   "cell_type": "code",
   "execution_count": 64,
   "id": "12e1e04d-1f78-4758-b730-e33cb58b664f",
   "metadata": {},
   "outputs": [
    {
     "data": {
      "text/html": [
       "<div>\n",
       "<style scoped>\n",
       "    .dataframe tbody tr th:only-of-type {\n",
       "        vertical-align: middle;\n",
       "    }\n",
       "\n",
       "    .dataframe tbody tr th {\n",
       "        vertical-align: top;\n",
       "    }\n",
       "\n",
       "    .dataframe thead th {\n",
       "        text-align: right;\n",
       "    }\n",
       "</style>\n",
       "<table border=\"1\" class=\"dataframe\">\n",
       "  <thead>\n",
       "    <tr style=\"text-align: right;\">\n",
       "      <th></th>\n",
       "      <th>div yield</th>\n",
       "      <th>exDiv</th>\n",
       "      <th>payout ratio</th>\n",
       "    </tr>\n",
       "  </thead>\n",
       "  <tbody>\n",
       "  </tbody>\n",
       "</table>\n",
       "</div>"
      ],
      "text/plain": [
       "Empty DataFrame\n",
       "Columns: [div yield, exDiv, payout ratio]\n",
       "Index: []"
      ]
     },
     "execution_count": 64,
     "metadata": {},
     "output_type": "execute_result"
    }
   ],
   "source": [
    "stock = yf.Ticker(\"O\")\n",
    "df = pd.DataFrame(columns=[\"div yield\", \"Trailing annual div yield\", \"exDiv\", \"payout ratio\"])\n",
    "# df.loc[\"O\"] = \"24-12-22\", \"3.5%\"\n",
    "# df.loc[\"AMZN\"] = \"23-11-22\", \"2%\"\n",
    "df"
   ]
  },
  {
   "cell_type": "code",
   "execution_count": 65,
   "id": "f2c45fd0-d3b8-4e23-819e-d10f09ffbb85",
   "metadata": {},
   "outputs": [
    {
     "data": {
      "text/html": [
       "<div>\n",
       "<style scoped>\n",
       "    .dataframe tbody tr th:only-of-type {\n",
       "        vertical-align: middle;\n",
       "    }\n",
       "\n",
       "    .dataframe tbody tr th {\n",
       "        vertical-align: top;\n",
       "    }\n",
       "\n",
       "    .dataframe thead th {\n",
       "        text-align: right;\n",
       "    }\n",
       "</style>\n",
       "<table border=\"1\" class=\"dataframe\">\n",
       "  <thead>\n",
       "    <tr style=\"text-align: right;\">\n",
       "      <th></th>\n",
       "      <th>div yield</th>\n",
       "      <th>exDiv</th>\n",
       "      <th>payout ratio</th>\n",
       "    </tr>\n",
       "  </thead>\n",
       "  <tbody>\n",
       "    <tr>\n",
       "      <th>O</th>\n",
       "      <td>4.44</td>\n",
       "      <td>2023-01-31</td>\n",
       "      <td>298.28</td>\n",
       "    </tr>\n",
       "  </tbody>\n",
       "</table>\n",
       "</div>"
      ],
      "text/plain": [
       "   div yield      exDiv  payout ratio\n",
       "O       4.44 2023-01-31        298.28"
      ]
     },
     "execution_count": 65,
     "metadata": {},
     "output_type": "execute_result"
    }
   ],
   "source": [
    "data = stock.info\n",
    "div_yield = float(data[\"dividendYield\"]) * 100  # %\n",
    "div_ex = pd.to_datetime(data[\"exDividendDate\"], unit='s')  # Ex date\n",
    "# div_date = \n",
    "payout = data[\"payoutRatio\"] * 100 # %\n",
    "trail_div_yield = data[\"trailingAnnualDividendYield\"] * 100  # %\n",
    "\n",
    "df.loc[\"O\"] = div_yield, trail_div_yield div_ex, payout\n",
    "\n",
    "df"
   ]
  },
  {
   "cell_type": "code",
   "execution_count": null,
   "id": "04beffdf-cec0-497a-bce7-fe50eb33d2a3",
   "metadata": {},
   "outputs": [],
   "source": []
  },
  {
   "cell_type": "code",
   "execution_count": null,
   "id": "92396830-1c91-43fd-9665-adf9a39cef1d",
   "metadata": {},
   "outputs": [],
   "source": []
  }
 ],
 "metadata": {
  "kernelspec": {
   "display_name": "Python 3 (ipykernel)",
   "language": "python",
   "name": "python3"
  },
  "language_info": {
   "codemirror_mode": {
    "name": "ipython",
    "version": 3
   },
   "file_extension": ".py",
   "mimetype": "text/x-python",
   "name": "python",
   "nbconvert_exporter": "python",
   "pygments_lexer": "ipython3",
   "version": "3.11.1"
  }
 },
 "nbformat": 4,
 "nbformat_minor": 5
}
