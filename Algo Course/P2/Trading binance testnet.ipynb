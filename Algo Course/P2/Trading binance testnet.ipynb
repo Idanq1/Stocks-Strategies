{
 "cells": [
  {
   "cell_type": "code",
   "execution_count": 41,
   "id": "e09afe83",
   "metadata": {},
   "outputs": [],
   "source": [
    "from binance import ThreadedWebsocketManager\n",
    "from binance.client import Client\n",
    "import pandas as pd\n",
    "import numpy as np\n",
    "import datetime"
   ]
  },
  {
   "cell_type": "code",
   "execution_count": 9,
   "id": "57eae506",
   "metadata": {},
   "outputs": [],
   "source": [
    "api_key = \"DAX5KWi4IudakbEVvmQsjgqRYkSVycWQralfOuIWr7xSyQ4chqn192dLS4QGkG1q\"  # TESTING testnet.binance.vision\n",
    "api_secret = \"i5YaSzFjlZTkrqsdMzEGUoukzkKehozhtNi0E5XPVP2UnbzyDuFB8RJuN1JMSTKZ\"  # TESTING testnet.binance.vision"
   ]
  },
  {
   "cell_type": "code",
   "execution_count": 16,
   "id": "dc848100",
   "metadata": {},
   "outputs": [],
   "source": [
    "client = Client(api_key=api_key, api_secret=api_secret, testnet=True)"
   ]
  },
  {
   "cell_type": "code",
   "execution_count": 88,
   "id": "87d9da98",
   "metadata": {},
   "outputs": [
    {
     "data": {
      "text/plain": [
       "{'makerCommission': 0,\n",
       " 'takerCommission': 0,\n",
       " 'buyerCommission': 0,\n",
       " 'sellerCommission': 0,\n",
       " 'canTrade': True,\n",
       " 'canWithdraw': False,\n",
       " 'canDeposit': False,\n",
       " 'brokered': False,\n",
       " 'updateTime': 1666462260922,\n",
       " 'accountType': 'SPOT',\n",
       " 'balances': [{'asset': 'BNB',\n",
       "   'free': '1000.00000000',\n",
       "   'locked': '0.00000000'},\n",
       "  {'asset': 'BTC', 'free': '1.00000000', 'locked': '0.00000000'},\n",
       "  {'asset': 'BUSD', 'free': '10000.00000000', 'locked': '0.00000000'},\n",
       "  {'asset': 'ETH', 'free': '100.00000000', 'locked': '0.00000000'},\n",
       "  {'asset': 'LTC', 'free': '500.00000000', 'locked': '0.00000000'},\n",
       "  {'asset': 'TRX', 'free': '500000.00000000', 'locked': '0.00000000'},\n",
       "  {'asset': 'USDT', 'free': '9996.04744177', 'locked': '0.00000000'},\n",
       "  {'asset': 'XRP', 'free': '50000.00000000', 'locked': '0.00000000'}],\n",
       " 'permissions': ['SPOT']}"
      ]
     },
     "execution_count": 88,
     "metadata": {},
     "output_type": "execute_result"
    },
    {
     "name": "stdout",
     "output_type": "stream",
     "text": [
      "..."
     ]
    }
   ],
   "source": [
    "client.get_account()"
   ]
  },
  {
   "cell_type": "code",
   "execution_count": 82,
   "id": "20deae04",
   "metadata": {},
   "outputs": [],
   "source": [
    "class LongOnlyTrader():\n",
    "    \n",
    "    def __init__(self, symbol, interval, units=0.1, position=0):\n",
    "        self.symbol = symbol\n",
    "        self.interval = interval\n",
    "        self.units = units\n",
    "        self.position = position\n",
    "        self.available_intervals = [\"1m\", \"3m\", \"5m\", \"15m\", \"30m\", \"1h\", \"2h\", \"4h\", \"6h\", \"8h\", \"12h\", \"1d\", \"3d\", \"1w\", \"1M\"]\n",
    "\n",
    "        # Strategy attributs\n",
    "#         self.return_threshold = return_threshold\n",
    "#         self.volume_threshold = volume_threshold\n",
    "        \n",
    "    def start_trading(self, past_days=2):\n",
    "        self.twm = ThreadedWebsocketManager()\n",
    "        self.twm.start()\n",
    "        \n",
    "        if self.interval in self.available_intervals:\n",
    "            self.get_recent_prices(past_days)\n",
    "            self.twm.start_kline_socket(callback=self.stream_candles,\n",
    "                                        symbol=self.symbol, interval=self.interval)\n",
    "        # \"else\" to be added later in the course \n",
    "    \n",
    "    def get_recent_prices(self, past_days):\n",
    "        now = datetime.datetime.utcnow()\n",
    "        past = str(now - datetime.timedelta(days=past_days))\n",
    "        \n",
    "        bars = client.get_historical_klines(self.symbol, self.interval, past)\n",
    "        \n",
    "        df = pd.DataFrame(bars)\n",
    "        df[\"Date\"] = pd.to_datetime(df.iloc[:,0], unit = \"ms\")\n",
    "        df.columns = [\"Open Time\", \"Open\", \"High\", \"Low\", \"Close\", \"Volume\",\n",
    "                      \"Clos Time\", \"Quote Asset Volume\", \"Number of Trades\",\n",
    "                      \"Taker Buy Base Asset Volume\", \"Taker Buy Quote Asset Volume\", \"Ignore\", \"Date\"]\n",
    "        df = df[[\"Date\", \"Open\", \"High\", \"Low\", \"Close\", \"Volume\"]].copy()\n",
    "        df.set_index(\"Date\", inplace=True)\n",
    "        for column in df.columns:\n",
    "            df[column] = pd.to_numeric(df[column], errors = \"coerce\")\n",
    "        df[\"Complete\"] = [True for row in range(len(df)-1)] + [False]\n",
    "        \n",
    "        self.data = df\n",
    "\n",
    "    def stream_candles(self, msg):\n",
    "        \n",
    "        # extract the required items from msg\n",
    "        event_time = pd.to_datetime(msg[\"E\"], unit = \"ms\")\n",
    "        start_time = pd.to_datetime(msg[\"k\"][\"t\"], unit = \"ms\")\n",
    "        first   = float(msg[\"k\"][\"o\"])\n",
    "        high    = float(msg[\"k\"][\"h\"])\n",
    "        low     = float(msg[\"k\"][\"l\"])\n",
    "        close   = float(msg[\"k\"][\"c\"])\n",
    "        volume  = float(msg[\"k\"][\"v\"])\n",
    "        complete=       msg[\"k\"][\"x\"]\n",
    "    \n",
    "        # print out\n",
    "        print(\".\", end=\"\", flush=True)\n",
    "    \n",
    "        # feed df (add new bar / update latest bar)\n",
    "        self.data.loc[start_time] = [first, high, low, close, volume, complete]\n",
    "        \n",
    "        if complete:\n",
    "            self.define_strategy()\n",
    "            self.execute_order()\n",
    "\n",
    "    def define_strategy(self):\n",
    "        df = self.data.copy()\n",
    "        df = df[[\"Open\", \"Close\"]]\n",
    "        # Define strategy  --  If last candle is green, buy. If red, sell\n",
    "        cond = df.Open > df.Close  # Red candle\n",
    "        \n",
    "        df[\"Position\"] = 1\n",
    "        df.loc[cond, \"Position\"] = 0\n",
    "        \n",
    "        self.prepare_data = df.copy()\n",
    "        \n",
    "    def execute_order(self):\n",
    "        if self.prepare_data[\"Position\"].iloc[-1] == 1:  # Buy\n",
    "            if self.position == 0:\n",
    "                order = client.create_order(symbol=self.symbol, side=\"SELL\", type=\"MARKET\", quantity=self.units)\n",
    "#                 order = client.create_order(symbol=self.symbol, side=\"BUY\", type=\"MARKET\", quantity=self.units)\n",
    "                self.position = 1\n",
    "                print(\"BUYING BITCOIN\")\n",
    "\n",
    "        if self.prepare_data[\"Position\"].iloc[-1] == 0: # Sell:\n",
    "            if self.position == 1:\n",
    "#                 order = client.create_order(symbol=self.symbol, side=\"SELL\", type=\"MARKET\", quantity=self.units)\n",
    "                order = client.create_order(symbol=self.symbol, side=\"BUY\", type=\"MARKET\", quantity=self.units)\n",
    "                self.position = 0\n",
    "                print(\"SELLING BITCOIN\")"
   ]
  },
  {
   "cell_type": "code",
   "execution_count": 83,
   "id": "a8a6c054",
   "metadata": {},
   "outputs": [],
   "source": [
    "trader = LongOnlyTrader(\"BTCUSDT\", \"1m\")"
   ]
  },
  {
   "cell_type": "code",
   "execution_count": 84,
   "id": "a2d6d746",
   "metadata": {},
   "outputs": [
    {
     "name": "stdout",
     "output_type": "stream",
     "text": [
      "...........................................BUYING BITCOIN\n",
      ".............................SELLING BITCOIN\n",
      "................................"
     ]
    }
   ],
   "source": [
    "trader.start_trading()"
   ]
  },
  {
   "cell_type": "code",
   "execution_count": 71,
   "id": "58ab8f47",
   "metadata": {},
   "outputs": [
    {
     "data": {
      "text/html": [
       "<div>\n",
       "<style scoped>\n",
       "    .dataframe tbody tr th:only-of-type {\n",
       "        vertical-align: middle;\n",
       "    }\n",
       "\n",
       "    .dataframe tbody tr th {\n",
       "        vertical-align: top;\n",
       "    }\n",
       "\n",
       "    .dataframe thead th {\n",
       "        text-align: right;\n",
       "    }\n",
       "</style>\n",
       "<table border=\"1\" class=\"dataframe\">\n",
       "  <thead>\n",
       "    <tr style=\"text-align: right;\">\n",
       "      <th></th>\n",
       "      <th>Open</th>\n",
       "      <th>High</th>\n",
       "      <th>Low</th>\n",
       "      <th>Close</th>\n",
       "      <th>Volume</th>\n",
       "      <th>Complete</th>\n",
       "    </tr>\n",
       "    <tr>\n",
       "      <th>Date</th>\n",
       "      <th></th>\n",
       "      <th></th>\n",
       "      <th></th>\n",
       "      <th></th>\n",
       "      <th></th>\n",
       "      <th></th>\n",
       "    </tr>\n",
       "  </thead>\n",
       "  <tbody>\n",
       "    <tr>\n",
       "      <th>2022-10-20 17:18:00</th>\n",
       "      <td>19137.51</td>\n",
       "      <td>19141.68</td>\n",
       "      <td>19132.23</td>\n",
       "      <td>19136.79</td>\n",
       "      <td>6.760908</td>\n",
       "      <td>True</td>\n",
       "    </tr>\n",
       "    <tr>\n",
       "      <th>2022-10-20 17:19:00</th>\n",
       "      <td>19137.56</td>\n",
       "      <td>19143.64</td>\n",
       "      <td>19132.65</td>\n",
       "      <td>19137.49</td>\n",
       "      <td>5.348866</td>\n",
       "      <td>True</td>\n",
       "    </tr>\n",
       "    <tr>\n",
       "      <th>2022-10-20 17:20:00</th>\n",
       "      <td>19137.92</td>\n",
       "      <td>19139.74</td>\n",
       "      <td>19132.91</td>\n",
       "      <td>19134.97</td>\n",
       "      <td>5.372226</td>\n",
       "      <td>True</td>\n",
       "    </tr>\n",
       "    <tr>\n",
       "      <th>2022-10-20 17:21:00</th>\n",
       "      <td>19134.97</td>\n",
       "      <td>19149.69</td>\n",
       "      <td>19132.91</td>\n",
       "      <td>19149.69</td>\n",
       "      <td>7.448774</td>\n",
       "      <td>True</td>\n",
       "    </tr>\n",
       "    <tr>\n",
       "      <th>2022-10-20 17:22:00</th>\n",
       "      <td>19146.90</td>\n",
       "      <td>19354.82</td>\n",
       "      <td>10000.00</td>\n",
       "      <td>19161.00</td>\n",
       "      <td>16.813073</td>\n",
       "      <td>True</td>\n",
       "    </tr>\n",
       "    <tr>\n",
       "      <th>...</th>\n",
       "      <td>...</td>\n",
       "      <td>...</td>\n",
       "      <td>...</td>\n",
       "      <td>...</td>\n",
       "      <td>...</td>\n",
       "      <td>...</td>\n",
       "    </tr>\n",
       "    <tr>\n",
       "      <th>2022-10-22 17:13:00</th>\n",
       "      <td>19196.63</td>\n",
       "      <td>19196.70</td>\n",
       "      <td>19194.82</td>\n",
       "      <td>19194.82</td>\n",
       "      <td>2.163762</td>\n",
       "      <td>True</td>\n",
       "    </tr>\n",
       "    <tr>\n",
       "      <th>2022-10-22 17:14:00</th>\n",
       "      <td>19194.82</td>\n",
       "      <td>19195.61</td>\n",
       "      <td>19192.22</td>\n",
       "      <td>19192.50</td>\n",
       "      <td>2.791750</td>\n",
       "      <td>True</td>\n",
       "    </tr>\n",
       "    <tr>\n",
       "      <th>2022-10-22 17:15:00</th>\n",
       "      <td>19192.50</td>\n",
       "      <td>19195.82</td>\n",
       "      <td>19192.47</td>\n",
       "      <td>19193.73</td>\n",
       "      <td>3.988553</td>\n",
       "      <td>True</td>\n",
       "    </tr>\n",
       "    <tr>\n",
       "      <th>2022-10-22 17:16:00</th>\n",
       "      <td>19193.43</td>\n",
       "      <td>19204.90</td>\n",
       "      <td>19193.37</td>\n",
       "      <td>19204.90</td>\n",
       "      <td>6.026428</td>\n",
       "      <td>True</td>\n",
       "    </tr>\n",
       "    <tr>\n",
       "      <th>2022-10-22 17:17:00</th>\n",
       "      <td>19206.19</td>\n",
       "      <td>19208.80</td>\n",
       "      <td>19203.95</td>\n",
       "      <td>19207.93</td>\n",
       "      <td>54.005620</td>\n",
       "      <td>False</td>\n",
       "    </tr>\n",
       "  </tbody>\n",
       "</table>\n",
       "<p>2880 rows × 6 columns</p>\n",
       "</div>"
      ],
      "text/plain": [
       "                         Open      High       Low     Close     Volume  \\\n",
       "Date                                                                     \n",
       "2022-10-20 17:18:00  19137.51  19141.68  19132.23  19136.79   6.760908   \n",
       "2022-10-20 17:19:00  19137.56  19143.64  19132.65  19137.49   5.348866   \n",
       "2022-10-20 17:20:00  19137.92  19139.74  19132.91  19134.97   5.372226   \n",
       "2022-10-20 17:21:00  19134.97  19149.69  19132.91  19149.69   7.448774   \n",
       "2022-10-20 17:22:00  19146.90  19354.82  10000.00  19161.00  16.813073   \n",
       "...                       ...       ...       ...       ...        ...   \n",
       "2022-10-22 17:13:00  19196.63  19196.70  19194.82  19194.82   2.163762   \n",
       "2022-10-22 17:14:00  19194.82  19195.61  19192.22  19192.50   2.791750   \n",
       "2022-10-22 17:15:00  19192.50  19195.82  19192.47  19193.73   3.988553   \n",
       "2022-10-22 17:16:00  19193.43  19204.90  19193.37  19204.90   6.026428   \n",
       "2022-10-22 17:17:00  19206.19  19208.80  19203.95  19207.93  54.005620   \n",
       "\n",
       "                     Complete  \n",
       "Date                           \n",
       "2022-10-20 17:18:00      True  \n",
       "2022-10-20 17:19:00      True  \n",
       "2022-10-20 17:20:00      True  \n",
       "2022-10-20 17:21:00      True  \n",
       "2022-10-20 17:22:00      True  \n",
       "...                       ...  \n",
       "2022-10-22 17:13:00      True  \n",
       "2022-10-22 17:14:00      True  \n",
       "2022-10-22 17:15:00      True  \n",
       "2022-10-22 17:16:00      True  \n",
       "2022-10-22 17:17:00     False  \n",
       "\n",
       "[2880 rows x 6 columns]"
      ]
     },
     "execution_count": 71,
     "metadata": {},
     "output_type": "execute_result"
    },
    {
     "name": "stdout",
     "output_type": "stream",
     "text": [
      "......"
     ]
    }
   ],
   "source": [
    "trader.data"
   ]
  },
  {
   "cell_type": "code",
   "execution_count": 89,
   "id": "8b34e7f2",
   "metadata": {},
   "outputs": [
    {
     "name": "stdout",
     "output_type": "stream",
     "text": [
      "."
     ]
    },
    {
     "name": "stderr",
     "output_type": "stream",
     "text": [
      "CANCEL read_loop\n"
     ]
    }
   ],
   "source": [
    "trader.twm.stop()"
   ]
  },
  {
   "cell_type": "code",
   "execution_count": 77,
   "id": "5f093262",
   "metadata": {},
   "outputs": [
    {
     "data": {
      "text/html": [
       "<div>\n",
       "<style scoped>\n",
       "    .dataframe tbody tr th:only-of-type {\n",
       "        vertical-align: middle;\n",
       "    }\n",
       "\n",
       "    .dataframe tbody tr th {\n",
       "        vertical-align: top;\n",
       "    }\n",
       "\n",
       "    .dataframe thead th {\n",
       "        text-align: right;\n",
       "    }\n",
       "</style>\n",
       "<table border=\"1\" class=\"dataframe\">\n",
       "  <thead>\n",
       "    <tr style=\"text-align: right;\">\n",
       "      <th></th>\n",
       "      <th>Open</th>\n",
       "      <th>Close</th>\n",
       "      <th>Position</th>\n",
       "    </tr>\n",
       "    <tr>\n",
       "      <th>Date</th>\n",
       "      <th></th>\n",
       "      <th></th>\n",
       "      <th></th>\n",
       "    </tr>\n",
       "  </thead>\n",
       "  <tbody>\n",
       "    <tr>\n",
       "      <th>2022-10-20 17:18:00</th>\n",
       "      <td>19137.51</td>\n",
       "      <td>19136.79</td>\n",
       "      <td>0</td>\n",
       "    </tr>\n",
       "    <tr>\n",
       "      <th>2022-10-20 17:19:00</th>\n",
       "      <td>19137.56</td>\n",
       "      <td>19137.49</td>\n",
       "      <td>0</td>\n",
       "    </tr>\n",
       "    <tr>\n",
       "      <th>2022-10-20 17:20:00</th>\n",
       "      <td>19137.92</td>\n",
       "      <td>19134.97</td>\n",
       "      <td>0</td>\n",
       "    </tr>\n",
       "    <tr>\n",
       "      <th>2022-10-20 17:21:00</th>\n",
       "      <td>19134.97</td>\n",
       "      <td>19149.69</td>\n",
       "      <td>1</td>\n",
       "    </tr>\n",
       "    <tr>\n",
       "      <th>2022-10-20 17:22:00</th>\n",
       "      <td>19146.90</td>\n",
       "      <td>19161.00</td>\n",
       "      <td>1</td>\n",
       "    </tr>\n",
       "    <tr>\n",
       "      <th>...</th>\n",
       "      <td>...</td>\n",
       "      <td>...</td>\n",
       "      <td>...</td>\n",
       "    </tr>\n",
       "    <tr>\n",
       "      <th>2022-10-22 17:15:00</th>\n",
       "      <td>19192.50</td>\n",
       "      <td>19193.73</td>\n",
       "      <td>1</td>\n",
       "    </tr>\n",
       "    <tr>\n",
       "      <th>2022-10-22 17:16:00</th>\n",
       "      <td>19193.43</td>\n",
       "      <td>19204.90</td>\n",
       "      <td>1</td>\n",
       "    </tr>\n",
       "    <tr>\n",
       "      <th>2022-10-22 17:17:00</th>\n",
       "      <td>19206.19</td>\n",
       "      <td>19203.56</td>\n",
       "      <td>0</td>\n",
       "    </tr>\n",
       "    <tr>\n",
       "      <th>2022-10-22 17:18:00</th>\n",
       "      <td>19202.96</td>\n",
       "      <td>19201.01</td>\n",
       "      <td>0</td>\n",
       "    </tr>\n",
       "    <tr>\n",
       "      <th>2022-10-22 17:19:00</th>\n",
       "      <td>19201.01</td>\n",
       "      <td>19200.00</td>\n",
       "      <td>0</td>\n",
       "    </tr>\n",
       "  </tbody>\n",
       "</table>\n",
       "<p>2882 rows × 3 columns</p>\n",
       "</div>"
      ],
      "text/plain": [
       "                         Open     Close  Position\n",
       "Date                                             \n",
       "2022-10-20 17:18:00  19137.51  19136.79         0\n",
       "2022-10-20 17:19:00  19137.56  19137.49         0\n",
       "2022-10-20 17:20:00  19137.92  19134.97         0\n",
       "2022-10-20 17:21:00  19134.97  19149.69         1\n",
       "2022-10-20 17:22:00  19146.90  19161.00         1\n",
       "...                       ...       ...       ...\n",
       "2022-10-22 17:15:00  19192.50  19193.73         1\n",
       "2022-10-22 17:16:00  19193.43  19204.90         1\n",
       "2022-10-22 17:17:00  19206.19  19203.56         0\n",
       "2022-10-22 17:18:00  19202.96  19201.01         0\n",
       "2022-10-22 17:19:00  19201.01  19200.00         0\n",
       "\n",
       "[2882 rows x 3 columns]"
      ]
     },
     "execution_count": 77,
     "metadata": {},
     "output_type": "execute_result"
    },
    {
     "name": "stdout",
     "output_type": "stream",
     "text": [
      ".........................BUYING BITCOIN\n",
      ".............."
     ]
    }
   ],
   "source": [
    "trader.prepare_data"
   ]
  },
  {
   "cell_type": "code",
   "execution_count": null,
   "id": "d67f4632",
   "metadata": {},
   "outputs": [],
   "source": []
  },
  {
   "cell_type": "code",
   "execution_count": 34,
   "id": "4071b7d4",
   "metadata": {},
   "outputs": [],
   "source": []
  },
  {
   "cell_type": "code",
   "execution_count": 35,
   "id": "8a23cd35",
   "metadata": {},
   "outputs": [],
   "source": [
    "trader = LongOnlyTrader(\"BTCUSDT\", \"1m\")"
   ]
  },
  {
   "cell_type": "code",
   "execution_count": 37,
   "id": "9aa205b8",
   "metadata": {},
   "outputs": [
    {
     "name": "stdout",
     "output_type": "stream",
     "text": [
      "Time: 2022-10-22 15:37:45.343000 | Price: 19219.72\n",
      "Time: 2022-10-22 15:37:47.383000 | Price: 19220.99\n",
      "Time: 2022-10-22 15:37:49.439000 | Price: 19220.11\n",
      "Time: 2022-10-22 15:37:51.491000 | Price: 19220.69\n",
      "Time: 2022-10-22 15:37:53.498000 | Price: 19219.82\n",
      "Time: 2022-10-22 15:37:55.687000 | Price: 19219.74\n",
      "Time: 2022-10-22 15:37:57.748000 | Price: 19219.06\n",
      "Time: 2022-10-22 15:37:59.821000 | Price: 19219.38\n",
      "Time: 2022-10-22 15:38:00.003000 | Price: 19219.56\n",
      "Time: 2022-10-22 15:38:02.158000 | Price: 19219.51\n",
      "Time: 2022-10-22 15:38:04.223000 | Price: 19219.2\n",
      "Time: 2022-10-22 15:38:06.255000 | Price: 19219.14\n",
      "Time: 2022-10-22 15:38:08.296000 | Price: 19219.11\n",
      "Time: 2022-10-22 15:38:10.334000 | Price: 19218.81\n",
      "Time: 2022-10-22 15:38:12.617000 | Price: 19219.31\n",
      "Time: 2022-10-22 15:38:14.680000 | Price: 19218.79\n",
      "Time: 2022-10-22 15:38:16.728000 | Price: 19218.65\n",
      "Time: 2022-10-22 15:38:18.828000 | Price: 19218.69\n"
     ]
    }
   ],
   "source": [
    "trader.start_trading()"
   ]
  },
  {
   "cell_type": "raw",
   "id": "135473c8",
   "metadata": {},
   "source": []
  },
  {
   "cell_type": "code",
   "execution_count": 38,
   "id": "f16ab137",
   "metadata": {
    "scrolled": true
   },
   "outputs": [
    {
     "name": "stdout",
     "output_type": "stream",
     "text": [
      "Time: 2022-10-22 15:38:21.012000 | Price: 19219.05\n",
      "Time: 2022-10-22 15:38:23.053000 | Price: 19218.66\n"
     ]
    },
    {
     "name": "stderr",
     "output_type": "stream",
     "text": [
      "CANCEL read_loop\n"
     ]
    }
   ],
   "source": []
  },
  {
   "cell_type": "code",
   "execution_count": 39,
   "id": "e50503f4",
   "metadata": {},
   "outputs": [
    {
     "data": {
      "text/html": [
       "<div>\n",
       "<style scoped>\n",
       "    .dataframe tbody tr th:only-of-type {\n",
       "        vertical-align: middle;\n",
       "    }\n",
       "\n",
       "    .dataframe tbody tr th {\n",
       "        vertical-align: top;\n",
       "    }\n",
       "\n",
       "    .dataframe thead th {\n",
       "        text-align: right;\n",
       "    }\n",
       "</style>\n",
       "<table border=\"1\" class=\"dataframe\">\n",
       "  <thead>\n",
       "    <tr style=\"text-align: right;\">\n",
       "      <th></th>\n",
       "      <th>Open</th>\n",
       "      <th>High</th>\n",
       "      <th>Low</th>\n",
       "      <th>Close</th>\n",
       "      <th>Volume</th>\n",
       "      <th>Complete</th>\n",
       "    </tr>\n",
       "  </thead>\n",
       "  <tbody>\n",
       "    <tr>\n",
       "      <th>2022-10-22 15:37:00</th>\n",
       "      <td>19222.39</td>\n",
       "      <td>19223.39</td>\n",
       "      <td>19218.58</td>\n",
       "      <td>19219.56</td>\n",
       "      <td>59.16527</td>\n",
       "      <td>True</td>\n",
       "    </tr>\n",
       "    <tr>\n",
       "      <th>2022-10-22 15:38:00</th>\n",
       "      <td>19219.38</td>\n",
       "      <td>19219.67</td>\n",
       "      <td>19218.01</td>\n",
       "      <td>19218.66</td>\n",
       "      <td>20.10349</td>\n",
       "      <td>False</td>\n",
       "    </tr>\n",
       "  </tbody>\n",
       "</table>\n",
       "</div>"
      ],
      "text/plain": [
       "                         Open      High       Low     Close    Volume  \\\n",
       "2022-10-22 15:37:00  19222.39  19223.39  19218.58  19219.56  59.16527   \n",
       "2022-10-22 15:38:00  19219.38  19219.67  19218.01  19218.66  20.10349   \n",
       "\n",
       "                     Complete  \n",
       "2022-10-22 15:37:00      True  \n",
       "2022-10-22 15:38:00     False  "
      ]
     },
     "execution_count": 39,
     "metadata": {},
     "output_type": "execute_result"
    }
   ],
   "source": [
    "trader.data"
   ]
  },
  {
   "cell_type": "code",
   "execution_count": null,
   "id": "bad1fd12",
   "metadata": {},
   "outputs": [],
   "source": []
  }
 ],
 "metadata": {
  "kernelspec": {
   "display_name": "Python 3 (ipykernel)",
   "language": "python",
   "name": "python3"
  },
  "language_info": {
   "codemirror_mode": {
    "name": "ipython",
    "version": 3
   },
   "file_extension": ".py",
   "mimetype": "text/x-python",
   "name": "python",
   "nbconvert_exporter": "python",
   "pygments_lexer": "ipython3",
   "version": "3.10.7"
  }
 },
 "nbformat": 4,
 "nbformat_minor": 5
}
