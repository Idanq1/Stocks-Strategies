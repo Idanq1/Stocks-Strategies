{
 "cells": [
  {
   "cell_type": "markdown",
   "metadata": {},
   "source": [
    "# Strategy Optimization &  Forward Testing"
   ]
  },
  {
   "cell_type": "markdown",
   "metadata": {},
   "source": [
    "## Getting started"
   ]
  },
  {
   "cell_type": "code",
   "execution_count": 1,
   "metadata": {},
   "outputs": [
    {
     "name": "stderr",
     "output_type": "stream",
     "text": [
      "C:\\Users\\עידן\\AppData\\Local\\Temp\\ipykernel_39356\\1123596123.py:4: MatplotlibDeprecationWarning: The seaborn styles shipped by Matplotlib are deprecated since 3.6, as they no longer correspond to the styles shipped by seaborn. However, they will remain available as 'seaborn-v0_8-<style>'. Alternatively, directly use the seaborn API instead.\n",
      "  plt.style.use(\"seaborn\")\n"
     ]
    }
   ],
   "source": [
    "import pandas as pd\n",
    "import numpy as np\n",
    "import matplotlib.pyplot as plt\n",
    "plt.style.use(\"seaborn\")"
   ]
  },
  {
   "cell_type": "code",
   "execution_count": 6,
   "metadata": {},
   "outputs": [
    {
     "ename": "ValueError",
     "evalue": "Missing column provided to 'parse_dates': 'Date'",
     "output_type": "error",
     "traceback": [
      "\u001b[1;31m---------------------------------------------------------------------------\u001b[0m",
      "\u001b[1;31mValueError\u001b[0m                                Traceback (most recent call last)",
      "Input \u001b[1;32mIn [6]\u001b[0m, in \u001b[0;36m<cell line: 1>\u001b[1;34m()\u001b[0m\n\u001b[1;32m----> 1\u001b[0m data \u001b[38;5;241m=\u001b[39m \u001b[43mpd\u001b[49m\u001b[38;5;241;43m.\u001b[39;49m\u001b[43mread_csv\u001b[49m\u001b[43m(\u001b[49m\u001b[38;5;124;43m\"\u001b[39;49m\u001b[38;5;124;43mBTC-Hourly.csv\u001b[39;49m\u001b[38;5;124;43m\"\u001b[39;49m\u001b[43m,\u001b[49m\u001b[43m \u001b[49m\u001b[43mparse_dates\u001b[49m\u001b[43m \u001b[49m\u001b[38;5;241;43m=\u001b[39;49m\u001b[43m \u001b[49m\u001b[43m[\u001b[49m\u001b[38;5;124;43m\"\u001b[39;49m\u001b[38;5;124;43mDate\u001b[39;49m\u001b[38;5;124;43m\"\u001b[39;49m\u001b[43m]\u001b[49m\u001b[43m,\u001b[49m\u001b[43m \u001b[49m\u001b[43mindex_col\u001b[49m\u001b[43m \u001b[49m\u001b[38;5;241;43m=\u001b[39;49m\u001b[43m \u001b[49m\u001b[38;5;124;43m\"\u001b[39;49m\u001b[38;5;124;43mDate\u001b[39;49m\u001b[38;5;124;43m\"\u001b[39;49m\u001b[43m)\u001b[49m\n\u001b[0;32m      2\u001b[0m data\n",
      "File \u001b[1;32mC:\\Python\\lib\\site-packages\\pandas\\util\\_decorators.py:311\u001b[0m, in \u001b[0;36mdeprecate_nonkeyword_arguments.<locals>.decorate.<locals>.wrapper\u001b[1;34m(*args, **kwargs)\u001b[0m\n\u001b[0;32m    305\u001b[0m \u001b[38;5;28;01mif\u001b[39;00m \u001b[38;5;28mlen\u001b[39m(args) \u001b[38;5;241m>\u001b[39m num_allow_args:\n\u001b[0;32m    306\u001b[0m     warnings\u001b[38;5;241m.\u001b[39mwarn(\n\u001b[0;32m    307\u001b[0m         msg\u001b[38;5;241m.\u001b[39mformat(arguments\u001b[38;5;241m=\u001b[39marguments),\n\u001b[0;32m    308\u001b[0m         \u001b[38;5;167;01mFutureWarning\u001b[39;00m,\n\u001b[0;32m    309\u001b[0m         stacklevel\u001b[38;5;241m=\u001b[39mstacklevel,\n\u001b[0;32m    310\u001b[0m     )\n\u001b[1;32m--> 311\u001b[0m \u001b[38;5;28;01mreturn\u001b[39;00m func(\u001b[38;5;241m*\u001b[39margs, \u001b[38;5;241m*\u001b[39m\u001b[38;5;241m*\u001b[39mkwargs)\n",
      "File \u001b[1;32mC:\\Python\\lib\\site-packages\\pandas\\io\\parsers\\readers.py:680\u001b[0m, in \u001b[0;36mread_csv\u001b[1;34m(filepath_or_buffer, sep, delimiter, header, names, index_col, usecols, squeeze, prefix, mangle_dupe_cols, dtype, engine, converters, true_values, false_values, skipinitialspace, skiprows, skipfooter, nrows, na_values, keep_default_na, na_filter, verbose, skip_blank_lines, parse_dates, infer_datetime_format, keep_date_col, date_parser, dayfirst, cache_dates, iterator, chunksize, compression, thousands, decimal, lineterminator, quotechar, quoting, doublequote, escapechar, comment, encoding, encoding_errors, dialect, error_bad_lines, warn_bad_lines, on_bad_lines, delim_whitespace, low_memory, memory_map, float_precision, storage_options)\u001b[0m\n\u001b[0;32m    665\u001b[0m kwds_defaults \u001b[38;5;241m=\u001b[39m _refine_defaults_read(\n\u001b[0;32m    666\u001b[0m     dialect,\n\u001b[0;32m    667\u001b[0m     delimiter,\n\u001b[1;32m   (...)\u001b[0m\n\u001b[0;32m    676\u001b[0m     defaults\u001b[38;5;241m=\u001b[39m{\u001b[38;5;124m\"\u001b[39m\u001b[38;5;124mdelimiter\u001b[39m\u001b[38;5;124m\"\u001b[39m: \u001b[38;5;124m\"\u001b[39m\u001b[38;5;124m,\u001b[39m\u001b[38;5;124m\"\u001b[39m},\n\u001b[0;32m    677\u001b[0m )\n\u001b[0;32m    678\u001b[0m kwds\u001b[38;5;241m.\u001b[39mupdate(kwds_defaults)\n\u001b[1;32m--> 680\u001b[0m \u001b[38;5;28;01mreturn\u001b[39;00m \u001b[43m_read\u001b[49m\u001b[43m(\u001b[49m\u001b[43mfilepath_or_buffer\u001b[49m\u001b[43m,\u001b[49m\u001b[43m \u001b[49m\u001b[43mkwds\u001b[49m\u001b[43m)\u001b[49m\n",
      "File \u001b[1;32mC:\\Python\\lib\\site-packages\\pandas\\io\\parsers\\readers.py:575\u001b[0m, in \u001b[0;36m_read\u001b[1;34m(filepath_or_buffer, kwds)\u001b[0m\n\u001b[0;32m    572\u001b[0m _validate_names(kwds\u001b[38;5;241m.\u001b[39mget(\u001b[38;5;124m\"\u001b[39m\u001b[38;5;124mnames\u001b[39m\u001b[38;5;124m\"\u001b[39m, \u001b[38;5;28;01mNone\u001b[39;00m))\n\u001b[0;32m    574\u001b[0m \u001b[38;5;66;03m# Create the parser.\u001b[39;00m\n\u001b[1;32m--> 575\u001b[0m parser \u001b[38;5;241m=\u001b[39m TextFileReader(filepath_or_buffer, \u001b[38;5;241m*\u001b[39m\u001b[38;5;241m*\u001b[39mkwds)\n\u001b[0;32m    577\u001b[0m \u001b[38;5;28;01mif\u001b[39;00m chunksize \u001b[38;5;129;01mor\u001b[39;00m iterator:\n\u001b[0;32m    578\u001b[0m     \u001b[38;5;28;01mreturn\u001b[39;00m parser\n",
      "File \u001b[1;32mC:\\Python\\lib\\site-packages\\pandas\\io\\parsers\\readers.py:933\u001b[0m, in \u001b[0;36mTextFileReader.__init__\u001b[1;34m(self, f, engine, **kwds)\u001b[0m\n\u001b[0;32m    930\u001b[0m     \u001b[38;5;28mself\u001b[39m\u001b[38;5;241m.\u001b[39moptions[\u001b[38;5;124m\"\u001b[39m\u001b[38;5;124mhas_index_names\u001b[39m\u001b[38;5;124m\"\u001b[39m] \u001b[38;5;241m=\u001b[39m kwds[\u001b[38;5;124m\"\u001b[39m\u001b[38;5;124mhas_index_names\u001b[39m\u001b[38;5;124m\"\u001b[39m]\n\u001b[0;32m    932\u001b[0m \u001b[38;5;28mself\u001b[39m\u001b[38;5;241m.\u001b[39mhandles: IOHandles \u001b[38;5;241m|\u001b[39m \u001b[38;5;28;01mNone\u001b[39;00m \u001b[38;5;241m=\u001b[39m \u001b[38;5;28;01mNone\u001b[39;00m\n\u001b[1;32m--> 933\u001b[0m \u001b[38;5;28mself\u001b[39m\u001b[38;5;241m.\u001b[39m_engine \u001b[38;5;241m=\u001b[39m \u001b[38;5;28;43mself\u001b[39;49m\u001b[38;5;241;43m.\u001b[39;49m\u001b[43m_make_engine\u001b[49m\u001b[43m(\u001b[49m\u001b[43mf\u001b[49m\u001b[43m,\u001b[49m\u001b[43m \u001b[49m\u001b[38;5;28;43mself\u001b[39;49m\u001b[38;5;241;43m.\u001b[39;49m\u001b[43mengine\u001b[49m\u001b[43m)\u001b[49m\n",
      "File \u001b[1;32mC:\\Python\\lib\\site-packages\\pandas\\io\\parsers\\readers.py:1235\u001b[0m, in \u001b[0;36mTextFileReader._make_engine\u001b[1;34m(self, f, engine)\u001b[0m\n\u001b[0;32m   1232\u001b[0m     \u001b[38;5;28;01mraise\u001b[39;00m \u001b[38;5;167;01mValueError\u001b[39;00m(msg)\n\u001b[0;32m   1234\u001b[0m \u001b[38;5;28;01mtry\u001b[39;00m:\n\u001b[1;32m-> 1235\u001b[0m     \u001b[38;5;28;01mreturn\u001b[39;00m mapping[engine](f, \u001b[38;5;241m*\u001b[39m\u001b[38;5;241m*\u001b[39m\u001b[38;5;28mself\u001b[39m\u001b[38;5;241m.\u001b[39moptions)\n\u001b[0;32m   1236\u001b[0m \u001b[38;5;28;01mexcept\u001b[39;00m \u001b[38;5;167;01mException\u001b[39;00m:\n\u001b[0;32m   1237\u001b[0m     \u001b[38;5;28;01mif\u001b[39;00m \u001b[38;5;28mself\u001b[39m\u001b[38;5;241m.\u001b[39mhandles \u001b[38;5;129;01mis\u001b[39;00m \u001b[38;5;129;01mnot\u001b[39;00m \u001b[38;5;28;01mNone\u001b[39;00m:\n",
      "File \u001b[1;32mC:\\Python\\lib\\site-packages\\pandas\\io\\parsers\\c_parser_wrapper.py:152\u001b[0m, in \u001b[0;36mCParserWrapper.__init__\u001b[1;34m(self, src, **kwds)\u001b[0m\n\u001b[0;32m    146\u001b[0m         \u001b[38;5;28mself\u001b[39m\u001b[38;5;241m.\u001b[39m_validate_usecols_names(\n\u001b[0;32m    147\u001b[0m             usecols,\n\u001b[0;32m    148\u001b[0m             \u001b[38;5;28mself\u001b[39m\u001b[38;5;241m.\u001b[39mnames,  \u001b[38;5;66;03m# type: ignore[has-type]\u001b[39;00m\n\u001b[0;32m    149\u001b[0m         )\n\u001b[0;32m    151\u001b[0m \u001b[38;5;66;03m# error: Cannot determine type of 'names'\u001b[39;00m\n\u001b[1;32m--> 152\u001b[0m \u001b[38;5;28;43mself\u001b[39;49m\u001b[38;5;241;43m.\u001b[39;49m\u001b[43m_validate_parse_dates_presence\u001b[49m\u001b[43m(\u001b[49m\u001b[38;5;28;43mself\u001b[39;49m\u001b[38;5;241;43m.\u001b[39;49m\u001b[43mnames\u001b[49m\u001b[43m)\u001b[49m  \u001b[38;5;66;03m# type: ignore[has-type]\u001b[39;00m\n\u001b[0;32m    153\u001b[0m \u001b[38;5;28mself\u001b[39m\u001b[38;5;241m.\u001b[39m_set_noconvert_columns()\n\u001b[0;32m    155\u001b[0m \u001b[38;5;66;03m# error: Cannot determine type of 'names'\u001b[39;00m\n",
      "File \u001b[1;32mC:\\Python\\lib\\site-packages\\pandas\\io\\parsers\\base_parser.py:228\u001b[0m, in \u001b[0;36mParserBase._validate_parse_dates_presence\u001b[1;34m(self, columns)\u001b[0m\n\u001b[0;32m    218\u001b[0m missing_cols \u001b[38;5;241m=\u001b[39m \u001b[38;5;124m\"\u001b[39m\u001b[38;5;124m, \u001b[39m\u001b[38;5;124m\"\u001b[39m\u001b[38;5;241m.\u001b[39mjoin(\n\u001b[0;32m    219\u001b[0m     \u001b[38;5;28msorted\u001b[39m(\n\u001b[0;32m    220\u001b[0m         {\n\u001b[1;32m   (...)\u001b[0m\n\u001b[0;32m    225\u001b[0m     )\n\u001b[0;32m    226\u001b[0m )\n\u001b[0;32m    227\u001b[0m \u001b[38;5;28;01mif\u001b[39;00m missing_cols:\n\u001b[1;32m--> 228\u001b[0m     \u001b[38;5;28;01mraise\u001b[39;00m \u001b[38;5;167;01mValueError\u001b[39;00m(\n\u001b[0;32m    229\u001b[0m         \u001b[38;5;124mf\u001b[39m\u001b[38;5;124m\"\u001b[39m\u001b[38;5;124mMissing column provided to \u001b[39m\u001b[38;5;124m'\u001b[39m\u001b[38;5;124mparse_dates\u001b[39m\u001b[38;5;124m'\u001b[39m\u001b[38;5;124m: \u001b[39m\u001b[38;5;124m'\u001b[39m\u001b[38;5;132;01m{\u001b[39;00mmissing_cols\u001b[38;5;132;01m}\u001b[39;00m\u001b[38;5;124m'\u001b[39m\u001b[38;5;124m\"\u001b[39m\n\u001b[0;32m    230\u001b[0m     )\n\u001b[0;32m    231\u001b[0m \u001b[38;5;66;03m# Convert positions to actual column names\u001b[39;00m\n\u001b[0;32m    232\u001b[0m \u001b[38;5;28;01mreturn\u001b[39;00m [\n\u001b[0;32m    233\u001b[0m     col \u001b[38;5;28;01mif\u001b[39;00m (\u001b[38;5;28misinstance\u001b[39m(col, \u001b[38;5;28mstr\u001b[39m) \u001b[38;5;129;01mor\u001b[39;00m col \u001b[38;5;129;01min\u001b[39;00m columns) \u001b[38;5;28;01melse\u001b[39;00m columns[col]\n\u001b[0;32m    234\u001b[0m     \u001b[38;5;28;01mfor\u001b[39;00m col \u001b[38;5;129;01min\u001b[39;00m cols_needed\n\u001b[0;32m    235\u001b[0m ]\n",
      "\u001b[1;31mValueError\u001b[0m: Missing column provided to 'parse_dates': 'Date'"
     ]
    }
   ],
   "source": [
    "data = pd.read_csv(\"BTC-Hourly.csv\", parse_dates = [\"Date\"], index_col = \"Date\")\n",
    "data"
   ]
  },
  {
   "cell_type": "code",
   "execution_count": null,
   "metadata": {},
   "outputs": [],
   "source": [
    "data.info()"
   ]
  },
  {
   "cell_type": "code",
   "execution_count": null,
   "metadata": {},
   "outputs": [],
   "source": [
    "data[\"returns\"] = np.log(data.Close / data.Close.shift(1))\n",
    "data"
   ]
  },
  {
   "cell_type": "code",
   "execution_count": null,
   "metadata": {},
   "outputs": [],
   "source": []
  },
  {
   "cell_type": "markdown",
   "metadata": {},
   "source": [
    "## Strategy Optimization (Part 1)"
   ]
  },
  {
   "cell_type": "markdown",
   "metadata": {},
   "source": [
    "__Three Strategy Parameters:__"
   ]
  },
  {
   "cell_type": "markdown",
   "metadata": {},
   "source": [
    "- Return Threshold: All Returns >= __90th__ Percentile labeled \"Very High Return\"\n",
    "- Low and High Volume Change Threshold: All Volume Changes between __5th__ and __20th__ Percentile labeled \"Moderate to High Decrease in Volume\" "
   ]
  },
  {
   "cell_type": "markdown",
   "metadata": {},
   "source": [
    "__-> Strategy Parameters = (90, 5, 20)__"
   ]
  },
  {
   "cell_type": "code",
   "execution_count": null,
   "metadata": {},
   "outputs": [],
   "source": [
    "data"
   ]
  },
  {
   "cell_type": "code",
   "execution_count": null,
   "metadata": {},
   "outputs": [],
   "source": [
    "def backtest(data, parameters, tc):\n",
    "    \n",
    "    # prepare features\n",
    "    data = data[[\"Close\", \"Volume\", \"returns\"]].copy()\n",
    "    data[\"vol_ch\"] = np.log(data.Volume.div(data.Volume.shift(1)))\n",
    "    data.loc[data.vol_ch > 3, \"vol_ch\"] = np.nan\n",
    "    data.loc[data.vol_ch < -3, \"vol_ch\"] = np.nan\n",
    "    \n",
    "    # define trading positions\n",
    "    return_thresh = np.percentile(data.returns.dropna(), parameters[0])\n",
    "    cond1 = data.returns >= return_thresh\n",
    "    volume_thresh = np.percentile(data.vol_ch.dropna(), [parameters[1], parameters[2]])\n",
    "    cond2 = data.vol_ch.between(volume_thresh[0], volume_thresh[1])\n",
    "    \n",
    "    data[\"position\"] = 1\n",
    "    data.loc[cond1 & cond2, \"position\"] = 0\n",
    "    \n",
    "    # backtest\n",
    "    data[\"strategy\"] = data.position.shift(1) * data[\"returns\"]\n",
    "    data[\"trades\"] = data.position.diff().fillna(0).abs()\n",
    "    data.strategy = data.strategy + data.trades * tc\n",
    "    data[\"creturns\"] = data[\"returns\"].cumsum().apply(np.exp)\n",
    "    data[\"cstrategy\"] = data[\"strategy\"].cumsum().apply(np.exp)\n",
    "    \n",
    "    # return strategy multiple\n",
    "    return data.cstrategy[-1] "
   ]
  },
  {
   "cell_type": "code",
   "execution_count": null,
   "metadata": {},
   "outputs": [],
   "source": [
    "import warnings\n",
    "warnings.filterwarnings('ignore')"
   ]
  },
  {
   "cell_type": "code",
   "execution_count": null,
   "metadata": {},
   "outputs": [],
   "source": [
    "backtest(data = data, parameters = (90, 5, 20), tc = -0.00085)"
   ]
  },
  {
   "cell_type": "code",
   "execution_count": null,
   "metadata": {},
   "outputs": [],
   "source": [
    "return_range = range(85, 98, 1) # potential values for return_thresh\n",
    "vol_low_range = range(2, 16, 1) # potential values for vol_low\n",
    "vol_high_range = range(16, 35, 1) # potential values for vol_high"
   ]
  },
  {
   "cell_type": "code",
   "execution_count": null,
   "metadata": {},
   "outputs": [],
   "source": [
    "list(return_range)"
   ]
  },
  {
   "cell_type": "markdown",
   "metadata": {},
   "source": [
    "__Plan: Run Backtest for all combinations and find the best combination(s)__"
   ]
  },
  {
   "cell_type": "code",
   "execution_count": 3,
   "metadata": {},
   "outputs": [],
   "source": [
    "from itertools import product"
   ]
  },
  {
   "cell_type": "code",
   "execution_count": 4,
   "metadata": {},
   "outputs": [
    {
     "ename": "NameError",
     "evalue": "name 'return_range' is not defined",
     "output_type": "error",
     "traceback": [
      "\u001b[1;31m---------------------------------------------------------------------------\u001b[0m",
      "\u001b[1;31mNameError\u001b[0m                                 Traceback (most recent call last)",
      "Input \u001b[1;32mIn [4]\u001b[0m, in \u001b[0;36m<cell line: 1>\u001b[1;34m()\u001b[0m\n\u001b[1;32m----> 1\u001b[0m combinations \u001b[38;5;241m=\u001b[39m \u001b[38;5;28mlist\u001b[39m(product(\u001b[43mreturn_range\u001b[49m, vol_low_range, vol_high_range))\n\u001b[0;32m      2\u001b[0m combinations\n",
      "\u001b[1;31mNameError\u001b[0m: name 'return_range' is not defined"
     ]
    }
   ],
   "source": [
    "combinations = list(product(return_range, vol_low_range, vol_high_range))\n",
    "combinations"
   ]
  },
  {
   "cell_type": "code",
   "execution_count": 5,
   "metadata": {},
   "outputs": [
    {
     "ename": "NameError",
     "evalue": "name 'combinations' is not defined",
     "output_type": "error",
     "traceback": [
      "\u001b[1;31m---------------------------------------------------------------------------\u001b[0m",
      "\u001b[1;31mNameError\u001b[0m                                 Traceback (most recent call last)",
      "Input \u001b[1;32mIn [5]\u001b[0m, in \u001b[0;36m<cell line: 1>\u001b[1;34m()\u001b[0m\n\u001b[1;32m----> 1\u001b[0m \u001b[38;5;28mlen\u001b[39m(\u001b[43mcombinations\u001b[49m)\n",
      "\u001b[1;31mNameError\u001b[0m: name 'combinations' is not defined"
     ]
    }
   ],
   "source": [
    "len(combinations)"
   ]
  },
  {
   "cell_type": "code",
   "execution_count": null,
   "metadata": {},
   "outputs": [],
   "source": [
    "13 * 14 * 19"
   ]
  },
  {
   "cell_type": "code",
   "execution_count": null,
   "metadata": {},
   "outputs": [],
   "source": [
    "results = []\n",
    "for comb in combinations:\n",
    "    results.append(backtest(data = data, parameters = comb, tc = -0.00085))"
   ]
  },
  {
   "cell_type": "code",
   "execution_count": null,
   "metadata": {},
   "outputs": [],
   "source": [
    "many_results =  pd.DataFrame(data = combinations, columns = [\"returns\", \"vol_low\", \"vol_high\"])\n",
    "many_results[\"performance\"] = results"
   ]
  },
  {
   "cell_type": "code",
   "execution_count": null,
   "metadata": {},
   "outputs": [],
   "source": [
    "many_results"
   ]
  },
  {
   "cell_type": "code",
   "execution_count": null,
   "metadata": {},
   "outputs": [],
   "source": []
  },
  {
   "cell_type": "markdown",
   "metadata": {},
   "source": [
    "## Strategy Optimization (Part 2)"
   ]
  },
  {
   "cell_type": "code",
   "execution_count": null,
   "metadata": {},
   "outputs": [],
   "source": [
    "many_results"
   ]
  },
  {
   "cell_type": "code",
   "execution_count": null,
   "metadata": {},
   "outputs": [],
   "source": [
    "many_results.nlargest(20, \"performance\")"
   ]
  },
  {
   "cell_type": "code",
   "execution_count": null,
   "metadata": {},
   "outputs": [],
   "source": [
    "many_results.nsmallest(20, \"performance\")"
   ]
  },
  {
   "cell_type": "code",
   "execution_count": null,
   "metadata": {},
   "outputs": [],
   "source": [
    "many_results.groupby(\"returns\").performance.mean().plot()\n",
    "plt.show()"
   ]
  },
  {
   "cell_type": "code",
   "execution_count": null,
   "metadata": {},
   "outputs": [],
   "source": [
    "many_results.groupby(\"vol_low\").performance.mean().plot()\n",
    "plt.show()"
   ]
  },
  {
   "cell_type": "code",
   "execution_count": null,
   "metadata": {},
   "outputs": [],
   "source": [
    "many_results.groupby(\"vol_high\").performance.mean().plot()\n",
    "plt.show()"
   ]
  },
  {
   "cell_type": "code",
   "execution_count": null,
   "metadata": {},
   "outputs": [],
   "source": [
    "backtest(data = data, parameters = (94, 11, 27), tc = -0.00085)"
   ]
  },
  {
   "cell_type": "code",
   "execution_count": null,
   "metadata": {},
   "outputs": [],
   "source": [
    "backtest(data = data, parameters = (90, 5, 20), tc = -0.00085)"
   ]
  },
  {
   "cell_type": "code",
   "execution_count": null,
   "metadata": {},
   "outputs": [],
   "source": []
  },
  {
   "cell_type": "markdown",
   "metadata": {},
   "source": [
    "## Putting everything together: a Backtester Class"
   ]
  },
  {
   "cell_type": "code",
   "execution_count": null,
   "metadata": {},
   "outputs": [],
   "source": [
    "import pandas as pd\n",
    "import numpy as np\n",
    "import matplotlib.pyplot as plt\n",
    "from itertools import product\n",
    "import warnings\n",
    "warnings.filterwarnings(\"ignore\")\n",
    "plt.style.use(\"seaborn\")"
   ]
  },
  {
   "cell_type": "markdown",
   "metadata": {},
   "source": [
    "__Why using OOP and creating a class?__"
   ]
  },
  {
   "cell_type": "markdown",
   "metadata": {},
   "source": [
    "- Organizing/Storing/Linking all Functionalities and the Code in one Place/Class (managing/reducing complexity)\n",
    "- Reusability of Code\n",
    "- Framework for many other Strategies (only few adjustment required)"
   ]
  },
  {
   "cell_type": "markdown",
   "metadata": {},
   "source": [
    "Note: You can find a __detailed Tutorial__ on OOP & Classes in the __Appendix__ (at the end of this course)."
   ]
  },
  {
   "cell_type": "code",
   "execution_count": null,
   "metadata": {},
   "outputs": [],
   "source": [
    "class Long_Only_Backtester():\n",
    "    ''' Class for the vectorized backtesting of simple Long-only trading strategies.\n",
    "    \n",
    "    Attributes\n",
    "    ============\n",
    "    filepath: str\n",
    "        local filepath of the dataset (csv-file)\n",
    "    symbol: str\n",
    "        ticker symbol (instrument) to be backtested\n",
    "    start: str\n",
    "        start date for data import\n",
    "    end: str\n",
    "        end date for data import\n",
    "    tc: float\n",
    "        proportional trading costs per trade\n",
    "    \n",
    "    \n",
    "    Methods\n",
    "    =======\n",
    "    get_data:\n",
    "        imports the data.\n",
    "        \n",
    "    test_strategy:\n",
    "        prepares the data and backtests the trading strategy incl. reporting (wrapper).\n",
    "        \n",
    "    prepare_data:\n",
    "        prepares the data for backtesting.\n",
    "    \n",
    "    run_backtest:\n",
    "        runs the strategy backtest.\n",
    "        \n",
    "    plot_results:\n",
    "        plots the cumulative performance of the trading strategy compared to buy-and-hold.\n",
    "        \n",
    "    optimize_strategy:\n",
    "        backtests strategy for different parameter values incl. optimization and reporting (wrapper).\n",
    "    \n",
    "    find_best_strategy:\n",
    "        finds the optimal strategy (global maximum).\n",
    "         \n",
    "        \n",
    "    print_performance:\n",
    "        calculates and prints various performance metrics.\n",
    "        \n",
    "    '''    \n",
    "    \n",
    "    def __init__(self, filepath, symbol, start, end, tc):\n",
    "        \n",
    "        self.filepath = filepath\n",
    "        self.symbol = symbol\n",
    "        self.start = start\n",
    "        self.end = end\n",
    "        self.tc = tc\n",
    "        self.results = None\n",
    "        self.get_data()\n",
    "        self.tp_year = (self.data.Close.count() / ((self.data.index[-1] - self.data.index[0]).days / 365.25))\n",
    "        \n",
    "    def __repr__(self):\n",
    "        return \"Long_Only_Backtester(symbol = {}, start = {}, end = {})\".format(self.symbol, self.start, self.end)\n",
    "        \n",
    "    def get_data(self):\n",
    "        ''' Imports the data.\n",
    "        '''\n",
    "        raw = pd.read_csv(self.filepath, parse_dates = [\"Date\"], index_col = \"Date\")\n",
    "        raw = raw.loc[self.start:self.end].copy()\n",
    "        raw[\"returns\"] = np.log(raw.Close / raw.Close.shift(1))\n",
    "        self.data = raw\n",
    "        \n",
    "    def test_strategy(self, percentiles = None, thresh = None):\n",
    "        '''\n",
    "        Prepares the data and backtests the trading strategy incl. reporting (Wrapper).\n",
    "         \n",
    "        Parameters\n",
    "        ============\n",
    "        percentiles: tuple (return_perc, vol_low_perc, vol_high_perc)\n",
    "            return and volume percentiles to be considered for the strategy.\n",
    "            \n",
    "        thresh: tuple (return_thresh, vol_low_thresh, vol_high_thesh)\n",
    "            return and volume thresholds to be considered for the strategy.\n",
    "        '''\n",
    "        \n",
    "        self.prepare_data(percentiles = percentiles, thresh = thresh)\n",
    "        self.run_backtest()\n",
    "        \n",
    "        data = self.results.copy()\n",
    "        data[\"creturns\"] = data[\"returns\"].cumsum().apply(np.exp)\n",
    "        data[\"cstrategy\"] = data[\"strategy\"].cumsum().apply(np.exp)\n",
    "        self.results = data\n",
    "        \n",
    "        self.print_performance()\n",
    "    \n",
    "    def prepare_data(self, percentiles, thresh):\n",
    "        ''' Prepares the Data for Backtesting.\n",
    "        '''\n",
    "        \n",
    "        data = self.data[[\"Close\", \"Volume\", \"returns\"]].copy()\n",
    "        data[\"vol_ch\"] = np.log(data.Volume.div(data.Volume.shift(1)))\n",
    "        data.loc[data.vol_ch > 3, \"vol_ch\"] = np.nan\n",
    "        data.loc[data.vol_ch < -3, \"vol_ch\"] = np.nan        \n",
    "        \n",
    "        if percentiles:\n",
    "            self.return_thresh = np.percentile(data.returns.dropna(), percentiles[0])\n",
    "            self.volume_thresh = np.percentile(data.vol_ch.dropna(), [percentiles[1], percentiles[2]])\n",
    "        elif thresh:\n",
    "            self.return_thresh = thresh[0]\n",
    "            self.volume_thresh = [thresh[1], thresh[2]]\n",
    "                \n",
    "        cond1 = data.returns >= self.return_thresh\n",
    "        cond2 = data.vol_ch.between(self.volume_thresh[0], self.volume_thresh[1])\n",
    "        \n",
    "        data[\"position\"] = 1\n",
    "        data.loc[cond1 & cond2, \"position\"] = 0\n",
    "\n",
    "        self.results = data\n",
    "    \n",
    "    def run_backtest(self):\n",
    "        ''' Runs the strategy backtest.\n",
    "        '''\n",
    "        \n",
    "        data = self.results.copy()\n",
    "        data[\"strategy\"] = data[\"position\"].shift(1) * data[\"returns\"]\n",
    "        data[\"trades\"] = data.position.diff().fillna(0).abs()\n",
    "        data.strategy = data.strategy + data.trades * self.tc\n",
    "        \n",
    "        self.results = data\n",
    "    \n",
    "    def plot_results(self):\n",
    "        '''  Plots the cumulative performance of the trading strategy compared to buy-and-hold.\n",
    "        '''\n",
    "        if self.results is None:\n",
    "            print(\"Run test_strategy() first.\")\n",
    "        else:\n",
    "            title = \"{} | TC = {}\".format(self.symbol, self.tc)\n",
    "            self.results[[\"creturns\", \"cstrategy\"]].plot(title=title, figsize=(12, 8))\n",
    "            \n",
    "    def optimize_strategy(self, return_range, vol_low_range, vol_high_range, metric = \"Multiple\"):\n",
    "        '''\n",
    "        Backtests strategy for different parameter values incl. Optimization and Reporting (Wrapper).\n",
    "         \n",
    "        Parameters\n",
    "        ============\n",
    "        return_range: tuple\n",
    "            tuples of the form (start, end, step size).\n",
    "            \n",
    "        vol_low_range: tuple\n",
    "            tuples of the form (start, end, step size).\n",
    "        \n",
    "        vol_high_range: tuple\n",
    "            tuples of the form (start, end, step size).\n",
    "        \n",
    "        metric: str\n",
    "            performance metric to be optimized (can be \"Multiple\" or \"Sharpe\")\n",
    "        '''\n",
    "        \n",
    "        self.metric = metric\n",
    "        \n",
    "        if metric == \"Multiple\":\n",
    "            performance_function = self.calculate_multiple\n",
    "        elif metric == \"Sharpe\":\n",
    "            performance_function = self.calculate_sharpe\n",
    "        \n",
    "        return_range = range(*return_range)\n",
    "        vol_low_range = range(*vol_low_range)\n",
    "        vol_high_range = range(*vol_high_range)\n",
    "        \n",
    "        combinations = list(product(return_range, vol_low_range, vol_high_range))\n",
    "        \n",
    "        performance = []\n",
    "        for comb in combinations:\n",
    "            self.prepare_data(percentiles = comb, thresh = None)\n",
    "            self.run_backtest()\n",
    "            performance.append(performance_function(self.results.strategy))\n",
    "    \n",
    "        self.results_overview =  pd.DataFrame(data = np.array(combinations), columns = [\"returns\", \"vol_low\", \"vol_high\"])\n",
    "        self.results_overview[\"performance\"] = performance\n",
    "        self.find_best_strategy()\n",
    "        \n",
    "        \n",
    "    def find_best_strategy(self):\n",
    "        ''' Finds the optimal strategy (global maximum).\n",
    "        '''\n",
    "        \n",
    "        best = self.results_overview.nlargest(1, \"performance\")\n",
    "        return_perc = best.returns.iloc[0]\n",
    "        vol_perc = [best.vol_low.iloc[0], best.vol_high.iloc[0]]\n",
    "        perf = best.performance.iloc[0]\n",
    "        print(\"Return_Perc: {} | Volume_Perc: {} | {}: {}\".format(return_perc, vol_perc, self.metric, round(perf, 5))) \n",
    "        self.test_strategy(percentiles = (return_perc, vol_perc[0], vol_perc[1]))\n",
    "            \n",
    "    ############################## Performance ######################################\n",
    "    \n",
    "    def print_performance(self):\n",
    "        ''' Calculates and prints various Performance Metrics.\n",
    "        '''\n",
    "        \n",
    "        data = self.results.copy()\n",
    "        strategy_multiple = round(self.calculate_multiple(data.strategy), 6)\n",
    "        bh_multiple =       round(self.calculate_multiple(data.returns), 6)\n",
    "        outperf =           round(strategy_multiple - bh_multiple, 6)\n",
    "        cagr =              round(self.calculate_cagr(data.strategy), 6)\n",
    "        ann_mean =          round(self.calculate_annualized_mean(data.strategy), 6)\n",
    "        ann_std =           round(self.calculate_annualized_std(data.strategy), 6)\n",
    "        sharpe =            round(self.calculate_sharpe(data.strategy), 6)\n",
    "       \n",
    "        print(100 * \"=\")\n",
    "        print(\"SIMPLE PRICE & VOLUME STRATEGY | INSTRUMENT = {} | THRESHOLDS = {}, {}\".format(self.symbol, np.round(self.return_thresh, 5), np.round(self.volume_thresh, 5)))\n",
    "        print(100 * \"-\")\n",
    "        print(\"PERFORMANCE MEASURES:\")\n",
    "        print(\"\\n\")\n",
    "        print(\"Multiple (Strategy):         {}\".format(strategy_multiple))\n",
    "        print(\"Multiple (Buy-and-Hold):     {}\".format(bh_multiple))\n",
    "        print(38 * \"-\")\n",
    "        print(\"Out-/Underperformance:       {}\".format(outperf))\n",
    "        print(\"\\n\")\n",
    "        print(\"CAGR:                        {}\".format(cagr))\n",
    "        print(\"Annualized Mean:             {}\".format(ann_mean))\n",
    "        print(\"Annualized Std:              {}\".format(ann_std))\n",
    "        print(\"Sharpe Ratio:                {}\".format(sharpe))\n",
    "        \n",
    "        print(100 * \"=\")\n",
    "        \n",
    "    def calculate_multiple(self, series):\n",
    "        return np.exp(series.sum())\n",
    "    \n",
    "    def calculate_cagr(self, series):\n",
    "        return np.exp(series.sum())**(1/((series.index[-1] - series.index[0]).days / 365.25)) - 1\n",
    "    \n",
    "    def calculate_annualized_mean(self, series):\n",
    "        return series.mean() * self.tp_year\n",
    "    \n",
    "    def calculate_annualized_std(self, series):\n",
    "        return series.std() * np.sqrt(self.tp_year)\n",
    "    \n",
    "    def calculate_sharpe(self, series):\n",
    "        if series.std() == 0:\n",
    "            return np.nan\n",
    "        else:\n",
    "            return self.calculate_cagr(series) / self.calculate_annualized_std(series)\n"
   ]
  },
  {
   "cell_type": "code",
   "execution_count": null,
   "metadata": {},
   "outputs": [],
   "source": [
    "filepath = \"bitcoin.csv\"\n",
    "symbol = \"BTCUSDT\"\n",
    "start = \"2017-08-17\"\n",
    "end = \"2021-10-07\"\n",
    "tc = -0.00085"
   ]
  },
  {
   "cell_type": "code",
   "execution_count": null,
   "metadata": {
    "scrolled": true
   },
   "outputs": [],
   "source": [
    "tester = Long_Only_Backtester(filepath = filepath, symbol = symbol,\n",
    "                              start = start, end = end, tc = tc)"
   ]
  },
  {
   "cell_type": "code",
   "execution_count": null,
   "metadata": {},
   "outputs": [],
   "source": [
    "tester"
   ]
  },
  {
   "cell_type": "code",
   "execution_count": null,
   "metadata": {},
   "outputs": [],
   "source": [
    "tester.data"
   ]
  },
  {
   "cell_type": "code",
   "execution_count": null,
   "metadata": {},
   "outputs": [],
   "source": [
    "tester.test_strategy(percentiles = (90, 5, 20))"
   ]
  },
  {
   "cell_type": "code",
   "execution_count": null,
   "metadata": {},
   "outputs": [],
   "source": [
    "tester.plot_results()"
   ]
  },
  {
   "cell_type": "code",
   "execution_count": null,
   "metadata": {},
   "outputs": [],
   "source": [
    "tester.results"
   ]
  },
  {
   "cell_type": "code",
   "execution_count": null,
   "metadata": {
    "scrolled": true
   },
   "outputs": [],
   "source": [
    "return_thresh = tester.return_thresh\n",
    "return_thresh"
   ]
  },
  {
   "cell_type": "code",
   "execution_count": null,
   "metadata": {},
   "outputs": [],
   "source": [
    "volume_thresh = tester.volume_thresh\n",
    "volume_thresh"
   ]
  },
  {
   "cell_type": "code",
   "execution_count": null,
   "metadata": {},
   "outputs": [],
   "source": [
    "tester.test_strategy(thresh = (return_thresh, volume_thresh[0], volume_thresh[1]))"
   ]
  },
  {
   "cell_type": "code",
   "execution_count": null,
   "metadata": {},
   "outputs": [],
   "source": [
    "tester.optimize_strategy(return_range = (85, 98, 1), \n",
    "                         vol_low_range = (2, 16, 1), \n",
    "                         vol_high_range = (16, 35, 1))"
   ]
  },
  {
   "cell_type": "code",
   "execution_count": null,
   "metadata": {},
   "outputs": [],
   "source": [
    "tester.results_overview.nlargest(20, \"performance\")"
   ]
  },
  {
   "cell_type": "code",
   "execution_count": null,
   "metadata": {},
   "outputs": [],
   "source": [
    "tester.results"
   ]
  },
  {
   "cell_type": "code",
   "execution_count": null,
   "metadata": {},
   "outputs": [],
   "source": [
    "tester.plot_results()"
   ]
  },
  {
   "cell_type": "code",
   "execution_count": null,
   "metadata": {},
   "outputs": [],
   "source": []
  },
  {
   "cell_type": "markdown",
   "metadata": {},
   "source": [
    "## Backtesting & Forward Testing (Part 1)"
   ]
  },
  {
   "cell_type": "markdown",
   "metadata": {},
   "source": [
    "__Great Backtesting Results - Too good to be true?__"
   ]
  },
  {
   "cell_type": "markdown",
   "metadata": {},
   "source": [
    "Two major Problems: "
   ]
  },
  {
   "cell_type": "markdown",
   "metadata": {},
   "source": [
    "- __Data Snooping / \"Over-Optimization\"__ -> Will these parameters work with new/fresh data as well? <br>\n",
    "- __Look-Ahead-Bias__ -> we know all future price and volume data from day 1 to calculate percentiles/thresholds. "
   ]
  },
  {
   "cell_type": "markdown",
   "metadata": {},
   "source": [
    "__Will this strategy outperform Buy-and-Hold in the Future?__"
   ]
  },
  {
   "cell_type": "markdown",
   "metadata": {},
   "source": [
    "- wait months/year(s) and analyze then (not an option)\n",
    "- split past data into __Backtesting Set__ (optimize Strategy) and __Forward Testing Set__ (test optimized Strategy on fresh data)"
   ]
  },
  {
   "cell_type": "markdown",
   "metadata": {},
   "source": [
    "__Backtesting & Optimization (until the end of 2020)__"
   ]
  },
  {
   "cell_type": "code",
   "execution_count": null,
   "metadata": {},
   "outputs": [],
   "source": [
    "filepath = \"bitcoin.csv\"\n",
    "symbol = \"BTCUSDT\"\n",
    "start = \"2017-08-17\"\n",
    "end = \"2020-12-31\"\n",
    "tc = -0.00085"
   ]
  },
  {
   "cell_type": "code",
   "execution_count": null,
   "metadata": {},
   "outputs": [],
   "source": [
    "tester = Long_Only_Backtester(filepath = filepath, symbol = symbol, start = start, end = end, tc = tc)\n",
    "tester"
   ]
  },
  {
   "cell_type": "code",
   "execution_count": null,
   "metadata": {},
   "outputs": [],
   "source": [
    "tester.optimize_strategy((85, 98, 1), (2, 16, 1), (16, 35, 1))"
   ]
  },
  {
   "cell_type": "code",
   "execution_count": null,
   "metadata": {},
   "outputs": [],
   "source": [
    "many_results = tester.results_overview\n",
    "many_results"
   ]
  },
  {
   "cell_type": "code",
   "execution_count": null,
   "metadata": {},
   "outputs": [],
   "source": [
    "many_results.groupby(\"returns\").performance.mean().plot()\n",
    "plt.show()"
   ]
  },
  {
   "cell_type": "code",
   "execution_count": null,
   "metadata": {},
   "outputs": [],
   "source": [
    "many_results.groupby(\"vol_low\").performance.mean().plot()\n",
    "plt.show()"
   ]
  },
  {
   "cell_type": "code",
   "execution_count": null,
   "metadata": {},
   "outputs": [],
   "source": [
    "many_results.groupby(\"vol_high\").performance.mean().plot()\n",
    "plt.show()"
   ]
  },
  {
   "cell_type": "code",
   "execution_count": null,
   "metadata": {},
   "outputs": [],
   "source": [
    "tester.test_strategy((94, 11, 28))"
   ]
  },
  {
   "cell_type": "code",
   "execution_count": null,
   "metadata": {},
   "outputs": [],
   "source": [
    "tester.plot_results()"
   ]
  },
  {
   "cell_type": "code",
   "execution_count": null,
   "metadata": {},
   "outputs": [],
   "source": [
    "return_thresh = tester.return_thresh\n",
    "return_thresh"
   ]
  },
  {
   "cell_type": "code",
   "execution_count": null,
   "metadata": {},
   "outputs": [],
   "source": [
    "volume_thresh = tester.volume_thresh\n",
    "volume_thresh"
   ]
  },
  {
   "cell_type": "code",
   "execution_count": null,
   "metadata": {},
   "outputs": [],
   "source": []
  },
  {
   "cell_type": "markdown",
   "metadata": {},
   "source": [
    "__Forward Testing (starting at 2021-01-01)__"
   ]
  },
  {
   "cell_type": "markdown",
   "metadata": {},
   "source": [
    "we need: thresholds from backtesting"
   ]
  },
  {
   "cell_type": "code",
   "execution_count": null,
   "metadata": {},
   "outputs": [],
   "source": [
    "return_thresh"
   ]
  },
  {
   "cell_type": "code",
   "execution_count": null,
   "metadata": {},
   "outputs": [],
   "source": [
    "volume_thresh"
   ]
  },
  {
   "cell_type": "code",
   "execution_count": null,
   "metadata": {},
   "outputs": [],
   "source": [
    "filepath = \"bitcoin.csv\"\n",
    "symbol = \"BTCUSDT\"\n",
    "start = \"2021-01-01\"\n",
    "end = \"2021-10-7\"\n",
    "tc = -0.00085"
   ]
  },
  {
   "cell_type": "code",
   "execution_count": null,
   "metadata": {},
   "outputs": [],
   "source": [
    "tester = Long_Only_Backtester(filepath = filepath, symbol = symbol, start = start, end = end, tc = tc)\n",
    "tester"
   ]
  },
  {
   "cell_type": "code",
   "execution_count": null,
   "metadata": {},
   "outputs": [],
   "source": [
    "tester.test_strategy(thresh = (return_thresh, volume_thresh[0], volume_thresh[1]))"
   ]
  },
  {
   "cell_type": "code",
   "execution_count": null,
   "metadata": {},
   "outputs": [],
   "source": [
    "tester.plot_results()"
   ]
  },
  {
   "cell_type": "code",
   "execution_count": null,
   "metadata": {},
   "outputs": [],
   "source": [
    "tester.results.position.value_counts()"
   ]
  },
  {
   "cell_type": "markdown",
   "metadata": {},
   "source": [
    "__Reasons for Performance Difference between Backtesting and Forward Testing:__"
   ]
  },
  {
   "cell_type": "markdown",
   "metadata": {},
   "source": [
    "- Data Snooping / Over-Optimization (partly)\n",
    "- Look-Ahead-Bias (partly)"
   ]
  },
  {
   "cell_type": "code",
   "execution_count": null,
   "metadata": {},
   "outputs": [],
   "source": [
    "tester.optimize_strategy((85, 98, 1), (5, 15, 1), (15, 35, 1))"
   ]
  },
  {
   "cell_type": "code",
   "execution_count": null,
   "metadata": {},
   "outputs": [],
   "source": [
    "tester.plot_results()"
   ]
  },
  {
   "cell_type": "markdown",
   "metadata": {},
   "source": [
    "- Overall Regime Change (Patterns can change over time)\n",
    "- Strategy not powerful enough"
   ]
  },
  {
   "cell_type": "code",
   "execution_count": null,
   "metadata": {},
   "outputs": [],
   "source": []
  }
 ],
 "metadata": {
  "kernelspec": {
   "display_name": "Python 3 (ipykernel)",
   "language": "python",
   "name": "python3"
  },
  "language_info": {
   "codemirror_mode": {
    "name": "ipython",
    "version": 3
   },
   "file_extension": ".py",
   "mimetype": "text/x-python",
   "name": "python",
   "nbconvert_exporter": "python",
   "pygments_lexer": "ipython3",
   "version": "3.10.4"
  }
 },
 "nbformat": 4,
 "nbformat_minor": 4
}
