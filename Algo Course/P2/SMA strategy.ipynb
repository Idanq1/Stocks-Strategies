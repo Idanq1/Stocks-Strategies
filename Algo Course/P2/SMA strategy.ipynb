{
 "cells": [
  {
   "cell_type": "code",
   "execution_count": 2,
   "id": "e43e35d3",
   "metadata": {},
   "outputs": [],
   "source": [
    "from binance import ThreadedWebsocketManager\n",
    "from binance.client import Client\n",
    "import pandas as pd\n",
    "import numpy as np\n",
    "import datetime"
   ]
  },
  {
   "cell_type": "code",
   "execution_count": 3,
   "id": "bfb9ca29",
   "metadata": {},
   "outputs": [],
   "source": [
    "api_key = \"DAX5KWi4IudakbEVvmQsjgqRYkSVycWQralfOuIWr7xSyQ4chqn192dLS4QGkG1q\"  # TESTING testnet.binance.vision\n",
    "api_secret = \"i5YaSzFjlZTkrqsdMzEGUoukzkKehozhtNi0E5XPVP2UnbzyDuFB8RJuN1JMSTKZ\"  # TESTING testnet.binance.vision"
   ]
  },
  {
   "cell_type": "code",
   "execution_count": 4,
   "id": "54199eda",
   "metadata": {},
   "outputs": [],
   "source": [
    "client = Client(api_key=api_key, api_secret=api_secret, testnet=True)"
   ]
  },
  {
   "cell_type": "code",
   "execution_count": 5,
   "id": "ee0525a7",
   "metadata": {},
   "outputs": [
    {
     "data": {
      "text/plain": [
       "{'makerCommission': 0,\n",
       " 'takerCommission': 0,\n",
       " 'buyerCommission': 0,\n",
       " 'sellerCommission': 0,\n",
       " 'canTrade': True,\n",
       " 'canWithdraw': False,\n",
       " 'canDeposit': False,\n",
       " 'brokered': False,\n",
       " 'updateTime': 1666462260922,\n",
       " 'accountType': 'SPOT',\n",
       " 'balances': [{'asset': 'BNB',\n",
       "   'free': '1000.00000000',\n",
       "   'locked': '0.00000000'},\n",
       "  {'asset': 'BTC', 'free': '1.00000000', 'locked': '0.00000000'},\n",
       "  {'asset': 'BUSD', 'free': '10000.00000000', 'locked': '0.00000000'},\n",
       "  {'asset': 'ETH', 'free': '100.00000000', 'locked': '0.00000000'},\n",
       "  {'asset': 'LTC', 'free': '500.00000000', 'locked': '0.00000000'},\n",
       "  {'asset': 'TRX', 'free': '500000.00000000', 'locked': '0.00000000'},\n",
       "  {'asset': 'USDT', 'free': '9996.04744177', 'locked': '0.00000000'},\n",
       "  {'asset': 'XRP', 'free': '50000.00000000', 'locked': '0.00000000'}],\n",
       " 'permissions': ['SPOT']}"
      ]
     },
     "execution_count": 5,
     "metadata": {},
     "output_type": "execute_result"
    }
   ],
   "source": [
    "client.get_account()"
   ]
  },
  {
   "cell_type": "code",
   "execution_count": null,
   "id": "cc268582",
   "metadata": {},
   "outputs": [],
   "source": [
    "class LongOnlyTrader():\n",
    "    \n",
    "    def __init__(self, symbol, interval, sma1, sma2, sma3 units=0.1, position=0):\n",
    "        self.symbol = symbol\n",
    "        self.interval = interval\n",
    "        self.units = units\n",
    "        self.position = position\n",
    "        self.sma1 = sma1\n",
    "        self.sma2 = sma2\n",
    "        self.sma3 = sma3\n",
    "        self.available_intervals = [\"1m\", \"3m\", \"5m\", \"15m\", \"30m\", \"1h\", \"2h\", \"4h\", \"6h\", \"8h\", \"12h\", \"1d\", \"3d\", \"1w\", \"1M\"]\n",
    "\n",
    "            #####Strategy attributs#####\n",
    "        self.sma1 = sma1\n",
    "        self.sma2 = sma2\n",
    "        self.sma3 = sma3\n",
    "\n",
    "    def start_trading(self, past_days=2):\n",
    "        self.twm = ThreadedWebsocketManager()\n",
    "        self.twm.start()\n",
    "        \n",
    "        if self.interval in self.available_intervals:\n",
    "            self.get_recent_prices(past_days)\n",
    "            self.twm.start_kline_socket(callback=self.stream_candles,\n",
    "                                        symbol=self.symbol, interval=self.interval)\n",
    "        # \"else\" to be added later in the course \n",
    "    \n",
    "    def get_recent_prices(self, past_days):\n",
    "        now = datetime.datetime.utcnow()\n",
    "        past = str(now - datetime.timedelta(days=past_days))\n",
    "        \n",
    "        bars = client.get_historical_klines(self.symbol, self.interval, past)\n",
    "        \n",
    "        df = pd.DataFrame(bars)\n",
    "        df[\"Date\"] = pd.to_datetime(df.iloc[:,0], unit = \"ms\")\n",
    "        df.columns = [\"Open Time\", \"Open\", \"High\", \"Low\", \"Close\", \"Volume\",\n",
    "                      \"Clos Time\", \"Quote Asset Volume\", \"Number of Trades\",\n",
    "                      \"Taker Buy Base Asset Volume\", \"Taker Buy Quote Asset Volume\", \"Ignore\", \"Date\"]\n",
    "        df = df[[\"Date\", \"Open\", \"High\", \"Low\", \"Close\", \"Volume\"]].copy()\n",
    "        df.set_index(\"Date\", inplace=True)\n",
    "        for column in df.columns:\n",
    "            df[column] = pd.to_numeric(df[column], errors = \"coerce\")\n",
    "        df[\"Complete\"] = [True for row in range(len(df)-1)] + [False]\n",
    "        \n",
    "        self.data = df\n",
    "\n",
    "    def stream_candles(self, msg):\n",
    "        \n",
    "        # extract the required items from msg\n",
    "        event_time = pd.to_datetime(msg[\"E\"], unit = \"ms\")\n",
    "        start_time = pd.to_datetime(msg[\"k\"][\"t\"], unit = \"ms\")\n",
    "        first   = float(msg[\"k\"][\"o\"])\n",
    "        high    = float(msg[\"k\"][\"h\"])\n",
    "        low     = float(msg[\"k\"][\"l\"])\n",
    "        close   = float(msg[\"k\"][\"c\"])\n",
    "        volume  = float(msg[\"k\"][\"v\"])\n",
    "        complete=       msg[\"k\"][\"x\"]\n",
    "    \n",
    "        # print out\n",
    "        print(\".\", end=\"\", flush=True)\n",
    "    \n",
    "        # feed df (add new bar / update latest bar)\n",
    "        self.data.loc[start_time] = [first, high, low, close, volume, complete]\n",
    "        \n",
    "        if complete:\n",
    "            self.define_strategy()\n",
    "            self.execute_order()\n",
    "\n",
    "    def define_strategy(self):\n",
    "        df = self.data.copy()\n",
    "        df = df[[\"Open\", \"Close\"]]\n",
    "        # Define strategy  --  If last candle is green, buy. If red, sell\n",
    "        cond = df.Open > df.Close  # Red candle\n",
    "        \n",
    "        df[\"Position\"] = 1\n",
    "        df.loc[cond, \"Position\"] = 0\n",
    "        \n",
    "        self.prepare_data = df.copy()\n",
    "        \n",
    "    def execute_order(self):\n",
    "        if self.prepare_data[\"Position\"].iloc[-1] == 1:  # Buy\n",
    "            if self.position == 0:\n",
    "                order = client.create_order(symbol=self.symbol, side=\"SELL\", type=\"MARKET\", quantity=self.units)\n",
    "#                 order = client.create_order(symbol=self.symbol, side=\"BUY\", type=\"MARKET\", quantity=self.units)\n",
    "                self.position = 1\n",
    "                print(\"BUYING BITCOIN\")\n",
    "\n",
    "        if self.prepare_data[\"Position\"].iloc[-1] == 0: # Sell:\n",
    "            if self.position == 1:\n",
    "#                 order = client.create_order(symbol=self.symbol, side=\"SELL\", type=\"MARKET\", quantity=self.units)\n",
    "                order = client.create_order(symbol=self.symbol, side=\"BUY\", type=\"MARKET\", quantity=self.units)\n",
    "                self.position = 0\n",
    "                print(\"SELLING BITCOIN\")"
   ]
  }
 ],
 "metadata": {
  "kernelspec": {
   "display_name": "Python 3 (ipykernel)",
   "language": "python",
   "name": "python3"
  },
  "language_info": {
   "codemirror_mode": {
    "name": "ipython",
    "version": 3
   },
   "file_extension": ".py",
   "mimetype": "text/x-python",
   "name": "python",
   "nbconvert_exporter": "python",
   "pygments_lexer": "ipython3",
   "version": "3.10.4"
  }
 },
 "nbformat": 4,
 "nbformat_minor": 5
}
