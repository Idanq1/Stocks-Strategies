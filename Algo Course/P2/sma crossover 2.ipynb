{
 "cells": [
  {
   "cell_type": "code",
   "execution_count": 5,
   "id": "4a8ec7f4",
   "metadata": {},
   "outputs": [],
   "source": [
    "from binance.client import Client\n",
    "import matplotlib.pyplot as plt\n",
    "from itertools import product\n",
    "import pandas as pd\n",
    "import numpy as np\n",
    "import talib"
   ]
  },
  {
   "cell_type": "code",
   "execution_count": 3,
   "id": "4192fbee",
   "metadata": {},
   "outputs": [],
   "source": [
    "api_key = \"8AiGAyxlhYQaRpE1s7097hx5sZ12Ogtr8ir9DsyztaD5j24LrI0fEoToDzCI5lle\"\n",
    "api_secret = \"VhudTs0HsBVFNdSTghmqfCjUuIXF6rFiXIfROxHIaM71TGgib7NeZ5aOsJUHjI9f\""
   ]
  },
  {
   "cell_type": "code",
   "execution_count": 6,
   "id": "5e21d133",
   "metadata": {},
   "outputs": [],
   "source": [
    "client = Client(api_key=api_key, api_secret=api_secret)"
   ]
  },
  {
   "cell_type": "code",
   "execution_count": 8,
   "id": "05273fdc",
   "metadata": {},
   "outputs": [],
   "source": [
    "def get_history(symbol, interval, start=None, end=None):\n",
    "    if not start:\n",
    "        start = \"1900-01-01\"  # Just random old time for maximum candles\n",
    "    bars = client.get_historical_klines(symbol=symbol, interval=interval, start_str=start, end_str=end, limit=1000)\n",
    "    \n",
    "    df = pd.DataFrame(bars)\n",
    "    df[\"Date\"] = pd.to_datetime(df.iloc[:,0], unit=\"ms\")\n",
    "    df.columns = [\"Open Time\", \"Open\", \"High\", \"Low\", \"Close\", \"Volume\", \"Close Time\", \"Quote Asset Volume\", \"Number Of Trades\", \"Taker Buy Base Asset Volume\", \"Taker Buy Quote Asset Volume\", \"Ignore\", \"Date\"]\n",
    "    df = df[[\"Date\", \"Open\", \"High\", \"Low\", \"Close\", \"Volume\"]].copy()\n",
    "    df.set_index(\"Date\", inplace=True)\n",
    "\n",
    "    for column in df.columns:\n",
    "        df[column] = pd.to_numeric(df[column], errors=\"coerce\")\n",
    "    return df"
   ]
  },
  {
   "cell_type": "code",
   "execution_count": 10,
   "id": "77739635",
   "metadata": {},
   "outputs": [],
   "source": [
    "def update_btcfile(interval=\"1m\"):\n",
    "    df = get_history(\"BTCUSDT\", interval, \"10-01-01\")\n",
    "    df.to_csv(\"test_min.csv\")\n",
    "#     df = pd.read_csv(\"test.csv\", parse_dates=[\"Date\"], index_col=\"Date\")\n",
    "update_btcfile()"
   ]
  },
  {
   "cell_type": "code",
   "execution_count": 16,
   "id": "1a323558",
   "metadata": {},
   "outputs": [],
   "source": [
    "class strategy_tester():\n",
    "    def __init__(self, filepath, units=1, tc=0.1):\n",
    "        self.filepath = filepath\n",
    "        self.units = units\n",
    "        self.tc = tc\n",
    "\n",
    "    def get_data(self):\n",
    "        self.data = pd.read_csv(\"test.csv\", parse_dates=[\"Date\"], index_col=\"Date\")\n",
    "        \n",
    "    def prepare_data(self, sma1, sma2):\n",
    "        df = self.data.copy()\n",
    "        df[\"returns\"] = np.log(df.Close.div(df.Close.shift(1)))\n",
    "        df[\"sma1\"] = df.Close.rolling(sma1).mean()\n",
    "        df[\"sma2\"] = df.Close.rolling(sma2).mean()\n",
    "#         df[\"rsi\"] = talib.RSI(df.Close, 14)\n",
    "#         condition = (df.sma1 > df.sma2) & (df.rsi < rsi)\n",
    "        condition = df.sma1 > df.sma2\n",
    "    \n",
    "        df[\"position\"] = 0\n",
    "        df.loc[condition, \"position\"] = 1\n",
    "    \n",
    "        self.data = df\n",
    "    \n",
    "    def run_backtest(self):\n",
    "        df = self.data.copy()\n",
    "        df[\"strategy\"] = df.returns * df.position.shift(1)\n",
    "        df[\"trades\"] = df.position.diff().fillna(0).abs()  # To calculate fees and shit\n",
    "        df.strategy = df.strategy + (df.trades * self.tc)  # Calculate fees and shit\n",
    "        print(df.trades * self.tc)\n",
    "        df[\"creturns\"] = df.returns.cumsum().apply(np.exp)\n",
    "        df[\"cstrategy\"] = df.strategy.cumsum().apply(np.exp)\n",
    "        self.data = df.copy()\n",
    "        \n",
    "    def test_strategy(self, sma1, sma2):\n",
    "        self.get_data()\n",
    "        df = self.data\n",
    "        self.prepare_data(sma1, sma2)\n",
    "        self.run_backtest()\n",
    "        \n",
    "    def optimize_strategy(self, sma1r, sma2r):\n",
    "        self.datas = []\n",
    "        performance = []\n",
    "        combinations = list(product(sma1r, sma2r))\n",
    "        for comb in combinations:\n",
    "            self.test_strategy(comb[0], comb[1])\n",
    "#             self.datas.append(self.data)\n",
    "            performance.append(self.calc_creturn(self.data))\n",
    "        self.results_overview =  pd.DataFrame(data=np.array(combinations), columns=[\"sma1\", \"sma2\"])\n",
    "        self.results_overview[\"cstrategy\"] = performance\n",
    "        \n",
    "    def calc_creturn(self, series):\n",
    "        return float(series[[\"strategy\"]].sum().apply(np.exp))"
   ]
  },
  {
   "cell_type": "code",
   "execution_count": 13,
   "id": "8585b084",
   "metadata": {},
   "outputs": [
    {
     "data": {
      "text/html": [
       "<div>\n",
       "<style scoped>\n",
       "    .dataframe tbody tr th:only-of-type {\n",
       "        vertical-align: middle;\n",
       "    }\n",
       "\n",
       "    .dataframe tbody tr th {\n",
       "        vertical-align: top;\n",
       "    }\n",
       "\n",
       "    .dataframe thead th {\n",
       "        text-align: right;\n",
       "    }\n",
       "</style>\n",
       "<table border=\"1\" class=\"dataframe\">\n",
       "  <thead>\n",
       "    <tr style=\"text-align: right;\">\n",
       "      <th></th>\n",
       "      <th>Open</th>\n",
       "      <th>High</th>\n",
       "      <th>Low</th>\n",
       "      <th>Close</th>\n",
       "      <th>Volume</th>\n",
       "    </tr>\n",
       "    <tr>\n",
       "      <th>Date</th>\n",
       "      <th></th>\n",
       "      <th></th>\n",
       "      <th></th>\n",
       "      <th></th>\n",
       "      <th></th>\n",
       "    </tr>\n",
       "  </thead>\n",
       "  <tbody>\n",
       "    <tr>\n",
       "      <th>2017-08-17 04:00:00</th>\n",
       "      <td>4261.48</td>\n",
       "      <td>4261.48</td>\n",
       "      <td>4261.48</td>\n",
       "      <td>4261.48</td>\n",
       "      <td>1.775183</td>\n",
       "    </tr>\n",
       "    <tr>\n",
       "      <th>2017-08-17 04:01:00</th>\n",
       "      <td>4261.48</td>\n",
       "      <td>4261.48</td>\n",
       "      <td>4261.48</td>\n",
       "      <td>4261.48</td>\n",
       "      <td>0.000000</td>\n",
       "    </tr>\n",
       "    <tr>\n",
       "      <th>2017-08-17 04:02:00</th>\n",
       "      <td>4280.56</td>\n",
       "      <td>4280.56</td>\n",
       "      <td>4280.56</td>\n",
       "      <td>4280.56</td>\n",
       "      <td>0.261074</td>\n",
       "    </tr>\n",
       "    <tr>\n",
       "      <th>2017-08-17 04:03:00</th>\n",
       "      <td>4261.48</td>\n",
       "      <td>4261.48</td>\n",
       "      <td>4261.48</td>\n",
       "      <td>4261.48</td>\n",
       "      <td>0.012008</td>\n",
       "    </tr>\n",
       "    <tr>\n",
       "      <th>2017-08-17 04:04:00</th>\n",
       "      <td>4261.48</td>\n",
       "      <td>4261.48</td>\n",
       "      <td>4261.48</td>\n",
       "      <td>4261.48</td>\n",
       "      <td>0.140796</td>\n",
       "    </tr>\n",
       "    <tr>\n",
       "      <th>...</th>\n",
       "      <td>...</td>\n",
       "      <td>...</td>\n",
       "      <td>...</td>\n",
       "      <td>...</td>\n",
       "      <td>...</td>\n",
       "    </tr>\n",
       "    <tr>\n",
       "      <th>2022-11-19 16:18:00</th>\n",
       "      <td>16653.34</td>\n",
       "      <td>16654.02</td>\n",
       "      <td>16649.33</td>\n",
       "      <td>16650.50</td>\n",
       "      <td>51.259330</td>\n",
       "    </tr>\n",
       "    <tr>\n",
       "      <th>2022-11-19 16:19:00</th>\n",
       "      <td>16650.57</td>\n",
       "      <td>16655.09</td>\n",
       "      <td>16650.22</td>\n",
       "      <td>16652.68</td>\n",
       "      <td>51.113220</td>\n",
       "    </tr>\n",
       "    <tr>\n",
       "      <th>2022-11-19 16:20:00</th>\n",
       "      <td>16652.35</td>\n",
       "      <td>16653.75</td>\n",
       "      <td>16651.26</td>\n",
       "      <td>16651.26</td>\n",
       "      <td>21.105880</td>\n",
       "    </tr>\n",
       "    <tr>\n",
       "      <th>2022-11-19 16:21:00</th>\n",
       "      <td>16651.26</td>\n",
       "      <td>16653.76</td>\n",
       "      <td>16651.01</td>\n",
       "      <td>16652.89</td>\n",
       "      <td>39.052040</td>\n",
       "    </tr>\n",
       "    <tr>\n",
       "      <th>2022-11-19 16:22:00</th>\n",
       "      <td>16652.89</td>\n",
       "      <td>16653.90</td>\n",
       "      <td>16648.44</td>\n",
       "      <td>16650.01</td>\n",
       "      <td>50.054430</td>\n",
       "    </tr>\n",
       "  </tbody>\n",
       "</table>\n",
       "<p>2756991 rows × 5 columns</p>\n",
       "</div>"
      ],
      "text/plain": [
       "                         Open      High       Low     Close     Volume\n",
       "Date                                                                  \n",
       "2017-08-17 04:00:00   4261.48   4261.48   4261.48   4261.48   1.775183\n",
       "2017-08-17 04:01:00   4261.48   4261.48   4261.48   4261.48   0.000000\n",
       "2017-08-17 04:02:00   4280.56   4280.56   4280.56   4280.56   0.261074\n",
       "2017-08-17 04:03:00   4261.48   4261.48   4261.48   4261.48   0.012008\n",
       "2017-08-17 04:04:00   4261.48   4261.48   4261.48   4261.48   0.140796\n",
       "...                       ...       ...       ...       ...        ...\n",
       "2022-11-19 16:18:00  16653.34  16654.02  16649.33  16650.50  51.259330\n",
       "2022-11-19 16:19:00  16650.57  16655.09  16650.22  16652.68  51.113220\n",
       "2022-11-19 16:20:00  16652.35  16653.75  16651.26  16651.26  21.105880\n",
       "2022-11-19 16:21:00  16651.26  16653.76  16651.01  16652.89  39.052040\n",
       "2022-11-19 16:22:00  16652.89  16653.90  16648.44  16650.01  50.054430\n",
       "\n",
       "[2756991 rows x 5 columns]"
      ]
     },
     "execution_count": 13,
     "metadata": {},
     "output_type": "execute_result"
    }
   ],
   "source": [
    "df = pd.read_csv(\"test_min.csv\", parse_dates=[\"Date\"], index_col=\"Date\")\n",
    "df"
   ]
  },
  {
   "cell_type": "code",
   "execution_count": 25,
   "id": "8eafa4dd",
   "metadata": {},
   "outputs": [],
   "source": [
    "tester = strategy_tester(\"test_min.csv\", tc=-0.0001)"
   ]
  },
  {
   "cell_type": "code",
   "execution_count": 26,
   "id": "de2335b2",
   "metadata": {},
   "outputs": [
    {
     "name": "stdout",
     "output_type": "stream",
     "text": [
      "Date\n",
      "2017-08-17 04:00:00   -0.0000\n",
      "2017-08-17 05:00:00   -0.0000\n",
      "2017-08-17 06:00:00   -0.0000\n",
      "2017-08-17 07:00:00   -0.0000\n",
      "2017-08-17 08:00:00   -0.0000\n",
      "                        ...  \n",
      "2022-11-19 11:00:00   -0.0000\n",
      "2022-11-19 12:00:00   -0.0000\n",
      "2022-11-19 13:00:00   -0.0001\n",
      "2022-11-19 14:00:00   -0.0000\n",
      "2022-11-19 15:00:00   -0.0000\n",
      "Name: trades, Length: 45965, dtype: float64\n"
     ]
    }
   ],
   "source": [
    "tester.test_strategy(7 ,20)"
   ]
  },
  {
   "cell_type": "code",
   "execution_count": 27,
   "id": "2001d0cc",
   "metadata": {},
   "outputs": [
    {
     "data": {
      "text/plain": [
       "<AxesSubplot:xlabel='Date'>"
      ]
     },
     "execution_count": 27,
     "metadata": {},
     "output_type": "execute_result"
    },
    {
     "data": {
      "image/png": "[encoded data removed]",
      "text/plain": [
       "<Figure size 864x576 with 1 Axes>"
      ]
     },
     "metadata": {
      "needs_background": "light"
     },
     "output_type": "display_data"
    }
   ],
   "source": [
    "tester.data[[\"cstrategy\", \"creturns\"]].plot(figsize=(12, 8))"
   ]
  },
  {
   "cell_type": "code",
   "execution_count": 28,
   "id": "302c3379",
   "metadata": {},
   "outputs": [
    {
     "data": {
      "text/plain": [
       "returns      3.867235\n",
       "strategy    12.062340\n",
       "dtype: float64"
      ]
     },
     "execution_count": 28,
     "metadata": {},
     "output_type": "execute_result"
    }
   ],
   "source": [
    "tester.data[[\"returns\", \"strategy\"]].sum().apply(np.exp)"
   ]
  },
  {
   "cell_type": "code",
   "execution_count": null,
   "id": "96ddfbaf",
   "metadata": {},
   "outputs": [],
   "source": []
  }
 ],
 "metadata": {
  "kernelspec": {
   "display_name": "Python 3 (ipykernel)",
   "language": "python",
   "name": "python3"
  },
  "language_info": {
   "codemirror_mode": {
    "name": "ipython",
    "version": 3
   },
   "file_extension": ".py",
   "mimetype": "text/x-python",
   "name": "python",
   "nbconvert_exporter": "python",
   "pygments_lexer": "ipython3",
   "version": "3.10.4"
  }
 },
 "nbformat": 4,
 "nbformat_minor": 5
}
