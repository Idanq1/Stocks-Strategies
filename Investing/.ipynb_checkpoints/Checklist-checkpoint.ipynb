{
 "cells": [
  {
   "cell_type": "code",
   "execution_count": 39,
   "metadata": {
    "ExecuteTime": {
     "end_time": "2024-01-15T11:50:57.683711400Z",
     "start_time": "2024-01-15T11:50:57.641562Z"
    },
    "tags": []
   },
   "outputs": [],
   "source": [
    "from datetime import datetime, timedelta, timezone\n",
    "from IPython.display import clear_output\n",
    "import pandas_datareader.data as web\n",
    "import matplotlib.pyplot as plt\n",
    "import yfinance as yf\n",
    "import pandas as pd\n",
    "import numpy as np\n",
    "import pyautogui\n",
    "import math\n",
    "import time\n",
    "\n",
    "pd.options.display.float_format = '{:,.2f}'.format"
   ]
  },
  {
   "cell_type": "markdown",
   "metadata": {},
   "source": [
    "# Download data"
   ]
  },
  {
   "cell_type": "markdown",
   "metadata": {},
   "source": [
    "### Fetching tickers from nasdaq and filtering out ETFs and stocks that we have a problem getting their prices"
   ]
  },
  {
   "cell_type": "code",
   "execution_count": 3,
   "metadata": {
    "ExecuteTime": {
     "end_time": "2024-01-15T10:47:18.645145200Z",
     "start_time": "2024-01-15T10:47:18.642152100Z"
    },
    "collapsed": false,
    "jupyter": {
     "outputs_hidden": false
    }
   },
   "outputs": [],
   "source": [
    "def get_all_tickers(etf=False):\n",
    "    # Get a list of all available tickers from Yahoo Finance\n",
    "    all_tickers = web.get_nasdaq_symbols()\n",
    "    all_tickers = all_tickers[~all_tickers[\"Test Issue\"]]  # Filter out stocks that we can't fetch their data for some reason\n",
    "\n",
    "    if not etf:\n",
    "        all_tickers = all_tickers[~all_tickers[\"ETF\"]]  # Filter out ETFs\n",
    "    tickers = all_tickers.index.tolist()\n",
    "    return [str(ticker) for ticker in tickers if str(ticker).isalpha()]"
   ]
  },
  {
   "cell_type": "code",
   "execution_count": 4,
   "metadata": {
    "ExecuteTime": {
     "end_time": "2024-01-15T10:47:18.669079100Z",
     "start_time": "2024-01-15T10:47:18.645145200Z"
    },
    "collapsed": false,
    "jupyter": {
     "outputs_hidden": false
    }
   },
   "outputs": [],
   "source": [
    "def get_data(tickers_list, p=\"max\"):\n",
    "    return yf.download(tickers_list, period=p, interval=\"1d\")"
   ]
  },
  {
   "cell_type": "code",
   "execution_count": 5,
   "metadata": {
    "ExecuteTime": {
     "end_time": "2024-01-15T10:47:21.847755600Z",
     "start_time": "2024-01-15T10:47:20.388784200Z"
    },
    "collapsed": false,
    "jupyter": {
     "outputs_hidden": false
    }
   },
   "outputs": [
    {
     "name": "stderr",
     "output_type": "stream",
     "text": [
      "[*********************100%%**********************]  20 of 20 completed\n"
     ]
    }
   ],
   "source": [
    "tickers = get_all_tickers()[:20]\n",
    "# tickers = [\"TSLA\", \"AAPL\", \"MSFT\", \"NVDA\", \"GOOG\", \"AACI\"]\n",
    "data = get_data(tickers)"
   ]
  },
  {
   "cell_type": "code",
   "execution_count": 6,
   "metadata": {
    "ExecuteTime": {
     "end_time": "2024-01-15T10:47:22.520954700Z",
     "start_time": "2024-01-15T10:47:22.481062Z"
    },
    "collapsed": false,
    "jupyter": {
     "outputs_hidden": false
    }
   },
   "outputs": [],
   "source": [
    "data_cop = data.copy()"
   ]
  },
  {
   "cell_type": "code",
   "execution_count": 7,
   "metadata": {
    "ExecuteTime": {
     "end_time": "2024-01-15T10:47:25.775787900Z",
     "start_time": "2024-01-15T10:47:25.676797800Z"
    },
    "collapsed": false,
    "jupyter": {
     "outputs_hidden": false
    }
   },
   "outputs": [],
   "source": [
    "new_df = pd.DataFrame(index=data_cop.index.year.unique(), columns=data_cop.columns)\n",
    "new_df.drop(\"Adj Close\", axis=1, level=0, inplace=True)\n",
    "new_df[\"Volume\"] = data_cop[\"Volume\"].groupby(data_cop.index.year).mean()\n",
    "new_df[\"Close\"] = data_cop[\"Close\"].groupby(data_cop.index.year).last()\n",
    "new_df[\"Open\"] = data_cop[\"Open\"].groupby(data_cop.index.year).first()\n",
    "new_df[\"High\"] = data_cop[\"High\"].groupby(data_cop.index.year).max()\n",
    "new_df[\"Low\"] = data_cop[\"Low\"].groupby(data_cop.index.year).min()\n",
    "for stock in new_df[\"Close\"].columns:\n",
    "    new_df[\"Change\", stock] = np.nan\n",
    "new_df[\"Change\"] = new_df.xs(\"Close\", axis=1, level=0).pct_change() * 100"
   ]
  },
  {
   "cell_type": "code",
   "execution_count": 8,
   "metadata": {
    "ExecuteTime": {
     "end_time": "2024-01-15T11:19:53.817453400Z",
     "start_time": "2024-01-15T11:19:53.790446200Z"
    },
    "collapsed": false,
    "jupyter": {
     "outputs_hidden": false
    }
   },
   "outputs": [
    {
     "data": {
      "text/html": [
       "<div>\n",
       "<style scoped>\n",
       "    .dataframe tbody tr th:only-of-type {\n",
       "        vertical-align: middle;\n",
       "    }\n",
       "\n",
       "    .dataframe tbody tr th {\n",
       "        vertical-align: top;\n",
       "    }\n",
       "\n",
       "    .dataframe thead th {\n",
       "        text-align: right;\n",
       "    }\n",
       "</style>\n",
       "<table border=\"1\" class=\"dataframe\">\n",
       "  <thead>\n",
       "    <tr style=\"text-align: right;\">\n",
       "      <th></th>\n",
       "      <th>Years up</th>\n",
       "      <th>Div yield</th>\n",
       "      <th>Sector</th>\n",
       "      <th>avg daily vol</th>\n",
       "      <th>Total Revenue Incr</th>\n",
       "      <th>Gross Margin</th>\n",
       "      <th>Gross Profit Incr</th>\n",
       "      <th>Trading years</th>\n",
       "    </tr>\n",
       "  </thead>\n",
       "  <tbody>\n",
       "    <tr>\n",
       "      <th>A</th>\n",
       "      <td>NaN</td>\n",
       "      <td>NaN</td>\n",
       "      <td>NaN</td>\n",
       "      <td>NaN</td>\n",
       "      <td>NaN</td>\n",
       "      <td>NaN</td>\n",
       "      <td>NaN</td>\n",
       "      <td>NaN</td>\n",
       "    </tr>\n",
       "    <tr>\n",
       "      <th>AA</th>\n",
       "      <td>NaN</td>\n",
       "      <td>NaN</td>\n",
       "      <td>NaN</td>\n",
       "      <td>NaN</td>\n",
       "      <td>NaN</td>\n",
       "      <td>NaN</td>\n",
       "      <td>NaN</td>\n",
       "      <td>NaN</td>\n",
       "    </tr>\n",
       "    <tr>\n",
       "      <th>AACG</th>\n",
       "      <td>NaN</td>\n",
       "      <td>NaN</td>\n",
       "      <td>NaN</td>\n",
       "      <td>NaN</td>\n",
       "      <td>NaN</td>\n",
       "      <td>NaN</td>\n",
       "      <td>NaN</td>\n",
       "      <td>NaN</td>\n",
       "    </tr>\n",
       "    <tr>\n",
       "      <th>AACI</th>\n",
       "      <td>NaN</td>\n",
       "      <td>NaN</td>\n",
       "      <td>NaN</td>\n",
       "      <td>NaN</td>\n",
       "      <td>NaN</td>\n",
       "      <td>NaN</td>\n",
       "      <td>NaN</td>\n",
       "      <td>NaN</td>\n",
       "    </tr>\n",
       "    <tr>\n",
       "      <th>AACIU</th>\n",
       "      <td>NaN</td>\n",
       "      <td>NaN</td>\n",
       "      <td>NaN</td>\n",
       "      <td>NaN</td>\n",
       "      <td>NaN</td>\n",
       "      <td>NaN</td>\n",
       "      <td>NaN</td>\n",
       "      <td>NaN</td>\n",
       "    </tr>\n",
       "    <tr>\n",
       "      <th>AACIW</th>\n",
       "      <td>NaN</td>\n",
       "      <td>NaN</td>\n",
       "      <td>NaN</td>\n",
       "      <td>NaN</td>\n",
       "      <td>NaN</td>\n",
       "      <td>NaN</td>\n",
       "      <td>NaN</td>\n",
       "      <td>NaN</td>\n",
       "    </tr>\n",
       "    <tr>\n",
       "      <th>AACT</th>\n",
       "      <td>NaN</td>\n",
       "      <td>NaN</td>\n",
       "      <td>NaN</td>\n",
       "      <td>NaN</td>\n",
       "      <td>NaN</td>\n",
       "      <td>NaN</td>\n",
       "      <td>NaN</td>\n",
       "      <td>NaN</td>\n",
       "    </tr>\n",
       "    <tr>\n",
       "      <th>AADI</th>\n",
       "      <td>NaN</td>\n",
       "      <td>NaN</td>\n",
       "      <td>NaN</td>\n",
       "      <td>NaN</td>\n",
       "      <td>NaN</td>\n",
       "      <td>NaN</td>\n",
       "      <td>NaN</td>\n",
       "      <td>NaN</td>\n",
       "    </tr>\n",
       "    <tr>\n",
       "      <th>AAGR</th>\n",
       "      <td>NaN</td>\n",
       "      <td>NaN</td>\n",
       "      <td>NaN</td>\n",
       "      <td>NaN</td>\n",
       "      <td>NaN</td>\n",
       "      <td>NaN</td>\n",
       "      <td>NaN</td>\n",
       "      <td>NaN</td>\n",
       "    </tr>\n",
       "    <tr>\n",
       "      <th>AAGRW</th>\n",
       "      <td>NaN</td>\n",
       "      <td>NaN</td>\n",
       "      <td>NaN</td>\n",
       "      <td>NaN</td>\n",
       "      <td>NaN</td>\n",
       "      <td>NaN</td>\n",
       "      <td>NaN</td>\n",
       "      <td>NaN</td>\n",
       "    </tr>\n",
       "    <tr>\n",
       "      <th>AAL</th>\n",
       "      <td>NaN</td>\n",
       "      <td>NaN</td>\n",
       "      <td>NaN</td>\n",
       "      <td>NaN</td>\n",
       "      <td>NaN</td>\n",
       "      <td>NaN</td>\n",
       "      <td>NaN</td>\n",
       "      <td>NaN</td>\n",
       "    </tr>\n",
       "    <tr>\n",
       "      <th>AAMC</th>\n",
       "      <td>NaN</td>\n",
       "      <td>NaN</td>\n",
       "      <td>NaN</td>\n",
       "      <td>NaN</td>\n",
       "      <td>NaN</td>\n",
       "      <td>NaN</td>\n",
       "      <td>NaN</td>\n",
       "      <td>NaN</td>\n",
       "    </tr>\n",
       "    <tr>\n",
       "      <th>AAME</th>\n",
       "      <td>NaN</td>\n",
       "      <td>NaN</td>\n",
       "      <td>NaN</td>\n",
       "      <td>NaN</td>\n",
       "      <td>NaN</td>\n",
       "      <td>NaN</td>\n",
       "      <td>NaN</td>\n",
       "      <td>NaN</td>\n",
       "    </tr>\n",
       "    <tr>\n",
       "      <th>AAN</th>\n",
       "      <td>NaN</td>\n",
       "      <td>NaN</td>\n",
       "      <td>NaN</td>\n",
       "      <td>NaN</td>\n",
       "      <td>NaN</td>\n",
       "      <td>NaN</td>\n",
       "      <td>NaN</td>\n",
       "      <td>NaN</td>\n",
       "    </tr>\n",
       "    <tr>\n",
       "      <th>AAOI</th>\n",
       "      <td>NaN</td>\n",
       "      <td>NaN</td>\n",
       "      <td>NaN</td>\n",
       "      <td>NaN</td>\n",
       "      <td>NaN</td>\n",
       "      <td>NaN</td>\n",
       "      <td>NaN</td>\n",
       "      <td>NaN</td>\n",
       "    </tr>\n",
       "    <tr>\n",
       "      <th>AAON</th>\n",
       "      <td>NaN</td>\n",
       "      <td>NaN</td>\n",
       "      <td>NaN</td>\n",
       "      <td>NaN</td>\n",
       "      <td>NaN</td>\n",
       "      <td>NaN</td>\n",
       "      <td>NaN</td>\n",
       "      <td>NaN</td>\n",
       "    </tr>\n",
       "    <tr>\n",
       "      <th>AAP</th>\n",
       "      <td>NaN</td>\n",
       "      <td>NaN</td>\n",
       "      <td>NaN</td>\n",
       "      <td>NaN</td>\n",
       "      <td>NaN</td>\n",
       "      <td>NaN</td>\n",
       "      <td>NaN</td>\n",
       "      <td>NaN</td>\n",
       "    </tr>\n",
       "    <tr>\n",
       "      <th>AAPL</th>\n",
       "      <td>NaN</td>\n",
       "      <td>NaN</td>\n",
       "      <td>NaN</td>\n",
       "      <td>NaN</td>\n",
       "      <td>NaN</td>\n",
       "      <td>NaN</td>\n",
       "      <td>NaN</td>\n",
       "      <td>NaN</td>\n",
       "    </tr>\n",
       "    <tr>\n",
       "      <th>AAT</th>\n",
       "      <td>NaN</td>\n",
       "      <td>NaN</td>\n",
       "      <td>NaN</td>\n",
       "      <td>NaN</td>\n",
       "      <td>NaN</td>\n",
       "      <td>NaN</td>\n",
       "      <td>NaN</td>\n",
       "      <td>NaN</td>\n",
       "    </tr>\n",
       "    <tr>\n",
       "      <th>AAU</th>\n",
       "      <td>NaN</td>\n",
       "      <td>NaN</td>\n",
       "      <td>NaN</td>\n",
       "      <td>NaN</td>\n",
       "      <td>NaN</td>\n",
       "      <td>NaN</td>\n",
       "      <td>NaN</td>\n",
       "      <td>NaN</td>\n",
       "    </tr>\n",
       "  </tbody>\n",
       "</table>\n",
       "</div>"
      ],
      "text/plain": [
       "      Years up Div yield Sector avg daily vol Total Revenue Incr Gross Margin  \\\n",
       "A          NaN       NaN    NaN           NaN                NaN          NaN   \n",
       "AA         NaN       NaN    NaN           NaN                NaN          NaN   \n",
       "AACG       NaN       NaN    NaN           NaN                NaN          NaN   \n",
       "AACI       NaN       NaN    NaN           NaN                NaN          NaN   \n",
       "AACIU      NaN       NaN    NaN           NaN                NaN          NaN   \n",
       "AACIW      NaN       NaN    NaN           NaN                NaN          NaN   \n",
       "AACT       NaN       NaN    NaN           NaN                NaN          NaN   \n",
       "AADI       NaN       NaN    NaN           NaN                NaN          NaN   \n",
       "AAGR       NaN       NaN    NaN           NaN                NaN          NaN   \n",
       "AAGRW      NaN       NaN    NaN           NaN                NaN          NaN   \n",
       "AAL        NaN       NaN    NaN           NaN                NaN          NaN   \n",
       "AAMC       NaN       NaN    NaN           NaN                NaN          NaN   \n",
       "AAME       NaN       NaN    NaN           NaN                NaN          NaN   \n",
       "AAN        NaN       NaN    NaN           NaN                NaN          NaN   \n",
       "AAOI       NaN       NaN    NaN           NaN                NaN          NaN   \n",
       "AAON       NaN       NaN    NaN           NaN                NaN          NaN   \n",
       "AAP        NaN       NaN    NaN           NaN                NaN          NaN   \n",
       "AAPL       NaN       NaN    NaN           NaN                NaN          NaN   \n",
       "AAT        NaN       NaN    NaN           NaN                NaN          NaN   \n",
       "AAU        NaN       NaN    NaN           NaN                NaN          NaN   \n",
       "\n",
       "      Gross Profit Incr Trading years  \n",
       "A                   NaN           NaN  \n",
       "AA                  NaN           NaN  \n",
       "AACG                NaN           NaN  \n",
       "AACI                NaN           NaN  \n",
       "AACIU               NaN           NaN  \n",
       "AACIW               NaN           NaN  \n",
       "AACT                NaN           NaN  \n",
       "AADI                NaN           NaN  \n",
       "AAGR                NaN           NaN  \n",
       "AAGRW               NaN           NaN  \n",
       "AAL                 NaN           NaN  \n",
       "AAMC                NaN           NaN  \n",
       "AAME                NaN           NaN  \n",
       "AAN                 NaN           NaN  \n",
       "AAOI                NaN           NaN  \n",
       "AAON                NaN           NaN  \n",
       "AAP                 NaN           NaN  \n",
       "AAPL                NaN           NaN  \n",
       "AAT                 NaN           NaN  \n",
       "AAU                 NaN           NaN  "
      ]
     },
     "execution_count": 8,
     "metadata": {},
     "output_type": "execute_result"
    }
   ],
   "source": [
    "stocks_checklist = pd.DataFrame(index=new_df[\"Close\"].columns, columns=[\"Years up\", \"Div yield\", \"Sector\", \"avg daily vol\", \"Total Revenue Incr\", \"Gross Margin\", \"Gross Profit Incr\", \"Trading years\"])\n",
    "\n",
    "stocks_checklist"
   ]
  },
  {
   "cell_type": "code",
   "execution_count": 25,
   "metadata": {
    "ExecuteTime": {
     "end_time": "2024-01-15T11:54:20.633983800Z",
     "start_time": "2024-01-15T11:54:18.072035400Z"
    },
    "collapsed": false,
    "jupyter": {
     "outputs_hidden": false
    }
   },
   "outputs": [
    {
     "name": "stdout",
     "output_type": "stream",
     "text": [
      "AAU\n",
      "13/13\n"
     ]
    }
   ],
   "source": [
    "stocks_checklist = pd.DataFrame(index=new_df[\"Close\"].columns, columns=[\"Years up\", \"Div yield\", \"Sector\", \"avg daily vol\", \"Total Revenue Incr\", \"Gross Margin\", \"Gross Profit Incr\", \"Trading years\"])\n",
    "\n",
    "tickers = list(new_df[\"Close\"].columns)  # In case some of the tickers failed, this is the ticker list straight from the returned df\n",
    "# Years up in a row\n",
    "tmp = new_df[\"Change\"].copy().iloc[::-1]\n",
    "tmp.fillna(-1, inplace=True)\n",
    "neg_year = tmp.apply(lambda x: x[x < 0].index[0] if any(x<0) else None)\n",
    "current_year = tmp.index[0]\n",
    "stocks_checklist[\"Years up\"] = current_year - neg_year.copy()\n",
    "# stocks_checklist[\"Years up\"] = 1\n",
    "stocks_checklist[\"avg daily vol\"] = new_df[\"Volume\"].copy().iloc[-1:].mean()\n",
    "stocks_checklist[\"avg daily vol\"] = stocks_checklist[\"avg daily vol\"].fillna(0)\n",
    "\n",
    "# Eliminate by avg daily vol, so it'll be faster\n",
    "stocks_checklist = stocks_checklist[stocks_checklist[\"avg daily vol\"] > 40000]\n",
    "\n",
    "# Div yield\n",
    "print(f\"0/{len(stocks_checklist.index)}\")\n",
    "i = 1\n",
    "for ticker in stocks_checklist.index:\n",
    "    clear_output(wait=True)\n",
    "    print(ticker)\n",
    "    print(f\"{i}/{len(stocks_checklist.index)}\")\n",
    "    i += 1\n",
    "    tmp = yf.Ticker(ticker)\n",
    "    start_date = (datetime.now() - timedelta(days = 365))\n",
    "    start_date = start_date.replace(tzinfo=timezone.utc)\n",
    "    div_sum = tmp.dividends.loc[start_date:].sum()\n",
    "    close_price = new_df[\"Close\"][ticker].iloc[-1]\n",
    "    div_yield = (div_sum/close_price) * 100\n",
    "    stocks_checklist.loc[ticker, \"Div yield\"] = div_yield\n",
    "    # Sector\n",
    "    if \"sector\" in tmp.info:\n",
    "        stocks_checklist.loc[ticker, \"Sector\"] = tmp.info[\"sector\"]\n",
    "    \n",
    "    if \"Gross Profit\" in tmp.income_stmt.index:\n",
    "        # Average Gross margin over the last 3 income statements\n",
    "        if tmp.income_stmt.loc[\"Total Revenue\"].all() > 0:\n",
    "            stocks_checklist.loc[ticker, \"Gross Margin\"] = ((tmp.income_stmt.loc[\"Gross Profit\"].iloc[::-1] / tmp.income_stmt.loc[\"Total Revenue\"].iloc[::-1]) * 100).mean()  # Gross margin of the last 3 years\n",
    "        \n",
    "        # Gross profit increase percentage over the last 3 years (3 income statements)\n",
    "        stocks_checklist.loc[ticker, \"Gross Profit Incr\"] = tmp.income_stmt.loc[\"Gross Profit\"].iloc[::-1].pct_change().mean() * 100\n",
    "    \n",
    "    # Total Revenue increase percentage over the last 3 years (3 income statements)\n",
    "    stocks_checklist.loc[ticker, \"Total Revenue Incr\"] = tmp.income_stmt.loc[\"Total Revenue\"].iloc[::-1].pct_change().mean() * 100\n",
    "    \n",
    "    # How long the stock is trading for\n",
    "    if \"firstTradeDateEpochUtc\" in tmp.info:\n",
    "        tmp.info\n",
    "        epoch = tmp.info[\"firstTradeDateEpochUtc\"]\n",
    "        if epoch > 0:\n",
    "            fty = datetime.fromtimestamp(tmp.info[\"firstTradeDateEpochUtc\"]).year  # First trade year\n",
    "        else:\n",
    "            fty = (datetime(1970, 1, 1) + timedelta(seconds=epoch)).year\n",
    "        stocks_checklist.loc[ticker, \"Trading years\"] = current_year - fty\n",
    "    \n",
    "stocks_checklist[\"Div yield\"].replace(0.0, np.nan, inplace=True)"
   ]
  },
  {
   "cell_type": "code",
   "execution_count": 64,
   "metadata": {
    "ExecuteTime": {
     "end_time": "2024-01-15T11:54:20.637946400Z",
     "start_time": "2024-01-15T11:54:20.625977900Z"
    },
    "collapsed": false,
    "jupyter": {
     "outputs_hidden": false
    }
   },
   "outputs": [
    {
     "data": {
      "text/html": [
       "<div>\n",
       "<style scoped>\n",
       "    .dataframe tbody tr th:only-of-type {\n",
       "        vertical-align: middle;\n",
       "    }\n",
       "\n",
       "    .dataframe tbody tr th {\n",
       "        vertical-align: top;\n",
       "    }\n",
       "\n",
       "    .dataframe thead th {\n",
       "        text-align: right;\n",
       "    }\n",
       "</style>\n",
       "<table border=\"1\" class=\"dataframe\">\n",
       "  <thead>\n",
       "    <tr style=\"text-align: right;\">\n",
       "      <th></th>\n",
       "      <th>Years up</th>\n",
       "      <th>Div yield</th>\n",
       "      <th>Sector</th>\n",
       "      <th>avg daily vol</th>\n",
       "      <th>Total Revenue Incr</th>\n",
       "      <th>Gross Margin</th>\n",
       "      <th>Gross Profit Incr</th>\n",
       "      <th>Trading years</th>\n",
       "    </tr>\n",
       "  </thead>\n",
       "  <tbody>\n",
       "    <tr>\n",
       "      <th>A</th>\n",
       "      <td>0</td>\n",
       "      <td>0.70</td>\n",
       "      <td>Healthcare</td>\n",
       "      <td>1,641,677.78</td>\n",
       "      <td>8.84</td>\n",
       "      <td>53.03</td>\n",
       "      <td>7.48</td>\n",
       "      <td>25</td>\n",
       "    </tr>\n",
       "    <tr>\n",
       "      <th>AA</th>\n",
       "      <td>0</td>\n",
       "      <td>1.33</td>\n",
       "      <td>Basic Materials</td>\n",
       "      <td>5,312,355.56</td>\n",
       "      <td>16.66</td>\n",
       "      <td>18.95</td>\n",
       "      <td>51.19</td>\n",
       "      <td>62</td>\n",
       "    </tr>\n",
       "    <tr>\n",
       "      <th>AACT</th>\n",
       "      <td>1</td>\n",
       "      <td>NaN</td>\n",
       "      <td>Financial Services</td>\n",
       "      <td>49,822.22</td>\n",
       "      <td>NaN</td>\n",
       "      <td>NaN</td>\n",
       "      <td>NaN</td>\n",
       "      <td>1</td>\n",
       "    </tr>\n",
       "    <tr>\n",
       "      <th>AADI</th>\n",
       "      <td>0</td>\n",
       "      <td>NaN</td>\n",
       "      <td>Healthcare</td>\n",
       "      <td>484,377.78</td>\n",
       "      <td>664.37</td>\n",
       "      <td>95.61</td>\n",
       "      <td>1,288.10</td>\n",
       "      <td>6</td>\n",
       "    </tr>\n",
       "    <tr>\n",
       "      <th>AAGR</th>\n",
       "      <td>0</td>\n",
       "      <td>NaN</td>\n",
       "      <td>Consumer Defensive</td>\n",
       "      <td>447,844.44</td>\n",
       "      <td>inf</td>\n",
       "      <td>NaN</td>\n",
       "      <td>-inf</td>\n",
       "      <td>3</td>\n",
       "    </tr>\n",
       "    <tr>\n",
       "      <th>AAL</th>\n",
       "      <td>0</td>\n",
       "      <td>NaN</td>\n",
       "      <td>Industrials</td>\n",
       "      <td>42,581,300.00</td>\n",
       "      <td>68.12</td>\n",
       "      <td>-7.71</td>\n",
       "      <td>16,635.00</td>\n",
       "      <td>19</td>\n",
       "    </tr>\n",
       "    <tr>\n",
       "      <th>AAN</th>\n",
       "      <td>0</td>\n",
       "      <td>4.78</td>\n",
       "      <td>Industrials</td>\n",
       "      <td>293,600.00</td>\n",
       "      <td>14.13</td>\n",
       "      <td>58.98</td>\n",
       "      <td>3.60</td>\n",
       "      <td>4</td>\n",
       "    </tr>\n",
       "    <tr>\n",
       "      <th>AAOI</th>\n",
       "      <td>0</td>\n",
       "      <td>NaN</td>\n",
       "      <td>Technology</td>\n",
       "      <td>3,070,822.22</td>\n",
       "      <td>-2.25</td>\n",
       "      <td>18.15</td>\n",
       "      <td>-18.11</td>\n",
       "      <td>11</td>\n",
       "    </tr>\n",
       "    <tr>\n",
       "      <th>AAON</th>\n",
       "      <td>0</td>\n",
       "      <td>0.56</td>\n",
       "      <td>Industrials</td>\n",
       "      <td>327,300.00</td>\n",
       "      <td>35.08</td>\n",
       "      <td>27.60</td>\n",
       "      <td>30.40</td>\n",
       "      <td>32</td>\n",
       "    </tr>\n",
       "    <tr>\n",
       "      <th>AAP</th>\n",
       "      <td>1</td>\n",
       "      <td>3.67</td>\n",
       "      <td>Consumer Cyclical</td>\n",
       "      <td>1,409,511.11</td>\n",
       "      <td>5.12</td>\n",
       "      <td>44.55</td>\n",
       "      <td>5.33</td>\n",
       "      <td>23</td>\n",
       "    </tr>\n",
       "    <tr>\n",
       "      <th>AAPL</th>\n",
       "      <td>0</td>\n",
       "      <td>0.51</td>\n",
       "      <td>Technology</td>\n",
       "      <td>57,060,266.67</td>\n",
       "      <td>12.75</td>\n",
       "      <td>41.86</td>\n",
       "      <td>18.80</td>\n",
       "      <td>44</td>\n",
       "    </tr>\n",
       "    <tr>\n",
       "      <th>AAT</th>\n",
       "      <td>1</td>\n",
       "      <td>5.63</td>\n",
       "      <td>Real Estate</td>\n",
       "      <td>261,744.44</td>\n",
       "      <td>10.76</td>\n",
       "      <td>64.75</td>\n",
       "      <td>9.97</td>\n",
       "      <td>13</td>\n",
       "    </tr>\n",
       "    <tr>\n",
       "      <th>AAU</th>\n",
       "      <td>1</td>\n",
       "      <td>NaN</td>\n",
       "      <td>Basic Materials</td>\n",
       "      <td>126,100.00</td>\n",
       "      <td>NaN</td>\n",
       "      <td>NaN</td>\n",
       "      <td>-7.14</td>\n",
       "      <td>19</td>\n",
       "    </tr>\n",
       "  </tbody>\n",
       "</table>\n",
       "</div>"
      ],
      "text/plain": [
       "      Years up  Div yield              Sector  avg daily vol  \\\n",
       "A            0       0.70          Healthcare   1,641,677.78   \n",
       "AA           0       1.33     Basic Materials   5,312,355.56   \n",
       "AACT         1        NaN  Financial Services      49,822.22   \n",
       "AADI         0        NaN          Healthcare     484,377.78   \n",
       "AAGR         0        NaN  Consumer Defensive     447,844.44   \n",
       "AAL          0        NaN         Industrials  42,581,300.00   \n",
       "AAN          0       4.78         Industrials     293,600.00   \n",
       "AAOI         0        NaN          Technology   3,070,822.22   \n",
       "AAON         0       0.56         Industrials     327,300.00   \n",
       "AAP          1       3.67   Consumer Cyclical   1,409,511.11   \n",
       "AAPL         0       0.51          Technology  57,060,266.67   \n",
       "AAT          1       5.63         Real Estate     261,744.44   \n",
       "AAU          1        NaN     Basic Materials     126,100.00   \n",
       "\n",
       "     Total Revenue Incr Gross Margin Gross Profit Incr Trading years  \n",
       "A                  8.84        53.03              7.48            25  \n",
       "AA                16.66        18.95             51.19            62  \n",
       "AACT                NaN          NaN               NaN             1  \n",
       "AADI             664.37        95.61          1,288.10             6  \n",
       "AAGR                inf          NaN              -inf             3  \n",
       "AAL               68.12        -7.71         16,635.00            19  \n",
       "AAN               14.13        58.98              3.60             4  \n",
       "AAOI              -2.25        18.15            -18.11            11  \n",
       "AAON              35.08        27.60             30.40            32  \n",
       "AAP                5.12        44.55              5.33            23  \n",
       "AAPL              12.75        41.86             18.80            44  \n",
       "AAT               10.76        64.75              9.97            13  \n",
       "AAU                 NaN          NaN             -7.14            19  "
      ]
     },
     "execution_count": 64,
     "metadata": {},
     "output_type": "execute_result"
    }
   ],
   "source": [
    "# stocks_checklist[\"avg daily vol\"].fillna(0, inplace=True)\n",
    "stocks_checklist"
   ]
  },
  {
   "cell_type": "markdown",
   "metadata": {},
   "source": [
    "# Scoring"
   ]
  },
  {
   "cell_type": "code",
   "execution_count": 415,
   "metadata": {},
   "outputs": [],
   "source": [
    "def gaussian(x, peak):\n",
    "    # exp = peak * np.exp(-(x - mu)**2 / (2 * sigma**2))\n",
    "    # right_side = (A * np.exp(-(x + mu)**2 / (2 * sigma_right**2)) + 10)\n",
    "    lim = (-4/(x*0.6)) + peak\n",
    "    return lim"
   ]
  },
  {
   "cell_type": "code",
   "execution_count": 419,
   "metadata": {},
   "outputs": [
    {
     "data": {
      "text/plain": [
       "array([0.69787042, 1.3320013 , 4.78011471, 0.5648122 , 3.67047313,\n",
       "       0.51097247, 5.63380274])"
      ]
     },
     "execution_count": 419,
     "metadata": {},
     "output_type": "execute_result"
    }
   ],
   "source": [
    "peak = 10  # Y peak value - Max score for each scoring category\n",
    "div_values = np.array(stocks_checklist[\"Div yield\"].dropna())\n",
    "med = np.median(div_values)\n",
    "div_scores = gaussian(div_values, peak)"
   ]
  },
  {
   "cell_type": "code",
   "execution_count": 418,
   "metadata": {},
   "outputs": [
    {
     "name": "stderr",
     "output_type": "stream",
     "text": [
      "C:\\Users\\sasso\\AppData\\Local\\Temp\\ipykernel_7676\\3437535249.py:4: RuntimeWarning: divide by zero encountered in divide\n",
      "  lim = (-4/(x*0.6)) + peak\n"
     ]
    },
    {
     "data": {
      "image/png": "[encoded data removed]",
      "text/plain": [
       "<Figure size 640x480 with 1 Axes>"
      ]
     },
     "metadata": {},
     "output_type": "display_data"
    }
   ],
   "source": [
    "x_values = np.linspace(0, 5, 5000)  # Generating 1000 values between 0 and 4\n",
    "y_values = gaussian(x_values, peak)  # Calculate corresponding y values using the Gaussian function\n",
    "# y_values = asymmetric_gaussian_sigmoid(x_values, mu, sigma_left, slope, offset)\n",
    "\n",
    "# Plot the function\n",
    "plt.plot(x_values, y_values, label=f'Gaussian Function')\n",
    "plt.ylim(-2, 10)  # Adjust these limits according to your needs\n",
    "\n",
    "plt.scatter(div_values, div_scores, color='green', marker='o')\n",
    "plt.axvline(med, color=\"red\", linestyle=\"--\", label=\"Median\")\n",
    "plt.title('Gaussian Function')\n",
    "plt.xlabel('Div yield')\n",
    "plt.ylabel('Scoring')\n",
    "plt.legend()\n",
    "plt.grid(True)"
   ]
  },
  {
   "cell_type": "code",
   "execution_count": 289,
   "metadata": {},
   "outputs": [
    {
     "data": {
      "text/plain": [
       "4.567343274840234"
      ]
     },
     "execution_count": 289,
     "metadata": {},
     "output_type": "execute_result"
    }
   ],
   "source": [
    "div_values = np.array(stocks_checklist[\"Div yield\"].dropna())\n",
    "div_values = np.append(div_values, 99)\n",
    "# div_values\n",
    "test = np.linspace(112, 122, 1000)\n",
    "test = np.append(test, 5)\n",
    "\n",
    "test.std()\n",
    "# np.median(test)\n",
    "# test.mean()"
   ]
  },
  {
   "cell_type": "code",
   "execution_count": 370,
   "metadata": {},
   "outputs": [
    {
     "name": "stderr",
     "output_type": "stream",
     "text": [
      "C:\\Users\\sasso\\AppData\\Local\\Temp\\ipykernel_7676\\2387058407.py:6: RuntimeWarning: divide by zero encountered in divide\n",
      "  return -1 / (x)**1.5 + 10\n"
     ]
    },
    {
     "data": {
      "image/png": "[encoded data removed]",
      "text/plain": [
       "<Figure size 640x480 with 1 Axes>"
      ]
     },
     "metadata": {},
     "output_type": "display_data"
    }
   ],
   "source": [
    "import matplotlib.pyplot as plt\n",
    "import numpy as np\n",
    "\n",
    "# Define the function\n",
    "def f(x):\n",
    "    return -1 / (x)**1.5 + 10\n",
    "x_values = np.linspace(0, 8, 100)  # Start from a small value to avoid division by zero\n",
    "y_values = f(x_values)\n",
    "plt.plot(x_values, y_values, label='f(x) = 1/x')\n",
    "plt.ylim(-2, 12)  # Adjust these limits according to your needs\n",
    "plt.xlabel('x')\n",
    "plt.ylabel('f(x)')\n",
    "plt.title('Graph of f(x) = 1/x')\n",
    "plt.axhline(0, color='black',linewidth=0.5)\n",
    "plt.axvline(0, color='black',linewidth=0.5)\n",
    "\n",
    "plt.legend()\n",
    "plt.grid()\n",
    "\n",
    "# Show the plot\n",
    "plt.show()\n"
   ]
  },
  {
   "cell_type": "code",
   "execution_count": 341,
   "metadata": {},
   "outputs": [
    {
     "data": {
      "text/plain": [
       "0.23437499999999645"
      ]
     },
     "execution_count": 349,
     "metadata": {},
     "output_type": "execute_result"
    }
   ],
   "source": [
    "f(1.01)"
   ]
  },
  {
   "cell_type": "code",
   "execution_count": null,
   "metadata": {},
   "outputs": [],
   "source": []
  }
 ],
 "metadata": {
  "kernelspec": {
   "display_name": "Python 3 (ipykernel)",
   "language": "python",
   "name": "python3"
  },
  "language_info": {
   "codemirror_mode": {
    "name": "ipython",
    "version": 3
   },
   "file_extension": ".py",
   "mimetype": "text/x-python",
   "name": "python",
   "nbconvert_exporter": "python",
   "pygments_lexer": "ipython3",
   "version": "3.11.1"
  }
 },
 "nbformat": 4,
 "nbformat_minor": 4
}
