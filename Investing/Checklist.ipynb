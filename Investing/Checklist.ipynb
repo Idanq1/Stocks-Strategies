{
 "cells": [
  {
   "cell_type": "code",
   "execution_count": 1,
   "metadata": {
    "tags": [],
    "ExecuteTime": {
     "end_time": "2024-01-16T15:18:10.173247600Z",
     "start_time": "2024-01-16T15:18:07.211689Z"
    }
   },
   "outputs": [],
   "source": [
    "from datetime import datetime, timedelta, timezone\n",
    "from IPython.display import clear_output\n",
    "import pandas_datareader.data as web\n",
    "import matplotlib.pyplot as plt\n",
    "import yfinance as yf\n",
    "import pandas as pd\n",
    "import numpy as np\n",
    "import pyautogui\n",
    "import math\n",
    "import time\n",
    "\n",
    "pd.options.display.float_format = '{:,.2f}'.format"
   ]
  },
  {
   "cell_type": "markdown",
   "metadata": {},
   "source": [
    "# Download data"
   ]
  },
  {
   "cell_type": "markdown",
   "metadata": {},
   "source": [
    "### Fetching tickers from nasdaq and filtering out ETFs and stocks that we have a problem getting their prices"
   ]
  },
  {
   "cell_type": "code",
   "execution_count": 2,
   "metadata": {
    "collapsed": false,
    "jupyter": {
     "outputs_hidden": false
    },
    "ExecuteTime": {
     "end_time": "2024-01-16T15:18:10.187210800Z",
     "start_time": "2024-01-16T15:18:10.175242200Z"
    }
   },
   "outputs": [],
   "source": [
    "def get_all_tickers(etf=False):\n",
    "    # Get a list of all available tickers from Yahoo Finance\n",
    "    all_tickers = web.get_nasdaq_symbols()\n",
    "    all_tickers = all_tickers[~all_tickers[\"Test Issue\"]]  # Filter out stocks that we can't fetch their data for some reason\n",
    "\n",
    "    if not etf:\n",
    "        all_tickers = all_tickers[~all_tickers[\"ETF\"]]  # Filter out ETFs\n",
    "    tickers = all_tickers.index.tolist()\n",
    "    return [str(ticker) for ticker in tickers if str(ticker).isalpha()]"
   ]
  },
  {
   "cell_type": "code",
   "execution_count": 3,
   "metadata": {
    "collapsed": false,
    "jupyter": {
     "outputs_hidden": false
    },
    "ExecuteTime": {
     "end_time": "2024-01-16T15:18:10.223115400Z",
     "start_time": "2024-01-16T15:18:10.190204400Z"
    }
   },
   "outputs": [],
   "source": [
    "def get_data(tickers_list, p=\"max\"):\n",
    "    return yf.download(tickers_list, period=p, interval=\"1d\")"
   ]
  },
  {
   "cell_type": "code",
   "execution_count": 4,
   "metadata": {
    "collapsed": false,
    "jupyter": {
     "outputs_hidden": false
    },
    "ExecuteTime": {
     "end_time": "2024-01-16T15:18:33.937977300Z",
     "start_time": "2024-01-16T15:18:10.206160Z"
    }
   },
   "outputs": [
    {
     "name": "stderr",
     "output_type": "stream",
     "text": [
      "[*********************100%%**********************]  20 of 20 completed\n"
     ]
    }
   ],
   "source": [
    "tickers = get_all_tickers()[:20]\n",
    "# tickers = [\"TSLA\", \"AAPL\", \"MSFT\", \"NVDA\", \"GOOG\", \"AACI\"]\n",
    "data = get_data(tickers)"
   ]
  },
  {
   "cell_type": "code",
   "execution_count": 5,
   "metadata": {
    "collapsed": false,
    "jupyter": {
     "outputs_hidden": false
    },
    "ExecuteTime": {
     "end_time": "2024-01-16T15:18:33.977871400Z",
     "start_time": "2024-01-16T15:18:33.940976600Z"
    }
   },
   "outputs": [],
   "source": [
    "data_cop = data.copy()"
   ]
  },
  {
   "cell_type": "code",
   "execution_count": 6,
   "metadata": {
    "collapsed": false,
    "jupyter": {
     "outputs_hidden": false
    },
    "ExecuteTime": {
     "end_time": "2024-01-16T15:18:34.033069100Z",
     "start_time": "2024-01-16T15:18:33.975878100Z"
    }
   },
   "outputs": [],
   "source": [
    "new_df = pd.DataFrame(index=data_cop.index.year.unique(), columns=data_cop.columns)\n",
    "new_df.drop(\"Adj Close\", axis=1, level=0, inplace=True)\n",
    "new_df[\"Volume\"] = data_cop[\"Volume\"].groupby(data_cop.index.year).mean()\n",
    "new_df[\"Close\"] = data_cop[\"Close\"].groupby(data_cop.index.year).last()\n",
    "new_df[\"Open\"] = data_cop[\"Open\"].groupby(data_cop.index.year).first()\n",
    "new_df[\"High\"] = data_cop[\"High\"].groupby(data_cop.index.year).max()\n",
    "new_df[\"Low\"] = data_cop[\"Low\"].groupby(data_cop.index.year).min()\n",
    "for stock in new_df[\"Close\"].columns:\n",
    "    new_df[\"Change\", stock] = np.nan\n",
    "new_df[\"Change\"] = new_df.xs(\"Close\", axis=1, level=0).pct_change() * 100"
   ]
  },
  {
   "cell_type": "code",
   "execution_count": 7,
   "metadata": {
    "collapsed": false,
    "jupyter": {
     "outputs_hidden": false
    },
    "ExecuteTime": {
     "end_time": "2024-01-16T15:18:34.092908400Z",
     "start_time": "2024-01-16T15:18:34.036038700Z"
    }
   },
   "outputs": [
    {
     "data": {
      "text/plain": "      Years up Div yield Sector avg daily vol Total Revenue Incr Gross Margin  \\\nA          NaN       NaN    NaN           NaN                NaN          NaN   \nAA         NaN       NaN    NaN           NaN                NaN          NaN   \nAACG       NaN       NaN    NaN           NaN                NaN          NaN   \nAACI       NaN       NaN    NaN           NaN                NaN          NaN   \nAACIU      NaN       NaN    NaN           NaN                NaN          NaN   \nAACIW      NaN       NaN    NaN           NaN                NaN          NaN   \nAACT       NaN       NaN    NaN           NaN                NaN          NaN   \nAADI       NaN       NaN    NaN           NaN                NaN          NaN   \nAAGR       NaN       NaN    NaN           NaN                NaN          NaN   \nAAGRW      NaN       NaN    NaN           NaN                NaN          NaN   \nAAL        NaN       NaN    NaN           NaN                NaN          NaN   \nAAMC       NaN       NaN    NaN           NaN                NaN          NaN   \nAAME       NaN       NaN    NaN           NaN                NaN          NaN   \nAAN        NaN       NaN    NaN           NaN                NaN          NaN   \nAAOI       NaN       NaN    NaN           NaN                NaN          NaN   \nAAON       NaN       NaN    NaN           NaN                NaN          NaN   \nAAP        NaN       NaN    NaN           NaN                NaN          NaN   \nAAPL       NaN       NaN    NaN           NaN                NaN          NaN   \nAAT        NaN       NaN    NaN           NaN                NaN          NaN   \nAAU        NaN       NaN    NaN           NaN                NaN          NaN   \n\n      Gross Profit Incr Trading years  \nA                   NaN           NaN  \nAA                  NaN           NaN  \nAACG                NaN           NaN  \nAACI                NaN           NaN  \nAACIU               NaN           NaN  \nAACIW               NaN           NaN  \nAACT                NaN           NaN  \nAADI                NaN           NaN  \nAAGR                NaN           NaN  \nAAGRW               NaN           NaN  \nAAL                 NaN           NaN  \nAAMC                NaN           NaN  \nAAME                NaN           NaN  \nAAN                 NaN           NaN  \nAAOI                NaN           NaN  \nAAON                NaN           NaN  \nAAP                 NaN           NaN  \nAAPL                NaN           NaN  \nAAT                 NaN           NaN  \nAAU                 NaN           NaN  ",
      "text/html": "<div>\n<style scoped>\n    .dataframe tbody tr th:only-of-type {\n        vertical-align: middle;\n    }\n\n    .dataframe tbody tr th {\n        vertical-align: top;\n    }\n\n    .dataframe thead th {\n        text-align: right;\n    }\n</style>\n<table border=\"1\" class=\"dataframe\">\n  <thead>\n    <tr style=\"text-align: right;\">\n      <th></th>\n      <th>Years up</th>\n      <th>Div yield</th>\n      <th>Sector</th>\n      <th>avg daily vol</th>\n      <th>Total Revenue Incr</th>\n      <th>Gross Margin</th>\n      <th>Gross Profit Incr</th>\n      <th>Trading years</th>\n    </tr>\n  </thead>\n  <tbody>\n    <tr>\n      <th>A</th>\n      <td>NaN</td>\n      <td>NaN</td>\n      <td>NaN</td>\n      <td>NaN</td>\n      <td>NaN</td>\n      <td>NaN</td>\n      <td>NaN</td>\n      <td>NaN</td>\n    </tr>\n    <tr>\n      <th>AA</th>\n      <td>NaN</td>\n      <td>NaN</td>\n      <td>NaN</td>\n      <td>NaN</td>\n      <td>NaN</td>\n      <td>NaN</td>\n      <td>NaN</td>\n      <td>NaN</td>\n    </tr>\n    <tr>\n      <th>AACG</th>\n      <td>NaN</td>\n      <td>NaN</td>\n      <td>NaN</td>\n      <td>NaN</td>\n      <td>NaN</td>\n      <td>NaN</td>\n      <td>NaN</td>\n      <td>NaN</td>\n    </tr>\n    <tr>\n      <th>AACI</th>\n      <td>NaN</td>\n      <td>NaN</td>\n      <td>NaN</td>\n      <td>NaN</td>\n      <td>NaN</td>\n      <td>NaN</td>\n      <td>NaN</td>\n      <td>NaN</td>\n    </tr>\n    <tr>\n      <th>AACIU</th>\n      <td>NaN</td>\n      <td>NaN</td>\n      <td>NaN</td>\n      <td>NaN</td>\n      <td>NaN</td>\n      <td>NaN</td>\n      <td>NaN</td>\n      <td>NaN</td>\n    </tr>\n    <tr>\n      <th>AACIW</th>\n      <td>NaN</td>\n      <td>NaN</td>\n      <td>NaN</td>\n      <td>NaN</td>\n      <td>NaN</td>\n      <td>NaN</td>\n      <td>NaN</td>\n      <td>NaN</td>\n    </tr>\n    <tr>\n      <th>AACT</th>\n      <td>NaN</td>\n      <td>NaN</td>\n      <td>NaN</td>\n      <td>NaN</td>\n      <td>NaN</td>\n      <td>NaN</td>\n      <td>NaN</td>\n      <td>NaN</td>\n    </tr>\n    <tr>\n      <th>AADI</th>\n      <td>NaN</td>\n      <td>NaN</td>\n      <td>NaN</td>\n      <td>NaN</td>\n      <td>NaN</td>\n      <td>NaN</td>\n      <td>NaN</td>\n      <td>NaN</td>\n    </tr>\n    <tr>\n      <th>AAGR</th>\n      <td>NaN</td>\n      <td>NaN</td>\n      <td>NaN</td>\n      <td>NaN</td>\n      <td>NaN</td>\n      <td>NaN</td>\n      <td>NaN</td>\n      <td>NaN</td>\n    </tr>\n    <tr>\n      <th>AAGRW</th>\n      <td>NaN</td>\n      <td>NaN</td>\n      <td>NaN</td>\n      <td>NaN</td>\n      <td>NaN</td>\n      <td>NaN</td>\n      <td>NaN</td>\n      <td>NaN</td>\n    </tr>\n    <tr>\n      <th>AAL</th>\n      <td>NaN</td>\n      <td>NaN</td>\n      <td>NaN</td>\n      <td>NaN</td>\n      <td>NaN</td>\n      <td>NaN</td>\n      <td>NaN</td>\n      <td>NaN</td>\n    </tr>\n    <tr>\n      <th>AAMC</th>\n      <td>NaN</td>\n      <td>NaN</td>\n      <td>NaN</td>\n      <td>NaN</td>\n      <td>NaN</td>\n      <td>NaN</td>\n      <td>NaN</td>\n      <td>NaN</td>\n    </tr>\n    <tr>\n      <th>AAME</th>\n      <td>NaN</td>\n      <td>NaN</td>\n      <td>NaN</td>\n      <td>NaN</td>\n      <td>NaN</td>\n      <td>NaN</td>\n      <td>NaN</td>\n      <td>NaN</td>\n    </tr>\n    <tr>\n      <th>AAN</th>\n      <td>NaN</td>\n      <td>NaN</td>\n      <td>NaN</td>\n      <td>NaN</td>\n      <td>NaN</td>\n      <td>NaN</td>\n      <td>NaN</td>\n      <td>NaN</td>\n    </tr>\n    <tr>\n      <th>AAOI</th>\n      <td>NaN</td>\n      <td>NaN</td>\n      <td>NaN</td>\n      <td>NaN</td>\n      <td>NaN</td>\n      <td>NaN</td>\n      <td>NaN</td>\n      <td>NaN</td>\n    </tr>\n    <tr>\n      <th>AAON</th>\n      <td>NaN</td>\n      <td>NaN</td>\n      <td>NaN</td>\n      <td>NaN</td>\n      <td>NaN</td>\n      <td>NaN</td>\n      <td>NaN</td>\n      <td>NaN</td>\n    </tr>\n    <tr>\n      <th>AAP</th>\n      <td>NaN</td>\n      <td>NaN</td>\n      <td>NaN</td>\n      <td>NaN</td>\n      <td>NaN</td>\n      <td>NaN</td>\n      <td>NaN</td>\n      <td>NaN</td>\n    </tr>\n    <tr>\n      <th>AAPL</th>\n      <td>NaN</td>\n      <td>NaN</td>\n      <td>NaN</td>\n      <td>NaN</td>\n      <td>NaN</td>\n      <td>NaN</td>\n      <td>NaN</td>\n      <td>NaN</td>\n    </tr>\n    <tr>\n      <th>AAT</th>\n      <td>NaN</td>\n      <td>NaN</td>\n      <td>NaN</td>\n      <td>NaN</td>\n      <td>NaN</td>\n      <td>NaN</td>\n      <td>NaN</td>\n      <td>NaN</td>\n    </tr>\n    <tr>\n      <th>AAU</th>\n      <td>NaN</td>\n      <td>NaN</td>\n      <td>NaN</td>\n      <td>NaN</td>\n      <td>NaN</td>\n      <td>NaN</td>\n      <td>NaN</td>\n      <td>NaN</td>\n    </tr>\n  </tbody>\n</table>\n</div>"
     },
     "execution_count": 7,
     "metadata": {},
     "output_type": "execute_result"
    }
   ],
   "source": [
    "stocks_checklist = pd.DataFrame(index=new_df[\"Close\"].columns, columns=[\"Years up\", \"Div yield\", \"Sector\", \"avg daily vol\", \"Total Revenue Incr\", \"Gross Margin\", \"Gross Profit Incr\", \"Trading years\"])\n",
    "\n",
    "stocks_checklist"
   ]
  },
  {
   "cell_type": "code",
   "execution_count": 8,
   "metadata": {
    "collapsed": false,
    "jupyter": {
     "outputs_hidden": false
    }
   },
   "outputs": [
    {
     "name": "stdout",
     "output_type": "stream",
     "text": [
      "AAU\n",
      "13/13\n"
     ]
    }
   ],
   "source": [
    "stocks_checklist = pd.DataFrame(index=new_df[\"Close\"].columns, columns=[\"Years up\", \"Div yield\", \"Sector\", \"avg daily vol\", \"Total Revenue Incr\", \"Gross Margin\", \"Gross Profit Incr\", \"Trading years\"])\n",
    "\n",
    "tickers = list(new_df[\"Close\"].columns)  # In case some of the tickers failed, this is the ticker list straight from the returned df\n",
    "# Years up in a row\n",
    "tmp = new_df[\"Change\"].copy().iloc[::-1]\n",
    "tmp.fillna(-1, inplace=True)\n",
    "neg_year = tmp.apply(lambda x: x[x < 0].index[0] if any(x<0) else None)\n",
    "current_year = tmp.index[0]\n",
    "stocks_checklist[\"Years up\"] = current_year - neg_year.copy()\n",
    "# stocks_checklist[\"Years up\"] = 1\n",
    "stocks_checklist[\"avg daily vol\"] = new_df[\"Volume\"].copy().iloc[-1:].mean()\n",
    "stocks_checklist[\"avg daily vol\"] = stocks_checklist[\"avg daily vol\"].fillna(0)\n",
    "\n",
    "# Eliminate by avg daily vol, so it'll be faster\n",
    "stocks_checklist = stocks_checklist[stocks_checklist[\"avg daily vol\"] > 40000]\n",
    "\n",
    "# Div yield\n",
    "print(f\"0/{len(stocks_checklist.index)}\")\n",
    "i = 1\n",
    "for ticker in stocks_checklist.index:\n",
    "    clear_output(wait=True)\n",
    "    print(ticker)\n",
    "    print(f\"{i}/{len(stocks_checklist.index)}\")\n",
    "    i += 1\n",
    "    tmp = yf.Ticker(ticker)\n",
    "    start_date = (datetime.now() - timedelta(days = 365))\n",
    "    start_date = start_date.replace(tzinfo=timezone.utc)\n",
    "    div_sum = tmp.dividends.loc[start_date:].sum()\n",
    "    close_price = new_df[\"Close\"][ticker].iloc[-1]\n",
    "    div_yield = (div_sum/close_price) * 100\n",
    "    stocks_checklist.loc[ticker, \"Div yield\"] = div_yield\n",
    "    # Sector\n",
    "    if \"sector\" in tmp.info:\n",
    "        stocks_checklist.loc[ticker, \"Sector\"] = tmp.info[\"sector\"]\n",
    "    \n",
    "    if \"Gross Profit\" in tmp.income_stmt.index:\n",
    "        # Average Gross margin over the last 3 income statements\n",
    "        if tmp.income_stmt.loc[\"Total Revenue\"].all() > 0:\n",
    "            stocks_checklist.loc[ticker, \"Gross Margin\"] = ((tmp.income_stmt.loc[\"Gross Profit\"].iloc[::-1] / tmp.income_stmt.loc[\"Total Revenue\"].iloc[::-1]) * 100).mean()  # Gross margin of the last 3 years\n",
    "        \n",
    "        # Gross profit increase percentage over the last 3 years (3 income statements)\n",
    "        stocks_checklist.loc[ticker, \"Gross Profit Incr\"] = tmp.income_stmt.loc[\"Gross Profit\"].iloc[::-1].pct_change().mean() * 100\n",
    "    \n",
    "    # Total Revenue increase percentage over the last 3 years (3 income statements)\n",
    "    stocks_checklist.loc[ticker, \"Total Revenue Incr\"] = tmp.income_stmt.loc[\"Total Revenue\"].iloc[::-1].pct_change().mean() * 100\n",
    "    \n",
    "    # How long the stock is trading for\n",
    "    if \"firstTradeDateEpochUtc\" in tmp.info:\n",
    "        tmp.info\n",
    "        epoch = tmp.info[\"firstTradeDateEpochUtc\"]\n",
    "        if epoch > 0:\n",
    "            fty = datetime.fromtimestamp(tmp.info[\"firstTradeDateEpochUtc\"]).year  # First trade year\n",
    "        else:\n",
    "            fty = (datetime(1970, 1, 1) + timedelta(seconds=epoch)).year\n",
    "        stocks_checklist.loc[ticker, \"Trading years\"] = current_year - fty\n",
    "    \n",
    "stocks_checklist[\"Div yield\"].replace(0.0, np.nan, inplace=True)"
   ]
  },
  {
   "cell_type": "code",
   "execution_count": 9,
   "metadata": {
    "collapsed": false,
    "jupyter": {
     "outputs_hidden": false
    },
    "ExecuteTime": {
     "end_time": "2024-01-16T15:18:43.734521400Z",
     "start_time": "2024-01-16T15:18:43.721574400Z"
    }
   },
   "outputs": [
    {
     "data": {
      "text/plain": "      Years up  Div yield              Sector  avg daily vol  \\\nA            0       0.70          Healthcare   1,641,677.78   \nAA           0       1.33     Basic Materials   5,312,355.56   \nAACT         1        NaN  Financial Services      49,822.78   \nAADI         0        NaN          Healthcare     445,270.30   \nAAGR         0        NaN  Consumer Defensive     403,916.30   \nAAL          0        NaN         Industrials  42,581,300.00   \nAAN          0       4.86         Industrials     265,787.10   \nAAOI         0        NaN          Technology   3,070,822.22   \nAAON         0       0.57         Industrials     296,577.10   \nAAP          1       3.67   Consumer Cyclical   1,409,511.11   \nAAPL         0       0.51          Technology  57,060,266.67   \nAAT          1       5.63         Real Estate     261,744.44   \nAAU          0        NaN     Basic Materials     115,869.90   \n\n     Total Revenue Incr Gross Margin Gross Profit Incr Trading years  \nA                  8.84        53.03              7.48            25  \nAA                16.66        18.95             51.19            62  \nAACT                NaN          NaN               NaN             1  \nAADI             664.37        95.61          1,288.10             6  \nAAGR                inf          NaN              -inf             3  \nAAL               68.12        -7.71         16,635.00            19  \nAAN               14.13        58.98              3.60             4  \nAAOI              -2.25        18.15            -18.11            11  \nAAON              35.08        27.60             30.40            32  \nAAP                5.12        44.55              5.33            23  \nAAPL              12.75        41.86             18.80            44  \nAAT               10.76        64.75              9.97            13  \nAAU                 NaN          NaN             -7.14            19  ",
      "text/html": "<div>\n<style scoped>\n    .dataframe tbody tr th:only-of-type {\n        vertical-align: middle;\n    }\n\n    .dataframe tbody tr th {\n        vertical-align: top;\n    }\n\n    .dataframe thead th {\n        text-align: right;\n    }\n</style>\n<table border=\"1\" class=\"dataframe\">\n  <thead>\n    <tr style=\"text-align: right;\">\n      <th></th>\n      <th>Years up</th>\n      <th>Div yield</th>\n      <th>Sector</th>\n      <th>avg daily vol</th>\n      <th>Total Revenue Incr</th>\n      <th>Gross Margin</th>\n      <th>Gross Profit Incr</th>\n      <th>Trading years</th>\n    </tr>\n  </thead>\n  <tbody>\n    <tr>\n      <th>A</th>\n      <td>0</td>\n      <td>0.70</td>\n      <td>Healthcare</td>\n      <td>1,641,677.78</td>\n      <td>8.84</td>\n      <td>53.03</td>\n      <td>7.48</td>\n      <td>25</td>\n    </tr>\n    <tr>\n      <th>AA</th>\n      <td>0</td>\n      <td>1.33</td>\n      <td>Basic Materials</td>\n      <td>5,312,355.56</td>\n      <td>16.66</td>\n      <td>18.95</td>\n      <td>51.19</td>\n      <td>62</td>\n    </tr>\n    <tr>\n      <th>AACT</th>\n      <td>1</td>\n      <td>NaN</td>\n      <td>Financial Services</td>\n      <td>49,822.78</td>\n      <td>NaN</td>\n      <td>NaN</td>\n      <td>NaN</td>\n      <td>1</td>\n    </tr>\n    <tr>\n      <th>AADI</th>\n      <td>0</td>\n      <td>NaN</td>\n      <td>Healthcare</td>\n      <td>445,270.30</td>\n      <td>664.37</td>\n      <td>95.61</td>\n      <td>1,288.10</td>\n      <td>6</td>\n    </tr>\n    <tr>\n      <th>AAGR</th>\n      <td>0</td>\n      <td>NaN</td>\n      <td>Consumer Defensive</td>\n      <td>403,916.30</td>\n      <td>inf</td>\n      <td>NaN</td>\n      <td>-inf</td>\n      <td>3</td>\n    </tr>\n    <tr>\n      <th>AAL</th>\n      <td>0</td>\n      <td>NaN</td>\n      <td>Industrials</td>\n      <td>42,581,300.00</td>\n      <td>68.12</td>\n      <td>-7.71</td>\n      <td>16,635.00</td>\n      <td>19</td>\n    </tr>\n    <tr>\n      <th>AAN</th>\n      <td>0</td>\n      <td>4.86</td>\n      <td>Industrials</td>\n      <td>265,787.10</td>\n      <td>14.13</td>\n      <td>58.98</td>\n      <td>3.60</td>\n      <td>4</td>\n    </tr>\n    <tr>\n      <th>AAOI</th>\n      <td>0</td>\n      <td>NaN</td>\n      <td>Technology</td>\n      <td>3,070,822.22</td>\n      <td>-2.25</td>\n      <td>18.15</td>\n      <td>-18.11</td>\n      <td>11</td>\n    </tr>\n    <tr>\n      <th>AAON</th>\n      <td>0</td>\n      <td>0.57</td>\n      <td>Industrials</td>\n      <td>296,577.10</td>\n      <td>35.08</td>\n      <td>27.60</td>\n      <td>30.40</td>\n      <td>32</td>\n    </tr>\n    <tr>\n      <th>AAP</th>\n      <td>1</td>\n      <td>3.67</td>\n      <td>Consumer Cyclical</td>\n      <td>1,409,511.11</td>\n      <td>5.12</td>\n      <td>44.55</td>\n      <td>5.33</td>\n      <td>23</td>\n    </tr>\n    <tr>\n      <th>AAPL</th>\n      <td>0</td>\n      <td>0.51</td>\n      <td>Technology</td>\n      <td>57,060,266.67</td>\n      <td>12.75</td>\n      <td>41.86</td>\n      <td>18.80</td>\n      <td>44</td>\n    </tr>\n    <tr>\n      <th>AAT</th>\n      <td>1</td>\n      <td>5.63</td>\n      <td>Real Estate</td>\n      <td>261,744.44</td>\n      <td>10.76</td>\n      <td>64.75</td>\n      <td>9.97</td>\n      <td>13</td>\n    </tr>\n    <tr>\n      <th>AAU</th>\n      <td>0</td>\n      <td>NaN</td>\n      <td>Basic Materials</td>\n      <td>115,869.90</td>\n      <td>NaN</td>\n      <td>NaN</td>\n      <td>-7.14</td>\n      <td>19</td>\n    </tr>\n  </tbody>\n</table>\n</div>"
     },
     "execution_count": 9,
     "metadata": {},
     "output_type": "execute_result"
    }
   ],
   "source": [
    "# stocks_checklist[\"avg daily vol\"].fillna(0, inplace=True)\n",
    "stocks_checklist"
   ]
  },
  {
   "cell_type": "markdown",
   "metadata": {},
   "source": [
    "# Scoring"
   ]
  },
  {
   "cell_type": "code",
   "execution_count": 47,
   "metadata": {
    "ExecuteTime": {
     "end_time": "2024-01-16T15:29:53.903698800Z",
     "start_time": "2024-01-16T15:29:53.884750900Z"
    }
   },
   "outputs": [],
   "source": [
    "def gaussian(x, peak):\n",
    "    # exp = peak * np.exp(-(x - mu)**2 / (2 * sigma**2))\n",
    "    # right_side = (A * np.exp(-(x + mu)**2 / (2 * sigma_right**2)) + 10)\n",
    "    lim = (-4/(x*0.6)) + peak\n",
    "    return np.where(lim > 0.3, lim, 0.3)"
   ]
  },
  {
   "cell_type": "code",
   "execution_count": 48,
   "metadata": {
    "ExecuteTime": {
     "end_time": "2024-01-16T15:29:54.066819100Z",
     "start_time": "2024-01-16T15:29:54.041886600Z"
    }
   },
   "outputs": [],
   "source": [
    "peak = 10  # Y peak value - Max score for each scoring category\n",
    "tmp = stocks_checklist[\"Div yield\"].dropna()\n",
    "div_values = np.array(tmp.values)\n",
    "div_stocks = np.array(tmp.index)\n",
    "med = np.median(div_values)\n",
    "div_scores = gaussian(div_values, peak)"
   ]
  },
  {
   "cell_type": "code",
   "execution_count": 49,
   "metadata": {
    "ExecuteTime": {
     "end_time": "2024-01-16T15:29:54.512859400Z",
     "start_time": "2024-01-16T15:29:54.181852Z"
    }
   },
   "outputs": [
    {
     "name": "stderr",
     "output_type": "stream",
     "text": [
      "C:\\Users\\sasso\\AppData\\Local\\Temp\\ipykernel_1556\\1069746088.py:4: RuntimeWarning: divide by zero encountered in divide\n",
      "  lim = (-4/(x*0.6)) + peak\n"
     ]
    },
    {
     "data": {
      "text/plain": "<Figure size 640x480 with 1 Axes>",
      "image/png": "[encoded data removed]"
     },
     "metadata": {},
     "output_type": "display_data"
    }
   ],
   "source": [
    "x_values = np.linspace(0, max(div_values), 5000)  # Generating 1000 values between 0 and 4\n",
    "y_values = gaussian(x_values, peak)  # Calculate corresponding y values using the Gaussian function\n",
    "# y_values = asymmetric_gaussian_sigmoid(x_values, mu, sigma_left, slope, offset)\n",
    "\n",
    "# Plot the function\n",
    "plt.plot(x_values, y_values, label=f'Gaussian Function')\n",
    "plt.ylim(-2, 10)  # Adjust these limits according to your needs\n",
    "\n",
    "plt.scatter(div_values, div_scores, color='green', marker='o')\n",
    "plt.axvline(med, color=\"red\", linestyle=\"--\", label=\"Median\")\n",
    "plt.title('Gaussian Function')\n",
    "plt.xlabel('Div yield')\n",
    "plt.ylabel('Scoring')\n",
    "plt.legend()\n",
    "plt.grid(True)"
   ]
  },
  {
   "cell_type": "code",
   "execution_count": 50,
   "metadata": {
    "ExecuteTime": {
     "end_time": "2024-01-16T15:29:55.610496500Z",
     "start_time": "2024-01-16T15:29:55.584565300Z"
    }
   },
   "outputs": [
    {
     "data": {
      "text/plain": "5.63380274352112"
     },
     "execution_count": 50,
     "metadata": {},
     "output_type": "execute_result"
    }
   ],
   "source": [
    "max(div_values)"
   ]
  },
  {
   "cell_type": "code",
   "execution_count": 51,
   "outputs": [
    {
     "data": {
      "text/plain": "     Years up Div yield Sector avg daily vol Total Revenue Incr Gross Margin  \\\nA         NaN      0.45    NaN           NaN                NaN          NaN   \nAA        NaN      4.99    NaN           NaN                NaN          NaN   \nAACT      NaN       NaN    NaN           NaN                NaN          NaN   \nAADI      NaN       NaN    NaN           NaN                NaN          NaN   \nAAGR      NaN       NaN    NaN           NaN                NaN          NaN   \nAAL       NaN       NaN    NaN           NaN                NaN          NaN   \nAAN       NaN      8.63    NaN           NaN                NaN          NaN   \nAAOI      NaN       NaN    NaN           NaN                NaN          NaN   \nAAON      NaN      0.30    NaN           NaN                NaN          NaN   \nAAP       NaN      8.18    NaN           NaN                NaN          NaN   \nAAPL      NaN      0.30    NaN           NaN                NaN          NaN   \nAAT       NaN      8.82    NaN           NaN                NaN          NaN   \nAAU       NaN       NaN    NaN           NaN                NaN          NaN   \n\n     Gross Profit Incr Trading years  \nA                  NaN           NaN  \nAA                 NaN           NaN  \nAACT               NaN           NaN  \nAADI               NaN           NaN  \nAAGR               NaN           NaN  \nAAL                NaN           NaN  \nAAN                NaN           NaN  \nAAOI               NaN           NaN  \nAAON               NaN           NaN  \nAAP                NaN           NaN  \nAAPL               NaN           NaN  \nAAT                NaN           NaN  \nAAU                NaN           NaN  ",
      "text/html": "<div>\n<style scoped>\n    .dataframe tbody tr th:only-of-type {\n        vertical-align: middle;\n    }\n\n    .dataframe tbody tr th {\n        vertical-align: top;\n    }\n\n    .dataframe thead th {\n        text-align: right;\n    }\n</style>\n<table border=\"1\" class=\"dataframe\">\n  <thead>\n    <tr style=\"text-align: right;\">\n      <th></th>\n      <th>Years up</th>\n      <th>Div yield</th>\n      <th>Sector</th>\n      <th>avg daily vol</th>\n      <th>Total Revenue Incr</th>\n      <th>Gross Margin</th>\n      <th>Gross Profit Incr</th>\n      <th>Trading years</th>\n    </tr>\n  </thead>\n  <tbody>\n    <tr>\n      <th>A</th>\n      <td>NaN</td>\n      <td>0.45</td>\n      <td>NaN</td>\n      <td>NaN</td>\n      <td>NaN</td>\n      <td>NaN</td>\n      <td>NaN</td>\n      <td>NaN</td>\n    </tr>\n    <tr>\n      <th>AA</th>\n      <td>NaN</td>\n      <td>4.99</td>\n      <td>NaN</td>\n      <td>NaN</td>\n      <td>NaN</td>\n      <td>NaN</td>\n      <td>NaN</td>\n      <td>NaN</td>\n    </tr>\n    <tr>\n      <th>AACT</th>\n      <td>NaN</td>\n      <td>NaN</td>\n      <td>NaN</td>\n      <td>NaN</td>\n      <td>NaN</td>\n      <td>NaN</td>\n      <td>NaN</td>\n      <td>NaN</td>\n    </tr>\n    <tr>\n      <th>AADI</th>\n      <td>NaN</td>\n      <td>NaN</td>\n      <td>NaN</td>\n      <td>NaN</td>\n      <td>NaN</td>\n      <td>NaN</td>\n      <td>NaN</td>\n      <td>NaN</td>\n    </tr>\n    <tr>\n      <th>AAGR</th>\n      <td>NaN</td>\n      <td>NaN</td>\n      <td>NaN</td>\n      <td>NaN</td>\n      <td>NaN</td>\n      <td>NaN</td>\n      <td>NaN</td>\n      <td>NaN</td>\n    </tr>\n    <tr>\n      <th>AAL</th>\n      <td>NaN</td>\n      <td>NaN</td>\n      <td>NaN</td>\n      <td>NaN</td>\n      <td>NaN</td>\n      <td>NaN</td>\n      <td>NaN</td>\n      <td>NaN</td>\n    </tr>\n    <tr>\n      <th>AAN</th>\n      <td>NaN</td>\n      <td>8.63</td>\n      <td>NaN</td>\n      <td>NaN</td>\n      <td>NaN</td>\n      <td>NaN</td>\n      <td>NaN</td>\n      <td>NaN</td>\n    </tr>\n    <tr>\n      <th>AAOI</th>\n      <td>NaN</td>\n      <td>NaN</td>\n      <td>NaN</td>\n      <td>NaN</td>\n      <td>NaN</td>\n      <td>NaN</td>\n      <td>NaN</td>\n      <td>NaN</td>\n    </tr>\n    <tr>\n      <th>AAON</th>\n      <td>NaN</td>\n      <td>0.30</td>\n      <td>NaN</td>\n      <td>NaN</td>\n      <td>NaN</td>\n      <td>NaN</td>\n      <td>NaN</td>\n      <td>NaN</td>\n    </tr>\n    <tr>\n      <th>AAP</th>\n      <td>NaN</td>\n      <td>8.18</td>\n      <td>NaN</td>\n      <td>NaN</td>\n      <td>NaN</td>\n      <td>NaN</td>\n      <td>NaN</td>\n      <td>NaN</td>\n    </tr>\n    <tr>\n      <th>AAPL</th>\n      <td>NaN</td>\n      <td>0.30</td>\n      <td>NaN</td>\n      <td>NaN</td>\n      <td>NaN</td>\n      <td>NaN</td>\n      <td>NaN</td>\n      <td>NaN</td>\n    </tr>\n    <tr>\n      <th>AAT</th>\n      <td>NaN</td>\n      <td>8.82</td>\n      <td>NaN</td>\n      <td>NaN</td>\n      <td>NaN</td>\n      <td>NaN</td>\n      <td>NaN</td>\n      <td>NaN</td>\n    </tr>\n    <tr>\n      <th>AAU</th>\n      <td>NaN</td>\n      <td>NaN</td>\n      <td>NaN</td>\n      <td>NaN</td>\n      <td>NaN</td>\n      <td>NaN</td>\n      <td>NaN</td>\n      <td>NaN</td>\n    </tr>\n  </tbody>\n</table>\n</div>"
     },
     "execution_count": 51,
     "metadata": {},
     "output_type": "execute_result"
    }
   ],
   "source": [
    "scores = pd.DataFrame(index=stocks_checklist.index, columns=stocks_checklist.columns)\n",
    "scores.loc[div_stocks, \"Div yield\"] = div_scores\n",
    "scores"
   ],
   "metadata": {
    "collapsed": false,
    "ExecuteTime": {
     "end_time": "2024-01-16T15:29:57.274118500Z",
     "start_time": "2024-01-16T15:29:57.248577300Z"
    }
   }
  },
  {
   "cell_type": "code",
   "execution_count": 33,
   "outputs": [
    {
     "data": {
      "text/plain": "array(['A', 'AA', 'AAN', 'AAON', 'AAP', 'AAPL', 'AAT'], dtype=object)"
     },
     "execution_count": 33,
     "metadata": {},
     "output_type": "execute_result"
    }
   ],
   "source": [
    "a = stocks_checklist[\"Div yield\"].dropna()\n",
    "np.array(a.values)\n",
    "stocks = np.array(a.index)\n"
   ],
   "metadata": {
    "collapsed": false,
    "ExecuteTime": {
     "end_time": "2024-01-16T15:26:00.176333600Z",
     "start_time": "2024-01-16T15:26:00.160378Z"
    }
   }
  },
  {
   "cell_type": "code",
   "execution_count": null,
   "outputs": [],
   "source": [],
   "metadata": {
    "collapsed": false
   }
  }
 ],
 "metadata": {
  "kernelspec": {
   "display_name": "Python 3 (ipykernel)",
   "language": "python",
   "name": "python3"
  },
  "language_info": {
   "codemirror_mode": {
    "name": "ipython",
    "version": 3
   },
   "file_extension": ".py",
   "mimetype": "text/x-python",
   "name": "python",
   "nbconvert_exporter": "python",
   "pygments_lexer": "ipython3",
   "version": "3.11.1"
  }
 },
 "nbformat": 4,
 "nbformat_minor": 4
}
