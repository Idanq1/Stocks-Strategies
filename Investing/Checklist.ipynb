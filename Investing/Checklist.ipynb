{
 "cells": [
  {
   "cell_type": "code",
   "execution_count": 1,
   "metadata": {
    "tags": [],
    "ExecuteTime": {
     "end_time": "2024-01-22T21:14:06.261783400Z",
     "start_time": "2024-01-22T21:14:05.169527200Z"
    }
   },
   "outputs": [],
   "source": [
    "from datetime import datetime, timedelta, timezone\n",
    "from IPython.display import clear_output\n",
    "import pandas_datareader.data as web\n",
    "import matplotlib.pyplot as plt\n",
    "import yfinance as yf\n",
    "import pandas as pd\n",
    "import numpy as np\n",
    "import pyautogui\n",
    "import math\n",
    "import time\n",
    "\n",
    "pd.options.display.float_format = '{:,.2f}'.format"
   ]
  },
  {
   "cell_type": "markdown",
   "metadata": {},
   "source": [
    "# Download data"
   ]
  },
  {
   "cell_type": "markdown",
   "metadata": {},
   "source": [
    "### Fetching tickers from nasdaq and filtering out ETFs and stocks that we have a problem getting their prices"
   ]
  },
  {
   "cell_type": "code",
   "execution_count": 5,
   "metadata": {
    "collapsed": false,
    "jupyter": {
     "outputs_hidden": false
    },
    "ExecuteTime": {
     "end_time": "2024-01-22T21:17:25.503041100Z",
     "start_time": "2024-01-22T21:17:25.495235200Z"
    }
   },
   "outputs": [],
   "source": [
    "def get_all_tickers(etf=False):\n",
    "    # Get a list of all available tickers from Yahoo Finance\n",
    "    all_tickers = web.get_nasdaq_symbols()\n",
    "    all_tickers = all_tickers[~all_tickers[\"Test Issue\"]]  # Filter out stocks that we can't fetch their data for some reason\n",
    "\n",
    "    if not etf:\n",
    "        all_tickers = all_tickers[~all_tickers[\"ETF\"]]  # Filter out ETFs\n",
    "    tickers = all_tickers.index.tolist()\n",
    "    return [str(ticker) for ticker in tickers if str(ticker).isalpha()]"
   ]
  },
  {
   "cell_type": "code",
   "execution_count": 6,
   "metadata": {
    "collapsed": false,
    "jupyter": {
     "outputs_hidden": false
    },
    "ExecuteTime": {
     "end_time": "2024-01-22T21:17:26.823636100Z",
     "start_time": "2024-01-22T21:17:26.818778Z"
    }
   },
   "outputs": [],
   "source": [
    "def get_data(tickers_list, p=\"max\"):\n",
    "    return yf.download(tickers_list, period=p, interval=\"1d\")"
   ]
  },
  {
   "cell_type": "code",
   "execution_count": null,
   "metadata": {
    "collapsed": false,
    "jupyter": {
     "outputs_hidden": false
    },
    "is_executing": true,
    "ExecuteTime": {
     "start_time": "2024-01-22T21:17:50.498437300Z"
    }
   },
   "outputs": [],
   "source": [
    "# tickers = get_all_tickers()[:10]\n",
    "tickers = [\"TSLA\", \"AAPL\", \"MSFT\", \"NVDA\", \"GOOG\", \"AACI\"]\n",
    "data = get_data(tickers)"
   ]
  },
  {
   "cell_type": "code",
   "execution_count": null,
   "metadata": {
    "collapsed": false,
    "jupyter": {
     "outputs_hidden": false
    }
   },
   "outputs": [],
   "source": [
    "data_cop = data.copy()"
   ]
  },
  {
   "cell_type": "code",
   "execution_count": null,
   "metadata": {
    "collapsed": false,
    "jupyter": {
     "outputs_hidden": false
    }
   },
   "outputs": [],
   "source": [
    "new_df = pd.DataFrame(index=data_cop.index.year.unique(), columns=data_cop.columns)\n",
    "new_df.drop(\"Adj Close\", axis=1, level=0, inplace=True)\n",
    "new_df[\"Volume\"] = data_cop[\"Volume\"].groupby(data_cop.index.year).mean()\n",
    "new_df[\"Close\"] = data_cop[\"Close\"].groupby(data_cop.index.year).last()\n",
    "new_df[\"Open\"] = data_cop[\"Open\"].groupby(data_cop.index.year).first()\n",
    "new_df[\"High\"] = data_cop[\"High\"].groupby(data_cop.index.year).max()\n",
    "new_df[\"Low\"] = data_cop[\"Low\"].groupby(data_cop.index.year).min()\n",
    "for stock in new_df[\"Close\"].columns:\n",
    "    new_df[\"Change\", stock] = np.nan\n",
    "new_df[\"Change\"] = new_df.xs(\"Close\", axis=1, level=0).pct_change() * 100"
   ]
  },
  {
   "cell_type": "code",
   "execution_count": null,
   "metadata": {
    "collapsed": false,
    "jupyter": {
     "outputs_hidden": false
    }
   },
   "outputs": [],
   "source": [
    "stocks_checklist = pd.DataFrame(index=new_df[\"Close\"].columns, columns=[\"Years up\", \"Div yield\", \"Sector\", \"avg daily vol\", \"Total Revenue Incr\", \"Gross Margin\", \"Gross Profit Incr\", \"Trading years\", \"Market cap\", \"EPS\", \"P/E\"])\n",
    "\n",
    "stocks_checklist"
   ]
  },
  {
   "cell_type": "code",
   "execution_count": null,
   "metadata": {
    "collapsed": false,
    "jupyter": {
     "outputs_hidden": false
    }
   },
   "outputs": [],
   "source": [
    "stocks_checklist = pd.DataFrame(index=new_df[\"Close\"].columns[:30], columns=[\"Years up\", \"Div yield\", \"Sector\", \"avg daily vol\", \"Total Revenue Incr\", \"Gross Margin\", \"Gross Profit Incr\", \"Trading years\", \"Market cap\", \"EPS\", \"P/E\"])\n",
    "\n",
    "tickers = list(new_df[\"Close\"].columns)  # In case some of the tickers failed, this is the ticker list straight from the returned df\n",
    "# Years up in a row\n",
    "tmp = new_df[\"Change\"].copy().iloc[::-1]\n",
    "tmp.fillna(-1, inplace=True)\n",
    "neg_year = tmp.apply(lambda x: x[x < 0].index[0] if any(x<0) else None)\n",
    "current_year = tmp.index[0]\n",
    "stocks_checklist[\"Years up\"] = current_year - neg_year.copy()\n",
    "# stocks_checklist[\"Years up\"] = 1\n",
    "stocks_checklist[\"avg daily vol\"] = new_df[\"Volume\"].copy().iloc[-1:].mean()\n",
    "stocks_checklist[\"avg daily vol\"] = stocks_checklist[\"avg daily vol\"].fillna(0)\n",
    "\n",
    "# Eliminate by avg daily vol, so it'll be faster\n",
    "stocks_checklist = stocks_checklist[stocks_checklist[\"avg daily vol\"] > 400000]\n",
    "\n",
    "# Div yield\n",
    "print(f\"0/{len(stocks_checklist.index)}\")\n",
    "i = 1\n",
    "for ticker in stocks_checklist.index:\n",
    "    clear_output(wait=True)\n",
    "    print(ticker)\n",
    "    print(f\"{i}/{len(stocks_checklist.index)}\")\n",
    "    i += 1\n",
    "    tmp = yf.Ticker(ticker)\n",
    "    start_date = (datetime.now() - timedelta(days = 365))\n",
    "    start_date = start_date.replace(tzinfo=timezone.utc)\n",
    "    div_sum = tmp.dividends.loc[start_date:].sum()\n",
    "    close_price = new_df[\"Close\"][ticker].iloc[-1]\n",
    "    div_yield = (div_sum/close_price) * 100\n",
    "    stocks_checklist.loc[ticker, \"Div yield\"] = div_yield\n",
    "    # Sector\n",
    "    if \"sector\" in tmp.info:\n",
    "        stocks_checklist.loc[ticker, \"Sector\"] = tmp.info[\"sector\"]\n",
    "    \n",
    "    if \"Gross Profit\" in tmp.income_stmt.index:\n",
    "        # Average Gross margin over the last 3 income statements\n",
    "        if tmp.income_stmt.loc[\"Total Revenue\"].all() > 0:\n",
    "            stocks_checklist.loc[ticker, \"Gross Margin\"] = ((tmp.income_stmt.loc[\"Gross Profit\"].iloc[::-1] / tmp.income_stmt.loc[\"Total Revenue\"].iloc[::-1]) * 100).mean()  # Gross margin of the last 3 years\n",
    "        \n",
    "        # Gross profit increase percentage over the last 3 years (3 income statements)\n",
    "        stocks_checklist.loc[ticker, \"Gross Profit Incr\"] = tmp.income_stmt.loc[\"Gross Profit\"].iloc[::-1].pct_change().mean() * 100\n",
    "    \n",
    "    # Total Revenue increase percentage over the last 3 years (3 income statements)\n",
    "    if \"Total Revenue\" in tmp.income_stmt.index:\n",
    "        stocks_checklist.loc[ticker, \"Total Revenue Incr\"] = tmp.income_stmt.loc[\"Total Revenue\"].iloc[::-1].pct_change().mean() * 100\n",
    "    \n",
    "    # Years since IPO\n",
    "    if \"firstTradeDateEpochUtc\" in tmp.info:\n",
    "        epoch = tmp.info[\"firstTradeDateEpochUtc\"]\n",
    "        if epoch > 0:\n",
    "            fty = datetime.fromtimestamp(tmp.info[\"firstTradeDateEpochUtc\"]).year  # First trade year\n",
    "        else:\n",
    "            fty = (datetime(1970, 1, 1) + timedelta(seconds=epoch)).year\n",
    "        stocks_checklist.loc[ticker, \"Trading years\"] = current_year - fty\n",
    "\n",
    "    # Market Cap\n",
    "    if \"marketCap\" in tmp.info:\n",
    "        stocks_checklist.loc[ticker, \"Market cap\"] = tmp.info[\"marketCap\"]\n",
    "\n",
    "    # P/E Compare stock's price to EPS (Earning per share)\n",
    "    if \"trailingEps\" in tmp.info:\n",
    "        eps = tmp.info[\"trailingEps\"]\n",
    "        stocks_checklist.loc[ticker, \"EPS\"] = eps\n",
    "        if \"Net Income\" in tmp.incomestmt.index:\n",
    "            net_income = tmp.incomestmt.loc[\"Net Income\"][0]\n",
    "            latest_close = tmp.info[\"currentPrice\"]\n",
    "            stocks_checklist.loc[ticker, \"P/E\"] = latest_close / eps\n",
    "\n",
    "stocks_checklist[\"Div yield\"].replace(0.0, np.nan, inplace=True)\n",
    "stocks_checklist.replace([np.inf, -np.inf], np.nan, inplace=True)"
   ]
  },
  {
   "cell_type": "code",
   "execution_count": null,
   "metadata": {
    "collapsed": false,
    "jupyter": {
     "outputs_hidden": false
    }
   },
   "outputs": [],
   "source": [
    "# stocks_checklist[\"avg daily vol\"].fillna(0, inplace=True)\n",
    "stocks_checklist"
   ]
  },
  {
   "cell_type": "markdown",
   "metadata": {},
   "source": [
    "# Scoring"
   ]
  },
  {
   "cell_type": "code",
   "execution_count": null,
   "outputs": [],
   "source": [
    "scores = pd.DataFrame(index=stocks_checklist.index, columns=[*stocks_checklist.columns, \"Total\"])  # Generate scoring dataframe"
   ],
   "metadata": {
    "collapsed": false
   }
  },
  {
   "cell_type": "code",
   "execution_count": null,
   "outputs": [],
   "source": [
    "def total_scores(df):\n",
    "    df.drop(\"Total\", axis=1, inplace=True)\n",
    "    df[\"Total\"] = df.sum(axis=1)\n",
    "    return df"
   ],
   "metadata": {
    "collapsed": false
   }
  },
  {
   "cell_type": "markdown",
   "source": [
    "### Dividend scoring"
   ],
   "metadata": {
    "collapsed": false
   }
  },
  {
   "cell_type": "code",
   "execution_count": null,
   "outputs": [],
   "source": [
    "def div_func(x, peak1, peak2, med, sigma1, sigma2):\n",
    "    f1 = (-1/(x*sigma1)) + peak2\n",
    "    f2 = peak1 * np.exp(-((x-med)**2)/sigma2)\n",
    "    return np.where(x < med, f2, f1)"
   ],
   "metadata": {
    "collapsed": false
   }
  },
  {
   "cell_type": "code",
   "execution_count": null,
   "metadata": {},
   "outputs": [],
   "source": [
    "peak1 = 6  # Y peak value of the first mishvaha\n",
    "peak2 = 10  # Y peak value of the second mishvaha (the one where it shoef to)\n",
    "starting_value = 0.4  # The score of a div yield 0\n",
    "\n",
    "tmp = stocks_checklist[\"Div yield\"].dropna()  # Drop no-dividend stocks\n",
    "div_values = np.array(tmp.values)\n",
    "div_stocks = np.array(tmp.index)\n",
    "med = np.median(div_values)  # Median, to determine the peak of the first function\n",
    "sigma1 = 1/(med*(peak2-peak1))  # In order for the second function to continue from where the first function stops (after the median point)\n",
    "sigma2 = (med**2) / math.log(peak1/starting_value)  # Determine the slope by the starting point and peak of median\n",
    "div_scores = div_func(div_values, peak1, peak2, med, sigma1, sigma2)"
   ]
  },
  {
   "cell_type": "code",
   "execution_count": null,
   "metadata": {},
   "outputs": [],
   "source": [
    "def plot_score(div_values, peak1, peak2, med, sigma1, sigma2):\n",
    "    x_values = np.linspace(0, max(div_values), 5000)  # Generating 1000 values between 0 and 4\n",
    "    y_values = div_func(x_values, peak1, peak2, med, sigma1, sigma2)\n",
    "    # Calculate corresponding y values using the Gaussian function\n",
    "\n",
    "    # Plot the function\n",
    "    plt.plot(x_values, y_values, label=f'Gaussian Function')\n",
    "    plt.ylim(-2, 10)  # Adjust these limits according to your needs\n",
    "\n",
    "    plt.scatter(div_values, div_scores, color='green', marker='o')\n",
    "    plt.axvline(med, color=\"red\", linestyle=\"--\", label=\"Median\")\n",
    "    plt.title('Gaussian Function')\n",
    "    plt.xlabel('Div yield')\n",
    "    plt.ylabel('Scoring')\n",
    "    plt.legend()\n",
    "    plt.grid(True)\n",
    "plot_score(div_values, peak1, peak2, med, sigma1, sigma2)"
   ]
  },
  {
   "cell_type": "code",
   "execution_count": null,
   "outputs": [],
   "source": [
    "scores.loc[div_stocks, \"Div yield\"] = div_scores\n",
    "scores"
   ],
   "metadata": {
    "collapsed": false
   }
  },
  {
   "cell_type": "markdown",
   "source": [
    "### Trading years score"
   ],
   "metadata": {
    "collapsed": false
   }
  },
  {
   "cell_type": "code",
   "execution_count": null,
   "outputs": [],
   "source": [
    "def ty_func(values):\n",
    "    # Linear\n",
    "    max_years = max(values)\n",
    "    f = values/(max_years/10)\n",
    "    return f"
   ],
   "metadata": {
    "collapsed": false
   }
  },
  {
   "cell_type": "code",
   "execution_count": null,
   "outputs": [],
   "source": [
    "ty_values = stocks_checklist[\"Trading years\"]\n",
    "ty_scores = ty_func(ty_values)\n",
    "# ty_scores\n",
    "scores[\"Trading years\"] = ty_scores\n",
    "scores"
   ],
   "metadata": {
    "collapsed": false
   }
  },
  {
   "cell_type": "markdown",
   "source": [
    "### Years up scoring"
   ],
   "metadata": {
    "collapsed": false
   }
  },
  {
   "cell_type": "code",
   "execution_count": null,
   "outputs": [],
   "source": [
    "def yu_func(values):  # years up func\n",
    "    f = (-1/(0.1 * values) + 10)\n",
    "\n",
    "    return np.where(values == 0, 0, np.where(values == 1, 2, f))"
   ],
   "metadata": {
    "collapsed": false
   }
  },
  {
   "cell_type": "code",
   "execution_count": null,
   "outputs": [],
   "source": [
    "yu_values = stocks_checklist[\"Years up\"]\n",
    "yu_scores = yu_func(yu_values)\n",
    "scores[\"Years up\"] = yu_scores"
   ],
   "metadata": {
    "collapsed": false
   }
  },
  {
   "cell_type": "markdown",
   "source": [
    "### Average daily volume & Total rev incrs scoring & Gross profit incr"
   ],
   "metadata": {
    "collapsed": false
   }
  },
  {
   "cell_type": "code",
   "execution_count": null,
   "outputs": [],
   "source": [
    "def linear_max_func(values):  # Score 10 (max) determined by max value in values\n",
    "    m = 10/max(values)\n",
    "    f = m*values\n",
    "    return f"
   ],
   "metadata": {
    "collapsed": false
   }
  },
  {
   "cell_type": "code",
   "execution_count": null,
   "outputs": [],
   "source": [
    "scores[\"avg daily vol\"] = linear_max_func(stocks_checklist[\"avg daily vol\"])"
   ],
   "metadata": {
    "collapsed": false
   }
  },
  {
   "cell_type": "code",
   "execution_count": null,
   "outputs": [],
   "source": [
    "yf.Ticker(\"AAL\").incomestmt"
   ],
   "metadata": {
    "collapsed": false
   }
  },
  {
   "cell_type": "markdown",
   "source": [
    "# Gross Profit Increase"
   ],
   "metadata": {
    "collapsed": false
   }
  },
  {
   "cell_type": "code",
   "execution_count": null,
   "outputs": [],
   "source": [
    "def arctan_func(values, low, high, angle):\n",
    "    high += 5\n",
    "    w = 0 - math.tan(-(low*math.pi)/high - (math.pi/2))\n",
    "    print(w)\n",
    "    print(high)\n",
    "    # f = 15*(np.arctan(values - w)/math.pi) + 2.5\n",
    "    f = (high * (np.arctan(angle*values-w) + (math.pi/2)) / math.pi) + low\n",
    "\n",
    "    return f"
   ],
   "metadata": {
    "collapsed": false
   }
  },
  {
   "cell_type": "code",
   "execution_count": null,
   "outputs": [],
   "source": [
    "tmp = stocks_checklist[\"Gross Profit Incr\"].dropna()\n",
    "med = np.median(tmp)\n",
    "low = -5\n",
    "high = 10\n",
    "sigma = 0.05\n",
    "gross_scores = arctan_func(tmp, low, high, sigma)\n",
    "scores[\"Gross Profit Incr\"] = gross_scores\n"
   ],
   "metadata": {
    "collapsed": false
   }
  },
  {
   "cell_type": "code",
   "execution_count": null,
   "outputs": [],
   "source": [
    "# Plot\n",
    "\n",
    "x_values = np.linspace(-130, 150, 5000)  # Generating 1000 values between 0 and 4\n",
    "gross_scores = arctan_func(tmp, low, high, sigma)\n",
    "y_values = arctan_func(x_values, low, high, sigma)\n",
    "# Calculate corresponding y values using the Gaussian function\n",
    "\n",
    "# Plot the function\n",
    "plt.plot(x_values, y_values, label=f'Gaussian Function')\n",
    "# plt.ylim(-2, 10)  # Adjust these limits according to your needs\n",
    "plt.xlim(-130, 150)\n",
    "plt.scatter(tmp, gross_scores, color='green', marker='o')\n",
    "plt.axvline(med, color=\"red\", linestyle=\"--\", label=\"Median\")\n",
    "plt.title('Function')\n",
    "plt.xlabel('Gross Profit Increase')\n",
    "plt.ylabel('Score')\n",
    "plt.legend()\n",
    "plt.grid(True)\n",
    "# plot_score(div_values, peak1, peak2, med, sigma1, sigma2)"
   ],
   "metadata": {
    "collapsed": false
   }
  },
  {
   "cell_type": "markdown",
   "source": [
    "# Total Rev Increase"
   ],
   "metadata": {
    "collapsed": false
   }
  },
  {
   "cell_type": "code",
   "execution_count": null,
   "outputs": [],
   "source": [
    "tmp = stocks_checklist[\"Total Revenue Incr\"].dropna()\n",
    "med = np.median(tmp)\n",
    "low = -5\n",
    "high = 10\n",
    "sigma = 0.05\n",
    "rev_incr_scores = arctan_func(tmp, low, high, sigma)\n",
    "scores[\"Total Revenue Incr\"] = rev_incr_scores"
   ],
   "metadata": {
    "collapsed": false
   }
  },
  {
   "cell_type": "code",
   "execution_count": null,
   "outputs": [],
   "source": [
    "# Plot\n",
    "\n",
    "x_values = np.linspace(-130, 150, 5000)  # Generating 1000 values between 0 and 4\n",
    "y_values = arctan_func(x_values, low, high, sigma)\n",
    "rev_incr_scores = arctan_func(tmp, low, high, sigma)\n",
    "# Calculate corresponding y values using the Gaussian function\n",
    "\n",
    "# Plot the function\n",
    "plt.plot(x_values, y_values, label=f'Gaussian Function')\n",
    "# plt.ylim(-2, 10)  # Adjust these limits according to your needs\n",
    "plt.xlim(-130, 150)\n",
    "plt.scatter(tmp, rev_incr_scores, color='green', marker='o')\n",
    "plt.axvline(med, color=\"red\", linestyle=\"--\", label=\"Median\")\n",
    "plt.title('Function')\n",
    "plt.xlabel('Gross Profit Increase')\n",
    "plt.ylabel('Score')\n",
    "plt.legend()\n",
    "plt.grid(True)\n",
    "# plot_score(div_values, peak1, peak2, med, sigma1, sigma2)"
   ],
   "metadata": {
    "collapsed": false
   }
  },
  {
   "cell_type": "markdown",
   "source": [
    "# Gross Margin Score"
   ],
   "metadata": {
    "collapsed": false
   }
  },
  {
   "cell_type": "code",
   "execution_count": null,
   "outputs": [],
   "source": [
    "tmp = stocks_checklist[\"Gross Margin\"].dropna()\n",
    "med = np.median(tmp)\n",
    "low = -5\n",
    "high = 10\n",
    "sigma = 0.02\n",
    "gross_margin_scores = arctan_func(tmp, low, high, sigma)\n",
    "scores[\"Gross Margin\"] = gross_margin_scores"
   ],
   "metadata": {
    "collapsed": false
   }
  },
  {
   "cell_type": "code",
   "execution_count": null,
   "outputs": [],
   "source": [
    "# Plot\n",
    "\n",
    "x_values = np.linspace(-130, 150, 5000)  # Generating 1000 values between 0 and 4\n",
    "y_values = arctan_func(x_values, low, high, sigma)\n",
    "\n",
    "# Plot the function\n",
    "plt.plot(x_values, y_values, label=f'Gaussian Function')\n",
    "# plt.ylim(-2, 10)  # Adjust these limits according to your needs\n",
    "plt.xlim(-130, 150)\n",
    "plt.scatter(tmp, gross_margin_scores, color='green', marker='o')\n",
    "plt.axvline(med, color=\"red\", linestyle=\"--\", label=\"Median\")\n",
    "plt.title('Function')\n",
    "plt.xlabel('Gross Profit Increase')\n",
    "plt.ylabel('Score')\n",
    "plt.legend()\n",
    "plt.grid(True)\n",
    "# plot_score(div_values, peak1, peak2, med, sigma1, sigma2)"
   ],
   "metadata": {
    "collapsed": false
   }
  },
  {
   "cell_type": "markdown",
   "source": [
    "# Get Market cap score"
   ],
   "metadata": {
    "collapsed": false
   }
  },
  {
   "cell_type": "code",
   "execution_count": null,
   "outputs": [],
   "source": [
    "def linear_mean_func(values, med_score, med):\n",
    "    # m = med_score/np.median(values)\n",
    "    # sigma2 = 0.001\n",
    "    m1 = med_score/med\n",
    "    f1 = m1*values\n",
    "    # x1 = 8/m1  # The x value when y=8 in the first function\n",
    "    # f2 = -(1/(values-x1)*sigma2) + 10\n",
    "    # print(x1)\n",
    "    # print(m1)\n",
    "    # return np.where(f1 <= 8, f1, f2)\n",
    "    return np.where(f1 <= 10, f1, 10)"
   ],
   "metadata": {
    "collapsed": false
   }
  },
  {
   "cell_type": "code",
   "execution_count": null,
   "outputs": [],
   "source": [
    "market_cap_vals = stocks_checklist[\"Market cap\"]\n",
    "market_cap_scores = linear_mean_func(market_cap_vals, 5, market_cap_vals.mean())\n",
    "scores[\"Market cap\"] = market_cap_scores"
   ],
   "metadata": {
    "collapsed": false
   }
  },
  {
   "cell_type": "code",
   "execution_count": null,
   "outputs": [],
   "source": [
    "def plot(values, func, params=None):\n",
    "    # plot_x = np.linspace(-130, 150, 5000)  # Generating 1000 values between 0 and 4\n",
    "    values = values.dropna()\n",
    "    plot_x = np.linspace(min(values), max(values), 5000)  # Generating 1000 values between 0 and 4\n",
    "    if params:\n",
    "        plot_scores = func(values, *params)\n",
    "        plot_y = func(plot_x, *params)\n",
    "        print(plot_y)\n",
    "        print(plot_scores)\n",
    "    else:\n",
    "        plot_scores = func(values)\n",
    "        plot_y = func(plot_x)\n",
    "    med = np.median(values)  # Median, to determine the peak of the first function\n",
    "    print(med)\n",
    "    # print(med)\n",
    "    # Plot the function\n",
    "    plt.plot(plot_x, plot_y, label=f'Gaussian Function')\n",
    "    # plt.ylim(0, 2)  # Adjust these limits according to your needs\n",
    "    # plt.xlim(-10, 100000000000)\n",
    "    plt.scatter(values, plot_scores, color='green', marker='o')\n",
    "    plt.axvline(med, color=\"red\", linestyle=\"--\", label=\"Median\")\n",
    "    plt.axvline(values.mean(), color=\"green\", linestyle=\"--\", label=\"Median\")\n",
    "    plt.title('Function')\n",
    "    plt.xlabel('Values')\n",
    "    plt.ylabel('Scores')\n",
    "    plt.legend()\n",
    "    plt.grid(True)"
   ],
   "metadata": {
    "collapsed": false
   }
  },
  {
   "cell_type": "code",
   "execution_count": null,
   "outputs": [],
   "source": [
    "plot(stocks_checklist[\"Market cap\"], linear_mean_func, [5, stocks_checklist[\"Market cap\"].mean()])"
   ],
   "metadata": {
    "collapsed": false
   }
  },
  {
   "cell_type": "code",
   "execution_count": null,
   "outputs": [],
   "source": [
    "total_scores(scores)"
   ],
   "metadata": {
    "collapsed": false
   }
  },
  {
   "cell_type": "markdown",
   "source": [
    "# EPS Scoring"
   ],
   "metadata": {
    "collapsed": false
   }
  },
  {
   "cell_type": "code",
   "execution_count": null,
   "outputs": [],
   "source": [
    "def linear_2points(values, pt1, pt2):\n",
    "    # pt - tuple (x, y)\n",
    "    slope = (pt1[1] - pt2[1])/(pt1[0] - pt2[0])\n",
    "    print(slope)\n",
    "    f = slope*values\n",
    "    return f"
   ],
   "metadata": {
    "collapsed": false
   }
  },
  {
   "cell_type": "code",
   "execution_count": null,
   "outputs": [],
   "source": [
    "def linear_2points_zero(values, min_score, max_score):\n",
    "    f1 = linear_2points(values, (0, 0), (min(values), min_score))\n",
    "    f2 = linear_2points(values, (0, 0), (max(values), max_score))\n",
    "    return np.where(values < 0, f1, f2)"
   ],
   "metadata": {
    "collapsed": false
   }
  },
  {
   "cell_type": "code",
   "execution_count": null,
   "outputs": [],
   "source": [
    "plot(stocks_checklist[\"EPS\"], linear_2points_zero, [-5, 10])"
   ],
   "metadata": {
    "collapsed": false
   }
  },
  {
   "cell_type": "code",
   "execution_count": null,
   "outputs": [],
   "source": [
    "scores[\"EPS\"] = linear_2points_zero(stocks_checklist[\"EPS\"], -5, 10)\n",
    "scores"
   ],
   "metadata": {
    "collapsed": false
   }
  },
  {
   "cell_type": "code",
   "execution_count": null,
   "outputs": [],
   "source": [
    "total_scores(scores)"
   ],
   "metadata": {
    "collapsed": false
   }
  },
  {
   "cell_type": "code",
   "execution_count": null,
   "outputs": [],
   "source": [],
   "metadata": {
    "collapsed": false
   }
  }
 ],
 "metadata": {
  "kernelspec": {
   "display_name": "Python 3 (ipykernel)",
   "language": "python",
   "name": "python3"
  },
  "language_info": {
   "codemirror_mode": {
    "name": "ipython",
    "version": 3
   },
   "file_extension": ".py",
   "mimetype": "text/x-python",
   "name": "python",
   "nbconvert_exporter": "python",
   "pygments_lexer": "ipython3",
   "version": "3.11.1"
  }
 },
 "nbformat": 4,
 "nbformat_minor": 4
}
