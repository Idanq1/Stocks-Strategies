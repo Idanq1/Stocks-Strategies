{
 "cells": [
  {
   "cell_type": "code",
   "execution_count": 1,
   "metadata": {
    "tags": [],
    "ExecuteTime": {
     "end_time": "2024-01-18T13:41:07.143046600Z",
     "start_time": "2024-01-18T13:41:04.972391Z"
    }
   },
   "outputs": [],
   "source": [
    "from datetime import datetime, timedelta, timezone\n",
    "from IPython.display import clear_output\n",
    "import pandas_datareader.data as web\n",
    "import matplotlib.pyplot as plt\n",
    "import yfinance as yf\n",
    "import pandas as pd\n",
    "import numpy as np\n",
    "import pyautogui\n",
    "import math\n",
    "import time\n",
    "\n",
    "pd.options.display.float_format = '{:,.2f}'.format"
   ]
  },
  {
   "cell_type": "markdown",
   "metadata": {},
   "source": [
    "# Download data"
   ]
  },
  {
   "cell_type": "markdown",
   "metadata": {},
   "source": [
    "### Fetching tickers from nasdaq and filtering out ETFs and stocks that we have a problem getting their prices"
   ]
  },
  {
   "cell_type": "code",
   "execution_count": 2,
   "metadata": {
    "collapsed": false,
    "jupyter": {
     "outputs_hidden": false
    },
    "ExecuteTime": {
     "end_time": "2024-01-18T13:41:07.157627400Z",
     "start_time": "2024-01-18T13:41:07.144044900Z"
    }
   },
   "outputs": [],
   "source": [
    "def get_all_tickers(etf=False):\n",
    "    # Get a list of all available tickers from Yahoo Finance\n",
    "    all_tickers = web.get_nasdaq_symbols()\n",
    "    all_tickers = all_tickers[~all_tickers[\"Test Issue\"]]  # Filter out stocks that we can't fetch their data for some reason\n",
    "\n",
    "    if not etf:\n",
    "        all_tickers = all_tickers[~all_tickers[\"ETF\"]]  # Filter out ETFs\n",
    "    tickers = all_tickers.index.tolist()\n",
    "    return [str(ticker) for ticker in tickers if str(ticker).isalpha()]"
   ]
  },
  {
   "cell_type": "code",
   "execution_count": 3,
   "metadata": {
    "collapsed": false,
    "jupyter": {
     "outputs_hidden": false
    },
    "ExecuteTime": {
     "end_time": "2024-01-18T13:41:07.201511600Z",
     "start_time": "2024-01-18T13:41:07.158625600Z"
    }
   },
   "outputs": [],
   "source": [
    "def get_data(tickers_list, p=\"max\"):\n",
    "    return yf.download(tickers_list, period=p, interval=\"1d\")"
   ]
  },
  {
   "cell_type": "code",
   "execution_count": 4,
   "metadata": {
    "collapsed": false,
    "jupyter": {
     "outputs_hidden": false
    },
    "ExecuteTime": {
     "end_time": "2024-01-18T13:41:16.169797200Z",
     "start_time": "2024-01-18T13:41:07.174582800Z"
    }
   },
   "outputs": [
    {
     "name": "stderr",
     "output_type": "stream",
     "text": [
      "[*********************100%%**********************]  100 of 100 completed\n"
     ]
    }
   ],
   "source": [
    "tickers = get_all_tickers()[:100]\n",
    "# tickers = [\"TSLA\", \"AAPL\", \"MSFT\", \"NVDA\", \"GOOG\", \"AACI\"]\n",
    "data = get_data(tickers)"
   ]
  },
  {
   "cell_type": "code",
   "execution_count": 5,
   "metadata": {
    "collapsed": false,
    "jupyter": {
     "outputs_hidden": false
    },
    "ExecuteTime": {
     "end_time": "2024-01-18T13:41:16.291491Z",
     "start_time": "2024-01-18T13:41:16.172787600Z"
    }
   },
   "outputs": [],
   "source": [
    "data_cop = data.copy()"
   ]
  },
  {
   "cell_type": "code",
   "execution_count": 6,
   "metadata": {
    "collapsed": false,
    "jupyter": {
     "outputs_hidden": false
    },
    "ExecuteTime": {
     "end_time": "2024-01-18T13:41:16.887544800Z",
     "start_time": "2024-01-18T13:41:16.296468200Z"
    }
   },
   "outputs": [
    {
     "name": "stderr",
     "output_type": "stream",
     "text": [
      "C:\\Users\\sasso\\AppData\\Local\\Temp\\ipykernel_18732\\1838130815.py:9: PerformanceWarning: DataFrame is highly fragmented.  This is usually the result of calling `frame.insert` many times, which has poor performance.  Consider joining all columns at once using pd.concat(axis=1) instead. To get a de-fragmented frame, use `newframe = frame.copy()`\n",
      "  new_df[\"Change\", stock] = np.nan\n"
     ]
    }
   ],
   "source": [
    "new_df = pd.DataFrame(index=data_cop.index.year.unique(), columns=data_cop.columns)\n",
    "new_df.drop(\"Adj Close\", axis=1, level=0, inplace=True)\n",
    "new_df[\"Volume\"] = data_cop[\"Volume\"].groupby(data_cop.index.year).mean()\n",
    "new_df[\"Close\"] = data_cop[\"Close\"].groupby(data_cop.index.year).last()\n",
    "new_df[\"Open\"] = data_cop[\"Open\"].groupby(data_cop.index.year).first()\n",
    "new_df[\"High\"] = data_cop[\"High\"].groupby(data_cop.index.year).max()\n",
    "new_df[\"Low\"] = data_cop[\"Low\"].groupby(data_cop.index.year).min()\n",
    "for stock in new_df[\"Close\"].columns:\n",
    "    new_df[\"Change\", stock] = np.nan\n",
    "new_df[\"Change\"] = new_df.xs(\"Close\", axis=1, level=0).pct_change() * 100"
   ]
  },
  {
   "cell_type": "code",
   "execution_count": 7,
   "metadata": {
    "collapsed": false,
    "jupyter": {
     "outputs_hidden": false
    },
    "ExecuteTime": {
     "end_time": "2024-01-18T13:41:16.998276700Z",
     "start_time": "2024-01-18T13:41:16.888536300Z"
    }
   },
   "outputs": [
    {
     "data": {
      "text/plain": "      Years up Div yield Sector avg daily vol Total Revenue Incr Gross Margin  \\\nA          NaN       NaN    NaN           NaN                NaN          NaN   \nAA         NaN       NaN    NaN           NaN                NaN          NaN   \nAACG       NaN       NaN    NaN           NaN                NaN          NaN   \nAACI       NaN       NaN    NaN           NaN                NaN          NaN   \nAACIU      NaN       NaN    NaN           NaN                NaN          NaN   \n...        ...       ...    ...           ...                ...          ...   \nACV        NaN       NaN    NaN           NaN                NaN          NaN   \nACVA       NaN       NaN    NaN           NaN                NaN          NaN   \nACXP       NaN       NaN    NaN           NaN                NaN          NaN   \nADAG       NaN       NaN    NaN           NaN                NaN          NaN   \nADAP       NaN       NaN    NaN           NaN                NaN          NaN   \n\n      Gross Profit Incr Trading years  \nA                   NaN           NaN  \nAA                  NaN           NaN  \nAACG                NaN           NaN  \nAACI                NaN           NaN  \nAACIU               NaN           NaN  \n...                 ...           ...  \nACV                 NaN           NaN  \nACVA                NaN           NaN  \nACXP                NaN           NaN  \nADAG                NaN           NaN  \nADAP                NaN           NaN  \n\n[100 rows x 8 columns]",
      "text/html": "<div>\n<style scoped>\n    .dataframe tbody tr th:only-of-type {\n        vertical-align: middle;\n    }\n\n    .dataframe tbody tr th {\n        vertical-align: top;\n    }\n\n    .dataframe thead th {\n        text-align: right;\n    }\n</style>\n<table border=\"1\" class=\"dataframe\">\n  <thead>\n    <tr style=\"text-align: right;\">\n      <th></th>\n      <th>Years up</th>\n      <th>Div yield</th>\n      <th>Sector</th>\n      <th>avg daily vol</th>\n      <th>Total Revenue Incr</th>\n      <th>Gross Margin</th>\n      <th>Gross Profit Incr</th>\n      <th>Trading years</th>\n    </tr>\n  </thead>\n  <tbody>\n    <tr>\n      <th>A</th>\n      <td>NaN</td>\n      <td>NaN</td>\n      <td>NaN</td>\n      <td>NaN</td>\n      <td>NaN</td>\n      <td>NaN</td>\n      <td>NaN</td>\n      <td>NaN</td>\n    </tr>\n    <tr>\n      <th>AA</th>\n      <td>NaN</td>\n      <td>NaN</td>\n      <td>NaN</td>\n      <td>NaN</td>\n      <td>NaN</td>\n      <td>NaN</td>\n      <td>NaN</td>\n      <td>NaN</td>\n    </tr>\n    <tr>\n      <th>AACG</th>\n      <td>NaN</td>\n      <td>NaN</td>\n      <td>NaN</td>\n      <td>NaN</td>\n      <td>NaN</td>\n      <td>NaN</td>\n      <td>NaN</td>\n      <td>NaN</td>\n    </tr>\n    <tr>\n      <th>AACI</th>\n      <td>NaN</td>\n      <td>NaN</td>\n      <td>NaN</td>\n      <td>NaN</td>\n      <td>NaN</td>\n      <td>NaN</td>\n      <td>NaN</td>\n      <td>NaN</td>\n    </tr>\n    <tr>\n      <th>AACIU</th>\n      <td>NaN</td>\n      <td>NaN</td>\n      <td>NaN</td>\n      <td>NaN</td>\n      <td>NaN</td>\n      <td>NaN</td>\n      <td>NaN</td>\n      <td>NaN</td>\n    </tr>\n    <tr>\n      <th>...</th>\n      <td>...</td>\n      <td>...</td>\n      <td>...</td>\n      <td>...</td>\n      <td>...</td>\n      <td>...</td>\n      <td>...</td>\n      <td>...</td>\n    </tr>\n    <tr>\n      <th>ACV</th>\n      <td>NaN</td>\n      <td>NaN</td>\n      <td>NaN</td>\n      <td>NaN</td>\n      <td>NaN</td>\n      <td>NaN</td>\n      <td>NaN</td>\n      <td>NaN</td>\n    </tr>\n    <tr>\n      <th>ACVA</th>\n      <td>NaN</td>\n      <td>NaN</td>\n      <td>NaN</td>\n      <td>NaN</td>\n      <td>NaN</td>\n      <td>NaN</td>\n      <td>NaN</td>\n      <td>NaN</td>\n    </tr>\n    <tr>\n      <th>ACXP</th>\n      <td>NaN</td>\n      <td>NaN</td>\n      <td>NaN</td>\n      <td>NaN</td>\n      <td>NaN</td>\n      <td>NaN</td>\n      <td>NaN</td>\n      <td>NaN</td>\n    </tr>\n    <tr>\n      <th>ADAG</th>\n      <td>NaN</td>\n      <td>NaN</td>\n      <td>NaN</td>\n      <td>NaN</td>\n      <td>NaN</td>\n      <td>NaN</td>\n      <td>NaN</td>\n      <td>NaN</td>\n    </tr>\n    <tr>\n      <th>ADAP</th>\n      <td>NaN</td>\n      <td>NaN</td>\n      <td>NaN</td>\n      <td>NaN</td>\n      <td>NaN</td>\n      <td>NaN</td>\n      <td>NaN</td>\n      <td>NaN</td>\n    </tr>\n  </tbody>\n</table>\n<p>100 rows × 8 columns</p>\n</div>"
     },
     "execution_count": 7,
     "metadata": {},
     "output_type": "execute_result"
    }
   ],
   "source": [
    "stocks_checklist = pd.DataFrame(index=new_df[\"Close\"].columns, columns=[\"Years up\", \"Div yield\", \"Sector\", \"avg daily vol\", \"Total Revenue Incr\", \"Gross Margin\", \"Gross Profit Incr\", \"Trading years\"])\n",
    "\n",
    "stocks_checklist"
   ]
  },
  {
   "cell_type": "code",
   "execution_count": 8,
   "metadata": {
    "collapsed": false,
    "jupyter": {
     "outputs_hidden": false
    }
   },
   "outputs": [
    {
     "name": "stdout",
     "output_type": "stream",
     "text": [
      "ADAP\n",
      "67/67\n"
     ]
    }
   ],
   "source": [
    "stocks_checklist = pd.DataFrame(index=new_df[\"Close\"].columns, columns=[\"Years up\", \"Div yield\", \"Sector\", \"avg daily vol\", \"Total Revenue Incr\", \"Gross Margin\", \"Gross Profit Incr\", \"Trading years\"])\n",
    "\n",
    "tickers = list(new_df[\"Close\"].columns)  # In case some of the tickers failed, this is the ticker list straight from the returned df\n",
    "# Years up in a row\n",
    "tmp = new_df[\"Change\"].copy().iloc[::-1]\n",
    "tmp.fillna(-1, inplace=True)\n",
    "neg_year = tmp.apply(lambda x: x[x < 0].index[0] if any(x<0) else None)\n",
    "current_year = tmp.index[0]\n",
    "stocks_checklist[\"Years up\"] = current_year - neg_year.copy()\n",
    "# stocks_checklist[\"Years up\"] = 1\n",
    "stocks_checklist[\"avg daily vol\"] = new_df[\"Volume\"].copy().iloc[-1:].mean()\n",
    "stocks_checklist[\"avg daily vol\"] = stocks_checklist[\"avg daily vol\"].fillna(0)\n",
    "\n",
    "# Eliminate by avg daily vol, so it'll be faster\n",
    "stocks_checklist = stocks_checklist[stocks_checklist[\"avg daily vol\"] > 40000]\n",
    "\n",
    "# Div yield\n",
    "print(f\"0/{len(stocks_checklist.index)}\")\n",
    "i = 1\n",
    "for ticker in stocks_checklist.index:\n",
    "    clear_output(wait=True)\n",
    "    print(ticker)\n",
    "    print(f\"{i}/{len(stocks_checklist.index)}\")\n",
    "    i += 1\n",
    "    tmp = yf.Ticker(ticker)\n",
    "    start_date = (datetime.now() - timedelta(days = 365))\n",
    "    start_date = start_date.replace(tzinfo=timezone.utc)\n",
    "    div_sum = tmp.dividends.loc[start_date:].sum()\n",
    "    close_price = new_df[\"Close\"][ticker].iloc[-1]\n",
    "    div_yield = (div_sum/close_price) * 100\n",
    "    stocks_checklist.loc[ticker, \"Div yield\"] = div_yield\n",
    "    # Sector\n",
    "    if \"sector\" in tmp.info:\n",
    "        stocks_checklist.loc[ticker, \"Sector\"] = tmp.info[\"sector\"]\n",
    "    \n",
    "    if \"Gross Profit\" in tmp.income_stmt.index:\n",
    "        # Average Gross margin over the last 3 income statements\n",
    "        if tmp.income_stmt.loc[\"Total Revenue\"].all() > 0:\n",
    "            stocks_checklist.loc[ticker, \"Gross Margin\"] = ((tmp.income_stmt.loc[\"Gross Profit\"].iloc[::-1] / tmp.income_stmt.loc[\"Total Revenue\"].iloc[::-1]) * 100).mean()  # Gross margin of the last 3 years\n",
    "        \n",
    "        # Gross profit increase percentage over the last 3 years (3 income statements)\n",
    "        stocks_checklist.loc[ticker, \"Gross Profit Incr\"] = tmp.income_stmt.loc[\"Gross Profit\"].iloc[::-1].pct_change().mean() * 100\n",
    "    \n",
    "    # Total Revenue increase percentage over the last 3 years (3 income statements)\n",
    "    stocks_checklist.loc[ticker, \"Total Revenue Incr\"] = tmp.income_stmt.loc[\"Total Revenue\"].iloc[::-1].pct_change().mean() * 100\n",
    "    \n",
    "    # How long the stock is trading for\n",
    "    if \"firstTradeDateEpochUtc\" in tmp.info:\n",
    "        tmp.info\n",
    "        epoch = tmp.info[\"firstTradeDateEpochUtc\"]\n",
    "        if epoch > 0:\n",
    "            fty = datetime.fromtimestamp(tmp.info[\"firstTradeDateEpochUtc\"]).year  # First trade year\n",
    "        else:\n",
    "            fty = (datetime(1970, 1, 1) + timedelta(seconds=epoch)).year\n",
    "        stocks_checklist.loc[ticker, \"Trading years\"] = current_year - fty\n",
    "    \n",
    "stocks_checklist[\"Div yield\"].replace(0.0, np.nan, inplace=True)\n",
    "stocks_checklist.replace([np.inf, -np.inf], np.nan, inplace=True)"
   ]
  },
  {
   "cell_type": "code",
   "execution_count": 9,
   "metadata": {
    "collapsed": false,
    "jupyter": {
     "outputs_hidden": false
    },
    "ExecuteTime": {
     "end_time": "2024-01-18T13:42:01.095265100Z",
     "start_time": "2024-01-18T13:42:01.080032900Z"
    }
   },
   "outputs": [
    {
     "data": {
      "text/plain": "      Years up  Div yield              Sector  avg daily vol  \\\nA            0       0.71          Healthcare   1,583,145.45   \nAA           0       1.47     Basic Materials   6,187,090.91   \nAACT         1        NaN  Financial Services     128,800.00   \nAADI         0        NaN          Healthcare     470,527.27   \nAAGR         0        NaN  Consumer Defensive     438,400.00   \n...        ...        ...                 ...            ...   \nACV          2      11.07  Financial Services      42,590.91   \nACVA         0        NaN   Consumer Cyclical   1,057,681.82   \nACXP         1        NaN          Healthcare     447,709.09   \nADAG         2        NaN          Healthcare     298,081.82   \nADAP         0        NaN          Healthcare     895,554.55   \n\n      Total Revenue Incr  Gross Margin  Gross Profit Incr  Trading years  \nA                   8.84         53.03               7.48             25  \nAA                 16.66         18.95              51.19             62  \nAACT                 NaN           NaN                NaN              1  \nAADI              664.37         95.61           1,288.10              6  \nAAGR                 NaN           NaN                NaN              3  \n...                  ...           ...                ...            ...  \nACV            -1,036.61           NaN                NaN              9  \nACVA               44.82         44.16              40.77              3  \nACXP                 NaN           NaN                NaN              3  \nADAG              671.52           NaN                NaN              3  \nADAP              198.43           NaN                NaN              9  \n\n[67 rows x 8 columns]",
      "text/html": "<div>\n<style scoped>\n    .dataframe tbody tr th:only-of-type {\n        vertical-align: middle;\n    }\n\n    .dataframe tbody tr th {\n        vertical-align: top;\n    }\n\n    .dataframe thead th {\n        text-align: right;\n    }\n</style>\n<table border=\"1\" class=\"dataframe\">\n  <thead>\n    <tr style=\"text-align: right;\">\n      <th></th>\n      <th>Years up</th>\n      <th>Div yield</th>\n      <th>Sector</th>\n      <th>avg daily vol</th>\n      <th>Total Revenue Incr</th>\n      <th>Gross Margin</th>\n      <th>Gross Profit Incr</th>\n      <th>Trading years</th>\n    </tr>\n  </thead>\n  <tbody>\n    <tr>\n      <th>A</th>\n      <td>0</td>\n      <td>0.71</td>\n      <td>Healthcare</td>\n      <td>1,583,145.45</td>\n      <td>8.84</td>\n      <td>53.03</td>\n      <td>7.48</td>\n      <td>25</td>\n    </tr>\n    <tr>\n      <th>AA</th>\n      <td>0</td>\n      <td>1.47</td>\n      <td>Basic Materials</td>\n      <td>6,187,090.91</td>\n      <td>16.66</td>\n      <td>18.95</td>\n      <td>51.19</td>\n      <td>62</td>\n    </tr>\n    <tr>\n      <th>AACT</th>\n      <td>1</td>\n      <td>NaN</td>\n      <td>Financial Services</td>\n      <td>128,800.00</td>\n      <td>NaN</td>\n      <td>NaN</td>\n      <td>NaN</td>\n      <td>1</td>\n    </tr>\n    <tr>\n      <th>AADI</th>\n      <td>0</td>\n      <td>NaN</td>\n      <td>Healthcare</td>\n      <td>470,527.27</td>\n      <td>664.37</td>\n      <td>95.61</td>\n      <td>1,288.10</td>\n      <td>6</td>\n    </tr>\n    <tr>\n      <th>AAGR</th>\n      <td>0</td>\n      <td>NaN</td>\n      <td>Consumer Defensive</td>\n      <td>438,400.00</td>\n      <td>NaN</td>\n      <td>NaN</td>\n      <td>NaN</td>\n      <td>3</td>\n    </tr>\n    <tr>\n      <th>...</th>\n      <td>...</td>\n      <td>...</td>\n      <td>...</td>\n      <td>...</td>\n      <td>...</td>\n      <td>...</td>\n      <td>...</td>\n      <td>...</td>\n    </tr>\n    <tr>\n      <th>ACV</th>\n      <td>2</td>\n      <td>11.07</td>\n      <td>Financial Services</td>\n      <td>42,590.91</td>\n      <td>-1,036.61</td>\n      <td>NaN</td>\n      <td>NaN</td>\n      <td>9</td>\n    </tr>\n    <tr>\n      <th>ACVA</th>\n      <td>0</td>\n      <td>NaN</td>\n      <td>Consumer Cyclical</td>\n      <td>1,057,681.82</td>\n      <td>44.82</td>\n      <td>44.16</td>\n      <td>40.77</td>\n      <td>3</td>\n    </tr>\n    <tr>\n      <th>ACXP</th>\n      <td>1</td>\n      <td>NaN</td>\n      <td>Healthcare</td>\n      <td>447,709.09</td>\n      <td>NaN</td>\n      <td>NaN</td>\n      <td>NaN</td>\n      <td>3</td>\n    </tr>\n    <tr>\n      <th>ADAG</th>\n      <td>2</td>\n      <td>NaN</td>\n      <td>Healthcare</td>\n      <td>298,081.82</td>\n      <td>671.52</td>\n      <td>NaN</td>\n      <td>NaN</td>\n      <td>3</td>\n    </tr>\n    <tr>\n      <th>ADAP</th>\n      <td>0</td>\n      <td>NaN</td>\n      <td>Healthcare</td>\n      <td>895,554.55</td>\n      <td>198.43</td>\n      <td>NaN</td>\n      <td>NaN</td>\n      <td>9</td>\n    </tr>\n  </tbody>\n</table>\n<p>67 rows × 8 columns</p>\n</div>"
     },
     "execution_count": 9,
     "metadata": {},
     "output_type": "execute_result"
    }
   ],
   "source": [
    "# stocks_checklist[\"avg daily vol\"].fillna(0, inplace=True)\n",
    "stocks_checklist"
   ]
  },
  {
   "cell_type": "markdown",
   "metadata": {},
   "source": [
    "# Scoring"
   ]
  },
  {
   "cell_type": "code",
   "execution_count": 10,
   "outputs": [],
   "source": [
    "scores = pd.DataFrame(index=stocks_checklist.index, columns=stocks_checklist.columns)  # Generate scoring dataframe"
   ],
   "metadata": {
    "collapsed": false,
    "ExecuteTime": {
     "end_time": "2024-01-18T13:42:01.214588200Z",
     "start_time": "2024-01-18T13:42:01.096263400Z"
    }
   }
  },
  {
   "cell_type": "markdown",
   "source": [
    "### Dividend scoring"
   ],
   "metadata": {
    "collapsed": false
   }
  },
  {
   "cell_type": "code",
   "execution_count": 11,
   "outputs": [],
   "source": [
    "def div_func(x, peak1, peak2, med, sigma1, sigma2):\n",
    "    f1 = (-1/(x*sigma1)) + peak2\n",
    "    f2 = peak1 * np.exp(-((x-med)**2)/sigma2)\n",
    "    return np.where(x < med, f2, f1)"
   ],
   "metadata": {
    "collapsed": false,
    "ExecuteTime": {
     "end_time": "2024-01-18T13:42:01.241516800Z",
     "start_time": "2024-01-18T13:42:01.143453900Z"
    }
   }
  },
  {
   "cell_type": "code",
   "execution_count": 12,
   "metadata": {
    "ExecuteTime": {
     "end_time": "2024-01-18T13:42:01.242514200Z",
     "start_time": "2024-01-18T13:42:01.158413900Z"
    }
   },
   "outputs": [],
   "source": [
    "peak1 = 6  # Y peak value of the first mishvaha\n",
    "peak2 = 10  # Y peak value of the second mishvaha (the one where it shoef to)\n",
    "starting_value = 0.4  # The score of a div yield 0\n",
    "\n",
    "tmp = stocks_checklist[\"Div yield\"].dropna()  # Drop no-dividend stocks\n",
    "div_values = np.array(tmp.values)\n",
    "div_stocks = np.array(tmp.index)\n",
    "med = np.median(div_values)  # Median, to determine the peak of the first function\n",
    "sigma1 = 1/(med*(peak2-peak1))  # In order for the second function to continue from where the first function stops (after the median point)\n",
    "sigma2 = (med**2) / math.log(peak1/starting_value)  # Determine the slope by the starting point and peak of median\n",
    "div_scores = div_func(div_values, peak1, peak2, med, sigma1, sigma2)"
   ]
  },
  {
   "cell_type": "code",
   "execution_count": 13,
   "metadata": {
    "ExecuteTime": {
     "end_time": "2024-01-18T13:42:01.468909Z",
     "start_time": "2024-01-18T13:42:01.192647700Z"
    }
   },
   "outputs": [
    {
     "name": "stderr",
     "output_type": "stream",
     "text": [
      "C:\\Users\\sasso\\AppData\\Local\\Temp\\ipykernel_18732\\1739882789.py:2: RuntimeWarning: divide by zero encountered in divide\n",
      "  f1 = (-1/(x*sigma1)) + peak2\n"
     ]
    },
    {
     "data": {
      "text/plain": "<Figure size 640x480 with 1 Axes>",
      "image/png": "[encoded data removed]"
     },
     "metadata": {},
     "output_type": "display_data"
    }
   ],
   "source": [
    "def plot_score(div_values, peak1, peak2, med, sigma1, sigma2):\n",
    "    x_values = np.linspace(0, max(div_values), 5000)  # Generating 1000 values between 0 and 4\n",
    "    y_values = div_func(x_values, peak1, peak2, med, sigma1, sigma2)\n",
    "    # Calculate corresponding y values using the Gaussian function\n",
    "\n",
    "    # Plot the function\n",
    "    plt.plot(x_values, y_values, label=f'Gaussian Function')\n",
    "    plt.ylim(-2, 10)  # Adjust these limits according to your needs\n",
    "\n",
    "    plt.scatter(div_values, div_scores, color='green', marker='o')\n",
    "    plt.axvline(med, color=\"red\", linestyle=\"--\", label=\"Median\")\n",
    "    plt.title('Gaussian Function')\n",
    "    plt.xlabel('Div yield')\n",
    "    plt.ylabel('Scoring')\n",
    "    plt.legend()\n",
    "    plt.grid(True)\n",
    "plot_score(div_values, peak1, peak2, med, sigma1, sigma2)"
   ]
  },
  {
   "cell_type": "code",
   "execution_count": 14,
   "outputs": [
    {
     "data": {
      "text/plain": "     Years up Div yield Sector avg daily vol Total Revenue Incr Gross Margin  \\\nA         NaN      1.03    NaN           NaN                NaN          NaN   \nAA        NaN      2.26    NaN           NaN                NaN          NaN   \nAACT      NaN       NaN    NaN           NaN                NaN          NaN   \nAADI      NaN       NaN    NaN           NaN                NaN          NaN   \nAAGR      NaN       NaN    NaN           NaN                NaN          NaN   \n...       ...       ...    ...           ...                ...          ...   \nACV       NaN      8.67    NaN           NaN                NaN          NaN   \nACVA      NaN       NaN    NaN           NaN                NaN          NaN   \nACXP      NaN       NaN    NaN           NaN                NaN          NaN   \nADAG      NaN       NaN    NaN           NaN                NaN          NaN   \nADAP      NaN       NaN    NaN           NaN                NaN          NaN   \n\n     Gross Profit Incr Trading years  \nA                  NaN           NaN  \nAA                 NaN           NaN  \nAACT               NaN           NaN  \nAADI               NaN           NaN  \nAAGR               NaN           NaN  \n...                ...           ...  \nACV                NaN           NaN  \nACVA               NaN           NaN  \nACXP               NaN           NaN  \nADAG               NaN           NaN  \nADAP               NaN           NaN  \n\n[67 rows x 8 columns]",
      "text/html": "<div>\n<style scoped>\n    .dataframe tbody tr th:only-of-type {\n        vertical-align: middle;\n    }\n\n    .dataframe tbody tr th {\n        vertical-align: top;\n    }\n\n    .dataframe thead th {\n        text-align: right;\n    }\n</style>\n<table border=\"1\" class=\"dataframe\">\n  <thead>\n    <tr style=\"text-align: right;\">\n      <th></th>\n      <th>Years up</th>\n      <th>Div yield</th>\n      <th>Sector</th>\n      <th>avg daily vol</th>\n      <th>Total Revenue Incr</th>\n      <th>Gross Margin</th>\n      <th>Gross Profit Incr</th>\n      <th>Trading years</th>\n    </tr>\n  </thead>\n  <tbody>\n    <tr>\n      <th>A</th>\n      <td>NaN</td>\n      <td>1.03</td>\n      <td>NaN</td>\n      <td>NaN</td>\n      <td>NaN</td>\n      <td>NaN</td>\n      <td>NaN</td>\n      <td>NaN</td>\n    </tr>\n    <tr>\n      <th>AA</th>\n      <td>NaN</td>\n      <td>2.26</td>\n      <td>NaN</td>\n      <td>NaN</td>\n      <td>NaN</td>\n      <td>NaN</td>\n      <td>NaN</td>\n      <td>NaN</td>\n    </tr>\n    <tr>\n      <th>AACT</th>\n      <td>NaN</td>\n      <td>NaN</td>\n      <td>NaN</td>\n      <td>NaN</td>\n      <td>NaN</td>\n      <td>NaN</td>\n      <td>NaN</td>\n      <td>NaN</td>\n    </tr>\n    <tr>\n      <th>AADI</th>\n      <td>NaN</td>\n      <td>NaN</td>\n      <td>NaN</td>\n      <td>NaN</td>\n      <td>NaN</td>\n      <td>NaN</td>\n      <td>NaN</td>\n      <td>NaN</td>\n    </tr>\n    <tr>\n      <th>AAGR</th>\n      <td>NaN</td>\n      <td>NaN</td>\n      <td>NaN</td>\n      <td>NaN</td>\n      <td>NaN</td>\n      <td>NaN</td>\n      <td>NaN</td>\n      <td>NaN</td>\n    </tr>\n    <tr>\n      <th>...</th>\n      <td>...</td>\n      <td>...</td>\n      <td>...</td>\n      <td>...</td>\n      <td>...</td>\n      <td>...</td>\n      <td>...</td>\n      <td>...</td>\n    </tr>\n    <tr>\n      <th>ACV</th>\n      <td>NaN</td>\n      <td>8.67</td>\n      <td>NaN</td>\n      <td>NaN</td>\n      <td>NaN</td>\n      <td>NaN</td>\n      <td>NaN</td>\n      <td>NaN</td>\n    </tr>\n    <tr>\n      <th>ACVA</th>\n      <td>NaN</td>\n      <td>NaN</td>\n      <td>NaN</td>\n      <td>NaN</td>\n      <td>NaN</td>\n      <td>NaN</td>\n      <td>NaN</td>\n      <td>NaN</td>\n    </tr>\n    <tr>\n      <th>ACXP</th>\n      <td>NaN</td>\n      <td>NaN</td>\n      <td>NaN</td>\n      <td>NaN</td>\n      <td>NaN</td>\n      <td>NaN</td>\n      <td>NaN</td>\n      <td>NaN</td>\n    </tr>\n    <tr>\n      <th>ADAG</th>\n      <td>NaN</td>\n      <td>NaN</td>\n      <td>NaN</td>\n      <td>NaN</td>\n      <td>NaN</td>\n      <td>NaN</td>\n      <td>NaN</td>\n      <td>NaN</td>\n    </tr>\n    <tr>\n      <th>ADAP</th>\n      <td>NaN</td>\n      <td>NaN</td>\n      <td>NaN</td>\n      <td>NaN</td>\n      <td>NaN</td>\n      <td>NaN</td>\n      <td>NaN</td>\n      <td>NaN</td>\n    </tr>\n  </tbody>\n</table>\n<p>67 rows × 8 columns</p>\n</div>"
     },
     "execution_count": 14,
     "metadata": {},
     "output_type": "execute_result"
    }
   ],
   "source": [
    "scores.loc[div_stocks, \"Div yield\"] = div_scores\n",
    "scores"
   ],
   "metadata": {
    "collapsed": false,
    "ExecuteTime": {
     "end_time": "2024-01-18T13:42:01.468909Z",
     "start_time": "2024-01-18T13:42:01.462924500Z"
    }
   }
  },
  {
   "cell_type": "markdown",
   "source": [
    "### Trading years score"
   ],
   "metadata": {
    "collapsed": false
   }
  },
  {
   "cell_type": "code",
   "execution_count": 15,
   "outputs": [],
   "source": [
    "def ty_func(values):\n",
    "    # Linear\n",
    "    max_years = max(values)\n",
    "    f = values/(max_years/10)\n",
    "    return f"
   ],
   "metadata": {
    "collapsed": false,
    "ExecuteTime": {
     "end_time": "2024-01-18T13:42:01.480642900Z",
     "start_time": "2024-01-18T13:42:01.466914200Z"
    }
   }
  },
  {
   "cell_type": "code",
   "execution_count": 16,
   "outputs": [
    {
     "data": {
      "text/plain": "     Years up Div yield Sector avg daily vol Total Revenue Incr Gross Margin  \\\nA         NaN      1.03    NaN           NaN                NaN          NaN   \nAA        NaN      2.26    NaN           NaN                NaN          NaN   \nAACT      NaN       NaN    NaN           NaN                NaN          NaN   \nAADI      NaN       NaN    NaN           NaN                NaN          NaN   \nAAGR      NaN       NaN    NaN           NaN                NaN          NaN   \n...       ...       ...    ...           ...                ...          ...   \nACV       NaN      8.67    NaN           NaN                NaN          NaN   \nACVA      NaN       NaN    NaN           NaN                NaN          NaN   \nACXP      NaN       NaN    NaN           NaN                NaN          NaN   \nADAG      NaN       NaN    NaN           NaN                NaN          NaN   \nADAP      NaN       NaN    NaN           NaN                NaN          NaN   \n\n     Gross Profit Incr  Trading years  \nA                  NaN           4.03  \nAA                 NaN          10.00  \nAACT               NaN           0.16  \nAADI               NaN           0.97  \nAAGR               NaN           0.48  \n...                ...            ...  \nACV                NaN           1.45  \nACVA               NaN           0.48  \nACXP               NaN           0.48  \nADAG               NaN           0.48  \nADAP               NaN           1.45  \n\n[67 rows x 8 columns]",
      "text/html": "<div>\n<style scoped>\n    .dataframe tbody tr th:only-of-type {\n        vertical-align: middle;\n    }\n\n    .dataframe tbody tr th {\n        vertical-align: top;\n    }\n\n    .dataframe thead th {\n        text-align: right;\n    }\n</style>\n<table border=\"1\" class=\"dataframe\">\n  <thead>\n    <tr style=\"text-align: right;\">\n      <th></th>\n      <th>Years up</th>\n      <th>Div yield</th>\n      <th>Sector</th>\n      <th>avg daily vol</th>\n      <th>Total Revenue Incr</th>\n      <th>Gross Margin</th>\n      <th>Gross Profit Incr</th>\n      <th>Trading years</th>\n    </tr>\n  </thead>\n  <tbody>\n    <tr>\n      <th>A</th>\n      <td>NaN</td>\n      <td>1.03</td>\n      <td>NaN</td>\n      <td>NaN</td>\n      <td>NaN</td>\n      <td>NaN</td>\n      <td>NaN</td>\n      <td>4.03</td>\n    </tr>\n    <tr>\n      <th>AA</th>\n      <td>NaN</td>\n      <td>2.26</td>\n      <td>NaN</td>\n      <td>NaN</td>\n      <td>NaN</td>\n      <td>NaN</td>\n      <td>NaN</td>\n      <td>10.00</td>\n    </tr>\n    <tr>\n      <th>AACT</th>\n      <td>NaN</td>\n      <td>NaN</td>\n      <td>NaN</td>\n      <td>NaN</td>\n      <td>NaN</td>\n      <td>NaN</td>\n      <td>NaN</td>\n      <td>0.16</td>\n    </tr>\n    <tr>\n      <th>AADI</th>\n      <td>NaN</td>\n      <td>NaN</td>\n      <td>NaN</td>\n      <td>NaN</td>\n      <td>NaN</td>\n      <td>NaN</td>\n      <td>NaN</td>\n      <td>0.97</td>\n    </tr>\n    <tr>\n      <th>AAGR</th>\n      <td>NaN</td>\n      <td>NaN</td>\n      <td>NaN</td>\n      <td>NaN</td>\n      <td>NaN</td>\n      <td>NaN</td>\n      <td>NaN</td>\n      <td>0.48</td>\n    </tr>\n    <tr>\n      <th>...</th>\n      <td>...</td>\n      <td>...</td>\n      <td>...</td>\n      <td>...</td>\n      <td>...</td>\n      <td>...</td>\n      <td>...</td>\n      <td>...</td>\n    </tr>\n    <tr>\n      <th>ACV</th>\n      <td>NaN</td>\n      <td>8.67</td>\n      <td>NaN</td>\n      <td>NaN</td>\n      <td>NaN</td>\n      <td>NaN</td>\n      <td>NaN</td>\n      <td>1.45</td>\n    </tr>\n    <tr>\n      <th>ACVA</th>\n      <td>NaN</td>\n      <td>NaN</td>\n      <td>NaN</td>\n      <td>NaN</td>\n      <td>NaN</td>\n      <td>NaN</td>\n      <td>NaN</td>\n      <td>0.48</td>\n    </tr>\n    <tr>\n      <th>ACXP</th>\n      <td>NaN</td>\n      <td>NaN</td>\n      <td>NaN</td>\n      <td>NaN</td>\n      <td>NaN</td>\n      <td>NaN</td>\n      <td>NaN</td>\n      <td>0.48</td>\n    </tr>\n    <tr>\n      <th>ADAG</th>\n      <td>NaN</td>\n      <td>NaN</td>\n      <td>NaN</td>\n      <td>NaN</td>\n      <td>NaN</td>\n      <td>NaN</td>\n      <td>NaN</td>\n      <td>0.48</td>\n    </tr>\n    <tr>\n      <th>ADAP</th>\n      <td>NaN</td>\n      <td>NaN</td>\n      <td>NaN</td>\n      <td>NaN</td>\n      <td>NaN</td>\n      <td>NaN</td>\n      <td>NaN</td>\n      <td>1.45</td>\n    </tr>\n  </tbody>\n</table>\n<p>67 rows × 8 columns</p>\n</div>"
     },
     "execution_count": 16,
     "metadata": {},
     "output_type": "execute_result"
    }
   ],
   "source": [
    "ty_values = stocks_checklist[\"Trading years\"]\n",
    "ty_scores = ty_func(ty_values)\n",
    "# ty_scores\n",
    "scores[\"Trading years\"] = ty_scores\n",
    "scores"
   ],
   "metadata": {
    "collapsed": false,
    "ExecuteTime": {
     "end_time": "2024-01-18T13:42:01.607311Z",
     "start_time": "2024-01-18T13:42:01.482638Z"
    }
   }
  },
  {
   "cell_type": "markdown",
   "source": [
    "### Years up scoring"
   ],
   "metadata": {
    "collapsed": false
   }
  },
  {
   "cell_type": "code",
   "execution_count": 17,
   "outputs": [],
   "source": [
    "def yu_func(values):  # years up func\n",
    "    f = (-1/(0.1 * values) + 10)\n",
    "\n",
    "    return np.where(values == 0, 0, np.where(values == 1, 2, f))"
   ],
   "metadata": {
    "collapsed": false,
    "ExecuteTime": {
     "end_time": "2024-01-18T13:42:01.608308600Z",
     "start_time": "2024-01-18T13:42:01.498593900Z"
    }
   }
  },
  {
   "cell_type": "code",
   "execution_count": 18,
   "outputs": [],
   "source": [
    "yu_values = stocks_checklist[\"Years up\"]\n",
    "yu_scores = yu_func(yu_values)\n",
    "scores[\"Years up\"] = yu_scores"
   ],
   "metadata": {
    "collapsed": false,
    "ExecuteTime": {
     "end_time": "2024-01-18T13:42:01.608308600Z",
     "start_time": "2024-01-18T13:42:01.514550400Z"
    }
   }
  },
  {
   "cell_type": "markdown",
   "source": [
    "### Average daily volume & Total rev incrs scoring & Gross profit incr"
   ],
   "metadata": {
    "collapsed": false
   }
  },
  {
   "cell_type": "code",
   "execution_count": 19,
   "outputs": [],
   "source": [
    "def linear_max_func(values):  # Score 10 (max) determined by max value in values\n",
    "    m = 10/max(values)\n",
    "    f = m*values\n",
    "    return f"
   ],
   "metadata": {
    "collapsed": false,
    "ExecuteTime": {
     "end_time": "2024-01-18T13:42:01.609305400Z",
     "start_time": "2024-01-18T13:42:01.529510600Z"
    }
   }
  },
  {
   "cell_type": "code",
   "execution_count": 20,
   "outputs": [],
   "source": [
    "scores[\"avg daily vol\"] = linear_max_func(stocks_checklist[\"avg daily vol\"])\n",
    "scores[\"Total Revenue Incr\"] = linear_max_func(stocks_checklist[\"Total Revenue Incr\"])\n",
    "scores[\"Gross Profit Incr\"] = linear_max_func(stocks_checklist[\"Gross Profit Incr\"])"
   ],
   "metadata": {
    "collapsed": false,
    "ExecuteTime": {
     "end_time": "2024-01-18T13:42:01.609305400Z",
     "start_time": "2024-01-18T13:42:01.545469Z"
    }
   }
  },
  {
   "cell_type": "code",
   "execution_count": 21,
   "outputs": [
    {
     "data": {
      "text/plain": "      Years up Div yield Sector  avg daily vol  Total Revenue Incr  \\\nA         0.00      1.03    NaN           0.28                0.13   \nAA        0.00      2.26    NaN           1.09                0.25   \nAACT      2.00       NaN    NaN           0.02                 NaN   \nAADI      0.00       NaN    NaN           0.08                9.89   \nAAGR      0.00       NaN    NaN           0.08                 NaN   \n...        ...       ...    ...            ...                 ...   \nACV       5.00      8.67    NaN           0.01              -15.44   \nACVA      0.00       NaN    NaN           0.19                0.67   \nACXP      2.00       NaN    NaN           0.08                 NaN   \nADAG      5.00       NaN    NaN           0.05               10.00   \nADAP      0.00       NaN    NaN           0.16                2.95   \n\n     Gross Margin  Gross Profit Incr  Trading years  Total  \nA             NaN               0.00           4.03   5.47  \nAA            NaN               0.03          10.00  13.62  \nAACT          NaN                NaN           0.16   2.18  \nAADI          NaN               0.77           0.97  11.72  \nAAGR          NaN                NaN           0.48   0.56  \n...           ...                ...            ...    ...  \nACV           NaN                NaN           1.45  -0.31  \nACVA          NaN               0.02           0.48   1.36  \nACXP          NaN                NaN           0.48   2.56  \nADAG          NaN                NaN           0.48  15.54  \nADAP          NaN                NaN           1.45   4.56  \n\n[67 rows x 9 columns]",
      "text/html": "<div>\n<style scoped>\n    .dataframe tbody tr th:only-of-type {\n        vertical-align: middle;\n    }\n\n    .dataframe tbody tr th {\n        vertical-align: top;\n    }\n\n    .dataframe thead th {\n        text-align: right;\n    }\n</style>\n<table border=\"1\" class=\"dataframe\">\n  <thead>\n    <tr style=\"text-align: right;\">\n      <th></th>\n      <th>Years up</th>\n      <th>Div yield</th>\n      <th>Sector</th>\n      <th>avg daily vol</th>\n      <th>Total Revenue Incr</th>\n      <th>Gross Margin</th>\n      <th>Gross Profit Incr</th>\n      <th>Trading years</th>\n      <th>Total</th>\n    </tr>\n  </thead>\n  <tbody>\n    <tr>\n      <th>A</th>\n      <td>0.00</td>\n      <td>1.03</td>\n      <td>NaN</td>\n      <td>0.28</td>\n      <td>0.13</td>\n      <td>NaN</td>\n      <td>0.00</td>\n      <td>4.03</td>\n      <td>5.47</td>\n    </tr>\n    <tr>\n      <th>AA</th>\n      <td>0.00</td>\n      <td>2.26</td>\n      <td>NaN</td>\n      <td>1.09</td>\n      <td>0.25</td>\n      <td>NaN</td>\n      <td>0.03</td>\n      <td>10.00</td>\n      <td>13.62</td>\n    </tr>\n    <tr>\n      <th>AACT</th>\n      <td>2.00</td>\n      <td>NaN</td>\n      <td>NaN</td>\n      <td>0.02</td>\n      <td>NaN</td>\n      <td>NaN</td>\n      <td>NaN</td>\n      <td>0.16</td>\n      <td>2.18</td>\n    </tr>\n    <tr>\n      <th>AADI</th>\n      <td>0.00</td>\n      <td>NaN</td>\n      <td>NaN</td>\n      <td>0.08</td>\n      <td>9.89</td>\n      <td>NaN</td>\n      <td>0.77</td>\n      <td>0.97</td>\n      <td>11.72</td>\n    </tr>\n    <tr>\n      <th>AAGR</th>\n      <td>0.00</td>\n      <td>NaN</td>\n      <td>NaN</td>\n      <td>0.08</td>\n      <td>NaN</td>\n      <td>NaN</td>\n      <td>NaN</td>\n      <td>0.48</td>\n      <td>0.56</td>\n    </tr>\n    <tr>\n      <th>...</th>\n      <td>...</td>\n      <td>...</td>\n      <td>...</td>\n      <td>...</td>\n      <td>...</td>\n      <td>...</td>\n      <td>...</td>\n      <td>...</td>\n      <td>...</td>\n    </tr>\n    <tr>\n      <th>ACV</th>\n      <td>5.00</td>\n      <td>8.67</td>\n      <td>NaN</td>\n      <td>0.01</td>\n      <td>-15.44</td>\n      <td>NaN</td>\n      <td>NaN</td>\n      <td>1.45</td>\n      <td>-0.31</td>\n    </tr>\n    <tr>\n      <th>ACVA</th>\n      <td>0.00</td>\n      <td>NaN</td>\n      <td>NaN</td>\n      <td>0.19</td>\n      <td>0.67</td>\n      <td>NaN</td>\n      <td>0.02</td>\n      <td>0.48</td>\n      <td>1.36</td>\n    </tr>\n    <tr>\n      <th>ACXP</th>\n      <td>2.00</td>\n      <td>NaN</td>\n      <td>NaN</td>\n      <td>0.08</td>\n      <td>NaN</td>\n      <td>NaN</td>\n      <td>NaN</td>\n      <td>0.48</td>\n      <td>2.56</td>\n    </tr>\n    <tr>\n      <th>ADAG</th>\n      <td>5.00</td>\n      <td>NaN</td>\n      <td>NaN</td>\n      <td>0.05</td>\n      <td>10.00</td>\n      <td>NaN</td>\n      <td>NaN</td>\n      <td>0.48</td>\n      <td>15.54</td>\n    </tr>\n    <tr>\n      <th>ADAP</th>\n      <td>0.00</td>\n      <td>NaN</td>\n      <td>NaN</td>\n      <td>0.16</td>\n      <td>2.95</td>\n      <td>NaN</td>\n      <td>NaN</td>\n      <td>1.45</td>\n      <td>4.56</td>\n    </tr>\n  </tbody>\n</table>\n<p>67 rows × 9 columns</p>\n</div>"
     },
     "execution_count": 21,
     "metadata": {},
     "output_type": "execute_result"
    }
   ],
   "source": [
    "scores[\"Total\"] = scores.sum(axis=1)\n",
    "scores"
   ],
   "metadata": {
    "collapsed": false,
    "ExecuteTime": {
     "end_time": "2024-01-18T13:42:01.609305400Z",
     "start_time": "2024-01-18T13:42:01.561426100Z"
    }
   }
  },
  {
   "cell_type": "code",
   "execution_count": 22,
   "outputs": [
    {
     "data": {
      "text/plain": "                                                          2022-12-31  \\\nTax Effect Of Unusual Items                           -61,220,430.11   \nTax Rate For Calcs                                              0.32   \nNormalized EBITDA                                   4,639,000,000.00   \nTotal Unusual Items                                  -193,000,000.00   \nTotal Unusual Items Excluding Goodwill               -193,000,000.00   \nNet Income From Continuing Operation Net Minori...    127,000,000.00   \nReconciled Depreciation                             2,298,000,000.00   \nReconciled Cost Of Revenue                         39,934,000,000.00   \nEBITDA                                              4,446,000,000.00   \nEBIT                                                2,148,000,000.00   \nNet Interest Income                                -1,746,000,000.00   \nInterest Expense                                    1,962,000,000.00   \nInterest Income                                       216,000,000.00   \nNormalized Income                                     258,779,569.89   \nNet Income From Continuing And Discontinued Ope...    127,000,000.00   \nTotal Expenses                                     47,171,000,000.00   \nRent Expense Supplemental                           4,125,000,000.00   \nTotal Operating Income As Reported                  1,607,000,000.00   \nDiluted Average Shares                                655,122,000.00   \nBasic Average Shares                                  650,345,000.00   \nDiluted EPS                                                     0.19   \nBasic EPS                                                       0.20   \nDiluted NI Availto Com Stockholders                   127,000,000.00   \nNet Income Common Stockholders                        127,000,000.00   \nNet Income                                            127,000,000.00   \nNet Income Including Noncontrolling Interests         127,000,000.00   \nNet Income Continuous Operations                      127,000,000.00   \nTax Provision                                          59,000,000.00   \nPretax Income                                         186,000,000.00   \nOther Income Expense                                  132,000,000.00   \nOther Non Operating Income Expenses                   325,000,000.00   \nSpecial Income Charges                               -193,000,000.00   \nOther Special Charges                                  44,000,000.00   \nImpairment Of Capital Assets                          149,000,000.00   \nRestructuring And Mergern Acquisition                           0.00   \nNet Non Operating Interest Income Expense          -1,746,000,000.00   \nInterest Expense Non Operating                      1,962,000,000.00   \nInterest Income Non Operating                         216,000,000.00   \nOperating Income                                    1,800,000,000.00   \nOperating Expense                                   7,237,000,000.00   \nOther Operating Expenses                            5,422,000,000.00   \nSelling General And Administration                  1,815,000,000.00   \nSelling And Marketing Expense                       1,815,000,000.00   \nGross Profit                                        9,037,000,000.00   \nCost Of Revenue                                    39,934,000,000.00   \nTotal Revenue                                      48,971,000,000.00   \nOperating Revenue                                  45,801,000,000.00   \n\n                                                          2021-12-31  \\\nTax Effect Of Unusual Items                           872,578,492.94   \nTax Rate For Calcs                                              0.22   \nNormalized EBITDA                                  -2,419,000,000.00   \nTotal Unusual Items                                 4,006,000,000.00   \nTotal Unusual Items Excluding Goodwill              4,006,000,000.00   \nNet Income From Continuing Operation Net Minori... -1,993,000,000.00   \nReconciled Depreciation                             2,335,000,000.00   \nReconciled Cost Of Revenue                         29,855,000,000.00   \nEBITDA                                              1,587,000,000.00   \nEBIT                                                 -748,000,000.00   \nNet Interest Income                                -1,782,000,000.00   \nInterest Expense                                    1,800,000,000.00   \nInterest Income                                        18,000,000.00   \nNormalized Income                                  -5,126,421,507.06   \nNet Income From Continuing And Discontinued Ope... -1,993,000,000.00   \nTotal Expenses                                     34,947,000,000.00   \nRent Expense Supplemental                           4,044,000,000.00   \nTotal Operating Income As Reported                 -1,059,000,000.00   \nDiluted Average Shares                                644,015,000.00   \nBasic Average Shares                                  644,015,000.00   \nDiluted EPS                                                    -3.09   \nBasic EPS                                                      -3.09   \nDiluted NI Availto Com Stockholders                -1,993,000,000.00   \nNet Income Common Stockholders                     -1,993,000,000.00   \nNet Income                                         -1,993,000,000.00   \nNet Income Including Noncontrolling Interests      -1,993,000,000.00   \nNet Income Continuous Operations                   -1,993,000,000.00   \nTax Provision                                        -555,000,000.00   \nPretax Income                                      -2,548,000,000.00   \nOther Income Expense                                4,299,000,000.00   \nOther Non Operating Income Expenses                   293,000,000.00   \nSpecial Income Charges                              4,006,000,000.00   \nOther Special Charges                              -4,174,000,000.00   \nImpairment Of Capital Assets                                    0.00   \nRestructuring And Mergern Acquisition                 168,000,000.00   \nNet Non Operating Interest Income Expense          -1,782,000,000.00   \nInterest Expense Non Operating                      1,800,000,000.00   \nInterest Income Non Operating                          18,000,000.00   \nOperating Income                                   -5,065,000,000.00   \nOperating Expense                                   5,092,000,000.00   \nOther Operating Expenses                            3,994,000,000.00   \nSelling General And Administration                  1,098,000,000.00   \nSelling And Marketing Expense                       1,098,000,000.00   \nGross Profit                                           27,000,000.00   \nCost Of Revenue                                    29,855,000,000.00   \nTotal Revenue                                      29,882,000,000.00   \nOperating Revenue                                  27,377,000,000.00   \n\n                                                           2020-12-31  \nTax Effect Of Unusual Items                            147,313,018.42  \nTax Rate For Calcs                                               0.22  \nNormalized EBITDA                                   -8,513,000,000.00  \nTotal Unusual Items                                    657,000,000.00  \nTotal Unusual Items Excluding Goodwill                 657,000,000.00  \nNet Income From Continuing Operation Net Minori...  -8,885,000,000.00  \nReconciled Depreciation                              2,370,000,000.00  \nReconciled Cost Of Revenue                          24,563,000,000.00  \nEBITDA                                              -7,856,000,000.00  \nEBIT                                               -10,226,000,000.00  \nNet Interest Income                                 -1,186,000,000.00  \nInterest Expense                                     1,227,000,000.00  \nInterest Income                                         41,000,000.00  \nNormalized Income                                   -9,394,686,981.58  \nNet Income From Continuing And Discontinued Ope...  -8,885,000,000.00  \nTotal Expenses                                      28,415,000,000.00  \nRent Expense Supplemental                            3,345,000,000.00  \nTotal Operating Income As Reported                 -10,421,000,000.00  \nDiluted Average Shares                                 483,888,000.00  \nBasic Average Shares                                   483,888,000.00  \nDiluted EPS                                                    -18.36  \nBasic EPS                                                      -18.36  \nDiluted NI Availto Com Stockholders                 -8,885,000,000.00  \nNet Income Common Stockholders                      -8,885,000,000.00  \nNet Income                                          -8,885,000,000.00  \nNet Income Including Noncontrolling Interests       -8,885,000,000.00  \nNet Income Continuous Operations                    -8,885,000,000.00  \nTax Provision                                       -2,568,000,000.00  \nPretax Income                                      -11,453,000,000.00  \nOther Income Expense                                   811,000,000.00  \nOther Non Operating Income Expenses                    154,000,000.00  \nSpecial Income Charges                                 657,000,000.00  \nOther Special Charges                               -3,549,000,000.00  \nImpairment Of Capital Assets                         1,484,000,000.00  \nRestructuring And Mergern Acquisition                1,408,000,000.00  \nNet Non Operating Interest Income Expense           -1,186,000,000.00  \nInterest Expense Non Operating                       1,227,000,000.00  \nInterest Income Non Operating                           41,000,000.00  \nOperating Income                                   -11,078,000,000.00  \nOperating Expense                                    3,852,000,000.00  \nOther Operating Expenses                             3,186,000,000.00  \nSelling General And Administration                     666,000,000.00  \nSelling And Marketing Expense                          666,000,000.00  \nGross Profit                                        -7,226,000,000.00  \nCost Of Revenue                                     24,563,000,000.00  \nTotal Revenue                                       17,337,000,000.00  \nOperating Revenue                                   15,287,000,000.00  ",
      "text/html": "<div>\n<style scoped>\n    .dataframe tbody tr th:only-of-type {\n        vertical-align: middle;\n    }\n\n    .dataframe tbody tr th {\n        vertical-align: top;\n    }\n\n    .dataframe thead th {\n        text-align: right;\n    }\n</style>\n<table border=\"1\" class=\"dataframe\">\n  <thead>\n    <tr style=\"text-align: right;\">\n      <th></th>\n      <th>2022-12-31</th>\n      <th>2021-12-31</th>\n      <th>2020-12-31</th>\n    </tr>\n  </thead>\n  <tbody>\n    <tr>\n      <th>Tax Effect Of Unusual Items</th>\n      <td>-61,220,430.11</td>\n      <td>872,578,492.94</td>\n      <td>147,313,018.42</td>\n    </tr>\n    <tr>\n      <th>Tax Rate For Calcs</th>\n      <td>0.32</td>\n      <td>0.22</td>\n      <td>0.22</td>\n    </tr>\n    <tr>\n      <th>Normalized EBITDA</th>\n      <td>4,639,000,000.00</td>\n      <td>-2,419,000,000.00</td>\n      <td>-8,513,000,000.00</td>\n    </tr>\n    <tr>\n      <th>Total Unusual Items</th>\n      <td>-193,000,000.00</td>\n      <td>4,006,000,000.00</td>\n      <td>657,000,000.00</td>\n    </tr>\n    <tr>\n      <th>Total Unusual Items Excluding Goodwill</th>\n      <td>-193,000,000.00</td>\n      <td>4,006,000,000.00</td>\n      <td>657,000,000.00</td>\n    </tr>\n    <tr>\n      <th>Net Income From Continuing Operation Net Minority Interest</th>\n      <td>127,000,000.00</td>\n      <td>-1,993,000,000.00</td>\n      <td>-8,885,000,000.00</td>\n    </tr>\n    <tr>\n      <th>Reconciled Depreciation</th>\n      <td>2,298,000,000.00</td>\n      <td>2,335,000,000.00</td>\n      <td>2,370,000,000.00</td>\n    </tr>\n    <tr>\n      <th>Reconciled Cost Of Revenue</th>\n      <td>39,934,000,000.00</td>\n      <td>29,855,000,000.00</td>\n      <td>24,563,000,000.00</td>\n    </tr>\n    <tr>\n      <th>EBITDA</th>\n      <td>4,446,000,000.00</td>\n      <td>1,587,000,000.00</td>\n      <td>-7,856,000,000.00</td>\n    </tr>\n    <tr>\n      <th>EBIT</th>\n      <td>2,148,000,000.00</td>\n      <td>-748,000,000.00</td>\n      <td>-10,226,000,000.00</td>\n    </tr>\n    <tr>\n      <th>Net Interest Income</th>\n      <td>-1,746,000,000.00</td>\n      <td>-1,782,000,000.00</td>\n      <td>-1,186,000,000.00</td>\n    </tr>\n    <tr>\n      <th>Interest Expense</th>\n      <td>1,962,000,000.00</td>\n      <td>1,800,000,000.00</td>\n      <td>1,227,000,000.00</td>\n    </tr>\n    <tr>\n      <th>Interest Income</th>\n      <td>216,000,000.00</td>\n      <td>18,000,000.00</td>\n      <td>41,000,000.00</td>\n    </tr>\n    <tr>\n      <th>Normalized Income</th>\n      <td>258,779,569.89</td>\n      <td>-5,126,421,507.06</td>\n      <td>-9,394,686,981.58</td>\n    </tr>\n    <tr>\n      <th>Net Income From Continuing And Discontinued Operation</th>\n      <td>127,000,000.00</td>\n      <td>-1,993,000,000.00</td>\n      <td>-8,885,000,000.00</td>\n    </tr>\n    <tr>\n      <th>Total Expenses</th>\n      <td>47,171,000,000.00</td>\n      <td>34,947,000,000.00</td>\n      <td>28,415,000,000.00</td>\n    </tr>\n    <tr>\n      <th>Rent Expense Supplemental</th>\n      <td>4,125,000,000.00</td>\n      <td>4,044,000,000.00</td>\n      <td>3,345,000,000.00</td>\n    </tr>\n    <tr>\n      <th>Total Operating Income As Reported</th>\n      <td>1,607,000,000.00</td>\n      <td>-1,059,000,000.00</td>\n      <td>-10,421,000,000.00</td>\n    </tr>\n    <tr>\n      <th>Diluted Average Shares</th>\n      <td>655,122,000.00</td>\n      <td>644,015,000.00</td>\n      <td>483,888,000.00</td>\n    </tr>\n    <tr>\n      <th>Basic Average Shares</th>\n      <td>650,345,000.00</td>\n      <td>644,015,000.00</td>\n      <td>483,888,000.00</td>\n    </tr>\n    <tr>\n      <th>Diluted EPS</th>\n      <td>0.19</td>\n      <td>-3.09</td>\n      <td>-18.36</td>\n    </tr>\n    <tr>\n      <th>Basic EPS</th>\n      <td>0.20</td>\n      <td>-3.09</td>\n      <td>-18.36</td>\n    </tr>\n    <tr>\n      <th>Diluted NI Availto Com Stockholders</th>\n      <td>127,000,000.00</td>\n      <td>-1,993,000,000.00</td>\n      <td>-8,885,000,000.00</td>\n    </tr>\n    <tr>\n      <th>Net Income Common Stockholders</th>\n      <td>127,000,000.00</td>\n      <td>-1,993,000,000.00</td>\n      <td>-8,885,000,000.00</td>\n    </tr>\n    <tr>\n      <th>Net Income</th>\n      <td>127,000,000.00</td>\n      <td>-1,993,000,000.00</td>\n      <td>-8,885,000,000.00</td>\n    </tr>\n    <tr>\n      <th>Net Income Including Noncontrolling Interests</th>\n      <td>127,000,000.00</td>\n      <td>-1,993,000,000.00</td>\n      <td>-8,885,000,000.00</td>\n    </tr>\n    <tr>\n      <th>Net Income Continuous Operations</th>\n      <td>127,000,000.00</td>\n      <td>-1,993,000,000.00</td>\n      <td>-8,885,000,000.00</td>\n    </tr>\n    <tr>\n      <th>Tax Provision</th>\n      <td>59,000,000.00</td>\n      <td>-555,000,000.00</td>\n      <td>-2,568,000,000.00</td>\n    </tr>\n    <tr>\n      <th>Pretax Income</th>\n      <td>186,000,000.00</td>\n      <td>-2,548,000,000.00</td>\n      <td>-11,453,000,000.00</td>\n    </tr>\n    <tr>\n      <th>Other Income Expense</th>\n      <td>132,000,000.00</td>\n      <td>4,299,000,000.00</td>\n      <td>811,000,000.00</td>\n    </tr>\n    <tr>\n      <th>Other Non Operating Income Expenses</th>\n      <td>325,000,000.00</td>\n      <td>293,000,000.00</td>\n      <td>154,000,000.00</td>\n    </tr>\n    <tr>\n      <th>Special Income Charges</th>\n      <td>-193,000,000.00</td>\n      <td>4,006,000,000.00</td>\n      <td>657,000,000.00</td>\n    </tr>\n    <tr>\n      <th>Other Special Charges</th>\n      <td>44,000,000.00</td>\n      <td>-4,174,000,000.00</td>\n      <td>-3,549,000,000.00</td>\n    </tr>\n    <tr>\n      <th>Impairment Of Capital Assets</th>\n      <td>149,000,000.00</td>\n      <td>0.00</td>\n      <td>1,484,000,000.00</td>\n    </tr>\n    <tr>\n      <th>Restructuring And Mergern Acquisition</th>\n      <td>0.00</td>\n      <td>168,000,000.00</td>\n      <td>1,408,000,000.00</td>\n    </tr>\n    <tr>\n      <th>Net Non Operating Interest Income Expense</th>\n      <td>-1,746,000,000.00</td>\n      <td>-1,782,000,000.00</td>\n      <td>-1,186,000,000.00</td>\n    </tr>\n    <tr>\n      <th>Interest Expense Non Operating</th>\n      <td>1,962,000,000.00</td>\n      <td>1,800,000,000.00</td>\n      <td>1,227,000,000.00</td>\n    </tr>\n    <tr>\n      <th>Interest Income Non Operating</th>\n      <td>216,000,000.00</td>\n      <td>18,000,000.00</td>\n      <td>41,000,000.00</td>\n    </tr>\n    <tr>\n      <th>Operating Income</th>\n      <td>1,800,000,000.00</td>\n      <td>-5,065,000,000.00</td>\n      <td>-11,078,000,000.00</td>\n    </tr>\n    <tr>\n      <th>Operating Expense</th>\n      <td>7,237,000,000.00</td>\n      <td>5,092,000,000.00</td>\n      <td>3,852,000,000.00</td>\n    </tr>\n    <tr>\n      <th>Other Operating Expenses</th>\n      <td>5,422,000,000.00</td>\n      <td>3,994,000,000.00</td>\n      <td>3,186,000,000.00</td>\n    </tr>\n    <tr>\n      <th>Selling General And Administration</th>\n      <td>1,815,000,000.00</td>\n      <td>1,098,000,000.00</td>\n      <td>666,000,000.00</td>\n    </tr>\n    <tr>\n      <th>Selling And Marketing Expense</th>\n      <td>1,815,000,000.00</td>\n      <td>1,098,000,000.00</td>\n      <td>666,000,000.00</td>\n    </tr>\n    <tr>\n      <th>Gross Profit</th>\n      <td>9,037,000,000.00</td>\n      <td>27,000,000.00</td>\n      <td>-7,226,000,000.00</td>\n    </tr>\n    <tr>\n      <th>Cost Of Revenue</th>\n      <td>39,934,000,000.00</td>\n      <td>29,855,000,000.00</td>\n      <td>24,563,000,000.00</td>\n    </tr>\n    <tr>\n      <th>Total Revenue</th>\n      <td>48,971,000,000.00</td>\n      <td>29,882,000,000.00</td>\n      <td>17,337,000,000.00</td>\n    </tr>\n    <tr>\n      <th>Operating Revenue</th>\n      <td>45,801,000,000.00</td>\n      <td>27,377,000,000.00</td>\n      <td>15,287,000,000.00</td>\n    </tr>\n  </tbody>\n</table>\n</div>"
     },
     "execution_count": 22,
     "metadata": {},
     "output_type": "execute_result"
    }
   ],
   "source": [
    "yf.Ticker(\"AAL\").incomestmt"
   ],
   "metadata": {
    "collapsed": false,
    "ExecuteTime": {
     "end_time": "2024-01-18T13:42:01.863392700Z",
     "start_time": "2024-01-18T13:42:01.577383100Z"
    }
   }
  },
  {
   "cell_type": "code",
   "execution_count": 64,
   "outputs": [],
   "source": [
    "def gross_incr_func(values, low, high, angle):\n",
    "    w = 0 - math.tan(-(low*math.pi)/high - (math.pi/2))\n",
    "    print(w)\n",
    "    print(high)\n",
    "    # f = 15*(np.arctan(values - w)/math.pi) + 2.5\n",
    "    f = (high * (np.arctan(angle*values-w) + (math.pi/2)) / math.pi) + low\n",
    "\n",
    "    return f"
   ],
   "metadata": {
    "collapsed": false,
    "ExecuteTime": {
     "end_time": "2024-01-18T14:24:36.028055800Z",
     "start_time": "2024-01-18T14:24:36.013096400Z"
    }
   }
  },
  {
   "cell_type": "code",
   "execution_count": 72,
   "outputs": [
    {
     "name": "stdout",
     "output_type": "stream",
     "text": [
      "0.5773502691896258\n",
      "15\n"
     ]
    }
   ],
   "source": [
    "tmp = stocks_checklist[\"Gross Profit Incr\"].dropna()\n",
    "med = np.median(tmp)\n",
    "# peak1 = 6  # Y peak value of the first mishvaha\n",
    "# peak2 = 10  # Y peak value of the second mishvaha (the one where it shoef to)\n",
    "# starting_value = 0.4  # The score of a div yield 0\n",
    "gross_scores = gross_incr_func(tmp, -5, 15, 0.1)\n",
    "\n",
    "# plot_score(vals, 8, 0, np.median(vals), sigma1, sigma2)\n",
    "# vals\n",
    "# med"
   ],
   "metadata": {
    "collapsed": false,
    "ExecuteTime": {
     "end_time": "2024-01-18T14:26:04.623325500Z",
     "start_time": "2024-01-18T14:26:04.600375700Z"
    }
   }
  },
  {
   "cell_type": "code",
   "execution_count": 73,
   "outputs": [
    {
     "name": "stdout",
     "output_type": "stream",
     "text": [
      "0.5773502691896258\n",
      "15\n"
     ]
    },
    {
     "data": {
      "text/plain": "<Figure size 640x480 with 1 Axes>",
      "image/png": "[encoded data removed]"
     },
     "metadata": {},
     "output_type": "display_data"
    }
   ],
   "source": [
    "x_values = np.linspace(-130, 150, 5000)  # Generating 1000 values between 0 and 4\n",
    "y_values = gross_incr_func(x_values, -5, 15, 0.1)\n",
    "# Calculate corresponding y values using the Gaussian function\n",
    "\n",
    "# Plot the function\n",
    "plt.plot(x_values, y_values, label=f'Gaussian Function')\n",
    "# plt.ylim(-2, 10)  # Adjust these limits according to your needs\n",
    "plt.xlim(-130, 150)\n",
    "plt.scatter(tmp, gross_scores, color='green', marker='o')\n",
    "plt.axvline(med, color=\"red\", linestyle=\"--\", label=\"Median\")\n",
    "plt.title('Function')\n",
    "plt.xlabel('Gross Profit Increase')\n",
    "plt.ylabel('Score')\n",
    "plt.legend()\n",
    "plt.grid(True)\n",
    "# plot_score(div_values, peak1, peak2, med, sigma1, sigma2)"
   ],
   "metadata": {
    "collapsed": false,
    "ExecuteTime": {
     "end_time": "2024-01-18T14:26:05.333766Z",
     "start_time": "2024-01-18T14:26:04.980870Z"
    }
   }
  },
  {
   "cell_type": "code",
   "execution_count": 74,
   "outputs": [
    {
     "data": {
      "text/plain": "      Years up  Div yield              Sector  avg daily vol  \\\nA            0       0.71          Healthcare   1,583,145.45   \nAA           0       1.47     Basic Materials   6,187,090.91   \nAACT         1        NaN  Financial Services     128,800.00   \nAADI         0        NaN          Healthcare     470,527.27   \nAAGR         0        NaN  Consumer Defensive     438,400.00   \n...        ...        ...                 ...            ...   \nACV          2      11.07  Financial Services      42,590.91   \nACVA         0        NaN   Consumer Cyclical   1,057,681.82   \nACXP         1        NaN          Healthcare     447,709.09   \nADAG         2        NaN          Healthcare     298,081.82   \nADAP         0        NaN          Healthcare     895,554.55   \n\n      Total Revenue Incr  Gross Margin  Gross Profit Incr  Trading years  \nA                   8.84         53.03               7.48             25  \nAA                 16.66         18.95              51.19             62  \nAACT                 NaN           NaN                NaN              1  \nAADI              664.37         95.61           1,288.10              6  \nAAGR                 NaN           NaN                NaN              3  \n...                  ...           ...                ...            ...  \nACV            -1,036.61           NaN                NaN              9  \nACVA               44.82         44.16              40.77              3  \nACXP                 NaN           NaN                NaN              3  \nADAG              671.52           NaN                NaN              3  \nADAP              198.43           NaN                NaN              9  \n\n[67 rows x 8 columns]",
      "text/html": "<div>\n<style scoped>\n    .dataframe tbody tr th:only-of-type {\n        vertical-align: middle;\n    }\n\n    .dataframe tbody tr th {\n        vertical-align: top;\n    }\n\n    .dataframe thead th {\n        text-align: right;\n    }\n</style>\n<table border=\"1\" class=\"dataframe\">\n  <thead>\n    <tr style=\"text-align: right;\">\n      <th></th>\n      <th>Years up</th>\n      <th>Div yield</th>\n      <th>Sector</th>\n      <th>avg daily vol</th>\n      <th>Total Revenue Incr</th>\n      <th>Gross Margin</th>\n      <th>Gross Profit Incr</th>\n      <th>Trading years</th>\n    </tr>\n  </thead>\n  <tbody>\n    <tr>\n      <th>A</th>\n      <td>0</td>\n      <td>0.71</td>\n      <td>Healthcare</td>\n      <td>1,583,145.45</td>\n      <td>8.84</td>\n      <td>53.03</td>\n      <td>7.48</td>\n      <td>25</td>\n    </tr>\n    <tr>\n      <th>AA</th>\n      <td>0</td>\n      <td>1.47</td>\n      <td>Basic Materials</td>\n      <td>6,187,090.91</td>\n      <td>16.66</td>\n      <td>18.95</td>\n      <td>51.19</td>\n      <td>62</td>\n    </tr>\n    <tr>\n      <th>AACT</th>\n      <td>1</td>\n      <td>NaN</td>\n      <td>Financial Services</td>\n      <td>128,800.00</td>\n      <td>NaN</td>\n      <td>NaN</td>\n      <td>NaN</td>\n      <td>1</td>\n    </tr>\n    <tr>\n      <th>AADI</th>\n      <td>0</td>\n      <td>NaN</td>\n      <td>Healthcare</td>\n      <td>470,527.27</td>\n      <td>664.37</td>\n      <td>95.61</td>\n      <td>1,288.10</td>\n      <td>6</td>\n    </tr>\n    <tr>\n      <th>AAGR</th>\n      <td>0</td>\n      <td>NaN</td>\n      <td>Consumer Defensive</td>\n      <td>438,400.00</td>\n      <td>NaN</td>\n      <td>NaN</td>\n      <td>NaN</td>\n      <td>3</td>\n    </tr>\n    <tr>\n      <th>...</th>\n      <td>...</td>\n      <td>...</td>\n      <td>...</td>\n      <td>...</td>\n      <td>...</td>\n      <td>...</td>\n      <td>...</td>\n      <td>...</td>\n    </tr>\n    <tr>\n      <th>ACV</th>\n      <td>2</td>\n      <td>11.07</td>\n      <td>Financial Services</td>\n      <td>42,590.91</td>\n      <td>-1,036.61</td>\n      <td>NaN</td>\n      <td>NaN</td>\n      <td>9</td>\n    </tr>\n    <tr>\n      <th>ACVA</th>\n      <td>0</td>\n      <td>NaN</td>\n      <td>Consumer Cyclical</td>\n      <td>1,057,681.82</td>\n      <td>44.82</td>\n      <td>44.16</td>\n      <td>40.77</td>\n      <td>3</td>\n    </tr>\n    <tr>\n      <th>ACXP</th>\n      <td>1</td>\n      <td>NaN</td>\n      <td>Healthcare</td>\n      <td>447,709.09</td>\n      <td>NaN</td>\n      <td>NaN</td>\n      <td>NaN</td>\n      <td>3</td>\n    </tr>\n    <tr>\n      <th>ADAG</th>\n      <td>2</td>\n      <td>NaN</td>\n      <td>Healthcare</td>\n      <td>298,081.82</td>\n      <td>671.52</td>\n      <td>NaN</td>\n      <td>NaN</td>\n      <td>3</td>\n    </tr>\n    <tr>\n      <th>ADAP</th>\n      <td>0</td>\n      <td>NaN</td>\n      <td>Healthcare</td>\n      <td>895,554.55</td>\n      <td>198.43</td>\n      <td>NaN</td>\n      <td>NaN</td>\n      <td>9</td>\n    </tr>\n  </tbody>\n</table>\n<p>67 rows × 8 columns</p>\n</div>"
     },
     "execution_count": 74,
     "metadata": {},
     "output_type": "execute_result"
    }
   ],
   "source": [
    "stocks_checklist"
   ],
   "metadata": {
    "collapsed": false,
    "ExecuteTime": {
     "end_time": "2024-01-18T14:26:05.598776200Z",
     "start_time": "2024-01-18T14:26:05.567854700Z"
    }
   }
  },
  {
   "cell_type": "code",
   "execution_count": null,
   "outputs": [],
   "source": [],
   "metadata": {
    "collapsed": false,
    "ExecuteTime": {
     "start_time": "2024-01-18T13:42:01.751964800Z"
    }
   }
  }
 ],
 "metadata": {
  "kernelspec": {
   "display_name": "Python 3 (ipykernel)",
   "language": "python",
   "name": "python3"
  },
  "language_info": {
   "codemirror_mode": {
    "name": "ipython",
    "version": 3
   },
   "file_extension": ".py",
   "mimetype": "text/x-python",
   "name": "python",
   "nbconvert_exporter": "python",
   "pygments_lexer": "ipython3",
   "version": "3.11.1"
  }
 },
 "nbformat": 4,
 "nbformat_minor": 4
}
