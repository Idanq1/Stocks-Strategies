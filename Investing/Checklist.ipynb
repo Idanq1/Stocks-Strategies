{
 "cells": [
  {
   "cell_type": "code",
   "execution_count": 1,
   "metadata": {
    "ExecuteTime": {
     "end_time": "2024-01-15T11:50:57.683711400Z",
     "start_time": "2024-01-15T11:50:57.641562Z"
    },
    "tags": []
   },
   "outputs": [],
   "source": [
    "from datetime import datetime, timedelta, timezone\n",
    "from IPython.display import clear_output\n",
    "import pandas_datareader.data as web\n",
    "import yfinance as yf\n",
    "import pandas as pd\n",
    "import numpy as np\n",
    "import pyautogui\n",
    "import time\n",
    "\n",
    "pd.options.display.float_format = '{:,.2f}'.format"
   ]
  },
  {
   "cell_type": "markdown",
   "metadata": {},
   "source": [
    "# Download data"
   ]
  },
  {
   "cell_type": "markdown",
   "metadata": {},
   "source": [
    "### Fetching tickers from nasdaq and filtering out ETFs and stocks that we have a problem getting their prices"
   ]
  },
  {
   "cell_type": "code",
   "execution_count": 2,
   "metadata": {
    "ExecuteTime": {
     "end_time": "2024-01-15T10:47:18.645145200Z",
     "start_time": "2024-01-15T10:47:18.642152100Z"
    },
    "collapsed": false,
    "jupyter": {
     "outputs_hidden": false
    }
   },
   "outputs": [],
   "source": [
    "def get_all_tickers(etf=False):\n",
    "    # Get a list of all available tickers from Yahoo Finance\n",
    "    all_tickers = web.get_nasdaq_symbols()\n",
    "    all_tickers = all_tickers[~all_tickers[\"Test Issue\"]]  # Filter out stocks that we can't fetch their data for some reason\n",
    "\n",
    "    if not etf:\n",
    "        all_tickers = all_tickers[~all_tickers[\"ETF\"]]  # Filter out ETFs\n",
    "    tickers = all_tickers.index.tolist()\n",
    "    return [str(ticker) for ticker in tickers if str(ticker).isalpha()]"
   ]
  },
  {
   "cell_type": "code",
   "execution_count": 3,
   "metadata": {
    "ExecuteTime": {
     "end_time": "2024-01-15T10:47:18.669079100Z",
     "start_time": "2024-01-15T10:47:18.645145200Z"
    },
    "collapsed": false,
    "jupyter": {
     "outputs_hidden": false
    }
   },
   "outputs": [],
   "source": [
    "def get_data(tickers_list, p=\"max\"):\n",
    "    return yf.download(tickers_list, period=p, interval=\"1d\")"
   ]
  },
  {
   "cell_type": "code",
   "execution_count": 104,
   "metadata": {
    "ExecuteTime": {
     "end_time": "2024-01-15T10:47:21.847755600Z",
     "start_time": "2024-01-15T10:47:20.388784200Z"
    },
    "collapsed": false,
    "jupyter": {
     "outputs_hidden": false
    }
   },
   "outputs": [
    {
     "name": "stderr",
     "output_type": "stream",
     "text": [
      "[*********************100%%**********************]  100 of 100 completed\n"
     ]
    }
   ],
   "source": [
    "tickers = get_all_tickers()[:100]\n",
    "# tickers = [\"TSLA\", \"AAPL\", \"MSFT\", \"NVDA\", \"GOOG\"]\n",
    "data = get_data(tickers)"
   ]
  },
  {
   "cell_type": "code",
   "execution_count": 105,
   "metadata": {
    "ExecuteTime": {
     "end_time": "2024-01-15T10:47:22.520954700Z",
     "start_time": "2024-01-15T10:47:22.481062Z"
    },
    "collapsed": false,
    "jupyter": {
     "outputs_hidden": false
    }
   },
   "outputs": [],
   "source": [
    "data_cop = data.copy()"
   ]
  },
  {
   "cell_type": "code",
   "execution_count": 106,
   "metadata": {
    "ExecuteTime": {
     "end_time": "2024-01-15T10:47:25.775787900Z",
     "start_time": "2024-01-15T10:47:25.676797800Z"
    },
    "collapsed": false,
    "jupyter": {
     "outputs_hidden": false
    }
   },
   "outputs": [
    {
     "name": "stderr",
     "output_type": "stream",
     "text": [
      "C:\\Users\\sasso\\AppData\\Local\\Temp\\ipykernel_5824\\4084708284.py:9: PerformanceWarning: DataFrame is highly fragmented.  This is usually the result of calling `frame.insert` many times, which has poor performance.  Consider joining all columns at once using pd.concat(axis=1) instead. To get a de-fragmented frame, use `newframe = frame.copy()`\n",
      "  new_df[\"Change\", stock] = np.nan\n"
     ]
    }
   ],
   "source": [
    "new_df = pd.DataFrame(index=data_cop.index.year.unique(), columns=data_cop.columns)\n",
    "new_df.drop(\"Adj Close\", axis=1, level=0, inplace=True)\n",
    "new_df[\"Volume\"] = data_cop[\"Volume\"].groupby(data_cop.index.year).mean()\n",
    "new_df[\"Close\"] = data_cop[\"Close\"].groupby(data_cop.index.year).last()\n",
    "new_df[\"Open\"] = data_cop[\"Open\"].groupby(data_cop.index.year).first()\n",
    "new_df[\"High\"] = data_cop[\"High\"].groupby(data_cop.index.year).max()\n",
    "new_df[\"Low\"] = data_cop[\"Low\"].groupby(data_cop.index.year).min()\n",
    "for stock in new_df[\"Close\"].columns:\n",
    "    new_df[\"Change\", stock] = np.nan\n",
    "new_df[\"Change\"] = new_df.xs(\"Close\", axis=1, level=0).pct_change() * 100"
   ]
  },
  {
   "cell_type": "code",
   "execution_count": 107,
   "metadata": {
    "ExecuteTime": {
     "end_time": "2024-01-15T11:19:53.817453400Z",
     "start_time": "2024-01-15T11:19:53.790446200Z"
    },
    "collapsed": false,
    "jupyter": {
     "outputs_hidden": false
    }
   },
   "outputs": [
    {
     "data": {
      "text/html": [
       "<div>\n",
       "<style scoped>\n",
       "    .dataframe tbody tr th:only-of-type {\n",
       "        vertical-align: middle;\n",
       "    }\n",
       "\n",
       "    .dataframe tbody tr th {\n",
       "        vertical-align: top;\n",
       "    }\n",
       "\n",
       "    .dataframe thead th {\n",
       "        text-align: right;\n",
       "    }\n",
       "</style>\n",
       "<table border=\"1\" class=\"dataframe\">\n",
       "  <thead>\n",
       "    <tr style=\"text-align: right;\">\n",
       "      <th></th>\n",
       "      <th>A</th>\n",
       "      <th>AA</th>\n",
       "      <th>AACG</th>\n",
       "      <th>AACI</th>\n",
       "      <th>AACIU</th>\n",
       "      <th>AACIW</th>\n",
       "      <th>AACT</th>\n",
       "      <th>AADI</th>\n",
       "      <th>AAGR</th>\n",
       "      <th>AAGRW</th>\n",
       "      <th>...</th>\n",
       "      <th>ACRV</th>\n",
       "      <th>ACST</th>\n",
       "      <th>ACT</th>\n",
       "      <th>ACTG</th>\n",
       "      <th>ACU</th>\n",
       "      <th>ACV</th>\n",
       "      <th>ACVA</th>\n",
       "      <th>ACXP</th>\n",
       "      <th>ADAG</th>\n",
       "      <th>ADAP</th>\n",
       "    </tr>\n",
       "  </thead>\n",
       "  <tbody>\n",
       "    <tr>\n",
       "      <th>Years up</th>\n",
       "      <td>NaN</td>\n",
       "      <td>NaN</td>\n",
       "      <td>NaN</td>\n",
       "      <td>NaN</td>\n",
       "      <td>NaN</td>\n",
       "      <td>NaN</td>\n",
       "      <td>NaN</td>\n",
       "      <td>NaN</td>\n",
       "      <td>NaN</td>\n",
       "      <td>NaN</td>\n",
       "      <td>...</td>\n",
       "      <td>NaN</td>\n",
       "      <td>NaN</td>\n",
       "      <td>NaN</td>\n",
       "      <td>NaN</td>\n",
       "      <td>NaN</td>\n",
       "      <td>NaN</td>\n",
       "      <td>NaN</td>\n",
       "      <td>NaN</td>\n",
       "      <td>NaN</td>\n",
       "      <td>NaN</td>\n",
       "    </tr>\n",
       "    <tr>\n",
       "      <th>Div yield</th>\n",
       "      <td>NaN</td>\n",
       "      <td>NaN</td>\n",
       "      <td>NaN</td>\n",
       "      <td>NaN</td>\n",
       "      <td>NaN</td>\n",
       "      <td>NaN</td>\n",
       "      <td>NaN</td>\n",
       "      <td>NaN</td>\n",
       "      <td>NaN</td>\n",
       "      <td>NaN</td>\n",
       "      <td>...</td>\n",
       "      <td>NaN</td>\n",
       "      <td>NaN</td>\n",
       "      <td>NaN</td>\n",
       "      <td>NaN</td>\n",
       "      <td>NaN</td>\n",
       "      <td>NaN</td>\n",
       "      <td>NaN</td>\n",
       "      <td>NaN</td>\n",
       "      <td>NaN</td>\n",
       "      <td>NaN</td>\n",
       "    </tr>\n",
       "    <tr>\n",
       "      <th>Sector</th>\n",
       "      <td>NaN</td>\n",
       "      <td>NaN</td>\n",
       "      <td>NaN</td>\n",
       "      <td>NaN</td>\n",
       "      <td>NaN</td>\n",
       "      <td>NaN</td>\n",
       "      <td>NaN</td>\n",
       "      <td>NaN</td>\n",
       "      <td>NaN</td>\n",
       "      <td>NaN</td>\n",
       "      <td>...</td>\n",
       "      <td>NaN</td>\n",
       "      <td>NaN</td>\n",
       "      <td>NaN</td>\n",
       "      <td>NaN</td>\n",
       "      <td>NaN</td>\n",
       "      <td>NaN</td>\n",
       "      <td>NaN</td>\n",
       "      <td>NaN</td>\n",
       "      <td>NaN</td>\n",
       "      <td>NaN</td>\n",
       "    </tr>\n",
       "    <tr>\n",
       "      <th>avg daily vol</th>\n",
       "      <td>NaN</td>\n",
       "      <td>NaN</td>\n",
       "      <td>NaN</td>\n",
       "      <td>NaN</td>\n",
       "      <td>NaN</td>\n",
       "      <td>NaN</td>\n",
       "      <td>NaN</td>\n",
       "      <td>NaN</td>\n",
       "      <td>NaN</td>\n",
       "      <td>NaN</td>\n",
       "      <td>...</td>\n",
       "      <td>NaN</td>\n",
       "      <td>NaN</td>\n",
       "      <td>NaN</td>\n",
       "      <td>NaN</td>\n",
       "      <td>NaN</td>\n",
       "      <td>NaN</td>\n",
       "      <td>NaN</td>\n",
       "      <td>NaN</td>\n",
       "      <td>NaN</td>\n",
       "      <td>NaN</td>\n",
       "    </tr>\n",
       "    <tr>\n",
       "      <th>Total Revenue Incr</th>\n",
       "      <td>NaN</td>\n",
       "      <td>NaN</td>\n",
       "      <td>NaN</td>\n",
       "      <td>NaN</td>\n",
       "      <td>NaN</td>\n",
       "      <td>NaN</td>\n",
       "      <td>NaN</td>\n",
       "      <td>NaN</td>\n",
       "      <td>NaN</td>\n",
       "      <td>NaN</td>\n",
       "      <td>...</td>\n",
       "      <td>NaN</td>\n",
       "      <td>NaN</td>\n",
       "      <td>NaN</td>\n",
       "      <td>NaN</td>\n",
       "      <td>NaN</td>\n",
       "      <td>NaN</td>\n",
       "      <td>NaN</td>\n",
       "      <td>NaN</td>\n",
       "      <td>NaN</td>\n",
       "      <td>NaN</td>\n",
       "    </tr>\n",
       "    <tr>\n",
       "      <th>Gross Margin</th>\n",
       "      <td>NaN</td>\n",
       "      <td>NaN</td>\n",
       "      <td>NaN</td>\n",
       "      <td>NaN</td>\n",
       "      <td>NaN</td>\n",
       "      <td>NaN</td>\n",
       "      <td>NaN</td>\n",
       "      <td>NaN</td>\n",
       "      <td>NaN</td>\n",
       "      <td>NaN</td>\n",
       "      <td>...</td>\n",
       "      <td>NaN</td>\n",
       "      <td>NaN</td>\n",
       "      <td>NaN</td>\n",
       "      <td>NaN</td>\n",
       "      <td>NaN</td>\n",
       "      <td>NaN</td>\n",
       "      <td>NaN</td>\n",
       "      <td>NaN</td>\n",
       "      <td>NaN</td>\n",
       "      <td>NaN</td>\n",
       "    </tr>\n",
       "    <tr>\n",
       "      <th>Gross Profit Incr</th>\n",
       "      <td>NaN</td>\n",
       "      <td>NaN</td>\n",
       "      <td>NaN</td>\n",
       "      <td>NaN</td>\n",
       "      <td>NaN</td>\n",
       "      <td>NaN</td>\n",
       "      <td>NaN</td>\n",
       "      <td>NaN</td>\n",
       "      <td>NaN</td>\n",
       "      <td>NaN</td>\n",
       "      <td>...</td>\n",
       "      <td>NaN</td>\n",
       "      <td>NaN</td>\n",
       "      <td>NaN</td>\n",
       "      <td>NaN</td>\n",
       "      <td>NaN</td>\n",
       "      <td>NaN</td>\n",
       "      <td>NaN</td>\n",
       "      <td>NaN</td>\n",
       "      <td>NaN</td>\n",
       "      <td>NaN</td>\n",
       "    </tr>\n",
       "  </tbody>\n",
       "</table>\n",
       "<p>7 rows × 100 columns</p>\n",
       "</div>"
      ],
      "text/plain": [
       "                      A   AA AACG AACI AACIU AACIW AACT AADI AAGR AAGRW  ...  \\\n",
       "Years up            NaN  NaN  NaN  NaN   NaN   NaN  NaN  NaN  NaN   NaN  ...   \n",
       "Div yield           NaN  NaN  NaN  NaN   NaN   NaN  NaN  NaN  NaN   NaN  ...   \n",
       "Sector              NaN  NaN  NaN  NaN   NaN   NaN  NaN  NaN  NaN   NaN  ...   \n",
       "avg daily vol       NaN  NaN  NaN  NaN   NaN   NaN  NaN  NaN  NaN   NaN  ...   \n",
       "Total Revenue Incr  NaN  NaN  NaN  NaN   NaN   NaN  NaN  NaN  NaN   NaN  ...   \n",
       "Gross Margin        NaN  NaN  NaN  NaN   NaN   NaN  NaN  NaN  NaN   NaN  ...   \n",
       "Gross Profit Incr   NaN  NaN  NaN  NaN   NaN   NaN  NaN  NaN  NaN   NaN  ...   \n",
       "\n",
       "                   ACRV ACST  ACT ACTG  ACU  ACV ACVA ACXP ADAG ADAP  \n",
       "Years up            NaN  NaN  NaN  NaN  NaN  NaN  NaN  NaN  NaN  NaN  \n",
       "Div yield           NaN  NaN  NaN  NaN  NaN  NaN  NaN  NaN  NaN  NaN  \n",
       "Sector              NaN  NaN  NaN  NaN  NaN  NaN  NaN  NaN  NaN  NaN  \n",
       "avg daily vol       NaN  NaN  NaN  NaN  NaN  NaN  NaN  NaN  NaN  NaN  \n",
       "Total Revenue Incr  NaN  NaN  NaN  NaN  NaN  NaN  NaN  NaN  NaN  NaN  \n",
       "Gross Margin        NaN  NaN  NaN  NaN  NaN  NaN  NaN  NaN  NaN  NaN  \n",
       "Gross Profit Incr   NaN  NaN  NaN  NaN  NaN  NaN  NaN  NaN  NaN  NaN  \n",
       "\n",
       "[7 rows x 100 columns]"
      ]
     },
     "execution_count": 107,
     "metadata": {},
     "output_type": "execute_result"
    }
   ],
   "source": [
    "stocks_checklist = pd.DataFrame(index=[\"Years up\", \"Div yield\", \"Sector\", \"avg daily vol\", \"Total Revenue Incr\", \"Gross Margin\", \"Gross Profit Incr\"], columns=new_df[\"Close\"].columns)\n",
    "stocks_checklist"
   ]
  },
  {
   "cell_type": "code",
   "execution_count": 118,
   "metadata": {
    "ExecuteTime": {
     "end_time": "2024-01-15T11:54:20.633983800Z",
     "start_time": "2024-01-15T11:54:18.072035400Z"
    },
    "collapsed": false,
    "jupyter": {
     "outputs_hidden": false
    }
   },
   "outputs": [
    {
     "name": "stdout",
     "output_type": "stream",
     "text": [
      "ADAP\n",
      "99/100\n"
     ]
    }
   ],
   "source": [
    "tickers = list(new_df[\"Close\"].columns)  # In case some of the tickers failed, this is the ticker list straight from the returned df\n",
    "# Years up in a row\n",
    "tmp = new_df[\"Change\"].iloc[::-1]\n",
    "neg_year = tmp.apply(lambda x: x[x < 0].index[0] if any(x<0) else None)\n",
    "current_year = tmp.index[0]\n",
    "stocks_checklist.loc[\"Years up\"] = current_year - neg_year\n",
    "stocks_checklist.loc[\"avg daily vol\"] = new_df[\"Volume\"].iloc[-1:].mean()\n",
    "# Div yield\n",
    "print(f\"0/{len(tickers)}\")\n",
    "i = 0\n",
    "for ticker in tickers:\n",
    "    clear_output(wait=True)\n",
    "    print(ticker)\n",
    "    print(f\"{i}/{len(tickers)}\")\n",
    "    i += 1\n",
    "    # if i < 25:\n",
    "        # continue\n",
    "    tmp = yf.Ticker(ticker)\n",
    "    start_date = (datetime.now() - timedelta(days = 365))\n",
    "    start_date = start_date.replace(tzinfo=timezone.utc)\n",
    "    div_sum = tmp.dividends.loc[start_date:].sum()\n",
    "    close_price = new_df[\"Close\"][ticker].iloc[-1]\n",
    "    div_yield = (div_sum/close_price) * 100\n",
    "    stocks_checklist.loc[\"Div yield\"][ticker] = div_yield\n",
    "\n",
    "    # Sector\n",
    "    if \"sector\" in tmp.info:\n",
    "        stocks_checklist.loc[\"Sector\"][ticker] = tmp.info[\"sector\"]\n",
    "    \n",
    "    if \"Gross Profit\" in tmp.income_stmt.columns:\n",
    "        # Average Gross margin over the last 3 income statements\n",
    "        stocks_checklist.loc[\"Gross Margin\"][ticker] = ((tmp.income_stmt.loc[\"Gross Profit\"].iloc[::-1] / tmp.income_stmt.loc[\"Total Revenue\"].iloc[::-1]) * 100).mean()  # Gross margin of the last 3 years\n",
    "        \n",
    "        # Gross profit increase percentage over the last 3 years (3 income statements)\n",
    "        stocks_checklist.loc[\"Gross Profit Incr\"][ticker] = tmp.income_stmt.loc[\"Gross Profit\"].iloc[::-1].pct_change().mean() * 100\n",
    "    \n",
    "    # Total Revenue increase percentage over the last 3 years (3 income statements)\n",
    "    stocks_checklist.loc[\"Total Revenue Incr\"][ticker] = tmp.income_stmt.loc[\"Total Revenue\"].iloc[::-1].pct_change().mean() * 100\n",
    "    \n",
    "stocks_checklist.loc[\"Div yield\"].replace(0.0, np.nan, inplace=True)"
   ]
  },
  {
   "cell_type": "code",
   "execution_count": 138,
   "metadata": {
    "ExecuteTime": {
     "end_time": "2024-01-15T11:54:20.637946400Z",
     "start_time": "2024-01-15T11:54:20.625977900Z"
    },
    "collapsed": false,
    "jupyter": {
     "outputs_hidden": false
    }
   },
   "outputs": [
    {
     "data": {
      "text/html": [
       "<div>\n",
       "<style scoped>\n",
       "    .dataframe tbody tr th:only-of-type {\n",
       "        vertical-align: middle;\n",
       "    }\n",
       "\n",
       "    .dataframe tbody tr th {\n",
       "        vertical-align: top;\n",
       "    }\n",
       "\n",
       "    .dataframe thead th {\n",
       "        text-align: right;\n",
       "    }\n",
       "</style>\n",
       "<table border=\"1\" class=\"dataframe\">\n",
       "  <thead>\n",
       "    <tr style=\"text-align: right;\">\n",
       "      <th></th>\n",
       "      <th>A</th>\n",
       "      <th>AA</th>\n",
       "      <th>AACG</th>\n",
       "      <th>AACI</th>\n",
       "      <th>AACIU</th>\n",
       "      <th>AACIW</th>\n",
       "      <th>AACT</th>\n",
       "      <th>AADI</th>\n",
       "      <th>AAGR</th>\n",
       "      <th>AAGRW</th>\n",
       "      <th>...</th>\n",
       "      <th>ACRV</th>\n",
       "      <th>ACST</th>\n",
       "      <th>ACT</th>\n",
       "      <th>ACTG</th>\n",
       "      <th>ACU</th>\n",
       "      <th>ACV</th>\n",
       "      <th>ACVA</th>\n",
       "      <th>ACXP</th>\n",
       "      <th>ADAG</th>\n",
       "      <th>ADAP</th>\n",
       "    </tr>\n",
       "  </thead>\n",
       "  <tbody>\n",
       "    <tr>\n",
       "      <th>Years up</th>\n",
       "      <td>0.00</td>\n",
       "      <td>0.00</td>\n",
       "      <td>0.00</td>\n",
       "      <td>NaN</td>\n",
       "      <td>NaN</td>\n",
       "      <td>NaN</td>\n",
       "      <td>NaN</td>\n",
       "      <td>0.00</td>\n",
       "      <td>0.00</td>\n",
       "      <td>NaN</td>\n",
       "      <td>...</td>\n",
       "      <td>0.00</td>\n",
       "      <td>0.00</td>\n",
       "      <td>0.00</td>\n",
       "      <td>0.00</td>\n",
       "      <td>2.00</td>\n",
       "      <td>2.00</td>\n",
       "      <td>0.00</td>\n",
       "      <td>1.00</td>\n",
       "      <td>2.00</td>\n",
       "      <td>1.00</td>\n",
       "    </tr>\n",
       "    <tr>\n",
       "      <th>Div yield</th>\n",
       "      <td>0.70</td>\n",
       "      <td>1.33</td>\n",
       "      <td>NaN</td>\n",
       "      <td>NaN</td>\n",
       "      <td>NaN</td>\n",
       "      <td>NaN</td>\n",
       "      <td>NaN</td>\n",
       "      <td>NaN</td>\n",
       "      <td>NaN</td>\n",
       "      <td>NaN</td>\n",
       "      <td>...</td>\n",
       "      <td>NaN</td>\n",
       "      <td>NaN</td>\n",
       "      <td>4.72</td>\n",
       "      <td>NaN</td>\n",
       "      <td>1.32</td>\n",
       "      <td>10.94</td>\n",
       "      <td>NaN</td>\n",
       "      <td>NaN</td>\n",
       "      <td>NaN</td>\n",
       "      <td>NaN</td>\n",
       "    </tr>\n",
       "    <tr>\n",
       "      <th>Sector</th>\n",
       "      <td>Healthcare</td>\n",
       "      <td>Basic Materials</td>\n",
       "      <td>Consumer Defensive</td>\n",
       "      <td>Financial Services</td>\n",
       "      <td>Financial Services</td>\n",
       "      <td>Financial Services</td>\n",
       "      <td>Financial Services</td>\n",
       "      <td>Healthcare</td>\n",
       "      <td>Consumer Defensive</td>\n",
       "      <td>Consumer Defensive</td>\n",
       "      <td>...</td>\n",
       "      <td>Healthcare</td>\n",
       "      <td>Healthcare</td>\n",
       "      <td>Financial Services</td>\n",
       "      <td>Industrials</td>\n",
       "      <td>Consumer Defensive</td>\n",
       "      <td>Financial Services</td>\n",
       "      <td>Consumer Cyclical</td>\n",
       "      <td>Healthcare</td>\n",
       "      <td>Healthcare</td>\n",
       "      <td>Healthcare</td>\n",
       "    </tr>\n",
       "    <tr>\n",
       "      <th>avg daily vol</th>\n",
       "      <td>1,641,677.78</td>\n",
       "      <td>5,312,355.56</td>\n",
       "      <td>14,144.44</td>\n",
       "      <td>27,700.00</td>\n",
       "      <td>0.00</td>\n",
       "      <td>0.00</td>\n",
       "      <td>49,822.22</td>\n",
       "      <td>484,377.78</td>\n",
       "      <td>447,844.44</td>\n",
       "      <td>477.00</td>\n",
       "      <td>...</td>\n",
       "      <td>76,811.11</td>\n",
       "      <td>23,088.89</td>\n",
       "      <td>314,333.33</td>\n",
       "      <td>117,866.67</td>\n",
       "      <td>20,088.89</td>\n",
       "      <td>40,566.67</td>\n",
       "      <td>1,165,477.78</td>\n",
       "      <td>192,622.22</td>\n",
       "      <td>134,300.00</td>\n",
       "      <td>907,155.56</td>\n",
       "    </tr>\n",
       "    <tr>\n",
       "      <th>Total Revenue Incr</th>\n",
       "      <td>8.84</td>\n",
       "      <td>16.66</td>\n",
       "      <td>13.49</td>\n",
       "      <td>NaN</td>\n",
       "      <td>NaN</td>\n",
       "      <td>NaN</td>\n",
       "      <td>NaN</td>\n",
       "      <td>664.37</td>\n",
       "      <td>inf</td>\n",
       "      <td>inf</td>\n",
       "      <td>...</td>\n",
       "      <td>NaN</td>\n",
       "      <td>inf</td>\n",
       "      <td>-0.51</td>\n",
       "      <td>81.45</td>\n",
       "      <td>8.77</td>\n",
       "      <td>-1,036.61</td>\n",
       "      <td>44.82</td>\n",
       "      <td>NaN</td>\n",
       "      <td>671.52</td>\n",
       "      <td>198.43</td>\n",
       "    </tr>\n",
       "    <tr>\n",
       "      <th>Gross Margin</th>\n",
       "      <td>53.03</td>\n",
       "      <td>18.95</td>\n",
       "      <td>46.88</td>\n",
       "      <td>NaN</td>\n",
       "      <td>NaN</td>\n",
       "      <td>NaN</td>\n",
       "      <td>NaN</td>\n",
       "      <td>NaN</td>\n",
       "      <td>NaN</td>\n",
       "      <td>NaN</td>\n",
       "      <td>...</td>\n",
       "      <td>NaN</td>\n",
       "      <td>NaN</td>\n",
       "      <td>NaN</td>\n",
       "      <td>NaN</td>\n",
       "      <td>NaN</td>\n",
       "      <td>NaN</td>\n",
       "      <td>NaN</td>\n",
       "      <td>NaN</td>\n",
       "      <td>NaN</td>\n",
       "      <td>NaN</td>\n",
       "    </tr>\n",
       "    <tr>\n",
       "      <th>Gross Profit Incr</th>\n",
       "      <td>7.48</td>\n",
       "      <td>51.19</td>\n",
       "      <td>31.23</td>\n",
       "      <td>NaN</td>\n",
       "      <td>NaN</td>\n",
       "      <td>NaN</td>\n",
       "      <td>NaN</td>\n",
       "      <td>NaN</td>\n",
       "      <td>NaN</td>\n",
       "      <td>NaN</td>\n",
       "      <td>...</td>\n",
       "      <td>NaN</td>\n",
       "      <td>NaN</td>\n",
       "      <td>NaN</td>\n",
       "      <td>NaN</td>\n",
       "      <td>NaN</td>\n",
       "      <td>NaN</td>\n",
       "      <td>NaN</td>\n",
       "      <td>NaN</td>\n",
       "      <td>NaN</td>\n",
       "      <td>NaN</td>\n",
       "    </tr>\n",
       "  </tbody>\n",
       "</table>\n",
       "<p>7 rows × 100 columns</p>\n",
       "</div>"
      ],
      "text/plain": [
       "                              A               AA                AACG  \\\n",
       "Years up                   0.00             0.00                0.00   \n",
       "Div yield                  0.70             1.33                 NaN   \n",
       "Sector               Healthcare  Basic Materials  Consumer Defensive   \n",
       "avg daily vol      1,641,677.78     5,312,355.56           14,144.44   \n",
       "Total Revenue Incr         8.84            16.66               13.49   \n",
       "Gross Margin              53.03            18.95               46.88   \n",
       "Gross Profit Incr          7.48            51.19               31.23   \n",
       "\n",
       "                                  AACI               AACIU  \\\n",
       "Years up                           NaN                 NaN   \n",
       "Div yield                          NaN                 NaN   \n",
       "Sector              Financial Services  Financial Services   \n",
       "avg daily vol                27,700.00                0.00   \n",
       "Total Revenue Incr                 NaN                 NaN   \n",
       "Gross Margin                       NaN                 NaN   \n",
       "Gross Profit Incr                  NaN                 NaN   \n",
       "\n",
       "                                 AACIW                AACT        AADI  \\\n",
       "Years up                           NaN                 NaN        0.00   \n",
       "Div yield                          NaN                 NaN         NaN   \n",
       "Sector              Financial Services  Financial Services  Healthcare   \n",
       "avg daily vol                     0.00           49,822.22  484,377.78   \n",
       "Total Revenue Incr                 NaN                 NaN      664.37   \n",
       "Gross Margin                       NaN                 NaN         NaN   \n",
       "Gross Profit Incr                  NaN                 NaN         NaN   \n",
       "\n",
       "                                  AAGR               AAGRW  ...        ACRV  \\\n",
       "Years up                          0.00                 NaN  ...        0.00   \n",
       "Div yield                          NaN                 NaN  ...         NaN   \n",
       "Sector              Consumer Defensive  Consumer Defensive  ...  Healthcare   \n",
       "avg daily vol               447,844.44              477.00  ...   76,811.11   \n",
       "Total Revenue Incr                 inf                 inf  ...         NaN   \n",
       "Gross Margin                       NaN                 NaN  ...         NaN   \n",
       "Gross Profit Incr                  NaN                 NaN  ...         NaN   \n",
       "\n",
       "                          ACST                 ACT         ACTG  \\\n",
       "Years up                  0.00                0.00         0.00   \n",
       "Div yield                  NaN                4.72          NaN   \n",
       "Sector              Healthcare  Financial Services  Industrials   \n",
       "avg daily vol        23,088.89          314,333.33   117,866.67   \n",
       "Total Revenue Incr         inf               -0.51        81.45   \n",
       "Gross Margin               NaN                 NaN          NaN   \n",
       "Gross Profit Incr          NaN                 NaN          NaN   \n",
       "\n",
       "                                   ACU                 ACV               ACVA  \\\n",
       "Years up                          2.00                2.00               0.00   \n",
       "Div yield                         1.32               10.94                NaN   \n",
       "Sector              Consumer Defensive  Financial Services  Consumer Cyclical   \n",
       "avg daily vol                20,088.89           40,566.67       1,165,477.78   \n",
       "Total Revenue Incr                8.77           -1,036.61              44.82   \n",
       "Gross Margin                       NaN                 NaN                NaN   \n",
       "Gross Profit Incr                  NaN                 NaN                NaN   \n",
       "\n",
       "                          ACXP        ADAG        ADAP  \n",
       "Years up                  1.00        2.00        1.00  \n",
       "Div yield                  NaN         NaN         NaN  \n",
       "Sector              Healthcare  Healthcare  Healthcare  \n",
       "avg daily vol       192,622.22  134,300.00  907,155.56  \n",
       "Total Revenue Incr         NaN      671.52      198.43  \n",
       "Gross Margin               NaN         NaN         NaN  \n",
       "Gross Profit Incr          NaN         NaN         NaN  \n",
       "\n",
       "[7 rows x 100 columns]"
      ]
     },
     "execution_count": 138,
     "metadata": {},
     "output_type": "execute_result"
    }
   ],
   "source": [
    "stocks_checklist"
   ]
  },
  {
   "cell_type": "code",
   "execution_count": 10,
   "metadata": {
    "ExecuteTime": {
     "end_time": "2024-01-15T11:43:46.730850Z",
     "start_time": "2024-01-15T11:43:46.595823700Z"
    },
    "collapsed": false,
    "jupyter": {
     "outputs_hidden": false
    }
   },
   "outputs": [],
   "source": [
    "# Year up - how many years the stock is uptrending in a row\n",
    "for ticker in tickers:\n",
    "    new_df[\"Change\"][ticker]"
   ]
  },
  {
   "cell_type": "code",
   "execution_count": 11,
   "metadata": {
    "ExecuteTime": {
     "end_time": "2024-01-15T10:47:30.015313500Z",
     "start_time": "2024-01-15T10:47:29.911591300Z"
    },
    "collapsed": false,
    "jupyter": {
     "outputs_hidden": false
    }
   },
   "outputs": [],
   "source": [
    "tickers_stats = yf.Tickers(tickers)"
   ]
  },
  {
   "cell_type": "code",
   "execution_count": 12,
   "metadata": {
    "ExecuteTime": {
     "end_time": "2024-01-15T10:47:30.514977600Z",
     "start_time": "2024-01-15T10:47:30.240711800Z"
    },
    "collapsed": false,
    "jupyter": {
     "outputs_hidden": false
    }
   },
   "outputs": [
    {
     "name": "stdout",
     "output_type": "stream",
     "text": [
      "{'address1': 'One Apple Park Way', 'city': 'Cupertino', 'state': 'CA', 'zip': '95014', 'country': 'United States', 'phone': '408 996 1010', 'website': 'https://www.apple.com', 'industry': 'Consumer Electronics', 'industryKey': 'consumer-electronics', 'industryDisp': 'Consumer Electronics', 'sector': 'Technology', 'sectorKey': 'technology', 'sectorDisp': 'Technology', 'longBusinessSummary': 'Apple Inc. designs, manufactures, and markets smartphones, personal computers, tablets, wearables, and accessories worldwide. The company offers iPhone, a line of smartphones; Mac, a line of personal computers; iPad, a line of multi-purpose tablets; and wearables, home, and accessories comprising AirPods, Apple TV, Apple Watch, Beats products, and HomePod. It also provides AppleCare support and cloud services; and operates various platforms, including the App Store that allow customers to discover and download applications and digital content, such as books, music, video, games, and podcasts. In addition, the company offers various services, such as Apple Arcade, a game subscription service; Apple Fitness+, a personalized fitness service; Apple Music, which offers users a curated listening experience with on-demand radio stations; Apple News+, a subscription news and magazine service; Apple TV+, which offers exclusive original content; Apple Card, a co-branded credit card; and Apple Pay, a cashless payment service, as well as licenses its intellectual property. The company serves consumers, and small and mid-sized businesses; and the education, enterprise, and government markets. It distributes third-party applications for its products through the App Store. The company also sells its products through its retail and online stores, and direct sales force; and third-party cellular network carriers, wholesalers, retailers, and resellers. Apple Inc. was founded in 1976 and is headquartered in Cupertino, California.', 'fullTimeEmployees': 161000, 'companyOfficers': [{'maxAge': 1, 'name': 'Mr. Timothy D. Cook', 'age': 62, 'title': 'CEO & Director', 'yearBorn': 1961, 'fiscalYear': 2023, 'totalPay': 16239562, 'exercisedValue': 0, 'unexercisedValue': 0}, {'maxAge': 1, 'name': 'Mr. Luca  Maestri', 'age': 60, 'title': 'CFO & Senior VP', 'yearBorn': 1963, 'fiscalYear': 2023, 'totalPay': 4612242, 'exercisedValue': 0, 'unexercisedValue': 0}, {'maxAge': 1, 'name': 'Mr. Jeffrey E. Williams', 'age': 59, 'title': 'Chief Operating Officer', 'yearBorn': 1964, 'fiscalYear': 2023, 'totalPay': 4637585, 'exercisedValue': 0, 'unexercisedValue': 0}, {'maxAge': 1, 'name': 'Ms. Katherine L. Adams', 'age': 59, 'title': 'Senior VP, General Counsel & Secretary', 'yearBorn': 1964, 'fiscalYear': 2023, 'totalPay': 4618064, 'exercisedValue': 0, 'unexercisedValue': 0}, {'maxAge': 1, 'name': \"Ms. Deirdre  O'Brien\", 'age': 56, 'title': 'Senior Vice President of Retail', 'yearBorn': 1967, 'fiscalYear': 2023, 'totalPay': 4613369, 'exercisedValue': 0, 'unexercisedValue': 0}, {'maxAge': 1, 'name': 'Mr. Chris  Kondo', 'title': 'Senior Director of Corporate Accounting', 'fiscalYear': 2023, 'exercisedValue': 0, 'unexercisedValue': 0}, {'maxAge': 1, 'name': 'Mr. James  Wilson', 'title': 'Chief Technology Officer', 'fiscalYear': 2023, 'exercisedValue': 0, 'unexercisedValue': 0}, {'maxAge': 1, 'name': 'Suhasini  Chandramouli', 'title': 'Director of Investor Relations', 'fiscalYear': 2023, 'exercisedValue': 0, 'unexercisedValue': 0}, {'maxAge': 1, 'name': 'Mr. Greg  Joswiak', 'title': 'Senior Vice President of Worldwide Marketing', 'fiscalYear': 2023, 'exercisedValue': 0, 'unexercisedValue': 0}, {'maxAge': 1, 'name': 'Mr. Adrian  Perica', 'age': 49, 'title': 'Head of Corporate Development', 'yearBorn': 1974, 'fiscalYear': 2023, 'exercisedValue': 0, 'unexercisedValue': 0}], 'auditRisk': 4, 'boardRisk': 1, 'compensationRisk': 6, 'shareHolderRightsRisk': 1, 'overallRisk': 1, 'governanceEpochDate': 1704067200, 'compensationAsOfEpochDate': 1703980800, 'maxAge': 86400, 'priceHint': 2, 'previousClose': 185.59, 'open': 186.06, 'dayLow': 185.19, 'dayHigh': 186.74, 'regularMarketPreviousClose': 185.59, 'regularMarketOpen': 186.06, 'regularMarketDayLow': 185.19, 'regularMarketDayHigh': 186.74, 'dividendRate': 0.96, 'dividendYield': 0.0052, 'exDividendDate': 1699574400, 'payoutRatio': 0.1533, 'fiveYearAvgDividendYield': 0.8, 'beta': 1.29, 'trailingPE': 30.28013, 'forwardPE': 26.002796, 'volume': 40477782, 'regularMarketVolume': 40477782, 'averageVolume': 53972280, 'averageVolume10days': 55617120, 'averageDailyVolume10Day': 55617120, 'bid': 185.6, 'ask': 185.69, 'bidSize': 1300, 'askSize': 900, 'marketCap': 2874676346880, 'fiftyTwoWeekLow': 133.77, 'fiftyTwoWeekHigh': 199.62, 'priceToSalesTrailing12Months': 7.500101, 'fiftyDayAverage': 189.0204, 'twoHundredDayAverage': 180.69244, 'trailingAnnualDividendRate': 0.94, 'trailingAnnualDividendYield': 0.005064928, 'currency': 'USD', 'enterpriseValue': 2953942663168, 'profitMargins': 0.25305998, 'floatShares': 15535332918, 'sharesOutstanding': 15461900288, 'sharesShort': 108220157, 'sharesShortPriorMonth': 110653413, 'sharesShortPreviousMonthDate': 1701302400, 'dateShortInterest': 1703808000, 'sharesPercentSharesOut': 0.0069999998, 'heldPercentInsiders': 0.00072999997, 'heldPercentInstitutions': 0.61841, 'shortRatio': 2.06, 'shortPercentOfFloat': 0.0069999998, 'impliedSharesOutstanding': 15552799744, 'bookValue': 3.997, 'priceToBook': 46.514885, 'lastFiscalYearEnd': 1696032000, 'nextFiscalYearEnd': 1727654400, 'mostRecentQuarter': 1696032000, 'earningsQuarterlyGrowth': 0.108, 'netIncomeToCommon': 96995000320, 'trailingEps': 6.14, 'forwardEps': 7.15, 'pegRatio': 4.6, 'lastSplitFactor': '4:1', 'lastSplitDate': 1598832000, 'enterpriseToRevenue': 7.707, 'enterpriseToEbitda': 23.478, '52WeekChange': 0.3676622, 'SandP52WeekChange': 0.19866347, 'lastDividendValue': 0.24, 'lastDividendDate': 1699574400, 'exchange': 'NMS', 'quoteType': 'EQUITY', 'symbol': 'AAPL', 'underlyingSymbol': 'AAPL', 'shortName': 'Apple Inc.', 'longName': 'Apple Inc.', 'firstTradeDateEpochUtc': 345479400, 'timeZoneFullName': 'America/New_York', 'timeZoneShortName': 'EST', 'uuid': '8b10e4ae-9eeb-3684-921a-9ab27e4d87aa', 'messageBoardId': 'finmb_24937', 'gmtOffSetMilliseconds': -18000000, 'currentPrice': 185.92, 'targetHighPrice': 250.0, 'targetLowPrice': 159.0, 'targetMeanPrice': 199.57, 'targetMedianPrice': 200.0, 'recommendationMean': 2.2, 'recommendationKey': 'buy', 'numberOfAnalystOpinions': 39, 'totalCash': 61554999296, 'totalCashPerShare': 3.958, 'ebitda': 125820002304, 'totalDebt': 123930001408, 'quickRatio': 0.843, 'currentRatio': 0.988, 'totalRevenue': 383285002240, 'debtToEquity': 199.418, 'revenuePerShare': 24.344, 'returnOnAssets': 0.20256001, 'returnOnEquity': 1.7195, 'grossProfits': 170782000000, 'freeCashflow': 82179997696, 'operatingCashflow': 110543003648, 'earningsGrowth': 0.135, 'revenueGrowth': -0.007, 'grossMargins': 0.44131002, 'ebitdaMargins': 0.32827, 'operatingMargins': 0.30134, 'financialCurrency': 'USD', 'trailingPegRatio': 2.2284}\n"
     ]
    }
   ],
   "source": [
    "for ticker in tickers_stats.tickers:\n",
    "    print(tickers_stats.tickers[ticker].info)\n",
    "    break"
   ]
  },
  {
   "cell_type": "code",
   "execution_count": 13,
   "metadata": {
    "ExecuteTime": {
     "end_time": "2024-01-15T11:03:45.578609Z",
     "start_time": "2024-01-15T11:03:45.529701300Z"
    },
    "collapsed": false,
    "jupyter": {
     "outputs_hidden": false
    }
   },
   "outputs": [
    {
     "data": {
      "text/plain": [
       "2024"
      ]
     },
     "execution_count": 13,
     "metadata": {},
     "output_type": "execute_result"
    }
   ],
   "source": [
    "tmp = new_df[\"Change\"][\"TSLA\"].iloc[::-1]\n",
    "tmp.index[0]"
   ]
  },
  {
   "cell_type": "code",
   "execution_count": 14,
   "metadata": {
    "ExecuteTime": {
     "end_time": "2024-01-15T10:56:11.346110900Z",
     "start_time": "2024-01-15T10:56:11.328157800Z"
    },
    "collapsed": false,
    "jupyter": {
     "outputs_hidden": false
    }
   },
   "outputs": [
    {
     "data": {
      "text/plain": [
       "Date\n",
       "2024     True\n",
       "2023    False\n",
       "2022     True\n",
       "2021    False\n",
       "2020    False\n",
       "2019    False\n",
       "2018    False\n",
       "2017    False\n",
       "2016     True\n",
       "2015    False\n",
       "2014    False\n",
       "2013    False\n",
       "2012    False\n",
       "2011    False\n",
       "2010    False\n",
       "2009    False\n",
       "2008    False\n",
       "2007    False\n",
       "2006    False\n",
       "2005    False\n",
       "2004    False\n",
       "2003    False\n",
       "2002    False\n",
       "2001    False\n",
       "2000    False\n",
       "1999    False\n",
       "1998    False\n",
       "1997    False\n",
       "1996    False\n",
       "1995    False\n",
       "1994    False\n",
       "1993    False\n",
       "1992    False\n",
       "1991    False\n",
       "1990    False\n",
       "1989    False\n",
       "1988    False\n",
       "1987    False\n",
       "1986    False\n",
       "1985    False\n",
       "1984    False\n",
       "1983    False\n",
       "1982    False\n",
       "1981    False\n",
       "1980    False\n",
       "Name: TSLA, dtype: bool"
      ]
     },
     "execution_count": 14,
     "metadata": {},
     "output_type": "execute_result"
    }
   ],
   "source": [
    "tmp < 0"
   ]
  },
  {
   "cell_type": "code",
   "execution_count": 34,
   "metadata": {
    "collapsed": false,
    "jupyter": {
     "outputs_hidden": false
    }
   },
   "outputs": [
    {
     "data": {
      "text/plain": [
       "AAPL    57,060,266.67\n",
       "GOOG    17,562,877.78\n",
       "MSFT    23,245,033.33\n",
       "NVDA    48,354,411.11\n",
       "TSLA   102,556,544.44\n",
       "dtype: float64"
      ]
     },
     "execution_count": 34,
     "metadata": {},
     "output_type": "execute_result"
    }
   ],
   "source": [
    "new_df[\"Volume\"].iloc[-1:].mean()"
   ]
  },
  {
   "cell_type": "code",
   "execution_count": 130,
   "metadata": {},
   "outputs": [],
   "source": [
    "msft = yf.Ticker(\"AACI\")"
   ]
  },
  {
   "cell_type": "code",
   "execution_count": 110,
   "metadata": {},
   "outputs": [],
   "source": [
    "pd.set_option('display.max_rows', None)\n",
    "msft.balance_sheet\n",
    "# pd.reset_option('display.max_rows')"
   ]
  },
  {
   "cell_type": "code",
   "execution_count": 97,
   "metadata": {},
   "outputs": [
    {
     "data": {
      "text/plain": [
       "68.5071407829007"
      ]
     },
     "execution_count": 97,
     "metadata": {},
     "output_type": "execute_result"
    }
   ],
   "source": [
    "((msft.income_stmt.loc[\"Gross Profit\"].iloc[::-1] / msft.income_stmt.loc[\"Total Revenue\"].iloc[::-1]) * 100).mean()  # Gross margin of the last 3 years"
   ]
  },
  {
   "cell_type": "code",
   "execution_count": 131,
   "metadata": {},
   "outputs": [
    {
     "data": {
      "text/plain": [
       "{'address1': '1760 Market Street',\n",
       " 'address2': 'Suite 602',\n",
       " 'city': 'Philadelphia',\n",
       " 'state': 'PA',\n",
       " 'zip': '19103',\n",
       " 'country': 'United States',\n",
       " 'phone': '215 543 6886',\n",
       " 'website': 'https://armadaacq.com',\n",
       " 'industry': 'Shell Companies',\n",
       " 'industryKey': 'shell-companies',\n",
       " 'industryDisp': 'Shell Companies',\n",
       " 'sector': 'Financial Services',\n",
       " 'sectorKey': 'financial-services',\n",
       " 'sectorDisp': 'Financial Services',\n",
       " 'longBusinessSummary': 'Armada Acquisition Corp. I does not have significant operations. It intends to effect a merger, capital stock exchange, asset acquisition, stock purchase, reorganization, or related business combination with one or more businesses in the financial technology industry. The company was incorporated in 2020 and is based in Philadelphia, Pennsylvania.',\n",
       " 'companyOfficers': [{'maxAge': 1,\n",
       "   'name': 'Mr. Stephen P. Herbert',\n",
       "   'age': 61,\n",
       "   'title': 'CEO & Chairman',\n",
       "   'yearBorn': 1962,\n",
       "   'exercisedValue': 0,\n",
       "   'unexercisedValue': 0},\n",
       "  {'maxAge': 1,\n",
       "   'name': 'Mr. Douglas M. Lurio Esq.',\n",
       "   'age': 67,\n",
       "   'title': 'President, Treasurer, Secretary & Director',\n",
       "   'yearBorn': 1956,\n",
       "   'exercisedValue': 0,\n",
       "   'unexercisedValue': 0}],\n",
       " 'maxAge': 86400,\n",
       " 'priceHint': 2,\n",
       " 'previousClose': 10.9,\n",
       " 'open': 10.9,\n",
       " 'dayLow': 10.9,\n",
       " 'dayHigh': 10.9,\n",
       " 'regularMarketPreviousClose': 10.9,\n",
       " 'regularMarketOpen': 10.9,\n",
       " 'regularMarketDayLow': 10.9,\n",
       " 'regularMarketDayHigh': 10.9,\n",
       " 'beta': 0.001,\n",
       " 'volume': 144,\n",
       " 'regularMarketVolume': 144,\n",
       " 'averageVolume': 12301,\n",
       " 'averageVolume10days': 25000,\n",
       " 'averageDailyVolume10Day': 25000,\n",
       " 'bid': 10.85,\n",
       " 'ask': 12.1,\n",
       " 'bidSize': 800,\n",
       " 'askSize': 800,\n",
       " 'marketCap': 87994064,\n",
       " 'fiftyTwoWeekLow': 8.56,\n",
       " 'fiftyTwoWeekHigh': 12.2,\n",
       " 'fiftyDayAverage': 10.7651,\n",
       " 'twoHundredDayAverage': 10.52034,\n",
       " 'currency': 'USD',\n",
       " 'enterpriseValue': 90498208,\n",
       " 'floatShares': 2535359,\n",
       " 'sharesOutstanding': 8072850,\n",
       " 'sharesShort': 541,\n",
       " 'sharesShortPriorMonth': 531,\n",
       " 'sharesShortPreviousMonthDate': 1701302400,\n",
       " 'dateShortInterest': 1703808000,\n",
       " 'sharesPercentSharesOut': 0.0001,\n",
       " 'heldPercentInsiders': 0.68711996,\n",
       " 'heldPercentInstitutions': 0.30072,\n",
       " 'shortRatio': 0.07,\n",
       " 'shortPercentOfFloat': 0.0002,\n",
       " 'impliedSharesOutstanding': 8080290,\n",
       " 'bookValue': -1.051,\n",
       " 'lastFiscalYearEnd': 1696032000,\n",
       " 'nextFiscalYearEnd': 1727654400,\n",
       " 'mostRecentQuarter': 1696032000,\n",
       " 'netIncomeToCommon': -320150,\n",
       " 'trailingEps': -0.02,\n",
       " '52WeekChange': 0.07177973,\n",
       " 'SandP52WeekChange': 0.19866347,\n",
       " 'exchange': 'NGM',\n",
       " 'quoteType': 'EQUITY',\n",
       " 'symbol': 'AACI',\n",
       " 'underlyingSymbol': 'AACI',\n",
       " 'shortName': 'Armada Acquisition Corp. I',\n",
       " 'longName': 'Armada Acquisition Corp. I',\n",
       " 'firstTradeDateEpochUtc': 1636554600,\n",
       " 'timeZoneFullName': 'America/New_York',\n",
       " 'timeZoneShortName': 'EST',\n",
       " 'uuid': 'c0352dcd-59cb-371d-baa0-59237791cdab',\n",
       " 'messageBoardId': 'finmb_706895895',\n",
       " 'gmtOffSetMilliseconds': -18000000,\n",
       " 'currentPrice': 10.9,\n",
       " 'recommendationKey': 'none',\n",
       " 'totalCash': 60284,\n",
       " 'totalCashPerShare': 0.007,\n",
       " 'totalDebt': 2564439,\n",
       " 'quickRatio': 0.007,\n",
       " 'currentRatio': 0.011,\n",
       " 'returnOnAssets': -0.01975,\n",
       " 'freeCashflow': 1092915,\n",
       " 'operatingCashflow': -1860042,\n",
       " 'financialCurrency': 'USD',\n",
       " 'trailingPegRatio': None}"
      ]
     },
     "execution_count": 131,
     "metadata": {},
     "output_type": "execute_result"
    }
   ],
   "source": [
    "msft.info"
   ]
  },
  {
   "cell_type": "code",
   "execution_count": 133,
   "metadata": {},
   "outputs": [
    {
     "data": {
      "text/plain": [
       "Date\n",
       "2005    NaN\n",
       "2006    NaN\n",
       "2007    NaN\n",
       "2008    NaN\n",
       "2009    NaN\n",
       "2010    NaN\n",
       "2011    NaN\n",
       "2012    NaN\n",
       "2013    NaN\n",
       "2014    NaN\n",
       "2015    NaN\n",
       "2016    NaN\n",
       "2017    NaN\n",
       "2018    NaN\n",
       "2019    NaN\n",
       "2020    NaN\n",
       "2021    NaN\n",
       "2022   3.37\n",
       "2023   6.42\n",
       "2024   1.21\n",
       "Name: AACI, dtype: float64"
      ]
     },
     "execution_count": 133,
     "metadata": {},
     "output_type": "execute_result"
    }
   ],
   "source": [
    "new_df[\"Change\"][\"AACI\"].tail(20)"
   ]
  },
  {
   "cell_type": "code",
   "execution_count": null,
   "metadata": {},
   "outputs": [],
   "source": []
  }
 ],
 "metadata": {
  "kernelspec": {
   "display_name": "Python 3 (ipykernel)",
   "language": "python",
   "name": "python3"
  },
  "language_info": {
   "codemirror_mode": {
    "name": "ipython",
    "version": 3
   },
   "file_extension": ".py",
   "mimetype": "text/x-python",
   "name": "python",
   "nbconvert_exporter": "python",
   "pygments_lexer": "ipython3",
   "version": "3.11.1"
  }
 },
 "nbformat": 4,
 "nbformat_minor": 4
}
