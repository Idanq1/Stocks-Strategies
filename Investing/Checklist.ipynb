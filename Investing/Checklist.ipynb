{
 "cells": [
  {
   "cell_type": "code",
   "execution_count": 100,
   "metadata": {
    "collapsed": true,
    "ExecuteTime": {
     "end_time": "2024-01-15T11:50:57.683711400Z",
     "start_time": "2024-01-15T11:50:57.641562Z"
    }
   },
   "outputs": [],
   "source": [
    "from datetime import datetime, timedelta, timezone\n",
    "from IPython.display import clear_output\n",
    "import pandas_datareader.data as web\n",
    "import yfinance as yf\n",
    "import pandas as pd\n",
    "import numpy as np\n",
    "import pyautogui\n",
    "import time\n",
    "\n",
    "pd.options.display.float_format = '{:,.2f}'.format"
   ]
  },
  {
   "cell_type": "markdown",
   "source": [
    "# Download data"
   ],
   "metadata": {
    "collapsed": false
   }
  },
  {
   "cell_type": "markdown",
   "source": [
    "### Fetching tickers from nasdaq and filtering out ETFs and stocks that we have a problem getting their prices"
   ],
   "metadata": {
    "collapsed": false
   }
  },
  {
   "cell_type": "code",
   "execution_count": 2,
   "outputs": [],
   "source": [
    "def get_all_tickers(etf=False):\n",
    "    # Get a list of all available tickers from Yahoo Finance\n",
    "    all_tickers = web.get_nasdaq_symbols()\n",
    "    all_tickers = all_tickers[~all_tickers[\"Test Issue\"]]  # Filter out stocks that we can't fetch their data for some reason\n",
    "\n",
    "    if not etf:\n",
    "        all_tickers = all_tickers[~all_tickers[\"ETF\"]]  # Filter out ETFs\n",
    "    tickers = all_tickers.index.tolist()\n",
    "    return [str(ticker) for ticker in tickers if str(ticker).isalpha()]"
   ],
   "metadata": {
    "collapsed": false,
    "ExecuteTime": {
     "end_time": "2024-01-15T10:47:18.645145200Z",
     "start_time": "2024-01-15T10:47:18.642152100Z"
    }
   }
  },
  {
   "cell_type": "code",
   "execution_count": 3,
   "outputs": [],
   "source": [
    "def get_data(tickers_list, p=\"max\"):\n",
    "    return yf.download(tickers_list, period=p, interval=\"1d\")"
   ],
   "metadata": {
    "collapsed": false,
    "ExecuteTime": {
     "end_time": "2024-01-15T10:47:18.669079100Z",
     "start_time": "2024-01-15T10:47:18.645145200Z"
    }
   }
  },
  {
   "cell_type": "code",
   "execution_count": 4,
   "outputs": [
    {
     "name": "stderr",
     "output_type": "stream",
     "text": [
      "[*********************100%%**********************]  5 of 5 completed"
     ]
    },
    {
     "name": "stdout",
     "output_type": "stream",
     "text": [
      "1.507842779159546\n"
     ]
    },
    {
     "name": "stderr",
     "output_type": "stream",
     "text": [
      "\n"
     ]
    }
   ],
   "source": [
    "# tickers = get_all_tickers()\n",
    "tickers = [\"TSLA\", \"AAPL\", \"MSFT\", \"NVDA\", \"GOOG\"]\n",
    "data = get_data(tickers)"
   ],
   "metadata": {
    "collapsed": false,
    "ExecuteTime": {
     "end_time": "2024-01-15T10:47:21.847755600Z",
     "start_time": "2024-01-15T10:47:20.388784200Z"
    }
   }
  },
  {
   "cell_type": "code",
   "execution_count": 5,
   "outputs": [],
   "source": [
    "data_cop = data.copy()"
   ],
   "metadata": {
    "collapsed": false,
    "ExecuteTime": {
     "end_time": "2024-01-15T10:47:22.520954700Z",
     "start_time": "2024-01-15T10:47:22.481062Z"
    }
   }
  },
  {
   "cell_type": "code",
   "execution_count": 7,
   "outputs": [],
   "source": [
    "new_df = pd.DataFrame(index=data_cop.index.year.unique(), columns=data_cop.columns)\n",
    "new_df.drop(\"Adj Close\", axis=1, level=0, inplace=True)\n",
    "new_df[\"Volume\"] = data_cop[\"Volume\"].groupby(data_cop.index.year).mean()\n",
    "new_df[\"Close\"] = data_cop[\"Close\"].groupby(data_cop.index.year).last()\n",
    "new_df[\"Open\"] = data_cop[\"Open\"].groupby(data_cop.index.year).first()\n",
    "new_df[\"High\"] = data_cop[\"High\"].groupby(data_cop.index.year).max()\n",
    "new_df[\"Low\"] = data_cop[\"Low\"].groupby(data_cop.index.year).min()\n",
    "for stock in new_df[\"Close\"].columns:\n",
    "    new_df[\"Change\", stock] = np.nan\n",
    "new_df[\"Change\"] = new_df.xs(\"Close\", axis=1, level=0).pct_change() * 100"
   ],
   "metadata": {
    "collapsed": false,
    "ExecuteTime": {
     "end_time": "2024-01-15T10:47:25.775787900Z",
     "start_time": "2024-01-15T10:47:25.676797800Z"
    }
   }
  },
  {
   "cell_type": "code",
   "execution_count": 64,
   "outputs": [
    {
     "data": {
      "text/plain": "              AAPL GOOG MSFT NVDA TSLA\nYears up       NaN  NaN  NaN  NaN  NaN\nDiv yield      NaN  NaN  NaN  NaN  NaN\nSector         NaN  NaN  NaN  NaN  NaN\navg daily vol  NaN  NaN  NaN  NaN  NaN",
      "text/html": "<div>\n<style scoped>\n    .dataframe tbody tr th:only-of-type {\n        vertical-align: middle;\n    }\n\n    .dataframe tbody tr th {\n        vertical-align: top;\n    }\n\n    .dataframe thead th {\n        text-align: right;\n    }\n</style>\n<table border=\"1\" class=\"dataframe\">\n  <thead>\n    <tr style=\"text-align: right;\">\n      <th></th>\n      <th>AAPL</th>\n      <th>GOOG</th>\n      <th>MSFT</th>\n      <th>NVDA</th>\n      <th>TSLA</th>\n    </tr>\n  </thead>\n  <tbody>\n    <tr>\n      <th>Years up</th>\n      <td>NaN</td>\n      <td>NaN</td>\n      <td>NaN</td>\n      <td>NaN</td>\n      <td>NaN</td>\n    </tr>\n    <tr>\n      <th>Div yield</th>\n      <td>NaN</td>\n      <td>NaN</td>\n      <td>NaN</td>\n      <td>NaN</td>\n      <td>NaN</td>\n    </tr>\n    <tr>\n      <th>Sector</th>\n      <td>NaN</td>\n      <td>NaN</td>\n      <td>NaN</td>\n      <td>NaN</td>\n      <td>NaN</td>\n    </tr>\n    <tr>\n      <th>avg daily vol</th>\n      <td>NaN</td>\n      <td>NaN</td>\n      <td>NaN</td>\n      <td>NaN</td>\n      <td>NaN</td>\n    </tr>\n  </tbody>\n</table>\n</div>"
     },
     "execution_count": 64,
     "metadata": {},
     "output_type": "execute_result"
    }
   ],
   "source": [
    "stocks_checklist = pd.DataFrame(index=[\"Years up\", \"Div yield\", \"Sector\", \"avg daily vol\"], columns=new_df[\"Close\"].columns)\n",
    "stocks_checklist"
   ],
   "metadata": {
    "collapsed": false,
    "ExecuteTime": {
     "end_time": "2024-01-15T11:19:53.817453400Z",
     "start_time": "2024-01-15T11:19:53.790446200Z"
    }
   }
  },
  {
   "cell_type": "code",
   "execution_count": 110,
   "outputs": [],
   "source": [
    "tickers = list(new_df[\"Close\"].columns)  # In case some of the tickers failed, this is the ticker list straight from the returned df\n",
    "# Years up in a row\n",
    "tmp = new_df[\"Change\"].iloc[::-1]\n",
    "neg_year = tmp.apply(lambda x: x[x < 0].index[0] if any(x<0) else None)\n",
    "current_year = tmp.index[0]\n",
    "stocks_checklist.loc[\"Years up\"] = current_year - neg_year\n",
    "\n",
    "# Div yield\n",
    "for ticker in tickers:\n",
    "    tmp = yf.Ticker(ticker)\n",
    "    start_date = (datetime.now() - timedelta(days = 365))\n",
    "    start_date = start_date.replace(tzinfo=timezone.utc)\n",
    "    div_sum = tmp.dividends.loc[start_date:].sum()\n",
    "    close_price = new_df[\"Close\"][ticker].iloc[-1]\n",
    "    div_yield = (div_sum/close_price) * 100\n",
    "    stocks_checklist.loc[\"Div yield\"][ticker] = div_yield\n",
    "\n",
    "    stock_sector = tmp.info[\"sector\"]\n",
    "    stocks_checklist.loc[\"Sector\"][ticker] = stock_sector\n",
    "stocks_checklist.loc[\"Div yield\"].replace(0.0, np.nan, inplace=True)"
   ],
   "metadata": {
    "collapsed": false,
    "ExecuteTime": {
     "end_time": "2024-01-15T11:54:20.633983800Z",
     "start_time": "2024-01-15T11:54:18.072035400Z"
    }
   }
  },
  {
   "cell_type": "code",
   "execution_count": 111,
   "outputs": [
    {
     "data": {
      "text/plain": "                     AAPL                    GOOG        MSFT        NVDA  \\\nYears up                0                       2           2           2   \nDiv yield            0.51                     NaN        0.72        0.03   \nSector         Technology  Communication Services  Technology  Technology   \navg daily vol         NaN                     NaN         NaN         NaN   \n\n                            TSLA  \nYears up                       0  \nDiv yield                    NaN  \nSector         Consumer Cyclical  \navg daily vol                NaN  ",
      "text/html": "<div>\n<style scoped>\n    .dataframe tbody tr th:only-of-type {\n        vertical-align: middle;\n    }\n\n    .dataframe tbody tr th {\n        vertical-align: top;\n    }\n\n    .dataframe thead th {\n        text-align: right;\n    }\n</style>\n<table border=\"1\" class=\"dataframe\">\n  <thead>\n    <tr style=\"text-align: right;\">\n      <th></th>\n      <th>AAPL</th>\n      <th>GOOG</th>\n      <th>MSFT</th>\n      <th>NVDA</th>\n      <th>TSLA</th>\n    </tr>\n  </thead>\n  <tbody>\n    <tr>\n      <th>Years up</th>\n      <td>0</td>\n      <td>2</td>\n      <td>2</td>\n      <td>2</td>\n      <td>0</td>\n    </tr>\n    <tr>\n      <th>Div yield</th>\n      <td>0.51</td>\n      <td>NaN</td>\n      <td>0.72</td>\n      <td>0.03</td>\n      <td>NaN</td>\n    </tr>\n    <tr>\n      <th>Sector</th>\n      <td>Technology</td>\n      <td>Communication Services</td>\n      <td>Technology</td>\n      <td>Technology</td>\n      <td>Consumer Cyclical</td>\n    </tr>\n    <tr>\n      <th>avg daily vol</th>\n      <td>NaN</td>\n      <td>NaN</td>\n      <td>NaN</td>\n      <td>NaN</td>\n      <td>NaN</td>\n    </tr>\n  </tbody>\n</table>\n</div>"
     },
     "execution_count": 111,
     "metadata": {},
     "output_type": "execute_result"
    }
   ],
   "source": [
    "stocks_checklist"
   ],
   "metadata": {
    "collapsed": false,
    "ExecuteTime": {
     "end_time": "2024-01-15T11:54:20.637946400Z",
     "start_time": "2024-01-15T11:54:20.625977900Z"
    }
   }
  },
  {
   "cell_type": "code",
   "execution_count": 97,
   "outputs": [],
   "source": [
    "# Year up - how many years the stock is uptrending in a row\n",
    "for ticker in tickers:\n",
    "    new_df[\"Change\"][ticker]"
   ],
   "metadata": {
    "collapsed": false,
    "ExecuteTime": {
     "end_time": "2024-01-15T11:43:46.730850Z",
     "start_time": "2024-01-15T11:43:46.595823700Z"
    }
   }
  },
  {
   "cell_type": "code",
   "execution_count": 12,
   "outputs": [],
   "source": [
    "tickers_stats = yf.Tickers(tickers)"
   ],
   "metadata": {
    "collapsed": false,
    "ExecuteTime": {
     "end_time": "2024-01-15T10:47:30.015313500Z",
     "start_time": "2024-01-15T10:47:29.911591300Z"
    }
   }
  },
  {
   "cell_type": "code",
   "execution_count": 13,
   "outputs": [
    {
     "name": "stdout",
     "output_type": "stream",
     "text": [
      "{'address1': 'One Apple Park Way', 'city': 'Cupertino', 'state': 'CA', 'zip': '95014', 'country': 'United States', 'phone': '408 996 1010', 'website': 'https://www.apple.com', 'industry': 'Consumer Electronics', 'industryKey': 'consumer-electronics', 'industryDisp': 'Consumer Electronics', 'sector': 'Technology', 'sectorKey': 'technology', 'sectorDisp': 'Technology', 'longBusinessSummary': 'Apple Inc. designs, manufactures, and markets smartphones, personal computers, tablets, wearables, and accessories worldwide. The company offers iPhone, a line of smartphones; Mac, a line of personal computers; iPad, a line of multi-purpose tablets; and wearables, home, and accessories comprising AirPods, Apple TV, Apple Watch, Beats products, and HomePod. It also provides AppleCare support and cloud services; and operates various platforms, including the App Store that allow customers to discover and download applications and digital content, such as books, music, video, games, and podcasts. In addition, the company offers various services, such as Apple Arcade, a game subscription service; Apple Fitness+, a personalized fitness service; Apple Music, which offers users a curated listening experience with on-demand radio stations; Apple News+, a subscription news and magazine service; Apple TV+, which offers exclusive original content; Apple Card, a co-branded credit card; and Apple Pay, a cashless payment service, as well as licenses its intellectual property. The company serves consumers, and small and mid-sized businesses; and the education, enterprise, and government markets. It distributes third-party applications for its products through the App Store. The company also sells its products through its retail and online stores, and direct sales force; and third-party cellular network carriers, wholesalers, retailers, and resellers. Apple Inc. was founded in 1976 and is headquartered in Cupertino, California.', 'fullTimeEmployees': 161000, 'companyOfficers': [{'maxAge': 1, 'name': 'Mr. Timothy D. Cook', 'age': 62, 'title': 'CEO & Director', 'yearBorn': 1961, 'fiscalYear': 2023, 'totalPay': 16239562, 'exercisedValue': 0, 'unexercisedValue': 0}, {'maxAge': 1, 'name': 'Mr. Luca  Maestri', 'age': 60, 'title': 'CFO & Senior VP', 'yearBorn': 1963, 'fiscalYear': 2023, 'totalPay': 4612242, 'exercisedValue': 0, 'unexercisedValue': 0}, {'maxAge': 1, 'name': 'Mr. Jeffrey E. Williams', 'age': 59, 'title': 'Chief Operating Officer', 'yearBorn': 1964, 'fiscalYear': 2023, 'totalPay': 4637585, 'exercisedValue': 0, 'unexercisedValue': 0}, {'maxAge': 1, 'name': 'Ms. Katherine L. Adams', 'age': 59, 'title': 'Senior VP, General Counsel & Secretary', 'yearBorn': 1964, 'fiscalYear': 2023, 'totalPay': 4618064, 'exercisedValue': 0, 'unexercisedValue': 0}, {'maxAge': 1, 'name': \"Ms. Deirdre  O'Brien\", 'age': 56, 'title': 'Senior Vice President of Retail', 'yearBorn': 1967, 'fiscalYear': 2023, 'totalPay': 4613369, 'exercisedValue': 0, 'unexercisedValue': 0}, {'maxAge': 1, 'name': 'Mr. Chris  Kondo', 'title': 'Senior Director of Corporate Accounting', 'fiscalYear': 2023, 'exercisedValue': 0, 'unexercisedValue': 0}, {'maxAge': 1, 'name': 'Mr. James  Wilson', 'title': 'Chief Technology Officer', 'fiscalYear': 2023, 'exercisedValue': 0, 'unexercisedValue': 0}, {'maxAge': 1, 'name': 'Suhasini  Chandramouli', 'title': 'Director of Investor Relations', 'fiscalYear': 2023, 'exercisedValue': 0, 'unexercisedValue': 0}, {'maxAge': 1, 'name': 'Mr. Greg  Joswiak', 'title': 'Senior Vice President of Worldwide Marketing', 'fiscalYear': 2023, 'exercisedValue': 0, 'unexercisedValue': 0}, {'maxAge': 1, 'name': 'Mr. Adrian  Perica', 'age': 49, 'title': 'Head of Corporate Development', 'yearBorn': 1974, 'fiscalYear': 2023, 'exercisedValue': 0, 'unexercisedValue': 0}], 'auditRisk': 4, 'boardRisk': 1, 'compensationRisk': 6, 'shareHolderRightsRisk': 1, 'overallRisk': 1, 'governanceEpochDate': 1704067200, 'compensationAsOfEpochDate': 1703980800, 'maxAge': 86400, 'priceHint': 2, 'previousClose': 185.59, 'open': 186.06, 'dayLow': 185.19, 'dayHigh': 186.74, 'regularMarketPreviousClose': 185.59, 'regularMarketOpen': 186.06, 'regularMarketDayLow': 185.19, 'regularMarketDayHigh': 186.74, 'dividendRate': 0.96, 'dividendYield': 0.0052, 'exDividendDate': 1699574400, 'payoutRatio': 0.1533, 'fiveYearAvgDividendYield': 0.8, 'beta': 1.29, 'trailingPE': 30.28013, 'forwardPE': 26.002796, 'volume': 40477782, 'regularMarketVolume': 40477782, 'averageVolume': 53972280, 'averageVolume10days': 55617120, 'averageDailyVolume10Day': 55617120, 'bid': 185.6, 'ask': 185.69, 'bidSize': 1300, 'askSize': 900, 'marketCap': 2874676346880, 'fiftyTwoWeekLow': 133.77, 'fiftyTwoWeekHigh': 199.62, 'priceToSalesTrailing12Months': 7.500101, 'fiftyDayAverage': 189.0204, 'twoHundredDayAverage': 180.69244, 'trailingAnnualDividendRate': 0.94, 'trailingAnnualDividendYield': 0.005064928, 'currency': 'USD', 'enterpriseValue': 2953942663168, 'profitMargins': 0.25305998, 'floatShares': 15535332918, 'sharesOutstanding': 15461900288, 'sharesShort': 108220157, 'sharesShortPriorMonth': 110653413, 'sharesShortPreviousMonthDate': 1701302400, 'dateShortInterest': 1703808000, 'sharesPercentSharesOut': 0.0069999998, 'heldPercentInsiders': 0.00072999997, 'heldPercentInstitutions': 0.61841, 'shortRatio': 2.06, 'shortPercentOfFloat': 0.0069999998, 'impliedSharesOutstanding': 15552799744, 'bookValue': 3.997, 'priceToBook': 46.514885, 'lastFiscalYearEnd': 1696032000, 'nextFiscalYearEnd': 1727654400, 'mostRecentQuarter': 1696032000, 'earningsQuarterlyGrowth': 0.108, 'netIncomeToCommon': 96995000320, 'trailingEps': 6.14, 'forwardEps': 7.15, 'pegRatio': 4.59, 'lastSplitFactor': '4:1', 'lastSplitDate': 1598832000, 'enterpriseToRevenue': 7.707, 'enterpriseToEbitda': 23.478, '52WeekChange': 0.3676622, 'SandP52WeekChange': 0.19866347, 'lastDividendValue': 0.24, 'lastDividendDate': 1699574400, 'exchange': 'NMS', 'quoteType': 'EQUITY', 'symbol': 'AAPL', 'underlyingSymbol': 'AAPL', 'shortName': 'Apple Inc.', 'longName': 'Apple Inc.', 'firstTradeDateEpochUtc': 345479400, 'timeZoneFullName': 'America/New_York', 'timeZoneShortName': 'EST', 'uuid': '8b10e4ae-9eeb-3684-921a-9ab27e4d87aa', 'messageBoardId': 'finmb_24937', 'gmtOffSetMilliseconds': -18000000, 'currentPrice': 185.92, 'targetHighPrice': 250.0, 'targetLowPrice': 159.0, 'targetMeanPrice': 199.57, 'targetMedianPrice': 200.0, 'recommendationMean': 2.2, 'recommendationKey': 'buy', 'numberOfAnalystOpinions': 39, 'totalCash': 61554999296, 'totalCashPerShare': 3.958, 'ebitda': 125820002304, 'totalDebt': 123930001408, 'quickRatio': 0.843, 'currentRatio': 0.988, 'totalRevenue': 383285002240, 'debtToEquity': 199.418, 'revenuePerShare': 24.344, 'returnOnAssets': 0.20256001, 'returnOnEquity': 1.7195, 'grossProfits': 170782000000, 'freeCashflow': 82179997696, 'operatingCashflow': 110543003648, 'earningsGrowth': 0.135, 'revenueGrowth': -0.007, 'grossMargins': 0.44131002, 'ebitdaMargins': 0.32827, 'operatingMargins': 0.30134, 'financialCurrency': 'USD', 'trailingPegRatio': 2.2284}\n"
     ]
    }
   ],
   "source": [
    "for ticker in tickers_stats.tickers:\n",
    "    print(tickers_stats.tickers[ticker].info)\n",
    "    break"
   ],
   "metadata": {
    "collapsed": false,
    "ExecuteTime": {
     "end_time": "2024-01-15T10:47:30.514977600Z",
     "start_time": "2024-01-15T10:47:30.240711800Z"
    }
   }
  },
  {
   "cell_type": "code",
   "execution_count": 33,
   "outputs": [
    {
     "data": {
      "text/plain": "2024"
     },
     "execution_count": 33,
     "metadata": {},
     "output_type": "execute_result"
    }
   ],
   "source": [
    "tmp = new_df[\"Change\"][\"TSLA\"].iloc[::-1]\n",
    "tmp.index[0]"
   ],
   "metadata": {
    "collapsed": false,
    "ExecuteTime": {
     "end_time": "2024-01-15T11:03:45.578609Z",
     "start_time": "2024-01-15T11:03:45.529701300Z"
    }
   }
  },
  {
   "cell_type": "code",
   "execution_count": 32,
   "outputs": [
    {
     "data": {
      "text/plain": "Date\n2024     True\n2023    False\n2022     True\n2021    False\n2020    False\n2019    False\n2018    False\n2017    False\n2016     True\n2015    False\n2014    False\n2013    False\n2012    False\n2011    False\n2010    False\n2009    False\n2008    False\n2007    False\n2006    False\n2005    False\n2004    False\n2003    False\n2002    False\n2001    False\n2000    False\n1999    False\n1998    False\n1997    False\n1996    False\n1995    False\n1994    False\n1993    False\n1992    False\n1991    False\n1990    False\n1989    False\n1988    False\n1987    False\n1986    False\n1985    False\n1984    False\n1983    False\n1982    False\n1981    False\n1980    False\nName: TSLA, dtype: bool"
     },
     "execution_count": 32,
     "metadata": {},
     "output_type": "execute_result"
    }
   ],
   "source": [
    "tmp < 0"
   ],
   "metadata": {
    "collapsed": false,
    "ExecuteTime": {
     "end_time": "2024-01-15T10:56:11.346110900Z",
     "start_time": "2024-01-15T10:56:11.328157800Z"
    }
   }
  },
  {
   "cell_type": "code",
   "execution_count": null,
   "outputs": [],
   "source": [],
   "metadata": {
    "collapsed": false
   }
  }
 ],
 "metadata": {
  "kernelspec": {
   "display_name": "Python 3",
   "language": "python",
   "name": "python3"
  },
  "language_info": {
   "codemirror_mode": {
    "name": "ipython",
    "version": 2
   },
   "file_extension": ".py",
   "mimetype": "text/x-python",
   "name": "python",
   "nbconvert_exporter": "python",
   "pygments_lexer": "ipython2",
   "version": "2.7.6"
  }
 },
 "nbformat": 4,
 "nbformat_minor": 0
}
