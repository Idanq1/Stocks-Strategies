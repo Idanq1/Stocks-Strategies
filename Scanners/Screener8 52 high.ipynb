{
 "cells": [
  {
   "cell_type": "code",
   "execution_count": 1,
   "id": "8ad2cf18-a6f0-4f2e-81ad-b39131153e65",
   "metadata": {
    "tags": []
   },
   "outputs": [],
   "source": [
    "from datetime import datetime, timedelta\n",
    "from IPython.display import clear_output\n",
    "import pandas_datareader.data as web\n",
    "import yfinance as yf\n",
    "import pandas as pd\n",
    "import numpy as np\n",
    "import pyautogui\n",
    "import time\n",
    "\n",
    "pd.options.display.float_format = '{:,.2f}'.format"
   ]
  },
  {
   "cell_type": "markdown",
   "id": "cb581c38-a6ff-498b-9662-a0e40fd69705",
   "metadata": {
    "tags": []
   },
   "source": [
    "# Downloads tickers and formatting data"
   ]
  },
  {
   "cell_type": "markdown",
   "id": "59e5cb43-f383-4170-a2ea-582b7395dfe4",
   "metadata": {},
   "source": [
    "### Fetching tickers from nasdaq and filtering out ETFs are stocks that we have a problem getting their prices"
   ]
  },
  {
   "cell_type": "code",
   "execution_count": 2,
   "id": "ff3aed4c-6f37-4d05-b69c-0190dfa8a097",
   "metadata": {
    "tags": []
   },
   "outputs": [],
   "source": [
    "def get_all_tickers(etf=False):\n",
    "    # Get a list of all available tickers from Yahoo Finance\n",
    "    all_tickers = web.get_nasdaq_symbols()\n",
    "    all_tickers = all_tickers[~all_tickers[\"Test Issue\"]]  # Filter out stocks that we can't fetch their data for some reason\n",
    "    \n",
    "    if not etf:\n",
    "        all_tickers = all_tickers[~all_tickers[\"ETF\"]]  # Filter out ETFs\n",
    "    tickers = all_tickers.index.tolist()\n",
    "    return [str(ticker) for ticker in tickers if str(ticker).isalpha()]"
   ]
  },
  {
   "cell_type": "markdown",
   "id": "f5148fde-ac6f-4ec0-b8c9-eb32a86eec00",
   "metadata": {},
   "source": [
    "### Formatting DataFrame"
   ]
  },
  {
   "cell_type": "code",
   "execution_count": 3,
   "id": "155a62b7-0f0b-45fc-8d13-312423bb013b",
   "metadata": {
    "tags": []
   },
   "outputs": [],
   "source": [
    "def get_info(df):\n",
    "    high = df['High'].max()\n",
    "    close = df['Close'].iloc[-1]\n",
    "    pct_to_52 = ((high - close) / high) * 100\n",
    "    volume = df[\"Volume\"].iloc[-1]\n",
    "    date_of_high = df['High'].idxmax()\n",
    "    \n",
    "    new_df = pd.DataFrame({'Close': close, '52wk High': high, \"Percent from 52\": pct_to_52, \"Volume\": volume, \"doh\": date_of_high, \"Volume$\": volume * close})\n",
    "\n",
    "    return new_df"
   ]
  },
  {
   "cell_type": "markdown",
   "id": "cfab6071-17fb-4f0b-93b4-e71602e13786",
   "metadata": {},
   "source": [
    "### Downloads data"
   ]
  },
  {
   "cell_type": "code",
   "execution_count": 4,
   "id": "d970b16f-53f0-4cbd-81d0-672e8bd46aee",
   "metadata": {
    "tags": []
   },
   "outputs": [],
   "source": [
    "def get_data(tickers_list, p=\"1y\"):\n",
    "    return yf.download(tickers_list, period=p)"
   ]
  },
  {
   "cell_type": "code",
   "execution_count": 5,
   "id": "7d62eb2e-4171-44f0-a599-1c20c2dd7d8b",
   "metadata": {
    "tags": []
   },
   "outputs": [
    {
     "name": "stdout",
     "output_type": "stream",
     "text": [
      "[**********************88%%****************      ]  6498 of 7361 completed"
     ]
    },
    {
     "name": "stderr",
     "output_type": "stream",
     "text": [
      "Failed to get ticker 'ELUT' reason: ('Connection aborted.', ConnectionResetError(10054, 'An existing connection was forcibly closed by the remote host', None, 10054, None))\n",
      "Failed to get ticker 'XTNT' reason: ('Connection aborted.', ConnectionResetError(10054, 'An existing connection was forcibly closed by the remote host', None, 10054, None))\n"
     ]
    },
    {
     "name": "stdout",
     "output_type": "stream",
     "text": [
      "[**********************88%%****************      ]  6504 of 7361 completed"
     ]
    },
    {
     "name": "stderr",
     "output_type": "stream",
     "text": [
      "Failed to get ticker 'BNTC' reason: HTTPSConnectionPool(host='query2.finance.yahoo.com', port=443): Max retries exceeded with url: /v8/finance/chart/BNTC?range=1d&interval=1d (Caused by NewConnectionError('<urllib3.connection.HTTPSConnection object at 0x000001BCBB6A7E10>: Failed to establish a new connection: [Errno 11001] getaddrinfo failed'))\n"
     ]
    },
    {
     "name": "stdout",
     "output_type": "stream",
     "text": [
      "[**********************88%%****************      ]  6506 of 7361 completed"
     ]
    },
    {
     "name": "stderr",
     "output_type": "stream",
     "text": [
      "Failed to get ticker 'THM' reason: HTTPSConnectionPool(host='query2.finance.yahoo.com', port=443): Max retries exceeded with url: /v8/finance/chart/THM?range=1d&interval=1d (Caused by NewConnectionError('<urllib3.connection.HTTPSConnection object at 0x000001BCD3A22F90>: Failed to establish a new connection: [Errno 11001] getaddrinfo failed'))\n",
      "Failed to get ticker 'URGN' reason: HTTPSConnectionPool(host='query2.finance.yahoo.com', port=443): Max retries exceeded with url: /v8/finance/chart/URGN?range=1d&interval=1d (Caused by NewConnectionError('<urllib3.connection.HTTPSConnection object at 0x000001BCBB6A43D0>: Failed to establish a new connection: [Errno 11001] getaddrinfo failed'))\n",
      "Failed to get ticker 'HST' reason: HTTPSConnectionPool(host='query2.finance.yahoo.com', port=443): Max retries exceeded with url: /v8/finance/chart/HST?range=1d&interval=1d (Caused by NewConnectionError('<urllib3.connection.HTTPSConnection object at 0x000001BCCBF63090>: Failed to establish a new connection: [Errno 11001] getaddrinfo failed'))\n"
     ]
    },
    {
     "name": "stdout",
     "output_type": "stream",
     "text": [
      "[**********************88%%****************      ]  6509 of 7361 completed"
     ]
    },
    {
     "name": "stderr",
     "output_type": "stream",
     "text": [
      "Failed to get ticker 'BCSA' reason: HTTPSConnectionPool(host='query2.finance.yahoo.com', port=443): Max retries exceeded with url: /v8/finance/chart/BCSA?range=1d&interval=1d (Caused by NewConnectionError('<urllib3.connection.HTTPSConnection object at 0x000001BCBA141050>: Failed to establish a new connection: [Errno 11001] getaddrinfo failed'))\n",
      "Failed to get ticker 'AREC' reason: HTTPSConnectionPool(host='query2.finance.yahoo.com', port=443): Max retries exceeded with url: /v8/finance/chart/AREC?range=1d&interval=1d (Caused by NewConnectionError('<urllib3.connection.HTTPSConnection object at 0x000001BCBA1399D0>: Failed to establish a new connection: [Errno 11001] getaddrinfo failed'))\n"
     ]
    },
    {
     "name": "stdout",
     "output_type": "stream",
     "text": [
      "[**********************88%%****************      ]  6510 of 7361 completed"
     ]
    },
    {
     "name": "stderr",
     "output_type": "stream",
     "text": [
      "Failed to get ticker 'CVE' reason: HTTPSConnectionPool(host='query2.finance.yahoo.com', port=443): Max retries exceeded with url: /v8/finance/chart/CVE?range=1d&interval=1d (Caused by NewConnectionError('<urllib3.connection.HTTPSConnection object at 0x000001BCD5D54A10>: Failed to establish a new connection: [Errno 11001] getaddrinfo failed'))\n",
      "Failed to get ticker 'TIL' reason: HTTPSConnectionPool(host='query2.finance.yahoo.com', port=443): Max retries exceeded with url: /v8/finance/chart/TIL?range=1d&interval=1d (Caused by NewConnectionError('<urllib3.connection.HTTPSConnection object at 0x000001BCCBF89150>: Failed to establish a new connection: [Errno 11001] getaddrinfo failed'))\n"
     ]
    },
    {
     "name": "stdout",
     "output_type": "stream",
     "text": [
      "[**********************88%%****************      ]  6512 of 7361 completed"
     ]
    },
    {
     "name": "stderr",
     "output_type": "stream",
     "text": [
      "Failed to get ticker 'WVVIP' reason: HTTPSConnectionPool(host='query2.finance.yahoo.com', port=443): Max retries exceeded with url: /v8/finance/chart/WVVIP?range=1d&interval=1d (Caused by NewConnectionError('<urllib3.connection.HTTPSConnection object at 0x000001BCD5D54090>: Failed to establish a new connection: [Errno 11001] getaddrinfo failed'))\n",
      "Failed to get ticker 'BPMC' reason: HTTPSConnectionPool(host='query2.finance.yahoo.com', port=443): Max retries exceeded with url: /v8/finance/chart/BPMC?range=1d&interval=1d (Caused by NewConnectionError('<urllib3.connection.HTTPSConnection object at 0x000001BCBB6A6710>: Failed to establish a new connection: [Errno 11001] getaddrinfo failed'))\n"
     ]
    },
    {
     "name": "stdout",
     "output_type": "stream",
     "text": [
      "[**********************88%%****************      ]  6514 of 7361 completed"
     ]
    },
    {
     "name": "stderr",
     "output_type": "stream",
     "text": [
      "Failed to get ticker 'ALVO' reason: HTTPSConnectionPool(host='query2.finance.yahoo.com', port=443): Max retries exceeded with url: /v8/finance/chart/ALVO?range=1d&interval=1d (Caused by NewConnectionError('<urllib3.connection.HTTPSConnection object at 0x000001BCCAE5AFD0>: Failed to establish a new connection: [Errno 11001] getaddrinfo failed'))\n",
      "Failed to get ticker 'CXT' reason: HTTPSConnectionPool(host='query2.finance.yahoo.com', port=443): Max retries exceeded with url: /v8/finance/chart/CXT?range=1d&interval=1d (Caused by NewConnectionError('<urllib3.connection.HTTPSConnection object at 0x000001BCD061AB50>: Failed to establish a new connection: [Errno 11001] getaddrinfo failed'))\n"
     ]
    },
    {
     "name": "stdout",
     "output_type": "stream",
     "text": [
      "[**********************89%%*****************     ]  6515 of 7361 completed"
     ]
    },
    {
     "name": "stderr",
     "output_type": "stream",
     "text": [
      "Failed to get ticker 'MBINM' reason: HTTPSConnectionPool(host='query2.finance.yahoo.com', port=443): Max retries exceeded with url: /v8/finance/chart/MBINM?range=1d&interval=1d (Caused by NewConnectionError('<urllib3.connection.HTTPSConnection object at 0x000001BCD3AE0CD0>: Failed to establish a new connection: [Errno 11001] getaddrinfo failed'))\n"
     ]
    },
    {
     "name": "stdout",
     "output_type": "stream",
     "text": [
      "[**********************89%%*****************     ]  6516 of 7361 completed"
     ]
    },
    {
     "name": "stderr",
     "output_type": "stream",
     "text": [
      "Failed to get ticker 'BANF' reason: HTTPSConnectionPool(host='query2.finance.yahoo.com', port=443): Max retries exceeded with url: /v8/finance/chart/BANF?range=1d&interval=1d (Caused by NewConnectionError('<urllib3.connection.HTTPSConnection object at 0x000001BCBB6A5CD0>: Failed to establish a new connection: [Errno 11001] getaddrinfo failed'))\n"
     ]
    },
    {
     "name": "stdout",
     "output_type": "stream",
     "text": [
      "[**********************89%%*****************     ]  6518 of 7361 completed"
     ]
    },
    {
     "name": "stderr",
     "output_type": "stream",
     "text": [
      "Failed to get ticker 'GDC' reason: HTTPSConnectionPool(host='query2.finance.yahoo.com', port=443): Max retries exceeded with url: /v8/finance/chart/GDC?range=1d&interval=1d (Caused by NewConnectionError('<urllib3.connection.HTTPSConnection object at 0x000001BCD4C19890>: Failed to establish a new connection: [Errno 11001] getaddrinfo failed'))\n"
     ]
    },
    {
     "name": "stdout",
     "output_type": "stream",
     "text": [
      "[**********************89%%*****************     ]  6519 of 7361 completed"
     ]
    },
    {
     "name": "stderr",
     "output_type": "stream",
     "text": [
      "Failed to get ticker 'JEQ' reason: HTTPSConnectionPool(host='query2.finance.yahoo.com', port=443): Max retries exceeded with url: /v8/finance/chart/JEQ?range=1d&interval=1d (Caused by NewConnectionError('<urllib3.connection.HTTPSConnection object at 0x000001BCBB6A70D0>: Failed to establish a new connection: [Errno 11001] getaddrinfo failed'))\n"
     ]
    },
    {
     "name": "stdout",
     "output_type": "stream",
     "text": [
      "[**********************89%%*****************     ]  6520 of 7361 completed"
     ]
    },
    {
     "name": "stderr",
     "output_type": "stream",
     "text": [
      "Failed to get ticker 'DRRX' reason: HTTPSConnectionPool(host='query2.finance.yahoo.com', port=443): Max retries exceeded with url: /v8/finance/chart/DRRX?range=1d&interval=1d (Caused by NewConnectionError('<urllib3.connection.HTTPSConnection object at 0x000001BCBB6A7290>: Failed to establish a new connection: [Errno 11001] getaddrinfo failed'))\n"
     ]
    },
    {
     "name": "stdout",
     "output_type": "stream",
     "text": [
      "[**********************89%%*****************     ]  6521 of 7361 completed"
     ]
    },
    {
     "name": "stderr",
     "output_type": "stream",
     "text": [
      "Failed to get ticker 'ALSAR' reason: HTTPSConnectionPool(host='query2.finance.yahoo.com', port=443): Max retries exceeded with url: /v8/finance/chart/ALSAR?range=1d&interval=1d (Caused by NewConnectionError('<urllib3.connection.HTTPSConnection object at 0x000001BCBB67C450>: Failed to establish a new connection: [Errno 11001] getaddrinfo failed'))\n"
     ]
    },
    {
     "name": "stdout",
     "output_type": "stream",
     "text": [
      "[**********************89%%*****************     ]  6522 of 7361 completed"
     ]
    },
    {
     "name": "stderr",
     "output_type": "stream",
     "text": [
      "Failed to get ticker 'ESCA' reason: HTTPSConnectionPool(host='query2.finance.yahoo.com', port=443): Max retries exceeded with url: /v8/finance/chart/ESCA?range=1d&interval=1d (Caused by NewConnectionError('<urllib3.connection.HTTPSConnection object at 0x000001BCBB6A5BD0>: Failed to establish a new connection: [Errno 11001] getaddrinfo failed'))\n"
     ]
    },
    {
     "name": "stdout",
     "output_type": "stream",
     "text": [
      "[**********************89%%*****************     ]  6524 of 7361 completed"
     ]
    },
    {
     "name": "stderr",
     "output_type": "stream",
     "text": [
      "Failed to get ticker 'HQY' reason: HTTPSConnectionPool(host='query2.finance.yahoo.com', port=443): Max retries exceeded with url: /v8/finance/chart/HQY?range=1d&interval=1d (Caused by NewConnectionError('<urllib3.connection.HTTPSConnection object at 0x000001BCD4C19890>: Failed to establish a new connection: [Errno 11001] getaddrinfo failed'))\n",
      "Failed to get ticker 'PEGA' reason: HTTPSConnectionPool(host='query2.finance.yahoo.com', port=443): Max retries exceeded with url: /v8/finance/chart/PEGA?range=1d&interval=1d (Caused by NewConnectionError('<urllib3.connection.HTTPSConnection object at 0x000001BCD3A42290>: Failed to establish a new connection: [Errno 11001] getaddrinfo failed'))\n"
     ]
    },
    {
     "name": "stdout",
     "output_type": "stream",
     "text": [
      "[**********************89%%*****************     ]  6525 of 7361 completed"
     ]
    },
    {
     "name": "stderr",
     "output_type": "stream",
     "text": [
      "Failed to get ticker 'FDX' reason: HTTPSConnectionPool(host='query2.finance.yahoo.com', port=443): Max retries exceeded with url: /v8/finance/chart/FDX?range=1d&interval=1d (Caused by NewConnectionError('<urllib3.connection.HTTPSConnection object at 0x000001BCD3A8C510>: Failed to establish a new connection: [Errno 11001] getaddrinfo failed'))\n"
     ]
    },
    {
     "name": "stdout",
     "output_type": "stream",
     "text": [
      "[**********************89%%*****************     ]  6526 of 7361 completed"
     ]
    },
    {
     "name": "stderr",
     "output_type": "stream",
     "text": [
      "Failed to get ticker 'OPRX' reason: HTTPSConnectionPool(host='query2.finance.yahoo.com', port=443): Max retries exceeded with url: /v8/finance/chart/OPRX?range=1d&interval=1d (Caused by NewConnectionError('<urllib3.connection.HTTPSConnection object at 0x000001BCD5D414D0>: Failed to establish a new connection: [Errno 11001] getaddrinfo failed'))\n"
     ]
    },
    {
     "name": "stdout",
     "output_type": "stream",
     "text": [
      "[**********************89%%*****************     ]  6527 of 7361 completed"
     ]
    },
    {
     "name": "stderr",
     "output_type": "stream",
     "text": [
      "Failed to get ticker 'ARTEU' reason: HTTPSConnectionPool(host='query2.finance.yahoo.com', port=443): Max retries exceeded with url: /v8/finance/chart/ARTEU?range=1d&interval=1d (Caused by NewConnectionError('<urllib3.connection.HTTPSConnection object at 0x000001BCBB67E4D0>: Failed to establish a new connection: [Errno 11001] getaddrinfo failed'))\n",
      "Failed to get ticker 'EIGR' reason: HTTPSConnectionPool(host='query2.finance.yahoo.com', port=443): Max retries exceeded with url: /v8/finance/chart/EIGR?range=1d&interval=1d (Caused by NewConnectionError('<urllib3.connection.HTTPSConnection object at 0x000001BCBB6A42D0>: Failed to establish a new connection: [Errno 11001] getaddrinfo failed'))\n"
     ]
    },
    {
     "name": "stdout",
     "output_type": "stream",
     "text": [
      "[**********************89%%*****************     ]  6529 of 7361 completed"
     ]
    },
    {
     "name": "stderr",
     "output_type": "stream",
     "text": [
      "Failed to get ticker 'BTM' reason: HTTPSConnectionPool(host='query2.finance.yahoo.com', port=443): Max retries exceeded with url: /v8/finance/chart/BTM?range=1d&interval=1d (Caused by NewConnectionError('<urllib3.connection.HTTPSConnection object at 0x000001BCBA0019D0>: Failed to establish a new connection: [Errno 11001] getaddrinfo failed'))\n"
     ]
    },
    {
     "name": "stdout",
     "output_type": "stream",
     "text": [
      "[**********************89%%*****************     ]  6530 of 7361 completed"
     ]
    },
    {
     "name": "stderr",
     "output_type": "stream",
     "text": [
      "Failed to get ticker 'ACBA' reason: HTTPSConnectionPool(host='query2.finance.yahoo.com', port=443): Max retries exceeded with url: /v8/finance/chart/ACBA?range=1d&interval=1d (Caused by NewConnectionError('<urllib3.connection.HTTPSConnection object at 0x000001BCD4C3ACD0>: Failed to establish a new connection: [Errno 11001] getaddrinfo failed'))\n"
     ]
    },
    {
     "name": "stdout",
     "output_type": "stream",
     "text": [
      "[**********************89%%*****************     ]  6531 of 7361 completed"
     ]
    },
    {
     "name": "stderr",
     "output_type": "stream",
     "text": [
      "Failed to get ticker 'ESGLW' reason: HTTPSConnectionPool(host='query2.finance.yahoo.com', port=443): Max retries exceeded with url: /v8/finance/chart/ESGLW?range=1d&interval=1d (Caused by NewConnectionError('<urllib3.connection.HTTPSConnection object at 0x000001BCCF43DA50>: Failed to establish a new connection: [Errno 11001] getaddrinfo failed'))\n",
      "Failed to get ticker 'GBR' reason: HTTPSConnectionPool(host='query2.finance.yahoo.com', port=443): Max retries exceeded with url: /v8/finance/chart/GBR?range=1d&interval=1d (Caused by NewConnectionError('<urllib3.connection.HTTPSConnection object at 0x000001BCBB4BDE90>: Failed to establish a new connection: [Errno 11001] getaddrinfo failed'))\n"
     ]
    },
    {
     "name": "stdout",
     "output_type": "stream",
     "text": [
      "[**********************89%%*****************     ]  6532 of 7361 completed"
     ]
    },
    {
     "name": "stderr",
     "output_type": "stream",
     "text": [
      "Failed to get ticker 'SONM' reason: HTTPSConnectionPool(host='query2.finance.yahoo.com', port=443): Max retries exceeded with url: /v8/finance/chart/SONM?range=1d&interval=1d (Caused by NewConnectionError('<urllib3.connection.HTTPSConnection object at 0x000001BCCE319BD0>: Failed to establish a new connection: [Errno 11001] getaddrinfo failed'))\n"
     ]
    },
    {
     "name": "stdout",
     "output_type": "stream",
     "text": [
      "[**********************89%%*****************     ]  6534 of 7361 completed"
     ]
    },
    {
     "name": "stderr",
     "output_type": "stream",
     "text": [
      "Failed to get ticker 'WAL' reason: HTTPSConnectionPool(host='query2.finance.yahoo.com', port=443): Max retries exceeded with url: /v8/finance/chart/WAL?range=1d&interval=1d (Caused by NewConnectionError('<urllib3.connection.HTTPSConnection object at 0x000001BCB97A8CD0>: Failed to establish a new connection: [Errno 11001] getaddrinfo failed'))\n"
     ]
    },
    {
     "name": "stdout",
     "output_type": "stream",
     "text": [
      "[**********************89%%*****************     ]  6535 of 7361 completed"
     ]
    },
    {
     "name": "stderr",
     "output_type": "stream",
     "text": [
      "Failed to get ticker 'TNK' reason: HTTPSConnectionPool(host='query2.finance.yahoo.com', port=443): Max retries exceeded with url: /v8/finance/chart/TNK?range=1d&interval=1d (Caused by NewConnectionError('<urllib3.connection.HTTPSConnection object at 0x000001BCBB6AC450>: Failed to establish a new connection: [Errno 11001] getaddrinfo failed'))\n",
      "Failed to get ticker 'LHC' reason: HTTPSConnectionPool(host='query2.finance.yahoo.com', port=443): Max retries exceeded with url: /v8/finance/chart/LHC?range=1d&interval=1d (Caused by NewConnectionError('<urllib3.connection.HTTPSConnection object at 0x000001BCBB6AE610>: Failed to establish a new connection: [Errno 11001] getaddrinfo failed'))\n"
     ]
    },
    {
     "name": "stdout",
     "output_type": "stream",
     "text": [
      "[**********************89%%*****************     ]  6536 of 7361 completed"
     ]
    },
    {
     "name": "stderr",
     "output_type": "stream",
     "text": [
      "Failed to get ticker 'KPTI' reason: HTTPSConnectionPool(host='query2.finance.yahoo.com', port=443): Max retries exceeded with url: /v8/finance/chart/KPTI?range=1d&interval=1d (Caused by NewConnectionError('<urllib3.connection.HTTPSConnection object at 0x000001BCBB50ED10>: Failed to establish a new connection: [Errno 11001] getaddrinfo failed'))\n"
     ]
    },
    {
     "name": "stdout",
     "output_type": "stream",
     "text": [
      "[**********************89%%*****************     ]  6538 of 7361 completed"
     ]
    },
    {
     "name": "stderr",
     "output_type": "stream",
     "text": [
      "Failed to get ticker 'MAR' reason: HTTPSConnectionPool(host='query2.finance.yahoo.com', port=443): Max retries exceeded with url: /v8/finance/chart/MAR?range=1d&interval=1d (Caused by NewConnectionError('<urllib3.connection.HTTPSConnection object at 0x000001BCB9F57D90>: Failed to establish a new connection: [Errno 11001] getaddrinfo failed'))\n",
      "Failed to get ticker 'SMAPW' reason: HTTPSConnectionPool(host='query2.finance.yahoo.com', port=443): Max retries exceeded with url: /v8/finance/chart/SMAPW?range=1d&interval=1d (Caused by NewConnectionError('<urllib3.connection.HTTPSConnection object at 0x000001BCBA1B4310>: Failed to establish a new connection: [Errno 11001] getaddrinfo failed'))\n",
      "Failed to get ticker 'LGST' reason: HTTPSConnectionPool(host='query2.finance.yahoo.com', port=443): Max retries exceeded with url: /v8/finance/chart/LGST?range=1d&interval=1d (Caused by NewConnectionError('<urllib3.connection.HTTPSConnection object at 0x000001BCD5D57B50>: Failed to establish a new connection: [Errno 11001] getaddrinfo failed'))\n"
     ]
    },
    {
     "name": "stdout",
     "output_type": "stream",
     "text": [
      "[**********************89%%*****************     ]  6540 of 7361 completed"
     ]
    },
    {
     "name": "stderr",
     "output_type": "stream",
     "text": [
      "Failed to get ticker 'SBLK' reason: HTTPSConnectionPool(host='query2.finance.yahoo.com', port=443): Max retries exceeded with url: /v8/finance/chart/SBLK?range=1d&interval=1d (Caused by NewConnectionError('<urllib3.connection.HTTPSConnection object at 0x000001BCBB6ADE50>: Failed to establish a new connection: [Errno 11001] getaddrinfo failed'))\n",
      "Failed to get ticker 'PML' reason: HTTPSConnectionPool(host='query2.finance.yahoo.com', port=443): Max retries exceeded with url: /v8/finance/chart/PML?range=1d&interval=1d (Caused by NewConnectionError('<urllib3.connection.HTTPSConnection object at 0x000001BCD5D33150>: Failed to establish a new connection: [Errno 11001] getaddrinfo failed'))\n"
     ]
    },
    {
     "name": "stdout",
     "output_type": "stream",
     "text": [
      "[**********************89%%*****************     ]  6541 of 7361 completed"
     ]
    },
    {
     "name": "stderr",
     "output_type": "stream",
     "text": [
      "Failed to get ticker 'GOVXW' reason: HTTPSConnectionPool(host='query2.finance.yahoo.com', port=443): Max retries exceeded with url: /v8/finance/chart/GOVXW?range=1d&interval=1d (Caused by NewConnectionError('<urllib3.connection.HTTPSConnection object at 0x000001BCD4C39FD0>: Failed to establish a new connection: [Errno 11001] getaddrinfo failed'))\n"
     ]
    },
    {
     "name": "stdout",
     "output_type": "stream",
     "text": [
      "[**********************89%%*****************     ]  6545 of 7361 completed"
     ]
    },
    {
     "name": "stderr",
     "output_type": "stream",
     "text": [
      "Failed to get ticker 'RZC' reason: HTTPSConnectionPool(host='query2.finance.yahoo.com', port=443): Max retries exceeded with url: /v8/finance/chart/RZC?range=1d&interval=1d (Caused by NewConnectionError('<urllib3.connection.HTTPSConnection object at 0x000001BCBB6A7150>: Failed to establish a new connection: [Errno 11001] getaddrinfo failed'))\n",
      "Failed to get ticker 'ACB' reason: HTTPSConnectionPool(host='query2.finance.yahoo.com', port=443): Max retries exceeded with url: /v8/finance/chart/ACB?range=1d&interval=1d (Caused by NewConnectionError('<urllib3.connection.HTTPSConnection object at 0x000001BCBB6A43D0>: Failed to establish a new connection: [Errno 11001] getaddrinfo failed'))\n"
     ]
    },
    {
     "name": "stdout",
     "output_type": "stream",
     "text": [
      "[**********************89%%*****************     ]  6546 of 7361 completed"
     ]
    },
    {
     "name": "stderr",
     "output_type": "stream",
     "text": [
      "Failed to get ticker 'WB' reason: HTTPSConnectionPool(host='query2.finance.yahoo.com', port=443): Max retries exceeded with url: /v8/finance/chart/WB?range=1d&interval=1d (Caused by NewConnectionError('<urllib3.connection.HTTPSConnection object at 0x000001BCBB56E810>: Failed to establish a new connection: [Errno 11001] getaddrinfo failed'))\n"
     ]
    },
    {
     "name": "stdout",
     "output_type": "stream",
     "text": [
      "[**********************89%%*****************     ]  6547 of 7361 completed"
     ]
    },
    {
     "name": "stderr",
     "output_type": "stream",
     "text": [
      "Failed to get ticker 'AG' reason: HTTPSConnectionPool(host='query2.finance.yahoo.com', port=443): Max retries exceeded with url: /v8/finance/chart/AG?range=1d&interval=1d (Caused by NewConnectionError('<urllib3.connection.HTTPSConnection object at 0x000001BCB9B07890>: Failed to establish a new connection: [Errno 11001] getaddrinfo failed'))\n"
     ]
    },
    {
     "name": "stdout",
     "output_type": "stream",
     "text": [
      "[**********************89%%*****************     ]  6547 of 7361 completed"
     ]
    },
    {
     "name": "stderr",
     "output_type": "stream",
     "text": [
      "Failed to get ticker 'BRLIU' reason: HTTPSConnectionPool(host='query2.finance.yahoo.com', port=443): Max retries exceeded with url: /v8/finance/chart/BRLIU?range=1d&interval=1d (Caused by NewConnectionError('<urllib3.connection.HTTPSConnection object at 0x000001BCD294B310>: Failed to establish a new connection: [Errno 11001] getaddrinfo failed'))\n"
     ]
    },
    {
     "name": "stdout",
     "output_type": "stream",
     "text": [
      "[**********************89%%*****************     ]  6549 of 7361 completed"
     ]
    },
    {
     "name": "stderr",
     "output_type": "stream",
     "text": [
      "Failed to get ticker 'TOL' reason: HTTPSConnectionPool(host='query2.finance.yahoo.com', port=443): Max retries exceeded with url: /v8/finance/chart/TOL?range=1d&interval=1d (Caused by NewConnectionError('<urllib3.connection.HTTPSConnection object at 0x000001BCBB6A6550>: Failed to establish a new connection: [Errno 11001] getaddrinfo failed'))\n"
     ]
    },
    {
     "name": "stdout",
     "output_type": "stream",
     "text": [
      "[**********************89%%*****************     ]  6550 of 7361 completed"
     ]
    },
    {
     "name": "stderr",
     "output_type": "stream",
     "text": [
      "Failed to get ticker 'BBW' reason: HTTPSConnectionPool(host='query2.finance.yahoo.com', port=443): Max retries exceeded with url: /v8/finance/chart/BBW?range=1d&interval=1d (Caused by NewConnectionError('<urllib3.connection.HTTPSConnection object at 0x000001BCD4C10810>: Failed to establish a new connection: [Errno 11001] getaddrinfo failed'))\n"
     ]
    },
    {
     "name": "stdout",
     "output_type": "stream",
     "text": [
      "[**********************89%%*****************     ]  6551 of 7361 completed"
     ]
    },
    {
     "name": "stderr",
     "output_type": "stream",
     "text": [
      "Failed to get ticker 'RNAZ' reason: HTTPSConnectionPool(host='query2.finance.yahoo.com', port=443): Max retries exceeded with url: /v8/finance/chart/RNAZ?range=1d&interval=1d (Caused by NewConnectionError('<urllib3.connection.HTTPSConnection object at 0x000001BCBB6AE510>: Failed to establish a new connection: [Errno 11001] getaddrinfo failed'))\n"
     ]
    },
    {
     "name": "stdout",
     "output_type": "stream",
     "text": [
      "[**********************89%%*****************     ]  6552 of 7361 completed"
     ]
    },
    {
     "name": "stderr",
     "output_type": "stream",
     "text": [
      "Failed to get ticker 'NCNA' reason: HTTPSConnectionPool(host='query2.finance.yahoo.com', port=443): Max retries exceeded with url: /v8/finance/chart/NCNA?range=1d&interval=1d (Caused by NewConnectionError('<urllib3.connection.HTTPSConnection object at 0x000001BCD5D419D0>: Failed to establish a new connection: [Errno 11001] getaddrinfo failed'))\n"
     ]
    },
    {
     "name": "stdout",
     "output_type": "stream",
     "text": [
      "[**********************89%%*****************     ]  6554 of 7361 completed"
     ]
    },
    {
     "name": "stderr",
     "output_type": "stream",
     "text": [
      "Failed to get ticker 'SOS' reason: HTTPSConnectionPool(host='query2.finance.yahoo.com', port=443): Max retries exceeded with url: /v8/finance/chart/SOS?range=1d&interval=1d (Caused by NewConnectionError('<urllib3.connection.HTTPSConnection object at 0x000001BCB9F57E90>: Failed to establish a new connection: [Errno 11001] getaddrinfo failed'))\n",
      "Failed to get ticker 'SIG' reason: HTTPSConnectionPool(host='query2.finance.yahoo.com', port=443): Max retries exceeded with url: /v8/finance/chart/SIG?range=1d&interval=1d (Caused by NewConnectionError('<urllib3.connection.HTTPSConnection object at 0x000001BCD4B69150>: Failed to establish a new connection: [Errno 11001] getaddrinfo failed'))\n"
     ]
    },
    {
     "name": "stdout",
     "output_type": "stream",
     "text": [
      "[**********************89%%*****************     ]  6555 of 7361 completed"
     ]
    },
    {
     "name": "stderr",
     "output_type": "stream",
     "text": [
      "Failed to get ticker 'LFST' reason: HTTPSConnectionPool(host='query2.finance.yahoo.com', port=443): Max retries exceeded with url: /v8/finance/chart/LFST?range=1d&interval=1d (Caused by NewConnectionError('<urllib3.connection.HTTPSConnection object at 0x000001BCBA27EB10>: Failed to establish a new connection: [Errno 11001] getaddrinfo failed'))\n",
      "Failed to get ticker 'MDBH' reason: HTTPSConnectionPool(host='query2.finance.yahoo.com', port=443): Max retries exceeded with url: /v8/finance/chart/MDBH?range=1d&interval=1d (Caused by NewConnectionError('<urllib3.connection.HTTPSConnection object at 0x000001BCBA016F50>: Failed to establish a new connection: [Errno 11001] getaddrinfo failed'))\n"
     ]
    },
    {
     "name": "stdout",
     "output_type": "stream",
     "text": [
      "[**********************89%%*****************     ]  6558 of 7361 completed"
     ]
    },
    {
     "name": "stderr",
     "output_type": "stream",
     "text": [
      "Failed to get ticker 'OC' reason: HTTPSConnectionPool(host='query2.finance.yahoo.com', port=443): Max retries exceeded with url: /v8/finance/chart/OC?range=1d&interval=1d (Caused by NewConnectionError('<urllib3.connection.HTTPSConnection object at 0x000001BCBB6ACE50>: Failed to establish a new connection: [Errno 11001] getaddrinfo failed'))\n",
      "Failed to get ticker 'INSI' reason: HTTPSConnectionPool(host='query2.finance.yahoo.com', port=443): Max retries exceeded with url: /v8/finance/chart/INSI?range=1d&interval=1d (Caused by NewConnectionError('<urllib3.connection.HTTPSConnection object at 0x000001BCD5D58990>: Failed to establish a new connection: [Errno 11001] getaddrinfo failed'))\n"
     ]
    },
    {
     "name": "stdout",
     "output_type": "stream",
     "text": [
      "[**********************89%%*****************     ]  6559 of 7361 completed"
     ]
    },
    {
     "name": "stderr",
     "output_type": "stream",
     "text": [
      "Failed to get ticker 'JOAN' reason: HTTPSConnectionPool(host='query2.finance.yahoo.com', port=443): Max retries exceeded with url: /v8/finance/chart/JOAN?range=1d&interval=1d (Caused by NewConnectionError('<urllib3.connection.HTTPSConnection object at 0x000001BCBB6AFF10>: Failed to establish a new connection: [Errno 11001] getaddrinfo failed'))\n",
      "Failed to get ticker 'AXGN' reason: HTTPSConnectionPool(host='query2.finance.yahoo.com', port=443): Max retries exceeded with url: /v8/finance/chart/AXGN?range=1d&interval=1d (Caused by NewConnectionError('<urllib3.connection.HTTPSConnection object at 0x000001BCD5D7C1D0>: Failed to establish a new connection: [Errno 11001] getaddrinfo failed'))\n"
     ]
    },
    {
     "name": "stdout",
     "output_type": "stream",
     "text": [
      "[**********************89%%*****************     ]  6560 of 7361 completed"
     ]
    },
    {
     "name": "stderr",
     "output_type": "stream",
     "text": [
      "Failed to get ticker 'HSPOU' reason: HTTPSConnectionPool(host='query2.finance.yahoo.com', port=443): Max retries exceeded with url: /v8/finance/chart/HSPOU?range=1d&interval=1d (Caused by NewConnectionError('<urllib3.connection.HTTPSConnection object at 0x000001BCD0639190>: Failed to establish a new connection: [Errno 11001] getaddrinfo failed'))\n"
     ]
    },
    {
     "name": "stdout",
     "output_type": "stream",
     "text": [
      "[**********************89%%*****************     ]  6563 of 7361 completed"
     ]
    },
    {
     "name": "stderr",
     "output_type": "stream",
     "text": [
      "Failed to get ticker 'ESACU' reason: HTTPSConnectionPool(host='query2.finance.yahoo.com', port=443): Max retries exceeded with url: /v8/finance/chart/ESACU?range=1d&interval=1d (Caused by NewConnectionError('<urllib3.connection.HTTPSConnection object at 0x000001BCBB6AC290>: Failed to establish a new connection: [Errno 11001] getaddrinfo failed'))\n",
      "Failed to get ticker 'SMP' reason: HTTPSConnectionPool(host='query2.finance.yahoo.com', port=443): Max retries exceeded with url: /v8/finance/chart/SMP?range=1d&interval=1d (Caused by NewConnectionError('<urllib3.connection.HTTPSConnection object at 0x000001BCD5D5AE50>: Failed to establish a new connection: [Errno 11001] getaddrinfo failed'))\n"
     ]
    },
    {
     "name": "stdout",
     "output_type": "stream",
     "text": [
      "[**********************89%%*****************     ]  6565 of 7361 completed"
     ]
    },
    {
     "name": "stderr",
     "output_type": "stream",
     "text": [
      "Failed to get ticker 'KRP' reason: HTTPSConnectionPool(host='query2.finance.yahoo.com', port=443): Max retries exceeded with url: /v8/finance/chart/KRP?range=1d&interval=1d (Caused by NewConnectionError('<urllib3.connection.HTTPSConnection object at 0x000001BCD5D5ACD0>: Failed to establish a new connection: [Errno 11001] getaddrinfo failed'))\n",
      "Failed to get ticker 'SVRE' reason: HTTPSConnectionPool(host='query2.finance.yahoo.com', port=443): Max retries exceeded with url: /v8/finance/chart/SVRE?range=1d&interval=1d (Caused by NewConnectionError('<urllib3.connection.HTTPSConnection object at 0x000001BCBB6BD1D0>: Failed to establish a new connection: [Errno 11001] getaddrinfo failed'))\n"
     ]
    },
    {
     "name": "stdout",
     "output_type": "stream",
     "text": [
      "[**********************89%%*****************     ]  6566 of 7361 completed"
     ]
    },
    {
     "name": "stderr",
     "output_type": "stream",
     "text": [
      "Failed to get ticker 'WSM' reason: HTTPSConnectionPool(host='query2.finance.yahoo.com', port=443): Max retries exceeded with url: /v8/finance/chart/WSM?range=1d&interval=1d (Caused by NewConnectionError('<urllib3.connection.HTTPSConnection object at 0x000001BCBA1C5F90>: Failed to establish a new connection: [Errno 11001] getaddrinfo failed'))\n"
     ]
    },
    {
     "name": "stdout",
     "output_type": "stream",
     "text": [
      "[**********************89%%*****************     ]  6567 of 7361 completed"
     ]
    },
    {
     "name": "stderr",
     "output_type": "stream",
     "text": [
      "Failed to get ticker 'NBSTU' reason: HTTPSConnectionPool(host='query2.finance.yahoo.com', port=443): Max retries exceeded with url: /v8/finance/chart/NBSTU?range=1d&interval=1d (Caused by NewConnectionError('<urllib3.connection.HTTPSConnection object at 0x000001BCD5D7F3D0>: Failed to establish a new connection: [Errno 11001] getaddrinfo failed'))\n",
      "Failed to get ticker 'ENERR' reason: HTTPSConnectionPool(host='query2.finance.yahoo.com', port=443): Max retries exceeded with url: /v8/finance/chart/ENERR?range=1d&interval=1d (Caused by NewConnectionError('<urllib3.connection.HTTPSConnection object at 0x000001BCD5D40910>: Failed to establish a new connection: [Errno 11001] getaddrinfo failed'))\n"
     ]
    },
    {
     "name": "stdout",
     "output_type": "stream",
     "text": [
      "[**********************89%%*****************     ]  6569 of 7361 completed"
     ]
    },
    {
     "name": "stderr",
     "output_type": "stream",
     "text": [
      "Failed to get ticker 'KRMD' reason: HTTPSConnectionPool(host='query2.finance.yahoo.com', port=443): Max retries exceeded with url: /v8/finance/chart/KRMD?range=1d&interval=1d (Caused by NewConnectionError('<urllib3.connection.HTTPSConnection object at 0x000001BCD3A67CD0>: Failed to establish a new connection: [Errno 11001] getaddrinfo failed'))\n",
      "Failed to get ticker 'SEEL' reason: HTTPSConnectionPool(host='query2.finance.yahoo.com', port=443): Max retries exceeded with url: /v8/finance/chart/SEEL?range=1d&interval=1d (Caused by NewConnectionError('<urllib3.connection.HTTPSConnection object at 0x000001BCBB6AC8D0>: Failed to establish a new connection: [Errno 11001] getaddrinfo failed'))\n"
     ]
    },
    {
     "name": "stdout",
     "output_type": "stream",
     "text": [
      "[**********************89%%*****************     ]  6570 of 7361 completed"
     ]
    },
    {
     "name": "stderr",
     "output_type": "stream",
     "text": [
      "Failed to get ticker 'MLNK' reason: HTTPSConnectionPool(host='query2.finance.yahoo.com', port=443): Max retries exceeded with url: /v8/finance/chart/MLNK?range=1d&interval=1d (Caused by NewConnectionError('<urllib3.connection.HTTPSConnection object at 0x000001BCBB6AD710>: Failed to establish a new connection: [Errno 11001] getaddrinfo failed'))\n"
     ]
    },
    {
     "name": "stdout",
     "output_type": "stream",
     "text": [
      "[**********************89%%*****************     ]  6572 of 7361 completed"
     ]
    },
    {
     "name": "stderr",
     "output_type": "stream",
     "text": [
      "Failed to get ticker 'SANM' reason: HTTPSConnectionPool(host='query2.finance.yahoo.com', port=443): Max retries exceeded with url: /v8/finance/chart/SANM?range=1d&interval=1d (Caused by NewConnectionError('<urllib3.connection.HTTPSConnection object at 0x000001BCBB6A4650>: Failed to establish a new connection: [Errno 11001] getaddrinfo failed'))\n"
     ]
    },
    {
     "name": "stdout",
     "output_type": "stream",
     "text": [
      "[**********************89%%*****************     ]  6573 of 7361 completed"
     ]
    },
    {
     "name": "stderr",
     "output_type": "stream",
     "text": [
      "Failed to get ticker 'CHSCL' reason: HTTPSConnectionPool(host='query2.finance.yahoo.com', port=443): Max retries exceeded with url: /v8/finance/chart/CHSCL?range=1d&interval=1d (Caused by NewConnectionError('<urllib3.connection.HTTPSConnection object at 0x000001BCBB6BE550>: Failed to establish a new connection: [Errno 11001] getaddrinfo failed'))\n",
      "Failed to get ticker 'NWPX' reason: HTTPSConnectionPool(host='query2.finance.yahoo.com', port=443): Max retries exceeded with url: /v8/finance/chart/NWPX?range=1d&interval=1d (Caused by NewConnectionError('<urllib3.connection.HTTPSConnection object at 0x000001BCD5D7E0D0>: Failed to establish a new connection: [Errno 11001] getaddrinfo failed'))\n"
     ]
    },
    {
     "name": "stdout",
     "output_type": "stream",
     "text": [
      "[**********************89%%*****************     ]  6574 of 7361 completed"
     ]
    },
    {
     "name": "stderr",
     "output_type": "stream",
     "text": [
      "Failed to get ticker 'PFL' reason: HTTPSConnectionPool(host='query2.finance.yahoo.com', port=443): Max retries exceeded with url: /v8/finance/chart/PFL?range=1d&interval=1d (Caused by NewConnectionError('<urllib3.connection.HTTPSConnection object at 0x000001BCBB6A4C10>: Failed to establish a new connection: [Errno 11001] getaddrinfo failed'))\n"
     ]
    },
    {
     "name": "stdout",
     "output_type": "stream",
     "text": [
      "[**********************89%%*****************     ]  6574 of 7361 completed"
     ]
    },
    {
     "name": "stderr",
     "output_type": "stream",
     "text": [
      "Failed to get ticker 'LEN' reason: HTTPSConnectionPool(host='query2.finance.yahoo.com', port=443): Max retries exceeded with url: /v8/finance/chart/LEN?range=1d&interval=1d (Caused by NewConnectionError('<urllib3.connection.HTTPSConnection object at 0x000001BCD5D79050>: Failed to establish a new connection: [Errno 11001] getaddrinfo failed'))\n"
     ]
    },
    {
     "name": "stdout",
     "output_type": "stream",
     "text": [
      "[**********************89%%*****************     ]  6576 of 7361 completed"
     ]
    },
    {
     "name": "stderr",
     "output_type": "stream",
     "text": [
      "Failed to get ticker 'GTES' reason: HTTPSConnectionPool(host='query2.finance.yahoo.com', port=443): Max retries exceeded with url: /v8/finance/chart/GTES?range=1d&interval=1d (Caused by NewConnectionError('<urllib3.connection.HTTPSConnection object at 0x000001BCD5D5B2D0>: Failed to establish a new connection: [Errno 11001] getaddrinfo failed'))\n"
     ]
    },
    {
     "name": "stdout",
     "output_type": "stream",
     "text": [
      "[**********************89%%*****************     ]  6578 of 7361 completed"
     ]
    },
    {
     "name": "stderr",
     "output_type": "stream",
     "text": [
      "Failed to get ticker 'GTHX' reason: HTTPSConnectionPool(host='query2.finance.yahoo.com', port=443): Max retries exceeded with url: /v8/finance/chart/GTHX?range=1d&interval=1d (Caused by NewConnectionError('<urllib3.connection.HTTPSConnection object at 0x000001BCD5D5BD90>: Failed to establish a new connection: [Errno 11001] getaddrinfo failed'))\n"
     ]
    },
    {
     "name": "stdout",
     "output_type": "stream",
     "text": [
      "[**********************89%%*****************     ]  6580 of 7361 completed"
     ]
    },
    {
     "name": "stderr",
     "output_type": "stream",
     "text": [
      "Failed to get ticker 'INFN' reason: HTTPSConnectionPool(host='query2.finance.yahoo.com', port=443): Max retries exceeded with url: /v8/finance/chart/INFN?range=1d&interval=1d (Caused by NewConnectionError('<urllib3.connection.HTTPSConnection object at 0x000001BCD5D5BF50>: Failed to establish a new connection: [Errno 11001] getaddrinfo failed'))\n",
      "Failed to get ticker 'STRRP' reason: HTTPSConnectionPool(host='query2.finance.yahoo.com', port=443): Max retries exceeded with url: /v8/finance/chart/STRRP?range=1d&interval=1d (Caused by NewConnectionError('<urllib3.connection.HTTPSConnection object at 0x000001BCD5D7DD90>: Failed to establish a new connection: [Errno 11001] getaddrinfo failed'))\n"
     ]
    },
    {
     "name": "stdout",
     "output_type": "stream",
     "text": [
      "[**********************89%%*****************     ]  6581 of 7361 completed"
     ]
    },
    {
     "name": "stderr",
     "output_type": "stream",
     "text": [
      "Failed to get ticker 'EVTV' reason: HTTPSConnectionPool(host='query2.finance.yahoo.com', port=443): Max retries exceeded with url: /v8/finance/chart/EVTV?range=1d&interval=1d (Caused by NewConnectionError('<urllib3.connection.HTTPSConnection object at 0x000001BCD5D7EED0>: Failed to establish a new connection: [Errno 11001] getaddrinfo failed'))\n"
     ]
    },
    {
     "name": "stdout",
     "output_type": "stream",
     "text": [
      "[**********************89%%*****************     ]  6582 of 7361 completed"
     ]
    },
    {
     "name": "stderr",
     "output_type": "stream",
     "text": [
      "Failed to get ticker 'MTRYU' reason: HTTPSConnectionPool(host='query2.finance.yahoo.com', port=443): Max retries exceeded with url: /v8/finance/chart/MTRYU?range=1d&interval=1d (Caused by NewConnectionError('<urllib3.connection.HTTPSConnection object at 0x000001BCD5D5B650>: Failed to establish a new connection: [Errno 11001] getaddrinfo failed'))\n"
     ]
    },
    {
     "name": "stdout",
     "output_type": "stream",
     "text": [
      "[**********************89%%*****************     ]  6582 of 7361 completed"
     ]
    },
    {
     "name": "stderr",
     "output_type": "stream",
     "text": [
      "Failed to get ticker 'NTB' reason: HTTPSConnectionPool(host='query2.finance.yahoo.com', port=443): Max retries exceeded with url: /v8/finance/chart/NTB?range=1d&interval=1d (Caused by NewConnectionError('<urllib3.connection.HTTPSConnection object at 0x000001BCBB6AF350>: Failed to establish a new connection: [Errno 11001] getaddrinfo failed'))\n"
     ]
    },
    {
     "name": "stdout",
     "output_type": "stream",
     "text": [
      "[**********************89%%*****************     ]  6584 of 7361 completed"
     ]
    },
    {
     "name": "stderr",
     "output_type": "stream",
     "text": [
      "Failed to get ticker 'UMH' reason: HTTPSConnectionPool(host='query2.finance.yahoo.com', port=443): Max retries exceeded with url: /v8/finance/chart/UMH?range=1d&interval=1d (Caused by NewConnectionError('<urllib3.connection.HTTPSConnection object at 0x000001BCD5D7B790>: Failed to establish a new connection: [Errno 11001] getaddrinfo failed'))\n"
     ]
    },
    {
     "name": "stdout",
     "output_type": "stream",
     "text": [
      "[**********************89%%*****************     ]  6584 of 7361 completed"
     ]
    },
    {
     "name": "stderr",
     "output_type": "stream",
     "text": [
      "Failed to get ticker 'SOVO' reason: HTTPSConnectionPool(host='query2.finance.yahoo.com', port=443): Max retries exceeded with url: /v8/finance/chart/SOVO?range=1d&interval=1d (Caused by NewConnectionError('<urllib3.connection.HTTPSConnection object at 0x000001BCBB6A59D0>: Failed to establish a new connection: [Errno 11001] getaddrinfo failed'))\n"
     ]
    },
    {
     "name": "stdout",
     "output_type": "stream",
     "text": [
      "[**********************89%%*****************     ]  6586 of 7361 completed"
     ]
    },
    {
     "name": "stderr",
     "output_type": "stream",
     "text": [
      "Failed to get ticker 'AUR' reason: HTTPSConnectionPool(host='query2.finance.yahoo.com', port=443): Max retries exceeded with url: /v8/finance/chart/AUR?range=1d&interval=1d (Caused by NewConnectionError('<urllib3.connection.HTTPSConnection object at 0x000001BCD5D7BFD0>: Failed to establish a new connection: [Errno 11001] getaddrinfo failed'))\n"
     ]
    },
    {
     "name": "stdout",
     "output_type": "stream",
     "text": [
      "[**********************89%%*****************     ]  6587 of 7361 completed"
     ]
    },
    {
     "name": "stderr",
     "output_type": "stream",
     "text": [
      "Failed to get ticker 'AFGE' reason: HTTPSConnectionPool(host='query2.finance.yahoo.com', port=443): Max retries exceeded with url: /v8/finance/chart/AFGE?range=1d&interval=1d (Caused by NewConnectionError('<urllib3.connection.HTTPSConnection object at 0x000001BCD5D59450>: Failed to establish a new connection: [Errno 11001] getaddrinfo failed'))\n",
      "Failed to get ticker 'GRRRW' reason: HTTPSConnectionPool(host='query2.finance.yahoo.com', port=443): Max retries exceeded with url: /v8/finance/chart/GRRRW?range=1d&interval=1d (Caused by NewConnectionError('<urllib3.connection.HTTPSConnection object at 0x000001BCBB6BD910>: Failed to establish a new connection: [Errno 11001] getaddrinfo failed'))\n"
     ]
    },
    {
     "name": "stdout",
     "output_type": "stream",
     "text": [
      "[**********************89%%*****************     ]  6588 of 7361 completed"
     ]
    },
    {
     "name": "stderr",
     "output_type": "stream",
     "text": [
      "Failed to get ticker 'TMPO' reason: HTTPSConnectionPool(host='query2.finance.yahoo.com', port=443): Max retries exceeded with url: /v8/finance/chart/TMPO?range=1d&interval=1d (Caused by NewConnectionError('<urllib3.connection.HTTPSConnection object at 0x000001BCBB6C0A50>: Failed to establish a new connection: [Errno 11001] getaddrinfo failed'))\n"
     ]
    },
    {
     "name": "stdout",
     "output_type": "stream",
     "text": [
      "[**********************90%%*****************     ]  6589 of 7361 completed"
     ]
    },
    {
     "name": "stderr",
     "output_type": "stream",
     "text": [
      "Failed to get ticker 'FOF' reason: HTTPSConnectionPool(host='query2.finance.yahoo.com', port=443): Max retries exceeded with url: /v8/finance/chart/FOF?range=1d&interval=1d (Caused by NewConnectionError('<urllib3.connection.HTTPSConnection object at 0x000001BCBB6C2250>: Failed to establish a new connection: [Errno 11001] getaddrinfo failed'))\n"
     ]
    },
    {
     "name": "stdout",
     "output_type": "stream",
     "text": [
      "[**********************90%%*****************     ]  6590 of 7361 completed"
     ]
    },
    {
     "name": "stderr",
     "output_type": "stream",
     "text": [
      "Failed to get ticker 'GMBL' reason: HTTPSConnectionPool(host='query2.finance.yahoo.com', port=443): Max retries exceeded with url: /v8/finance/chart/GMBL?range=1d&interval=1d (Caused by NewConnectionError('<urllib3.connection.HTTPSConnection object at 0x000001BCBB6ACA50>: Failed to establish a new connection: [Errno 11001] getaddrinfo failed'))\n"
     ]
    },
    {
     "name": "stdout",
     "output_type": "stream",
     "text": [
      "[**********************90%%*****************     ]  6591 of 7361 completed"
     ]
    },
    {
     "name": "stderr",
     "output_type": "stream",
     "text": [
      "Failed to get ticker 'PMCB' reason: HTTPSConnectionPool(host='query2.finance.yahoo.com', port=443): Max retries exceeded with url: /v8/finance/chart/PMCB?range=1d&interval=1d (Caused by NewConnectionError('<urllib3.connection.HTTPSConnection object at 0x000001BCD5D79710>: Failed to establish a new connection: [Errno 11001] getaddrinfo failed'))\n",
      "Failed to get ticker 'HCXY' reason: HTTPSConnectionPool(host='query2.finance.yahoo.com', port=443): Max retries exceeded with url: /v8/finance/chart/HCXY?range=1d&interval=1d (Caused by NewConnectionError('<urllib3.connection.HTTPSConnection object at 0x000001BCD3A3F890>: Failed to establish a new connection: [Errno 11001] getaddrinfo failed'))\n"
     ]
    },
    {
     "name": "stdout",
     "output_type": "stream",
     "text": [
      "[**********************90%%*****************     ]  6593 of 7361 completed"
     ]
    },
    {
     "name": "stderr",
     "output_type": "stream",
     "text": [
      "Failed to get ticker 'YOTA' reason: HTTPSConnectionPool(host='query2.finance.yahoo.com', port=443): Max retries exceeded with url: /v8/finance/chart/YOTA?range=1d&interval=1d (Caused by NewConnectionError('<urllib3.connection.HTTPSConnection object at 0x000001BCBA1B5E10>: Failed to establish a new connection: [Errno 11001] getaddrinfo failed'))\n"
     ]
    },
    {
     "name": "stdout",
     "output_type": "stream",
     "text": [
      "[**********************90%%*****************     ]  6594 of 7361 completed"
     ]
    },
    {
     "name": "stderr",
     "output_type": "stream",
     "text": [
      "Failed to get ticker 'DCFCW' reason: HTTPSConnectionPool(host='query2.finance.yahoo.com', port=443): Max retries exceeded with url: /v8/finance/chart/DCFCW?range=1d&interval=1d (Caused by NewConnectionError('<urllib3.connection.HTTPSConnection object at 0x000001BCD5D78550>: Failed to establish a new connection: [Errno 11001] getaddrinfo failed'))\n",
      "Failed to get ticker 'CBH' reason: HTTPSConnectionPool(host='query2.finance.yahoo.com', port=443): Max retries exceeded with url: /v8/finance/chart/CBH?range=1d&interval=1d (Caused by NewConnectionError('<urllib3.connection.HTTPSConnection object at 0x000001BCBB6BD210>: Failed to establish a new connection: [Errno 11001] getaddrinfo failed'))\n",
      "Failed to get ticker 'TBLD' reason: HTTPSConnectionPool(host='query2.finance.yahoo.com', port=443): Max retries exceeded with url: /v8/finance/chart/TBLD?range=1d&interval=1d (Caused by NewConnectionError('<urllib3.connection.HTTPSConnection object at 0x000001BCD4C2A6D0>: Failed to establish a new connection: [Errno 11001] getaddrinfo failed'))\n"
     ]
    },
    {
     "name": "stdout",
     "output_type": "stream",
     "text": [
      "[**********************90%%*****************     ]  6596 of 7361 completed"
     ]
    },
    {
     "name": "stderr",
     "output_type": "stream",
     "text": [
      "Failed to get ticker 'FLNG' reason: HTTPSConnectionPool(host='query2.finance.yahoo.com', port=443): Max retries exceeded with url: /v8/finance/chart/FLNG?range=1d&interval=1d (Caused by NewConnectionError('<urllib3.connection.HTTPSConnection object at 0x000001BCD5D7ED10>: Failed to establish a new connection: [Errno 11001] getaddrinfo failed'))\n"
     ]
    },
    {
     "name": "stdout",
     "output_type": "stream",
     "text": [
      "[**********************90%%*****************     ]  6597 of 7361 completed"
     ]
    },
    {
     "name": "stderr",
     "output_type": "stream",
     "text": [
      "Failed to get ticker 'ZWS' reason: HTTPSConnectionPool(host='query2.finance.yahoo.com', port=443): Max retries exceeded with url: /v8/finance/chart/ZWS?range=1d&interval=1d (Caused by NewConnectionError('<urllib3.connection.HTTPSConnection object at 0x000001BCD5D65DD0>: Failed to establish a new connection: [Errno 11001] getaddrinfo failed'))\n",
      "Failed to get ticker 'NKTX' reason: HTTPSConnectionPool(host='query2.finance.yahoo.com', port=443): Max retries exceeded with url: /v8/finance/chart/NKTX?range=1d&interval=1d (Caused by NewConnectionError('<urllib3.connection.HTTPSConnection object at 0x000001BCBB6BD7D0>: Failed to establish a new connection: [Errno 11001] getaddrinfo failed'))\n",
      "Failed to get ticker 'TENKR' reason: HTTPSConnectionPool(host='query2.finance.yahoo.com', port=443): Max retries exceeded with url: /v8/finance/chart/TENKR?range=1d&interval=1d (Caused by NewConnectionError('<urllib3.connection.HTTPSConnection object at 0x000001BCD5D58490>: Failed to establish a new connection: [Errno 11001] getaddrinfo failed'))\n"
     ]
    },
    {
     "name": "stdout",
     "output_type": "stream",
     "text": [
      "[**********************90%%*****************     ]  6600 of 7361 completed"
     ]
    },
    {
     "name": "stderr",
     "output_type": "stream",
     "text": [
      "Failed to get ticker 'SPOK' reason: HTTPSConnectionPool(host='query2.finance.yahoo.com', port=443): Max retries exceeded with url: /v8/finance/chart/SPOK?range=1d&interval=1d (Caused by NewConnectionError('<urllib3.connection.HTTPSConnection object at 0x000001BCBB4BF550>: Failed to establish a new connection: [Errno 11001] getaddrinfo failed'))\n"
     ]
    },
    {
     "name": "stdout",
     "output_type": "stream",
     "text": [
      "[**********************90%%*****************     ]  6600 of 7361 completed"
     ]
    },
    {
     "name": "stderr",
     "output_type": "stream",
     "text": [
      "Failed to get ticker 'EBIX' reason: HTTPSConnectionPool(host='query2.finance.yahoo.com', port=443): Max retries exceeded with url: /v8/finance/chart/EBIX?range=1d&interval=1d (Caused by NewConnectionError('<urllib3.connection.HTTPSConnection object at 0x000001BCD5D7BF50>: Failed to establish a new connection: [Errno 11001] getaddrinfo failed'))\n"
     ]
    },
    {
     "name": "stdout",
     "output_type": "stream",
     "text": [
      "[**********************90%%*****************     ]  6603 of 7361 completed"
     ]
    },
    {
     "name": "stderr",
     "output_type": "stream",
     "text": [
      "Failed to get ticker 'APGB' reason: HTTPSConnectionPool(host='query2.finance.yahoo.com', port=443): Max retries exceeded with url: /v8/finance/chart/APGB?range=1d&interval=1d (Caused by NewConnectionError('<urllib3.connection.HTTPSConnection object at 0x000001BCD298D490>: Failed to establish a new connection: [Errno 11001] getaddrinfo failed'))\n"
     ]
    },
    {
     "name": "stdout",
     "output_type": "stream",
     "text": [
      "[**********************90%%*****************     ]  6604 of 7361 completed"
     ]
    },
    {
     "name": "stderr",
     "output_type": "stream",
     "text": [
      "Failed to get ticker 'USA' reason: HTTPSConnectionPool(host='query2.finance.yahoo.com', port=443): Max retries exceeded with url: /v8/finance/chart/USA?range=1d&interval=1d (Caused by NewConnectionError('<urllib3.connection.HTTPSConnection object at 0x000001BCBA169A10>: Failed to establish a new connection: [Errno 11001] getaddrinfo failed'))\n"
     ]
    },
    {
     "name": "stdout",
     "output_type": "stream",
     "text": [
      "[**********************90%%*****************     ]  6605 of 7361 completed"
     ]
    },
    {
     "name": "stderr",
     "output_type": "stream",
     "text": [
      "Failed to get ticker 'PARA' reason: HTTPSConnectionPool(host='query2.finance.yahoo.com', port=443): Max retries exceeded with url: /v8/finance/chart/PARA?range=1d&interval=1d (Caused by NewConnectionError('<urllib3.connection.HTTPSConnection object at 0x000001BCBB6BFD10>: Failed to establish a new connection: [Errno 11001] getaddrinfo failed'))\n"
     ]
    },
    {
     "name": "stdout",
     "output_type": "stream",
     "text": [
      "[**********************90%%*****************     ]  6606 of 7361 completed"
     ]
    },
    {
     "name": "stderr",
     "output_type": "stream",
     "text": [
      "Failed to get ticker 'FSLR' reason: HTTPSConnectionPool(host='query2.finance.yahoo.com', port=443): Max retries exceeded with url: /v8/finance/chart/FSLR?range=1d&interval=1d (Caused by NewConnectionError('<urllib3.connection.HTTPSConnection object at 0x000001BCCF3C5D90>: Failed to establish a new connection: [Errno 11001] getaddrinfo failed'))\n",
      "Failed to get ticker 'TATT' reason: HTTPSConnectionPool(host='query2.finance.yahoo.com', port=443): Max retries exceeded with url: /v8/finance/chart/TATT?range=1d&interval=1d (Caused by NewConnectionError('<urllib3.connection.HTTPSConnection object at 0x000001BCD5DA3E90>: Failed to establish a new connection: [Errno 11001] getaddrinfo failed'))\n"
     ]
    },
    {
     "name": "stdout",
     "output_type": "stream",
     "text": [
      "[**********************90%%*****************     ]  6609 of 7361 completed"
     ]
    },
    {
     "name": "stderr",
     "output_type": "stream",
     "text": [
      "Failed to get ticker 'NC' reason: HTTPSConnectionPool(host='query2.finance.yahoo.com', port=443): Max retries exceeded with url: /v8/finance/chart/NC?range=1d&interval=1d (Caused by NewConnectionError('<urllib3.connection.HTTPSConnection object at 0x000001BCBA1A7950>: Failed to establish a new connection: [Errno 11001] getaddrinfo failed'))\n"
     ]
    },
    {
     "name": "stdout",
     "output_type": "stream",
     "text": [
      "[**********************90%%*****************     ]  6609 of 7361 completed"
     ]
    },
    {
     "name": "stderr",
     "output_type": "stream",
     "text": [
      "Failed to get ticker 'AC' reason: HTTPSConnectionPool(host='query2.finance.yahoo.com', port=443): Max retries exceeded with url: /v8/finance/chart/AC?range=1d&interval=1d (Caused by NewConnectionError('<urllib3.connection.HTTPSConnection object at 0x000001BCD5D93F50>: Failed to establish a new connection: [Errno 11001] getaddrinfo failed'))\n"
     ]
    },
    {
     "name": "stdout",
     "output_type": "stream",
     "text": [
      "[**********************90%%*****************     ]  6611 of 7361 completed"
     ]
    },
    {
     "name": "stderr",
     "output_type": "stream",
     "text": [
      "Failed to get ticker 'CSWC' reason: HTTPSConnectionPool(host='query2.finance.yahoo.com', port=443): Max retries exceeded with url: /v8/finance/chart/CSWC?range=1d&interval=1d (Caused by NewConnectionError('<urllib3.connection.HTTPSConnection object at 0x000001BCD5DB4BD0>: Failed to establish a new connection: [Errno 11001] getaddrinfo failed'))\n"
     ]
    },
    {
     "name": "stdout",
     "output_type": "stream",
     "text": [
      "[**********************90%%*****************     ]  6612 of 7361 completed"
     ]
    },
    {
     "name": "stderr",
     "output_type": "stream",
     "text": [
      "Failed to get ticker 'PEGRU' reason: HTTPSConnectionPool(host='query2.finance.yahoo.com', port=443): Max retries exceeded with url: /v8/finance/chart/PEGRU?range=1d&interval=1d (Caused by NewConnectionError('<urllib3.connection.HTTPSConnection object at 0x000001BCD5D79310>: Failed to establish a new connection: [Errno 11001] getaddrinfo failed'))\n"
     ]
    },
    {
     "name": "stdout",
     "output_type": "stream",
     "text": [
      "[**********************90%%*****************     ]  6614 of 7361 completed"
     ]
    },
    {
     "name": "stderr",
     "output_type": "stream",
     "text": [
      "Failed to get ticker 'STOK' reason: HTTPSConnectionPool(host='query2.finance.yahoo.com', port=443): Max retries exceeded with url: /v8/finance/chart/STOK?range=1d&interval=1d (Caused by NewConnectionError('<urllib3.connection.HTTPSConnection object at 0x000001BCD5D92090>: Failed to establish a new connection: [Errno 11001] getaddrinfo failed'))\n",
      "Failed to get ticker 'OCC' reason: HTTPSConnectionPool(host='query2.finance.yahoo.com', port=443): Max retries exceeded with url: /v8/finance/chart/OCC?range=1d&interval=1d (Caused by NewConnectionError('<urllib3.connection.HTTPSConnection object at 0x000001BCD3AA72D0>: Failed to establish a new connection: [Errno 11001] getaddrinfo failed'))\n",
      "Failed to get ticker 'CORR' reason: HTTPSConnectionPool(host='query2.finance.yahoo.com', port=443): Max retries exceeded with url: /v8/finance/chart/CORR?range=1d&interval=1d (Caused by NewConnectionError('<urllib3.connection.HTTPSConnection object at 0x000001BCD5D7C550>: Failed to establish a new connection: [Errno 11001] getaddrinfo failed'))\n"
     ]
    },
    {
     "name": "stdout",
     "output_type": "stream",
     "text": [
      "[**********************90%%*****************     ]  6616 of 7361 completed"
     ]
    },
    {
     "name": "stderr",
     "output_type": "stream",
     "text": [
      "Failed to get ticker 'IINN' reason: HTTPSConnectionPool(host='query2.finance.yahoo.com', port=443): Max retries exceeded with url: /v8/finance/chart/IINN?range=1d&interval=1d (Caused by NewConnectionError('<urllib3.connection.HTTPSConnection object at 0x000001BCBA1C5490>: Failed to establish a new connection: [Errno 11001] getaddrinfo failed'))\n"
     ]
    },
    {
     "name": "stdout",
     "output_type": "stream",
     "text": [
      "[**********************90%%*****************     ]  6617 of 7361 completed"
     ]
    },
    {
     "name": "stderr",
     "output_type": "stream",
     "text": [
      "Failed to get ticker 'IRT' reason: HTTPSConnectionPool(host='query2.finance.yahoo.com', port=443): Max retries exceeded with url: /v8/finance/chart/IRT?range=1d&interval=1d (Caused by NewConnectionError('<urllib3.connection.HTTPSConnection object at 0x000001BCD5DB6E50>: Failed to establish a new connection: [Errno 11001] getaddrinfo failed'))\n"
     ]
    },
    {
     "name": "stdout",
     "output_type": "stream",
     "text": [
      "[**********************90%%*****************     ]  6618 of 7361 completed"
     ]
    },
    {
     "name": "stderr",
     "output_type": "stream",
     "text": [
      "Failed to get ticker 'NTRS' reason: HTTPSConnectionPool(host='query2.finance.yahoo.com', port=443): Max retries exceeded with url: /v8/finance/chart/NTRS?range=1d&interval=1d (Caused by NewConnectionError('<urllib3.connection.HTTPSConnection object at 0x000001BCB9AC9D10>: Failed to establish a new connection: [Errno 11001] getaddrinfo failed'))\n"
     ]
    },
    {
     "name": "stdout",
     "output_type": "stream",
     "text": [
      "[**********************90%%*****************     ]  6619 of 7361 completed"
     ]
    },
    {
     "name": "stderr",
     "output_type": "stream",
     "text": [
      "Failed to get ticker 'OCUL' reason: HTTPSConnectionPool(host='query2.finance.yahoo.com', port=443): Max retries exceeded with url: /v8/finance/chart/OCUL?range=1d&interval=1d (Caused by NewConnectionError('<urllib3.connection.HTTPSConnection object at 0x000001BCBB4EB710>: Failed to establish a new connection: [Errno 11001] getaddrinfo failed'))\n"
     ]
    },
    {
     "name": "stdout",
     "output_type": "stream",
     "text": [
      "[**********************90%%*****************     ]  6621 of 7361 completed"
     ]
    },
    {
     "name": "stderr",
     "output_type": "stream",
     "text": [
      "Failed to get ticker 'SNSE' reason: HTTPSConnectionPool(host='query2.finance.yahoo.com', port=443): Max retries exceeded with url: /v8/finance/chart/SNSE?range=1d&interval=1d (Caused by NewConnectionError('<urllib3.connection.HTTPSConnection object at 0x000001BCD5DB4910>: Failed to establish a new connection: [Errno 11001] getaddrinfo failed'))\n",
      "Failed to get ticker 'SOHO' reason: HTTPSConnectionPool(host='query2.finance.yahoo.com', port=443): Max retries exceeded with url: /v8/finance/chart/SOHO?range=1d&interval=1d (Caused by NewConnectionError('<urllib3.connection.HTTPSConnection object at 0x000001BCD5D926D0>: Failed to establish a new connection: [Errno 11001] getaddrinfo failed'))\n"
     ]
    },
    {
     "name": "stdout",
     "output_type": "stream",
     "text": [
      "[**********************90%%*****************     ]  6622 of 7361 completed"
     ]
    },
    {
     "name": "stderr",
     "output_type": "stream",
     "text": [
      "Failed to get ticker 'SRV' reason: HTTPSConnectionPool(host='query2.finance.yahoo.com', port=443): Max retries exceeded with url: /v8/finance/chart/SRV?range=1d&interval=1d (Caused by NewConnectionError('<urllib3.connection.HTTPSConnection object at 0x000001BCBB6AF590>: Failed to establish a new connection: [Errno 11001] getaddrinfo failed'))\n"
     ]
    },
    {
     "name": "stdout",
     "output_type": "stream",
     "text": [
      "[**********************90%%*****************     ]  6623 of 7361 completed"
     ]
    },
    {
     "name": "stderr",
     "output_type": "stream",
     "text": [
      "Failed to get ticker 'SNV' reason: HTTPSConnectionPool(host='query2.finance.yahoo.com', port=443): Max retries exceeded with url: /v8/finance/chart/SNV?range=1d&interval=1d (Caused by NewConnectionError('<urllib3.connection.HTTPSConnection object at 0x000001BCBB6ADF10>: Failed to establish a new connection: [Errno 11001] getaddrinfo failed'))\n"
     ]
    },
    {
     "name": "stdout",
     "output_type": "stream",
     "text": [
      "[**********************90%%*****************     ]  6623 of 7361 completed"
     ]
    },
    {
     "name": "stderr",
     "output_type": "stream",
     "text": [
      "Failed to get ticker 'MCAG' reason: HTTPSConnectionPool(host='query2.finance.yahoo.com', port=443): Max retries exceeded with url: /v8/finance/chart/MCAG?range=1d&interval=1d (Caused by NewConnectionError('<urllib3.connection.HTTPSConnection object at 0x000001BCD5D5B510>: Failed to establish a new connection: [Errno 11001] getaddrinfo failed'))\n"
     ]
    },
    {
     "name": "stdout",
     "output_type": "stream",
     "text": [
      "[**********************90%%*****************     ]  6625 of 7361 completed"
     ]
    },
    {
     "name": "stderr",
     "output_type": "stream",
     "text": [
      "Failed to get ticker 'ABLVW' reason: HTTPSConnectionPool(host='query2.finance.yahoo.com', port=443): Max retries exceeded with url: /v8/finance/chart/ABLVW?range=1d&interval=1d (Caused by NewConnectionError('<urllib3.connection.HTTPSConnection object at 0x000001BCD5D7B510>: Failed to establish a new connection: [Errno 11001] getaddrinfo failed'))\n"
     ]
    },
    {
     "name": "stdout",
     "output_type": "stream",
     "text": [
      "[**********************90%%*****************     ]  6626 of 7361 completed"
     ]
    },
    {
     "name": "stderr",
     "output_type": "stream",
     "text": [
      "Failed to get ticker 'QLYS' reason: HTTPSConnectionPool(host='query2.finance.yahoo.com', port=443): Max retries exceeded with url: /v8/finance/chart/QLYS?range=1d&interval=1d (Caused by NewConnectionError('<urllib3.connection.HTTPSConnection object at 0x000001BCB9F12050>: Failed to establish a new connection: [Errno 11001] getaddrinfo failed'))\n"
     ]
    },
    {
     "name": "stdout",
     "output_type": "stream",
     "text": [
      "[**********************90%%*****************     ]  6627 of 7361 completed"
     ]
    },
    {
     "name": "stderr",
     "output_type": "stream",
     "text": [
      "Failed to get ticker 'GDTC' reason: HTTPSConnectionPool(host='query2.finance.yahoo.com', port=443): Max retries exceeded with url: /v8/finance/chart/GDTC?range=1d&interval=1d (Caused by NewConnectionError('<urllib3.connection.HTTPSConnection object at 0x000001BCD5DA34D0>: Failed to establish a new connection: [Errno 11001] getaddrinfo failed'))\n"
     ]
    },
    {
     "name": "stdout",
     "output_type": "stream",
     "text": [
      "[**********************90%%*****************     ]  6628 of 7361 completed"
     ]
    },
    {
     "name": "stderr",
     "output_type": "stream",
     "text": [
      "Failed to get ticker 'ICUCW' reason: HTTPSConnectionPool(host='query2.finance.yahoo.com', port=443): Max retries exceeded with url: /v8/finance/chart/ICUCW?range=1d&interval=1d (Caused by NewConnectionError('<urllib3.connection.HTTPSConnection object at 0x000001BCD5DB5D50>: Failed to establish a new connection: [Errno 11001] getaddrinfo failed'))\n"
     ]
    },
    {
     "name": "stdout",
     "output_type": "stream",
     "text": [
      "[**********************90%%*****************     ]  6630 of 7361 completed"
     ]
    },
    {
     "name": "stderr",
     "output_type": "stream",
     "text": [
      "Failed to get ticker 'NVEE' reason: HTTPSConnectionPool(host='query2.finance.yahoo.com', port=443): Max retries exceeded with url: /v8/finance/chart/NVEE?range=1d&interval=1d (Caused by NewConnectionError('<urllib3.connection.HTTPSConnection object at 0x000001BCBB6BCD50>: Failed to establish a new connection: [Errno 11001] getaddrinfo failed'))\n"
     ]
    },
    {
     "name": "stdout",
     "output_type": "stream",
     "text": [
      "[**********************90%%*****************     ]  6631 of 7361 completed"
     ]
    },
    {
     "name": "stderr",
     "output_type": "stream",
     "text": [
      "Failed to get ticker 'CSQ' reason: HTTPSConnectionPool(host='query2.finance.yahoo.com', port=443): Max retries exceeded with url: /v8/finance/chart/CSQ?range=1d&interval=1d (Caused by NewConnectionError('<urllib3.connection.HTTPSConnection object at 0x000001BCD5DB6750>: Failed to establish a new connection: [Errno 11001] getaddrinfo failed'))\n",
      "Failed to get ticker 'RERE' reason: HTTPSConnectionPool(host='query2.finance.yahoo.com', port=443): Max retries exceeded with url: /v8/finance/chart/RERE?range=1d&interval=1d (Caused by NewConnectionError('<urllib3.connection.HTTPSConnection object at 0x000001BCBB6BD810>: Failed to establish a new connection: [Errno 11001] getaddrinfo failed'))\n"
     ]
    },
    {
     "name": "stdout",
     "output_type": "stream",
     "text": [
      "[**********************90%%*****************     ]  6632 of 7361 completed"
     ]
    },
    {
     "name": "stderr",
     "output_type": "stream",
     "text": [
      "Failed to get ticker 'SVM' reason: HTTPSConnectionPool(host='query2.finance.yahoo.com', port=443): Max retries exceeded with url: /v8/finance/chart/SVM?range=1d&interval=1d (Caused by NewConnectionError('<urllib3.connection.HTTPSConnection object at 0x000001BCD5DA2350>: Failed to establish a new connection: [Errno 11001] getaddrinfo failed'))\n",
      "Failed to get ticker 'FEIM' reason: HTTPSConnectionPool(host='query2.finance.yahoo.com', port=443): Max retries exceeded with url: /v8/finance/chart/FEIM?range=1d&interval=1d (Caused by NewConnectionError('<urllib3.connection.HTTPSConnection object at 0x000001BCD5D785D0>: Failed to establish a new connection: [Errno 11001] getaddrinfo failed'))\n"
     ]
    },
    {
     "name": "stdout",
     "output_type": "stream",
     "text": [
      "[**********************90%%*****************     ]  6634 of 7361 completed"
     ]
    },
    {
     "name": "stderr",
     "output_type": "stream",
     "text": [
      "Failed to get ticker 'SUPV' reason: HTTPSConnectionPool(host='query2.finance.yahoo.com', port=443): Max retries exceeded with url: /v8/finance/chart/SUPV?range=1d&interval=1d (Caused by NewConnectionError('<urllib3.connection.HTTPSConnection object at 0x000001BCD5DA2FD0>: Failed to establish a new connection: [Errno 11001] getaddrinfo failed'))\n"
     ]
    },
    {
     "name": "stdout",
     "output_type": "stream",
     "text": [
      "[**********************90%%*****************     ]  6635 of 7361 completed"
     ]
    },
    {
     "name": "stderr",
     "output_type": "stream",
     "text": [
      "Failed to get ticker 'GRND' reason: HTTPSConnectionPool(host='query2.finance.yahoo.com', port=443): Max retries exceeded with url: /v8/finance/chart/GRND?range=1d&interval=1d (Caused by NewConnectionError('<urllib3.connection.HTTPSConnection object at 0x000001BCD294B310>: Failed to establish a new connection: [Errno 11001] getaddrinfo failed'))\n"
     ]
    },
    {
     "name": "stdout",
     "output_type": "stream",
     "text": [
      "[**********************90%%*****************     ]  6637 of 7361 completed"
     ]
    },
    {
     "name": "stderr",
     "output_type": "stream",
     "text": [
      "Failed to get ticker 'CMPX' reason: HTTPSConnectionPool(host='query2.finance.yahoo.com', port=443): Max retries exceeded with url: /v8/finance/chart/CMPX?range=1d&interval=1d (Caused by NewConnectionError('<urllib3.connection.HTTPSConnection object at 0x000001BCD5DC49D0>: Failed to establish a new connection: [Errno 11001] getaddrinfo failed'))\n",
      "Failed to get ticker 'FGH' reason: HTTPSConnectionPool(host='query2.finance.yahoo.com', port=443): Max retries exceeded with url: /v8/finance/chart/FGH?range=1d&interval=1d (Caused by NewConnectionError('<urllib3.connection.HTTPSConnection object at 0x000001BCBB6BD3D0>: Failed to establish a new connection: [Errno 11001] getaddrinfo failed'))\n",
      "Failed to get ticker 'KNDI' reason: HTTPSConnectionPool(host='query2.finance.yahoo.com', port=443): Max retries exceeded with url: /v8/finance/chart/KNDI?range=1d&interval=1d (Caused by NewConnectionError('<urllib3.connection.HTTPSConnection object at 0x000001BCD4C19C50>: Failed to establish a new connection: [Errno 11001] getaddrinfo failed'))\n"
     ]
    },
    {
     "name": "stdout",
     "output_type": "stream",
     "text": [
      "[**********************90%%*****************     ]  6640 of 7361 completed"
     ]
    },
    {
     "name": "stderr",
     "output_type": "stream",
     "text": [
      "Failed to get ticker 'FICO' reason: HTTPSConnectionPool(host='query2.finance.yahoo.com', port=443): Max retries exceeded with url: /v8/finance/chart/FICO?range=1d&interval=1d (Caused by NewConnectionError('<urllib3.connection.HTTPSConnection object at 0x000001BCD5D93850>: Failed to establish a new connection: [Errno 11001] getaddrinfo failed'))\n"
     ]
    },
    {
     "name": "stdout",
     "output_type": "stream",
     "text": [
      "[**********************90%%*****************     ]  6641 of 7361 completed"
     ]
    },
    {
     "name": "stderr",
     "output_type": "stream",
     "text": [
      "Failed to get ticker 'LVOX' reason: HTTPSConnectionPool(host='query2.finance.yahoo.com', port=443): Max retries exceeded with url: /v8/finance/chart/LVOX?range=1d&interval=1d (Caused by NewConnectionError('<urllib3.connection.HTTPSConnection object at 0x000001BCBB51B710>: Failed to establish a new connection: [Errno 11001] getaddrinfo failed'))\n",
      "Failed to get ticker 'CTXR' reason: HTTPSConnectionPool(host='query2.finance.yahoo.com', port=443): Max retries exceeded with url: /v8/finance/chart/CTXR?range=1d&interval=1d (Caused by NewConnectionError('<urllib3.connection.HTTPSConnection object at 0x000001BCD5D7A510>: Failed to establish a new connection: [Errno 11001] getaddrinfo failed'))\n"
     ]
    },
    {
     "name": "stdout",
     "output_type": "stream",
     "text": [
      "[**********************90%%*****************     ]  6642 of 7361 completed"
     ]
    },
    {
     "name": "stderr",
     "output_type": "stream",
     "text": [
      "Failed to get ticker 'BLDEW' reason: HTTPSConnectionPool(host='query2.finance.yahoo.com', port=443): Max retries exceeded with url: /v8/finance/chart/BLDEW?range=1d&interval=1d (Caused by NewConnectionError('<urllib3.connection.HTTPSConnection object at 0x000001BCBB6C2DD0>: Failed to establish a new connection: [Errno 11001] getaddrinfo failed'))\n"
     ]
    },
    {
     "name": "stdout",
     "output_type": "stream",
     "text": [
      "[**********************90%%*****************     ]  6643 of 7361 completed"
     ]
    },
    {
     "name": "stderr",
     "output_type": "stream",
     "text": [
      "Failed to get ticker 'ROG' reason: HTTPSConnectionPool(host='query2.finance.yahoo.com', port=443): Max retries exceeded with url: /v8/finance/chart/ROG?range=1d&interval=1d (Caused by NewConnectionError('<urllib3.connection.HTTPSConnection object at 0x000001BCBB6ACD10>: Failed to establish a new connection: [Errno 11001] getaddrinfo failed'))\n"
     ]
    },
    {
     "name": "stdout",
     "output_type": "stream",
     "text": [
      "[**********************90%%*****************     ]  6644 of 7361 completed"
     ]
    },
    {
     "name": "stderr",
     "output_type": "stream",
     "text": [
      "Failed to get ticker 'KOS' reason: HTTPSConnectionPool(host='query2.finance.yahoo.com', port=443): Max retries exceeded with url: /v8/finance/chart/KOS?range=1d&interval=1d (Caused by NewConnectionError('<urllib3.connection.HTTPSConnection object at 0x000001BCD4BC5D90>: Failed to establish a new connection: [Errno 11001] getaddrinfo failed'))\n",
      "Failed to get ticker 'ENX' reason: HTTPSConnectionPool(host='query2.finance.yahoo.com', port=443): Max retries exceeded with url: /v8/finance/chart/ENX?range=1d&interval=1d (Caused by NewConnectionError('<urllib3.connection.HTTPSConnection object at 0x000001BCD5D7B950>: Failed to establish a new connection: [Errno 11001] getaddrinfo failed'))\n"
     ]
    },
    {
     "name": "stdout",
     "output_type": "stream",
     "text": [
      "[**********************90%%*****************     ]  6646 of 7361 completed"
     ]
    },
    {
     "name": "stderr",
     "output_type": "stream",
     "text": [
      "Failed to get ticker 'PNBK' reason: HTTPSConnectionPool(host='query2.finance.yahoo.com', port=443): Max retries exceeded with url: /v8/finance/chart/PNBK?range=1d&interval=1d (Caused by NewConnectionError('<urllib3.connection.HTTPSConnection object at 0x000001BCD5D90110>: Failed to establish a new connection: [Errno 11001] getaddrinfo failed'))\n",
      "Failed to get ticker 'AIRT' reason: HTTPSConnectionPool(host='query2.finance.yahoo.com', port=443): Max retries exceeded with url: /v8/finance/chart/AIRT?range=1d&interval=1d (Caused by NewConnectionError('<urllib3.connection.HTTPSConnection object at 0x000001BCBB6ACC50>: Failed to establish a new connection: [Errno 11001] getaddrinfo failed'))\n",
      "Failed to get ticker 'UCIB' reason: HTTPSConnectionPool(host='query2.finance.yahoo.com', port=443): Max retries exceeded with url: /v8/finance/chart/UCIB?range=1d&interval=1d (Caused by NewConnectionError('<urllib3.connection.HTTPSConnection object at 0x000001BCD5DA2F90>: Failed to establish a new connection: [Errno 11001] getaddrinfo failed'))\n",
      "Failed to get ticker 'ABM' reason: HTTPSConnectionPool(host='query2.finance.yahoo.com', port=443): Max retries exceeded with url: /v8/finance/chart/ABM?range=1d&interval=1d (Caused by NewConnectionError('<urllib3.connection.HTTPSConnection object at 0x000001BCBB6C0510>: Failed to establish a new connection: [Errno 11001] getaddrinfo failed'))\n"
     ]
    },
    {
     "name": "stdout",
     "output_type": "stream",
     "text": [
      "[**********************90%%*****************     ]  6648 of 7361 completed"
     ]
    },
    {
     "name": "stderr",
     "output_type": "stream",
     "text": [
      "Failed to get ticker 'MDC' reason: HTTPSConnectionPool(host='query2.finance.yahoo.com', port=443): Max retries exceeded with url: /v8/finance/chart/MDC?range=1d&interval=1d (Caused by NewConnectionError('<urllib3.connection.HTTPSConnection object at 0x000001BCBB6AE310>: Failed to establish a new connection: [Errno 11001] getaddrinfo failed'))\n"
     ]
    },
    {
     "name": "stdout",
     "output_type": "stream",
     "text": [
      "[**********************90%%*****************     ]  6649 of 7361 completed"
     ]
    },
    {
     "name": "stderr",
     "output_type": "stream",
     "text": [
      "Failed to get ticker 'LCID' reason: HTTPSConnectionPool(host='query2.finance.yahoo.com', port=443): Max retries exceeded with url: /v8/finance/chart/LCID?range=1d&interval=1d (Caused by NewConnectionError('<urllib3.connection.HTTPSConnection object at 0x000001BCD5DA3850>: Failed to establish a new connection: [Errno 11001] getaddrinfo failed'))\n"
     ]
    },
    {
     "name": "stdout",
     "output_type": "stream",
     "text": [
      "[**********************90%%*****************     ]  6651 of 7361 completed"
     ]
    },
    {
     "name": "stderr",
     "output_type": "stream",
     "text": [
      "Failed to get ticker 'CTG' reason: HTTPSConnectionPool(host='query2.finance.yahoo.com', port=443): Max retries exceeded with url: /v8/finance/chart/CTG?range=1d&interval=1d (Caused by NewConnectionError('<urllib3.connection.HTTPSConnection object at 0x000001BCBB6BFA10>: Failed to establish a new connection: [Errno 11001] getaddrinfo failed'))\n"
     ]
    },
    {
     "name": "stdout",
     "output_type": "stream",
     "text": [
      "[**********************90%%*****************     ]  6652 of 7361 completed"
     ]
    },
    {
     "name": "stderr",
     "output_type": "stream",
     "text": [
      "Failed to get ticker 'MAA' reason: HTTPSConnectionPool(host='query2.finance.yahoo.com', port=443): Max retries exceeded with url: /v8/finance/chart/MAA?range=1d&interval=1d (Caused by NewConnectionError('<urllib3.connection.HTTPSConnection object at 0x000001BCBB6BD650>: Failed to establish a new connection: [Errno 11001] getaddrinfo failed'))\n"
     ]
    },
    {
     "name": "stdout",
     "output_type": "stream",
     "text": [
      "[**********************90%%*****************     ]  6653 of 7361 completed"
     ]
    },
    {
     "name": "stderr",
     "output_type": "stream",
     "text": [
      "Failed to get ticker 'CASI' reason: HTTPSConnectionPool(host='query2.finance.yahoo.com', port=443): Max retries exceeded with url: /v8/finance/chart/CASI?range=1d&interval=1d (Caused by NewConnectionError('<urllib3.connection.HTTPSConnection object at 0x000001BCD05B3890>: Failed to establish a new connection: [Errno 11001] getaddrinfo failed'))\n",
      "Failed to get ticker 'MYGN' reason: HTTPSConnectionPool(host='query2.finance.yahoo.com', port=443): Max retries exceeded with url: /v8/finance/chart/MYGN?range=1d&interval=1d (Caused by NewConnectionError('<urllib3.connection.HTTPSConnection object at 0x000001BCB9F84910>: Failed to establish a new connection: [Errno 11001] getaddrinfo failed'))\n"
     ]
    },
    {
     "name": "stdout",
     "output_type": "stream",
     "text": [
      "[**********************90%%*****************     ]  6656 of 7361 completed"
     ]
    },
    {
     "name": "stderr",
     "output_type": "stream",
     "text": [
      "Failed to get ticker 'AENZ' reason: HTTPSConnectionPool(host='query2.finance.yahoo.com', port=443): Max retries exceeded with url: /v8/finance/chart/AENZ?range=1d&interval=1d (Caused by NewConnectionError('<urllib3.connection.HTTPSConnection object at 0x000001BCD5DA21D0>: Failed to establish a new connection: [Errno 11001] getaddrinfo failed'))\n",
      "Failed to get ticker 'IMAX' reason: HTTPSConnectionPool(host='query2.finance.yahoo.com', port=443): Max retries exceeded with url: /v8/finance/chart/IMAX?range=1d&interval=1d (Caused by NewConnectionError('<urllib3.connection.HTTPSConnection object at 0x000001BCD5D7A490>: Failed to establish a new connection: [Errno 11001] getaddrinfo failed'))\n"
     ]
    },
    {
     "name": "stdout",
     "output_type": "stream",
     "text": [
      "[**********************90%%*****************     ]  6657 of 7361 completed"
     ]
    },
    {
     "name": "stderr",
     "output_type": "stream",
     "text": [
      "Failed to get ticker 'CSTL' reason: HTTPSConnectionPool(host='query2.finance.yahoo.com', port=443): Max retries exceeded with url: /v8/finance/chart/CSTL?range=1d&interval=1d (Caused by NewConnectionError('<urllib3.connection.HTTPSConnection object at 0x000001BCD3A35750>: Failed to establish a new connection: [Errno 11001] getaddrinfo failed'))\n"
     ]
    },
    {
     "name": "stdout",
     "output_type": "stream",
     "text": [
      "[**********************90%%*****************     ]  6659 of 7361 completed"
     ]
    },
    {
     "name": "stderr",
     "output_type": "stream",
     "text": [
      "Failed to get ticker 'NXTP' reason: HTTPSConnectionPool(host='query2.finance.yahoo.com', port=443): Max retries exceeded with url: /v8/finance/chart/NXTP?range=1d&interval=1d (Caused by NewConnectionError('<urllib3.connection.HTTPSConnection object at 0x000001BCD5DC4710>: Failed to establish a new connection: [Errno 11001] getaddrinfo failed'))\n"
     ]
    },
    {
     "name": "stdout",
     "output_type": "stream",
     "text": [
      "[**********************90%%*****************     ]  6660 of 7361 completed"
     ]
    },
    {
     "name": "stderr",
     "output_type": "stream",
     "text": [
      "Failed to get ticker 'GCTK' reason: HTTPSConnectionPool(host='query2.finance.yahoo.com', port=443): Max retries exceeded with url: /v8/finance/chart/GCTK?range=1d&interval=1d (Caused by NewConnectionError('<urllib3.connection.HTTPSConnection object at 0x000001BCBA27D410>: Failed to establish a new connection: [Errno 11001] getaddrinfo failed'))\n"
     ]
    },
    {
     "name": "stdout",
     "output_type": "stream",
     "text": [
      "[**********************90%%*****************     ]  6661 of 7361 completed"
     ]
    },
    {
     "name": "stderr",
     "output_type": "stream",
     "text": [
      "Failed to get ticker 'PYPD' reason: HTTPSConnectionPool(host='query2.finance.yahoo.com', port=443): Max retries exceeded with url: /v8/finance/chart/PYPD?range=1d&interval=1d (Caused by NewConnectionError('<urllib3.connection.HTTPSConnection object at 0x000001BCBB6AD690>: Failed to establish a new connection: [Errno 11001] getaddrinfo failed'))\n"
     ]
    },
    {
     "name": "stdout",
     "output_type": "stream",
     "text": [
      "[**********************90%%*****************     ]  6661 of 7361 completed"
     ]
    },
    {
     "name": "stderr",
     "output_type": "stream",
     "text": [
      "Failed to get ticker 'BMAC' reason: HTTPSConnectionPool(host='query2.finance.yahoo.com', port=443): Max retries exceeded with url: /v8/finance/chart/BMAC?range=1d&interval=1d (Caused by NewConnectionError('<urllib3.connection.HTTPSConnection object at 0x000001BCD5DA15D0>: Failed to establish a new connection: [Errno 11001] getaddrinfo failed'))\n"
     ]
    },
    {
     "name": "stdout",
     "output_type": "stream",
     "text": [
      "[**********************91%%******************    ]  6663 of 7361 completed"
     ]
    },
    {
     "name": "stderr",
     "output_type": "stream",
     "text": [
      "Failed to get ticker 'ACHR' reason: HTTPSConnectionPool(host='query2.finance.yahoo.com', port=443): Max retries exceeded with url: /v8/finance/chart/ACHR?range=1d&interval=1d (Caused by NewConnectionError('<urllib3.connection.HTTPSConnection object at 0x000001BCBB4F34D0>: Failed to establish a new connection: [Errno 11001] getaddrinfo failed'))\n",
      "Failed to get ticker 'CREG' reason: HTTPSConnectionPool(host='query2.finance.yahoo.com', port=443): Max retries exceeded with url: /v8/finance/chart/CREG?range=1d&interval=1d (Caused by NewConnectionError('<urllib3.connection.HTTPSConnection object at 0x000001BCBB6C8990>: Failed to establish a new connection: [Errno 11001] getaddrinfo failed'))\n"
     ]
    },
    {
     "name": "stdout",
     "output_type": "stream",
     "text": [
      "[**********************91%%******************    ]  6664 of 7361 completed"
     ]
    },
    {
     "name": "stderr",
     "output_type": "stream",
     "text": [
      "Failed to get ticker 'IPDN' reason: HTTPSConnectionPool(host='query2.finance.yahoo.com', port=443): Max retries exceeded with url: /v8/finance/chart/IPDN?range=1d&interval=1d (Caused by NewConnectionError('<urllib3.connection.HTTPSConnection object at 0x000001BCCBF68590>: Failed to establish a new connection: [Errno 11001] getaddrinfo failed'))\n",
      "Failed to get ticker 'RETA' reason: HTTPSConnectionPool(host='query2.finance.yahoo.com', port=443): Max retries exceeded with url: /v8/finance/chart/RETA?range=1d&interval=1d (Caused by NewConnectionError('<urllib3.connection.HTTPSConnection object at 0x000001BCBB6C1E10>: Failed to establish a new connection: [Errno 11001] getaddrinfo failed'))\n"
     ]
    },
    {
     "name": "stdout",
     "output_type": "stream",
     "text": [
      "[**********************91%%******************    ]  6667 of 7361 completed"
     ]
    },
    {
     "name": "stderr",
     "output_type": "stream",
     "text": [
      "Failed to get ticker 'JNVR' reason: HTTPSConnectionPool(host='query2.finance.yahoo.com', port=443): Max retries exceeded with url: /v8/finance/chart/JNVR?range=1d&interval=1d (Caused by NewConnectionError('<urllib3.connection.HTTPSConnection object at 0x000001BCBB6BD690>: Failed to establish a new connection: [Errno 11001] getaddrinfo failed'))\n",
      "Failed to get ticker 'TDS' reason: HTTPSConnectionPool(host='query2.finance.yahoo.com', port=443): Max retries exceeded with url: /v8/finance/chart/TDS?range=1d&interval=1d (Caused by NewConnectionError('<urllib3.connection.HTTPSConnection object at 0x000001BCD5D78190>: Failed to establish a new connection: [Errno 11001] getaddrinfo failed'))\n"
     ]
    },
    {
     "name": "stdout",
     "output_type": "stream",
     "text": [
      "[**********************91%%******************    ]  6668 of 7361 completed"
     ]
    },
    {
     "name": "stderr",
     "output_type": "stream",
     "text": [
      "Failed to get ticker 'CEADW' reason: HTTPSConnectionPool(host='query2.finance.yahoo.com', port=443): Max retries exceeded with url: /v8/finance/chart/CEADW?range=1d&interval=1d (Caused by NewConnectionError('<urllib3.connection.HTTPSConnection object at 0x000001BCD5DC70D0>: Failed to establish a new connection: [Errno 11001] getaddrinfo failed'))\n"
     ]
    },
    {
     "name": "stdout",
     "output_type": "stream",
     "text": [
      "[**********************91%%******************    ]  6669 of 7361 completed"
     ]
    },
    {
     "name": "stderr",
     "output_type": "stream",
     "text": [
      "Failed to get ticker 'TPG' reason: HTTPSConnectionPool(host='query2.finance.yahoo.com', port=443): Max retries exceeded with url: /v8/finance/chart/TPG?range=1d&interval=1d (Caused by NewConnectionError('<urllib3.connection.HTTPSConnection object at 0x000001BCBA23EFD0>: Failed to establish a new connection: [Errno 11001] getaddrinfo failed'))\n"
     ]
    },
    {
     "name": "stdout",
     "output_type": "stream",
     "text": [
      "[**********************91%%******************    ]  6670 of 7361 completed"
     ]
    },
    {
     "name": "stderr",
     "output_type": "stream",
     "text": [
      "Failed to get ticker 'GKOS' reason: HTTPSConnectionPool(host='query2.finance.yahoo.com', port=443): Max retries exceeded with url: /v8/finance/chart/GKOS?range=1d&interval=1d (Caused by NewConnectionError('<urllib3.connection.HTTPSConnection object at 0x000001BCD5D7A8D0>: Failed to establish a new connection: [Errno 11001] getaddrinfo failed'))\n",
      "Failed to get ticker 'PSTG' reason: HTTPSConnectionPool(host='query2.finance.yahoo.com', port=443): Max retries exceeded with url: /v8/finance/chart/PSTG?range=1d&interval=1d (Caused by NewConnectionError('<urllib3.connection.HTTPSConnection object at 0x000001BCBB6C8650>: Failed to establish a new connection: [Errno 11001] getaddrinfo failed'))\n"
     ]
    },
    {
     "name": "stdout",
     "output_type": "stream",
     "text": [
      "[**********************91%%******************    ]  6671 of 7361 completed"
     ]
    },
    {
     "name": "stderr",
     "output_type": "stream",
     "text": [
      "Failed to get ticker 'DGX' reason: HTTPSConnectionPool(host='query2.finance.yahoo.com', port=443): Max retries exceeded with url: /v8/finance/chart/DGX?range=1d&interval=1d (Caused by NewConnectionError('<urllib3.connection.HTTPSConnection object at 0x000001BCBA1A6F50>: Failed to establish a new connection: [Errno 11001] getaddrinfo failed'))\n"
     ]
    },
    {
     "name": "stdout",
     "output_type": "stream",
     "text": [
      "[**********************91%%******************    ]  6673 of 7361 completed"
     ]
    },
    {
     "name": "stderr",
     "output_type": "stream",
     "text": [
      "Failed to get ticker 'EHAB' reason: HTTPSConnectionPool(host='query2.finance.yahoo.com', port=443): Max retries exceeded with url: /v8/finance/chart/EHAB?range=1d&interval=1d (Caused by NewConnectionError('<urllib3.connection.HTTPSConnection object at 0x000001BCD5D79010>: Failed to establish a new connection: [Errno 11001] getaddrinfo failed'))\n"
     ]
    },
    {
     "name": "stdout",
     "output_type": "stream",
     "text": [
      "[**********************91%%******************    ]  6675 of 7361 completed"
     ]
    },
    {
     "name": "stderr",
     "output_type": "stream",
     "text": [
      "Failed to get ticker 'CERE' reason: HTTPSConnectionPool(host='query2.finance.yahoo.com', port=443): Max retries exceeded with url: /v8/finance/chart/CERE?range=1d&interval=1d (Caused by NewConnectionError('<urllib3.connection.HTTPSConnection object at 0x000001BCD5DC4D50>: Failed to establish a new connection: [Errno 11001] getaddrinfo failed'))\n"
     ]
    },
    {
     "name": "stdout",
     "output_type": "stream",
     "text": [
      "[**********************91%%******************    ]  6676 of 7361 completed"
     ]
    },
    {
     "name": "stderr",
     "output_type": "stream",
     "text": [
      "Failed to get ticker 'ANGH' reason: HTTPSConnectionPool(host='query2.finance.yahoo.com', port=443): Max retries exceeded with url: /v8/finance/chart/ANGH?range=1d&interval=1d (Caused by NewConnectionError('<urllib3.connection.HTTPSConnection object at 0x000001BCD5DE6E50>: Failed to establish a new connection: [Errno 11001] getaddrinfo failed'))\n"
     ]
    },
    {
     "name": "stdout",
     "output_type": "stream",
     "text": [
      "[**********************91%%******************    ]  6677 of 7361 completed"
     ]
    },
    {
     "name": "stderr",
     "output_type": "stream",
     "text": [
      "Failed to get ticker 'WLDS' reason: HTTPSConnectionPool(host='query2.finance.yahoo.com', port=443): Max retries exceeded with url: /v8/finance/chart/WLDS?range=1d&interval=1d (Caused by NewConnectionError('<urllib3.connection.HTTPSConnection object at 0x000001BCD5DDBD50>: Failed to establish a new connection: [Errno 11001] getaddrinfo failed'))\n",
      "Failed to get ticker 'PEPLW' reason: HTTPSConnectionPool(host='query2.finance.yahoo.com', port=443): Max retries exceeded with url: /v8/finance/chart/PEPLW?range=1d&interval=1d (Caused by NewConnectionError('<urllib3.connection.HTTPSConnection object at 0x000001BCD5DDC390>: Failed to establish a new connection: [Errno 11001] getaddrinfo failed'))\n"
     ]
    },
    {
     "name": "stdout",
     "output_type": "stream",
     "text": [
      "[**********************91%%******************    ]  6679 of 7361 completed"
     ]
    },
    {
     "name": "stderr",
     "output_type": "stream",
     "text": [
      "Failed to get ticker 'DAKT' reason: HTTPSConnectionPool(host='query2.finance.yahoo.com', port=443): Max retries exceeded with url: /v8/finance/chart/DAKT?range=1d&interval=1d (Caused by NewConnectionError('<urllib3.connection.HTTPSConnection object at 0x000001BCBB6C1090>: Failed to establish a new connection: [Errno 11001] getaddrinfo failed'))\n",
      "Failed to get ticker 'BJ' reason: HTTPSConnectionPool(host='query2.finance.yahoo.com', port=443): Max retries exceeded with url: /v8/finance/chart/BJ?range=1d&interval=1d (Caused by NewConnectionError('<urllib3.connection.HTTPSConnection object at 0x000001BCBB6CBE90>: Failed to establish a new connection: [Errno 11001] getaddrinfo failed'))\n"
     ]
    },
    {
     "name": "stdout",
     "output_type": "stream",
     "text": [
      "[**********************91%%******************    ]  6680 of 7361 completed"
     ]
    },
    {
     "name": "stderr",
     "output_type": "stream",
     "text": [
      "Failed to get ticker 'FUV' reason: HTTPSConnectionPool(host='query2.finance.yahoo.com', port=443): Max retries exceeded with url: /v8/finance/chart/FUV?range=1d&interval=1d (Caused by NewConnectionError('<urllib3.connection.HTTPSConnection object at 0x000001BCD5DD8150>: Failed to establish a new connection: [Errno 11001] getaddrinfo failed'))\n",
      "Failed to get ticker 'INDB' reason: HTTPSConnectionPool(host='query2.finance.yahoo.com', port=443): Max retries exceeded with url: /v8/finance/chart/INDB?range=1d&interval=1d (Caused by NewConnectionError('<urllib3.connection.HTTPSConnection object at 0x000001BCD5DB6A10>: Failed to establish a new connection: [Errno 11001] getaddrinfo failed'))\n"
     ]
    },
    {
     "name": "stdout",
     "output_type": "stream",
     "text": [
      "[**********************91%%******************    ]  6681 of 7361 completed"
     ]
    },
    {
     "name": "stderr",
     "output_type": "stream",
     "text": [
      "Failed to get ticker 'PJT' reason: HTTPSConnectionPool(host='query2.finance.yahoo.com', port=443): Max retries exceeded with url: /v8/finance/chart/PJT?range=1d&interval=1d (Caused by NewConnectionError('<urllib3.connection.HTTPSConnection object at 0x000001BCD5DE7B50>: Failed to establish a new connection: [Errno 11001] getaddrinfo failed'))\n"
     ]
    },
    {
     "name": "stdout",
     "output_type": "stream",
     "text": [
      "[**********************91%%******************    ]  6684 of 7361 completed"
     ]
    },
    {
     "name": "stderr",
     "output_type": "stream",
     "text": [
      "Failed to get ticker 'GDHG' reason: HTTPSConnectionPool(host='query2.finance.yahoo.com', port=443): Max retries exceeded with url: /v8/finance/chart/GDHG?range=1d&interval=1d (Caused by NewConnectionError('<urllib3.connection.HTTPSConnection object at 0x000001BCD5D7A490>: Failed to establish a new connection: [Errno 11001] getaddrinfo failed'))\n"
     ]
    },
    {
     "name": "stdout",
     "output_type": "stream",
     "text": [
      "[**********************91%%******************    ]  6685 of 7361 completed"
     ]
    },
    {
     "name": "stderr",
     "output_type": "stream",
     "text": [
      "Failed to get ticker 'ARL' reason: HTTPSConnectionPool(host='query2.finance.yahoo.com', port=443): Max retries exceeded with url: /v8/finance/chart/ARL?range=1d&interval=1d (Caused by NewConnectionError('<urllib3.connection.HTTPSConnection object at 0x000001BCBB6CAA90>: Failed to establish a new connection: [Errno 11001] getaddrinfo failed'))\n"
     ]
    },
    {
     "name": "stdout",
     "output_type": "stream",
     "text": [
      "[**********************91%%******************    ]  6686 of 7361 completed"
     ]
    },
    {
     "name": "stderr",
     "output_type": "stream",
     "text": [
      "Failed to get ticker 'AVNT' reason: HTTPSConnectionPool(host='query2.finance.yahoo.com', port=443): Max retries exceeded with url: /v8/finance/chart/AVNT?range=1d&interval=1d (Caused by NewConnectionError('<urllib3.connection.HTTPSConnection object at 0x000001BCBB6C3310>: Failed to establish a new connection: [Errno 11001] getaddrinfo failed'))\n"
     ]
    },
    {
     "name": "stdout",
     "output_type": "stream",
     "text": [
      "[**********************91%%******************    ]  6688 of 7361 completed"
     ]
    },
    {
     "name": "stderr",
     "output_type": "stream",
     "text": [
      "Failed to get ticker 'VLD' reason: HTTPSConnectionPool(host='query2.finance.yahoo.com', port=443): Max retries exceeded with url: /v8/finance/chart/VLD?range=1d&interval=1d (Caused by NewConnectionError('<urllib3.connection.HTTPSConnection object at 0x000001BCBB6CA090>: Failed to establish a new connection: [Errno 11001] getaddrinfo failed'))\n",
      "Failed to get ticker 'GDS' reason: HTTPSConnectionPool(host='query2.finance.yahoo.com', port=443): Max retries exceeded with url: /v8/finance/chart/GDS?range=1d&interval=1d (Caused by NewConnectionError('<urllib3.connection.HTTPSConnection object at 0x000001BCBB6C9750>: Failed to establish a new connection: [Errno 11001] getaddrinfo failed'))\n"
     ]
    },
    {
     "name": "stdout",
     "output_type": "stream",
     "text": [
      "[**********************91%%******************    ]  6689 of 7361 completed"
     ]
    },
    {
     "name": "stderr",
     "output_type": "stream",
     "text": [
      "Failed to get ticker 'PIIIW' reason: HTTPSConnectionPool(host='query2.finance.yahoo.com', port=443): Max retries exceeded with url: /v8/finance/chart/PIIIW?range=1d&interval=1d (Caused by NewConnectionError('<urllib3.connection.HTTPSConnection object at 0x000001BCD4C11850>: Failed to establish a new connection: [Errno 11001] getaddrinfo failed'))\n",
      "Failed to get ticker 'CRSR' reason: HTTPSConnectionPool(host='query2.finance.yahoo.com', port=443): Max retries exceeded with url: /v8/finance/chart/CRSR?range=1d&interval=1d (Caused by NewConnectionError('<urllib3.connection.HTTPSConnection object at 0x000001BCD5DE5A50>: Failed to establish a new connection: [Errno 11001] getaddrinfo failed'))\n",
      "Failed to get ticker 'QLGN' reason: HTTPSConnectionPool(host='query2.finance.yahoo.com', port=443): Max retries exceeded with url: /v8/finance/chart/QLGN?range=1d&interval=1d (Caused by NewConnectionError('<urllib3.connection.HTTPSConnection object at 0x000001BCD5DE9550>: Failed to establish a new connection: [Errno 11001] getaddrinfo failed'))\n"
     ]
    },
    {
     "name": "stdout",
     "output_type": "stream",
     "text": [
      "[**********************91%%******************    ]  6691 of 7361 completed"
     ]
    },
    {
     "name": "stderr",
     "output_type": "stream",
     "text": [
      "Failed to get ticker 'BYFC' reason: HTTPSConnectionPool(host='query2.finance.yahoo.com', port=443): Max retries exceeded with url: /v8/finance/chart/BYFC?range=1d&interval=1d (Caused by NewConnectionError('<urllib3.connection.HTTPSConnection object at 0x000001BCD5DDFAD0>: Failed to establish a new connection: [Errno 11001] getaddrinfo failed'))\n"
     ]
    },
    {
     "name": "stdout",
     "output_type": "stream",
     "text": [
      "[**********************91%%******************    ]  6694 of 7361 completed"
     ]
    },
    {
     "name": "stderr",
     "output_type": "stream",
     "text": [
      "Failed to get ticker 'CRGY' reason: HTTPSConnectionPool(host='query2.finance.yahoo.com', port=443): Max retries exceeded with url: /v8/finance/chart/CRGY?range=1d&interval=1d (Caused by NewConnectionError('<urllib3.connection.HTTPSConnection object at 0x000001BCD5DDED10>: Failed to establish a new connection: [Errno 11001] getaddrinfo failed'))\n",
      "Failed to get ticker 'WMC' reason: HTTPSConnectionPool(host='query2.finance.yahoo.com', port=443): Max retries exceeded with url: /v8/finance/chart/WMC?range=1d&interval=1d (Caused by NewConnectionError('<urllib3.connection.HTTPSConnection object at 0x000001BCBB6A7D50>: Failed to establish a new connection: [Errno 11001] getaddrinfo failed'))\n",
      "Failed to get ticker 'EVE' reason: HTTPSConnectionPool(host='query2.finance.yahoo.com', port=443): Max retries exceeded with url: /v8/finance/chart/EVE?range=1d&interval=1d (Caused by NewConnectionError('<urllib3.connection.HTTPSConnection object at 0x000001BCBB6AEA90>: Failed to establish a new connection: [Errno 11001] getaddrinfo failed'))\n"
     ]
    },
    {
     "name": "stdout",
     "output_type": "stream",
     "text": [
      "[**********************91%%******************    ]  6695 of 7361 completed"
     ]
    },
    {
     "name": "stderr",
     "output_type": "stream",
     "text": [
      "Failed to get ticker 'PLRX' reason: HTTPSConnectionPool(host='query2.finance.yahoo.com', port=443): Max retries exceeded with url: /v8/finance/chart/PLRX?range=1d&interval=1d (Caused by NewConnectionError('<urllib3.connection.HTTPSConnection object at 0x000001BCD5D79390>: Failed to establish a new connection: [Errno 11001] getaddrinfo failed'))\n"
     ]
    },
    {
     "name": "stdout",
     "output_type": "stream",
     "text": [
      "[**********************91%%******************    ]  6696 of 7361 completed"
     ]
    },
    {
     "name": "stderr",
     "output_type": "stream",
     "text": [
      "Failed to get ticker 'RFACU' reason: HTTPSConnectionPool(host='query2.finance.yahoo.com', port=443): Max retries exceeded with url: /v8/finance/chart/RFACU?range=1d&interval=1d (Caused by NewConnectionError('<urllib3.connection.HTTPSConnection object at 0x000001BCC64BAA90>: Failed to establish a new connection: [Errno 11001] getaddrinfo failed'))\n"
     ]
    },
    {
     "name": "stdout",
     "output_type": "stream",
     "text": [
      "[**********************91%%******************    ]  6699 of 7361 completed"
     ]
    },
    {
     "name": "stderr",
     "output_type": "stream",
     "text": [
      "Failed to get ticker 'SINT' reason: HTTPSConnectionPool(host='query2.finance.yahoo.com', port=443): Max retries exceeded with url: /v8/finance/chart/SINT?range=1d&interval=1d (Caused by NewConnectionError('<urllib3.connection.HTTPSConnection object at 0x000001BCBB6C8E90>: Failed to establish a new connection: [Errno 11001] getaddrinfo failed'))\n"
     ]
    },
    {
     "name": "stdout",
     "output_type": "stream",
     "text": [
      "[**********************91%%******************    ]  6700 of 7361 completed"
     ]
    },
    {
     "name": "stderr",
     "output_type": "stream",
     "text": [
      "Failed to get ticker 'NYMTZ' reason: HTTPSConnectionPool(host='query2.finance.yahoo.com', port=443): Max retries exceeded with url: /v8/finance/chart/NYMTZ?range=1d&interval=1d (Caused by NewConnectionError('<urllib3.connection.HTTPSConnection object at 0x000001BCD5DDF290>: Failed to establish a new connection: [Errno 11001] getaddrinfo failed'))\n",
      "Failed to get ticker 'GFAI' reason: HTTPSConnectionPool(host='query2.finance.yahoo.com', port=443): Max retries exceeded with url: /v8/finance/chart/GFAI?range=1d&interval=1d (Caused by NewConnectionError('<urllib3.connection.HTTPSConnection object at 0x000001BCD5DE9C90>: Failed to establish a new connection: [Errno 11001] getaddrinfo failed'))\n",
      "Failed to get ticker 'CNHI' reason: HTTPSConnectionPool(host='query2.finance.yahoo.com', port=443): Max retries exceeded with url: /v8/finance/chart/CNHI?range=1d&interval=1d (Caused by NewConnectionError('<urllib3.connection.HTTPSConnection object at 0x000001BCD5DDE950>: Failed to establish a new connection: [Errno 11001] getaddrinfo failed'))\n"
     ]
    },
    {
     "name": "stdout",
     "output_type": "stream",
     "text": [
      "[**********************91%%******************    ]  6703 of 7361 completed"
     ]
    },
    {
     "name": "stderr",
     "output_type": "stream",
     "text": [
      "Failed to get ticker 'GDSTR' reason: HTTPSConnectionPool(host='query2.finance.yahoo.com', port=443): Max retries exceeded with url: /v8/finance/chart/GDSTR?range=1d&interval=1d (Caused by NewConnectionError('<urllib3.connection.HTTPSConnection object at 0x000001BCD5DDD6D0>: Failed to establish a new connection: [Errno 11001] getaddrinfo failed'))\n",
      "Failed to get ticker 'MYTE' reason: HTTPSConnectionPool(host='query2.finance.yahoo.com', port=443): Max retries exceeded with url: /v8/finance/chart/MYTE?range=1d&interval=1d (Caused by NewConnectionError('<urllib3.connection.HTTPSConnection object at 0x000001BCBB6C9F10>: Failed to establish a new connection: [Errno 11001] getaddrinfo failed'))\n",
      "Failed to get ticker 'SUM' reason: HTTPSConnectionPool(host='query2.finance.yahoo.com', port=443): Max retries exceeded with url: /v8/finance/chart/SUM?range=1d&interval=1d (Caused by NewConnectionError('<urllib3.connection.HTTPSConnection object at 0x000001BCD5DEB550>: Failed to establish a new connection: [Errno 11001] getaddrinfo failed'))\n"
     ]
    },
    {
     "name": "stdout",
     "output_type": "stream",
     "text": [
      "[**********************91%%******************    ]  6704 of 7361 completed"
     ]
    },
    {
     "name": "stderr",
     "output_type": "stream",
     "text": [
      "Failed to get ticker 'CDAQU' reason: HTTPSConnectionPool(host='query2.finance.yahoo.com', port=443): Max retries exceeded with url: /v8/finance/chart/CDAQU?range=1d&interval=1d (Caused by NewConnectionError('<urllib3.connection.HTTPSConnection object at 0x000001BCD5DDEC50>: Failed to establish a new connection: [Errno 11001] getaddrinfo failed'))\n",
      "Failed to get ticker 'BLEUU' reason: HTTPSConnectionPool(host='query2.finance.yahoo.com', port=443): Max retries exceeded with url: /v8/finance/chart/BLEUU?range=1d&interval=1d (Caused by NewConnectionError('<urllib3.connection.HTTPSConnection object at 0x000001BCD4C10FD0>: Failed to establish a new connection: [Errno 11001] getaddrinfo failed'))\n"
     ]
    },
    {
     "name": "stdout",
     "output_type": "stream",
     "text": [
      "[**********************91%%******************    ]  6705 of 7361 completed"
     ]
    },
    {
     "name": "stderr",
     "output_type": "stream",
     "text": [
      "Failed to get ticker 'HTLD' reason: HTTPSConnectionPool(host='query2.finance.yahoo.com', port=443): Max retries exceeded with url: /v8/finance/chart/HTLD?range=1d&interval=1d (Caused by NewConnectionError('<urllib3.connection.HTTPSConnection object at 0x000001BCD5D58D50>: Failed to establish a new connection: [Errno 11001] getaddrinfo failed'))\n"
     ]
    },
    {
     "name": "stdout",
     "output_type": "stream",
     "text": [
      "[**********************91%%******************    ]  6707 of 7361 completed"
     ]
    },
    {
     "name": "stderr",
     "output_type": "stream",
     "text": [
      "Failed to get ticker 'RYAM' reason: HTTPSConnectionPool(host='query2.finance.yahoo.com', port=443): Max retries exceeded with url: /v8/finance/chart/RYAM?range=1d&interval=1d (Caused by NewConnectionError('<urllib3.connection.HTTPSConnection object at 0x000001BCBB6CB010>: Failed to establish a new connection: [Errno 11001] getaddrinfo failed'))\n"
     ]
    },
    {
     "name": "stdout",
     "output_type": "stream",
     "text": [
      "[**********************91%%******************    ]  6708 of 7361 completed"
     ]
    },
    {
     "name": "stderr",
     "output_type": "stream",
     "text": [
      "Failed to get ticker 'AHG' reason: HTTPSConnectionPool(host='query2.finance.yahoo.com', port=443): Max retries exceeded with url: /v8/finance/chart/AHG?range=1d&interval=1d (Caused by NewConnectionError('<urllib3.connection.HTTPSConnection object at 0x000001BCBB6CAF10>: Failed to establish a new connection: [Errno 11001] getaddrinfo failed'))\n",
      "Failed to get ticker 'FLFV' reason: HTTPSConnectionPool(host='query2.finance.yahoo.com', port=443): Max retries exceeded with url: /v8/finance/chart/FLFV?range=1d&interval=1d (Caused by NewConnectionError('<urllib3.connection.HTTPSConnection object at 0x000001BCD5DDF410>: Failed to establish a new connection: [Errno 11001] getaddrinfo failed'))\n",
      "Failed to get ticker 'LAZR' reason: HTTPSConnectionPool(host='query2.finance.yahoo.com', port=443): Max retries exceeded with url: /v8/finance/chart/LAZR?range=1d&interval=1d (Caused by NewConnectionError('<urllib3.connection.HTTPSConnection object at 0x000001BCD5DEAA10>: Failed to establish a new connection: [Errno 11001] getaddrinfo failed'))\n",
      "Failed to get ticker 'WEA' reason: HTTPSConnectionPool(host='query2.finance.yahoo.com', port=443): Max retries exceeded with url: /v8/finance/chart/WEA?range=1d&interval=1d (Caused by NewConnectionError('<urllib3.connection.HTTPSConnection object at 0x000001BCBB6C1B10>: Failed to establish a new connection: [Errno 11001] getaddrinfo failed'))\n"
     ]
    },
    {
     "name": "stdout",
     "output_type": "stream",
     "text": [
      "[**********************91%%******************    ]  6712 of 7361 completed"
     ]
    },
    {
     "name": "stderr",
     "output_type": "stream",
     "text": [
      "Failed to get ticker 'CGNX' reason: HTTPSConnectionPool(host='query2.finance.yahoo.com', port=443): Max retries exceeded with url: /v8/finance/chart/CGNX?range=1d&interval=1d (Caused by NewConnectionError('<urllib3.connection.HTTPSConnection object at 0x000001BCD5DE7B10>: Failed to establish a new connection: [Errno 11001] getaddrinfo failed'))\n"
     ]
    },
    {
     "name": "stdout",
     "output_type": "stream",
     "text": [
      "[**********************91%%******************    ]  6716 of 7361 completed"
     ]
    },
    {
     "name": "stderr",
     "output_type": "stream",
     "text": [
      "Failed to get ticker 'ESHAR' reason: HTTPSConnectionPool(host='query2.finance.yahoo.com', port=443): Max retries exceeded with url: /v8/finance/chart/ESHAR?range=1d&interval=1d (Caused by NewConnectionError('<urllib3.connection.HTTPSConnection object at 0x000001BCD5DDFA10>: Failed to establish a new connection: [Errno 11001] getaddrinfo failed'))\n",
      "Failed to get ticker 'NWG' reason: HTTPSConnectionPool(host='query2.finance.yahoo.com', port=443): Max retries exceeded with url: /v8/finance/chart/NWG?range=1d&interval=1d (Caused by NewConnectionError('<urllib3.connection.HTTPSConnection object at 0x000001BCD5DDCF90>: Failed to establish a new connection: [Errno 11001] getaddrinfo failed'))\n"
     ]
    },
    {
     "name": "stdout",
     "output_type": "stream",
     "text": [
      "[**********************91%%******************    ]  6717 of 7361 completed"
     ]
    },
    {
     "name": "stderr",
     "output_type": "stream",
     "text": [
      "Failed to get ticker 'MTEX' reason: HTTPSConnectionPool(host='query2.finance.yahoo.com', port=443): Max retries exceeded with url: /v8/finance/chart/MTEX?range=1d&interval=1d (Caused by NewConnectionError('<urllib3.connection.HTTPSConnection object at 0x000001BCD5DC7590>: Failed to establish a new connection: [Errno 11001] getaddrinfo failed'))\n"
     ]
    },
    {
     "name": "stdout",
     "output_type": "stream",
     "text": [
      "[**********************91%%******************    ]  6718 of 7361 completed"
     ]
    },
    {
     "name": "stderr",
     "output_type": "stream",
     "text": [
      "Failed to get ticker 'SLCA' reason: HTTPSConnectionPool(host='query2.finance.yahoo.com', port=443): Max retries exceeded with url: /v8/finance/chart/SLCA?range=1d&interval=1d (Caused by NewConnectionError('<urllib3.connection.HTTPSConnection object at 0x000001BCD5DDDB90>: Failed to establish a new connection: [Errno 11001] getaddrinfo failed'))\n",
      "Failed to get ticker 'ESEA' reason: HTTPSConnectionPool(host='query2.finance.yahoo.com', port=443): Max retries exceeded with url: /v8/finance/chart/ESEA?range=1d&interval=1d (Caused by NewConnectionError('<urllib3.connection.HTTPSConnection object at 0x000001BCD5D78290>: Failed to establish a new connection: [Errno 11001] getaddrinfo failed'))\n"
     ]
    },
    {
     "name": "stdout",
     "output_type": "stream",
     "text": [
      "[**********************91%%******************    ]  6719 of 7361 completed"
     ]
    },
    {
     "name": "stderr",
     "output_type": "stream",
     "text": [
      "Failed to get ticker 'INLX' reason: HTTPSConnectionPool(host='query2.finance.yahoo.com', port=443): Max retries exceeded with url: /v8/finance/chart/INLX?range=1d&interval=1d (Caused by NewConnectionError('<urllib3.connection.HTTPSConnection object at 0x000001BCD5DDED10>: Failed to establish a new connection: [Errno 11001] getaddrinfo failed'))\n"
     ]
    },
    {
     "name": "stdout",
     "output_type": "stream",
     "text": [
      "[**********************91%%******************    ]  6720 of 7361 completed"
     ]
    },
    {
     "name": "stderr",
     "output_type": "stream",
     "text": [
      "Failed to get ticker 'CYTH' reason: HTTPSConnectionPool(host='query2.finance.yahoo.com', port=443): Max retries exceeded with url: /v8/finance/chart/CYTH?range=1d&interval=1d (Caused by NewConnectionError('<urllib3.connection.HTTPSConnection object at 0x000001BCBB6A60D0>: Failed to establish a new connection: [Errno 11001] getaddrinfo failed'))\n"
     ]
    },
    {
     "name": "stdout",
     "output_type": "stream",
     "text": [
      "[**********************91%%******************    ]  6721 of 7361 completed"
     ]
    },
    {
     "name": "stderr",
     "output_type": "stream",
     "text": [
      "Failed to get ticker 'MPWR' reason: HTTPSConnectionPool(host='query2.finance.yahoo.com', port=443): Max retries exceeded with url: /v8/finance/chart/MPWR?range=1d&interval=1d (Caused by NewConnectionError('<urllib3.connection.HTTPSConnection object at 0x000001BCBB6C3890>: Failed to establish a new connection: [Errno 11001] getaddrinfo failed'))\n"
     ]
    },
    {
     "name": "stdout",
     "output_type": "stream",
     "text": [
      "[**********************91%%******************    ]  6723 of 7361 completed"
     ]
    },
    {
     "name": "stderr",
     "output_type": "stream",
     "text": [
      "Failed to get ticker 'URBN' reason: HTTPSConnectionPool(host='query2.finance.yahoo.com', port=443): Max retries exceeded with url: /v8/finance/chart/URBN?range=1d&interval=1d (Caused by NewConnectionError('<urllib3.connection.HTTPSConnection object at 0x000001BCD5D79C10>: Failed to establish a new connection: [Errno 11001] getaddrinfo failed'))\n",
      "Failed to get ticker 'ANGO' reason: HTTPSConnectionPool(host='query2.finance.yahoo.com', port=443): Max retries exceeded with url: /v8/finance/chart/ANGO?range=1d&interval=1d (Caused by NewConnectionError('<urllib3.connection.HTTPSConnection object at 0x000001BCD5DFC790>: Failed to establish a new connection: [Errno 11001] getaddrinfo failed'))\n",
      "Failed to get ticker 'R' reason: HTTPSConnectionPool(host='query2.finance.yahoo.com', port=443): Max retries exceeded with url: /v8/finance/chart/R?range=1d&interval=1d (Caused by NewConnectionError('<urllib3.connection.HTTPSConnection object at 0x000001BCD5DFDD50>: Failed to establish a new connection: [Errno 11001] getaddrinfo failed'))\n",
      "Failed to get ticker 'EQNR' reason: HTTPSConnectionPool(host='query2.finance.yahoo.com', port=443): Max retries exceeded with url: /v8/finance/chart/EQNR?range=1d&interval=1d (Caused by NewConnectionError('<urllib3.connection.HTTPSConnection object at 0x000001BCBB6CBED0>: Failed to establish a new connection: [Errno 11001] getaddrinfo failed'))\n"
     ]
    },
    {
     "name": "stdout",
     "output_type": "stream",
     "text": [
      "[**********************91%%******************    ]  6725 of 7361 completed"
     ]
    },
    {
     "name": "stderr",
     "output_type": "stream",
     "text": [
      "Failed to get ticker 'ITCI' reason: HTTPSConnectionPool(host='query2.finance.yahoo.com', port=443): Max retries exceeded with url: /v8/finance/chart/ITCI?range=1d&interval=1d (Caused by NewConnectionError('<urllib3.connection.HTTPSConnection object at 0x000001BCD5E0FE10>: Failed to establish a new connection: [Errno 11001] getaddrinfo failed'))\n"
     ]
    },
    {
     "name": "stdout",
     "output_type": "stream",
     "text": [
      "[**********************91%%******************    ]  6726 of 7361 completed"
     ]
    },
    {
     "name": "stderr",
     "output_type": "stream",
     "text": [
      "Failed to get ticker 'SE' reason: HTTPSConnectionPool(host='query2.finance.yahoo.com', port=443): Max retries exceeded with url: /v8/finance/chart/SE?range=1d&interval=1d (Caused by NewConnectionError('<urllib3.connection.HTTPSConnection object at 0x000001BCD5DE96D0>: Failed to establish a new connection: [Errno 11001] getaddrinfo failed'))\n"
     ]
    },
    {
     "name": "stdout",
     "output_type": "stream",
     "text": [
      "[**********************91%%******************    ]  6728 of 7361 completed"
     ]
    },
    {
     "name": "stderr",
     "output_type": "stream",
     "text": [
      "Failed to get ticker 'GSDWU' reason: HTTPSConnectionPool(host='query2.finance.yahoo.com', port=443): Max retries exceeded with url: /v8/finance/chart/GSDWU?range=1d&interval=1d (Caused by NewConnectionError('<urllib3.connection.HTTPSConnection object at 0x000001BCD5E25550>: Failed to establish a new connection: [Errno 11001] getaddrinfo failed'))\n"
     ]
    },
    {
     "name": "stdout",
     "output_type": "stream",
     "text": [
      "[**********************91%%******************    ]  6729 of 7361 completed"
     ]
    },
    {
     "name": "stderr",
     "output_type": "stream",
     "text": [
      "Failed to get ticker 'EQX' reason: HTTPSConnectionPool(host='query2.finance.yahoo.com', port=443): Max retries exceeded with url: /v8/finance/chart/EQX?range=1d&interval=1d (Caused by NewConnectionError('<urllib3.connection.HTTPSConnection object at 0x000001BCD5DB6050>: Failed to establish a new connection: [Errno 11001] getaddrinfo failed'))\n",
      "Failed to get ticker 'ATAKU' reason: HTTPSConnectionPool(host='query2.finance.yahoo.com', port=443): Max retries exceeded with url: /v8/finance/chart/ATAKU?range=1d&interval=1d (Caused by NewConnectionError('<urllib3.connection.HTTPSConnection object at 0x000001BCD5D92090>: Failed to establish a new connection: [Errno 11001] getaddrinfo failed'))\n"
     ]
    },
    {
     "name": "stdout",
     "output_type": "stream",
     "text": [
      "[**********************91%%******************    ]  6730 of 7361 completed"
     ]
    },
    {
     "name": "stderr",
     "output_type": "stream",
     "text": [
      "Failed to get ticker 'ONVO' reason: HTTPSConnectionPool(host='query2.finance.yahoo.com', port=443): Max retries exceeded with url: /v8/finance/chart/ONVO?range=1d&interval=1d (Caused by NewConnectionError('<urllib3.connection.HTTPSConnection object at 0x000001BCD5D7A3D0>: Failed to establish a new connection: [Errno 11001] getaddrinfo failed'))\n"
     ]
    },
    {
     "name": "stdout",
     "output_type": "stream",
     "text": [
      "[**********************91%%******************    ]  6731 of 7361 completed"
     ]
    },
    {
     "name": "stderr",
     "output_type": "stream",
     "text": [
      "Failed to get ticker 'THS' reason: HTTPSConnectionPool(host='query2.finance.yahoo.com', port=443): Max retries exceeded with url: /v8/finance/chart/THS?range=1d&interval=1d (Caused by NewConnectionError('<urllib3.connection.HTTPSConnection object at 0x000001BCD5DE5690>: Failed to establish a new connection: [Errno 11001] getaddrinfo failed'))\n"
     ]
    },
    {
     "name": "stdout",
     "output_type": "stream",
     "text": [
      "[**********************91%%******************    ]  6734 of 7361 completed"
     ]
    },
    {
     "name": "stderr",
     "output_type": "stream",
     "text": [
      "Failed to get ticker 'ZD' reason: HTTPSConnectionPool(host='query2.finance.yahoo.com', port=443): Max retries exceeded with url: /v8/finance/chart/ZD?range=1d&interval=1d (Caused by NewConnectionError('<urllib3.connection.HTTPSConnection object at 0x000001BCD5E0DA90>: Failed to establish a new connection: [Errno 11001] getaddrinfo failed'))\n",
      "Failed to get ticker 'EVGRU' reason: HTTPSConnectionPool(host='query2.finance.yahoo.com', port=443): Max retries exceeded with url: /v8/finance/chart/EVGRU?range=1d&interval=1d (Caused by NewConnectionError('<urllib3.connection.HTTPSConnection object at 0x000001BCD5E24A90>: Failed to establish a new connection: [Errno 11001] getaddrinfo failed'))\n"
     ]
    },
    {
     "name": "stdout",
     "output_type": "stream",
     "text": [
      "[**********************92%%******************    ]  6736 of 7361 completed"
     ]
    },
    {
     "name": "stderr",
     "output_type": "stream",
     "text": [
      "Failed to get ticker 'ACN' reason: HTTPSConnectionPool(host='query2.finance.yahoo.com', port=443): Max retries exceeded with url: /v8/finance/chart/ACN?range=1d&interval=1d (Caused by NewConnectionError('<urllib3.connection.HTTPSConnection object at 0x000001BCD5E26810>: Failed to establish a new connection: [Errno 11001] getaddrinfo failed'))\n",
      "Failed to get ticker 'CAN' reason: HTTPSConnectionPool(host='query2.finance.yahoo.com', port=443): Max retries exceeded with url: /v8/finance/chart/CAN?range=1d&interval=1d (Caused by NewConnectionError('<urllib3.connection.HTTPSConnection object at 0x000001BCBB6D4850>: Failed to establish a new connection: [Errno 11001] getaddrinfo failed'))\n"
     ]
    },
    {
     "name": "stdout",
     "output_type": "stream",
     "text": [
      "[**********************92%%******************    ]  6737 of 7361 completed"
     ]
    },
    {
     "name": "stderr",
     "output_type": "stream",
     "text": [
      "Failed to get ticker 'MUR' reason: HTTPSConnectionPool(host='query2.finance.yahoo.com', port=443): Max retries exceeded with url: /v8/finance/chart/MUR?range=1d&interval=1d (Caused by NewConnectionError('<urllib3.connection.HTTPSConnection object at 0x000001BCD5E00A50>: Failed to establish a new connection: [Errno 11001] getaddrinfo failed'))\n"
     ]
    },
    {
     "name": "stdout",
     "output_type": "stream",
     "text": [
      "[**********************92%%******************    ]  6738 of 7361 completed"
     ]
    },
    {
     "name": "stderr",
     "output_type": "stream",
     "text": [
      "Failed to get ticker 'NTZ' reason: HTTPSConnectionPool(host='query2.finance.yahoo.com', port=443): Max retries exceeded with url: /v8/finance/chart/NTZ?range=1d&interval=1d (Caused by NewConnectionError('<urllib3.connection.HTTPSConnection object at 0x000001BCCADED610>: Failed to establish a new connection: [Errno 11001] getaddrinfo failed'))\n"
     ]
    },
    {
     "name": "stdout",
     "output_type": "stream",
     "text": [
      "[**********************92%%******************    ]  6741 of 7361 completed"
     ]
    },
    {
     "name": "stderr",
     "output_type": "stream",
     "text": [
      "Failed to get ticker 'CCBG' reason: HTTPSConnectionPool(host='query2.finance.yahoo.com', port=443): Max retries exceeded with url: /v8/finance/chart/CCBG?range=1d&interval=1d (Caused by NewConnectionError('<urllib3.connection.HTTPSConnection object at 0x000001BCD5DE9690>: Failed to establish a new connection: [Errno 11001] getaddrinfo failed'))\n",
      "Failed to get ticker 'DMYY' reason: HTTPSConnectionPool(host='query2.finance.yahoo.com', port=443): Max retries exceeded with url: /v8/finance/chart/DMYY?range=1d&interval=1d (Caused by NewConnectionError('<urllib3.connection.HTTPSConnection object at 0x000001BCD5DEBC90>: Failed to establish a new connection: [Errno 11001] getaddrinfo failed'))\n"
     ]
    },
    {
     "name": "stdout",
     "output_type": "stream",
     "text": [
      "[**********************92%%******************    ]  6742 of 7361 completed"
     ]
    },
    {
     "name": "stderr",
     "output_type": "stream",
     "text": [
      "Failed to get ticker 'ZLS' reason: HTTPSConnectionPool(host='query2.finance.yahoo.com', port=443): Max retries exceeded with url: /v8/finance/chart/ZLS?range=1d&interval=1d (Caused by NewConnectionError('<urllib3.connection.HTTPSConnection object at 0x000001BCBB6C8B50>: Failed to establish a new connection: [Errno 11001] getaddrinfo failed'))\n",
      "Failed to get ticker 'BAC' reason: HTTPSConnectionPool(host='query2.finance.yahoo.com', port=443): Max retries exceeded with url: /v8/finance/chart/BAC?range=1d&interval=1d (Caused by NewConnectionError('<urllib3.connection.HTTPSConnection object at 0x000001BCD5DE9010>: Failed to establish a new connection: [Errno 11001] getaddrinfo failed'))\n"
     ]
    },
    {
     "name": "stdout",
     "output_type": "stream",
     "text": [
      "[**********************92%%******************    ]  6743 of 7361 completed"
     ]
    },
    {
     "name": "stderr",
     "output_type": "stream",
     "text": [
      "Failed to get ticker 'ASTE' reason: HTTPSConnectionPool(host='query2.finance.yahoo.com', port=443): Max retries exceeded with url: /v8/finance/chart/ASTE?range=1d&interval=1d (Caused by NewConnectionError('<urllib3.connection.HTTPSConnection object at 0x000001BCBB6A5E10>: Failed to establish a new connection: [Errno 11001] getaddrinfo failed'))\n"
     ]
    },
    {
     "name": "stdout",
     "output_type": "stream",
     "text": [
      "[**********************92%%******************    ]  6744 of 7361 completed"
     ]
    },
    {
     "name": "stderr",
     "output_type": "stream",
     "text": [
      "Failed to get ticker 'QOMOW' reason: HTTPSConnectionPool(host='query2.finance.yahoo.com', port=443): Max retries exceeded with url: /v8/finance/chart/QOMOW?range=1d&interval=1d (Caused by NewConnectionError('<urllib3.connection.HTTPSConnection object at 0x000001BCD5DFE890>: Failed to establish a new connection: [Errno 11001] getaddrinfo failed'))\n",
      "Failed to get ticker 'DNB' reason: HTTPSConnectionPool(host='query2.finance.yahoo.com', port=443): Max retries exceeded with url: /v8/finance/chart/DNB?range=1d&interval=1d (Caused by NewConnectionError('<urllib3.connection.HTTPSConnection object at 0x000001BCD5E25110>: Failed to establish a new connection: [Errno 11001] getaddrinfo failed'))\n"
     ]
    },
    {
     "name": "stdout",
     "output_type": "stream",
     "text": [
      "[**********************92%%******************    ]  6745 of 7361 completed"
     ]
    },
    {
     "name": "stderr",
     "output_type": "stream",
     "text": [
      "Failed to get ticker 'TYGO' reason: HTTPSConnectionPool(host='query2.finance.yahoo.com', port=443): Max retries exceeded with url: /v8/finance/chart/TYGO?range=1d&interval=1d (Caused by NewConnectionError('<urllib3.connection.HTTPSConnection object at 0x000001BCD5DE66D0>: Failed to establish a new connection: [Errno 11001] getaddrinfo failed'))\n",
      "Failed to get ticker 'PTPI' reason: HTTPSConnectionPool(host='query2.finance.yahoo.com', port=443): Max retries exceeded with url: /v8/finance/chart/PTPI?range=1d&interval=1d (Caused by NewConnectionError('<urllib3.connection.HTTPSConnection object at 0x000001BCD5D7B210>: Failed to establish a new connection: [Errno 11001] getaddrinfo failed'))\n"
     ]
    },
    {
     "name": "stdout",
     "output_type": "stream",
     "text": [
      "[**********************92%%******************    ]  6748 of 7361 completed"
     ]
    },
    {
     "name": "stderr",
     "output_type": "stream",
     "text": [
      "Failed to get ticker 'CROX' reason: HTTPSConnectionPool(host='query2.finance.yahoo.com', port=443): Max retries exceeded with url: /v8/finance/chart/CROX?range=1d&interval=1d (Caused by NewConnectionError('<urllib3.connection.HTTPSConnection object at 0x000001BCBA1CE9D0>: Failed to establish a new connection: [Errno 11001] getaddrinfo failed'))\n",
      "Failed to get ticker 'FLNC' reason: HTTPSConnectionPool(host='query2.finance.yahoo.com', port=443): Max retries exceeded with url: /v8/finance/chart/FLNC?range=1d&interval=1d (Caused by NewConnectionError('<urllib3.connection.HTTPSConnection object at 0x000001BCBB6CB610>: Failed to establish a new connection: [Errno 11001] getaddrinfo failed'))\n"
     ]
    },
    {
     "name": "stdout",
     "output_type": "stream",
     "text": [
      "[**********************92%%******************    ]  6751 of 7361 completed"
     ]
    },
    {
     "name": "stderr",
     "output_type": "stream",
     "text": [
      "Failed to get ticker 'TIRX' reason: HTTPSConnectionPool(host='query2.finance.yahoo.com', port=443): Max retries exceeded with url: /v8/finance/chart/TIRX?range=1d&interval=1d (Caused by NewConnectionError('<urllib3.connection.HTTPSConnection object at 0x000001BCBB6D6B90>: Failed to establish a new connection: [Errno 11001] getaddrinfo failed'))\n",
      "Failed to get ticker 'RFL' reason: HTTPSConnectionPool(host='query2.finance.yahoo.com', port=443): Max retries exceeded with url: /v8/finance/chart/RFL?range=1d&interval=1d (Caused by NewConnectionError('<urllib3.connection.HTTPSConnection object at 0x000001BCBB6CAD10>: Failed to establish a new connection: [Errno 11001] getaddrinfo failed'))\n"
     ]
    },
    {
     "name": "stdout",
     "output_type": "stream",
     "text": [
      "[**********************92%%******************    ]  6752 of 7361 completed"
     ]
    },
    {
     "name": "stderr",
     "output_type": "stream",
     "text": [
      "Failed to get ticker 'PRPO' reason: HTTPSConnectionPool(host='query2.finance.yahoo.com', port=443): Max retries exceeded with url: /v8/finance/chart/PRPO?range=1d&interval=1d (Caused by NewConnectionError('<urllib3.connection.HTTPSConnection object at 0x000001BCBB6C9A10>: Failed to establish a new connection: [Errno 11001] getaddrinfo failed'))\n"
     ]
    },
    {
     "name": "stdout",
     "output_type": "stream",
     "text": [
      "[**********************92%%******************    ]  6754 of 7361 completed"
     ]
    },
    {
     "name": "stderr",
     "output_type": "stream",
     "text": [
      "Failed to get ticker 'MBNKP' reason: HTTPSConnectionPool(host='query2.finance.yahoo.com', port=443): Max retries exceeded with url: /v8/finance/chart/MBNKP?range=1d&interval=1d (Caused by NewConnectionError('<urllib3.connection.HTTPSConnection object at 0x000001BCBB6D7310>: Failed to establish a new connection: [Errno 11001] getaddrinfo failed'))\n",
      "Failed to get ticker 'BMTX' reason: HTTPSConnectionPool(host='query2.finance.yahoo.com', port=443): Max retries exceeded with url: /v8/finance/chart/BMTX?range=1d&interval=1d (Caused by NewConnectionError('<urllib3.connection.HTTPSConnection object at 0x000001BCCBEF6C10>: Failed to establish a new connection: [Errno 11001] getaddrinfo failed'))\n",
      "Failed to get ticker 'RMBI' reason: HTTPSConnectionPool(host='query2.finance.yahoo.com', port=443): Max retries exceeded with url: /v8/finance/chart/RMBI?range=1d&interval=1d (Caused by NewConnectionError('<urllib3.connection.HTTPSConnection object at 0x000001BCBB6C2F90>: Failed to establish a new connection: [Errno 11001] getaddrinfo failed'))\n",
      "Failed to get ticker 'ROVR' reason: HTTPSConnectionPool(host='query2.finance.yahoo.com', port=443): Max retries exceeded with url: /v8/finance/chart/ROVR?range=1d&interval=1d (Caused by NewConnectionError('<urllib3.connection.HTTPSConnection object at 0x000001BCCBF77A50>: Failed to establish a new connection: [Errno 11001] getaddrinfo failed'))\n"
     ]
    },
    {
     "name": "stdout",
     "output_type": "stream",
     "text": [
      "[**********************92%%******************    ]  6757 of 7361 completed"
     ]
    },
    {
     "name": "stderr",
     "output_type": "stream",
     "text": [
      "Failed to get ticker 'MFIN' reason: HTTPSConnectionPool(host='query2.finance.yahoo.com', port=443): Max retries exceeded with url: /v8/finance/chart/MFIN?range=1d&interval=1d (Caused by NewConnectionError('<urllib3.connection.HTTPSConnection object at 0x000001BCBB6D49D0>: Failed to establish a new connection: [Errno 11001] getaddrinfo failed'))\n",
      "Failed to get ticker 'BBY' reason: HTTPSConnectionPool(host='query2.finance.yahoo.com', port=443): Max retries exceeded with url: /v8/finance/chart/BBY?range=1d&interval=1d (Caused by NewConnectionError('<urllib3.connection.HTTPSConnection object at 0x000001BCD5DFD090>: Failed to establish a new connection: [Errno 11001] getaddrinfo failed'))\n",
      "Failed to get ticker 'PLMIW' reason: HTTPSConnectionPool(host='query2.finance.yahoo.com', port=443): Max retries exceeded with url: /v8/finance/chart/PLMIW?range=1d&interval=1d (Caused by NewConnectionError('<urllib3.connection.HTTPSConnection object at 0x000001BCD5DDD310>: Failed to establish a new connection: [Errno 11001] getaddrinfo failed'))\n"
     ]
    },
    {
     "name": "stdout",
     "output_type": "stream",
     "text": [
      "[**********************92%%******************    ]  6761 of 7361 completed"
     ]
    },
    {
     "name": "stderr",
     "output_type": "stream",
     "text": [
      "Failed to get ticker 'PASG' reason: HTTPSConnectionPool(host='query2.finance.yahoo.com', port=443): Max retries exceeded with url: /v8/finance/chart/PASG?range=1d&interval=1d (Caused by NewConnectionError('<urllib3.connection.HTTPSConnection object at 0x000001BCBB6DA350>: Failed to establish a new connection: [Errno 11001] getaddrinfo failed'))\n",
      "Failed to get ticker 'FDBC' reason: HTTPSConnectionPool(host='query2.finance.yahoo.com', port=443): Max retries exceeded with url: /v8/finance/chart/FDBC?range=1d&interval=1d (Caused by NewConnectionError('<urllib3.connection.HTTPSConnection object at 0x000001BCD5DE9290>: Failed to establish a new connection: [Errno 11001] getaddrinfo failed'))\n",
      "Failed to get ticker 'SEPAW' reason: HTTPSConnectionPool(host='query2.finance.yahoo.com', port=443): Max retries exceeded with url: /v8/finance/chart/SEPAW?range=1d&interval=1d (Caused by NewConnectionError('<urllib3.connection.HTTPSConnection object at 0x000001BCBB6D8CD0>: Failed to establish a new connection: [Errno 11001] getaddrinfo failed'))\n"
     ]
    },
    {
     "name": "stdout",
     "output_type": "stream",
     "text": [
      "[**********************92%%******************    ]  6762 of 7361 completed"
     ]
    },
    {
     "name": "stderr",
     "output_type": "stream",
     "text": [
      "Failed to get ticker 'GBBK' reason: HTTPSConnectionPool(host='query2.finance.yahoo.com', port=443): Max retries exceeded with url: /v8/finance/chart/GBBK?range=1d&interval=1d (Caused by NewConnectionError('<urllib3.connection.HTTPSConnection object at 0x000001BCBB6DAFD0>: Failed to establish a new connection: [Errno 11001] getaddrinfo failed'))\n",
      "Failed to get ticker 'HSON' reason: HTTPSConnectionPool(host='query2.finance.yahoo.com', port=443): Max retries exceeded with url: /v8/finance/chart/HSON?range=1d&interval=1d (Caused by NewConnectionError('<urllib3.connection.HTTPSConnection object at 0x000001BCD5DFE090>: Failed to establish a new connection: [Errno 11001] getaddrinfo failed'))\n"
     ]
    },
    {
     "name": "stdout",
     "output_type": "stream",
     "text": [
      "[**********************92%%******************    ]  6763 of 7361 completed"
     ]
    },
    {
     "name": "stderr",
     "output_type": "stream",
     "text": [
      "Failed to get ticker 'LAZ' reason: HTTPSConnectionPool(host='query2.finance.yahoo.com', port=443): Max retries exceeded with url: /v8/finance/chart/LAZ?range=1d&interval=1d (Caused by NewConnectionError('<urllib3.connection.HTTPSConnection object at 0x000001BCD7EF7310>: Failed to establish a new connection: [Errno 11001] getaddrinfo failed'))\n"
     ]
    },
    {
     "name": "stdout",
     "output_type": "stream",
     "text": [
      "[**********************92%%******************    ]  6766 of 7361 completed"
     ]
    },
    {
     "name": "stderr",
     "output_type": "stream",
     "text": [
      "Failed to get ticker 'MLCO' reason: HTTPSConnectionPool(host='query2.finance.yahoo.com', port=443): Max retries exceeded with url: /v8/finance/chart/MLCO?range=1d&interval=1d (Caused by NewConnectionError('<urllib3.connection.HTTPSConnection object at 0x000001BCD4C3AB90>: Failed to establish a new connection: [Errno 11001] getaddrinfo failed'))\n"
     ]
    },
    {
     "name": "stdout",
     "output_type": "stream",
     "text": [
      "[**********************92%%******************    ]  6767 of 7361 completed"
     ]
    },
    {
     "name": "stderr",
     "output_type": "stream",
     "text": [
      "Failed to get ticker 'SGH' reason: HTTPSConnectionPool(host='query2.finance.yahoo.com', port=443): Max retries exceeded with url: /v8/finance/chart/SGH?range=1d&interval=1d (Caused by NewConnectionError('<urllib3.connection.HTTPSConnection object at 0x000001BCBB6D5C50>: Failed to establish a new connection: [Errno 11001] getaddrinfo failed'))\n",
      "Failed to get ticker 'GPACU' reason: HTTPSConnectionPool(host='query2.finance.yahoo.com', port=443): Max retries exceeded with url: /v8/finance/chart/GPACU?range=1d&interval=1d (Caused by NewConnectionError('<urllib3.connection.HTTPSConnection object at 0x000001BCD5E00550>: Failed to establish a new connection: [Errno 11001] getaddrinfo failed'))\n"
     ]
    },
    {
     "name": "stdout",
     "output_type": "stream",
     "text": [
      "[**********************92%%******************    ]  6769 of 7361 completed"
     ]
    },
    {
     "name": "stderr",
     "output_type": "stream",
     "text": [
      "Failed to get ticker 'JOBY' reason: HTTPSConnectionPool(host='query2.finance.yahoo.com', port=443): Max retries exceeded with url: /v8/finance/chart/JOBY?range=1d&interval=1d (Caused by NewConnectionError('<urllib3.connection.HTTPSConnection object at 0x000001BCD5DA3B90>: Failed to establish a new connection: [Errno 11001] getaddrinfo failed'))\n"
     ]
    },
    {
     "name": "stdout",
     "output_type": "stream",
     "text": [
      "[**********************92%%******************    ]  6770 of 7361 completed"
     ]
    },
    {
     "name": "stderr",
     "output_type": "stream",
     "text": [
      "Failed to get ticker 'CTSH' reason: HTTPSConnectionPool(host='query2.finance.yahoo.com', port=443): Max retries exceeded with url: /v8/finance/chart/CTSH?range=1d&interval=1d (Caused by NewConnectionError('<urllib3.connection.HTTPSConnection object at 0x000001BCD5DE5D90>: Failed to establish a new connection: [Errno 11001] getaddrinfo failed'))\n",
      "Failed to get ticker 'DMAC' reason: HTTPSConnectionPool(host='query2.finance.yahoo.com', port=443): Max retries exceeded with url: /v8/finance/chart/DMAC?range=1d&interval=1d (Caused by NewConnectionError('<urllib3.connection.HTTPSConnection object at 0x000001BCD5DFD090>: Failed to establish a new connection: [Errno 11001] getaddrinfo failed'))\n",
      "Failed to get ticker 'SIEN' reason: HTTPSConnectionPool(host='query2.finance.yahoo.com', port=443): Max retries exceeded with url: /v8/finance/chart/SIEN?range=1d&interval=1d (Caused by NewConnectionError('<urllib3.connection.HTTPSConnection object at 0x000001BCD7EF4310>: Failed to establish a new connection: [Errno 11001] getaddrinfo failed'))\n"
     ]
    },
    {
     "name": "stdout",
     "output_type": "stream",
     "text": [
      "[**********************92%%******************    ]  6773 of 7361 completed"
     ]
    },
    {
     "name": "stderr",
     "output_type": "stream",
     "text": [
      "Failed to get ticker 'NKSH' reason: HTTPSConnectionPool(host='query2.finance.yahoo.com', port=443): Max retries exceeded with url: /v8/finance/chart/NKSH?range=1d&interval=1d (Caused by NewConnectionError('<urllib3.connection.HTTPSConnection object at 0x000001BCB9EC7410>: Failed to establish a new connection: [Errno 11001] getaddrinfo failed'))\n"
     ]
    },
    {
     "name": "stdout",
     "output_type": "stream",
     "text": [
      "[**********************92%%******************    ]  6775 of 7361 completed"
     ]
    },
    {
     "name": "stderr",
     "output_type": "stream",
     "text": [
      "Failed to get ticker 'ACBAU' reason: HTTPSConnectionPool(host='query2.finance.yahoo.com', port=443): Max retries exceeded with url: /v8/finance/chart/ACBAU?range=1d&interval=1d (Caused by NewConnectionError('<urllib3.connection.HTTPSConnection object at 0x000001BCBB6D8650>: Failed to establish a new connection: [Errno 11001] getaddrinfo failed'))\n"
     ]
    },
    {
     "name": "stdout",
     "output_type": "stream",
     "text": [
      "[**********************92%%******************    ]  6776 of 7361 completed"
     ]
    },
    {
     "name": "stderr",
     "output_type": "stream",
     "text": [
      "Failed to get ticker 'CRVS' reason: HTTPSConnectionPool(host='query2.finance.yahoo.com', port=443): Max retries exceeded with url: /v8/finance/chart/CRVS?range=1d&interval=1d (Caused by NewConnectionError('<urllib3.connection.HTTPSConnection object at 0x000001BCD7EFDE50>: Failed to establish a new connection: [Errno 11001] getaddrinfo failed'))\n",
      "Failed to get ticker 'SP' reason: HTTPSConnectionPool(host='query2.finance.yahoo.com', port=443): Max retries exceeded with url: /v8/finance/chart/SP?range=1d&interval=1d (Caused by NewConnectionError('<urllib3.connection.HTTPSConnection object at 0x000001BCBB6E0050>: Failed to establish a new connection: [Errno 11001] getaddrinfo failed'))\n"
     ]
    },
    {
     "name": "stdout",
     "output_type": "stream",
     "text": [
      "[**********************92%%******************    ]  6777 of 7361 completed"
     ]
    },
    {
     "name": "stderr",
     "output_type": "stream",
     "text": [
      "Failed to get ticker 'LKQ' reason: HTTPSConnectionPool(host='query2.finance.yahoo.com', port=443): Max retries exceeded with url: /v8/finance/chart/LKQ?range=1d&interval=1d (Caused by NewConnectionError('<urllib3.connection.HTTPSConnection object at 0x000001BCD7EFFA10>: Failed to establish a new connection: [Errno 11001] getaddrinfo failed'))\n"
     ]
    },
    {
     "name": "stdout",
     "output_type": "stream",
     "text": [
      "[**********************92%%******************    ]  6778 of 7361 completed"
     ]
    },
    {
     "name": "stderr",
     "output_type": "stream",
     "text": [
      "Failed to get ticker 'GDL' reason: HTTPSConnectionPool(host='query2.finance.yahoo.com', port=443): Max retries exceeded with url: /v8/finance/chart/GDL?range=1d&interval=1d (Caused by NewConnectionError('<urllib3.connection.HTTPSConnection object at 0x000001BCBB6D74D0>: Failed to establish a new connection: [Errno 11001] getaddrinfo failed'))\n",
      "Failed to get ticker 'NTRSO' reason: HTTPSConnectionPool(host='query2.finance.yahoo.com', port=443): Max retries exceeded with url: /v8/finance/chart/NTRSO?range=1d&interval=1d (Caused by NewConnectionError('<urllib3.connection.HTTPSConnection object at 0x000001BCD7EFE450>: Failed to establish a new connection: [Errno 11001] getaddrinfo failed'))\n"
     ]
    },
    {
     "name": "stdout",
     "output_type": "stream",
     "text": [
      "[**********************92%%******************    ]  6780 of 7361 completed"
     ]
    },
    {
     "name": "stderr",
     "output_type": "stream",
     "text": [
      "Failed to get ticker 'CZNC' reason: HTTPSConnectionPool(host='query2.finance.yahoo.com', port=443): Max retries exceeded with url: /v8/finance/chart/CZNC?range=1d&interval=1d (Caused by NewConnectionError('<urllib3.connection.HTTPSConnection object at 0x000001BCBB6E1750>: Failed to establish a new connection: [Errno 11001] getaddrinfo failed'))\n"
     ]
    },
    {
     "name": "stdout",
     "output_type": "stream",
     "text": [
      "[**********************92%%******************    ]  6781 of 7361 completed"
     ]
    },
    {
     "name": "stderr",
     "output_type": "stream",
     "text": [
      "Failed to get ticker 'PAM' reason: HTTPSConnectionPool(host='query2.finance.yahoo.com', port=443): Max retries exceeded with url: /v8/finance/chart/PAM?range=1d&interval=1d (Caused by NewConnectionError('<urllib3.connection.HTTPSConnection object at 0x000001BCBB6E2090>: Failed to establish a new connection: [Errno 11001] getaddrinfo failed'))\n"
     ]
    },
    {
     "name": "stdout",
     "output_type": "stream",
     "text": [
      "[**********************92%%******************    ]  6781 of 7361 completed"
     ]
    },
    {
     "name": "stderr",
     "output_type": "stream",
     "text": [
      "Failed to get ticker 'BYNOU' reason: HTTPSConnectionPool(host='query2.finance.yahoo.com', port=443): Max retries exceeded with url: /v8/finance/chart/BYNOU?range=1d&interval=1d (Caused by NewConnectionError('<urllib3.connection.HTTPSConnection object at 0x000001BCD5E0D750>: Failed to establish a new connection: [Errno 11001] getaddrinfo failed'))\n"
     ]
    },
    {
     "name": "stdout",
     "output_type": "stream",
     "text": [
      "[**********************92%%******************    ]  6783 of 7361 completed"
     ]
    },
    {
     "name": "stderr",
     "output_type": "stream",
     "text": [
      "Failed to get ticker 'GBCI' reason: HTTPSConnectionPool(host='query2.finance.yahoo.com', port=443): Max retries exceeded with url: /v8/finance/chart/GBCI?range=1d&interval=1d (Caused by NewConnectionError('<urllib3.connection.HTTPSConnection object at 0x000001BCD5DE8BD0>: Failed to establish a new connection: [Errno 11001] getaddrinfo failed'))\n",
      "Failed to get ticker 'HCDIZ' reason: HTTPSConnectionPool(host='query2.finance.yahoo.com', port=443): Max retries exceeded with url: /v8/finance/chart/HCDIZ?range=1d&interval=1d (Caused by NewConnectionError('<urllib3.connection.HTTPSConnection object at 0x000001BCCD0E7F50>: Failed to establish a new connection: [Errno 11001] getaddrinfo failed'))\n"
     ]
    },
    {
     "name": "stdout",
     "output_type": "stream",
     "text": [
      "[**********************92%%******************    ]  6785 of 7361 completed"
     ]
    },
    {
     "name": "stderr",
     "output_type": "stream",
     "text": [
      "Failed to get ticker 'XPEL' reason: HTTPSConnectionPool(host='query2.finance.yahoo.com', port=443): Max retries exceeded with url: /v8/finance/chart/XPEL?range=1d&interval=1d (Caused by NewConnectionError('<urllib3.connection.HTTPSConnection object at 0x000001BCD5DFF410>: Failed to establish a new connection: [Errno 11001] getaddrinfo failed'))\n"
     ]
    },
    {
     "name": "stdout",
     "output_type": "stream",
     "text": [
      "[**********************92%%******************    ]  6785 of 7361 completed"
     ]
    },
    {
     "name": "stderr",
     "output_type": "stream",
     "text": [
      "Failed to get ticker 'TVE' reason: HTTPSConnectionPool(host='query2.finance.yahoo.com', port=443): Max retries exceeded with url: /v8/finance/chart/TVE?range=1d&interval=1d (Caused by NewConnectionError('<urllib3.connection.HTTPSConnection object at 0x000001BCD5D67E50>: Failed to establish a new connection: [Errno 11001] getaddrinfo failed'))\n"
     ]
    },
    {
     "name": "stdout",
     "output_type": "stream",
     "text": [
      "[**********************92%%******************    ]  6787 of 7361 completed"
     ]
    },
    {
     "name": "stderr",
     "output_type": "stream",
     "text": [
      "Failed to get ticker 'AYTU' reason: HTTPSConnectionPool(host='query2.finance.yahoo.com', port=443): Max retries exceeded with url: /v8/finance/chart/AYTU?range=1d&interval=1d (Caused by NewConnectionError('<urllib3.connection.HTTPSConnection object at 0x000001BCBB6E1C50>: Failed to establish a new connection: [Errno 11001] getaddrinfo failed'))\n"
     ]
    },
    {
     "name": "stdout",
     "output_type": "stream",
     "text": [
      "[**********************92%%******************    ]  6788 of 7361 completed"
     ]
    },
    {
     "name": "stderr",
     "output_type": "stream",
     "text": [
      "Failed to get ticker 'CZR' reason: HTTPSConnectionPool(host='query2.finance.yahoo.com', port=443): Max retries exceeded with url: /v8/finance/chart/CZR?range=1d&interval=1d (Caused by NewConnectionError('<urllib3.connection.HTTPSConnection object at 0x000001BCD7F184D0>: Failed to establish a new connection: [Errno 11001] getaddrinfo failed'))\n",
      "Failed to get ticker 'PSTX' reason: HTTPSConnectionPool(host='query2.finance.yahoo.com', port=443): Max retries exceeded with url: /v8/finance/chart/PSTX?range=1d&interval=1d (Caused by NewConnectionError('<urllib3.connection.HTTPSConnection object at 0x000001BCD7EF4BD0>: Failed to establish a new connection: [Errno 11001] getaddrinfo failed'))\n"
     ]
    },
    {
     "name": "stdout",
     "output_type": "stream",
     "text": [
      "[**********************92%%******************    ]  6790 of 7361 completed"
     ]
    },
    {
     "name": "stderr",
     "output_type": "stream",
     "text": [
      "Failed to get ticker 'ANAB' reason: HTTPSConnectionPool(host='query2.finance.yahoo.com', port=443): Max retries exceeded with url: /v8/finance/chart/ANAB?range=1d&interval=1d (Caused by NewConnectionError('<urllib3.connection.HTTPSConnection object at 0x000001BCBB6D5F10>: Failed to establish a new connection: [Errno 11001] getaddrinfo failed'))\n"
     ]
    },
    {
     "name": "stdout",
     "output_type": "stream",
     "text": [
      "[**********************92%%******************    ]  6791 of 7361 completed"
     ]
    },
    {
     "name": "stderr",
     "output_type": "stream",
     "text": [
      "Failed to get ticker 'TRP' reason: HTTPSConnectionPool(host='query2.finance.yahoo.com', port=443): Max retries exceeded with url: /v8/finance/chart/TRP?range=1d&interval=1d (Caused by NewConnectionError('<urllib3.connection.HTTPSConnection object at 0x000001BCBB6E1450>: Failed to establish a new connection: [Errno 11001] getaddrinfo failed'))\n"
     ]
    },
    {
     "name": "stdout",
     "output_type": "stream",
     "text": [
      "[**********************92%%******************    ]  6792 of 7361 completed"
     ]
    },
    {
     "name": "stderr",
     "output_type": "stream",
     "text": [
      "Failed to get ticker 'CRESW' reason: HTTPSConnectionPool(host='query2.finance.yahoo.com', port=443): Max retries exceeded with url: /v8/finance/chart/CRESW?range=1d&interval=1d (Caused by NewConnectionError('<urllib3.connection.HTTPSConnection object at 0x000001BCD5E27ED0>: Failed to establish a new connection: [Errno 11001] getaddrinfo failed'))\n"
     ]
    },
    {
     "name": "stdout",
     "output_type": "stream",
     "text": [
      "[**********************92%%******************    ]  6793 of 7361 completed"
     ]
    },
    {
     "name": "stderr",
     "output_type": "stream",
     "text": [
      "Failed to get ticker 'AIO' reason: HTTPSConnectionPool(host='query2.finance.yahoo.com', port=443): Max retries exceeded with url: /v8/finance/chart/AIO?range=1d&interval=1d (Caused by NewConnectionError('<urllib3.connection.HTTPSConnection object at 0x000001BCD5D7BBD0>: Failed to establish a new connection: [Errno 11001] getaddrinfo failed'))\n"
     ]
    },
    {
     "name": "stdout",
     "output_type": "stream",
     "text": [
      "[**********************92%%******************    ]  6794 of 7361 completed"
     ]
    },
    {
     "name": "stderr",
     "output_type": "stream",
     "text": [
      "Failed to get ticker 'OMI' reason: HTTPSConnectionPool(host='query2.finance.yahoo.com', port=443): Max retries exceeded with url: /v8/finance/chart/OMI?range=1d&interval=1d (Caused by NewConnectionError('<urllib3.connection.HTTPSConnection object at 0x000001BCD7EFF150>: Failed to establish a new connection: [Errno 11001] getaddrinfo failed'))\n"
     ]
    },
    {
     "name": "stdout",
     "output_type": "stream",
     "text": [
      "[**********************92%%******************    ]  6796 of 7361 completed"
     ]
    },
    {
     "name": "stderr",
     "output_type": "stream",
     "text": [
      "Failed to get ticker 'AIP' reason: HTTPSConnectionPool(host='query2.finance.yahoo.com', port=443): Max retries exceeded with url: /v8/finance/chart/AIP?range=1d&interval=1d (Caused by NewConnectionError('<urllib3.connection.HTTPSConnection object at 0x000001BCBB6E5050>: Failed to establish a new connection: [Errno 11001] getaddrinfo failed'))\n",
      "Failed to get ticker 'HHRS' reason: HTTPSConnectionPool(host='query2.finance.yahoo.com', port=443): Max retries exceeded with url: /v8/finance/chart/HHRS?range=1d&interval=1d (Caused by NewConnectionError('<urllib3.connection.HTTPSConnection object at 0x000001BCBB51A0D0>: Failed to establish a new connection: [Errno 11001] getaddrinfo failed'))\n"
     ]
    },
    {
     "name": "stdout",
     "output_type": "stream",
     "text": [
      "[**********************92%%******************    ]  6797 of 7361 completed"
     ]
    },
    {
     "name": "stderr",
     "output_type": "stream",
     "text": [
      "Failed to get ticker 'NLSPW' reason: HTTPSConnectionPool(host='query2.finance.yahoo.com', port=443): Max retries exceeded with url: /v8/finance/chart/NLSPW?range=1d&interval=1d (Caused by NewConnectionError('<urllib3.connection.HTTPSConnection object at 0x000001BCBB6E37D0>: Failed to establish a new connection: [Errno 11001] getaddrinfo failed'))\n"
     ]
    },
    {
     "name": "stdout",
     "output_type": "stream",
     "text": [
      "[**********************92%%******************    ]  6798 of 7361 completed"
     ]
    },
    {
     "name": "stderr",
     "output_type": "stream",
     "text": [
      "Failed to get ticker 'BDSX' reason: HTTPSConnectionPool(host='query2.finance.yahoo.com', port=443): Max retries exceeded with url: /v8/finance/chart/BDSX?range=1d&interval=1d (Caused by NewConnectionError('<urllib3.connection.HTTPSConnection object at 0x000001BCBB6E15D0>: Failed to establish a new connection: [Errno 11001] getaddrinfo failed'))\n",
      "Failed to get ticker 'ATLX' reason: HTTPSConnectionPool(host='query2.finance.yahoo.com', port=443): Max retries exceeded with url: /v8/finance/chart/ATLX?range=1d&interval=1d (Caused by NewConnectionError('<urllib3.connection.HTTPSConnection object at 0x000001BCBB6E5550>: Failed to establish a new connection: [Errno 11001] getaddrinfo failed'))\n"
     ]
    },
    {
     "name": "stdout",
     "output_type": "stream",
     "text": [
      "[**********************92%%******************    ]  6800 of 7361 completed"
     ]
    },
    {
     "name": "stderr",
     "output_type": "stream",
     "text": [
      "Failed to get ticker 'PLPC' reason: HTTPSConnectionPool(host='query2.finance.yahoo.com', port=443): Max retries exceeded with url: /v8/finance/chart/PLPC?range=1d&interval=1d (Caused by NewConnectionError('<urllib3.connection.HTTPSConnection object at 0x000001BCD7F188D0>: Failed to establish a new connection: [Errno 11001] getaddrinfo failed'))\n"
     ]
    },
    {
     "name": "stdout",
     "output_type": "stream",
     "text": [
      "[**********************92%%******************    ]  6802 of 7361 completed"
     ]
    },
    {
     "name": "stderr",
     "output_type": "stream",
     "text": [
      "Failed to get ticker 'STM' reason: HTTPSConnectionPool(host='query2.finance.yahoo.com', port=443): Max retries exceeded with url: /v8/finance/chart/STM?range=1d&interval=1d (Caused by NewConnectionError('<urllib3.connection.HTTPSConnection object at 0x000001BCD5DEA9D0>: Failed to establish a new connection: [Errno 11001] getaddrinfo failed'))\n",
      "Failed to get ticker 'UFPI' reason: HTTPSConnectionPool(host='query2.finance.yahoo.com', port=443): Max retries exceeded with url: /v8/finance/chart/UFPI?range=1d&interval=1d (Caused by NewConnectionError('<urllib3.connection.HTTPSConnection object at 0x000001BCBB6C8AD0>: Failed to establish a new connection: [Errno 11001] getaddrinfo failed'))\n",
      "Failed to get ticker 'CAAP' reason: HTTPSConnectionPool(host='query2.finance.yahoo.com', port=443): Max retries exceeded with url: /v8/finance/chart/CAAP?range=1d&interval=1d (Caused by NewConnectionError('<urllib3.connection.HTTPSConnection object at 0x000001BCBB6E2C10>: Failed to establish a new connection: [Errno 11001] getaddrinfo failed'))\n"
     ]
    },
    {
     "name": "stdout",
     "output_type": "stream",
     "text": [
      "[**********************92%%******************    ]  6803 of 7361 completed"
     ]
    },
    {
     "name": "stderr",
     "output_type": "stream",
     "text": [
      "Failed to get ticker 'BWMN' reason: HTTPSConnectionPool(host='query2.finance.yahoo.com', port=443): Max retries exceeded with url: /v8/finance/chart/BWMN?range=1d&interval=1d (Caused by NewConnectionError('<urllib3.connection.HTTPSConnection object at 0x000001BCBB6D8150>: Failed to establish a new connection: [Errno 11001] getaddrinfo failed'))\n"
     ]
    },
    {
     "name": "stdout",
     "output_type": "stream",
     "text": [
      "[**********************92%%******************    ]  6805 of 7361 completed"
     ]
    },
    {
     "name": "stderr",
     "output_type": "stream",
     "text": [
      "Failed to get ticker 'USOI' reason: HTTPSConnectionPool(host='query2.finance.yahoo.com', port=443): Max retries exceeded with url: /v8/finance/chart/USOI?range=1d&interval=1d (Caused by NewConnectionError('<urllib3.connection.HTTPSConnection object at 0x000001BCD5DEB690>: Failed to establish a new connection: [Errno 11001] getaddrinfo failed'))\n"
     ]
    },
    {
     "name": "stdout",
     "output_type": "stream",
     "text": [
      "[**********************92%%******************    ]  6806 of 7361 completed"
     ]
    },
    {
     "name": "stderr",
     "output_type": "stream",
     "text": [
      "Failed to get ticker 'CIX' reason: HTTPSConnectionPool(host='query2.finance.yahoo.com', port=443): Max retries exceeded with url: /v8/finance/chart/CIX?range=1d&interval=1d (Caused by NewConnectionError('<urllib3.connection.HTTPSConnection object at 0x000001BCBB6E3F50>: Failed to establish a new connection: [Errno 11001] getaddrinfo failed'))\n"
     ]
    },
    {
     "name": "stdout",
     "output_type": "stream",
     "text": [
      "[**********************92%%******************    ]  6807 of 7361 completed"
     ]
    },
    {
     "name": "stderr",
     "output_type": "stream",
     "text": [
      "Failed to get ticker 'WDC' reason: HTTPSConnectionPool(host='query2.finance.yahoo.com', port=443): Max retries exceeded with url: /v8/finance/chart/WDC?range=1d&interval=1d (Caused by NewConnectionError('<urllib3.connection.HTTPSConnection object at 0x000001BCBB6DA490>: Failed to establish a new connection: [Errno 11001] getaddrinfo failed'))\n"
     ]
    },
    {
     "name": "stdout",
     "output_type": "stream",
     "text": [
      "[**********************92%%******************    ]  6808 of 7361 completed"
     ]
    },
    {
     "name": "stderr",
     "output_type": "stream",
     "text": [
      "Failed to get ticker 'ADMA' reason: HTTPSConnectionPool(host='query2.finance.yahoo.com', port=443): Max retries exceeded with url: /v8/finance/chart/ADMA?range=1d&interval=1d (Caused by NewConnectionError('<urllib3.connection.HTTPSConnection object at 0x000001BCBB6DB5D0>: Failed to establish a new connection: [Errno 11001] getaddrinfo failed'))\n"
     ]
    },
    {
     "name": "stdout",
     "output_type": "stream",
     "text": [
      "[**********************93%%*******************   ]  6809 of 7361 completed"
     ]
    },
    {
     "name": "stderr",
     "output_type": "stream",
     "text": [
      "Failed to get ticker 'HL' reason: HTTPSConnectionPool(host='query2.finance.yahoo.com', port=443): Max retries exceeded with url: /v8/finance/chart/HL?range=1d&interval=1d (Caused by NewConnectionError('<urllib3.connection.HTTPSConnection object at 0x000001BCBB6E3110>: Failed to establish a new connection: [Errno 11001] getaddrinfo failed'))\n"
     ]
    },
    {
     "name": "stdout",
     "output_type": "stream",
     "text": [
      "[**********************93%%*******************   ]  6810 of 7361 completed"
     ]
    },
    {
     "name": "stderr",
     "output_type": "stream",
     "text": [
      "Failed to get ticker 'PPYA' reason: HTTPSConnectionPool(host='query2.finance.yahoo.com', port=443): Max retries exceeded with url: /v8/finance/chart/PPYA?range=1d&interval=1d (Caused by NewConnectionError('<urllib3.connection.HTTPSConnection object at 0x000001BCBB6E5290>: Failed to establish a new connection: [Errno 11001] getaddrinfo failed'))\n",
      "Failed to get ticker 'TTP' reason: HTTPSConnectionPool(host='query2.finance.yahoo.com', port=443): Max retries exceeded with url: /v8/finance/chart/TTP?range=1d&interval=1d (Caused by NewConnectionError('<urllib3.connection.HTTPSConnection object at 0x000001BCBB6E74D0>: Failed to establish a new connection: [Errno 11001] getaddrinfo failed'))\n"
     ]
    },
    {
     "name": "stdout",
     "output_type": "stream",
     "text": [
      "[**********************93%%*******************   ]  6813 of 7361 completed"
     ]
    },
    {
     "name": "stderr",
     "output_type": "stream",
     "text": [
      "Failed to get ticker 'KELYB' reason: HTTPSConnectionPool(host='query2.finance.yahoo.com', port=443): Max retries exceeded with url: /v8/finance/chart/KELYB?range=1d&interval=1d (Caused by NewConnectionError('<urllib3.connection.HTTPSConnection object at 0x000001BCBB6D78D0>: Failed to establish a new connection: [Errno 11001] getaddrinfo failed'))\n",
      "Failed to get ticker 'QOMOR' reason: HTTPSConnectionPool(host='query2.finance.yahoo.com', port=443): Max retries exceeded with url: /v8/finance/chart/QOMOR?range=1d&interval=1d (Caused by NewConnectionError('<urllib3.connection.HTTPSConnection object at 0x000001BCD7F0B390>: Failed to establish a new connection: [Errno 11001] getaddrinfo failed'))\n"
     ]
    },
    {
     "name": "stdout",
     "output_type": "stream",
     "text": [
      "[**********************93%%*******************   ]  6814 of 7361 completed"
     ]
    },
    {
     "name": "stderr",
     "output_type": "stream",
     "text": [
      "Failed to get ticker 'TPX' reason: HTTPSConnectionPool(host='query2.finance.yahoo.com', port=443): Max retries exceeded with url: /v8/finance/chart/TPX?range=1d&interval=1d (Caused by NewConnectionError('<urllib3.connection.HTTPSConnection object at 0x000001BCD7EFEDD0>: Failed to establish a new connection: [Errno 11001] getaddrinfo failed'))\n",
      "Failed to get ticker 'AROC' reason: HTTPSConnectionPool(host='query2.finance.yahoo.com', port=443): Max retries exceeded with url: /v8/finance/chart/AROC?range=1d&interval=1d (Caused by NewConnectionError('<urllib3.connection.HTTPSConnection object at 0x000001BCD7EFDF50>: Failed to establish a new connection: [Errno 11001] getaddrinfo failed'))\n",
      "Failed to get ticker 'CVLY' reason: HTTPSConnectionPool(host='query2.finance.yahoo.com', port=443): Max retries exceeded with url: /v8/finance/chart/CVLY?range=1d&interval=1d (Caused by NewConnectionError('<urllib3.connection.HTTPSConnection object at 0x000001BCD7F21290>: Failed to establish a new connection: [Errno 11001] getaddrinfo failed'))\n"
     ]
    },
    {
     "name": "stdout",
     "output_type": "stream",
     "text": [
      "[**********************93%%*******************   ]  6816 of 7361 completed"
     ]
    },
    {
     "name": "stderr",
     "output_type": "stream",
     "text": [
      "Failed to get ticker 'CHCI' reason: HTTPSConnectionPool(host='query2.finance.yahoo.com', port=443): Max retries exceeded with url: /v8/finance/chart/CHCI?range=1d&interval=1d (Caused by NewConnectionError('<urllib3.connection.HTTPSConnection object at 0x000001BCD7EF71D0>: Failed to establish a new connection: [Errno 11001] getaddrinfo failed'))\n"
     ]
    },
    {
     "name": "stdout",
     "output_type": "stream",
     "text": [
      "[**********************93%%*******************   ]  6818 of 7361 completed"
     ]
    },
    {
     "name": "stderr",
     "output_type": "stream",
     "text": [
      "Failed to get ticker 'ASCBW' reason: HTTPSConnectionPool(host='query2.finance.yahoo.com', port=443): Max retries exceeded with url: /v8/finance/chart/ASCBW?range=1d&interval=1d (Caused by NewConnectionError('<urllib3.connection.HTTPSConnection object at 0x000001BCD7F338D0>: Failed to establish a new connection: [Errno 11001] getaddrinfo failed'))\n"
     ]
    },
    {
     "name": "stdout",
     "output_type": "stream",
     "text": [
      "[**********************93%%*******************   ]  6819 of 7361 completed"
     ]
    },
    {
     "name": "stderr",
     "output_type": "stream",
     "text": [
      "Failed to get ticker 'BXRX' reason: HTTPSConnectionPool(host='query2.finance.yahoo.com', port=443): Max retries exceeded with url: /v8/finance/chart/BXRX?range=1d&interval=1d (Caused by NewConnectionError('<urllib3.connection.HTTPSConnection object at 0x000001BCBB6D7210>: Failed to establish a new connection: [Errno 11001] getaddrinfo failed'))\n"
     ]
    },
    {
     "name": "stdout",
     "output_type": "stream",
     "text": [
      "[**********************93%%*******************   ]  6820 of 7361 completed"
     ]
    },
    {
     "name": "stderr",
     "output_type": "stream",
     "text": [
      "Failed to get ticker 'CSSEL' reason: HTTPSConnectionPool(host='query2.finance.yahoo.com', port=443): Max retries exceeded with url: /v8/finance/chart/CSSEL?range=1d&interval=1d (Caused by NewConnectionError('<urllib3.connection.HTTPSConnection object at 0x000001BCBB6D7110>: Failed to establish a new connection: [Errno 11001] getaddrinfo failed'))\n"
     ]
    },
    {
     "name": "stdout",
     "output_type": "stream",
     "text": [
      "[**********************93%%*******************   ]  6821 of 7361 completed"
     ]
    },
    {
     "name": "stderr",
     "output_type": "stream",
     "text": [
      "Failed to get ticker 'MOB' reason: HTTPSConnectionPool(host='query2.finance.yahoo.com', port=443): Max retries exceeded with url: /v8/finance/chart/MOB?range=1d&interval=1d (Caused by NewConnectionError('<urllib3.connection.HTTPSConnection object at 0x000001BCD5DD8490>: Failed to establish a new connection: [Errno 11001] getaddrinfo failed'))\n",
      "Failed to get ticker 'OXSQG' reason: HTTPSConnectionPool(host='query2.finance.yahoo.com', port=443): Max retries exceeded with url: /v8/finance/chart/OXSQG?range=1d&interval=1d (Caused by NewConnectionError('<urllib3.connection.HTTPSConnection object at 0x000001BCBB6E7890>: Failed to establish a new connection: [Errno 11001] getaddrinfo failed'))\n"
     ]
    },
    {
     "name": "stdout",
     "output_type": "stream",
     "text": [
      "[**********************93%%*******************   ]  6822 of 7361 completed"
     ]
    },
    {
     "name": "stderr",
     "output_type": "stream",
     "text": [
      "Failed to get ticker 'BE' reason: HTTPSConnectionPool(host='query2.finance.yahoo.com', port=443): Max retries exceeded with url: /v8/finance/chart/BE?range=1d&interval=1d (Caused by NewConnectionError('<urllib3.connection.HTTPSConnection object at 0x000001BCBB6E3010>: Failed to establish a new connection: [Errno 11001] getaddrinfo failed'))\n"
     ]
    },
    {
     "name": "stdout",
     "output_type": "stream",
     "text": [
      "[**********************93%%*******************   ]  6823 of 7361 completed"
     ]
    },
    {
     "name": "stderr",
     "output_type": "stream",
     "text": [
      "Failed to get ticker 'WELL' reason: HTTPSConnectionPool(host='query2.finance.yahoo.com', port=443): Max retries exceeded with url: /v8/finance/chart/WELL?range=1d&interval=1d (Caused by NewConnectionError('<urllib3.connection.HTTPSConnection object at 0x000001BCD7F08910>: Failed to establish a new connection: [Errno 11001] getaddrinfo failed'))\n"
     ]
    },
    {
     "name": "stdout",
     "output_type": "stream",
     "text": [
      "[**********************93%%*******************   ]  6825 of 7361 completed"
     ]
    },
    {
     "name": "stderr",
     "output_type": "stream",
     "text": [
      "Failed to get ticker 'EXPE' reason: HTTPSConnectionPool(host='query2.finance.yahoo.com', port=443): Max retries exceeded with url: /v8/finance/chart/EXPE?range=1d&interval=1d (Caused by NewConnectionError('<urllib3.connection.HTTPSConnection object at 0x000001BCBB6E5C10>: Failed to establish a new connection: [Errno 11001] getaddrinfo failed'))\n"
     ]
    },
    {
     "name": "stdout",
     "output_type": "stream",
     "text": [
      "[**********************93%%*******************   ]  6826 of 7361 completed"
     ]
    },
    {
     "name": "stderr",
     "output_type": "stream",
     "text": [
      "Failed to get ticker 'PXDT' reason: HTTPSConnectionPool(host='query2.finance.yahoo.com', port=443): Max retries exceeded with url: /v8/finance/chart/PXDT?range=1d&interval=1d (Caused by NewConnectionError('<urllib3.connection.HTTPSConnection object at 0x000001BCD7F20910>: Failed to establish a new connection: [Errno 11001] getaddrinfo failed'))\n",
      "Failed to get ticker 'SB' reason: HTTPSConnectionPool(host='query2.finance.yahoo.com', port=443): Max retries exceeded with url: /v8/finance/chart/SB?range=1d&interval=1d (Caused by NewConnectionError('<urllib3.connection.HTTPSConnection object at 0x000001BCBA1A4E50>: Failed to establish a new connection: [Errno 11001] getaddrinfo failed'))\n"
     ]
    },
    {
     "name": "stdout",
     "output_type": "stream",
     "text": [
      "[**********************93%%*******************   ]  6827 of 7361 completed"
     ]
    },
    {
     "name": "stderr",
     "output_type": "stream",
     "text": [
      "Failed to get ticker 'NPABW' reason: HTTPSConnectionPool(host='query2.finance.yahoo.com', port=443): Max retries exceeded with url: /v8/finance/chart/NPABW?range=1d&interval=1d (Caused by NewConnectionError('<urllib3.connection.HTTPSConnection object at 0x000001BCBB6E28D0>: Failed to establish a new connection: [Errno 11001] getaddrinfo failed'))\n"
     ]
    },
    {
     "name": "stdout",
     "output_type": "stream",
     "text": [
      "[**********************93%%*******************   ]  6829 of 7361 completed"
     ]
    },
    {
     "name": "stderr",
     "output_type": "stream",
     "text": [
      "Failed to get ticker 'LEG' reason: HTTPSConnectionPool(host='query2.finance.yahoo.com', port=443): Max retries exceeded with url: /v8/finance/chart/LEG?range=1d&interval=1d (Caused by NewConnectionError('<urllib3.connection.HTTPSConnection object at 0x000001BCBB4D17D0>: Failed to establish a new connection: [Errno 11001] getaddrinfo failed'))\n",
      "Failed to get ticker 'STAA' reason: HTTPSConnectionPool(host='query2.finance.yahoo.com', port=443): Max retries exceeded with url: /v8/finance/chart/STAA?range=1d&interval=1d (Caused by NewConnectionError('<urllib3.connection.HTTPSConnection object at 0x000001BCBB6D5310>: Failed to establish a new connection: [Errno 11001] getaddrinfo failed'))\n"
     ]
    },
    {
     "name": "stdout",
     "output_type": "stream",
     "text": [
      "[**********************93%%*******************   ]  6831 of 7361 completed"
     ]
    },
    {
     "name": "stderr",
     "output_type": "stream",
     "text": [
      "Failed to get ticker 'WBA' reason: HTTPSConnectionPool(host='query2.finance.yahoo.com', port=443): Max retries exceeded with url: /v8/finance/chart/WBA?range=1d&interval=1d (Caused by NewConnectionError('<urllib3.connection.HTTPSConnection object at 0x000001BCD7F47550>: Failed to establish a new connection: [Errno 11001] getaddrinfo failed'))\n",
      "Failed to get ticker 'LIFW' reason: HTTPSConnectionPool(host='query2.finance.yahoo.com', port=443): Max retries exceeded with url: /v8/finance/chart/LIFW?range=1d&interval=1d (Caused by NewConnectionError('<urllib3.connection.HTTPSConnection object at 0x000001BCD4C191D0>: Failed to establish a new connection: [Errno 11001] getaddrinfo failed'))\n"
     ]
    },
    {
     "name": "stdout",
     "output_type": "stream",
     "text": [
      "[**********************93%%*******************   ]  6834 of 7361 completed"
     ]
    },
    {
     "name": "stderr",
     "output_type": "stream",
     "text": [
      "Failed to get ticker 'EXLS' reason: HTTPSConnectionPool(host='query2.finance.yahoo.com', port=443): Max retries exceeded with url: /v8/finance/chart/EXLS?range=1d&interval=1d (Caused by NewConnectionError('<urllib3.connection.HTTPSConnection object at 0x000001BCD7EFF150>: Failed to establish a new connection: [Errno 11001] getaddrinfo failed'))\n"
     ]
    },
    {
     "name": "stdout",
     "output_type": "stream",
     "text": [
      "[**********************93%%*******************   ]  6835 of 7361 completed"
     ]
    },
    {
     "name": "stderr",
     "output_type": "stream",
     "text": [
      "Failed to get ticker 'NIC' reason: HTTPSConnectionPool(host='query2.finance.yahoo.com', port=443): Max retries exceeded with url: /v8/finance/chart/NIC?range=1d&interval=1d (Caused by NewConnectionError('<urllib3.connection.HTTPSConnection object at 0x000001BCD7F20D50>: Failed to establish a new connection: [Errno 11001] getaddrinfo failed'))\n",
      "Failed to get ticker 'AAPL' reason: HTTPSConnectionPool(host='query2.finance.yahoo.com', port=443): Max retries exceeded with url: /v8/finance/chart/AAPL?range=1d&interval=1d (Caused by NewConnectionError('<urllib3.connection.HTTPSConnection object at 0x000001BCD7F23850>: Failed to establish a new connection: [Errno 11001] getaddrinfo failed'))\n",
      "Failed to get ticker 'SECO' reason: HTTPSConnectionPool(host='query2.finance.yahoo.com', port=443): Max retries exceeded with url: /v8/finance/chart/SECO?range=1d&interval=1d (Caused by NewConnectionError('<urllib3.connection.HTTPSConnection object at 0x000001BCD5DFDAD0>: Failed to establish a new connection: [Errno 11001] getaddrinfo failed'))\n"
     ]
    },
    {
     "name": "stdout",
     "output_type": "stream",
     "text": [
      "[**********************93%%*******************   ]  6836 of 7361 completed"
     ]
    },
    {
     "name": "stderr",
     "output_type": "stream",
     "text": [
      "Failed to get ticker 'CRBU' reason: HTTPSConnectionPool(host='query2.finance.yahoo.com', port=443): Max retries exceeded with url: /v8/finance/chart/CRBU?range=1d&interval=1d (Caused by NewConnectionError('<urllib3.connection.HTTPSConnection object at 0x000001BCD5DDE590>: Failed to establish a new connection: [Errno 11001] getaddrinfo failed'))\n"
     ]
    },
    {
     "name": "stdout",
     "output_type": "stream",
     "text": [
      "[**********************93%%*******************   ]  6839 of 7361 completed"
     ]
    },
    {
     "name": "stderr",
     "output_type": "stream",
     "text": [
      "Failed to get ticker 'AMAT' reason: HTTPSConnectionPool(host='query2.finance.yahoo.com', port=443): Max retries exceeded with url: /v8/finance/chart/AMAT?range=1d&interval=1d (Caused by NewConnectionError('<urllib3.connection.HTTPSConnection object at 0x000001BCBB6D9190>: Failed to establish a new connection: [Errno 11001] getaddrinfo failed'))\n"
     ]
    },
    {
     "name": "stdout",
     "output_type": "stream",
     "text": [
      "[**********************93%%*******************   ]  6840 of 7361 completed"
     ]
    },
    {
     "name": "stderr",
     "output_type": "stream",
     "text": [
      "Failed to get ticker 'LC' reason: HTTPSConnectionPool(host='query2.finance.yahoo.com', port=443): Max retries exceeded with url: /v8/finance/chart/LC?range=1d&interval=1d (Caused by NewConnectionError('<urllib3.connection.HTTPSConnection object at 0x000001BCD7EFD950>: Failed to establish a new connection: [Errno 11001] getaddrinfo failed'))\n",
      "Failed to get ticker 'PRGO' reason: HTTPSConnectionPool(host='query2.finance.yahoo.com', port=443): Max retries exceeded with url: /v8/finance/chart/PRGO?range=1d&interval=1d (Caused by NewConnectionError('<urllib3.connection.HTTPSConnection object at 0x000001BCBB6E4750>: Failed to establish a new connection: [Errno 11001] getaddrinfo failed'))\n"
     ]
    },
    {
     "name": "stdout",
     "output_type": "stream",
     "text": [
      "[**********************93%%*******************   ]  6841 of 7361 completed"
     ]
    },
    {
     "name": "stderr",
     "output_type": "stream",
     "text": [
      "Failed to get ticker 'TCN' reason: HTTPSConnectionPool(host='query2.finance.yahoo.com', port=443): Max retries exceeded with url: /v8/finance/chart/TCN?range=1d&interval=1d (Caused by NewConnectionError('<urllib3.connection.HTTPSConnection object at 0x000001BCD7F45E50>: Failed to establish a new connection: [Errno 11001] getaddrinfo failed'))\n"
     ]
    },
    {
     "name": "stdout",
     "output_type": "stream",
     "text": [
      "[**********************93%%*******************   ]  6842 of 7361 completed"
     ]
    },
    {
     "name": "stderr",
     "output_type": "stream",
     "text": [
      "Failed to get ticker 'SATS' reason: HTTPSConnectionPool(host='query2.finance.yahoo.com', port=443): Max retries exceeded with url: /v8/finance/chart/SATS?range=1d&interval=1d (Caused by NewConnectionError('<urllib3.connection.HTTPSConnection object at 0x000001BCBB6E0890>: Failed to establish a new connection: [Errno 11001] getaddrinfo failed'))\n"
     ]
    },
    {
     "name": "stdout",
     "output_type": "stream",
     "text": [
      "[**********************93%%*******************   ]  6844 of 7361 completed"
     ]
    },
    {
     "name": "stderr",
     "output_type": "stream",
     "text": [
      "Failed to get ticker 'CTBB' reason: HTTPSConnectionPool(host='query2.finance.yahoo.com', port=443): Max retries exceeded with url: /v8/finance/chart/CTBB?range=1d&interval=1d (Caused by NewConnectionError('<urllib3.connection.HTTPSConnection object at 0x000001BCBB6E5E90>: Failed to establish a new connection: [Errno 11001] getaddrinfo failed'))\n"
     ]
    },
    {
     "name": "stdout",
     "output_type": "stream",
     "text": [
      "[**********************93%%*******************   ]  6845 of 7361 completed"
     ]
    },
    {
     "name": "stderr",
     "output_type": "stream",
     "text": [
      "Failed to get ticker 'NFBK' reason: HTTPSConnectionPool(host='query2.finance.yahoo.com', port=443): Max retries exceeded with url: /v8/finance/chart/NFBK?range=1d&interval=1d (Caused by NewConnectionError('<urllib3.connection.HTTPSConnection object at 0x000001BCD7F22D50>: Failed to establish a new connection: [Errno 11001] getaddrinfo failed'))\n",
      "Failed to get ticker 'RELL' reason: HTTPSConnectionPool(host='query2.finance.yahoo.com', port=443): Max retries exceeded with url: /v8/finance/chart/RELL?range=1d&interval=1d (Caused by NewConnectionError('<urllib3.connection.HTTPSConnection object at 0x000001BCD7F23210>: Failed to establish a new connection: [Errno 11001] getaddrinfo failed'))\n",
      "Failed to get ticker 'HAIAU' reason: HTTPSConnectionPool(host='query2.finance.yahoo.com', port=443): Max retries exceeded with url: /v8/finance/chart/HAIAU?range=1d&interval=1d (Caused by NewConnectionError('<urllib3.connection.HTTPSConnection object at 0x000001BCD7F23E90>: Failed to establish a new connection: [Errno 11001] getaddrinfo failed'))\n"
     ]
    },
    {
     "name": "stdout",
     "output_type": "stream",
     "text": [
      "[**********************93%%*******************   ]  6846 of 7361 completed"
     ]
    },
    {
     "name": "stderr",
     "output_type": "stream",
     "text": [
      "Failed to get ticker 'OCG' reason: HTTPSConnectionPool(host='query2.finance.yahoo.com', port=443): Max retries exceeded with url: /v8/finance/chart/OCG?range=1d&interval=1d (Caused by NewConnectionError('<urllib3.connection.HTTPSConnection object at 0x000001BCD7EFEB90>: Failed to establish a new connection: [Errno 11001] getaddrinfo failed'))\n"
     ]
    },
    {
     "name": "stdout",
     "output_type": "stream",
     "text": [
      "[**********************93%%*******************   ]  6848 of 7361 completed"
     ]
    },
    {
     "name": "stderr",
     "output_type": "stream",
     "text": [
      "Failed to get ticker 'OXY' reason: HTTPSConnectionPool(host='query2.finance.yahoo.com', port=443): Max retries exceeded with url: /v8/finance/chart/OXY?range=1d&interval=1d (Caused by NewConnectionError('<urllib3.connection.HTTPSConnection object at 0x000001BCD7EFD890>: Failed to establish a new connection: [Errno 11001] getaddrinfo failed'))\n"
     ]
    },
    {
     "name": "stdout",
     "output_type": "stream",
     "text": [
      "[**********************93%%*******************   ]  6850 of 7361 completed"
     ]
    },
    {
     "name": "stderr",
     "output_type": "stream",
     "text": [
      "Failed to get ticker 'SIMO' reason: HTTPSConnectionPool(host='query2.finance.yahoo.com', port=443): Max retries exceeded with url: /v8/finance/chart/SIMO?range=1d&interval=1d (Caused by NewConnectionError('<urllib3.connection.HTTPSConnection object at 0x000001BCD7F56910>: Failed to establish a new connection: [Errno 11001] getaddrinfo failed'))\n",
      "Failed to get ticker 'BTTR' reason: HTTPSConnectionPool(host='query2.finance.yahoo.com', port=443): Max retries exceeded with url: /v8/finance/chart/BTTR?range=1d&interval=1d (Caused by NewConnectionError('<urllib3.connection.HTTPSConnection object at 0x000001BCBB6E2890>: Failed to establish a new connection: [Errno 11001] getaddrinfo failed'))\n",
      "Failed to get ticker 'BRP' reason: HTTPSConnectionPool(host='query2.finance.yahoo.com', port=443): Max retries exceeded with url: /v8/finance/chart/BRP?range=1d&interval=1d (Caused by NewConnectionError('<urllib3.connection.HTTPSConnection object at 0x000001BCD7F49450>: Failed to establish a new connection: [Errno 11001] getaddrinfo failed'))\n"
     ]
    },
    {
     "name": "stdout",
     "output_type": "stream",
     "text": [
      "[**********************93%%*******************   ]  6851 of 7361 completed"
     ]
    },
    {
     "name": "stderr",
     "output_type": "stream",
     "text": [
      "Failed to get ticker 'KAI' reason: HTTPSConnectionPool(host='query2.finance.yahoo.com', port=443): Max retries exceeded with url: /v8/finance/chart/KAI?range=1d&interval=1d (Caused by NewConnectionError('<urllib3.connection.HTTPSConnection object at 0x000001BCD7F49910>: Failed to establish a new connection: [Errno 11001] getaddrinfo failed'))\n",
      "Failed to get ticker 'CLPT' reason: HTTPSConnectionPool(host='query2.finance.yahoo.com', port=443): Max retries exceeded with url: /v8/finance/chart/CLPT?range=1d&interval=1d (Caused by NewConnectionError('<urllib3.connection.HTTPSConnection object at 0x000001BCD5DC47D0>: Failed to establish a new connection: [Errno 11001] getaddrinfo failed'))\n"
     ]
    },
    {
     "name": "stdout",
     "output_type": "stream",
     "text": [
      "[**********************93%%*******************   ]  6855 of 7361 completed"
     ]
    },
    {
     "name": "stderr",
     "output_type": "stream",
     "text": [
      "Failed to get ticker 'INVZW' reason: HTTPSConnectionPool(host='query2.finance.yahoo.com', port=443): Max retries exceeded with url: /v8/finance/chart/INVZW?range=1d&interval=1d (Caused by NewConnectionError('<urllib3.connection.HTTPSConnection object at 0x000001BCD7F23910>: Failed to establish a new connection: [Errno 11001] getaddrinfo failed'))\n"
     ]
    },
    {
     "name": "stdout",
     "output_type": "stream",
     "text": [
      "[**********************93%%*******************   ]  6856 of 7361 completed"
     ]
    },
    {
     "name": "stderr",
     "output_type": "stream",
     "text": [
      "Failed to get ticker 'RBOT' reason: HTTPSConnectionPool(host='query2.finance.yahoo.com', port=443): Max retries exceeded with url: /v8/finance/chart/RBOT?range=1d&interval=1d (Caused by NewConnectionError('<urllib3.connection.HTTPSConnection object at 0x000001BCD5D58690>: Failed to establish a new connection: [Errno 11001] getaddrinfo failed'))\n",
      "Failed to get ticker 'CALB' reason: HTTPSConnectionPool(host='query2.finance.yahoo.com', port=443): Max retries exceeded with url: /v8/finance/chart/CALB?range=1d&interval=1d (Caused by NewConnectionError('<urllib3.connection.HTTPSConnection object at 0x000001BCD7EFEB50>: Failed to establish a new connection: [Errno 11001] getaddrinfo failed'))\n"
     ]
    },
    {
     "name": "stdout",
     "output_type": "stream",
     "text": [
      "[**********************93%%*******************   ]  6857 of 7361 completed"
     ]
    },
    {
     "name": "stderr",
     "output_type": "stream",
     "text": [
      "Failed to get ticker 'VMAR' reason: HTTPSConnectionPool(host='query2.finance.yahoo.com', port=443): Max retries exceeded with url: /v8/finance/chart/VMAR?range=1d&interval=1d (Caused by NewConnectionError('<urllib3.connection.HTTPSConnection object at 0x000001BCD7EFDA50>: Failed to establish a new connection: [Errno 11001] getaddrinfo failed'))\n"
     ]
    },
    {
     "name": "stdout",
     "output_type": "stream",
     "text": [
      "[**********************93%%*******************   ]  6858 of 7361 completed"
     ]
    },
    {
     "name": "stderr",
     "output_type": "stream",
     "text": [
      "Failed to get ticker 'GNE' reason: HTTPSConnectionPool(host='query2.finance.yahoo.com', port=443): Max retries exceeded with url: /v8/finance/chart/GNE?range=1d&interval=1d (Caused by NewConnectionError('<urllib3.connection.HTTPSConnection object at 0x000001BCD7EFE450>: Failed to establish a new connection: [Errno 11001] getaddrinfo failed'))\n"
     ]
    },
    {
     "name": "stdout",
     "output_type": "stream",
     "text": [
      "[**********************93%%*******************   ]  6859 of 7361 completed"
     ]
    },
    {
     "name": "stderr",
     "output_type": "stream",
     "text": [
      "Failed to get ticker 'AGNCM' reason: HTTPSConnectionPool(host='query2.finance.yahoo.com', port=443): Max retries exceeded with url: /v8/finance/chart/AGNCM?range=1d&interval=1d (Caused by NewConnectionError('<urllib3.connection.HTTPSConnection object at 0x000001BCD7F46D50>: Failed to establish a new connection: [Errno 11001] getaddrinfo failed'))\n",
      "Failed to get ticker 'HHS' reason: HTTPSConnectionPool(host='query2.finance.yahoo.com', port=443): Max retries exceeded with url: /v8/finance/chart/HHS?range=1d&interval=1d (Caused by NewConnectionError('<urllib3.connection.HTTPSConnection object at 0x000001BCD7EFE550>: Failed to establish a new connection: [Errno 11001] getaddrinfo failed'))\n"
     ]
    },
    {
     "name": "stdout",
     "output_type": "stream",
     "text": [
      "[**********************93%%*******************   ]  6861 of 7361 completed"
     ]
    },
    {
     "name": "stderr",
     "output_type": "stream",
     "text": [
      "Failed to get ticker 'KYCHR' reason: HTTPSConnectionPool(host='query2.finance.yahoo.com', port=443): Max retries exceeded with url: /v8/finance/chart/KYCHR?range=1d&interval=1d (Caused by NewConnectionError('<urllib3.connection.HTTPSConnection object at 0x000001BCD7F56250>: Failed to establish a new connection: [Errno 11001] getaddrinfo failed'))\n",
      "Failed to get ticker 'OKE' reason: HTTPSConnectionPool(host='query2.finance.yahoo.com', port=443): Max retries exceeded with url: /v8/finance/chart/OKE?range=1d&interval=1d (Caused by NewConnectionError('<urllib3.connection.HTTPSConnection object at 0x000001BCD5D7E3D0>: Failed to establish a new connection: [Errno 11001] getaddrinfo failed'))\n"
     ]
    },
    {
     "name": "stdout",
     "output_type": "stream",
     "text": [
      "[**********************93%%*******************   ]  6864 of 7361 completed"
     ]
    },
    {
     "name": "stderr",
     "output_type": "stream",
     "text": [
      "Failed to get ticker 'GILT' reason: HTTPSConnectionPool(host='query2.finance.yahoo.com', port=443): Max retries exceeded with url: /v8/finance/chart/GILT?range=1d&interval=1d (Caused by NewConnectionError('<urllib3.connection.HTTPSConnection object at 0x000001BCD7F30B50>: Failed to establish a new connection: [Errno 11001] getaddrinfo failed'))\n",
      "Failed to get ticker 'TMTC' reason: HTTPSConnectionPool(host='query2.finance.yahoo.com', port=443): Max retries exceeded with url: /v8/finance/chart/TMTC?range=1d&interval=1d (Caused by NewConnectionError('<urllib3.connection.HTTPSConnection object at 0x000001BCBB6DBB50>: Failed to establish a new connection: [Errno 11001] getaddrinfo failed'))\n"
     ]
    },
    {
     "name": "stdout",
     "output_type": "stream",
     "text": [
      "[**********************93%%*******************   ]  6865 of 7361 completed"
     ]
    },
    {
     "name": "stderr",
     "output_type": "stream",
     "text": [
      "Failed to get ticker 'NXT' reason: HTTPSConnectionPool(host='query2.finance.yahoo.com', port=443): Max retries exceeded with url: /v8/finance/chart/NXT?range=1d&interval=1d (Caused by NewConnectionError('<urllib3.connection.HTTPSConnection object at 0x000001BCD7F22790>: Failed to establish a new connection: [Errno 11001] getaddrinfo failed'))\n"
     ]
    },
    {
     "name": "stdout",
     "output_type": "stream",
     "text": [
      "[**********************93%%*******************   ]  6866 of 7361 completed"
     ]
    },
    {
     "name": "stderr",
     "output_type": "stream",
     "text": [
      "Failed to get ticker 'ARWR' reason: HTTPSConnectionPool(host='query2.finance.yahoo.com', port=443): Max retries exceeded with url: /v8/finance/chart/ARWR?range=1d&interval=1d (Caused by NewConnectionError('<urllib3.connection.HTTPSConnection object at 0x000001BCD5D5A7D0>: Failed to establish a new connection: [Errno 11001] getaddrinfo failed'))\n"
     ]
    },
    {
     "name": "stdout",
     "output_type": "stream",
     "text": [
      "[**********************93%%*******************   ]  6867 of 7361 completed"
     ]
    },
    {
     "name": "stderr",
     "output_type": "stream",
     "text": [
      "Failed to get ticker 'MBTCU' reason: HTTPSConnectionPool(host='query2.finance.yahoo.com', port=443): Max retries exceeded with url: /v8/finance/chart/MBTCU?range=1d&interval=1d (Caused by NewConnectionError('<urllib3.connection.HTTPSConnection object at 0x000001BCD7F4AB90>: Failed to establish a new connection: [Errno 11001] getaddrinfo failed'))\n",
      "Failed to get ticker 'ARIZW' reason: HTTPSConnectionPool(host='query2.finance.yahoo.com', port=443): Max retries exceeded with url: /v8/finance/chart/ARIZW?range=1d&interval=1d (Caused by NewConnectionError('<urllib3.connection.HTTPSConnection object at 0x000001BCD7F21B50>: Failed to establish a new connection: [Errno 11001] getaddrinfo failed'))\n"
     ]
    },
    {
     "name": "stdout",
     "output_type": "stream",
     "text": [
      "[**********************93%%*******************   ]  6868 of 7361 completed"
     ]
    },
    {
     "name": "stderr",
     "output_type": "stream",
     "text": [
      "Failed to get ticker 'MUC' reason: HTTPSConnectionPool(host='query2.finance.yahoo.com', port=443): Max retries exceeded with url: /v8/finance/chart/MUC?range=1d&interval=1d (Caused by NewConnectionError('<urllib3.connection.HTTPSConnection object at 0x000001BCD7F22850>: Failed to establish a new connection: [Errno 11001] getaddrinfo failed'))\n"
     ]
    },
    {
     "name": "stdout",
     "output_type": "stream",
     "text": [
      "[**********************93%%*******************   ]  6870 of 7361 completed"
     ]
    },
    {
     "name": "stderr",
     "output_type": "stream",
     "text": [
      "Failed to get ticker 'ACAH' reason: HTTPSConnectionPool(host='query2.finance.yahoo.com', port=443): Max retries exceeded with url: /v8/finance/chart/ACAH?range=1d&interval=1d (Caused by NewConnectionError('<urllib3.connection.HTTPSConnection object at 0x000001BCD7F56250>: Failed to establish a new connection: [Errno 11001] getaddrinfo failed'))\n"
     ]
    },
    {
     "name": "stdout",
     "output_type": "stream",
     "text": [
      "[**********************93%%*******************   ]  6871 of 7361 completed"
     ]
    },
    {
     "name": "stderr",
     "output_type": "stream",
     "text": [
      "Failed to get ticker 'JSM' reason: HTTPSConnectionPool(host='query2.finance.yahoo.com', port=443): Max retries exceeded with url: /v8/finance/chart/JSM?range=1d&interval=1d (Caused by NewConnectionError('<urllib3.connection.HTTPSConnection object at 0x000001BCD7F44A50>: Failed to establish a new connection: [Errno 11001] getaddrinfo failed'))\n"
     ]
    },
    {
     "name": "stdout",
     "output_type": "stream",
     "text": [
      "[**********************93%%*******************   ]  6873 of 7361 completed"
     ]
    },
    {
     "name": "stderr",
     "output_type": "stream",
     "text": [
      "Failed to get ticker 'SAVE' reason: HTTPSConnectionPool(host='query2.finance.yahoo.com', port=443): Max retries exceeded with url: /v8/finance/chart/SAVE?range=1d&interval=1d (Caused by NewConnectionError('<urllib3.connection.HTTPSConnection object at 0x000001BCBB6DBAD0>: Failed to establish a new connection: [Errno 11001] getaddrinfo failed'))\n",
      "Failed to get ticker 'WRNT' reason: HTTPSConnectionPool(host='query2.finance.yahoo.com', port=443): Max retries exceeded with url: /v8/finance/chart/WRNT?range=1d&interval=1d (Caused by NewConnectionError('<urllib3.connection.HTTPSConnection object at 0x000001BCBB6D6010>: Failed to establish a new connection: [Errno 11001] getaddrinfo failed'))\n"
     ]
    },
    {
     "name": "stdout",
     "output_type": "stream",
     "text": [
      "[**********************93%%*******************   ]  6874 of 7361 completed"
     ]
    },
    {
     "name": "stderr",
     "output_type": "stream",
     "text": [
      "Failed to get ticker 'SGBX' reason: HTTPSConnectionPool(host='query2.finance.yahoo.com', port=443): Max retries exceeded with url: /v8/finance/chart/SGBX?range=1d&interval=1d (Caused by NewConnectionError('<urllib3.connection.HTTPSConnection object at 0x000001BCBB6E4FD0>: Failed to establish a new connection: [Errno 11001] getaddrinfo failed'))\n"
     ]
    },
    {
     "name": "stdout",
     "output_type": "stream",
     "text": [
      "[**********************93%%*******************   ]  6875 of 7361 completed"
     ]
    },
    {
     "name": "stderr",
     "output_type": "stream",
     "text": [
      "Failed to get ticker 'IVCPU' reason: HTTPSConnectionPool(host='query2.finance.yahoo.com', port=443): Max retries exceeded with url: /v8/finance/chart/IVCPU?range=1d&interval=1d (Caused by NewConnectionError('<urllib3.connection.HTTPSConnection object at 0x000001BCBB6E0D10>: Failed to establish a new connection: [Errno 11001] getaddrinfo failed'))\n"
     ]
    },
    {
     "name": "stdout",
     "output_type": "stream",
     "text": [
      "[**********************93%%*******************   ]  6876 of 7361 completed"
     ]
    },
    {
     "name": "stderr",
     "output_type": "stream",
     "text": [
      "Failed to get ticker 'NRIM' reason: HTTPSConnectionPool(host='query2.finance.yahoo.com', port=443): Max retries exceeded with url: /v8/finance/chart/NRIM?range=1d&interval=1d (Caused by NewConnectionError('<urllib3.connection.HTTPSConnection object at 0x000001BCBB6E6950>: Failed to establish a new connection: [Errno 11001] getaddrinfo failed'))\n",
      "Failed to get ticker 'UP' reason: HTTPSConnectionPool(host='query2.finance.yahoo.com', port=443): Max retries exceeded with url: /v8/finance/chart/UP?range=1d&interval=1d (Caused by NewConnectionError('<urllib3.connection.HTTPSConnection object at 0x000001BCD7F22010>: Failed to establish a new connection: [Errno 11001] getaddrinfo failed'))\n"
     ]
    },
    {
     "name": "stdout",
     "output_type": "stream",
     "text": [
      "[**********************93%%*******************   ]  6878 of 7361 completed"
     ]
    },
    {
     "name": "stderr",
     "output_type": "stream",
     "text": [
      "Failed to get ticker 'ADRT' reason: HTTPSConnectionPool(host='query2.finance.yahoo.com', port=443): Max retries exceeded with url: /v8/finance/chart/ADRT?range=1d&interval=1d (Caused by NewConnectionError('<urllib3.connection.HTTPSConnection object at 0x000001BCD7F56310>: Failed to establish a new connection: [Errno 11001] getaddrinfo failed'))\n"
     ]
    },
    {
     "name": "stdout",
     "output_type": "stream",
     "text": [
      "[**********************93%%*******************   ]  6879 of 7361 completed"
     ]
    },
    {
     "name": "stderr",
     "output_type": "stream",
     "text": [
      "Failed to get ticker 'PDLB' reason: HTTPSConnectionPool(host='query2.finance.yahoo.com', port=443): Max retries exceeded with url: /v8/finance/chart/PDLB?range=1d&interval=1d (Caused by NewConnectionError('<urllib3.connection.HTTPSConnection object at 0x000001BCD7F23C50>: Failed to establish a new connection: [Errno 11001] getaddrinfo failed'))\n"
     ]
    },
    {
     "name": "stdout",
     "output_type": "stream",
     "text": [
      "[**********************93%%*******************   ]  6880 of 7361 completed"
     ]
    },
    {
     "name": "stderr",
     "output_type": "stream",
     "text": [
      "Failed to get ticker 'INDI' reason: HTTPSConnectionPool(host='query2.finance.yahoo.com', port=443): Max retries exceeded with url: /v8/finance/chart/INDI?range=1d&interval=1d (Caused by NewConnectionError('<urllib3.connection.HTTPSConnection object at 0x000001BCBB6D9ED0>: Failed to establish a new connection: [Errno 11001] getaddrinfo failed'))\n",
      "Failed to get ticker 'LIVBU' reason: HTTPSConnectionPool(host='query2.finance.yahoo.com', port=443): Max retries exceeded with url: /v8/finance/chart/LIVBU?range=1d&interval=1d (Caused by NewConnectionError('<urllib3.connection.HTTPSConnection object at 0x000001BCBB6D58D0>: Failed to establish a new connection: [Errno 11001] getaddrinfo failed'))\n"
     ]
    },
    {
     "name": "stdout",
     "output_type": "stream",
     "text": [
      "[**********************93%%*******************   ]  6882 of 7361 completed"
     ]
    },
    {
     "name": "stderr",
     "output_type": "stream",
     "text": [
      "Failed to get ticker 'WBX' reason: HTTPSConnectionPool(host='query2.finance.yahoo.com', port=443): Max retries exceeded with url: /v8/finance/chart/WBX?range=1d&interval=1d (Caused by NewConnectionError('<urllib3.connection.HTTPSConnection object at 0x000001BCBB6E6190>: Failed to establish a new connection: [Errno 11001] getaddrinfo failed'))\n",
      "Failed to get ticker 'PFTA' reason: HTTPSConnectionPool(host='query2.finance.yahoo.com', port=443): Max retries exceeded with url: /v8/finance/chart/PFTA?range=1d&interval=1d (Caused by NewConnectionError('<urllib3.connection.HTTPSConnection object at 0x000001BCBB6CBB90>: Failed to establish a new connection: [Errno 11001] getaddrinfo failed'))\n"
     ]
    },
    {
     "name": "stdout",
     "output_type": "stream",
     "text": [
      "[**********************94%%*******************   ]  6883 of 7361 completed"
     ]
    },
    {
     "name": "stderr",
     "output_type": "stream",
     "text": [
      "Failed to get ticker 'PAXS' reason: HTTPSConnectionPool(host='query2.finance.yahoo.com', port=443): Max retries exceeded with url: /v8/finance/chart/PAXS?range=1d&interval=1d (Caused by NewConnectionError('<urllib3.connection.HTTPSConnection object at 0x000001BCD0659910>: Failed to establish a new connection: [Errno 11001] getaddrinfo failed'))\n"
     ]
    },
    {
     "name": "stdout",
     "output_type": "stream",
     "text": [
      "[**********************94%%*******************   ]  6885 of 7361 completed"
     ]
    },
    {
     "name": "stderr",
     "output_type": "stream",
     "text": [
      "Failed to get ticker 'GHY' reason: HTTPSConnectionPool(host='query2.finance.yahoo.com', port=443): Max retries exceeded with url: /v8/finance/chart/GHY?range=1d&interval=1d (Caused by NewConnectionError('<urllib3.connection.HTTPSConnection object at 0x000001BCD7F48C10>: Failed to establish a new connection: [Errno 11001] getaddrinfo failed'))\n"
     ]
    },
    {
     "name": "stdout",
     "output_type": "stream",
     "text": [
      "[**********************94%%*******************   ]  6886 of 7361 completed"
     ]
    },
    {
     "name": "stderr",
     "output_type": "stream",
     "text": [
      "Failed to get ticker 'HUDA' reason: HTTPSConnectionPool(host='query2.finance.yahoo.com', port=443): Max retries exceeded with url: /v8/finance/chart/HUDA?range=1d&interval=1d (Caused by NewConnectionError('<urllib3.connection.HTTPSConnection object at 0x000001BCD7F492D0>: Failed to establish a new connection: [Errno 11001] getaddrinfo failed'))\n"
     ]
    },
    {
     "name": "stdout",
     "output_type": "stream",
     "text": [
      "[**********************94%%*******************   ]  6887 of 7361 completed"
     ]
    },
    {
     "name": "stderr",
     "output_type": "stream",
     "text": [
      "Failed to get ticker 'BGB' reason: HTTPSConnectionPool(host='query2.finance.yahoo.com', port=443): Max retries exceeded with url: /v8/finance/chart/BGB?range=1d&interval=1d (Caused by NewConnectionError('<urllib3.connection.HTTPSConnection object at 0x000001BCD7F64290>: Failed to establish a new connection: [Errno 11001] getaddrinfo failed'))\n"
     ]
    },
    {
     "name": "stdout",
     "output_type": "stream",
     "text": [
      "[**********************94%%*******************   ]  6888 of 7361 completed"
     ]
    },
    {
     "name": "stderr",
     "output_type": "stream",
     "text": [
      "Failed to get ticker 'ISRG' reason: HTTPSConnectionPool(host='query2.finance.yahoo.com', port=443): Max retries exceeded with url: /v8/finance/chart/ISRG?range=1d&interval=1d (Caused by NewConnectionError('<urllib3.connection.HTTPSConnection object at 0x000001BCD7F4B910>: Failed to establish a new connection: [Errno 11001] getaddrinfo failed'))\n",
      "Failed to get ticker 'NYCB' reason: HTTPSConnectionPool(host='query2.finance.yahoo.com', port=443): Max retries exceeded with url: /v8/finance/chart/NYCB?range=1d&interval=1d (Caused by NewConnectionError('<urllib3.connection.HTTPSConnection object at 0x000001BCD7F813D0>: Failed to establish a new connection: [Errno 11001] getaddrinfo failed'))\n",
      "Failed to get ticker 'NGD' reason: HTTPSConnectionPool(host='query2.finance.yahoo.com', port=443): Max retries exceeded with url: /v8/finance/chart/NGD?range=1d&interval=1d (Caused by NewConnectionError('<urllib3.connection.HTTPSConnection object at 0x000001BCD7F66A50>: Failed to establish a new connection: [Errno 11001] getaddrinfo failed'))\n"
     ]
    },
    {
     "name": "stdout",
     "output_type": "stream",
     "text": [
      "[**********************94%%*******************   ]  6889 of 7361 completed"
     ]
    },
    {
     "name": "stderr",
     "output_type": "stream",
     "text": [
      "Failed to get ticker 'ASGI' reason: HTTPSConnectionPool(host='query2.finance.yahoo.com', port=443): Max retries exceeded with url: /v8/finance/chart/ASGI?range=1d&interval=1d (Caused by NewConnectionError('<urllib3.connection.HTTPSConnection object at 0x000001BCD7F5D550>: Failed to establish a new connection: [Errno 11001] getaddrinfo failed'))\n"
     ]
    },
    {
     "name": "stdout",
     "output_type": "stream",
     "text": [
      "[**********************94%%*******************   ]  6889 of 7361 completed"
     ]
    },
    {
     "name": "stderr",
     "output_type": "stream",
     "text": [
      "Failed to get ticker 'EPM' reason: HTTPSConnectionPool(host='query2.finance.yahoo.com', port=443): Max retries exceeded with url: /v8/finance/chart/EPM?range=1d&interval=1d (Caused by NewConnectionError('<urllib3.connection.HTTPSConnection object at 0x000001BCD5DFEA90>: Failed to establish a new connection: [Errno 11001] getaddrinfo failed'))\n"
     ]
    },
    {
     "name": "stdout",
     "output_type": "stream",
     "text": [
      "[**********************94%%*******************   ]  6891 of 7361 completed"
     ]
    },
    {
     "name": "stderr",
     "output_type": "stream",
     "text": [
      "Failed to get ticker 'HYMCW' reason: HTTPSConnectionPool(host='query2.finance.yahoo.com', port=443): Max retries exceeded with url: /v8/finance/chart/HYMCW?range=1d&interval=1d (Caused by NewConnectionError('<urllib3.connection.HTTPSConnection object at 0x000001BCD7F47550>: Failed to establish a new connection: [Errno 11001] getaddrinfo failed'))\n"
     ]
    },
    {
     "name": "stdout",
     "output_type": "stream",
     "text": [
      "[**********************94%%*******************   ]  6893 of 7361 completed"
     ]
    },
    {
     "name": "stderr",
     "output_type": "stream",
     "text": [
      "Failed to get ticker 'RGP' reason: HTTPSConnectionPool(host='query2.finance.yahoo.com', port=443): Max retries exceeded with url: /v8/finance/chart/RGP?range=1d&interval=1d (Caused by NewConnectionError('<urllib3.connection.HTTPSConnection object at 0x000001BCD7F31F10>: Failed to establish a new connection: [Errno 11001] getaddrinfo failed'))\n",
      "Failed to get ticker 'ENIC' reason: HTTPSConnectionPool(host='query2.finance.yahoo.com', port=443): Max retries exceeded with url: /v8/finance/chart/ENIC?range=1d&interval=1d (Caused by NewConnectionError('<urllib3.connection.HTTPSConnection object at 0x000001BCD7EF5F90>: Failed to establish a new connection: [Errno 11001] getaddrinfo failed'))\n"
     ]
    },
    {
     "name": "stdout",
     "output_type": "stream",
     "text": [
      "[**********************94%%*******************   ]  6895 of 7361 completed"
     ]
    },
    {
     "name": "stderr",
     "output_type": "stream",
     "text": [
      "Failed to get ticker 'FDEU' reason: HTTPSConnectionPool(host='query2.finance.yahoo.com', port=443): Max retries exceeded with url: /v8/finance/chart/FDEU?range=1d&interval=1d (Caused by NewConnectionError('<urllib3.connection.HTTPSConnection object at 0x000001BCBB6E4B10>: Failed to establish a new connection: [Errno 11001] getaddrinfo failed'))\n"
     ]
    },
    {
     "name": "stdout",
     "output_type": "stream",
     "text": [
      "[**********************94%%*******************   ]  6896 of 7361 completed"
     ]
    },
    {
     "name": "stderr",
     "output_type": "stream",
     "text": [
      "Failed to get ticker 'GLLIR' reason: HTTPSConnectionPool(host='query2.finance.yahoo.com', port=443): Max retries exceeded with url: /v8/finance/chart/GLLIR?range=1d&interval=1d (Caused by NewConnectionError('<urllib3.connection.HTTPSConnection object at 0x000001BCD7F56CD0>: Failed to establish a new connection: [Errno 11001] getaddrinfo failed'))\n"
     ]
    },
    {
     "name": "stdout",
     "output_type": "stream",
     "text": [
      "[**********************94%%*******************   ]  6898 of 7361 completed"
     ]
    },
    {
     "name": "stderr",
     "output_type": "stream",
     "text": [
      "Failed to get ticker 'ALUR' reason: HTTPSConnectionPool(host='query2.finance.yahoo.com', port=443): Max retries exceeded with url: /v8/finance/chart/ALUR?range=1d&interval=1d (Caused by NewConnectionError('<urllib3.connection.HTTPSConnection object at 0x000001BCD7F83950>: Failed to establish a new connection: [Errno 11001] getaddrinfo failed'))\n"
     ]
    },
    {
     "name": "stdout",
     "output_type": "stream",
     "text": [
      "[**********************94%%*******************   ]  6899 of 7361 completed"
     ]
    },
    {
     "name": "stderr",
     "output_type": "stream",
     "text": [
      "Failed to get ticker 'NETDW' reason: HTTPSConnectionPool(host='query2.finance.yahoo.com', port=443): Max retries exceeded with url: /v8/finance/chart/NETDW?range=1d&interval=1d (Caused by NewConnectionError('<urllib3.connection.HTTPSConnection object at 0x000001BCD7F4A610>: Failed to establish a new connection: [Errno 11001] getaddrinfo failed'))\n"
     ]
    },
    {
     "name": "stdout",
     "output_type": "stream",
     "text": [
      "[**********************94%%*******************   ]  6900 of 7361 completed"
     ]
    },
    {
     "name": "stderr",
     "output_type": "stream",
     "text": [
      "Failed to get ticker 'FSBC' reason: HTTPSConnectionPool(host='query2.finance.yahoo.com', port=443): Max retries exceeded with url: /v8/finance/chart/FSBC?range=1d&interval=1d (Caused by NewConnectionError('<urllib3.connection.HTTPSConnection object at 0x000001BCBB6DAF10>: Failed to establish a new connection: [Errno 11001] getaddrinfo failed'))\n"
     ]
    },
    {
     "name": "stdout",
     "output_type": "stream",
     "text": [
      "[**********************94%%*******************   ]  6901 of 7361 completed"
     ]
    },
    {
     "name": "stderr",
     "output_type": "stream",
     "text": [
      "Failed to get ticker 'BMEA' reason: HTTPSConnectionPool(host='query2.finance.yahoo.com', port=443): Max retries exceeded with url: /v8/finance/chart/BMEA?range=1d&interval=1d (Caused by NewConnectionError('<urllib3.connection.HTTPSConnection object at 0x000001BCD7F80990>: Failed to establish a new connection: [Errno 11001] getaddrinfo failed'))\n",
      "Failed to get ticker 'SHW' reason: HTTPSConnectionPool(host='query2.finance.yahoo.com', port=443): Max retries exceeded with url: /v8/finance/chart/SHW?range=1d&interval=1d (Caused by NewConnectionError('<urllib3.connection.HTTPSConnection object at 0x000001BCD7F5EB90>: Failed to establish a new connection: [Errno 11001] getaddrinfo failed'))\n"
     ]
    },
    {
     "name": "stdout",
     "output_type": "stream",
     "text": [
      "[**********************94%%*******************   ]  6903 of 7361 completed"
     ]
    },
    {
     "name": "stderr",
     "output_type": "stream",
     "text": [
      "Failed to get ticker 'NCPLW' reason: HTTPSConnectionPool(host='query2.finance.yahoo.com', port=443): Max retries exceeded with url: /v8/finance/chart/NCPLW?range=1d&interval=1d (Caused by NewConnectionError('<urllib3.connection.HTTPSConnection object at 0x000001BCBB6E1CD0>: Failed to establish a new connection: [Errno 11001] getaddrinfo failed'))\n"
     ]
    },
    {
     "name": "stdout",
     "output_type": "stream",
     "text": [
      "[**********************94%%*******************   ]  6904 of 7361 completed"
     ]
    },
    {
     "name": "stderr",
     "output_type": "stream",
     "text": [
      "Failed to get ticker 'VIRT' reason: HTTPSConnectionPool(host='query2.finance.yahoo.com', port=443): Max retries exceeded with url: /v8/finance/chart/VIRT?range=1d&interval=1d (Caused by NewConnectionError('<urllib3.connection.HTTPSConnection object at 0x000001BCBB6DB8D0>: Failed to establish a new connection: [Errno 11001] getaddrinfo failed'))\n"
     ]
    },
    {
     "name": "stdout",
     "output_type": "stream",
     "text": [
      "[**********************94%%*******************   ]  6905 of 7361 completed"
     ]
    },
    {
     "name": "stderr",
     "output_type": "stream",
     "text": [
      "Failed to get ticker 'EWTX' reason: HTTPSConnectionPool(host='query2.finance.yahoo.com', port=443): Max retries exceeded with url: /v8/finance/chart/EWTX?range=1d&interval=1d (Caused by NewConnectionError('<urllib3.connection.HTTPSConnection object at 0x000001BCD7F5C550>: Failed to establish a new connection: [Errno 11001] getaddrinfo failed'))\n"
     ]
    },
    {
     "name": "stdout",
     "output_type": "stream",
     "text": [
      "[**********************94%%*******************   ]  6906 of 7361 completed"
     ]
    },
    {
     "name": "stderr",
     "output_type": "stream",
     "text": [
      "Failed to get ticker 'HEQ' reason: HTTPSConnectionPool(host='query2.finance.yahoo.com', port=443): Max retries exceeded with url: /v8/finance/chart/HEQ?range=1d&interval=1d (Caused by NewConnectionError('<urllib3.connection.HTTPSConnection object at 0x000001BCD7F5D390>: Failed to establish a new connection: [Errno 11001] getaddrinfo failed'))\n",
      "Failed to get ticker 'PHK' reason: HTTPSConnectionPool(host='query2.finance.yahoo.com', port=443): Max retries exceeded with url: /v8/finance/chart/PHK?range=1d&interval=1d (Caused by NewConnectionError('<urllib3.connection.HTTPSConnection object at 0x000001BCBB6DAD50>: Failed to establish a new connection: [Errno 11001] getaddrinfo failed'))\n"
     ]
    },
    {
     "name": "stdout",
     "output_type": "stream",
     "text": [
      "[**********************94%%*******************   ]  6907 of 7361 completed"
     ]
    },
    {
     "name": "stderr",
     "output_type": "stream",
     "text": [
      "Failed to get ticker 'GRABW' reason: HTTPSConnectionPool(host='query2.finance.yahoo.com', port=443): Max retries exceeded with url: /v8/finance/chart/GRABW?range=1d&interval=1d (Caused by NewConnectionError('<urllib3.connection.HTTPSConnection object at 0x000001BCD5E0EC50>: Failed to establish a new connection: [Errno 11001] getaddrinfo failed'))\n"
     ]
    },
    {
     "name": "stdout",
     "output_type": "stream",
     "text": [
      "[**********************94%%*******************   ]  6909 of 7361 completed"
     ]
    },
    {
     "name": "stderr",
     "output_type": "stream",
     "text": [
      "Failed to get ticker 'SIF' reason: HTTPSConnectionPool(host='query2.finance.yahoo.com', port=443): Max retries exceeded with url: /v8/finance/chart/SIF?range=1d&interval=1d (Caused by NewConnectionError('<urllib3.connection.HTTPSConnection object at 0x000001BCD5D547D0>: Failed to establish a new connection: [Errno 11001] getaddrinfo failed'))\n",
      "Failed to get ticker 'PCB' reason: HTTPSConnectionPool(host='query2.finance.yahoo.com', port=443): Max retries exceeded with url: /v8/finance/chart/PCB?range=1d&interval=1d (Caused by NewConnectionError('<urllib3.connection.HTTPSConnection object at 0x000001BCD7F4AB10>: Failed to establish a new connection: [Errno 11001] getaddrinfo failed'))\n"
     ]
    },
    {
     "name": "stdout",
     "output_type": "stream",
     "text": [
      "[**********************94%%*******************   ]  6911 of 7361 completed"
     ]
    },
    {
     "name": "stderr",
     "output_type": "stream",
     "text": [
      "Failed to get ticker 'MO' reason: HTTPSConnectionPool(host='query2.finance.yahoo.com', port=443): Max retries exceeded with url: /v8/finance/chart/MO?range=1d&interval=1d (Caused by NewConnectionError('<urllib3.connection.HTTPSConnection object at 0x000001BCD7EFDAD0>: Failed to establish a new connection: [Errno 11001] getaddrinfo failed'))\n"
     ]
    },
    {
     "name": "stdout",
     "output_type": "stream",
     "text": [
      "[**********************94%%*******************   ]  6912 of 7361 completed"
     ]
    },
    {
     "name": "stderr",
     "output_type": "stream",
     "text": [
      "Failed to get ticker 'VPV' reason: HTTPSConnectionPool(host='query2.finance.yahoo.com', port=443): Max retries exceeded with url: /v8/finance/chart/VPV?range=1d&interval=1d (Caused by NewConnectionError('<urllib3.connection.HTTPSConnection object at 0x000001BCBB6DAD50>: Failed to establish a new connection: [Errno 11001] getaddrinfo failed'))\n",
      "Failed to get ticker 'PWUPU' reason: HTTPSConnectionPool(host='query2.finance.yahoo.com', port=443): Max retries exceeded with url: /v8/finance/chart/PWUPU?range=1d&interval=1d (Caused by NewConnectionError('<urllib3.connection.HTTPSConnection object at 0x000001BCD7EFDB90>: Failed to establish a new connection: [Errno 11001] getaddrinfo failed'))\n"
     ]
    },
    {
     "name": "stdout",
     "output_type": "stream",
     "text": [
      "[**********************94%%*******************   ]  6914 of 7361 completed"
     ]
    },
    {
     "name": "stderr",
     "output_type": "stream",
     "text": [
      "Failed to get ticker 'SFRWW' reason: HTTPSConnectionPool(host='query2.finance.yahoo.com', port=443): Max retries exceeded with url: /v8/finance/chart/SFRWW?range=1d&interval=1d (Caused by NewConnectionError('<urllib3.connection.HTTPSConnection object at 0x000001BCD29539D0>: Failed to establish a new connection: [Errno 11001] getaddrinfo failed'))\n"
     ]
    },
    {
     "name": "stdout",
     "output_type": "stream",
     "text": [
      "[**********************94%%*******************   ]  6914 of 7361 completed"
     ]
    },
    {
     "name": "stderr",
     "output_type": "stream",
     "text": [
      "Failed to get ticker 'ADOCW' reason: HTTPSConnectionPool(host='query2.finance.yahoo.com', port=443): Max retries exceeded with url: /v8/finance/chart/ADOCW?range=1d&interval=1d (Caused by NewConnectionError('<urllib3.connection.HTTPSConnection object at 0x000001BCD7F1BB50>: Failed to establish a new connection: [Errno 11001] getaddrinfo failed'))\n"
     ]
    },
    {
     "name": "stdout",
     "output_type": "stream",
     "text": [
      "[**********************94%%*******************   ]  6916 of 7361 completed"
     ]
    },
    {
     "name": "stderr",
     "output_type": "stream",
     "text": [
      "Failed to get ticker 'WINV' reason: HTTPSConnectionPool(host='query2.finance.yahoo.com', port=443): Max retries exceeded with url: /v8/finance/chart/WINV?range=1d&interval=1d (Caused by NewConnectionError('<urllib3.connection.HTTPSConnection object at 0x000001BCBB6D8090>: Failed to establish a new connection: [Errno 11001] getaddrinfo failed'))\n"
     ]
    },
    {
     "name": "stdout",
     "output_type": "stream",
     "text": [
      "[**********************94%%*******************   ]  6917 of 7361 completed"
     ]
    },
    {
     "name": "stderr",
     "output_type": "stream",
     "text": [
      "Failed to get ticker 'VFS' reason: HTTPSConnectionPool(host='query2.finance.yahoo.com', port=443): Max retries exceeded with url: /v8/finance/chart/VFS?range=1d&interval=1d (Caused by NewConnectionError('<urllib3.connection.HTTPSConnection object at 0x000001BCD7F75CD0>: Failed to establish a new connection: [Errno 11001] getaddrinfo failed'))\n"
     ]
    },
    {
     "name": "stdout",
     "output_type": "stream",
     "text": [
      "[**********************94%%*******************   ]  6918 of 7361 completed"
     ]
    },
    {
     "name": "stderr",
     "output_type": "stream",
     "text": [
      "Failed to get ticker 'CHCT' reason: HTTPSConnectionPool(host='query2.finance.yahoo.com', port=443): Max retries exceeded with url: /v8/finance/chart/CHCT?range=1d&interval=1d (Caused by NewConnectionError('<urllib3.connection.HTTPSConnection object at 0x000001BCBB519A90>: Failed to establish a new connection: [Errno 11001] getaddrinfo failed'))\n"
     ]
    },
    {
     "name": "stdout",
     "output_type": "stream",
     "text": [
      "[**********************94%%*******************   ]  6919 of 7361 completed"
     ]
    },
    {
     "name": "stderr",
     "output_type": "stream",
     "text": [
      "Failed to get ticker 'FAM' reason: HTTPSConnectionPool(host='query2.finance.yahoo.com', port=443): Max retries exceeded with url: /v8/finance/chart/FAM?range=1d&interval=1d (Caused by NewConnectionError('<urllib3.connection.HTTPSConnection object at 0x000001BCD7F767D0>: Failed to establish a new connection: [Errno 11001] getaddrinfo failed'))\n",
      "Failed to get ticker 'BWMX' reason: HTTPSConnectionPool(host='query2.finance.yahoo.com', port=443): Max retries exceeded with url: /v8/finance/chart/BWMX?range=1d&interval=1d (Caused by NewConnectionError('<urllib3.connection.HTTPSConnection object at 0x000001BCD4C19890>: Failed to establish a new connection: [Errno 11001] getaddrinfo failed'))\n"
     ]
    },
    {
     "name": "stdout",
     "output_type": "stream",
     "text": [
      "[**********************94%%*******************   ]  6921 of 7361 completed"
     ]
    },
    {
     "name": "stderr",
     "output_type": "stream",
     "text": [
      "Failed to get ticker 'EOT' reason: HTTPSConnectionPool(host='query2.finance.yahoo.com', port=443): Max retries exceeded with url: /v8/finance/chart/EOT?range=1d&interval=1d (Caused by NewConnectionError('<urllib3.connection.HTTPSConnection object at 0x000001BCD7F494D0>: Failed to establish a new connection: [Errno 11001] getaddrinfo failed'))\n"
     ]
    },
    {
     "name": "stdout",
     "output_type": "stream",
     "text": [
      "[**********************94%%*******************   ]  6922 of 7361 completed"
     ]
    },
    {
     "name": "stderr",
     "output_type": "stream",
     "text": [
      "Failed to get ticker 'ATER' reason: HTTPSConnectionPool(host='query2.finance.yahoo.com', port=443): Max retries exceeded with url: /v8/finance/chart/ATER?range=1d&interval=1d (Caused by NewConnectionError('<urllib3.connection.HTTPSConnection object at 0x000001BCD7F55910>: Failed to establish a new connection: [Errno 11001] getaddrinfo failed'))\n"
     ]
    },
    {
     "name": "stdout",
     "output_type": "stream",
     "text": [
      "[**********************94%%*******************   ]  6923 of 7361 completed"
     ]
    },
    {
     "name": "stderr",
     "output_type": "stream",
     "text": [
      "Failed to get ticker 'XFOR' reason: HTTPSConnectionPool(host='query2.finance.yahoo.com', port=443): Max retries exceeded with url: /v8/finance/chart/XFOR?range=1d&interval=1d (Caused by NewConnectionError('<urllib3.connection.HTTPSConnection object at 0x000001BCD7F77010>: Failed to establish a new connection: [Errno 11001] getaddrinfo failed'))\n",
      "Failed to get ticker 'ERNA' reason: HTTPSConnectionPool(host='query2.finance.yahoo.com', port=443): Max retries exceeded with url: /v8/finance/chart/ERNA?range=1d&interval=1d (Caused by NewConnectionError('<urllib3.connection.HTTPSConnection object at 0x000001BCD7F75590>: Failed to establish a new connection: [Errno 11001] getaddrinfo failed'))\n",
      "Failed to get ticker 'HSPO' reason: HTTPSConnectionPool(host='query2.finance.yahoo.com', port=443): Max retries exceeded with url: /v8/finance/chart/HSPO?range=1d&interval=1d (Caused by NewConnectionError('<urllib3.connection.HTTPSConnection object at 0x000001BCD7F8F710>: Failed to establish a new connection: [Errno 11001] getaddrinfo failed'))\n",
      "Failed to get ticker 'ANZU' reason: HTTPSConnectionPool(host='query2.finance.yahoo.com', port=443): Max retries exceeded with url: /v8/finance/chart/ANZU?range=1d&interval=1d (Caused by NewConnectionError('<urllib3.connection.HTTPSConnection object at 0x000001BCD7F76450>: Failed to establish a new connection: [Errno 11001] getaddrinfo failed'))\n"
     ]
    },
    {
     "name": "stdout",
     "output_type": "stream",
     "text": [
      "[**********************94%%*******************   ]  6925 of 7361 completed"
     ]
    },
    {
     "name": "stderr",
     "output_type": "stream",
     "text": [
      "Failed to get ticker 'LULU' reason: HTTPSConnectionPool(host='query2.finance.yahoo.com', port=443): Max retries exceeded with url: /v8/finance/chart/LULU?range=1d&interval=1d (Caused by NewConnectionError('<urllib3.connection.HTTPSConnection object at 0x000001BCBA088E50>: Failed to establish a new connection: [Errno 11001] getaddrinfo failed'))\n",
      "Failed to get ticker 'CAMP' reason: HTTPSConnectionPool(host='query2.finance.yahoo.com', port=443): Max retries exceeded with url: /v8/finance/chart/CAMP?range=1d&interval=1d (Caused by NewConnectionError('<urllib3.connection.HTTPSConnection object at 0x000001BCD7F75F10>: Failed to establish a new connection: [Errno 11001] getaddrinfo failed'))\n"
     ]
    },
    {
     "name": "stdout",
     "output_type": "stream",
     "text": [
      "[**********************94%%*******************   ]  6927 of 7361 completed"
     ]
    },
    {
     "name": "stderr",
     "output_type": "stream",
     "text": [
      "Failed to get ticker 'RNR' reason: HTTPSConnectionPool(host='query2.finance.yahoo.com', port=443): Max retries exceeded with url: /v8/finance/chart/RNR?range=1d&interval=1d (Caused by NewConnectionError('<urllib3.connection.HTTPSConnection object at 0x000001BCD7F5FD10>: Failed to establish a new connection: [Errno 11001] getaddrinfo failed'))\n"
     ]
    },
    {
     "name": "stdout",
     "output_type": "stream",
     "text": [
      "[**********************94%%*******************   ]  6930 of 7361 completed"
     ]
    },
    {
     "name": "stderr",
     "output_type": "stream",
     "text": [
      "Failed to get ticker 'EZPW' reason: HTTPSConnectionPool(host='query2.finance.yahoo.com', port=443): Max retries exceeded with url: /v8/finance/chart/EZPW?range=1d&interval=1d (Caused by NewConnectionError('<urllib3.connection.HTTPSConnection object at 0x000001BCD5DEAED0>: Failed to establish a new connection: [Errno 11001] getaddrinfo failed'))\n",
      "Failed to get ticker 'SFIX' reason: HTTPSConnectionPool(host='query2.finance.yahoo.com', port=443): Max retries exceeded with url: /v8/finance/chart/SFIX?range=1d&interval=1d (Caused by NewConnectionError('<urllib3.connection.HTTPSConnection object at 0x000001BCD7F764D0>: Failed to establish a new connection: [Errno 11001] getaddrinfo failed'))\n"
     ]
    },
    {
     "name": "stdout",
     "output_type": "stream",
     "text": [
      "[**********************94%%*******************   ]  6932 of 7361 completed"
     ]
    },
    {
     "name": "stderr",
     "output_type": "stream",
     "text": [
      "Failed to get ticker 'GTACU' reason: HTTPSConnectionPool(host='query2.finance.yahoo.com', port=443): Max retries exceeded with url: /v8/finance/chart/GTACU?range=1d&interval=1d (Caused by NewConnectionError('<urllib3.connection.HTTPSConnection object at 0x000001BCD7F75F90>: Failed to establish a new connection: [Errno 11001] getaddrinfo failed'))\n"
     ]
    },
    {
     "name": "stdout",
     "output_type": "stream",
     "text": [
      "[**********************94%%*******************   ]  6934 of 7361 completed"
     ]
    },
    {
     "name": "stderr",
     "output_type": "stream",
     "text": [
      "Failed to get ticker 'SGHC' reason: HTTPSConnectionPool(host='query2.finance.yahoo.com', port=443): Max retries exceeded with url: /v8/finance/chart/SGHC?range=1d&interval=1d (Caused by NewConnectionError('<urllib3.connection.HTTPSConnection object at 0x000001BCD7F75950>: Failed to establish a new connection: [Errno 11001] getaddrinfo failed'))\n",
      "Failed to get ticker 'CHI' reason: HTTPSConnectionPool(host='query2.finance.yahoo.com', port=443): Max retries exceeded with url: /v8/finance/chart/CHI?range=1d&interval=1d (Caused by NewConnectionError('<urllib3.connection.HTTPSConnection object at 0x000001BCD7F77A90>: Failed to establish a new connection: [Errno 11001] getaddrinfo failed'))\n"
     ]
    },
    {
     "name": "stdout",
     "output_type": "stream",
     "text": [
      "[**********************94%%*******************   ]  6935 of 7361 completed"
     ]
    },
    {
     "name": "stderr",
     "output_type": "stream",
     "text": [
      "Failed to get ticker 'PNRG' reason: HTTPSConnectionPool(host='query2.finance.yahoo.com', port=443): Max retries exceeded with url: /v8/finance/chart/PNRG?range=1d&interval=1d (Caused by NewConnectionError('<urllib3.connection.HTTPSConnection object at 0x000001BCD7F64950>: Failed to establish a new connection: [Errno 11001] getaddrinfo failed'))\n"
     ]
    },
    {
     "name": "stdout",
     "output_type": "stream",
     "text": [
      "[**********************94%%*******************   ]  6936 of 7361 completed"
     ]
    },
    {
     "name": "stderr",
     "output_type": "stream",
     "text": [
      "Failed to get ticker 'PFD' reason: HTTPSConnectionPool(host='query2.finance.yahoo.com', port=443): Max retries exceeded with url: /v8/finance/chart/PFD?range=1d&interval=1d (Caused by NewConnectionError('<urllib3.connection.HTTPSConnection object at 0x000001BCD7F744D0>: Failed to establish a new connection: [Errno 11001] getaddrinfo failed'))\n"
     ]
    },
    {
     "name": "stdout",
     "output_type": "stream",
     "text": [
      "[**********************94%%*******************   ]  6937 of 7361 completed"
     ]
    },
    {
     "name": "stderr",
     "output_type": "stream",
     "text": [
      "Failed to get ticker 'NIM' reason: HTTPSConnectionPool(host='query2.finance.yahoo.com', port=443): Max retries exceeded with url: /v8/finance/chart/NIM?range=1d&interval=1d (Caused by NewConnectionError('<urllib3.connection.HTTPSConnection object at 0x000001BCD7F51190>: Failed to establish a new connection: [Errno 11001] getaddrinfo failed'))\n"
     ]
    },
    {
     "name": "stdout",
     "output_type": "stream",
     "text": [
      "[**********************94%%*******************   ]  6938 of 7361 completed"
     ]
    },
    {
     "name": "stderr",
     "output_type": "stream",
     "text": [
      "Failed to get ticker 'ACCO' reason: HTTPSConnectionPool(host='query2.finance.yahoo.com', port=443): Max retries exceeded with url: /v8/finance/chart/ACCO?range=1d&interval=1d (Caused by NewConnectionError('<urllib3.connection.HTTPSConnection object at 0x000001BCD7F30D10>: Failed to establish a new connection: [Errno 11001] getaddrinfo failed'))\n"
     ]
    },
    {
     "name": "stdout",
     "output_type": "stream",
     "text": [
      "[**********************94%%*******************   ]  6939 of 7361 completed"
     ]
    },
    {
     "name": "stderr",
     "output_type": "stream",
     "text": [
      "Failed to get ticker 'AMSC' reason: HTTPSConnectionPool(host='query2.finance.yahoo.com', port=443): Max retries exceeded with url: /v8/finance/chart/AMSC?range=1d&interval=1d (Caused by NewConnectionError('<urllib3.connection.HTTPSConnection object at 0x000001BCD7F50110>: Failed to establish a new connection: [Errno 11001] getaddrinfo failed'))\n",
      "Failed to get ticker 'ENER' reason: HTTPSConnectionPool(host='query2.finance.yahoo.com', port=443): Max retries exceeded with url: /v8/finance/chart/ENER?range=1d&interval=1d (Caused by NewConnectionError('<urllib3.connection.HTTPSConnection object at 0x000001BCD7F531D0>: Failed to establish a new connection: [Errno 11001] getaddrinfo failed'))\n"
     ]
    },
    {
     "name": "stdout",
     "output_type": "stream",
     "text": [
      "[**********************94%%*******************   ]  6940 of 7361 completed"
     ]
    },
    {
     "name": "stderr",
     "output_type": "stream",
     "text": [
      "Failed to get ticker 'LTRX' reason: HTTPSConnectionPool(host='query2.finance.yahoo.com', port=443): Max retries exceeded with url: /v8/finance/chart/LTRX?range=1d&interval=1d (Caused by NewConnectionError('<urllib3.connection.HTTPSConnection object at 0x000001BCD7F75B90>: Failed to establish a new connection: [Errno 11001] getaddrinfo failed'))\n"
     ]
    },
    {
     "name": "stdout",
     "output_type": "stream",
     "text": [
      "[**********************94%%*******************   ]  6941 of 7361 completed"
     ]
    },
    {
     "name": "stderr",
     "output_type": "stream",
     "text": [
      "Failed to get ticker 'SBS' reason: HTTPSConnectionPool(host='query2.finance.yahoo.com', port=443): Max retries exceeded with url: /v8/finance/chart/SBS?range=1d&interval=1d (Caused by NewConnectionError('<urllib3.connection.HTTPSConnection object at 0x000001BCBB6E1310>: Failed to establish a new connection: [Errno 11001] getaddrinfo failed'))\n",
      "Failed to get ticker 'VQS' reason: HTTPSConnectionPool(host='query2.finance.yahoo.com', port=443): Max retries exceeded with url: /v8/finance/chart/VQS?range=1d&interval=1d (Caused by NewConnectionError('<urllib3.connection.HTTPSConnection object at 0x000001BCBB6CA9D0>: Failed to establish a new connection: [Errno 11001] getaddrinfo failed'))\n"
     ]
    },
    {
     "name": "stdout",
     "output_type": "stream",
     "text": [
      "[**********************94%%*******************   ]  6944 of 7361 completed"
     ]
    },
    {
     "name": "stderr",
     "output_type": "stream",
     "text": [
      "Failed to get ticker 'EVRI' reason: HTTPSConnectionPool(host='query2.finance.yahoo.com', port=443): Max retries exceeded with url: /v8/finance/chart/EVRI?range=1d&interval=1d (Caused by NewConnectionError('<urllib3.connection.HTTPSConnection object at 0x000001BCD7FA6950>: Failed to establish a new connection: [Errno 11001] getaddrinfo failed'))\n"
     ]
    },
    {
     "name": "stdout",
     "output_type": "stream",
     "text": [
      "[**********************94%%*******************   ]  6945 of 7361 completed"
     ]
    },
    {
     "name": "stderr",
     "output_type": "stream",
     "text": [
      "Failed to get ticker 'NAZ' reason: HTTPSConnectionPool(host='query2.finance.yahoo.com', port=443): Max retries exceeded with url: /v8/finance/chart/NAZ?range=1d&interval=1d (Caused by NewConnectionError('<urllib3.connection.HTTPSConnection object at 0x000001BCD7F83450>: Failed to establish a new connection: [Errno 11001] getaddrinfo failed'))\n"
     ]
    },
    {
     "name": "stdout",
     "output_type": "stream",
     "text": [
      "[**********************94%%*******************   ]  6946 of 7361 completed"
     ]
    },
    {
     "name": "stderr",
     "output_type": "stream",
     "text": [
      "Failed to get ticker 'BRC' reason: HTTPSConnectionPool(host='query2.finance.yahoo.com', port=443): Max retries exceeded with url: /v8/finance/chart/BRC?range=1d&interval=1d (Caused by NewConnectionError('<urllib3.connection.HTTPSConnection object at 0x000001BCD7F5C410>: Failed to establish a new connection: [Errno 11001] getaddrinfo failed'))\n"
     ]
    },
    {
     "name": "stdout",
     "output_type": "stream",
     "text": [
      "[**********************94%%*******************   ]  6947 of 7361 completed"
     ]
    },
    {
     "name": "stderr",
     "output_type": "stream",
     "text": [
      "Failed to get ticker 'ULTA' reason: HTTPSConnectionPool(host='query2.finance.yahoo.com', port=443): Max retries exceeded with url: /v8/finance/chart/ULTA?range=1d&interval=1d (Caused by NewConnectionError('<urllib3.connection.HTTPSConnection object at 0x000001BCD7F207D0>: Failed to establish a new connection: [Errno 11001] getaddrinfo failed'))\n"
     ]
    },
    {
     "name": "stdout",
     "output_type": "stream",
     "text": [
      "[**********************94%%*******************   ]  6948 of 7361 completed"
     ]
    },
    {
     "name": "stderr",
     "output_type": "stream",
     "text": [
      "Failed to get ticker 'ACAX' reason: HTTPSConnectionPool(host='query2.finance.yahoo.com', port=443): Max retries exceeded with url: /v8/finance/chart/ACAX?range=1d&interval=1d (Caused by NewConnectionError('<urllib3.connection.HTTPSConnection object at 0x000001BCD7F5C390>: Failed to establish a new connection: [Errno 11001] getaddrinfo failed'))\n"
     ]
    },
    {
     "name": "stdout",
     "output_type": "stream",
     "text": [
      "[**********************94%%*******************   ]  6949 of 7361 completed"
     ]
    },
    {
     "name": "stderr",
     "output_type": "stream",
     "text": [
      "Failed to get ticker 'TOMZ' reason: HTTPSConnectionPool(host='query2.finance.yahoo.com', port=443): Max retries exceeded with url: /v8/finance/chart/TOMZ?range=1d&interval=1d (Caused by NewConnectionError('<urllib3.connection.HTTPSConnection object at 0x000001BCD7F50590>: Failed to establish a new connection: [Errno 11001] getaddrinfo failed'))\n"
     ]
    },
    {
     "name": "stdout",
     "output_type": "stream",
     "text": [
      "[**********************94%%*******************   ]  6950 of 7361 completed"
     ]
    },
    {
     "name": "stderr",
     "output_type": "stream",
     "text": [
      "Failed to get ticker 'GFOR' reason: HTTPSConnectionPool(host='query2.finance.yahoo.com', port=443): Max retries exceeded with url: /v8/finance/chart/GFOR?range=1d&interval=1d (Caused by NewConnectionError('<urllib3.connection.HTTPSConnection object at 0x000001BCD7F535D0>: Failed to establish a new connection: [Errno 11001] getaddrinfo failed'))\n"
     ]
    },
    {
     "name": "stdout",
     "output_type": "stream",
     "text": [
      "[**********************94%%*******************   ]  6951 of 7361 completed"
     ]
    },
    {
     "name": "stderr",
     "output_type": "stream",
     "text": [
      "Failed to get ticker 'COMP' reason: HTTPSConnectionPool(host='query2.finance.yahoo.com', port=443): Max retries exceeded with url: /v8/finance/chart/COMP?range=1d&interval=1d (Caused by NewConnectionError('<urllib3.connection.HTTPSConnection object at 0x000001BCD7F5C6D0>: Failed to establish a new connection: [Errno 11001] getaddrinfo failed'))\n",
      "Failed to get ticker 'CANG' reason: HTTPSConnectionPool(host='query2.finance.yahoo.com', port=443): Max retries exceeded with url: /v8/finance/chart/CANG?range=1d&interval=1d (Caused by NewConnectionError('<urllib3.connection.HTTPSConnection object at 0x000001BCBB706510>: Failed to establish a new connection: [Errno 11001] getaddrinfo failed'))\n"
     ]
    },
    {
     "name": "stdout",
     "output_type": "stream",
     "text": [
      "[**********************94%%*******************   ]  6952 of 7361 completed"
     ]
    },
    {
     "name": "stderr",
     "output_type": "stream",
     "text": [
      "Failed to get ticker 'CIFRW' reason: HTTPSConnectionPool(host='query2.finance.yahoo.com', port=443): Max retries exceeded with url: /v8/finance/chart/CIFRW?range=1d&interval=1d (Caused by NewConnectionError('<urllib3.connection.HTTPSConnection object at 0x000001BCD7F5EF10>: Failed to establish a new connection: [Errno 11001] getaddrinfo failed'))\n"
     ]
    },
    {
     "name": "stdout",
     "output_type": "stream",
     "text": [
      "[**********************94%%*******************   ]  6954 of 7361 completed"
     ]
    },
    {
     "name": "stderr",
     "output_type": "stream",
     "text": [
      "Failed to get ticker 'MTEK' reason: HTTPSConnectionPool(host='query2.finance.yahoo.com', port=443): Max retries exceeded with url: /v8/finance/chart/MTEK?range=1d&interval=1d (Caused by NewConnectionError('<urllib3.connection.HTTPSConnection object at 0x000001BCD7F50590>: Failed to establish a new connection: [Errno 11001] getaddrinfo failed'))\n",
      "Failed to get ticker 'ALPP' reason: HTTPSConnectionPool(host='query2.finance.yahoo.com', port=443): Max retries exceeded with url: /v8/finance/chart/ALPP?range=1d&interval=1d (Caused by NewConnectionError('<urllib3.connection.HTTPSConnection object at 0x000001BCD5DE8690>: Failed to establish a new connection: [Errno 11001] getaddrinfo failed'))\n",
      "Failed to get ticker 'GHL' reason: HTTPSConnectionPool(host='query2.finance.yahoo.com', port=443): Max retries exceeded with url: /v8/finance/chart/GHL?range=1d&interval=1d (Caused by NewConnectionError('<urllib3.connection.HTTPSConnection object at 0x000001BCBB487290>: Failed to establish a new connection: [Errno 11001] getaddrinfo failed'))\n"
     ]
    },
    {
     "name": "stdout",
     "output_type": "stream",
     "text": [
      "[**********************94%%*******************   ]  6955 of 7361 completed"
     ]
    },
    {
     "name": "stderr",
     "output_type": "stream",
     "text": [
      "Failed to get ticker 'YOTAW' reason: HTTPSConnectionPool(host='query2.finance.yahoo.com', port=443): Max retries exceeded with url: /v8/finance/chart/YOTAW?range=1d&interval=1d (Caused by NewConnectionError('<urllib3.connection.HTTPSConnection object at 0x000001BCD7FB7210>: Failed to establish a new connection: [Errno 11001] getaddrinfo failed'))\n"
     ]
    },
    {
     "name": "stdout",
     "output_type": "stream",
     "text": [
      "[**********************94%%*******************   ]  6956 of 7361 completed"
     ]
    },
    {
     "name": "stderr",
     "output_type": "stream",
     "text": [
      "Failed to get ticker 'ESLT' reason: HTTPSConnectionPool(host='query2.finance.yahoo.com', port=443): Max retries exceeded with url: /v8/finance/chart/ESLT?range=1d&interval=1d (Caused by NewConnectionError('<urllib3.connection.HTTPSConnection object at 0x000001BCBB705D90>: Failed to establish a new connection: [Errno 11001] getaddrinfo failed'))\n"
     ]
    },
    {
     "name": "stdout",
     "output_type": "stream",
     "text": [
      "[**********************95%%********************  ]  6959 of 7361 completed"
     ]
    },
    {
     "name": "stderr",
     "output_type": "stream",
     "text": [
      "Failed to get ticker 'MBAC' reason: HTTPSConnectionPool(host='query2.finance.yahoo.com', port=443): Max retries exceeded with url: /v8/finance/chart/MBAC?range=1d&interval=1d (Caused by NewConnectionError('<urllib3.connection.HTTPSConnection object at 0x000001BCBB704090>: Failed to establish a new connection: [Errno 11001] getaddrinfo failed'))\n"
     ]
    },
    {
     "name": "stdout",
     "output_type": "stream",
     "text": [
      "[**********************95%%********************  ]  6960 of 7361 completed"
     ]
    },
    {
     "name": "stderr",
     "output_type": "stream",
     "text": [
      "Failed to get ticker 'FAT' reason: HTTPSConnectionPool(host='query2.finance.yahoo.com', port=443): Max retries exceeded with url: /v8/finance/chart/FAT?range=1d&interval=1d (Caused by NewConnectionError('<urllib3.connection.HTTPSConnection object at 0x000001BCD7FB5AD0>: Failed to establish a new connection: [Errno 11001] getaddrinfo failed'))\n"
     ]
    },
    {
     "name": "stdout",
     "output_type": "stream",
     "text": [
      "[**********************95%%********************  ]  6961 of 7361 completed"
     ]
    },
    {
     "name": "stderr",
     "output_type": "stream",
     "text": [
      "Failed to get ticker 'LPRO' reason: HTTPSConnectionPool(host='query2.finance.yahoo.com', port=443): Max retries exceeded with url: /v8/finance/chart/LPRO?range=1d&interval=1d (Caused by NewConnectionError('<urllib3.connection.HTTPSConnection object at 0x000001BCBB7049D0>: Failed to establish a new connection: [Errno 11001] getaddrinfo failed'))\n",
      "Failed to get ticker 'RGT' reason: HTTPSConnectionPool(host='query2.finance.yahoo.com', port=443): Max retries exceeded with url: /v8/finance/chart/RGT?range=1d&interval=1d (Caused by NewConnectionError('<urllib3.connection.HTTPSConnection object at 0x000001BCBB704D90>: Failed to establish a new connection: [Errno 11001] getaddrinfo failed'))\n"
     ]
    },
    {
     "name": "stdout",
     "output_type": "stream",
     "text": [
      "[**********************95%%********************  ]  6963 of 7361 completed"
     ]
    },
    {
     "name": "stderr",
     "output_type": "stream",
     "text": [
      "Failed to get ticker 'OPAL' reason: HTTPSConnectionPool(host='query2.finance.yahoo.com', port=443): Max retries exceeded with url: /v8/finance/chart/OPAL?range=1d&interval=1d (Caused by NewConnectionError('<urllib3.connection.HTTPSConnection object at 0x000001BCD7FC93D0>: Failed to establish a new connection: [Errno 11001] getaddrinfo failed'))\n"
     ]
    },
    {
     "name": "stdout",
     "output_type": "stream",
     "text": [
      "[**********************95%%********************  ]  6964 of 7361 completed"
     ]
    },
    {
     "name": "stderr",
     "output_type": "stream",
     "text": [
      "Failed to get ticker 'HPLTW' reason: HTTPSConnectionPool(host='query2.finance.yahoo.com', port=443): Max retries exceeded with url: /v8/finance/chart/HPLTW?range=1d&interval=1d (Caused by NewConnectionError('<urllib3.connection.HTTPSConnection object at 0x000001BCD7F5E250>: Failed to establish a new connection: [Errno 11001] getaddrinfo failed'))\n"
     ]
    },
    {
     "name": "stdout",
     "output_type": "stream",
     "text": [
      "[**********************95%%********************  ]  6965 of 7361 completed"
     ]
    },
    {
     "name": "stderr",
     "output_type": "stream",
     "text": [
      "Failed to get ticker 'NEP' reason: HTTPSConnectionPool(host='query2.finance.yahoo.com', port=443): Max retries exceeded with url: /v8/finance/chart/NEP?range=1d&interval=1d (Caused by NewConnectionError('<urllib3.connection.HTTPSConnection object at 0x000001BCD7F5F0D0>: Failed to establish a new connection: [Errno 11001] getaddrinfo failed'))\n"
     ]
    },
    {
     "name": "stdout",
     "output_type": "stream",
     "text": [
      "[**********************95%%********************  ]  6967 of 7361 completed"
     ]
    },
    {
     "name": "stderr",
     "output_type": "stream",
     "text": [
      "Failed to get ticker 'QVCD' reason: HTTPSConnectionPool(host='query2.finance.yahoo.com', port=443): Max retries exceeded with url: /v8/finance/chart/QVCD?range=1d&interval=1d (Caused by NewConnectionError('<urllib3.connection.HTTPSConnection object at 0x000001BCD7F52E50>: Failed to establish a new connection: [Errno 11001] getaddrinfo failed'))\n",
      "Failed to get ticker 'S' reason: HTTPSConnectionPool(host='query2.finance.yahoo.com', port=443): Max retries exceeded with url: /v8/finance/chart/S?range=1d&interval=1d (Caused by NewConnectionError('<urllib3.connection.HTTPSConnection object at 0x000001BCD7F49CD0>: Failed to establish a new connection: [Errno 11001] getaddrinfo failed'))\n"
     ]
    },
    {
     "name": "stdout",
     "output_type": "stream",
     "text": [
      "[**********************95%%********************  ]  6968 of 7361 completed"
     ]
    },
    {
     "name": "stderr",
     "output_type": "stream",
     "text": [
      "Failed to get ticker 'AAON' reason: HTTPSConnectionPool(host='query2.finance.yahoo.com', port=443): Max retries exceeded with url: /v8/finance/chart/AAON?range=1d&interval=1d (Caused by NewConnectionError('<urllib3.connection.HTTPSConnection object at 0x000001BCBB707C50>: Failed to establish a new connection: [Errno 11001] getaddrinfo failed'))\n"
     ]
    },
    {
     "name": "stdout",
     "output_type": "stream",
     "text": [
      "[**********************95%%********************  ]  6969 of 7361 completed"
     ]
    },
    {
     "name": "stderr",
     "output_type": "stream",
     "text": [
      "Failed to get ticker 'CARM' reason: HTTPSConnectionPool(host='query2.finance.yahoo.com', port=443): Max retries exceeded with url: /v8/finance/chart/CARM?range=1d&interval=1d (Caused by NewConnectionError('<urllib3.connection.HTTPSConnection object at 0x000001BCD7FA9690>: Failed to establish a new connection: [Errno 11001] getaddrinfo failed'))\n"
     ]
    },
    {
     "name": "stdout",
     "output_type": "stream",
     "text": [
      "[**********************95%%********************  ]  6970 of 7361 completed"
     ]
    },
    {
     "name": "stderr",
     "output_type": "stream",
     "text": [
      "Failed to get ticker 'NOMD' reason: HTTPSConnectionPool(host='query2.finance.yahoo.com', port=443): Max retries exceeded with url: /v8/finance/chart/NOMD?range=1d&interval=1d (Caused by NewConnectionError('<urllib3.connection.HTTPSConnection object at 0x000001BCD7F08590>: Failed to establish a new connection: [Errno 11001] getaddrinfo failed'))\n"
     ]
    },
    {
     "name": "stdout",
     "output_type": "stream",
     "text": [
      "[**********************95%%********************  ]  6971 of 7361 completed"
     ]
    },
    {
     "name": "stderr",
     "output_type": "stream",
     "text": [
      "Failed to get ticker 'IVCAU' reason: HTTPSConnectionPool(host='query2.finance.yahoo.com', port=443): Max retries exceeded with url: /v8/finance/chart/IVCAU?range=1d&interval=1d (Caused by NewConnectionError('<urllib3.connection.HTTPSConnection object at 0x000001BCBB704350>: Failed to establish a new connection: [Errno 11001] getaddrinfo failed'))\n"
     ]
    },
    {
     "name": "stdout",
     "output_type": "stream",
     "text": [
      "[**********************95%%********************  ]  6972 of 7361 completed"
     ]
    },
    {
     "name": "stderr",
     "output_type": "stream",
     "text": [
      "Failed to get ticker 'CLOEU' reason: HTTPSConnectionPool(host='query2.finance.yahoo.com', port=443): Max retries exceeded with url: /v8/finance/chart/CLOEU?range=1d&interval=1d (Caused by NewConnectionError('<urllib3.connection.HTTPSConnection object at 0x000001BCD7FB4850>: Failed to establish a new connection: [Errno 11001] getaddrinfo failed'))\n",
      "Failed to get ticker 'BBU' reason: HTTPSConnectionPool(host='query2.finance.yahoo.com', port=443): Max retries exceeded with url: /v8/finance/chart/BBU?range=1d&interval=1d (Caused by NewConnectionError('<urllib3.connection.HTTPSConnection object at 0x000001BCBB706B10>: Failed to establish a new connection: [Errno 11001] getaddrinfo failed'))\n"
     ]
    },
    {
     "name": "stdout",
     "output_type": "stream",
     "text": [
      "[**********************95%%********************  ]  6974 of 7361 completed"
     ]
    },
    {
     "name": "stderr",
     "output_type": "stream",
     "text": [
      "Failed to get ticker 'OVID' reason: HTTPSConnectionPool(host='query2.finance.yahoo.com', port=443): Max retries exceeded with url: /v8/finance/chart/OVID?range=1d&interval=1d (Caused by NewConnectionError('<urllib3.connection.HTTPSConnection object at 0x000001BCBB4EAC90>: Failed to establish a new connection: [Errno 11001] getaddrinfo failed'))\n"
     ]
    },
    {
     "name": "stdout",
     "output_type": "stream",
     "text": [
      "[**********************95%%********************  ]  6975 of 7361 completed"
     ]
    },
    {
     "name": "stderr",
     "output_type": "stream",
     "text": [
      "Failed to get ticker 'ROST' reason: HTTPSConnectionPool(host='query2.finance.yahoo.com', port=443): Max retries exceeded with url: /v8/finance/chart/ROST?range=1d&interval=1d (Caused by NewConnectionError('<urllib3.connection.HTTPSConnection object at 0x000001BCD7F207D0>: Failed to establish a new connection: [Errno 11001] getaddrinfo failed'))\n"
     ]
    },
    {
     "name": "stdout",
     "output_type": "stream",
     "text": [
      "[**********************95%%********************  ]  6976 of 7361 completed"
     ]
    },
    {
     "name": "stderr",
     "output_type": "stream",
     "text": [
      "Failed to get ticker 'FMSTW' reason: HTTPSConnectionPool(host='query2.finance.yahoo.com', port=443): Max retries exceeded with url: /v8/finance/chart/FMSTW?range=1d&interval=1d (Caused by NewConnectionError('<urllib3.connection.HTTPSConnection object at 0x000001BCD7F76B10>: Failed to establish a new connection: [Errno 11001] getaddrinfo failed'))\n"
     ]
    },
    {
     "name": "stdout",
     "output_type": "stream",
     "text": [
      "[**********************95%%********************  ]  6977 of 7361 completed"
     ]
    },
    {
     "name": "stderr",
     "output_type": "stream",
     "text": [
      "Failed to get ticker 'TENX' reason: HTTPSConnectionPool(host='query2.finance.yahoo.com', port=443): Max retries exceeded with url: /v8/finance/chart/TENX?range=1d&interval=1d (Caused by NewConnectionError('<urllib3.connection.HTTPSConnection object at 0x000001BCD7FA8A50>: Failed to establish a new connection: [Errno 11001] getaddrinfo failed'))\n",
      "Failed to get ticker 'SPLP' reason: HTTPSConnectionPool(host='query2.finance.yahoo.com', port=443): Max retries exceeded with url: /v8/finance/chart/SPLP?range=1d&interval=1d (Caused by NewConnectionError('<urllib3.connection.HTTPSConnection object at 0x000001BCD7F8D210>: Failed to establish a new connection: [Errno 11001] getaddrinfo failed'))\n"
     ]
    },
    {
     "name": "stdout",
     "output_type": "stream",
     "text": [
      "[**********************95%%********************  ]  6978 of 7361 completed"
     ]
    },
    {
     "name": "stderr",
     "output_type": "stream",
     "text": [
      "Failed to get ticker 'UIS' reason: HTTPSConnectionPool(host='query2.finance.yahoo.com', port=443): Max retries exceeded with url: /v8/finance/chart/UIS?range=1d&interval=1d (Caused by NewConnectionError('<urllib3.connection.HTTPSConnection object at 0x000001BCD7FB6C10>: Failed to establish a new connection: [Errno 11001] getaddrinfo failed'))\n"
     ]
    },
    {
     "name": "stdout",
     "output_type": "stream",
     "text": [
      "[**********************95%%********************  ]  6980 of 7361 completed"
     ]
    },
    {
     "name": "stderr",
     "output_type": "stream",
     "text": [
      "Failed to get ticker 'DSU' reason: HTTPSConnectionPool(host='query2.finance.yahoo.com', port=443): Max retries exceeded with url: /v8/finance/chart/DSU?range=1d&interval=1d (Caused by NewConnectionError('<urllib3.connection.HTTPSConnection object at 0x000001BCBB704AD0>: Failed to establish a new connection: [Errno 11001] getaddrinfo failed'))\n"
     ]
    },
    {
     "name": "stdout",
     "output_type": "stream",
     "text": [
      "[**********************95%%********************  ]  6981 of 7361 completed"
     ]
    },
    {
     "name": "stderr",
     "output_type": "stream",
     "text": [
      "Failed to get ticker 'MCAC' reason: HTTPSConnectionPool(host='query2.finance.yahoo.com', port=443): Max retries exceeded with url: /v8/finance/chart/MCAC?range=1d&interval=1d (Caused by NewConnectionError('<urllib3.connection.HTTPSConnection object at 0x000001BCD7FAB7D0>: Failed to establish a new connection: [Errno 11001] getaddrinfo failed'))\n",
      "Failed to get ticker 'MHI' reason: HTTPSConnectionPool(host='query2.finance.yahoo.com', port=443): Max retries exceeded with url: /v8/finance/chart/MHI?range=1d&interval=1d (Caused by NewConnectionError('<urllib3.connection.HTTPSConnection object at 0x000001BCD7FABFD0>: Failed to establish a new connection: [Errno 11001] getaddrinfo failed'))\n"
     ]
    },
    {
     "name": "stdout",
     "output_type": "stream",
     "text": [
      "[**********************95%%********************  ]  6982 of 7361 completed"
     ]
    },
    {
     "name": "stderr",
     "output_type": "stream",
     "text": [
      "Failed to get ticker 'HEI' reason: HTTPSConnectionPool(host='query2.finance.yahoo.com', port=443): Max retries exceeded with url: /v8/finance/chart/HEI?range=1d&interval=1d (Caused by NewConnectionError('<urllib3.connection.HTTPSConnection object at 0x000001BCD7FA9550>: Failed to establish a new connection: [Errno 11001] getaddrinfo failed'))\n",
      "Failed to get ticker 'BFIIW' reason: HTTPSConnectionPool(host='query2.finance.yahoo.com', port=443): Max retries exceeded with url: /v8/finance/chart/BFIIW?range=1d&interval=1d (Caused by NewConnectionError('<urllib3.connection.HTTPSConnection object at 0x000001BCD7FC9210>: Failed to establish a new connection: [Errno 11001] getaddrinfo failed'))\n",
      "Failed to get ticker 'WNNR' reason: HTTPSConnectionPool(host='query2.finance.yahoo.com', port=443): Max retries exceeded with url: /v8/finance/chart/WNNR?range=1d&interval=1d (Caused by NewConnectionError('<urllib3.connection.HTTPSConnection object at 0x000001BCD7F23DD0>: Failed to establish a new connection: [Errno 11001] getaddrinfo failed'))\n"
     ]
    },
    {
     "name": "stdout",
     "output_type": "stream",
     "text": [
      "[**********************95%%********************  ]  6983 of 7361 completed"
     ]
    },
    {
     "name": "stderr",
     "output_type": "stream",
     "text": [
      "Failed to get ticker 'GLBZ' reason: HTTPSConnectionPool(host='query2.finance.yahoo.com', port=443): Max retries exceeded with url: /v8/finance/chart/GLBZ?range=1d&interval=1d (Caused by NewConnectionError('<urllib3.connection.HTTPSConnection object at 0x000001BCD7F22C50>: Failed to establish a new connection: [Errno 11001] getaddrinfo failed'))\n",
      "Failed to get ticker 'GENE' reason: HTTPSConnectionPool(host='query2.finance.yahoo.com', port=443): Max retries exceeded with url: /v8/finance/chart/GENE?range=1d&interval=1d (Caused by NewConnectionError('<urllib3.connection.HTTPSConnection object at 0x000001BCD7FAACD0>: Failed to establish a new connection: [Errno 11001] getaddrinfo failed'))\n"
     ]
    },
    {
     "name": "stdout",
     "output_type": "stream",
     "text": [
      "[**********************95%%********************  ]  6986 of 7361 completed"
     ]
    },
    {
     "name": "stderr",
     "output_type": "stream",
     "text": [
      "Failed to get ticker 'OOMA' reason: HTTPSConnectionPool(host='query2.finance.yahoo.com', port=443): Max retries exceeded with url: /v8/finance/chart/OOMA?range=1d&interval=1d (Caused by NewConnectionError('<urllib3.connection.HTTPSConnection object at 0x000001BCD7FAAA90>: Failed to establish a new connection: [Errno 11001] getaddrinfo failed'))\n"
     ]
    },
    {
     "name": "stdout",
     "output_type": "stream",
     "text": [
      "[**********************95%%********************  ]  6989 of 7361 completed"
     ]
    },
    {
     "name": "stderr",
     "output_type": "stream",
     "text": [
      "Failed to get ticker 'WING' reason: HTTPSConnectionPool(host='query2.finance.yahoo.com', port=443): Max retries exceeded with url: /v8/finance/chart/WING?range=1d&interval=1d (Caused by NewConnectionError('<urllib3.connection.HTTPSConnection object at 0x000001BCD5DFF490>: Failed to establish a new connection: [Errno 11001] getaddrinfo failed'))\n",
      "Failed to get ticker 'NTAP' reason: HTTPSConnectionPool(host='query2.finance.yahoo.com', port=443): Max retries exceeded with url: /v8/finance/chart/NTAP?range=1d&interval=1d (Caused by NewConnectionError('<urllib3.connection.HTTPSConnection object at 0x000001BCD7F33910>: Failed to establish a new connection: [Errno 11001] getaddrinfo failed'))\n"
     ]
    },
    {
     "name": "stdout",
     "output_type": "stream",
     "text": [
      "[**********************95%%********************  ]  6991 of 7361 completed"
     ]
    },
    {
     "name": "stderr",
     "output_type": "stream",
     "text": [
      "Failed to get ticker 'BUI' reason: HTTPSConnectionPool(host='query2.finance.yahoo.com', port=443): Max retries exceeded with url: /v8/finance/chart/BUI?range=1d&interval=1d (Caused by NewConnectionError('<urllib3.connection.HTTPSConnection object at 0x000001BCD5E0FA50>: Failed to establish a new connection: [Errno 11001] getaddrinfo failed'))\n"
     ]
    },
    {
     "name": "stdout",
     "output_type": "stream",
     "text": [
      "[**********************95%%********************  ]  6992 of 7361 completed"
     ]
    },
    {
     "name": "stderr",
     "output_type": "stream",
     "text": [
      "Failed to get ticker 'LBRDP' reason: HTTPSConnectionPool(host='query2.finance.yahoo.com', port=443): Max retries exceeded with url: /v8/finance/chart/LBRDP?range=1d&interval=1d (Caused by NewConnectionError('<urllib3.connection.HTTPSConnection object at 0x000001BCD7FB7210>: Failed to establish a new connection: [Errno 11001] getaddrinfo failed'))\n"
     ]
    },
    {
     "name": "stdout",
     "output_type": "stream",
     "text": [
      "[**********************95%%********************  ]  6993 of 7361 completed"
     ]
    },
    {
     "name": "stderr",
     "output_type": "stream",
     "text": [
      "Failed to get ticker 'ALOR' reason: HTTPSConnectionPool(host='query2.finance.yahoo.com', port=443): Max retries exceeded with url: /v8/finance/chart/ALOR?range=1d&interval=1d (Caused by NewConnectionError('<urllib3.connection.HTTPSConnection object at 0x000001BCD7FA40D0>: Failed to establish a new connection: [Errno 11001] getaddrinfo failed'))\n",
      "Failed to get ticker 'MAS' reason: HTTPSConnectionPool(host='query2.finance.yahoo.com', port=443): Max retries exceeded with url: /v8/finance/chart/MAS?range=1d&interval=1d (Caused by NewConnectionError('<urllib3.connection.HTTPSConnection object at 0x000001BCD7FDB490>: Failed to establish a new connection: [Errno 11001] getaddrinfo failed'))\n"
     ]
    },
    {
     "name": "stdout",
     "output_type": "stream",
     "text": [
      "[**********************95%%********************  ]  6995 of 7361 completed"
     ]
    },
    {
     "name": "stderr",
     "output_type": "stream",
     "text": [
      "Failed to get ticker 'BGSF' reason: HTTPSConnectionPool(host='query2.finance.yahoo.com', port=443): Max retries exceeded with url: /v8/finance/chart/BGSF?range=1d&interval=1d (Caused by NewConnectionError('<urllib3.connection.HTTPSConnection object at 0x000001BCBB710950>: Failed to establish a new connection: [Errno 11001] getaddrinfo failed'))\n",
      "Failed to get ticker 'ASO' reason: HTTPSConnectionPool(host='query2.finance.yahoo.com', port=443): Max retries exceeded with url: /v8/finance/chart/ASO?range=1d&interval=1d (Caused by NewConnectionError('<urllib3.connection.HTTPSConnection object at 0x000001BCD7F54950>: Failed to establish a new connection: [Errno 11001] getaddrinfo failed'))\n"
     ]
    },
    {
     "name": "stdout",
     "output_type": "stream",
     "text": [
      "[**********************95%%********************  ]  6997 of 7361 completed"
     ]
    },
    {
     "name": "stderr",
     "output_type": "stream",
     "text": [
      "Failed to get ticker 'MHO' reason: HTTPSConnectionPool(host='query2.finance.yahoo.com', port=443): Max retries exceeded with url: /v8/finance/chart/MHO?range=1d&interval=1d (Caused by NewConnectionError('<urllib3.connection.HTTPSConnection object at 0x000001BCBB705A50>: Failed to establish a new connection: [Errno 11001] getaddrinfo failed'))\n",
      "Failed to get ticker 'ALK' reason: HTTPSConnectionPool(host='query2.finance.yahoo.com', port=443): Max retries exceeded with url: /v8/finance/chart/ALK?range=1d&interval=1d (Caused by NewConnectionError('<urllib3.connection.HTTPSConnection object at 0x000001BCBB5456D0>: Failed to establish a new connection: [Errno 11001] getaddrinfo failed'))\n"
     ]
    },
    {
     "name": "stdout",
     "output_type": "stream",
     "text": [
      "[**********************95%%********************  ]  6999 of 7361 completed"
     ]
    },
    {
     "name": "stderr",
     "output_type": "stream",
     "text": [
      "Failed to get ticker 'OSW' reason: HTTPSConnectionPool(host='query2.finance.yahoo.com', port=443): Max retries exceeded with url: /v8/finance/chart/OSW?range=1d&interval=1d (Caused by NewConnectionError('<urllib3.connection.HTTPSConnection object at 0x000001BCBB713AD0>: Failed to establish a new connection: [Errno 11001] getaddrinfo failed'))\n"
     ]
    },
    {
     "name": "stdout",
     "output_type": "stream",
     "text": [
      "[**********************95%%********************  ]  7000 of 7361 completed"
     ]
    },
    {
     "name": "stderr",
     "output_type": "stream",
     "text": [
      "Failed to get ticker 'NMT' reason: HTTPSConnectionPool(host='query2.finance.yahoo.com', port=443): Max retries exceeded with url: /v8/finance/chart/NMT?range=1d&interval=1d (Caused by NewConnectionError('<urllib3.connection.HTTPSConnection object at 0x000001BCBB711150>: Failed to establish a new connection: [Errno 11001] getaddrinfo failed'))\n",
      "Failed to get ticker 'DISH' reason: HTTPSConnectionPool(host='query2.finance.yahoo.com', port=443): Max retries exceeded with url: /v8/finance/chart/DISH?range=1d&interval=1d (Caused by NewConnectionError('<urllib3.connection.HTTPSConnection object at 0x000001BCBB711510>: Failed to establish a new connection: [Errno 11001] getaddrinfo failed'))\n",
      "Failed to get ticker 'JFBR' reason: HTTPSConnectionPool(host='query2.finance.yahoo.com', port=443): Max retries exceeded with url: /v8/finance/chart/JFBR?range=1d&interval=1d (Caused by NewConnectionError('<urllib3.connection.HTTPSConnection object at 0x000001BCD7F76150>: Failed to establish a new connection: [Errno 11001] getaddrinfo failed'))\n"
     ]
    },
    {
     "name": "stdout",
     "output_type": "stream",
     "text": [
      "[**********************95%%********************  ]  7002 of 7361 completed"
     ]
    },
    {
     "name": "stderr",
     "output_type": "stream",
     "text": [
      "Failed to get ticker 'CLRB' reason: HTTPSConnectionPool(host='query2.finance.yahoo.com', port=443): Max retries exceeded with url: /v8/finance/chart/CLRB?range=1d&interval=1d (Caused by NewConnectionError('<urllib3.connection.HTTPSConnection object at 0x000001BCBB710B50>: Failed to establish a new connection: [Errno 11001] getaddrinfo failed'))\n"
     ]
    },
    {
     "name": "stdout",
     "output_type": "stream",
     "text": [
      "[**********************95%%********************  ]  7004 of 7361 completed"
     ]
    },
    {
     "name": "stderr",
     "output_type": "stream",
     "text": [
      "Failed to get ticker 'CLINW' reason: HTTPSConnectionPool(host='query2.finance.yahoo.com', port=443): Max retries exceeded with url: /v8/finance/chart/CLINW?range=1d&interval=1d (Caused by NewConnectionError('<urllib3.connection.HTTPSConnection object at 0x000001BCD7FA9D90>: Failed to establish a new connection: [Errno 11001] getaddrinfo failed'))\n"
     ]
    },
    {
     "name": "stdout",
     "output_type": "stream",
     "text": [
      "[**********************95%%********************  ]  7005 of 7361 completed"
     ]
    },
    {
     "name": "stderr",
     "output_type": "stream",
     "text": [
      "Failed to get ticker 'MI' reason: HTTPSConnectionPool(host='query2.finance.yahoo.com', port=443): Max retries exceeded with url: /v8/finance/chart/MI?range=1d&interval=1d (Caused by NewConnectionError('<urllib3.connection.HTTPSConnection object at 0x000001BCD7FD8310>: Failed to establish a new connection: [Errno 11001] getaddrinfo failed'))\n"
     ]
    },
    {
     "name": "stdout",
     "output_type": "stream",
     "text": [
      "[**********************95%%********************  ]  7006 of 7361 completed"
     ]
    },
    {
     "name": "stderr",
     "output_type": "stream",
     "text": [
      "Failed to get ticker 'CFFSU' reason: HTTPSConnectionPool(host='query2.finance.yahoo.com', port=443): Max retries exceeded with url: /v8/finance/chart/CFFSU?range=1d&interval=1d (Caused by NewConnectionError('<urllib3.connection.HTTPSConnection object at 0x000001BCBB715150>: Failed to establish a new connection: [Errno 11001] getaddrinfo failed'))\n",
      "Failed to get ticker 'LCFYW' reason: HTTPSConnectionPool(host='query2.finance.yahoo.com', port=443): Max retries exceeded with url: /v8/finance/chart/LCFYW?range=1d&interval=1d (Caused by NewConnectionError('<urllib3.connection.HTTPSConnection object at 0x000001BCBB6E1BD0>: Failed to establish a new connection: [Errno 11001] getaddrinfo failed'))\n"
     ]
    },
    {
     "name": "stdout",
     "output_type": "stream",
     "text": [
      "[**********************95%%********************  ]  7008 of 7361 completed"
     ]
    },
    {
     "name": "stderr",
     "output_type": "stream",
     "text": [
      "Failed to get ticker 'JBHT' reason: HTTPSConnectionPool(host='query2.finance.yahoo.com', port=443): Max retries exceeded with url: /v8/finance/chart/JBHT?range=1d&interval=1d (Caused by NewConnectionError('<urllib3.connection.HTTPSConnection object at 0x000001BCBB717050>: Failed to establish a new connection: [Errno 11001] getaddrinfo failed'))\n"
     ]
    },
    {
     "name": "stdout",
     "output_type": "stream",
     "text": [
      "[**********************95%%********************  ]  7009 of 7361 completed"
     ]
    },
    {
     "name": "stderr",
     "output_type": "stream",
     "text": [
      "Failed to get ticker 'MYO' reason: HTTPSConnectionPool(host='query2.finance.yahoo.com', port=443): Max retries exceeded with url: /v8/finance/chart/MYO?range=1d&interval=1d (Caused by NewConnectionError('<urllib3.connection.HTTPSConnection object at 0x000001BCBB711290>: Failed to establish a new connection: [Errno 11001] getaddrinfo failed'))\n"
     ]
    },
    {
     "name": "stdout",
     "output_type": "stream",
     "text": [
      "[**********************95%%********************  ]  7010 of 7361 completed"
     ]
    },
    {
     "name": "stderr",
     "output_type": "stream",
     "text": [
      "Failed to get ticker 'AIB' reason: HTTPSConnectionPool(host='query2.finance.yahoo.com', port=443): Max retries exceeded with url: /v8/finance/chart/AIB?range=1d&interval=1d (Caused by NewConnectionError('<urllib3.connection.HTTPSConnection object at 0x000001BCBB715010>: Failed to establish a new connection: [Errno 11001] getaddrinfo failed'))\n",
      "Failed to get ticker 'VFC' reason: HTTPSConnectionPool(host='query2.finance.yahoo.com', port=443): Max retries exceeded with url: /v8/finance/chart/VFC?range=1d&interval=1d (Caused by NewConnectionError('<urllib3.connection.HTTPSConnection object at 0x000001BCD7F75450>: Failed to establish a new connection: [Errno 11001] getaddrinfo failed'))\n"
     ]
    },
    {
     "name": "stdout",
     "output_type": "stream",
     "text": [
      "[**********************95%%********************  ]  7012 of 7361 completed"
     ]
    },
    {
     "name": "stderr",
     "output_type": "stream",
     "text": [
      "Failed to get ticker 'CADE' reason: HTTPSConnectionPool(host='query2.finance.yahoo.com', port=443): Max retries exceeded with url: /v8/finance/chart/CADE?range=1d&interval=1d (Caused by NewConnectionError('<urllib3.connection.HTTPSConnection object at 0x000001BCD7F8CB50>: Failed to establish a new connection: [Errno 11001] getaddrinfo failed'))\n"
     ]
    },
    {
     "name": "stdout",
     "output_type": "stream",
     "text": [
      "[**********************95%%********************  ]  7013 of 7361 completed"
     ]
    },
    {
     "name": "stderr",
     "output_type": "stream",
     "text": [
      "Failed to get ticker 'HROWM' reason: HTTPSConnectionPool(host='query2.finance.yahoo.com', port=443): Max retries exceeded with url: /v8/finance/chart/HROWM?range=1d&interval=1d (Caused by NewConnectionError('<urllib3.connection.HTTPSConnection object at 0x000001BCD7FA8D10>: Failed to establish a new connection: [Errno 11001] getaddrinfo failed'))\n"
     ]
    },
    {
     "name": "stdout",
     "output_type": "stream",
     "text": [
      "[**********************95%%********************  ]  7014 of 7361 completed"
     ]
    },
    {
     "name": "stderr",
     "output_type": "stream",
     "text": [
      "Failed to get ticker 'WAFD' reason: HTTPSConnectionPool(host='query2.finance.yahoo.com', port=443): Max retries exceeded with url: /v8/finance/chart/WAFD?range=1d&interval=1d (Caused by NewConnectionError('<urllib3.connection.HTTPSConnection object at 0x000001BCBB712090>: Failed to establish a new connection: [Errno 11001] getaddrinfo failed'))\n"
     ]
    },
    {
     "name": "stdout",
     "output_type": "stream",
     "text": [
      "[**********************95%%********************  ]  7015 of 7361 completed"
     ]
    },
    {
     "name": "stderr",
     "output_type": "stream",
     "text": [
      "Failed to get ticker 'WSR' reason: HTTPSConnectionPool(host='query2.finance.yahoo.com', port=443): Max retries exceeded with url: /v8/finance/chart/WSR?range=1d&interval=1d (Caused by NewConnectionError('<urllib3.connection.HTTPSConnection object at 0x000001BCD7FA8BD0>: Failed to establish a new connection: [Errno 11001] getaddrinfo failed'))\n"
     ]
    },
    {
     "name": "stdout",
     "output_type": "stream",
     "text": [
      "[**********************95%%********************  ]  7016 of 7361 completed"
     ]
    },
    {
     "name": "stderr",
     "output_type": "stream",
     "text": [
      "Failed to get ticker 'NCAC' reason: HTTPSConnectionPool(host='query2.finance.yahoo.com', port=443): Max retries exceeded with url: /v8/finance/chart/NCAC?range=1d&interval=1d (Caused by NewConnectionError('<urllib3.connection.HTTPSConnection object at 0x000001BCBB7172D0>: Failed to establish a new connection: [Errno 11001] getaddrinfo failed'))\n"
     ]
    },
    {
     "name": "stdout",
     "output_type": "stream",
     "text": [
      "[**********************95%%********************  ]  7017 of 7361 completed"
     ]
    },
    {
     "name": "stderr",
     "output_type": "stream",
     "text": [
      "Failed to get ticker 'AIMDW' reason: HTTPSConnectionPool(host='query2.finance.yahoo.com', port=443): Max retries exceeded with url: /v8/finance/chart/AIMDW?range=1d&interval=1d (Caused by NewConnectionError('<urllib3.connection.HTTPSConnection object at 0x000001BCD7F200D0>: Failed to establish a new connection: [Errno 11001] getaddrinfo failed'))\n",
      "Failed to get ticker 'RACYU' reason: HTTPSConnectionPool(host='query2.finance.yahoo.com', port=443): Max retries exceeded with url: /v8/finance/chart/RACYU?range=1d&interval=1d (Caused by NewConnectionError('<urllib3.connection.HTTPSConnection object at 0x000001BCD7F5C990>: Failed to establish a new connection: [Errno 11001] getaddrinfo failed'))\n",
      "Failed to get ticker 'AIMAU' reason: HTTPSConnectionPool(host='query2.finance.yahoo.com', port=443): Max retries exceeded with url: /v8/finance/chart/AIMAU?range=1d&interval=1d (Caused by NewConnectionError('<urllib3.connection.HTTPSConnection object at 0x000001BCBB711F90>: Failed to establish a new connection: [Errno 11001] getaddrinfo failed'))\n"
     ]
    },
    {
     "name": "stdout",
     "output_type": "stream",
     "text": [
      "[**********************95%%********************  ]  7019 of 7361 completed"
     ]
    },
    {
     "name": "stderr",
     "output_type": "stream",
     "text": [
      "Failed to get ticker 'ATR' reason: HTTPSConnectionPool(host='query2.finance.yahoo.com', port=443): Max retries exceeded with url: /v8/finance/chart/ATR?range=1d&interval=1d (Caused by NewConnectionError('<urllib3.connection.HTTPSConnection object at 0x000001BCBB707450>: Failed to establish a new connection: [Errno 11001] getaddrinfo failed'))\n"
     ]
    },
    {
     "name": "stdout",
     "output_type": "stream",
     "text": [
      "[**********************95%%********************  ]  7021 of 7361 completed"
     ]
    },
    {
     "name": "stderr",
     "output_type": "stream",
     "text": [
      "Failed to get ticker 'CXE' reason: HTTPSConnectionPool(host='query2.finance.yahoo.com', port=443): Max retries exceeded with url: /v8/finance/chart/CXE?range=1d&interval=1d (Caused by NewConnectionError('<urllib3.connection.HTTPSConnection object at 0x000001BCD7F32D50>: Failed to establish a new connection: [Errno 11001] getaddrinfo failed'))\n",
      "Failed to get ticker 'RNP' reason: HTTPSConnectionPool(host='query2.finance.yahoo.com', port=443): Max retries exceeded with url: /v8/finance/chart/RNP?range=1d&interval=1d (Caused by NewConnectionError('<urllib3.connection.HTTPSConnection object at 0x000001BCD7F4AD10>: Failed to establish a new connection: [Errno 11001] getaddrinfo failed'))\n"
     ]
    },
    {
     "name": "stdout",
     "output_type": "stream",
     "text": [
      "[**********************95%%********************  ]  7024 of 7361 completed"
     ]
    },
    {
     "name": "stderr",
     "output_type": "stream",
     "text": [
      "Failed to get ticker 'ATO' reason: HTTPSConnectionPool(host='query2.finance.yahoo.com', port=443): Max retries exceeded with url: /v8/finance/chart/ATO?range=1d&interval=1d (Caused by NewConnectionError('<urllib3.connection.HTTPSConnection object at 0x000001BCD7FA8F10>: Failed to establish a new connection: [Errno 11001] getaddrinfo failed'))\n",
      "Failed to get ticker 'LEXXW' reason: HTTPSConnectionPool(host='query2.finance.yahoo.com', port=443): Max retries exceeded with url: /v8/finance/chart/LEXXW?range=1d&interval=1d (Caused by NewConnectionError('<urllib3.connection.HTTPSConnection object at 0x000001BCBB725190>: Failed to establish a new connection: [Errno 11001] getaddrinfo failed'))\n"
     ]
    },
    {
     "name": "stdout",
     "output_type": "stream",
     "text": [
      "[**********************95%%********************  ]  7025 of 7361 completed"
     ]
    },
    {
     "name": "stderr",
     "output_type": "stream",
     "text": [
      "Failed to get ticker 'SAMAU' reason: HTTPSConnectionPool(host='query2.finance.yahoo.com', port=443): Max retries exceeded with url: /v8/finance/chart/SAMAU?range=1d&interval=1d (Caused by NewConnectionError('<urllib3.connection.HTTPSConnection object at 0x000001BCBB704E90>: Failed to establish a new connection: [Errno 11001] getaddrinfo failed'))\n"
     ]
    },
    {
     "name": "stdout",
     "output_type": "stream",
     "text": [
      "[**********************95%%********************  ]  7026 of 7361 completed"
     ]
    },
    {
     "name": "stderr",
     "output_type": "stream",
     "text": [
      "Failed to get ticker 'SCI' reason: HTTPSConnectionPool(host='query2.finance.yahoo.com', port=443): Max retries exceeded with url: /v8/finance/chart/SCI?range=1d&interval=1d (Caused by NewConnectionError('<urllib3.connection.HTTPSConnection object at 0x000001BCBB7144D0>: Failed to establish a new connection: [Errno 11001] getaddrinfo failed'))\n"
     ]
    },
    {
     "name": "stdout",
     "output_type": "stream",
     "text": [
      "[**********************95%%********************  ]  7027 of 7361 completed"
     ]
    },
    {
     "name": "stderr",
     "output_type": "stream",
     "text": [
      "Failed to get ticker 'BRAC' reason: HTTPSConnectionPool(host='query2.finance.yahoo.com', port=443): Max retries exceeded with url: /v8/finance/chart/BRAC?range=1d&interval=1d (Caused by NewConnectionError('<urllib3.connection.HTTPSConnection object at 0x000001BCBB6E6F50>: Failed to establish a new connection: [Errno 11001] getaddrinfo failed'))\n",
      "Failed to get ticker 'EDF' reason: HTTPSConnectionPool(host='query2.finance.yahoo.com', port=443): Max retries exceeded with url: /v8/finance/chart/EDF?range=1d&interval=1d (Caused by NewConnectionError('<urllib3.connection.HTTPSConnection object at 0x000001BCBB715510>: Failed to establish a new connection: [Errno 11001] getaddrinfo failed'))\n"
     ]
    },
    {
     "name": "stdout",
     "output_type": "stream",
     "text": [
      "[**********************95%%********************  ]  7029 of 7361 completed"
     ]
    },
    {
     "name": "stderr",
     "output_type": "stream",
     "text": [
      "Failed to get ticker 'APG' reason: HTTPSConnectionPool(host='query2.finance.yahoo.com', port=443): Max retries exceeded with url: /v8/finance/chart/APG?range=1d&interval=1d (Caused by NewConnectionError('<urllib3.connection.HTTPSConnection object at 0x000001BCD7FE9250>: Failed to establish a new connection: [Errno 11001] getaddrinfo failed'))\n"
     ]
    },
    {
     "name": "stdout",
     "output_type": "stream",
     "text": [
      "[**********************96%%********************  ]  7030 of 7361 completed"
     ]
    },
    {
     "name": "stderr",
     "output_type": "stream",
     "text": [
      "Failed to get ticker 'FFWM' reason: HTTPSConnectionPool(host='query2.finance.yahoo.com', port=443): Max retries exceeded with url: /v8/finance/chart/FFWM?range=1d&interval=1d (Caused by NewConnectionError('<urllib3.connection.HTTPSConnection object at 0x000001BCBB7072D0>: Failed to establish a new connection: [Errno 11001] getaddrinfo failed'))\n"
     ]
    },
    {
     "name": "stdout",
     "output_type": "stream",
     "text": [
      "[**********************96%%********************  ]  7032 of 7361 completed"
     ]
    },
    {
     "name": "stderr",
     "output_type": "stream",
     "text": [
      "Failed to get ticker 'BSRR' reason: HTTPSConnectionPool(host='query2.finance.yahoo.com', port=443): Max retries exceeded with url: /v8/finance/chart/BSRR?range=1d&interval=1d (Caused by NewConnectionError('<urllib3.connection.HTTPSConnection object at 0x000001BCD7F50790>: Failed to establish a new connection: [Errno 11001] getaddrinfo failed'))\n",
      "Failed to get ticker 'FTCH' reason: HTTPSConnectionPool(host='query2.finance.yahoo.com', port=443): Max retries exceeded with url: /v8/finance/chart/FTCH?range=1d&interval=1d (Caused by NewConnectionError('<urllib3.connection.HTTPSConnection object at 0x000001BCBB726210>: Failed to establish a new connection: [Errno 11001] getaddrinfo failed'))\n"
     ]
    },
    {
     "name": "stdout",
     "output_type": "stream",
     "text": [
      "[**********************96%%********************  ]  7033 of 7361 completed"
     ]
    },
    {
     "name": "stderr",
     "output_type": "stream",
     "text": [
      "Failed to get ticker 'UNMA' reason: HTTPSConnectionPool(host='query2.finance.yahoo.com', port=443): Max retries exceeded with url: /v8/finance/chart/UNMA?range=1d&interval=1d (Caused by NewConnectionError('<urllib3.connection.HTTPSConnection object at 0x000001BCD7FE4E10>: Failed to establish a new connection: [Errno 11001] getaddrinfo failed'))\n",
      "Failed to get ticker 'DHCAW' reason: HTTPSConnectionPool(host='query2.finance.yahoo.com', port=443): Max retries exceeded with url: /v8/finance/chart/DHCAW?range=1d&interval=1d (Caused by NewConnectionError('<urllib3.connection.HTTPSConnection object at 0x000001BCD7F76150>: Failed to establish a new connection: [Errno 11001] getaddrinfo failed'))\n"
     ]
    },
    {
     "name": "stdout",
     "output_type": "stream",
     "text": [
      "[**********************96%%********************  ]  7034 of 7361 completed"
     ]
    },
    {
     "name": "stderr",
     "output_type": "stream",
     "text": [
      "Failed to get ticker 'MSEX' reason: HTTPSConnectionPool(host='query2.finance.yahoo.com', port=443): Max retries exceeded with url: /v8/finance/chart/MSEX?range=1d&interval=1d (Caused by NewConnectionError('<urllib3.connection.HTTPSConnection object at 0x000001BCBB725490>: Failed to establish a new connection: [Errno 11001] getaddrinfo failed'))\n"
     ]
    },
    {
     "name": "stdout",
     "output_type": "stream",
     "text": [
      "[**********************96%%********************  ]  7036 of 7361 completed"
     ]
    },
    {
     "name": "stderr",
     "output_type": "stream",
     "text": [
      "Failed to get ticker 'DNA' reason: HTTPSConnectionPool(host='query2.finance.yahoo.com', port=443): Max retries exceeded with url: /v8/finance/chart/DNA?range=1d&interval=1d (Caused by NewConnectionError('<urllib3.connection.HTTPSConnection object at 0x000001BCBB726110>: Failed to establish a new connection: [Errno 11001] getaddrinfo failed'))\n"
     ]
    },
    {
     "name": "stdout",
     "output_type": "stream",
     "text": [
      "[**********************96%%********************  ]  7036 of 7361 completed"
     ]
    },
    {
     "name": "stderr",
     "output_type": "stream",
     "text": [
      "Failed to get ticker 'EM' reason: HTTPSConnectionPool(host='query2.finance.yahoo.com', port=443): Max retries exceeded with url: /v8/finance/chart/EM?range=1d&interval=1d (Caused by NewConnectionError('<urllib3.connection.HTTPSConnection object at 0x000001BCD5DB4BD0>: Failed to establish a new connection: [Errno 11001] getaddrinfo failed'))\n",
      "Failed to get ticker 'DECA' reason: HTTPSConnectionPool(host='query2.finance.yahoo.com', port=443): Max retries exceeded with url: /v8/finance/chart/DECA?range=1d&interval=1d (Caused by NewConnectionError('<urllib3.connection.HTTPSConnection object at 0x000001BCD7F30A10>: Failed to establish a new connection: [Errno 11001] getaddrinfo failed'))\n",
      "Failed to get ticker 'AMK' reason: HTTPSConnectionPool(host='query2.finance.yahoo.com', port=443): Max retries exceeded with url: /v8/finance/chart/AMK?range=1d&interval=1d (Caused by NewConnectionError('<urllib3.connection.HTTPSConnection object at 0x000001BCBB724C90>: Failed to establish a new connection: [Errno 11001] getaddrinfo failed'))\n"
     ]
    },
    {
     "name": "stdout",
     "output_type": "stream",
     "text": [
      "[**********************96%%********************  ]  7039 of 7361 completed"
     ]
    },
    {
     "name": "stderr",
     "output_type": "stream",
     "text": [
      "Failed to get ticker 'HSPOW' reason: HTTPSConnectionPool(host='query2.finance.yahoo.com', port=443): Max retries exceeded with url: /v8/finance/chart/HSPOW?range=1d&interval=1d (Caused by NewConnectionError('<urllib3.connection.HTTPSConnection object at 0x000001BCBB6D59D0>: Failed to establish a new connection: [Errno 11001] getaddrinfo failed'))\n",
      "Failed to get ticker 'BLD' reason: HTTPSConnectionPool(host='query2.finance.yahoo.com', port=443): Max retries exceeded with url: /v8/finance/chart/BLD?range=1d&interval=1d (Caused by NewConnectionError('<urllib3.connection.HTTPSConnection object at 0x000001BCD7FE9910>: Failed to establish a new connection: [Errno 11001] getaddrinfo failed'))\n"
     ]
    },
    {
     "name": "stdout",
     "output_type": "stream",
     "text": [
      "[**********************96%%********************  ]  7042 of 7361 completed"
     ]
    },
    {
     "name": "stderr",
     "output_type": "stream",
     "text": [
      "Failed to get ticker 'RRAC' reason: HTTPSConnectionPool(host='query2.finance.yahoo.com', port=443): Max retries exceeded with url: /v8/finance/chart/RRAC?range=1d&interval=1d (Caused by NewConnectionError('<urllib3.connection.HTTPSConnection object at 0x000001BCBB715610>: Failed to establish a new connection: [Errno 11001] getaddrinfo failed'))\n"
     ]
    },
    {
     "name": "stdout",
     "output_type": "stream",
     "text": [
      "[**********************96%%********************  ]  7044 of 7361 completed"
     ]
    },
    {
     "name": "stderr",
     "output_type": "stream",
     "text": [
      "Failed to get ticker 'MAIN' reason: HTTPSConnectionPool(host='query2.finance.yahoo.com', port=443): Max retries exceeded with url: /v8/finance/chart/MAIN?range=1d&interval=1d (Caused by NewConnectionError('<urllib3.connection.HTTPSConnection object at 0x000001BCD7FB75D0>: Failed to establish a new connection: [Errno 11001] getaddrinfo failed'))\n"
     ]
    },
    {
     "name": "stdout",
     "output_type": "stream",
     "text": [
      "[**********************96%%********************  ]  7045 of 7361 completed"
     ]
    },
    {
     "name": "stderr",
     "output_type": "stream",
     "text": [
      "Failed to get ticker 'BBCP' reason: HTTPSConnectionPool(host='query2.finance.yahoo.com', port=443): Max retries exceeded with url: /v8/finance/chart/BBCP?range=1d&interval=1d (Caused by NewConnectionError('<urllib3.connection.HTTPSConnection object at 0x000001BCBB727710>: Failed to establish a new connection: [Errno 11001] getaddrinfo failed'))\n",
      "Failed to get ticker 'IXAQW' reason: HTTPSConnectionPool(host='query2.finance.yahoo.com', port=443): Max retries exceeded with url: /v8/finance/chart/IXAQW?range=1d&interval=1d (Caused by NewConnectionError('<urllib3.connection.HTTPSConnection object at 0x000001BCD7FE7090>: Failed to establish a new connection: [Errno 11001] getaddrinfo failed'))\n"
     ]
    },
    {
     "name": "stdout",
     "output_type": "stream",
     "text": [
      "[**********************96%%********************  ]  7046 of 7361 completed"
     ]
    },
    {
     "name": "stderr",
     "output_type": "stream",
     "text": [
      "Failed to get ticker 'NPK' reason: HTTPSConnectionPool(host='query2.finance.yahoo.com', port=443): Max retries exceeded with url: /v8/finance/chart/NPK?range=1d&interval=1d (Caused by NewConnectionError('<urllib3.connection.HTTPSConnection object at 0x000001BCD7FE6C10>: Failed to establish a new connection: [Errno 11001] getaddrinfo failed'))\n"
     ]
    },
    {
     "name": "stdout",
     "output_type": "stream",
     "text": [
      "[**********************96%%********************  ]  7048 of 7361 completed"
     ]
    },
    {
     "name": "stderr",
     "output_type": "stream",
     "text": [
      "Failed to get ticker 'PFX' reason: HTTPSConnectionPool(host='query2.finance.yahoo.com', port=443): Max retries exceeded with url: /v8/finance/chart/PFX?range=1d&interval=1d (Caused by NewConnectionError('<urllib3.connection.HTTPSConnection object at 0x000001BCD9100E90>: Failed to establish a new connection: [Errno 11001] getaddrinfo failed'))\n",
      "Failed to get ticker 'OLITW' reason: HTTPSConnectionPool(host='query2.finance.yahoo.com', port=443): Max retries exceeded with url: /v8/finance/chart/OLITW?range=1d&interval=1d (Caused by NewConnectionError('<urllib3.connection.HTTPSConnection object at 0x000001BCD7EFCCD0>: Failed to establish a new connection: [Errno 11001] getaddrinfo failed'))\n"
     ]
    },
    {
     "name": "stdout",
     "output_type": "stream",
     "text": [
      "[**********************96%%********************  ]  7049 of 7361 completed"
     ]
    },
    {
     "name": "stderr",
     "output_type": "stream",
     "text": [
      "Failed to get ticker 'BTOG' reason: HTTPSConnectionPool(host='query2.finance.yahoo.com', port=443): Max retries exceeded with url: /v8/finance/chart/BTOG?range=1d&interval=1d (Caused by NewConnectionError('<urllib3.connection.HTTPSConnection object at 0x000001BCBB727390>: Failed to establish a new connection: [Errno 11001] getaddrinfo failed'))\n"
     ]
    },
    {
     "name": "stdout",
     "output_type": "stream",
     "text": [
      "[**********************96%%********************  ]  7050 of 7361 completed"
     ]
    },
    {
     "name": "stderr",
     "output_type": "stream",
     "text": [
      "Failed to get ticker 'DUO' reason: HTTPSConnectionPool(host='query2.finance.yahoo.com', port=443): Max retries exceeded with url: /v8/finance/chart/DUO?range=1d&interval=1d (Caused by NewConnectionError('<urllib3.connection.HTTPSConnection object at 0x000001BCBB715AD0>: Failed to establish a new connection: [Errno 11001] getaddrinfo failed'))\n"
     ]
    },
    {
     "name": "stdout",
     "output_type": "stream",
     "text": [
      "[**********************96%%********************  ]  7051 of 7361 completed"
     ]
    },
    {
     "name": "stderr",
     "output_type": "stream",
     "text": [
      "Failed to get ticker 'FDS' reason: HTTPSConnectionPool(host='query2.finance.yahoo.com', port=443): Max retries exceeded with url: /v8/finance/chart/FDS?range=1d&interval=1d (Caused by NewConnectionError('<urllib3.connection.HTTPSConnection object at 0x000001BCD9102BD0>: Failed to establish a new connection: [Errno 11001] getaddrinfo failed'))\n",
      "Failed to get ticker 'GEO' reason: HTTPSConnectionPool(host='query2.finance.yahoo.com', port=443): Max retries exceeded with url: /v8/finance/chart/GEO?range=1d&interval=1d (Caused by NewConnectionError('<urllib3.connection.HTTPSConnection object at 0x000001BCD90F91D0>: Failed to establish a new connection: [Errno 11001] getaddrinfo failed'))\n",
      "Failed to get ticker 'GTACW' reason: HTTPSConnectionPool(host='query2.finance.yahoo.com', port=443): Max retries exceeded with url: /v8/finance/chart/GTACW?range=1d&interval=1d (Caused by NewConnectionError('<urllib3.connection.HTTPSConnection object at 0x000001BCD7FE6A10>: Failed to establish a new connection: [Errno 11001] getaddrinfo failed'))\n"
     ]
    },
    {
     "name": "stdout",
     "output_type": "stream",
     "text": [
      "[**********************96%%********************  ]  7052 of 7361 completed"
     ]
    },
    {
     "name": "stderr",
     "output_type": "stream",
     "text": [
      "Failed to get ticker 'BHACU' reason: HTTPSConnectionPool(host='query2.finance.yahoo.com', port=443): Max retries exceeded with url: /v8/finance/chart/BHACU?range=1d&interval=1d (Caused by NewConnectionError('<urllib3.connection.HTTPSConnection object at 0x000001BCBB710090>: Failed to establish a new connection: [Errno 11001] getaddrinfo failed'))\n",
      "Failed to get ticker 'BAK' reason: HTTPSConnectionPool(host='query2.finance.yahoo.com', port=443): Max retries exceeded with url: /v8/finance/chart/BAK?range=1d&interval=1d (Caused by NewConnectionError('<urllib3.connection.HTTPSConnection object at 0x000001BCD7FD8990>: Failed to establish a new connection: [Errno 11001] getaddrinfo failed'))\n"
     ]
    },
    {
     "name": "stdout",
     "output_type": "stream",
     "text": [
      "[**********************96%%********************  ]  7055 of 7361 completed"
     ]
    },
    {
     "name": "stderr",
     "output_type": "stream",
     "text": [
      "Failed to get ticker 'EGP' reason: HTTPSConnectionPool(host='query2.finance.yahoo.com', port=443): Max retries exceeded with url: /v8/finance/chart/EGP?range=1d&interval=1d (Caused by NewConnectionError('<urllib3.connection.HTTPSConnection object at 0x000001BCD90F9710>: Failed to establish a new connection: [Errno 11001] getaddrinfo failed'))\n",
      "Failed to get ticker 'ALG' reason: HTTPSConnectionPool(host='query2.finance.yahoo.com', port=443): Max retries exceeded with url: /v8/finance/chart/ALG?range=1d&interval=1d (Caused by NewConnectionError('<urllib3.connection.HTTPSConnection object at 0x000001BCD7FE6990>: Failed to establish a new connection: [Errno 11001] getaddrinfo failed'))\n"
     ]
    },
    {
     "name": "stdout",
     "output_type": "stream",
     "text": [
      "[**********************96%%********************  ]  7056 of 7361 completed"
     ]
    },
    {
     "name": "stderr",
     "output_type": "stream",
     "text": [
      "Failed to get ticker 'AEHR' reason: HTTPSConnectionPool(host='query2.finance.yahoo.com', port=443): Max retries exceeded with url: /v8/finance/chart/AEHR?range=1d&interval=1d (Caused by NewConnectionError('<urllib3.connection.HTTPSConnection object at 0x000001BCD7F4A950>: Failed to establish a new connection: [Errno 11001] getaddrinfo failed'))\n",
      "Failed to get ticker 'NCMI' reason: HTTPSConnectionPool(host='query2.finance.yahoo.com', port=443): Max retries exceeded with url: /v8/finance/chart/NCMI?range=1d&interval=1d (Caused by NewConnectionError('<urllib3.connection.HTTPSConnection object at 0x000001BCD5D5AB50>: Failed to establish a new connection: [Errno 11001] getaddrinfo failed'))\n"
     ]
    },
    {
     "name": "stdout",
     "output_type": "stream",
     "text": [
      "[**********************96%%********************  ]  7059 of 7361 completed"
     ]
    },
    {
     "name": "stderr",
     "output_type": "stream",
     "text": [
      "Failed to get ticker 'ADTHW' reason: HTTPSConnectionPool(host='query2.finance.yahoo.com', port=443): Max retries exceeded with url: /v8/finance/chart/ADTHW?range=1d&interval=1d (Caused by NewConnectionError('<urllib3.connection.HTTPSConnection object at 0x000001BCBB715890>: Failed to establish a new connection: [Errno 11001] getaddrinfo failed'))\n"
     ]
    },
    {
     "name": "stdout",
     "output_type": "stream",
     "text": [
      "[**********************96%%********************  ]  7061 of 7361 completed"
     ]
    },
    {
     "name": "stderr",
     "output_type": "stream",
     "text": [
      "Failed to get ticker 'CDMO' reason: HTTPSConnectionPool(host='query2.finance.yahoo.com', port=443): Max retries exceeded with url: /v8/finance/chart/CDMO?range=1d&interval=1d (Caused by NewConnectionError('<urllib3.connection.HTTPSConnection object at 0x000001BCD7EFE450>: Failed to establish a new connection: [Errno 11001] getaddrinfo failed'))\n"
     ]
    },
    {
     "name": "stdout",
     "output_type": "stream",
     "text": [
      "[**********************96%%********************  ]  7062 of 7361 completed"
     ]
    },
    {
     "name": "stderr",
     "output_type": "stream",
     "text": [
      "Failed to get ticker 'WNEB' reason: HTTPSConnectionPool(host='query2.finance.yahoo.com', port=443): Max retries exceeded with url: /v8/finance/chart/WNEB?range=1d&interval=1d (Caused by NewConnectionError('<urllib3.connection.HTTPSConnection object at 0x000001BCD7F77CD0>: Failed to establish a new connection: [Errno 11001] getaddrinfo failed'))\n",
      "Failed to get ticker 'DUKB' reason: HTTPSConnectionPool(host='query2.finance.yahoo.com', port=443): Max retries exceeded with url: /v8/finance/chart/DUKB?range=1d&interval=1d (Caused by NewConnectionError('<urllib3.connection.HTTPSConnection object at 0x000001BCD7F21910>: Failed to establish a new connection: [Errno 11001] getaddrinfo failed'))\n"
     ]
    },
    {
     "name": "stdout",
     "output_type": "stream",
     "text": [
      "[**********************96%%********************  ]  7063 of 7361 completed"
     ]
    },
    {
     "name": "stderr",
     "output_type": "stream",
     "text": [
      "Failed to get ticker 'FBMS' reason: HTTPSConnectionPool(host='query2.finance.yahoo.com', port=443): Max retries exceeded with url: /v8/finance/chart/FBMS?range=1d&interval=1d (Caused by NewConnectionError('<urllib3.connection.HTTPSConnection object at 0x000001BCBB725F50>: Failed to establish a new connection: [Errno 11001] getaddrinfo failed'))\n"
     ]
    },
    {
     "name": "stdout",
     "output_type": "stream",
     "text": [
      "[**********************96%%********************  ]  7064 of 7361 completed"
     ]
    },
    {
     "name": "stderr",
     "output_type": "stream",
     "text": [
      "Failed to get ticker 'GOTU' reason: HTTPSConnectionPool(host='query2.finance.yahoo.com', port=443): Max retries exceeded with url: /v8/finance/chart/GOTU?range=1d&interval=1d (Caused by NewConnectionError('<urllib3.connection.HTTPSConnection object at 0x000001BCBB726D50>: Failed to establish a new connection: [Errno 11001] getaddrinfo failed'))\n"
     ]
    },
    {
     "name": "stdout",
     "output_type": "stream",
     "text": [
      "[**********************96%%********************  ]  7065 of 7361 completed"
     ]
    },
    {
     "name": "stderr",
     "output_type": "stream",
     "text": [
      "Failed to get ticker 'NN' reason: HTTPSConnectionPool(host='query2.finance.yahoo.com', port=443): Max retries exceeded with url: /v8/finance/chart/NN?range=1d&interval=1d (Caused by NewConnectionError('<urllib3.connection.HTTPSConnection object at 0x000001BCD7FA8D90>: Failed to establish a new connection: [Errno 11001] getaddrinfo failed'))\n"
     ]
    },
    {
     "name": "stdout",
     "output_type": "stream",
     "text": [
      "[**********************96%%********************  ]  7066 of 7361 completed"
     ]
    },
    {
     "name": "stderr",
     "output_type": "stream",
     "text": [
      "Failed to get ticker 'TKO' reason: HTTPSConnectionPool(host='query2.finance.yahoo.com', port=443): Max retries exceeded with url: /v8/finance/chart/TKO?range=1d&interval=1d (Caused by NewConnectionError('<urllib3.connection.HTTPSConnection object at 0x000001BCD90F6A90>: Failed to establish a new connection: [Errno 11001] getaddrinfo failed'))\n",
      "Failed to get ticker 'OAKUW' reason: HTTPSConnectionPool(host='query2.finance.yahoo.com', port=443): Max retries exceeded with url: /v8/finance/chart/OAKUW?range=1d&interval=1d (Caused by NewConnectionError('<urllib3.connection.HTTPSConnection object at 0x000001BCD7FE9590>: Failed to establish a new connection: [Errno 11001] getaddrinfo failed'))\n",
      "Failed to get ticker 'ABCM' reason: HTTPSConnectionPool(host='query2.finance.yahoo.com', port=443): Max retries exceeded with url: /v8/finance/chart/ABCM?range=1d&interval=1d (Caused by NewConnectionError('<urllib3.connection.HTTPSConnection object at 0x000001BCD911B3D0>: Failed to establish a new connection: [Errno 11001] getaddrinfo failed'))\n"
     ]
    },
    {
     "name": "stdout",
     "output_type": "stream",
     "text": [
      "[**********************96%%********************  ]  7069 of 7361 completed"
     ]
    },
    {
     "name": "stderr",
     "output_type": "stream",
     "text": [
      "Failed to get ticker 'MLAB' reason: HTTPSConnectionPool(host='query2.finance.yahoo.com', port=443): Max retries exceeded with url: /v8/finance/chart/MLAB?range=1d&interval=1d (Caused by NewConnectionError('<urllib3.connection.HTTPSConnection object at 0x000001BCD911AC90>: Failed to establish a new connection: [Errno 11001] getaddrinfo failed'))\n"
     ]
    },
    {
     "name": "stdout",
     "output_type": "stream",
     "text": [
      "[**********************96%%********************  ]  7070 of 7361 completed"
     ]
    },
    {
     "name": "stderr",
     "output_type": "stream",
     "text": [
      "Failed to get ticker 'BIOS' reason: HTTPSConnectionPool(host='query2.finance.yahoo.com', port=443): Max retries exceeded with url: /v8/finance/chart/BIOS?range=1d&interval=1d (Caused by NewConnectionError('<urllib3.connection.HTTPSConnection object at 0x000001BCD911B890>: Failed to establish a new connection: [Errno 11001] getaddrinfo failed'))\n"
     ]
    },
    {
     "name": "stdout",
     "output_type": "stream",
     "text": [
      "[**********************96%%********************  ]  7072 of 7361 completed"
     ]
    },
    {
     "name": "stderr",
     "output_type": "stream",
     "text": [
      "Failed to get ticker 'UZE' reason: HTTPSConnectionPool(host='query2.finance.yahoo.com', port=443): Max retries exceeded with url: /v8/finance/chart/UZE?range=1d&interval=1d (Caused by NewConnectionError('<urllib3.connection.HTTPSConnection object at 0x000001BCD7FE5B50>: Failed to establish a new connection: [Errno 11001] getaddrinfo failed'))\n"
     ]
    },
    {
     "name": "stdout",
     "output_type": "stream",
     "text": [
      "[**********************96%%********************  ]  7073 of 7361 completed"
     ]
    },
    {
     "name": "stderr",
     "output_type": "stream",
     "text": [
      "Failed to get ticker 'RMBS' reason: HTTPSConnectionPool(host='query2.finance.yahoo.com', port=443): Max retries exceeded with url: /v8/finance/chart/RMBS?range=1d&interval=1d (Caused by NewConnectionError('<urllib3.connection.HTTPSConnection object at 0x000001BCD7F752D0>: Failed to establish a new connection: [Errno 11001] getaddrinfo failed'))\n",
      "Failed to get ticker 'NNVC' reason: HTTPSConnectionPool(host='query2.finance.yahoo.com', port=443): Max retries exceeded with url: /v8/finance/chart/NNVC?range=1d&interval=1d (Caused by NewConnectionError('<urllib3.connection.HTTPSConnection object at 0x000001BCD7F53D50>: Failed to establish a new connection: [Errno 11001] getaddrinfo failed'))\n"
     ]
    },
    {
     "name": "stdout",
     "output_type": "stream",
     "text": [
      "[**********************96%%********************  ]  7074 of 7361 completed"
     ]
    },
    {
     "name": "stderr",
     "output_type": "stream",
     "text": [
      "Failed to get ticker 'LEXX' reason: HTTPSConnectionPool(host='query2.finance.yahoo.com', port=443): Max retries exceeded with url: /v8/finance/chart/LEXX?range=1d&interval=1d (Caused by NewConnectionError('<urllib3.connection.HTTPSConnection object at 0x000001BCD7FE79D0>: Failed to establish a new connection: [Errno 11001] getaddrinfo failed'))\n"
     ]
    },
    {
     "name": "stdout",
     "output_type": "stream",
     "text": [
      "[**********************96%%********************  ]  7074 of 7361 completed"
     ]
    },
    {
     "name": "stderr",
     "output_type": "stream",
     "text": [
      "Failed to get ticker 'VNRX' reason: HTTPSConnectionPool(host='query2.finance.yahoo.com', port=443): Max retries exceeded with url: /v8/finance/chart/VNRX?range=1d&interval=1d (Caused by NewConnectionError('<urllib3.connection.HTTPSConnection object at 0x000001BCD7F1A1D0>: Failed to establish a new connection: [Errno 11001] getaddrinfo failed'))\n",
      "Failed to get ticker 'BYTSU' reason: HTTPSConnectionPool(host='query2.finance.yahoo.com', port=443): Max retries exceeded with url: /v8/finance/chart/BYTSU?range=1d&interval=1d (Caused by NewConnectionError('<urllib3.connection.HTTPSConnection object at 0x000001BCBB724750>: Failed to establish a new connection: [Errno 11001] getaddrinfo failed'))\n"
     ]
    },
    {
     "name": "stdout",
     "output_type": "stream",
     "text": [
      "[**********************96%%********************  ]  7077 of 7361 completed"
     ]
    },
    {
     "name": "stderr",
     "output_type": "stream",
     "text": [
      "Failed to get ticker 'CTBI' reason: HTTPSConnectionPool(host='query2.finance.yahoo.com', port=443): Max retries exceeded with url: /v8/finance/chart/CTBI?range=1d&interval=1d (Caused by NewConnectionError('<urllib3.connection.HTTPSConnection object at 0x000001BCD9101710>: Failed to establish a new connection: [Errno 11001] getaddrinfo failed'))\n"
     ]
    },
    {
     "name": "stdout",
     "output_type": "stream",
     "text": [
      "[**********************96%%********************  ]  7078 of 7361 completed"
     ]
    },
    {
     "name": "stderr",
     "output_type": "stream",
     "text": [
      "Failed to get ticker 'ABEO' reason: HTTPSConnectionPool(host='query2.finance.yahoo.com', port=443): Max retries exceeded with url: /v8/finance/chart/ABEO?range=1d&interval=1d (Caused by NewConnectionError('<urllib3.connection.HTTPSConnection object at 0x000001BCD7F8E6D0>: Failed to establish a new connection: [Errno 11001] getaddrinfo failed'))\n"
     ]
    },
    {
     "name": "stdout",
     "output_type": "stream",
     "text": [
      "[**********************96%%********************  ]  7081 of 7361 completed"
     ]
    },
    {
     "name": "stderr",
     "output_type": "stream",
     "text": [
      "Failed to get ticker 'ORGO' reason: HTTPSConnectionPool(host='query2.finance.yahoo.com', port=443): Max retries exceeded with url: /v8/finance/chart/ORGO?range=1d&interval=1d (Caused by NewConnectionError('<urllib3.connection.HTTPSConnection object at 0x000001BCD7F50BD0>: Failed to establish a new connection: [Errno 11001] getaddrinfo failed'))\n",
      "Failed to get ticker 'ACAHW' reason: HTTPSConnectionPool(host='query2.finance.yahoo.com', port=443): Max retries exceeded with url: /v8/finance/chart/ACAHW?range=1d&interval=1d (Caused by NewConnectionError('<urllib3.connection.HTTPSConnection object at 0x000001BCBB707790>: Failed to establish a new connection: [Errno 11001] getaddrinfo failed'))\n",
      "Failed to get ticker 'PTCT' reason: HTTPSConnectionPool(host='query2.finance.yahoo.com', port=443): Max retries exceeded with url: /v8/finance/chart/PTCT?range=1d&interval=1d (Caused by NewConnectionError('<urllib3.connection.HTTPSConnection object at 0x000001BCD7FAA850>: Failed to establish a new connection: [Errno 11001] getaddrinfo failed'))\n"
     ]
    },
    {
     "name": "stdout",
     "output_type": "stream",
     "text": [
      "[**********************96%%********************  ]  7082 of 7361 completed"
     ]
    },
    {
     "name": "stderr",
     "output_type": "stream",
     "text": [
      "Failed to get ticker 'CMG' reason: HTTPSConnectionPool(host='query2.finance.yahoo.com', port=443): Max retries exceeded with url: /v8/finance/chart/CMG?range=1d&interval=1d (Caused by NewConnectionError('<urllib3.connection.HTTPSConnection object at 0x000001BCBB726590>: Failed to establish a new connection: [Errno 11001] getaddrinfo failed'))\n",
      "Failed to get ticker 'IFBD' reason: HTTPSConnectionPool(host='query2.finance.yahoo.com', port=443): Max retries exceeded with url: /v8/finance/chart/IFBD?range=1d&interval=1d (Caused by NewConnectionError('<urllib3.connection.HTTPSConnection object at 0x000001BCD90F5690>: Failed to establish a new connection: [Errno 11001] getaddrinfo failed'))\n"
     ]
    },
    {
     "name": "stdout",
     "output_type": "stream",
     "text": [
      "[**********************96%%********************  ]  7083 of 7361 completed"
     ]
    },
    {
     "name": "stderr",
     "output_type": "stream",
     "text": [
      "Failed to get ticker 'WCN' reason: HTTPSConnectionPool(host='query2.finance.yahoo.com', port=443): Max retries exceeded with url: /v8/finance/chart/WCN?range=1d&interval=1d (Caused by NewConnectionError('<urllib3.connection.HTTPSConnection object at 0x000001BCD7FC9810>: Failed to establish a new connection: [Errno 11001] getaddrinfo failed'))\n"
     ]
    },
    {
     "name": "stdout",
     "output_type": "stream",
     "text": [
      "[**********************96%%********************  ]  7085 of 7361 completed"
     ]
    },
    {
     "name": "stderr",
     "output_type": "stream",
     "text": [
      "Failed to get ticker 'SPT' reason: HTTPSConnectionPool(host='query2.finance.yahoo.com', port=443): Max retries exceeded with url: /v8/finance/chart/SPT?range=1d&interval=1d (Caused by NewConnectionError('<urllib3.connection.HTTPSConnection object at 0x000001BCD7FE6890>: Failed to establish a new connection: [Errno 11001] getaddrinfo failed'))\n"
     ]
    },
    {
     "name": "stdout",
     "output_type": "stream",
     "text": [
      "[**********************96%%********************  ]  7087 of 7361 completed"
     ]
    },
    {
     "name": "stderr",
     "output_type": "stream",
     "text": [
      "Failed to get ticker 'ETWO' reason: HTTPSConnectionPool(host='query2.finance.yahoo.com', port=443): Max retries exceeded with url: /v8/finance/chart/ETWO?range=1d&interval=1d (Caused by NewConnectionError('<urllib3.connection.HTTPSConnection object at 0x000001BCD293EE90>: Failed to establish a new connection: [Errno 11001] getaddrinfo failed'))\n"
     ]
    },
    {
     "name": "stdout",
     "output_type": "stream",
     "text": [
      "[**********************96%%********************  ]  7089 of 7361 completed"
     ]
    },
    {
     "name": "stderr",
     "output_type": "stream",
     "text": [
      "Failed to get ticker 'ELMD' reason: HTTPSConnectionPool(host='query2.finance.yahoo.com', port=443): Max retries exceeded with url: /v8/finance/chart/ELMD?range=1d&interval=1d (Caused by NewConnectionError('<urllib3.connection.HTTPSConnection object at 0x000001BCBB726C90>: Failed to establish a new connection: [Errno 11001] getaddrinfo failed'))\n"
     ]
    },
    {
     "name": "stdout",
     "output_type": "stream",
     "text": [
      "[**********************96%%********************  ]  7090 of 7361 completed"
     ]
    },
    {
     "name": "stderr",
     "output_type": "stream",
     "text": [
      "Failed to get ticker 'OTECW' reason: HTTPSConnectionPool(host='query2.finance.yahoo.com', port=443): Max retries exceeded with url: /v8/finance/chart/OTECW?range=1d&interval=1d (Caused by NewConnectionError('<urllib3.connection.HTTPSConnection object at 0x000001BCD7F20A90>: Failed to establish a new connection: [Errno 11001] getaddrinfo failed'))\n",
      "Failed to get ticker 'SRBK' reason: HTTPSConnectionPool(host='query2.finance.yahoo.com', port=443): Max retries exceeded with url: /v8/finance/chart/SRBK?range=1d&interval=1d (Caused by NewConnectionError('<urllib3.connection.HTTPSConnection object at 0x000001BCD4C19190>: Failed to establish a new connection: [Errno 11001] getaddrinfo failed'))\n"
     ]
    },
    {
     "name": "stdout",
     "output_type": "stream",
     "text": [
      "[**********************96%%********************  ]  7091 of 7361 completed"
     ]
    },
    {
     "name": "stderr",
     "output_type": "stream",
     "text": [
      "Failed to get ticker 'COGT' reason: HTTPSConnectionPool(host='query2.finance.yahoo.com', port=443): Max retries exceeded with url: /v8/finance/chart/COGT?range=1d&interval=1d (Caused by NewConnectionError('<urllib3.connection.HTTPSConnection object at 0x000001BCD911B510>: Failed to establish a new connection: [Errno 11001] getaddrinfo failed'))\n"
     ]
    },
    {
     "name": "stdout",
     "output_type": "stream",
     "text": [
      "[**********************96%%********************  ]  7093 of 7361 completed"
     ]
    },
    {
     "name": "stderr",
     "output_type": "stream",
     "text": [
      "Failed to get ticker 'CAL' reason: HTTPSConnectionPool(host='query2.finance.yahoo.com', port=443): Max retries exceeded with url: /v8/finance/chart/CAL?range=1d&interval=1d (Caused by NewConnectionError('<urllib3.connection.HTTPSConnection object at 0x000001BCD7FAABD0>: Failed to establish a new connection: [Errno 11001] getaddrinfo failed'))\n"
     ]
    },
    {
     "name": "stdout",
     "output_type": "stream",
     "text": [
      "[**********************96%%********************  ]  7094 of 7361 completed"
     ]
    },
    {
     "name": "stderr",
     "output_type": "stream",
     "text": [
      "Failed to get ticker 'DDD' reason: HTTPSConnectionPool(host='query2.finance.yahoo.com', port=443): Max retries exceeded with url: /v8/finance/chart/DDD?range=1d&interval=1d (Caused by NewConnectionError('<urllib3.connection.HTTPSConnection object at 0x000001BCD28CC1D0>: Failed to establish a new connection: [Errno 11001] getaddrinfo failed'))\n",
      "Failed to get ticker 'RGS' reason: HTTPSConnectionPool(host='query2.finance.yahoo.com', port=443): Max retries exceeded with url: /v8/finance/chart/RGS?range=1d&interval=1d (Caused by NewConnectionError('<urllib3.connection.HTTPSConnection object at 0x000001BCD7F82E10>: Failed to establish a new connection: [Errno 11001] getaddrinfo failed'))\n"
     ]
    },
    {
     "name": "stdout",
     "output_type": "stream",
     "text": [
      "[**********************96%%********************  ]  7095 of 7361 completed"
     ]
    },
    {
     "name": "stderr",
     "output_type": "stream",
     "text": [
      "Failed to get ticker 'MCAGU' reason: HTTPSConnectionPool(host='query2.finance.yahoo.com', port=443): Max retries exceeded with url: /v8/finance/chart/MCAGU?range=1d&interval=1d (Caused by NewConnectionError('<urllib3.connection.HTTPSConnection object at 0x000001BCD7F5D210>: Failed to establish a new connection: [Errno 11001] getaddrinfo failed'))\n"
     ]
    },
    {
     "name": "stdout",
     "output_type": "stream",
     "text": [
      "[**********************96%%********************  ]  7096 of 7361 completed"
     ]
    },
    {
     "name": "stderr",
     "output_type": "stream",
     "text": [
      "Failed to get ticker 'LGO' reason: HTTPSConnectionPool(host='query2.finance.yahoo.com', port=443): Max retries exceeded with url: /v8/finance/chart/LGO?range=1d&interval=1d (Caused by NewConnectionError('<urllib3.connection.HTTPSConnection object at 0x000001BCD90FAA10>: Failed to establish a new connection: [Errno 11001] getaddrinfo failed'))\n"
     ]
    },
    {
     "name": "stdout",
     "output_type": "stream",
     "text": [
      "[**********************96%%********************  ]  7097 of 7361 completed"
     ]
    },
    {
     "name": "stderr",
     "output_type": "stream",
     "text": [
      "Failed to get ticker 'ALGT' reason: HTTPSConnectionPool(host='query2.finance.yahoo.com', port=443): Max retries exceeded with url: /v8/finance/chart/ALGT?range=1d&interval=1d (Caused by NewConnectionError('<urllib3.connection.HTTPSConnection object at 0x000001BCD7FE6750>: Failed to establish a new connection: [Errno 11001] getaddrinfo failed'))\n"
     ]
    },
    {
     "name": "stdout",
     "output_type": "stream",
     "text": [
      "[**********************96%%********************  ]  7098 of 7361 completed"
     ]
    },
    {
     "name": "stderr",
     "output_type": "stream",
     "text": [
      "Failed to get ticker 'CXH' reason: HTTPSConnectionPool(host='query2.finance.yahoo.com', port=443): Max retries exceeded with url: /v8/finance/chart/CXH?range=1d&interval=1d (Caused by NewConnectionError('<urllib3.connection.HTTPSConnection object at 0x000001BCD7FE6FD0>: Failed to establish a new connection: [Errno 11001] getaddrinfo failed'))\n"
     ]
    },
    {
     "name": "stdout",
     "output_type": "stream",
     "text": [
      "[**********************96%%********************  ]  7099 of 7361 completed"
     ]
    },
    {
     "name": "stderr",
     "output_type": "stream",
     "text": [
      "Failed to get ticker 'CELC' reason: HTTPSConnectionPool(host='query2.finance.yahoo.com', port=443): Max retries exceeded with url: /v8/finance/chart/CELC?range=1d&interval=1d (Caused by NewConnectionError('<urllib3.connection.HTTPSConnection object at 0x000001BCD9103C10>: Failed to establish a new connection: [Errno 11001] getaddrinfo failed'))\n"
     ]
    },
    {
     "name": "stdout",
     "output_type": "stream",
     "text": [
      "[**********************96%%********************  ]  7100 of 7361 completed"
     ]
    },
    {
     "name": "stderr",
     "output_type": "stream",
     "text": [
      "Failed to get ticker 'DXLG' reason: HTTPSConnectionPool(host='query2.finance.yahoo.com', port=443): Max retries exceeded with url: /v8/finance/chart/DXLG?range=1d&interval=1d (Caused by NewConnectionError('<urllib3.connection.HTTPSConnection object at 0x000001BCD90FB150>: Failed to establish a new connection: [Errno 11001] getaddrinfo failed'))\n",
      "Failed to get ticker 'KBR' reason: HTTPSConnectionPool(host='query2.finance.yahoo.com', port=443): Max retries exceeded with url: /v8/finance/chart/KBR?range=1d&interval=1d (Caused by NewConnectionError('<urllib3.connection.HTTPSConnection object at 0x000001BCD7F52C90>: Failed to establish a new connection: [Errno 11001] getaddrinfo failed'))\n"
     ]
    },
    {
     "name": "stdout",
     "output_type": "stream",
     "text": [
      "[**********************96%%********************  ]  7101 of 7361 completed"
     ]
    },
    {
     "name": "stderr",
     "output_type": "stream",
     "text": [
      "Failed to get ticker 'GMED' reason: HTTPSConnectionPool(host='query2.finance.yahoo.com', port=443): Max retries exceeded with url: /v8/finance/chart/GMED?range=1d&interval=1d (Caused by NewConnectionError('<urllib3.connection.HTTPSConnection object at 0x000001BCD9127D50>: Failed to establish a new connection: [Errno 11001] getaddrinfo failed'))\n"
     ]
    },
    {
     "name": "stdout",
     "output_type": "stream",
     "text": [
      "[**********************96%%********************  ]  7103 of 7361 completed"
     ]
    },
    {
     "name": "stderr",
     "output_type": "stream",
     "text": [
      "Failed to get ticker 'BFC' reason: HTTPSConnectionPool(host='query2.finance.yahoo.com', port=443): Max retries exceeded with url: /v8/finance/chart/BFC?range=1d&interval=1d (Caused by NewConnectionError('<urllib3.connection.HTTPSConnection object at 0x000001BCBB710090>: Failed to establish a new connection: [Errno 11001] getaddrinfo failed'))\n"
     ]
    },
    {
     "name": "stdout",
     "output_type": "stream",
     "text": [
      "[**********************97%%********************* ]  7105 of 7361 completed"
     ]
    },
    {
     "name": "stderr",
     "output_type": "stream",
     "text": [
      "Failed to get ticker 'KNSW' reason: HTTPSConnectionPool(host='query2.finance.yahoo.com', port=443): Max retries exceeded with url: /v8/finance/chart/KNSW?range=1d&interval=1d (Caused by NewConnectionError('<urllib3.connection.HTTPSConnection object at 0x000001BCD7F4AB50>: Failed to establish a new connection: [Errno 11001] getaddrinfo failed'))\n",
      "Failed to get ticker 'ATNI' reason: HTTPSConnectionPool(host='query2.finance.yahoo.com', port=443): Max retries exceeded with url: /v8/finance/chart/ATNI?range=1d&interval=1d (Caused by NewConnectionError('<urllib3.connection.HTTPSConnection object at 0x000001BCBB712750>: Failed to establish a new connection: [Errno 11001] getaddrinfo failed'))\n",
      "Failed to get ticker 'GDNRW' reason: HTTPSConnectionPool(host='query2.finance.yahoo.com', port=443): Max retries exceeded with url: /v8/finance/chart/GDNRW?range=1d&interval=1d (Caused by NewConnectionError('<urllib3.connection.HTTPSConnection object at 0x000001BCBB724090>: Failed to establish a new connection: [Errno 11001] getaddrinfo failed'))\n"
     ]
    },
    {
     "name": "stdout",
     "output_type": "stream",
     "text": [
      "[**********************97%%********************* ]  7106 of 7361 completed"
     ]
    },
    {
     "name": "stderr",
     "output_type": "stream",
     "text": [
      "Failed to get ticker 'HTFC' reason: HTTPSConnectionPool(host='query2.finance.yahoo.com', port=443): Max retries exceeded with url: /v8/finance/chart/HTFC?range=1d&interval=1d (Caused by NewConnectionError('<urllib3.connection.HTTPSConnection object at 0x000001BCD7FE6FD0>: Failed to establish a new connection: [Errno 11001] getaddrinfo failed'))\n"
     ]
    },
    {
     "name": "stdout",
     "output_type": "stream",
     "text": [
      "[**********************97%%********************* ]  7107 of 7361 completed"
     ]
    },
    {
     "name": "stderr",
     "output_type": "stream",
     "text": [
      "Failed to get ticker 'GJH' reason: HTTPSConnectionPool(host='query2.finance.yahoo.com', port=443): Max retries exceeded with url: /v8/finance/chart/GJH?range=1d&interval=1d (Caused by NewConnectionError('<urllib3.connection.HTTPSConnection object at 0x000001BCD7F52F50>: Failed to establish a new connection: [Errno 11001] getaddrinfo failed'))\n"
     ]
    },
    {
     "name": "stdout",
     "output_type": "stream",
     "text": [
      "[**********************97%%********************* ]  7109 of 7361 completed"
     ]
    },
    {
     "name": "stderr",
     "output_type": "stream",
     "text": [
      "Failed to get ticker 'WLYB' reason: HTTPSConnectionPool(host='query2.finance.yahoo.com', port=443): Max retries exceeded with url: /v8/finance/chart/WLYB?range=1d&interval=1d (Caused by NewConnectionError('<urllib3.connection.HTTPSConnection object at 0x000001BCBB713590>: Failed to establish a new connection: [Errno 11001] getaddrinfo failed'))\n"
     ]
    },
    {
     "name": "stdout",
     "output_type": "stream",
     "text": [
      "[**********************97%%********************* ]  7110 of 7361 completed"
     ]
    },
    {
     "name": "stderr",
     "output_type": "stream",
     "text": [
      "Failed to get ticker 'BEPI' reason: HTTPSConnectionPool(host='query2.finance.yahoo.com', port=443): Max retries exceeded with url: /v8/finance/chart/BEPI?range=1d&interval=1d (Caused by NewConnectionError('<urllib3.connection.HTTPSConnection object at 0x000001BCD90FA4D0>: Failed to establish a new connection: [Errno 11001] getaddrinfo failed'))\n",
      "Failed to get ticker 'OXLCL' reason: HTTPSConnectionPool(host='query2.finance.yahoo.com', port=443): Max retries exceeded with url: /v8/finance/chart/OXLCL?range=1d&interval=1d (Caused by NewConnectionError('<urllib3.connection.HTTPSConnection object at 0x000001BCD5D5A690>: Failed to establish a new connection: [Errno 11001] getaddrinfo failed'))\n"
     ]
    },
    {
     "name": "stdout",
     "output_type": "stream",
     "text": [
      "[**********************97%%********************* ]  7113 of 7361 completed"
     ]
    },
    {
     "name": "stderr",
     "output_type": "stream",
     "text": [
      "Failed to get ticker 'TGS' reason: HTTPSConnectionPool(host='query2.finance.yahoo.com', port=443): Max retries exceeded with url: /v8/finance/chart/TGS?range=1d&interval=1d (Caused by NewConnectionError('<urllib3.connection.HTTPSConnection object at 0x000001BCD7FA5C90>: Failed to establish a new connection: [Errno 11001] getaddrinfo failed'))\n",
      "Failed to get ticker 'PYPL' reason: HTTPSConnectionPool(host='query2.finance.yahoo.com', port=443): Max retries exceeded with url: /v8/finance/chart/PYPL?range=1d&interval=1d (Caused by NewConnectionError('<urllib3.connection.HTTPSConnection object at 0x000001BCD9119310>: Failed to establish a new connection: [Errno 11001] getaddrinfo failed'))\n",
      "Failed to get ticker 'STTK' reason: HTTPSConnectionPool(host='query2.finance.yahoo.com', port=443): Max retries exceeded with url: /v8/finance/chart/STTK?range=1d&interval=1d (Caused by NewConnectionError('<urllib3.connection.HTTPSConnection object at 0x000001BCD90F9890>: Failed to establish a new connection: [Errno 11001] getaddrinfo failed'))\n",
      "Failed to get ticker 'GLADZ' reason: HTTPSConnectionPool(host='query2.finance.yahoo.com', port=443): Max retries exceeded with url: /v8/finance/chart/GLADZ?range=1d&interval=1d (Caused by NewConnectionError('<urllib3.connection.HTTPSConnection object at 0x000001BCD7FE48D0>: Failed to establish a new connection: [Errno 11001] getaddrinfo failed'))\n"
     ]
    },
    {
     "name": "stdout",
     "output_type": "stream",
     "text": [
      "[**********************97%%********************* ]  7115 of 7361 completed"
     ]
    },
    {
     "name": "stderr",
     "output_type": "stream",
     "text": [
      "Failed to get ticker 'PDD' reason: HTTPSConnectionPool(host='query2.finance.yahoo.com', port=443): Max retries exceeded with url: /v8/finance/chart/PDD?range=1d&interval=1d (Caused by NewConnectionError('<urllib3.connection.HTTPSConnection object at 0x000001BCD911B050>: Failed to establish a new connection: [Errno 11001] getaddrinfo failed'))\n"
     ]
    },
    {
     "name": "stdout",
     "output_type": "stream",
     "text": [
      "[**********************97%%********************* ]  7116 of 7361 completed"
     ]
    },
    {
     "name": "stderr",
     "output_type": "stream",
     "text": [
      "Failed to get ticker 'IMGN' reason: HTTPSConnectionPool(host='query2.finance.yahoo.com', port=443): Max retries exceeded with url: /v8/finance/chart/IMGN?range=1d&interval=1d (Caused by NewConnectionError('<urllib3.connection.HTTPSConnection object at 0x000001BCD7FE7550>: Failed to establish a new connection: [Errno 11001] getaddrinfo failed'))\n"
     ]
    },
    {
     "name": "stdout",
     "output_type": "stream",
     "text": [
      "[**********************97%%********************* ]  7118 of 7361 completed"
     ]
    },
    {
     "name": "stderr",
     "output_type": "stream",
     "text": [
      "Failed to get ticker 'CWH' reason: HTTPSConnectionPool(host='query2.finance.yahoo.com', port=443): Max retries exceeded with url: /v8/finance/chart/CWH?range=1d&interval=1d (Caused by NewConnectionError('<urllib3.connection.HTTPSConnection object at 0x000001BCD9148E10>: Failed to establish a new connection: [Errno 11001] getaddrinfo failed'))\n",
      "Failed to get ticker 'ELSE' reason: HTTPSConnectionPool(host='query2.finance.yahoo.com', port=443): Max retries exceeded with url: /v8/finance/chart/ELSE?range=1d&interval=1d (Caused by NewConnectionError('<urllib3.connection.HTTPSConnection object at 0x000001BCD9127D90>: Failed to establish a new connection: [Errno 11001] getaddrinfo failed'))\n"
     ]
    },
    {
     "name": "stdout",
     "output_type": "stream",
     "text": [
      "[**********************97%%********************* ]  7120 of 7361 completed"
     ]
    },
    {
     "name": "stderr",
     "output_type": "stream",
     "text": [
      "Failed to get ticker 'BLDR' reason: HTTPSConnectionPool(host='query2.finance.yahoo.com', port=443): Max retries exceeded with url: /v8/finance/chart/BLDR?range=1d&interval=1d (Caused by NewConnectionError('<urllib3.connection.HTTPSConnection object at 0x000001BCD90F8450>: Failed to establish a new connection: [Errno 11001] getaddrinfo failed'))\n"
     ]
    },
    {
     "name": "stdout",
     "output_type": "stream",
     "text": [
      "[**********************97%%********************* ]  7121 of 7361 completed"
     ]
    },
    {
     "name": "stderr",
     "output_type": "stream",
     "text": [
      "Failed to get ticker 'AXSM' reason: HTTPSConnectionPool(host='query2.finance.yahoo.com', port=443): Max retries exceeded with url: /v8/finance/chart/AXSM?range=1d&interval=1d (Caused by NewConnectionError('<urllib3.connection.HTTPSConnection object at 0x000001BCD5DEA9D0>: Failed to establish a new connection: [Errno 11001] getaddrinfo failed'))\n"
     ]
    },
    {
     "name": "stdout",
     "output_type": "stream",
     "text": [
      "[**********************97%%********************* ]  7122 of 7361 completed"
     ]
    },
    {
     "name": "stderr",
     "output_type": "stream",
     "text": [
      "Failed to get ticker 'ASUR' reason: HTTPSConnectionPool(host='query2.finance.yahoo.com', port=443): Max retries exceeded with url: /v8/finance/chart/ASUR?range=1d&interval=1d (Caused by NewConnectionError('<urllib3.connection.HTTPSConnection object at 0x000001BCD90F4210>: Failed to establish a new connection: [Errno 11001] getaddrinfo failed'))\n"
     ]
    },
    {
     "name": "stdout",
     "output_type": "stream",
     "text": [
      "[**********************97%%********************* ]  7124 of 7361 completed"
     ]
    },
    {
     "name": "stderr",
     "output_type": "stream",
     "text": [
      "Failed to get ticker 'HTIBP' reason: HTTPSConnectionPool(host='query2.finance.yahoo.com', port=443): Max retries exceeded with url: /v8/finance/chart/HTIBP?range=1d&interval=1d (Caused by NewConnectionError('<urllib3.connection.HTTPSConnection object at 0x000001BCBB6BE850>: Failed to establish a new connection: [Errno 11001] getaddrinfo failed'))\n"
     ]
    },
    {
     "name": "stdout",
     "output_type": "stream",
     "text": [
      "[**********************97%%********************* ]  7125 of 7361 completed"
     ]
    },
    {
     "name": "stderr",
     "output_type": "stream",
     "text": [
      "Failed to get ticker 'SAMA' reason: HTTPSConnectionPool(host='query2.finance.yahoo.com', port=443): Max retries exceeded with url: /v8/finance/chart/SAMA?range=1d&interval=1d (Caused by NewConnectionError('<urllib3.connection.HTTPSConnection object at 0x000001BCBB727BD0>: Failed to establish a new connection: [Errno 11001] getaddrinfo failed'))\n",
      "Failed to get ticker 'GFF' reason: HTTPSConnectionPool(host='query2.finance.yahoo.com', port=443): Max retries exceeded with url: /v8/finance/chart/GFF?range=1d&interval=1d (Caused by NewConnectionError('<urllib3.connection.HTTPSConnection object at 0x000001BCD7F4BD50>: Failed to establish a new connection: [Errno 11001] getaddrinfo failed'))\n"
     ]
    },
    {
     "name": "stdout",
     "output_type": "stream",
     "text": [
      "[**********************97%%********************* ]  7126 of 7361 completed"
     ]
    },
    {
     "name": "stderr",
     "output_type": "stream",
     "text": [
      "Failed to get ticker 'WMG' reason: HTTPSConnectionPool(host='query2.finance.yahoo.com', port=443): Max retries exceeded with url: /v8/finance/chart/WMG?range=1d&interval=1d (Caused by NewConnectionError('<urllib3.connection.HTTPSConnection object at 0x000001BCD9100E10>: Failed to establish a new connection: [Errno 11001] getaddrinfo failed'))\n",
      "Failed to get ticker 'GPRO' reason: HTTPSConnectionPool(host='query2.finance.yahoo.com', port=443): Max retries exceeded with url: /v8/finance/chart/GPRO?range=1d&interval=1d (Caused by NewConnectionError('<urllib3.connection.HTTPSConnection object at 0x000001BCBB715010>: Failed to establish a new connection: [Errno 11001] getaddrinfo failed'))\n"
     ]
    },
    {
     "name": "stdout",
     "output_type": "stream",
     "text": [
      "[**********************97%%********************* ]  7128 of 7361 completed"
     ]
    },
    {
     "name": "stderr",
     "output_type": "stream",
     "text": [
      "Failed to get ticker 'AURA' reason: HTTPSConnectionPool(host='query2.finance.yahoo.com', port=443): Max retries exceeded with url: /v8/finance/chart/AURA?range=1d&interval=1d (Caused by NewConnectionError('<urllib3.connection.HTTPSConnection object at 0x000001BCBB706910>: Failed to establish a new connection: [Errno 11001] getaddrinfo failed'))\n"
     ]
    },
    {
     "name": "stdout",
     "output_type": "stream",
     "text": [
      "[**********************97%%********************* ]  7129 of 7361 completed"
     ]
    },
    {
     "name": "stderr",
     "output_type": "stream",
     "text": [
      "Failed to get ticker 'CISS' reason: HTTPSConnectionPool(host='query2.finance.yahoo.com', port=443): Max retries exceeded with url: /v8/finance/chart/CISS?range=1d&interval=1d (Caused by NewConnectionError('<urllib3.connection.HTTPSConnection object at 0x000001BCD9129450>: Failed to establish a new connection: [Errno 11001] getaddrinfo failed'))\n"
     ]
    },
    {
     "name": "stdout",
     "output_type": "stream",
     "text": [
      "[**********************97%%********************* ]  7130 of 7361 completed"
     ]
    },
    {
     "name": "stderr",
     "output_type": "stream",
     "text": [
      "Failed to get ticker 'WEL' reason: HTTPSConnectionPool(host='query2.finance.yahoo.com', port=443): Max retries exceeded with url: /v8/finance/chart/WEL?range=1d&interval=1d (Caused by NewConnectionError('<urllib3.connection.HTTPSConnection object at 0x000001BCD7F5D9D0>: Failed to establish a new connection: [Errno 11001] getaddrinfo failed'))\n",
      "Failed to get ticker 'CBD' reason: HTTPSConnectionPool(host='query2.finance.yahoo.com', port=443): Max retries exceeded with url: /v8/finance/chart/CBD?range=1d&interval=1d (Caused by NewConnectionError('<urllib3.connection.HTTPSConnection object at 0x000001BCD9144990>: Failed to establish a new connection: [Errno 11001] getaddrinfo failed'))\n"
     ]
    },
    {
     "name": "stdout",
     "output_type": "stream",
     "text": [
      "[**********************97%%********************* ]  7131 of 7361 completed"
     ]
    },
    {
     "name": "stderr",
     "output_type": "stream",
     "text": [
      "Failed to get ticker 'ZLAB' reason: HTTPSConnectionPool(host='query2.finance.yahoo.com', port=443): Max retries exceeded with url: /v8/finance/chart/ZLAB?range=1d&interval=1d (Caused by NewConnectionError('<urllib3.connection.HTTPSConnection object at 0x000001BCD9128990>: Failed to establish a new connection: [Errno 11001] getaddrinfo failed'))\n"
     ]
    },
    {
     "name": "stdout",
     "output_type": "stream",
     "text": [
      "[**********************97%%********************* ]  7132 of 7361 completed"
     ]
    },
    {
     "name": "stderr",
     "output_type": "stream",
     "text": [
      "Failed to get ticker 'VINC' reason: HTTPSConnectionPool(host='query2.finance.yahoo.com', port=443): Max retries exceeded with url: /v8/finance/chart/VINC?range=1d&interval=1d (Caused by NewConnectionError('<urllib3.connection.HTTPSConnection object at 0x000001BCBB7123D0>: Failed to establish a new connection: [Errno 11001] getaddrinfo failed'))\n"
     ]
    },
    {
     "name": "stdout",
     "output_type": "stream",
     "text": [
      "[**********************97%%********************* ]  7134 of 7361 completed"
     ]
    },
    {
     "name": "stderr",
     "output_type": "stream",
     "text": [
      "Failed to get ticker 'EIC' reason: HTTPSConnectionPool(host='query2.finance.yahoo.com', port=443): Max retries exceeded with url: /v8/finance/chart/EIC?range=1d&interval=1d (Caused by NewConnectionError('<urllib3.connection.HTTPSConnection object at 0x000001BCD9103F10>: Failed to establish a new connection: [Errno 11001] getaddrinfo failed'))\n",
      "Failed to get ticker 'BDJ' reason: HTTPSConnectionPool(host='query2.finance.yahoo.com', port=443): Max retries exceeded with url: /v8/finance/chart/BDJ?range=1d&interval=1d (Caused by NewConnectionError('<urllib3.connection.HTTPSConnection object at 0x000001BCD7FE6190>: Failed to establish a new connection: [Errno 11001] getaddrinfo failed'))\n"
     ]
    },
    {
     "name": "stdout",
     "output_type": "stream",
     "text": [
      "[**********************97%%********************* ]  7137 of 7361 completed"
     ]
    },
    {
     "name": "stderr",
     "output_type": "stream",
     "text": [
      "Failed to get ticker 'OPK' reason: HTTPSConnectionPool(host='query2.finance.yahoo.com', port=443): Max retries exceeded with url: /v8/finance/chart/OPK?range=1d&interval=1d (Caused by NewConnectionError('<urllib3.connection.HTTPSConnection object at 0x000001BCD912BC90>: Failed to establish a new connection: [Errno 11001] getaddrinfo failed'))\n",
      "Failed to get ticker 'DTSTW' reason: HTTPSConnectionPool(host='query2.finance.yahoo.com', port=443): Max retries exceeded with url: /v8/finance/chart/DTSTW?range=1d&interval=1d (Caused by NewConnectionError('<urllib3.connection.HTTPSConnection object at 0x000001BCD91004D0>: Failed to establish a new connection: [Errno 11001] getaddrinfo failed'))\n"
     ]
    },
    {
     "name": "stdout",
     "output_type": "stream",
     "text": [
      "[**********************97%%********************* ]  7138 of 7361 completed"
     ]
    },
    {
     "name": "stderr",
     "output_type": "stream",
     "text": [
      "Failed to get ticker 'MSA' reason: HTTPSConnectionPool(host='query2.finance.yahoo.com', port=443): Max retries exceeded with url: /v8/finance/chart/MSA?range=1d&interval=1d (Caused by NewConnectionError('<urllib3.connection.HTTPSConnection object at 0x000001BCD914AE90>: Failed to establish a new connection: [Errno 11001] getaddrinfo failed'))\n"
     ]
    },
    {
     "name": "stdout",
     "output_type": "stream",
     "text": [
      "[**********************97%%********************* ]  7138 of 7361 completed"
     ]
    },
    {
     "name": "stderr",
     "output_type": "stream",
     "text": [
      "Failed to get ticker 'ZNTL' reason: HTTPSConnectionPool(host='query2.finance.yahoo.com', port=443): Max retries exceeded with url: /v8/finance/chart/ZNTL?range=1d&interval=1d (Caused by NewConnectionError('<urllib3.connection.HTTPSConnection object at 0x000001BCD90FB650>: Failed to establish a new connection: [Errno 11001] getaddrinfo failed'))\n"
     ]
    },
    {
     "name": "stdout",
     "output_type": "stream",
     "text": [
      "[**********************97%%********************* ]  7140 of 7361 completed"
     ]
    },
    {
     "name": "stderr",
     "output_type": "stream",
     "text": [
      "Failed to get ticker 'ACAB' reason: HTTPSConnectionPool(host='query2.finance.yahoo.com', port=443): Max retries exceeded with url: /v8/finance/chart/ACAB?range=1d&interval=1d (Caused by NewConnectionError('<urllib3.connection.HTTPSConnection object at 0x000001BCD7FA8B90>: Failed to establish a new connection: [Errno 11001] getaddrinfo failed'))\n"
     ]
    },
    {
     "name": "stdout",
     "output_type": "stream",
     "text": [
      "[**********************97%%********************* ]  7141 of 7361 completed"
     ]
    },
    {
     "name": "stderr",
     "output_type": "stream",
     "text": [
      "Failed to get ticker 'AIF' reason: HTTPSConnectionPool(host='query2.finance.yahoo.com', port=443): Max retries exceeded with url: /v8/finance/chart/AIF?range=1d&interval=1d (Caused by NewConnectionError('<urllib3.connection.HTTPSConnection object at 0x000001BCD914BD50>: Failed to establish a new connection: [Errno 11001] getaddrinfo failed'))\n"
     ]
    },
    {
     "name": "stdout",
     "output_type": "stream",
     "text": [
      "[**********************97%%********************* ]  7142 of 7361 completed"
     ]
    },
    {
     "name": "stderr",
     "output_type": "stream",
     "text": [
      "Failed to get ticker 'TBPH' reason: HTTPSConnectionPool(host='query2.finance.yahoo.com', port=443): Max retries exceeded with url: /v8/finance/chart/TBPH?range=1d&interval=1d (Caused by NewConnectionError('<urllib3.connection.HTTPSConnection object at 0x000001BCD9103A90>: Failed to establish a new connection: [Errno 11001] getaddrinfo failed'))\n"
     ]
    },
    {
     "name": "stdout",
     "output_type": "stream",
     "text": [
      "[**********************97%%********************* ]  7142 of 7361 completed"
     ]
    },
    {
     "name": "stderr",
     "output_type": "stream",
     "text": [
      "Failed to get ticker 'REAX' reason: HTTPSConnectionPool(host='query2.finance.yahoo.com', port=443): Max retries exceeded with url: /v8/finance/chart/REAX?range=1d&interval=1d (Caused by NewConnectionError('<urllib3.connection.HTTPSConnection object at 0x000001BCD9145F50>: Failed to establish a new connection: [Errno 11001] getaddrinfo failed'))\n",
      "Failed to get ticker 'ATIP' reason: HTTPSConnectionPool(host='query2.finance.yahoo.com', port=443): Max retries exceeded with url: /v8/finance/chart/ATIP?range=1d&interval=1d (Caused by NewConnectionError('<urllib3.connection.HTTPSConnection object at 0x000001BCD912A690>: Failed to establish a new connection: [Errno 11001] getaddrinfo failed'))\n"
     ]
    },
    {
     "name": "stdout",
     "output_type": "stream",
     "text": [
      "[**********************97%%********************* ]  7144 of 7361 completed"
     ]
    },
    {
     "name": "stderr",
     "output_type": "stream",
     "text": [
      "Failed to get ticker 'TRONW' reason: HTTPSConnectionPool(host='query2.finance.yahoo.com', port=443): Max retries exceeded with url: /v8/finance/chart/TRONW?range=1d&interval=1d (Caused by NewConnectionError('<urllib3.connection.HTTPSConnection object at 0x000001BCBB725210>: Failed to establish a new connection: [Errno 11001] getaddrinfo failed'))\n"
     ]
    },
    {
     "name": "stdout",
     "output_type": "stream",
     "text": [
      "[**********************97%%********************* ]  7145 of 7361 completed"
     ]
    },
    {
     "name": "stderr",
     "output_type": "stream",
     "text": [
      "Failed to get ticker 'SGEN' reason: HTTPSConnectionPool(host='query2.finance.yahoo.com', port=443): Max retries exceeded with url: /v8/finance/chart/SGEN?range=1d&interval=1d (Caused by NewConnectionError('<urllib3.connection.HTTPSConnection object at 0x000001BCBB6E6390>: Failed to establish a new connection: [Errno 11001] getaddrinfo failed'))\n"
     ]
    },
    {
     "name": "stdout",
     "output_type": "stream",
     "text": [
      "[**********************97%%********************* ]  7147 of 7361 completed"
     ]
    },
    {
     "name": "stderr",
     "output_type": "stream",
     "text": [
      "Failed to get ticker 'SCD' reason: HTTPSConnectionPool(host='query2.finance.yahoo.com', port=443): Max retries exceeded with url: /v8/finance/chart/SCD?range=1d&interval=1d (Caused by NewConnectionError('<urllib3.connection.HTTPSConnection object at 0x000001BCD9145B90>: Failed to establish a new connection: [Errno 11001] getaddrinfo failed'))\n"
     ]
    },
    {
     "name": "stdout",
     "output_type": "stream",
     "text": [
      "[**********************97%%********************* ]  7148 of 7361 completed"
     ]
    },
    {
     "name": "stderr",
     "output_type": "stream",
     "text": [
      "Failed to get ticker 'GMFIW' reason: HTTPSConnectionPool(host='query2.finance.yahoo.com', port=443): Max retries exceeded with url: /v8/finance/chart/GMFIW?range=1d&interval=1d (Caused by NewConnectionError('<urllib3.connection.HTTPSConnection object at 0x000001BCCD1289D0>: Failed to establish a new connection: [Errno 11001] getaddrinfo failed'))\n"
     ]
    },
    {
     "name": "stdout",
     "output_type": "stream",
     "text": [
      "[**********************97%%********************* ]  7149 of 7361 completed"
     ]
    },
    {
     "name": "stderr",
     "output_type": "stream",
     "text": [
      "Failed to get ticker 'ACNT' reason: HTTPSConnectionPool(host='query2.finance.yahoo.com', port=443): Max retries exceeded with url: /v8/finance/chart/ACNT?range=1d&interval=1d (Caused by NewConnectionError('<urllib3.connection.HTTPSConnection object at 0x000001BCD9147950>: Failed to establish a new connection: [Errno 11001] getaddrinfo failed'))\n"
     ]
    },
    {
     "name": "stdout",
     "output_type": "stream",
     "text": [
      "[**********************97%%********************* ]  7150 of 7361 completed"
     ]
    },
    {
     "name": "stderr",
     "output_type": "stream",
     "text": [
      "Failed to get ticker 'EDU' reason: HTTPSConnectionPool(host='query2.finance.yahoo.com', port=443): Max retries exceeded with url: /v8/finance/chart/EDU?range=1d&interval=1d (Caused by NewConnectionError('<urllib3.connection.HTTPSConnection object at 0x000001BCD9147810>: Failed to establish a new connection: [Errno 11001] getaddrinfo failed'))\n"
     ]
    },
    {
     "name": "stdout",
     "output_type": "stream",
     "text": [
      "[**********************97%%********************* ]  7151 of 7361 completed"
     ]
    },
    {
     "name": "stderr",
     "output_type": "stream",
     "text": [
      "Failed to get ticker 'HOPE' reason: HTTPSConnectionPool(host='query2.finance.yahoo.com', port=443): Max retries exceeded with url: /v8/finance/chart/HOPE?range=1d&interval=1d (Caused by NewConnectionError('<urllib3.connection.HTTPSConnection object at 0x000001BCD9144150>: Failed to establish a new connection: [Errno 11001] getaddrinfo failed'))\n",
      "Failed to get ticker 'ATEC' reason: HTTPSConnectionPool(host='query2.finance.yahoo.com', port=443): Max retries exceeded with url: /v8/finance/chart/ATEC?range=1d&interval=1d (Caused by NewConnectionError('<urllib3.connection.HTTPSConnection object at 0x000001BCD91491D0>: Failed to establish a new connection: [Errno 11001] getaddrinfo failed'))\n"
     ]
    },
    {
     "name": "stdout",
     "output_type": "stream",
     "text": [
      "[**********************97%%********************* ]  7152 of 7361 completed"
     ]
    },
    {
     "name": "stderr",
     "output_type": "stream",
     "text": [
      "Failed to get ticker 'FSP' reason: HTTPSConnectionPool(host='query2.finance.yahoo.com', port=443): Max retries exceeded with url: /v8/finance/chart/FSP?range=1d&interval=1d (Caused by NewConnectionError('<urllib3.connection.HTTPSConnection object at 0x000001BCD90F8650>: Failed to establish a new connection: [Errno 11001] getaddrinfo failed'))\n"
     ]
    },
    {
     "name": "stdout",
     "output_type": "stream",
     "text": [
      "[**********************97%%********************* ]  7154 of 7361 completed"
     ]
    },
    {
     "name": "stderr",
     "output_type": "stream",
     "text": [
      "Failed to get ticker 'RPTX' reason: HTTPSConnectionPool(host='query2.finance.yahoo.com', port=443): Max retries exceeded with url: /v8/finance/chart/RPTX?range=1d&interval=1d (Caused by NewConnectionError('<urllib3.connection.HTTPSConnection object at 0x000001BCD9145150>: Failed to establish a new connection: [Errno 11001] getaddrinfo failed'))\n"
     ]
    },
    {
     "name": "stdout",
     "output_type": "stream",
     "text": [
      "[**********************97%%********************* ]  7155 of 7361 completed"
     ]
    },
    {
     "name": "stderr",
     "output_type": "stream",
     "text": [
      "Failed to get ticker 'CLBT' reason: HTTPSConnectionPool(host='query2.finance.yahoo.com', port=443): Max retries exceeded with url: /v8/finance/chart/CLBT?range=1d&interval=1d (Caused by NewConnectionError('<urllib3.connection.HTTPSConnection object at 0x000001BCBB725290>: Failed to establish a new connection: [Errno 11001] getaddrinfo failed'))\n"
     ]
    },
    {
     "name": "stdout",
     "output_type": "stream",
     "text": [
      "[**********************97%%********************* ]  7156 of 7361 completed"
     ]
    },
    {
     "name": "stderr",
     "output_type": "stream",
     "text": [
      "Failed to get ticker 'ETY' reason: HTTPSConnectionPool(host='query2.finance.yahoo.com', port=443): Max retries exceeded with url: /v8/finance/chart/ETY?range=1d&interval=1d (Caused by NewConnectionError('<urllib3.connection.HTTPSConnection object at 0x000001BCD9163810>: Failed to establish a new connection: [Errno 11001] getaddrinfo failed'))\n"
     ]
    },
    {
     "name": "stdout",
     "output_type": "stream",
     "text": [
      "[**********************97%%********************* ]  7157 of 7361 completed"
     ]
    },
    {
     "name": "stderr",
     "output_type": "stream",
     "text": [
      "Failed to get ticker 'WTFC' reason: HTTPSConnectionPool(host='query2.finance.yahoo.com', port=443): Max retries exceeded with url: /v8/finance/chart/WTFC?range=1d&interval=1d (Caused by NewConnectionError('<urllib3.connection.HTTPSConnection object at 0x000001BCD913FE10>: Failed to establish a new connection: [Errno 11001] getaddrinfo failed'))\n"
     ]
    },
    {
     "name": "stdout",
     "output_type": "stream",
     "text": [
      "[**********************97%%********************* ]  7158 of 7361 completed"
     ]
    },
    {
     "name": "stderr",
     "output_type": "stream",
     "text": [
      "Failed to get ticker 'HRL' reason: HTTPSConnectionPool(host='query2.finance.yahoo.com', port=443): Max retries exceeded with url: /v8/finance/chart/HRL?range=1d&interval=1d (Caused by NewConnectionError('<urllib3.connection.HTTPSConnection object at 0x000001BCD9145A50>: Failed to establish a new connection: [Errno 11001] getaddrinfo failed'))\n",
      "Failed to get ticker 'FMN' reason: HTTPSConnectionPool(host='query2.finance.yahoo.com', port=443): Max retries exceeded with url: /v8/finance/chart/FMN?range=1d&interval=1d (Caused by NewConnectionError('<urllib3.connection.HTTPSConnection object at 0x000001BCD9145290>: Failed to establish a new connection: [Errno 11001] getaddrinfo failed'))\n"
     ]
    },
    {
     "name": "stdout",
     "output_type": "stream",
     "text": [
      "[**********************97%%********************* ]  7160 of 7361 completed"
     ]
    },
    {
     "name": "stderr",
     "output_type": "stream",
     "text": [
      "Failed to get ticker 'CLW' reason: HTTPSConnectionPool(host='query2.finance.yahoo.com', port=443): Max retries exceeded with url: /v8/finance/chart/CLW?range=1d&interval=1d (Caused by NewConnectionError('<urllib3.connection.HTTPSConnection object at 0x000001BCD7F665D0>: Failed to establish a new connection: [Errno 11001] getaddrinfo failed'))\n",
      "Failed to get ticker 'HELE' reason: HTTPSConnectionPool(host='query2.finance.yahoo.com', port=443): Max retries exceeded with url: /v8/finance/chart/HELE?range=1d&interval=1d (Caused by NewConnectionError('<urllib3.connection.HTTPSConnection object at 0x000001BCD9146710>: Failed to establish a new connection: [Errno 11001] getaddrinfo failed'))\n"
     ]
    },
    {
     "name": "stdout",
     "output_type": "stream",
     "text": [
      "[**********************97%%********************* ]  7162 of 7361 completed"
     ]
    },
    {
     "name": "stderr",
     "output_type": "stream",
     "text": [
      "Failed to get ticker 'GAM' reason: HTTPSConnectionPool(host='query2.finance.yahoo.com', port=443): Max retries exceeded with url: /v8/finance/chart/GAM?range=1d&interval=1d (Caused by NewConnectionError('<urllib3.connection.HTTPSConnection object at 0x000001BCD9161990>: Failed to establish a new connection: [Errno 11001] getaddrinfo failed'))\n",
      "Failed to get ticker 'FPF' reason: HTTPSConnectionPool(host='query2.finance.yahoo.com', port=443): Max retries exceeded with url: /v8/finance/chart/FPF?range=1d&interval=1d (Caused by NewConnectionError('<urllib3.connection.HTTPSConnection object at 0x000001BCBB6E1450>: Failed to establish a new connection: [Errno 11001] getaddrinfo failed'))\n"
     ]
    },
    {
     "name": "stdout",
     "output_type": "stream",
     "text": [
      "[**********************97%%********************* ]  7164 of 7361 completed"
     ]
    },
    {
     "name": "stderr",
     "output_type": "stream",
     "text": [
      "Failed to get ticker 'TYRA' reason: HTTPSConnectionPool(host='query2.finance.yahoo.com', port=443): Max retries exceeded with url: /v8/finance/chart/TYRA?range=1d&interval=1d (Caused by NewConnectionError('<urllib3.connection.HTTPSConnection object at 0x000001BCBB713D90>: Failed to establish a new connection: [Errno 11001] getaddrinfo failed'))\n"
     ]
    },
    {
     "name": "stdout",
     "output_type": "stream",
     "text": [
      "[**********************97%%********************* ]  7165 of 7361 completed"
     ]
    },
    {
     "name": "stderr",
     "output_type": "stream",
     "text": [
      "Failed to get ticker 'MHUA' reason: HTTPSConnectionPool(host='query2.finance.yahoo.com', port=443): Max retries exceeded with url: /v8/finance/chart/MHUA?range=1d&interval=1d (Caused by NewConnectionError('<urllib3.connection.HTTPSConnection object at 0x000001BCBB7242D0>: Failed to establish a new connection: [Errno 11001] getaddrinfo failed'))\n"
     ]
    },
    {
     "name": "stdout",
     "output_type": "stream",
     "text": [
      "[**********************97%%********************* ]  7167 of 7361 completed"
     ]
    },
    {
     "name": "stderr",
     "output_type": "stream",
     "text": [
      "Failed to get ticker 'AEF' reason: HTTPSConnectionPool(host='query2.finance.yahoo.com', port=443): Max retries exceeded with url: /v8/finance/chart/AEF?range=1d&interval=1d (Caused by NewConnectionError('<urllib3.connection.HTTPSConnection object at 0x000001BCD7FE4CD0>: Failed to establish a new connection: [Errno 11001] getaddrinfo failed'))\n",
      "Failed to get ticker 'FGEN' reason: HTTPSConnectionPool(host='query2.finance.yahoo.com', port=443): Max retries exceeded with url: /v8/finance/chart/FGEN?range=1d&interval=1d (Caused by NewConnectionError('<urllib3.connection.HTTPSConnection object at 0x000001BCD911D2D0>: Failed to establish a new connection: [Errno 11001] getaddrinfo failed'))\n"
     ]
    },
    {
     "name": "stdout",
     "output_type": "stream",
     "text": [
      "[**********************97%%********************* ]  7168 of 7361 completed"
     ]
    },
    {
     "name": "stderr",
     "output_type": "stream",
     "text": [
      "Failed to get ticker 'BEEP' reason: HTTPSConnectionPool(host='query2.finance.yahoo.com', port=443): Max retries exceeded with url: /v8/finance/chart/BEEP?range=1d&interval=1d (Caused by NewConnectionError('<urllib3.connection.HTTPSConnection object at 0x000001BCBB714490>: Failed to establish a new connection: [Errno 11001] getaddrinfo failed'))\n",
      "Failed to get ticker 'LABP' reason: HTTPSConnectionPool(host='query2.finance.yahoo.com', port=443): Max retries exceeded with url: /v8/finance/chart/LABP?range=1d&interval=1d (Caused by NewConnectionError('<urllib3.connection.HTTPSConnection object at 0x000001BCD911EED0>: Failed to establish a new connection: [Errno 11001] getaddrinfo failed'))\n"
     ]
    },
    {
     "name": "stdout",
     "output_type": "stream",
     "text": [
      "[**********************97%%********************* ]  7169 of 7361 completed"
     ]
    },
    {
     "name": "stderr",
     "output_type": "stream",
     "text": [
      "Failed to get ticker 'TLIS' reason: HTTPSConnectionPool(host='query2.finance.yahoo.com', port=443): Max retries exceeded with url: /v8/finance/chart/TLIS?range=1d&interval=1d (Caused by NewConnectionError('<urllib3.connection.HTTPSConnection object at 0x000001BCD911FFD0>: Failed to establish a new connection: [Errno 11001] getaddrinfo failed'))\n"
     ]
    },
    {
     "name": "stdout",
     "output_type": "stream",
     "text": [
      "[**********************97%%********************* ]  7171 of 7361 completed"
     ]
    },
    {
     "name": "stderr",
     "output_type": "stream",
     "text": [
      "Failed to get ticker 'SMTC' reason: HTTPSConnectionPool(host='query2.finance.yahoo.com', port=443): Max retries exceeded with url: /v8/finance/chart/SMTC?range=1d&interval=1d (Caused by NewConnectionError('<urllib3.connection.HTTPSConnection object at 0x000001BCD7F77350>: Failed to establish a new connection: [Errno 11001] getaddrinfo failed'))\n"
     ]
    },
    {
     "name": "stdout",
     "output_type": "stream",
     "text": [
      "[**********************97%%********************* ]  7172 of 7361 completed"
     ]
    },
    {
     "name": "stderr",
     "output_type": "stream",
     "text": [
      "Failed to get ticker 'BLNK' reason: HTTPSConnectionPool(host='query2.finance.yahoo.com', port=443): Max retries exceeded with url: /v8/finance/chart/BLNK?range=1d&interval=1d (Caused by NewConnectionError('<urllib3.connection.HTTPSConnection object at 0x000001BCD911EB10>: Failed to establish a new connection: [Errno 11001] getaddrinfo failed'))\n"
     ]
    },
    {
     "name": "stdout",
     "output_type": "stream",
     "text": [
      "[**********************97%%********************* ]  7173 of 7361 completed"
     ]
    },
    {
     "name": "stderr",
     "output_type": "stream",
     "text": [
      "Failed to get ticker 'ATXS' reason: HTTPSConnectionPool(host='query2.finance.yahoo.com', port=443): Max retries exceeded with url: /v8/finance/chart/ATXS?range=1d&interval=1d (Caused by NewConnectionError('<urllib3.connection.HTTPSConnection object at 0x000001BCD90FA9D0>: Failed to establish a new connection: [Errno 11001] getaddrinfo failed'))\n"
     ]
    },
    {
     "name": "stdout",
     "output_type": "stream",
     "text": [
      "[**********************97%%********************* ]  7175 of 7361 completed"
     ]
    },
    {
     "name": "stderr",
     "output_type": "stream",
     "text": [
      "Failed to get ticker 'FIAC' reason: HTTPSConnectionPool(host='query2.finance.yahoo.com', port=443): Max retries exceeded with url: /v8/finance/chart/FIAC?range=1d&interval=1d (Caused by NewConnectionError('<urllib3.connection.HTTPSConnection object at 0x000001BCD911D5D0>: Failed to establish a new connection: [Errno 11001] getaddrinfo failed'))\n",
      "Failed to get ticker 'NRACU' reason: HTTPSConnectionPool(host='query2.finance.yahoo.com', port=443): Max retries exceeded with url: /v8/finance/chart/NRACU?range=1d&interval=1d (Caused by NewConnectionError('<urllib3.connection.HTTPSConnection object at 0x000001BCD9144550>: Failed to establish a new connection: [Errno 11001] getaddrinfo failed'))\n"
     ]
    },
    {
     "name": "stdout",
     "output_type": "stream",
     "text": [
      "[**********************97%%********************* ]  7176 of 7361 completed"
     ]
    },
    {
     "name": "stderr",
     "output_type": "stream",
     "text": [
      "Failed to get ticker 'OLPX' reason: HTTPSConnectionPool(host='query2.finance.yahoo.com', port=443): Max retries exceeded with url: /v8/finance/chart/OLPX?range=1d&interval=1d (Caused by NewConnectionError('<urllib3.connection.HTTPSConnection object at 0x000001BCBB725B10>: Failed to establish a new connection: [Errno 11001] getaddrinfo failed'))\n",
      "Failed to get ticker 'CLEU' reason: HTTPSConnectionPool(host='query2.finance.yahoo.com', port=443): Max retries exceeded with url: /v8/finance/chart/CLEU?range=1d&interval=1d (Caused by NewConnectionError('<urllib3.connection.HTTPSConnection object at 0x000001BCBB735C50>: Failed to establish a new connection: [Errno 11001] getaddrinfo failed'))\n"
     ]
    },
    {
     "name": "stdout",
     "output_type": "stream",
     "text": [
      "[**********************98%%********************* ]  7177 of 7361 completed"
     ]
    },
    {
     "name": "stderr",
     "output_type": "stream",
     "text": [
      "Failed to get ticker 'DISAW' reason: HTTPSConnectionPool(host='query2.finance.yahoo.com', port=443): Max retries exceeded with url: /v8/finance/chart/DISAW?range=1d&interval=1d (Caused by NewConnectionError('<urllib3.connection.HTTPSConnection object at 0x000001BCD9129710>: Failed to establish a new connection: [Errno 11001] getaddrinfo failed'))\n"
     ]
    },
    {
     "name": "stdout",
     "output_type": "stream",
     "text": [
      "[**********************98%%********************* ]  7179 of 7361 completed"
     ]
    },
    {
     "name": "stderr",
     "output_type": "stream",
     "text": [
      "Failed to get ticker 'TFINP' reason: HTTPSConnectionPool(host='query2.finance.yahoo.com', port=443): Max retries exceeded with url: /v8/finance/chart/TFINP?range=1d&interval=1d (Caused by NewConnectionError('<urllib3.connection.HTTPSConnection object at 0x000001BCBB736410>: Failed to establish a new connection: [Errno 11001] getaddrinfo failed'))\n"
     ]
    },
    {
     "name": "stdout",
     "output_type": "stream",
     "text": [
      "[**********************98%%********************* ]  7180 of 7361 completed"
     ]
    },
    {
     "name": "stderr",
     "output_type": "stream",
     "text": [
      "Failed to get ticker 'BAER' reason: HTTPSConnectionPool(host='query2.finance.yahoo.com', port=443): Max retries exceeded with url: /v8/finance/chart/BAER?range=1d&interval=1d (Caused by NewConnectionError('<urllib3.connection.HTTPSConnection object at 0x000001BCD9176490>: Failed to establish a new connection: [Errno 11001] getaddrinfo failed'))\n"
     ]
    },
    {
     "name": "stdout",
     "output_type": "stream",
     "text": [
      "[**********************98%%********************* ]  7181 of 7361 completed"
     ]
    },
    {
     "name": "stderr",
     "output_type": "stream",
     "text": [
      "Failed to get ticker 'ALE' reason: HTTPSConnectionPool(host='query2.finance.yahoo.com', port=443): Max retries exceeded with url: /v8/finance/chart/ALE?range=1d&interval=1d (Caused by NewConnectionError('<urllib3.connection.HTTPSConnection object at 0x000001BCD911DA90>: Failed to establish a new connection: [Errno 11001] getaddrinfo failed'))\n",
      "Failed to get ticker 'FHN' reason: HTTPSConnectionPool(host='query2.finance.yahoo.com', port=443): Max retries exceeded with url: /v8/finance/chart/FHN?range=1d&interval=1d (Caused by NewConnectionError('<urllib3.connection.HTTPSConnection object at 0x000001BCD9147490>: Failed to establish a new connection: [Errno 11001] getaddrinfo failed'))\n"
     ]
    },
    {
     "name": "stdout",
     "output_type": "stream",
     "text": [
      "[**********************98%%********************* ]  7184 of 7361 completed"
     ]
    },
    {
     "name": "stderr",
     "output_type": "stream",
     "text": [
      "Failed to get ticker 'FSM' reason: HTTPSConnectionPool(host='query2.finance.yahoo.com', port=443): Max retries exceeded with url: /v8/finance/chart/FSM?range=1d&interval=1d (Caused by NewConnectionError('<urllib3.connection.HTTPSConnection object at 0x000001BCBB6D58D0>: Failed to establish a new connection: [Errno 11001] getaddrinfo failed'))\n",
      "Failed to get ticker 'TYL' reason: HTTPSConnectionPool(host='query2.finance.yahoo.com', port=443): Max retries exceeded with url: /v8/finance/chart/TYL?range=1d&interval=1d (Caused by NewConnectionError('<urllib3.connection.HTTPSConnection object at 0x000001BCD9160590>: Failed to establish a new connection: [Errno 11001] getaddrinfo failed'))\n",
      "Failed to get ticker 'WAVS' reason: HTTPSConnectionPool(host='query2.finance.yahoo.com', port=443): Max retries exceeded with url: /v8/finance/chart/WAVS?range=1d&interval=1d (Caused by NewConnectionError('<urllib3.connection.HTTPSConnection object at 0x000001BCD912AA10>: Failed to establish a new connection: [Errno 11001] getaddrinfo failed'))\n"
     ]
    },
    {
     "name": "stdout",
     "output_type": "stream",
     "text": [
      "[**********************98%%********************* ]  7185 of 7361 completed"
     ]
    },
    {
     "name": "stderr",
     "output_type": "stream",
     "text": [
      "Failed to get ticker 'VSCO' reason: HTTPSConnectionPool(host='query2.finance.yahoo.com', port=443): Max retries exceeded with url: /v8/finance/chart/VSCO?range=1d&interval=1d (Caused by NewConnectionError('<urllib3.connection.HTTPSConnection object at 0x000001BCD9145D10>: Failed to establish a new connection: [Errno 11001] getaddrinfo failed'))\n",
      "Failed to get ticker 'HEPA' reason: HTTPSConnectionPool(host='query2.finance.yahoo.com', port=443): Max retries exceeded with url: /v8/finance/chart/HEPA?range=1d&interval=1d (Caused by NewConnectionError('<urllib3.connection.HTTPSConnection object at 0x000001BCD911F990>: Failed to establish a new connection: [Errno 11001] getaddrinfo failed'))\n"
     ]
    },
    {
     "name": "stdout",
     "output_type": "stream",
     "text": [
      "[**********************98%%********************* ]  7186 of 7361 completed"
     ]
    },
    {
     "name": "stderr",
     "output_type": "stream",
     "text": [
      "Failed to get ticker 'FANG' reason: HTTPSConnectionPool(host='query2.finance.yahoo.com', port=443): Max retries exceeded with url: /v8/finance/chart/FANG?range=1d&interval=1d (Caused by NewConnectionError('<urllib3.connection.HTTPSConnection object at 0x000001BCD9146ED0>: Failed to establish a new connection: [Errno 11001] getaddrinfo failed'))\n"
     ]
    },
    {
     "name": "stdout",
     "output_type": "stream",
     "text": [
      "[**********************98%%********************* ]  7189 of 7361 completed"
     ]
    },
    {
     "name": "stderr",
     "output_type": "stream",
     "text": [
      "Failed to get ticker 'GRTX' reason: HTTPSConnectionPool(host='query2.finance.yahoo.com', port=443): Max retries exceeded with url: /v8/finance/chart/GRTX?range=1d&interval=1d (Caused by NewConnectionError('<urllib3.connection.HTTPSConnection object at 0x000001BCD9103E10>: Failed to establish a new connection: [Errno 11001] getaddrinfo failed'))\n"
     ]
    },
    {
     "name": "stdout",
     "output_type": "stream",
     "text": [
      "[**********************98%%********************* ]  7191 of 7361 completed"
     ]
    },
    {
     "name": "stderr",
     "output_type": "stream",
     "text": [
      "Failed to get ticker 'NETI' reason: HTTPSConnectionPool(host='query2.finance.yahoo.com', port=443): Max retries exceeded with url: /v8/finance/chart/NETI?range=1d&interval=1d (Caused by NewConnectionError('<urllib3.connection.HTTPSConnection object at 0x000001BCD9144390>: Failed to establish a new connection: [Errno 11001] getaddrinfo failed'))\n",
      "Failed to get ticker 'ARDC' reason: HTTPSConnectionPool(host='query2.finance.yahoo.com', port=443): Max retries exceeded with url: /v8/finance/chart/ARDC?range=1d&interval=1d (Caused by NewConnectionError('<urllib3.connection.HTTPSConnection object at 0x000001BCD913F6D0>: Failed to establish a new connection: [Errno 11001] getaddrinfo failed'))\n"
     ]
    },
    {
     "name": "stdout",
     "output_type": "stream",
     "text": [
      "[**********************98%%********************* ]  7192 of 7361 completed"
     ]
    },
    {
     "name": "stderr",
     "output_type": "stream",
     "text": [
      "Failed to get ticker 'LDP' reason: HTTPSConnectionPool(host='query2.finance.yahoo.com', port=443): Max retries exceeded with url: /v8/finance/chart/LDP?range=1d&interval=1d (Caused by NewConnectionError('<urllib3.connection.HTTPSConnection object at 0x000001BCD9160590>: Failed to establish a new connection: [Errno 11001] getaddrinfo failed'))\n"
     ]
    },
    {
     "name": "stdout",
     "output_type": "stream",
     "text": [
      "[**********************98%%********************* ]  7194 of 7361 completed"
     ]
    },
    {
     "name": "stderr",
     "output_type": "stream",
     "text": [
      "Failed to get ticker 'QNRX' reason: HTTPSConnectionPool(host='query2.finance.yahoo.com', port=443): Max retries exceeded with url: /v8/finance/chart/QNRX?range=1d&interval=1d (Caused by NewConnectionError('<urllib3.connection.HTTPSConnection object at 0x000001BCD9147790>: Failed to establish a new connection: [Errno 11001] getaddrinfo failed'))\n",
      "Failed to get ticker 'SKWD' reason: HTTPSConnectionPool(host='query2.finance.yahoo.com', port=443): Max retries exceeded with url: /v8/finance/chart/SKWD?range=1d&interval=1d (Caused by NewConnectionError('<urllib3.connection.HTTPSConnection object at 0x000001BCBB725090>: Failed to establish a new connection: [Errno 11001] getaddrinfo failed'))\n"
     ]
    },
    {
     "name": "stdout",
     "output_type": "stream",
     "text": [
      "[**********************98%%********************* ]  7195 of 7361 completed"
     ]
    },
    {
     "name": "stderr",
     "output_type": "stream",
     "text": [
      "Failed to get ticker 'PSEC' reason: HTTPSConnectionPool(host='query2.finance.yahoo.com', port=443): Max retries exceeded with url: /v8/finance/chart/PSEC?range=1d&interval=1d (Caused by NewConnectionError('<urllib3.connection.HTTPSConnection object at 0x000001BCBB7365D0>: Failed to establish a new connection: [Errno 11001] getaddrinfo failed'))\n"
     ]
    },
    {
     "name": "stdout",
     "output_type": "stream",
     "text": [
      "[**********************98%%********************* ]  7196 of 7361 completed"
     ]
    },
    {
     "name": "stderr",
     "output_type": "stream",
     "text": [
      "Failed to get ticker 'TUP' reason: HTTPSConnectionPool(host='query2.finance.yahoo.com', port=443): Max retries exceeded with url: /v8/finance/chart/TUP?range=1d&interval=1d (Caused by NewConnectionError('<urllib3.connection.HTTPSConnection object at 0x000001BCD7FA5D90>: Failed to establish a new connection: [Errno 11001] getaddrinfo failed'))\n",
      "Failed to get ticker 'EGLE' reason: HTTPSConnectionPool(host='query2.finance.yahoo.com', port=443): Max retries exceeded with url: /v8/finance/chart/EGLE?range=1d&interval=1d (Caused by NewConnectionError('<urllib3.connection.HTTPSConnection object at 0x000001BCBB739450>: Failed to establish a new connection: [Errno 11001] getaddrinfo failed'))\n",
      "Failed to get ticker 'USAC' reason: HTTPSConnectionPool(host='query2.finance.yahoo.com', port=443): Max retries exceeded with url: /v8/finance/chart/USAC?range=1d&interval=1d (Caused by NewConnectionError('<urllib3.connection.HTTPSConnection object at 0x000001BCD9128790>: Failed to establish a new connection: [Errno 11001] getaddrinfo failed'))\n",
      "Failed to get ticker 'VRTX' reason: HTTPSConnectionPool(host='query2.finance.yahoo.com', port=443): Max retries exceeded with url: /v8/finance/chart/VRTX?range=1d&interval=1d (Caused by NewConnectionError('<urllib3.connection.HTTPSConnection object at 0x000001BCBB73A050>: Failed to establish a new connection: [Errno 11001] getaddrinfo failed'))\n"
     ]
    },
    {
     "name": "stdout",
     "output_type": "stream",
     "text": [
      "[**********************98%%********************* ]  7198 of 7361 completed"
     ]
    },
    {
     "name": "stderr",
     "output_type": "stream",
     "text": [
      "Failed to get ticker 'PFMT' reason: HTTPSConnectionPool(host='query2.finance.yahoo.com', port=443): Max retries exceeded with url: /v8/finance/chart/PFMT?range=1d&interval=1d (Caused by NewConnectionError('<urllib3.connection.HTTPSConnection object at 0x000001BCD911EB50>: Failed to establish a new connection: [Errno 11001] getaddrinfo failed'))\n"
     ]
    },
    {
     "name": "stdout",
     "output_type": "stream",
     "text": [
      "[**********************98%%********************* ]  7200 of 7361 completed"
     ]
    },
    {
     "name": "stderr",
     "output_type": "stream",
     "text": [
      "Failed to get ticker 'BWAQR' reason: HTTPSConnectionPool(host='query2.finance.yahoo.com', port=443): Max retries exceeded with url: /v8/finance/chart/BWAQR?range=1d&interval=1d (Caused by NewConnectionError('<urllib3.connection.HTTPSConnection object at 0x000001BCD911F490>: Failed to establish a new connection: [Errno 11001] getaddrinfo failed'))\n"
     ]
    },
    {
     "name": "stdout",
     "output_type": "stream",
     "text": [
      "[**********************98%%********************* ]  7203 of 7361 completed"
     ]
    },
    {
     "name": "stderr",
     "output_type": "stream",
     "text": [
      "Failed to get ticker 'DHC' reason: HTTPSConnectionPool(host='query2.finance.yahoo.com', port=443): Max retries exceeded with url: /v8/finance/chart/DHC?range=1d&interval=1d (Caused by NewConnectionError('<urllib3.connection.HTTPSConnection object at 0x000001BCD90F9F10>: Failed to establish a new connection: [Errno 11001] getaddrinfo failed'))\n",
      "Failed to get ticker 'PEB' reason: HTTPSConnectionPool(host='query2.finance.yahoo.com', port=443): Max retries exceeded with url: /v8/finance/chart/PEB?range=1d&interval=1d (Caused by NewConnectionError('<urllib3.connection.HTTPSConnection object at 0x000001BCD9127190>: Failed to establish a new connection: [Errno 11001] getaddrinfo failed'))\n",
      "Failed to get ticker 'UTL' reason: HTTPSConnectionPool(host='query2.finance.yahoo.com', port=443): Max retries exceeded with url: /v8/finance/chart/UTL?range=1d&interval=1d (Caused by NewConnectionError('<urllib3.connection.HTTPSConnection object at 0x000001BCBB734190>: Failed to establish a new connection: [Errno 11001] getaddrinfo failed'))\n"
     ]
    },
    {
     "name": "stdout",
     "output_type": "stream",
     "text": [
      "[**********************98%%********************* ]  7204 of 7361 completed"
     ]
    },
    {
     "name": "stderr",
     "output_type": "stream",
     "text": [
      "Failed to get ticker 'YEXT' reason: HTTPSConnectionPool(host='query2.finance.yahoo.com', port=443): Max retries exceeded with url: /v8/finance/chart/YEXT?range=1d&interval=1d (Caused by NewConnectionError('<urllib3.connection.HTTPSConnection object at 0x000001BCBB6E74D0>: Failed to establish a new connection: [Errno 11001] getaddrinfo failed'))\n"
     ]
    },
    {
     "name": "stdout",
     "output_type": "stream",
     "text": [
      "[**********************98%%********************* ]  7207 of 7361 completed"
     ]
    },
    {
     "name": "stderr",
     "output_type": "stream",
     "text": [
      "Failed to get ticker 'PTIXW' reason: HTTPSConnectionPool(host='query2.finance.yahoo.com', port=443): Max retries exceeded with url: /v8/finance/chart/PTIXW?range=1d&interval=1d (Caused by NewConnectionError('<urllib3.connection.HTTPSConnection object at 0x000001BCBB7394D0>: Failed to establish a new connection: [Errno 11001] getaddrinfo failed'))\n",
      "Failed to get ticker 'RUM' reason: HTTPSConnectionPool(host='query2.finance.yahoo.com', port=443): Max retries exceeded with url: /v8/finance/chart/RUM?range=1d&interval=1d (Caused by NewConnectionError('<urllib3.connection.HTTPSConnection object at 0x000001BCBB737750>: Failed to establish a new connection: [Errno 11001] getaddrinfo failed'))\n"
     ]
    },
    {
     "name": "stdout",
     "output_type": "stream",
     "text": [
      "[**********************98%%********************* ]  7208 of 7361 completed"
     ]
    },
    {
     "name": "stderr",
     "output_type": "stream",
     "text": [
      "Failed to get ticker 'MDT' reason: HTTPSConnectionPool(host='query2.finance.yahoo.com', port=443): Max retries exceeded with url: /v8/finance/chart/MDT?range=1d&interval=1d (Caused by NewConnectionError('<urllib3.connection.HTTPSConnection object at 0x000001BCD913C450>: Failed to establish a new connection: [Errno 11001] getaddrinfo failed'))\n",
      "Failed to get ticker 'WT' reason: HTTPSConnectionPool(host='query2.finance.yahoo.com', port=443): Max retries exceeded with url: /v8/finance/chart/WT?range=1d&interval=1d (Caused by NewConnectionError('<urllib3.connection.HTTPSConnection object at 0x000001BCBB714810>: Failed to establish a new connection: [Errno 11001] getaddrinfo failed'))\n"
     ]
    },
    {
     "name": "stdout",
     "output_type": "stream",
     "text": [
      "[**********************98%%********************* ]  7209 of 7361 completed"
     ]
    },
    {
     "name": "stderr",
     "output_type": "stream",
     "text": [
      "Failed to get ticker 'UAL' reason: HTTPSConnectionPool(host='query2.finance.yahoo.com', port=443): Max retries exceeded with url: /v8/finance/chart/UAL?range=1d&interval=1d (Caused by NewConnectionError('<urllib3.connection.HTTPSConnection object at 0x000001BCBB7365D0>: Failed to establish a new connection: [Errno 11001] getaddrinfo failed'))\n"
     ]
    },
    {
     "name": "stdout",
     "output_type": "stream",
     "text": [
      "[**********************98%%********************* ]  7212 of 7361 completed"
     ]
    },
    {
     "name": "stderr",
     "output_type": "stream",
     "text": [
      "Failed to get ticker 'SAR' reason: HTTPSConnectionPool(host='query2.finance.yahoo.com', port=443): Max retries exceeded with url: /v8/finance/chart/SAR?range=1d&interval=1d (Caused by NewConnectionError('<urllib3.connection.HTTPSConnection object at 0x000001BCD9147850>: Failed to establish a new connection: [Errno 11001] getaddrinfo failed'))\n"
     ]
    },
    {
     "name": "stdout",
     "output_type": "stream",
     "text": [
      "[**********************98%%********************* ]  7213 of 7361 completed"
     ]
    },
    {
     "name": "stderr",
     "output_type": "stream",
     "text": [
      "Failed to get ticker 'HKD' reason: HTTPSConnectionPool(host='query2.finance.yahoo.com', port=443): Max retries exceeded with url: /v8/finance/chart/HKD?range=1d&interval=1d (Caused by NewConnectionError('<urllib3.connection.HTTPSConnection object at 0x000001BCBB738F10>: Failed to establish a new connection: [Errno 11001] getaddrinfo failed'))\n",
      "Failed to get ticker 'BRAG' reason: HTTPSConnectionPool(host='query2.finance.yahoo.com', port=443): Max retries exceeded with url: /v8/finance/chart/BRAG?range=1d&interval=1d (Caused by NewConnectionError('<urllib3.connection.HTTPSConnection object at 0x000001BCD918AA50>: Failed to establish a new connection: [Errno 11001] getaddrinfo failed'))\n"
     ]
    },
    {
     "name": "stdout",
     "output_type": "stream",
     "text": [
      "[**********************98%%********************* ]  7214 of 7361 completed"
     ]
    },
    {
     "name": "stderr",
     "output_type": "stream",
     "text": [
      "Failed to get ticker 'PLG' reason: HTTPSConnectionPool(host='query2.finance.yahoo.com', port=443): Max retries exceeded with url: /v8/finance/chart/PLG?range=1d&interval=1d (Caused by NewConnectionError('<urllib3.connection.HTTPSConnection object at 0x000001BCD9197A10>: Failed to establish a new connection: [Errno 11001] getaddrinfo failed'))\n",
      "Failed to get ticker 'PRTC' reason: HTTPSConnectionPool(host='query2.finance.yahoo.com', port=443): Max retries exceeded with url: /v8/finance/chart/PRTC?range=1d&interval=1d (Caused by NewConnectionError('<urllib3.connection.HTTPSConnection object at 0x000001BCD911F490>: Failed to establish a new connection: [Errno 11001] getaddrinfo failed'))\n"
     ]
    },
    {
     "name": "stdout",
     "output_type": "stream",
     "text": [
      "[**********************98%%********************* ]  7216 of 7361 completed"
     ]
    },
    {
     "name": "stderr",
     "output_type": "stream",
     "text": [
      "Failed to get ticker 'ODVWW' reason: HTTPSConnectionPool(host='query2.finance.yahoo.com', port=443): Max retries exceeded with url: /v8/finance/chart/ODVWW?range=1d&interval=1d (Caused by NewConnectionError('<urllib3.connection.HTTPSConnection object at 0x000001BCD7FE4F50>: Failed to establish a new connection: [Errno 11001] getaddrinfo failed'))\n"
     ]
    },
    {
     "name": "stdout",
     "output_type": "stream",
     "text": [
      "[**********************98%%********************* ]  7217 of 7361 completed"
     ]
    },
    {
     "name": "stderr",
     "output_type": "stream",
     "text": [
      "Failed to get ticker 'KMDA' reason: HTTPSConnectionPool(host='query2.finance.yahoo.com', port=443): Max retries exceeded with url: /v8/finance/chart/KMDA?range=1d&interval=1d (Caused by NewConnectionError('<urllib3.connection.HTTPSConnection object at 0x000001BCD9181A10>: Failed to establish a new connection: [Errno 11001] getaddrinfo failed'))\n",
      "Failed to get ticker 'GLPG' reason: HTTPSConnectionPool(host='query2.finance.yahoo.com', port=443): Max retries exceeded with url: /v8/finance/chart/GLPG?range=1d&interval=1d (Caused by NewConnectionError('<urllib3.connection.HTTPSConnection object at 0x000001BCD911FDD0>: Failed to establish a new connection: [Errno 11001] getaddrinfo failed'))\n"
     ]
    },
    {
     "name": "stdout",
     "output_type": "stream",
     "text": [
      "[**********************98%%********************* ]  7219 of 7361 completed"
     ]
    },
    {
     "name": "stderr",
     "output_type": "stream",
     "text": [
      "Failed to get ticker 'VOC' reason: HTTPSConnectionPool(host='query2.finance.yahoo.com', port=443): Max retries exceeded with url: /v8/finance/chart/VOC?range=1d&interval=1d (Caused by NewConnectionError('<urllib3.connection.HTTPSConnection object at 0x000001BCBB7374D0>: Failed to establish a new connection: [Errno 11001] getaddrinfo failed'))\n"
     ]
    },
    {
     "name": "stdout",
     "output_type": "stream",
     "text": [
      "[**********************98%%********************* ]  7220 of 7361 completed"
     ]
    },
    {
     "name": "stderr",
     "output_type": "stream",
     "text": [
      "Failed to get ticker 'LCII' reason: HTTPSConnectionPool(host='query2.finance.yahoo.com', port=443): Max retries exceeded with url: /v8/finance/chart/LCII?range=1d&interval=1d (Caused by NewConnectionError('<urllib3.connection.HTTPSConnection object at 0x000001BCD911F490>: Failed to establish a new connection: [Errno 11001] getaddrinfo failed'))\n",
      "Failed to get ticker 'ALRM' reason: HTTPSConnectionPool(host='query2.finance.yahoo.com', port=443): Max retries exceeded with url: /v8/finance/chart/ALRM?range=1d&interval=1d (Caused by NewConnectionError('<urllib3.connection.HTTPSConnection object at 0x000001BCD9147650>: Failed to establish a new connection: [Errno 11001] getaddrinfo failed'))\n"
     ]
    },
    {
     "name": "stdout",
     "output_type": "stream",
     "text": [
      "[**********************98%%********************* ]  7222 of 7361 completed"
     ]
    },
    {
     "name": "stderr",
     "output_type": "stream",
     "text": [
      "Failed to get ticker 'MAYS' reason: HTTPSConnectionPool(host='query2.finance.yahoo.com', port=443): Max retries exceeded with url: /v8/finance/chart/MAYS?range=1d&interval=1d (Caused by NewConnectionError('<urllib3.connection.HTTPSConnection object at 0x000001BCD9146950>: Failed to establish a new connection: [Errno 11001] getaddrinfo failed'))\n"
     ]
    },
    {
     "name": "stdout",
     "output_type": "stream",
     "text": [
      "[**********************98%%********************* ]  7223 of 7361 completed"
     ]
    },
    {
     "name": "stderr",
     "output_type": "stream",
     "text": [
      "Failed to get ticker 'TGVC' reason: HTTPSConnectionPool(host='query2.finance.yahoo.com', port=443): Max retries exceeded with url: /v8/finance/chart/TGVC?range=1d&interval=1d (Caused by NewConnectionError('<urllib3.connection.HTTPSConnection object at 0x000001BCD91A8C10>: Failed to establish a new connection: [Errno 11001] getaddrinfo failed'))\n"
     ]
    },
    {
     "name": "stdout",
     "output_type": "stream",
     "text": [
      "[**********************98%%********************* ]  7225 of 7361 completed"
     ]
    },
    {
     "name": "stderr",
     "output_type": "stream",
     "text": [
      "Failed to get ticker 'ALSAW' reason: HTTPSConnectionPool(host='query2.finance.yahoo.com', port=443): Max retries exceeded with url: /v8/finance/chart/ALSAW?range=1d&interval=1d (Caused by NewConnectionError('<urllib3.connection.HTTPSConnection object at 0x000001BCBB739710>: Failed to establish a new connection: [Errno 11001] getaddrinfo failed'))\n",
      "Failed to get ticker 'EXG' reason: HTTPSConnectionPool(host='query2.finance.yahoo.com', port=443): Max retries exceeded with url: /v8/finance/chart/EXG?range=1d&interval=1d (Caused by NewConnectionError('<urllib3.connection.HTTPSConnection object at 0x000001BCD90FAB90>: Failed to establish a new connection: [Errno 11001] getaddrinfo failed'))\n"
     ]
    },
    {
     "name": "stdout",
     "output_type": "stream",
     "text": [
      "[**********************98%%********************* ]  7226 of 7361 completed"
     ]
    },
    {
     "name": "stderr",
     "output_type": "stream",
     "text": [
      "Failed to get ticker 'PBF' reason: HTTPSConnectionPool(host='query2.finance.yahoo.com', port=443): Max retries exceeded with url: /v8/finance/chart/PBF?range=1d&interval=1d (Caused by NewConnectionError('<urllib3.connection.HTTPSConnection object at 0x000001BCD91981D0>: Failed to establish a new connection: [Errno 11001] getaddrinfo failed'))\n"
     ]
    },
    {
     "name": "stdout",
     "output_type": "stream",
     "text": [
      "[**********************98%%********************* ]  7227 of 7361 completed"
     ]
    },
    {
     "name": "stderr",
     "output_type": "stream",
     "text": [
      "Failed to get ticker 'RPT' reason: HTTPSConnectionPool(host='query2.finance.yahoo.com', port=443): Max retries exceeded with url: /v8/finance/chart/RPT?range=1d&interval=1d (Caused by NewConnectionError('<urllib3.connection.HTTPSConnection object at 0x000001BCD91A9090>: Failed to establish a new connection: [Errno 11001] getaddrinfo failed'))\n"
     ]
    },
    {
     "name": "stdout",
     "output_type": "stream",
     "text": [
      "[**********************98%%********************* ]  7228 of 7361 completed"
     ]
    },
    {
     "name": "stderr",
     "output_type": "stream",
     "text": [
      "Failed to get ticker 'FORL' reason: HTTPSConnectionPool(host='query2.finance.yahoo.com', port=443): Max retries exceeded with url: /v8/finance/chart/FORL?range=1d&interval=1d (Caused by NewConnectionError('<urllib3.connection.HTTPSConnection object at 0x000001BCD90FAED0>: Failed to establish a new connection: [Errno 11001] getaddrinfo failed'))\n",
      "Failed to get ticker 'WINT' reason: HTTPSConnectionPool(host='query2.finance.yahoo.com', port=443): Max retries exceeded with url: /v8/finance/chart/WINT?range=1d&interval=1d (Caused by NewConnectionError('<urllib3.connection.HTTPSConnection object at 0x000001BCD9182710>: Failed to establish a new connection: [Errno 11001] getaddrinfo failed'))\n"
     ]
    },
    {
     "name": "stdout",
     "output_type": "stream",
     "text": [
      "[**********************98%%********************* ]  7229 of 7361 completed"
     ]
    },
    {
     "name": "stderr",
     "output_type": "stream",
     "text": [
      "Failed to get ticker 'TALKW' reason: HTTPSConnectionPool(host='query2.finance.yahoo.com', port=443): Max retries exceeded with url: /v8/finance/chart/TALKW?range=1d&interval=1d (Caused by NewConnectionError('<urllib3.connection.HTTPSConnection object at 0x000001BCD911FD10>: Failed to establish a new connection: [Errno 11001] getaddrinfo failed'))\n"
     ]
    },
    {
     "name": "stdout",
     "output_type": "stream",
     "text": [
      "[**********************98%%********************* ]  7231 of 7361 completed"
     ]
    },
    {
     "name": "stderr",
     "output_type": "stream",
     "text": [
      "Failed to get ticker 'MSD' reason: HTTPSConnectionPool(host='query2.finance.yahoo.com', port=443): Max retries exceeded with url: /v8/finance/chart/MSD?range=1d&interval=1d (Caused by NewConnectionError('<urllib3.connection.HTTPSConnection object at 0x000001BCD9162490>: Failed to establish a new connection: [Errno 11001] getaddrinfo failed'))\n"
     ]
    },
    {
     "name": "stdout",
     "output_type": "stream",
     "text": [
      "[**********************98%%********************* ]  7232 of 7361 completed"
     ]
    },
    {
     "name": "stderr",
     "output_type": "stream",
     "text": [
      "Failed to get ticker 'OSI' reason: HTTPSConnectionPool(host='query2.finance.yahoo.com', port=443): Max retries exceeded with url: /v8/finance/chart/OSI?range=1d&interval=1d (Caused by NewConnectionError('<urllib3.connection.HTTPSConnection object at 0x000001BCD7FA5710>: Failed to establish a new connection: [Errno 11001] getaddrinfo failed'))\n"
     ]
    },
    {
     "name": "stdout",
     "output_type": "stream",
     "text": [
      "[**********************98%%********************* ]  7233 of 7361 completed"
     ]
    },
    {
     "name": "stderr",
     "output_type": "stream",
     "text": [
      "Failed to get ticker 'AOD' reason: HTTPSConnectionPool(host='query2.finance.yahoo.com', port=443): Max retries exceeded with url: /v8/finance/chart/AOD?range=1d&interval=1d (Caused by NewConnectionError('<urllib3.connection.HTTPSConnection object at 0x000001BCD9183410>: Failed to establish a new connection: [Errno 11001] getaddrinfo failed'))\n"
     ]
    },
    {
     "name": "stdout",
     "output_type": "stream",
     "text": [
      "[**********************98%%********************* ]  7234 of 7361 completed"
     ]
    },
    {
     "name": "stderr",
     "output_type": "stream",
     "text": [
      "Failed to get ticker 'EVV' reason: HTTPSConnectionPool(host='query2.finance.yahoo.com', port=443): Max retries exceeded with url: /v8/finance/chart/EVV?range=1d&interval=1d (Caused by NewConnectionError('<urllib3.connection.HTTPSConnection object at 0x000001BCD918AB90>: Failed to establish a new connection: [Errno 11001] getaddrinfo failed'))\n",
      "Failed to get ticker 'CASS' reason: HTTPSConnectionPool(host='query2.finance.yahoo.com', port=443): Max retries exceeded with url: /v8/finance/chart/CASS?range=1d&interval=1d (Caused by NewConnectionError('<urllib3.connection.HTTPSConnection object at 0x000001BCBB735A10>: Failed to establish a new connection: [Errno 11001] getaddrinfo failed'))\n"
     ]
    },
    {
     "name": "stdout",
     "output_type": "stream",
     "text": [
      "[**********************98%%********************* ]  7235 of 7361 completed"
     ]
    },
    {
     "name": "stderr",
     "output_type": "stream",
     "text": [
      "Failed to get ticker 'ABLV' reason: HTTPSConnectionPool(host='query2.finance.yahoo.com', port=443): Max retries exceeded with url: /v8/finance/chart/ABLV?range=1d&interval=1d (Caused by NewConnectionError('<urllib3.connection.HTTPSConnection object at 0x000001BCBB6E5E10>: Failed to establish a new connection: [Errno 11001] getaddrinfo failed'))\n"
     ]
    },
    {
     "name": "stdout",
     "output_type": "stream",
     "text": [
      "[**********************98%%********************* ]  7236 of 7361 completed"
     ]
    },
    {
     "name": "stderr",
     "output_type": "stream",
     "text": [
      "Failed to get ticker 'PROC' reason: HTTPSConnectionPool(host='query2.finance.yahoo.com', port=443): Max retries exceeded with url: /v8/finance/chart/PROC?range=1d&interval=1d (Caused by NewConnectionError('<urllib3.connection.HTTPSConnection object at 0x000001BCBB74DED0>: Failed to establish a new connection: [Errno 11001] getaddrinfo failed'))\n"
     ]
    },
    {
     "name": "stdout",
     "output_type": "stream",
     "text": [
      "[**********************98%%********************* ]  7237 of 7361 completed"
     ]
    },
    {
     "name": "stderr",
     "output_type": "stream",
     "text": [
      "Failed to get ticker 'T' reason: HTTPSConnectionPool(host='query2.finance.yahoo.com', port=443): Max retries exceeded with url: /v8/finance/chart/T?range=1d&interval=1d (Caused by NewConnectionError('<urllib3.connection.HTTPSConnection object at 0x000001BCD91BC910>: Failed to establish a new connection: [Errno 11001] getaddrinfo failed'))\n",
      "Failed to get ticker 'IRS' reason: HTTPSConnectionPool(host='query2.finance.yahoo.com', port=443): Max retries exceeded with url: /v8/finance/chart/IRS?range=1d&interval=1d (Caused by NewConnectionError('<urllib3.connection.HTTPSConnection object at 0x000001BCBB735A10>: Failed to establish a new connection: [Errno 11001] getaddrinfo failed'))\n"
     ]
    },
    {
     "name": "stdout",
     "output_type": "stream",
     "text": [
      "[**********************98%%********************* ]  7239 of 7361 completed"
     ]
    },
    {
     "name": "stderr",
     "output_type": "stream",
     "text": [
      "Failed to get ticker 'ORA' reason: HTTPSConnectionPool(host='query2.finance.yahoo.com', port=443): Max retries exceeded with url: /v8/finance/chart/ORA?range=1d&interval=1d (Caused by NewConnectionError('<urllib3.connection.HTTPSConnection object at 0x000001BCBB710410>: Failed to establish a new connection: [Errno 11001] getaddrinfo failed'))\n",
      "Failed to get ticker 'STRC' reason: HTTPSConnectionPool(host='query2.finance.yahoo.com', port=443): Max retries exceeded with url: /v8/finance/chart/STRC?range=1d&interval=1d (Caused by NewConnectionError('<urllib3.connection.HTTPSConnection object at 0x000001BCD9128110>: Failed to establish a new connection: [Errno 11001] getaddrinfo failed'))\n"
     ]
    },
    {
     "name": "stdout",
     "output_type": "stream",
     "text": [
      "[**********************98%%********************* ]  7240 of 7361 completed"
     ]
    },
    {
     "name": "stderr",
     "output_type": "stream",
     "text": [
      "Failed to get ticker 'INBKZ' reason: HTTPSConnectionPool(host='query2.finance.yahoo.com', port=443): Max retries exceeded with url: /v8/finance/chart/INBKZ?range=1d&interval=1d (Caused by NewConnectionError('<urllib3.connection.HTTPSConnection object at 0x000001BCBB736950>: Failed to establish a new connection: [Errno 11001] getaddrinfo failed'))\n"
     ]
    },
    {
     "name": "stdout",
     "output_type": "stream",
     "text": [
      "[**********************98%%********************* ]  7243 of 7361 completed"
     ]
    },
    {
     "name": "stderr",
     "output_type": "stream",
     "text": [
      "Failed to get ticker 'ENVX' reason: HTTPSConnectionPool(host='query2.finance.yahoo.com', port=443): Max retries exceeded with url: /v8/finance/chart/ENVX?range=1d&interval=1d (Caused by NewConnectionError('<urllib3.connection.HTTPSConnection object at 0x000001BCD91968D0>: Failed to establish a new connection: [Errno 11001] getaddrinfo failed'))\n",
      "Failed to get ticker 'TCI' reason: HTTPSConnectionPool(host='query2.finance.yahoo.com', port=443): Max retries exceeded with url: /v8/finance/chart/TCI?range=1d&interval=1d (Caused by NewConnectionError('<urllib3.connection.HTTPSConnection object at 0x000001BCD7FDA410>: Failed to establish a new connection: [Errno 11001] getaddrinfo failed'))\n"
     ]
    },
    {
     "name": "stdout",
     "output_type": "stream",
     "text": [
      "[**********************98%%********************* ]  7244 of 7361 completed"
     ]
    },
    {
     "name": "stderr",
     "output_type": "stream",
     "text": [
      "Failed to get ticker 'WHLRD' reason: HTTPSConnectionPool(host='query2.finance.yahoo.com', port=443): Max retries exceeded with url: /v8/finance/chart/WHLRD?range=1d&interval=1d (Caused by NewConnectionError('<urllib3.connection.HTTPSConnection object at 0x000001BCD91BC090>: Failed to establish a new connection: [Errno 11001] getaddrinfo failed'))\n"
     ]
    },
    {
     "name": "stdout",
     "output_type": "stream",
     "text": [
      "[**********************98%%********************* ]  7246 of 7361 completed"
     ]
    },
    {
     "name": "stderr",
     "output_type": "stream",
     "text": [
      "Failed to get ticker 'SSY' reason: HTTPSConnectionPool(host='query2.finance.yahoo.com', port=443): Max retries exceeded with url: /v8/finance/chart/SSY?range=1d&interval=1d (Caused by NewConnectionError('<urllib3.connection.HTTPSConnection object at 0x000001BCBB7101D0>: Failed to establish a new connection: [Errno 11001] getaddrinfo failed'))\n"
     ]
    },
    {
     "name": "stdout",
     "output_type": "stream",
     "text": [
      "[**********************98%%********************* ]  7248 of 7361 completed"
     ]
    },
    {
     "name": "stderr",
     "output_type": "stream",
     "text": [
      "Failed to get ticker 'YETI' reason: HTTPSConnectionPool(host='query2.finance.yahoo.com', port=443): Max retries exceeded with url: /v8/finance/chart/YETI?range=1d&interval=1d (Caused by NewConnectionError('<urllib3.connection.HTTPSConnection object at 0x000001BCBB738150>: Failed to establish a new connection: [Errno 11001] getaddrinfo failed'))\n",
      "Failed to get ticker 'VLYPP' reason: HTTPSConnectionPool(host='query2.finance.yahoo.com', port=443): Max retries exceeded with url: /v8/finance/chart/VLYPP?range=1d&interval=1d (Caused by NewConnectionError('<urllib3.connection.HTTPSConnection object at 0x000001BCBB736D50>: Failed to establish a new connection: [Errno 11001] getaddrinfo failed'))\n"
     ]
    },
    {
     "name": "stdout",
     "output_type": "stream",
     "text": [
      "[**********************98%%********************* ]  7249 of 7361 completed"
     ]
    },
    {
     "name": "stderr",
     "output_type": "stream",
     "text": [
      "Failed to get ticker 'HROWL' reason: HTTPSConnectionPool(host='query2.finance.yahoo.com', port=443): Max retries exceeded with url: /v8/finance/chart/HROWL?range=1d&interval=1d (Caused by NewConnectionError('<urllib3.connection.HTTPSConnection object at 0x000001BCBB73A990>: Failed to establish a new connection: [Errno 11001] getaddrinfo failed'))\n"
     ]
    },
    {
     "name": "stdout",
     "output_type": "stream",
     "text": [
      "[**********************98%%********************* ]  7250 of 7361 completed"
     ]
    },
    {
     "name": "stderr",
     "output_type": "stream",
     "text": [
      "Failed to get ticker 'WSO' reason: HTTPSConnectionPool(host='query2.finance.yahoo.com', port=443): Max retries exceeded with url: /v8/finance/chart/WSO?range=1d&interval=1d (Caused by NewConnectionError('<urllib3.connection.HTTPSConnection object at 0x000001BCBB738D10>: Failed to establish a new connection: [Errno 11001] getaddrinfo failed'))\n"
     ]
    },
    {
     "name": "stdout",
     "output_type": "stream",
     "text": [
      "[**********************99%%**********************]  7252 of 7361 completed"
     ]
    },
    {
     "name": "stderr",
     "output_type": "stream",
     "text": [
      "Failed to get ticker 'AEL' reason: HTTPSConnectionPool(host='query2.finance.yahoo.com', port=443): Max retries exceeded with url: /v8/finance/chart/AEL?range=1d&interval=1d (Caused by NewConnectionError('<urllib3.connection.HTTPSConnection object at 0x000001BCD919A690>: Failed to establish a new connection: [Errno 11001] getaddrinfo failed'))\n"
     ]
    },
    {
     "name": "stdout",
     "output_type": "stream",
     "text": [
      "[**********************99%%**********************]  7253 of 7361 completed"
     ]
    },
    {
     "name": "stderr",
     "output_type": "stream",
     "text": [
      "Failed to get ticker 'KYN' reason: HTTPSConnectionPool(host='query2.finance.yahoo.com', port=443): Max retries exceeded with url: /v8/finance/chart/KYN?range=1d&interval=1d (Caused by NewConnectionError('<urllib3.connection.HTTPSConnection object at 0x000001BCD919A150>: Failed to establish a new connection: [Errno 11001] getaddrinfo failed'))\n",
      "Failed to get ticker 'EHI' reason: HTTPSConnectionPool(host='query2.finance.yahoo.com', port=443): Max retries exceeded with url: /v8/finance/chart/EHI?range=1d&interval=1d (Caused by NewConnectionError('<urllib3.connection.HTTPSConnection object at 0x000001BCD9181A10>: Failed to establish a new connection: [Errno 11001] getaddrinfo failed'))\n",
      "Failed to get ticker 'SILK' reason: HTTPSConnectionPool(host='query2.finance.yahoo.com', port=443): Max retries exceeded with url: /v8/finance/chart/SILK?range=1d&interval=1d (Caused by NewConnectionError('<urllib3.connection.HTTPSConnection object at 0x000001BCBB74DDD0>: Failed to establish a new connection: [Errno 11001] getaddrinfo failed'))\n"
     ]
    },
    {
     "name": "stdout",
     "output_type": "stream",
     "text": [
      "[**********************99%%**********************]  7254 of 7361 completed"
     ]
    },
    {
     "name": "stderr",
     "output_type": "stream",
     "text": [
      "Failed to get ticker 'NLY' reason: HTTPSConnectionPool(host='query2.finance.yahoo.com', port=443): Max retries exceeded with url: /v8/finance/chart/NLY?range=1d&interval=1d (Caused by NewConnectionError('<urllib3.connection.HTTPSConnection object at 0x000001BCD9182C10>: Failed to establish a new connection: [Errno 11001] getaddrinfo failed'))\n"
     ]
    },
    {
     "name": "stdout",
     "output_type": "stream",
     "text": [
      "[**********************99%%**********************]  7255 of 7361 completed"
     ]
    },
    {
     "name": "stderr",
     "output_type": "stream",
     "text": [
      "Failed to get ticker 'STX' reason: HTTPSConnectionPool(host='query2.finance.yahoo.com', port=443): Max retries exceeded with url: /v8/finance/chart/STX?range=1d&interval=1d (Caused by NewConnectionError('<urllib3.connection.HTTPSConnection object at 0x000001BCD91BC0D0>: Failed to establish a new connection: [Errno 11001] getaddrinfo failed'))\n"
     ]
    },
    {
     "name": "stdout",
     "output_type": "stream",
     "text": [
      "[**********************99%%**********************]  7257 of 7361 completed"
     ]
    },
    {
     "name": "stderr",
     "output_type": "stream",
     "text": [
      "Failed to get ticker 'NMM' reason: HTTPSConnectionPool(host='query2.finance.yahoo.com', port=443): Max retries exceeded with url: /v8/finance/chart/NMM?range=1d&interval=1d (Caused by NewConnectionError('<urllib3.connection.HTTPSConnection object at 0x000001BCD91983D0>: Failed to establish a new connection: [Errno 11001] getaddrinfo failed'))\n",
      "Failed to get ticker 'VBTX' reason: HTTPSConnectionPool(host='query2.finance.yahoo.com', port=443): Max retries exceeded with url: /v8/finance/chart/VBTX?range=1d&interval=1d (Caused by NewConnectionError('<urllib3.connection.HTTPSConnection object at 0x000001BCD919A390>: Failed to establish a new connection: [Errno 11001] getaddrinfo failed'))\n",
      "Failed to get ticker 'TTEK' reason: HTTPSConnectionPool(host='query2.finance.yahoo.com', port=443): Max retries exceeded with url: /v8/finance/chart/TTEK?range=1d&interval=1d (Caused by NewConnectionError('<urllib3.connection.HTTPSConnection object at 0x000001BCBB74D9D0>: Failed to establish a new connection: [Errno 11001] getaddrinfo failed'))\n"
     ]
    },
    {
     "name": "stdout",
     "output_type": "stream",
     "text": [
      "[**********************99%%**********************]  7259 of 7361 completed"
     ]
    },
    {
     "name": "stderr",
     "output_type": "stream",
     "text": [
      "Failed to get ticker 'ESGR' reason: HTTPSConnectionPool(host='query2.finance.yahoo.com', port=443): Max retries exceeded with url: /v8/finance/chart/ESGR?range=1d&interval=1d (Caused by NewConnectionError('<urllib3.connection.HTTPSConnection object at 0x000001BCD91D6790>: Failed to establish a new connection: [Errno 11001] getaddrinfo failed'))\n"
     ]
    },
    {
     "name": "stdout",
     "output_type": "stream",
     "text": [
      "[**********************99%%**********************]  7261 of 7361 completed"
     ]
    },
    {
     "name": "stderr",
     "output_type": "stream",
     "text": [
      "Failed to get ticker 'BTCY' reason: HTTPSConnectionPool(host='query2.finance.yahoo.com', port=443): Max retries exceeded with url: /v8/finance/chart/BTCY?range=1d&interval=1d (Caused by NewConnectionError('<urllib3.connection.HTTPSConnection object at 0x000001BCD9183ED0>: Failed to establish a new connection: [Errno 11001] getaddrinfo failed'))\n"
     ]
    },
    {
     "name": "stdout",
     "output_type": "stream",
     "text": [
      "[**********************99%%**********************]  7262 of 7361 completed"
     ]
    },
    {
     "name": "stderr",
     "output_type": "stream",
     "text": [
      "Failed to get ticker 'CHKP' reason: HTTPSConnectionPool(host='query2.finance.yahoo.com', port=443): Max retries exceeded with url: /v8/finance/chart/CHKP?range=1d&interval=1d (Caused by NewConnectionError('<urllib3.connection.HTTPSConnection object at 0x000001BCD7F0B750>: Failed to establish a new connection: [Errno 11001] getaddrinfo failed'))\n",
      "Failed to get ticker 'AFGD' reason: HTTPSConnectionPool(host='query2.finance.yahoo.com', port=443): Max retries exceeded with url: /v8/finance/chart/AFGD?range=1d&interval=1d (Caused by NewConnectionError('<urllib3.connection.HTTPSConnection object at 0x000001BCBB74E1D0>: Failed to establish a new connection: [Errno 11001] getaddrinfo failed'))\n"
     ]
    },
    {
     "name": "stdout",
     "output_type": "stream",
     "text": [
      "[**********************99%%**********************]  7264 of 7361 completed"
     ]
    },
    {
     "name": "stderr",
     "output_type": "stream",
     "text": [
      "Failed to get ticker 'NOGNW' reason: HTTPSConnectionPool(host='query2.finance.yahoo.com', port=443): Max retries exceeded with url: /v8/finance/chart/NOGNW?range=1d&interval=1d (Caused by NewConnectionError('<urllib3.connection.HTTPSConnection object at 0x000001BCBB74E5D0>: Failed to establish a new connection: [Errno 11001] getaddrinfo failed'))\n"
     ]
    },
    {
     "name": "stdout",
     "output_type": "stream",
     "text": [
      "[**********************99%%**********************]  7265 of 7361 completed"
     ]
    },
    {
     "name": "stderr",
     "output_type": "stream",
     "text": [
      "Failed to get ticker 'LUNR' reason: HTTPSConnectionPool(host='query2.finance.yahoo.com', port=443): Max retries exceeded with url: /v8/finance/chart/LUNR?range=1d&interval=1d (Caused by NewConnectionError('<urllib3.connection.HTTPSConnection object at 0x000001BCD5DDF050>: Failed to establish a new connection: [Errno 11001] getaddrinfo failed'))\n"
     ]
    },
    {
     "name": "stdout",
     "output_type": "stream",
     "text": [
      "[**********************99%%**********************]  7266 of 7361 completed"
     ]
    },
    {
     "name": "stderr",
     "output_type": "stream",
     "text": [
      "Failed to get ticker 'HSIC' reason: HTTPSConnectionPool(host='query2.finance.yahoo.com', port=443): Max retries exceeded with url: /v8/finance/chart/HSIC?range=1d&interval=1d (Caused by NewConnectionError('<urllib3.connection.HTTPSConnection object at 0x000001BCBB74F250>: Failed to establish a new connection: [Errno 11001] getaddrinfo failed'))\n"
     ]
    },
    {
     "name": "stdout",
     "output_type": "stream",
     "text": [
      "[**********************99%%**********************]  7267 of 7361 completed"
     ]
    },
    {
     "name": "stderr",
     "output_type": "stream",
     "text": [
      "Failed to get ticker 'MGOL' reason: HTTPSConnectionPool(host='query2.finance.yahoo.com', port=443): Max retries exceeded with url: /v8/finance/chart/MGOL?range=1d&interval=1d (Caused by NewConnectionError('<urllib3.connection.HTTPSConnection object at 0x000001BCD91C5450>: Failed to establish a new connection: [Errno 11001] getaddrinfo failed'))\n"
     ]
    },
    {
     "name": "stdout",
     "output_type": "stream",
     "text": [
      "[**********************99%%**********************]  7268 of 7361 completed"
     ]
    },
    {
     "name": "stderr",
     "output_type": "stream",
     "text": [
      "Failed to get ticker 'NXRT' reason: HTTPSConnectionPool(host='query2.finance.yahoo.com', port=443): Max retries exceeded with url: /v8/finance/chart/NXRT?range=1d&interval=1d (Caused by NewConnectionError('<urllib3.connection.HTTPSConnection object at 0x000001BCD9181850>: Failed to establish a new connection: [Errno 11001] getaddrinfo failed'))\n",
      "Failed to get ticker 'HPF' reason: HTTPSConnectionPool(host='query2.finance.yahoo.com', port=443): Max retries exceeded with url: /v8/finance/chart/HPF?range=1d&interval=1d (Caused by NewConnectionError('<urllib3.connection.HTTPSConnection object at 0x000001BCD919B490>: Failed to establish a new connection: [Errno 11001] getaddrinfo failed'))\n"
     ]
    },
    {
     "name": "stdout",
     "output_type": "stream",
     "text": [
      "[**********************99%%**********************]  7269 of 7361 completed"
     ]
    },
    {
     "name": "stderr",
     "output_type": "stream",
     "text": [
      "Failed to get ticker 'HNVR' reason: HTTPSConnectionPool(host='query2.finance.yahoo.com', port=443): Max retries exceeded with url: /v8/finance/chart/HNVR?range=1d&interval=1d (Caused by NewConnectionError('<urllib3.connection.HTTPSConnection object at 0x000001BCD91C67D0>: Failed to establish a new connection: [Errno 11001] getaddrinfo failed'))\n"
     ]
    },
    {
     "name": "stdout",
     "output_type": "stream",
     "text": [
      "[**********************99%%**********************]  7271 of 7361 completed"
     ]
    },
    {
     "name": "stderr",
     "output_type": "stream",
     "text": [
      "Failed to get ticker 'KOF' reason: HTTPSConnectionPool(host='query2.finance.yahoo.com', port=443): Max retries exceeded with url: /v8/finance/chart/KOF?range=1d&interval=1d (Caused by NewConnectionError('<urllib3.connection.HTTPSConnection object at 0x000001BCD9198110>: Failed to establish a new connection: [Errno 11001] getaddrinfo failed'))\n"
     ]
    },
    {
     "name": "stdout",
     "output_type": "stream",
     "text": [
      "[**********************99%%**********************]  7272 of 7361 completed"
     ]
    },
    {
     "name": "stderr",
     "output_type": "stream",
     "text": [
      "Failed to get ticker 'OCTO' reason: HTTPSConnectionPool(host='query2.finance.yahoo.com', port=443): Max retries exceeded with url: /v8/finance/chart/OCTO?range=1d&interval=1d (Caused by NewConnectionError('<urllib3.connection.HTTPSConnection object at 0x000001BCD91BE610>: Failed to establish a new connection: [Errno 11001] getaddrinfo failed'))\n"
     ]
    },
    {
     "name": "stdout",
     "output_type": "stream",
     "text": [
      "[**********************99%%**********************]  7273 of 7361 completed"
     ]
    },
    {
     "name": "stderr",
     "output_type": "stream",
     "text": [
      "Failed to get ticker 'NNBR' reason: HTTPSConnectionPool(host='query2.finance.yahoo.com', port=443): Max retries exceeded with url: /v8/finance/chart/NNBR?range=1d&interval=1d (Caused by NewConnectionError('<urllib3.connection.HTTPSConnection object at 0x000001BCD91C5350>: Failed to establish a new connection: [Errno 11001] getaddrinfo failed'))\n"
     ]
    },
    {
     "name": "stdout",
     "output_type": "stream",
     "text": [
      "[**********************99%%**********************]  7274 of 7361 completed"
     ]
    },
    {
     "name": "stderr",
     "output_type": "stream",
     "text": [
      "Failed to get ticker 'ALTO' reason: HTTPSConnectionPool(host='query2.finance.yahoo.com', port=443): Max retries exceeded with url: /v8/finance/chart/ALTO?range=1d&interval=1d (Caused by NewConnectionError('<urllib3.connection.HTTPSConnection object at 0x000001BCD91C4C10>: Failed to establish a new connection: [Errno 11001] getaddrinfo failed'))\n",
      "Failed to get ticker 'FITBO' reason: HTTPSConnectionPool(host='query2.finance.yahoo.com', port=443): Max retries exceeded with url: /v8/finance/chart/FITBO?range=1d&interval=1d (Caused by NewConnectionError('<urllib3.connection.HTTPSConnection object at 0x000001BCD9199850>: Failed to establish a new connection: [Errno 11001] getaddrinfo failed'))\n"
     ]
    },
    {
     "name": "stdout",
     "output_type": "stream",
     "text": [
      "[**********************99%%**********************]  7276 of 7361 completed"
     ]
    },
    {
     "name": "stderr",
     "output_type": "stream",
     "text": [
      "Failed to get ticker 'LUNA' reason: HTTPSConnectionPool(host='query2.finance.yahoo.com', port=443): Max retries exceeded with url: /v8/finance/chart/LUNA?range=1d&interval=1d (Caused by NewConnectionError('<urllib3.connection.HTTPSConnection object at 0x000001BCD91C7FD0>: Failed to establish a new connection: [Errno 11001] getaddrinfo failed'))\n"
     ]
    },
    {
     "name": "stdout",
     "output_type": "stream",
     "text": [
      "[**********************99%%**********************]  7277 of 7361 completed"
     ]
    },
    {
     "name": "stderr",
     "output_type": "stream",
     "text": [
      "Failed to get ticker 'TMC' reason: HTTPSConnectionPool(host='query2.finance.yahoo.com', port=443): Max retries exceeded with url: /v8/finance/chart/TMC?range=1d&interval=1d (Caused by NewConnectionError('<urllib3.connection.HTTPSConnection object at 0x000001BCD9182A50>: Failed to establish a new connection: [Errno 11001] getaddrinfo failed'))\n"
     ]
    },
    {
     "name": "stdout",
     "output_type": "stream",
     "text": [
      "[**********************99%%**********************]  7278 of 7361 completed"
     ]
    },
    {
     "name": "stderr",
     "output_type": "stream",
     "text": [
      "Failed to get ticker 'HUBB' reason: HTTPSConnectionPool(host='query2.finance.yahoo.com', port=443): Max retries exceeded with url: /v8/finance/chart/HUBB?range=1d&interval=1d (Caused by NewConnectionError('<urllib3.connection.HTTPSConnection object at 0x000001BCD91D4850>: Failed to establish a new connection: [Errno 11001] getaddrinfo failed'))\n"
     ]
    },
    {
     "name": "stdout",
     "output_type": "stream",
     "text": [
      "[**********************99%%**********************]  7279 of 7361 completed"
     ]
    },
    {
     "name": "stderr",
     "output_type": "stream",
     "text": [
      "Failed to get ticker 'BOH' reason: HTTPSConnectionPool(host='query2.finance.yahoo.com', port=443): Max retries exceeded with url: /v8/finance/chart/BOH?range=1d&interval=1d (Caused by NewConnectionError('<urllib3.connection.HTTPSConnection object at 0x000001BCD91989D0>: Failed to establish a new connection: [Errno 11001] getaddrinfo failed'))\n"
     ]
    },
    {
     "name": "stdout",
     "output_type": "stream",
     "text": [
      "[**********************99%%**********************]  7280 of 7361 completed"
     ]
    },
    {
     "name": "stderr",
     "output_type": "stream",
     "text": [
      "Failed to get ticker 'HAIN' reason: HTTPSConnectionPool(host='query2.finance.yahoo.com', port=443): Max retries exceeded with url: /v8/finance/chart/HAIN?range=1d&interval=1d (Caused by NewConnectionError('<urllib3.connection.HTTPSConnection object at 0x000001BCBB710D10>: Failed to establish a new connection: [Errno 11001] getaddrinfo failed'))\n",
      "Failed to get ticker 'EPAM' reason: HTTPSConnectionPool(host='query2.finance.yahoo.com', port=443): Max retries exceeded with url: /v8/finance/chart/EPAM?range=1d&interval=1d (Caused by NewConnectionError('<urllib3.connection.HTTPSConnection object at 0x000001BCBB760250>: Failed to establish a new connection: [Errno 11001] getaddrinfo failed'))\n"
     ]
    },
    {
     "name": "stdout",
     "output_type": "stream",
     "text": [
      "[**********************99%%**********************]  7281 of 7361 completed"
     ]
    },
    {
     "name": "stderr",
     "output_type": "stream",
     "text": [
      "Failed to get ticker 'TRMB' reason: HTTPSConnectionPool(host='query2.finance.yahoo.com', port=443): Max retries exceeded with url: /v8/finance/chart/TRMB?range=1d&interval=1d (Caused by NewConnectionError('<urllib3.connection.HTTPSConnection object at 0x000001BCD91ABBD0>: Failed to establish a new connection: [Errno 11001] getaddrinfo failed'))\n"
     ]
    },
    {
     "name": "stdout",
     "output_type": "stream",
     "text": [
      "[**********************99%%**********************]  7281 of 7361 completed"
     ]
    },
    {
     "name": "stderr",
     "output_type": "stream",
     "text": [
      "Failed to get ticker 'HFBL' reason: HTTPSConnectionPool(host='query2.finance.yahoo.com', port=443): Max retries exceeded with url: /v8/finance/chart/HFBL?range=1d&interval=1d (Caused by NewConnectionError('<urllib3.connection.HTTPSConnection object at 0x000001BCD91A9990>: Failed to establish a new connection: [Errno 11001] getaddrinfo failed'))\n"
     ]
    },
    {
     "name": "stdout",
     "output_type": "stream",
     "text": [
      "[**********************99%%**********************]  7284 of 7361 completed"
     ]
    },
    {
     "name": "stderr",
     "output_type": "stream",
     "text": [
      "Failed to get ticker 'RXRX' reason: HTTPSConnectionPool(host='query2.finance.yahoo.com', port=443): Max retries exceeded with url: /v8/finance/chart/RXRX?range=1d&interval=1d (Caused by NewConnectionError('<urllib3.connection.HTTPSConnection object at 0x000001BCD91BD190>: Failed to establish a new connection: [Errno 11001] getaddrinfo failed'))\n",
      "Failed to get ticker 'RQI' reason: HTTPSConnectionPool(host='query2.finance.yahoo.com', port=443): Max retries exceeded with url: /v8/finance/chart/RQI?range=1d&interval=1d (Caused by NewConnectionError('<urllib3.connection.HTTPSConnection object at 0x000001BCD919B0D0>: Failed to establish a new connection: [Errno 11001] getaddrinfo failed'))\n",
      "Failed to get ticker 'ADPT' reason: HTTPSConnectionPool(host='query2.finance.yahoo.com', port=443): Max retries exceeded with url: /v8/finance/chart/ADPT?range=1d&interval=1d (Caused by NewConnectionError('<urllib3.connection.HTTPSConnection object at 0x000001BCD7F51F90>: Failed to establish a new connection: [Errno 11001] getaddrinfo failed'))\n"
     ]
    },
    {
     "name": "stdout",
     "output_type": "stream",
     "text": [
      "[**********************99%%**********************]  7286 of 7361 completed"
     ]
    },
    {
     "name": "stderr",
     "output_type": "stream",
     "text": [
      "Failed to get ticker 'PVH' reason: HTTPSConnectionPool(host='query2.finance.yahoo.com', port=443): Max retries exceeded with url: /v8/finance/chart/PVH?range=1d&interval=1d (Caused by NewConnectionError('<urllib3.connection.HTTPSConnection object at 0x000001BCD91C4850>: Failed to establish a new connection: [Errno 11001] getaddrinfo failed'))\n"
     ]
    },
    {
     "name": "stdout",
     "output_type": "stream",
     "text": [
      "[**********************99%%**********************]  7287 of 7361 completed"
     ]
    },
    {
     "name": "stderr",
     "output_type": "stream",
     "text": [
      "Failed to get ticker 'MMC' reason: HTTPSConnectionPool(host='query2.finance.yahoo.com', port=443): Max retries exceeded with url: /v8/finance/chart/MMC?range=1d&interval=1d (Caused by NewConnectionError('<urllib3.connection.HTTPSConnection object at 0x000001BCD7FE6ED0>: Failed to establish a new connection: [Errno 11001] getaddrinfo failed'))\n"
     ]
    },
    {
     "name": "stdout",
     "output_type": "stream",
     "text": [
      "[**********************99%%**********************]  7289 of 7361 completed"
     ]
    },
    {
     "name": "stderr",
     "output_type": "stream",
     "text": [
      "Failed to get ticker 'WAVSU' reason: HTTPSConnectionPool(host='query2.finance.yahoo.com', port=443): Max retries exceeded with url: /v8/finance/chart/WAVSU?range=1d&interval=1d (Caused by NewConnectionError('<urllib3.connection.HTTPSConnection object at 0x000001BCD7FAB0D0>: Failed to establish a new connection: [Errno 11001] getaddrinfo failed'))\n"
     ]
    },
    {
     "name": "stdout",
     "output_type": "stream",
     "text": [
      "[**********************99%%**********************]  7290 of 7361 completed"
     ]
    },
    {
     "name": "stderr",
     "output_type": "stream",
     "text": [
      "Failed to get ticker 'ARCH' reason: HTTPSConnectionPool(host='query2.finance.yahoo.com', port=443): Max retries exceeded with url: /v8/finance/chart/ARCH?range=1d&interval=1d (Caused by NewConnectionError('<urllib3.connection.HTTPSConnection object at 0x000001BCD91985D0>: Failed to establish a new connection: [Errno 11001] getaddrinfo failed'))\n"
     ]
    },
    {
     "name": "stdout",
     "output_type": "stream",
     "text": [
      "[**********************99%%**********************]  7290 of 7361 completed"
     ]
    },
    {
     "name": "stderr",
     "output_type": "stream",
     "text": [
      "Failed to get ticker 'VRTV' reason: HTTPSConnectionPool(host='query2.finance.yahoo.com', port=443): Max retries exceeded with url: /v8/finance/chart/VRTV?range=1d&interval=1d (Caused by NewConnectionError('<urllib3.connection.HTTPSConnection object at 0x000001BCBB74D990>: Failed to establish a new connection: [Errno 11001] getaddrinfo failed'))\n"
     ]
    },
    {
     "name": "stdout",
     "output_type": "stream",
     "text": [
      "[**********************99%%**********************]  7292 of 7361 completed"
     ]
    },
    {
     "name": "stderr",
     "output_type": "stream",
     "text": [
      "Failed to get ticker 'BRKHW' reason: HTTPSConnectionPool(host='query2.finance.yahoo.com', port=443): Max retries exceeded with url: /v8/finance/chart/BRKHW?range=1d&interval=1d (Caused by NewConnectionError('<urllib3.connection.HTTPSConnection object at 0x000001BCD9181910>: Failed to establish a new connection: [Errno 11001] getaddrinfo failed'))\n",
      "Failed to get ticker 'BEATW' reason: HTTPSConnectionPool(host='query2.finance.yahoo.com', port=443): Max retries exceeded with url: /v8/finance/chart/BEATW?range=1d&interval=1d (Caused by NewConnectionError('<urllib3.connection.HTTPSConnection object at 0x000001BCBB761990>: Failed to establish a new connection: [Errno 11001] getaddrinfo failed'))\n"
     ]
    },
    {
     "name": "stdout",
     "output_type": "stream",
     "text": [
      "[**********************99%%**********************]  7293 of 7361 completed"
     ]
    },
    {
     "name": "stderr",
     "output_type": "stream",
     "text": [
      "Failed to get ticker 'ALC' reason: HTTPSConnectionPool(host='query2.finance.yahoo.com', port=443): Max retries exceeded with url: /v8/finance/chart/ALC?range=1d&interval=1d (Caused by NewConnectionError('<urllib3.connection.HTTPSConnection object at 0x000001BCBB762710>: Failed to establish a new connection: [Errno 11001] getaddrinfo failed'))\n"
     ]
    },
    {
     "name": "stdout",
     "output_type": "stream",
     "text": [
      "[**********************99%%**********************]  7293 of 7361 completed"
     ]
    },
    {
     "name": "stderr",
     "output_type": "stream",
     "text": [
      "Failed to get ticker 'FFIV' reason: HTTPSConnectionPool(host='query2.finance.yahoo.com', port=443): Max retries exceeded with url: /v8/finance/chart/FFIV?range=1d&interval=1d (Caused by NewConnectionError('<urllib3.connection.HTTPSConnection object at 0x000001BCBB761950>: Failed to establish a new connection: [Errno 11001] getaddrinfo failed'))\n"
     ]
    },
    {
     "name": "stdout",
     "output_type": "stream",
     "text": [
      "[**********************99%%**********************]  7295 of 7361 completed"
     ]
    },
    {
     "name": "stderr",
     "output_type": "stream",
     "text": [
      "Failed to get ticker 'CEM' reason: HTTPSConnectionPool(host='query2.finance.yahoo.com', port=443): Max retries exceeded with url: /v8/finance/chart/CEM?range=1d&interval=1d (Caused by NewConnectionError('<urllib3.connection.HTTPSConnection object at 0x000001BCBB74FDD0>: Failed to establish a new connection: [Errno 11001] getaddrinfo failed'))\n",
      "Failed to get ticker 'OCAXW' reason: HTTPSConnectionPool(host='query2.finance.yahoo.com', port=443): Max retries exceeded with url: /v8/finance/chart/OCAXW?range=1d&interval=1d (Caused by NewConnectionError('<urllib3.connection.HTTPSConnection object at 0x000001BCD91DC390>: Failed to establish a new connection: [Errno 11001] getaddrinfo failed'))\n"
     ]
    },
    {
     "name": "stdout",
     "output_type": "stream",
     "text": [
      "[**********************99%%**********************]  7297 of 7361 completed"
     ]
    },
    {
     "name": "stderr",
     "output_type": "stream",
     "text": [
      "Failed to get ticker 'HDSN' reason: HTTPSConnectionPool(host='query2.finance.yahoo.com', port=443): Max retries exceeded with url: /v8/finance/chart/HDSN?range=1d&interval=1d (Caused by NewConnectionError('<urllib3.connection.HTTPSConnection object at 0x000001BCD91BC850>: Failed to establish a new connection: [Errno 11001] getaddrinfo failed'))\n"
     ]
    },
    {
     "name": "stdout",
     "output_type": "stream",
     "text": [
      "[**********************99%%**********************]  7300 of 7361 completed"
     ]
    },
    {
     "name": "stderr",
     "output_type": "stream",
     "text": [
      "Failed to get ticker 'OCX' reason: HTTPSConnectionPool(host='query2.finance.yahoo.com', port=443): Max retries exceeded with url: /v8/finance/chart/OCX?range=1d&interval=1d (Caused by NewConnectionError('<urllib3.connection.HTTPSConnection object at 0x000001BCD91C7090>: Failed to establish a new connection: [Errno 11001] getaddrinfo failed'))\n"
     ]
    },
    {
     "name": "stdout",
     "output_type": "stream",
     "text": [
      "[**********************99%%**********************]  7301 of 7361 completed"
     ]
    },
    {
     "name": "stderr",
     "output_type": "stream",
     "text": [
      "Failed to get ticker 'AEMD' reason: HTTPSConnectionPool(host='query2.finance.yahoo.com', port=443): Max retries exceeded with url: /v8/finance/chart/AEMD?range=1d&interval=1d (Caused by NewConnectionError('<urllib3.connection.HTTPSConnection object at 0x000001BCD91987D0>: Failed to establish a new connection: [Errno 11001] getaddrinfo failed'))\n",
      "Failed to get ticker 'OZ' reason: HTTPSConnectionPool(host='query2.finance.yahoo.com', port=443): Max retries exceeded with url: /v8/finance/chart/OZ?range=1d&interval=1d (Caused by NewConnectionError('<urllib3.connection.HTTPSConnection object at 0x000001BCD91C5590>: Failed to establish a new connection: [Errno 11001] getaddrinfo failed'))\n"
     ]
    },
    {
     "name": "stdout",
     "output_type": "stream",
     "text": [
      "[**********************99%%**********************]  7302 of 7361 completed"
     ]
    },
    {
     "name": "stderr",
     "output_type": "stream",
     "text": [
      "Failed to get ticker 'ARAY' reason: HTTPSConnectionPool(host='query2.finance.yahoo.com', port=443): Max retries exceeded with url: /v8/finance/chart/ARAY?range=1d&interval=1d (Caused by NewConnectionError('<urllib3.connection.HTTPSConnection object at 0x000001BCBB74FBD0>: Failed to establish a new connection: [Errno 11001] getaddrinfo failed'))\n"
     ]
    },
    {
     "name": "stdout",
     "output_type": "stream",
     "text": [
      "[**********************99%%**********************]  7303 of 7361 completed"
     ]
    },
    {
     "name": "stderr",
     "output_type": "stream",
     "text": [
      "Failed to get ticker 'VRSN' reason: HTTPSConnectionPool(host='query2.finance.yahoo.com', port=443): Max retries exceeded with url: /v8/finance/chart/VRSN?range=1d&interval=1d (Caused by NewConnectionError('<urllib3.connection.HTTPSConnection object at 0x000001BCD9162350>: Failed to establish a new connection: [Errno 11001] getaddrinfo failed'))\n",
      "Failed to get ticker 'OPTT' reason: HTTPSConnectionPool(host='query2.finance.yahoo.com', port=443): Max retries exceeded with url: /v8/finance/chart/OPTT?range=1d&interval=1d (Caused by NewConnectionError('<urllib3.connection.HTTPSConnection object at 0x000001BCD91AB9D0>: Failed to establish a new connection: [Errno 11001] getaddrinfo failed'))\n"
     ]
    },
    {
     "name": "stdout",
     "output_type": "stream",
     "text": [
      "[**********************99%%**********************]  7306 of 7361 completed"
     ]
    },
    {
     "name": "stderr",
     "output_type": "stream",
     "text": [
      "Failed to get ticker 'WWAC' reason: HTTPSConnectionPool(host='query2.finance.yahoo.com', port=443): Max retries exceeded with url: /v8/finance/chart/WWAC?range=1d&interval=1d (Caused by NewConnectionError('<urllib3.connection.HTTPSConnection object at 0x000001BCD91C4550>: Failed to establish a new connection: [Errno 11001] getaddrinfo failed'))\n",
      "Failed to get ticker 'NRO' reason: HTTPSConnectionPool(host='query2.finance.yahoo.com', port=443): Max retries exceeded with url: /v8/finance/chart/NRO?range=1d&interval=1d (Caused by NewConnectionError('<urllib3.connection.HTTPSConnection object at 0x000001BCDA241050>: Failed to establish a new connection: [Errno 11001] getaddrinfo failed'))\n",
      "Failed to get ticker 'AKAN' reason: HTTPSConnectionPool(host='query2.finance.yahoo.com', port=443): Max retries exceeded with url: /v8/finance/chart/AKAN?range=1d&interval=1d (Caused by NewConnectionError('<urllib3.connection.HTTPSConnection object at 0x000001BCD91DC9D0>: Failed to establish a new connection: [Errno 11001] getaddrinfo failed'))\n"
     ]
    },
    {
     "name": "stdout",
     "output_type": "stream",
     "text": [
      "[**********************99%%**********************]  7307 of 7361 completed"
     ]
    },
    {
     "name": "stderr",
     "output_type": "stream",
     "text": [
      "Failed to get ticker 'AMX' reason: HTTPSConnectionPool(host='query2.finance.yahoo.com', port=443): Max retries exceeded with url: /v8/finance/chart/AMX?range=1d&interval=1d (Caused by NewConnectionError('<urllib3.connection.HTTPSConnection object at 0x000001BCD91DE710>: Failed to establish a new connection: [Errno 11001] getaddrinfo failed'))\n"
     ]
    },
    {
     "name": "stdout",
     "output_type": "stream",
     "text": [
      "[**********************99%%**********************]  7308 of 7361 completed"
     ]
    },
    {
     "name": "stderr",
     "output_type": "stream",
     "text": [
      "Failed to get ticker 'USEG' reason: HTTPSConnectionPool(host='query2.finance.yahoo.com', port=443): Max retries exceeded with url: /v8/finance/chart/USEG?range=1d&interval=1d (Caused by NewConnectionError('<urllib3.connection.HTTPSConnection object at 0x000001BCD91A94D0>: Failed to establish a new connection: [Errno 11001] getaddrinfo failed'))\n"
     ]
    },
    {
     "name": "stdout",
     "output_type": "stream",
     "text": [
      "[**********************99%%**********************]  7309 of 7361 completed"
     ]
    },
    {
     "name": "stderr",
     "output_type": "stream",
     "text": [
      "Failed to get ticker 'MSGS' reason: HTTPSConnectionPool(host='query2.finance.yahoo.com', port=443): Max retries exceeded with url: /v8/finance/chart/MSGS?range=1d&interval=1d (Caused by NewConnectionError('<urllib3.connection.HTTPSConnection object at 0x000001BCDA240350>: Failed to establish a new connection: [Errno 11001] getaddrinfo failed'))\n",
      "Failed to get ticker 'CHKEZ' reason: HTTPSConnectionPool(host='query2.finance.yahoo.com', port=443): Max retries exceeded with url: /v8/finance/chart/CHKEZ?range=1d&interval=1d (Caused by NewConnectionError('<urllib3.connection.HTTPSConnection object at 0x000001BCD7FCBC90>: Failed to establish a new connection: [Errno 11001] getaddrinfo failed'))\n"
     ]
    },
    {
     "name": "stdout",
     "output_type": "stream",
     "text": [
      "[**********************99%%**********************]  7312 of 7361 completed"
     ]
    },
    {
     "name": "stderr",
     "output_type": "stream",
     "text": [
      "Failed to get ticker 'AGAE' reason: HTTPSConnectionPool(host='query2.finance.yahoo.com', port=443): Max retries exceeded with url: /v8/finance/chart/AGAE?range=1d&interval=1d (Caused by NewConnectionError('<urllib3.connection.HTTPSConnection object at 0x000001BCD7F49090>: Failed to establish a new connection: [Errno 11001] getaddrinfo failed'))\n"
     ]
    },
    {
     "name": "stdout",
     "output_type": "stream",
     "text": [
      "[**********************99%%**********************]  7313 of 7361 completed"
     ]
    },
    {
     "name": "stderr",
     "output_type": "stream",
     "text": [
      "Failed to get ticker 'OXLCP' reason: HTTPSConnectionPool(host='query2.finance.yahoo.com', port=443): Max retries exceeded with url: /v8/finance/chart/OXLCP?range=1d&interval=1d (Caused by NewConnectionError('<urllib3.connection.HTTPSConnection object at 0x000001BCDA25E1D0>: Failed to establish a new connection: [Errno 11001] getaddrinfo failed'))\n"
     ]
    },
    {
     "name": "stdout",
     "output_type": "stream",
     "text": [
      "[**********************99%%**********************]  7314 of 7361 completed"
     ]
    },
    {
     "name": "stderr",
     "output_type": "stream",
     "text": [
      "Failed to get ticker 'CURIW' reason: HTTPSConnectionPool(host='query2.finance.yahoo.com', port=443): Max retries exceeded with url: /v8/finance/chart/CURIW?range=1d&interval=1d (Caused by NewConnectionError('<urllib3.connection.HTTPSConnection object at 0x000001BCD91DDB10>: Failed to establish a new connection: [Errno 11001] getaddrinfo failed'))\n",
      "Failed to get ticker 'BRFH' reason: HTTPSConnectionPool(host='query2.finance.yahoo.com', port=443): Max retries exceeded with url: /v8/finance/chart/BRFH?range=1d&interval=1d (Caused by NewConnectionError('<urllib3.connection.HTTPSConnection object at 0x000001BCD7FEBBD0>: Failed to establish a new connection: [Errno 11001] getaddrinfo failed'))\n"
     ]
    },
    {
     "name": "stdout",
     "output_type": "stream",
     "text": [
      "[**********************99%%**********************]  7315 of 7361 completed"
     ]
    },
    {
     "name": "stderr",
     "output_type": "stream",
     "text": [
      "Failed to get ticker 'ABEV' reason: HTTPSConnectionPool(host='query2.finance.yahoo.com', port=443): Max retries exceeded with url: /v8/finance/chart/ABEV?range=1d&interval=1d (Caused by NewConnectionError('<urllib3.connection.HTTPSConnection object at 0x000001BCBB726790>: Failed to establish a new connection: [Errno 11001] getaddrinfo failed'))\n",
      "Failed to get ticker 'INPX' reason: HTTPSConnectionPool(host='query2.finance.yahoo.com', port=443): Max retries exceeded with url: /v8/finance/chart/INPX?range=1d&interval=1d (Caused by NewConnectionError('<urllib3.connection.HTTPSConnection object at 0x000001BCD91607D0>: Failed to establish a new connection: [Errno 11001] getaddrinfo failed'))\n"
     ]
    },
    {
     "name": "stdout",
     "output_type": "stream",
     "text": [
      "[**********************99%%**********************]  7317 of 7361 completed"
     ]
    },
    {
     "name": "stderr",
     "output_type": "stream",
     "text": [
      "Failed to get ticker 'GNLN' reason: HTTPSConnectionPool(host='query2.finance.yahoo.com', port=443): Max retries exceeded with url: /v8/finance/chart/GNLN?range=1d&interval=1d (Caused by NewConnectionError('<urllib3.connection.HTTPSConnection object at 0x000001BCD9198C10>: Failed to establish a new connection: [Errno 11001] getaddrinfo failed'))\n"
     ]
    },
    {
     "name": "stdout",
     "output_type": "stream",
     "text": [
      "[**********************99%%**********************]  7318 of 7361 completed"
     ]
    },
    {
     "name": "stderr",
     "output_type": "stream",
     "text": [
      "Failed to get ticker 'GNW' reason: HTTPSConnectionPool(host='query2.finance.yahoo.com', port=443): Max retries exceeded with url: /v8/finance/chart/GNW?range=1d&interval=1d (Caused by NewConnectionError('<urllib3.connection.HTTPSConnection object at 0x000001BCBB6CBD50>: Failed to establish a new connection: [Errno 11001] getaddrinfo failed'))\n"
     ]
    },
    {
     "name": "stdout",
     "output_type": "stream",
     "text": [
      "[**********************99%%**********************]  7320 of 7361 completed"
     ]
    },
    {
     "name": "stderr",
     "output_type": "stream",
     "text": [
      "Failed to get ticker 'MHF' reason: HTTPSConnectionPool(host='query2.finance.yahoo.com', port=443): Max retries exceeded with url: /v8/finance/chart/MHF?range=1d&interval=1d (Caused by NewConnectionError('<urllib3.connection.HTTPSConnection object at 0x000001BCD91C6090>: Failed to establish a new connection: [Errno 11001] getaddrinfo failed'))\n",
      "Failed to get ticker 'ODD' reason: HTTPSConnectionPool(host='query2.finance.yahoo.com', port=443): Max retries exceeded with url: /v8/finance/chart/ODD?range=1d&interval=1d (Caused by NewConnectionError('<urllib3.connection.HTTPSConnection object at 0x000001BCD91C4D90>: Failed to establish a new connection: [Errno 11001] getaddrinfo failed'))\n"
     ]
    },
    {
     "name": "stdout",
     "output_type": "stream",
     "text": [
      "[**********************99%%**********************]  7321 of 7361 completed"
     ]
    },
    {
     "name": "stderr",
     "output_type": "stream",
     "text": [
      "Failed to get ticker 'WOLF' reason: HTTPSConnectionPool(host='query2.finance.yahoo.com', port=443): Max retries exceeded with url: /v8/finance/chart/WOLF?range=1d&interval=1d (Caused by NewConnectionError('<urllib3.connection.HTTPSConnection object at 0x000001BCBB7603D0>: Failed to establish a new connection: [Errno 11001] getaddrinfo failed'))\n"
     ]
    },
    {
     "name": "stdout",
     "output_type": "stream",
     "text": [
      "[**********************99%%**********************]  7324 of 7361 completed"
     ]
    },
    {
     "name": "stderr",
     "output_type": "stream",
     "text": [
      "Failed to get ticker 'PRSTW' reason: HTTPSConnectionPool(host='query2.finance.yahoo.com', port=443): Max retries exceeded with url: /v8/finance/chart/PRSTW?range=1d&interval=1d (Caused by NewConnectionError('<urllib3.connection.HTTPSConnection object at 0x000001BCDA26A110>: Failed to establish a new connection: [Errno 11001] getaddrinfo failed'))\n",
      "Failed to get ticker 'AQB' reason: HTTPSConnectionPool(host='query2.finance.yahoo.com', port=443): Max retries exceeded with url: /v8/finance/chart/AQB?range=1d&interval=1d (Caused by NewConnectionError('<urllib3.connection.HTTPSConnection object at 0x000001BCD91DDDD0>: Failed to establish a new connection: [Errno 11001] getaddrinfo failed'))\n",
      "Failed to get ticker 'ZLSWU' reason: HTTPSConnectionPool(host='query2.finance.yahoo.com', port=443): Max retries exceeded with url: /v8/finance/chart/ZLSWU?range=1d&interval=1d (Caused by NewConnectionError('<urllib3.connection.HTTPSConnection object at 0x000001BCDA26A110>: Failed to establish a new connection: [Errno 11001] getaddrinfo failed'))\n",
      "Failed to get ticker 'GOEVW' reason: HTTPSConnectionPool(host='query2.finance.yahoo.com', port=443): Max retries exceeded with url: /v8/finance/chart/GOEVW?range=1d&interval=1d (Caused by NewConnectionError('<urllib3.connection.HTTPSConnection object at 0x000001BCD9128210>: Failed to establish a new connection: [Errno 11001] getaddrinfo failed'))\n"
     ]
    },
    {
     "name": "stdout",
     "output_type": "stream",
     "text": [
      "[*********************100%%**********************]  7325 of 7361 completed"
     ]
    },
    {
     "name": "stderr",
     "output_type": "stream",
     "text": [
      "Failed to get ticker 'IGTAW' reason: HTTPSConnectionPool(host='query2.finance.yahoo.com', port=443): Max retries exceeded with url: /v8/finance/chart/IGTAW?range=1d&interval=1d (Caused by NewConnectionError('<urllib3.connection.HTTPSConnection object at 0x000001BCD9199BD0>: Failed to establish a new connection: [Errno 11001] getaddrinfo failed'))\n",
      "Failed to get ticker 'BGI' reason: HTTPSConnectionPool(host='query2.finance.yahoo.com', port=443): Max retries exceeded with url: /v8/finance/chart/BGI?range=1d&interval=1d (Caused by NewConnectionError('<urllib3.connection.HTTPSConnection object at 0x000001BCD9124410>: Failed to establish a new connection: [Errno 11001] getaddrinfo failed'))\n"
     ]
    },
    {
     "name": "stdout",
     "output_type": "stream",
     "text": [
      "[*********************100%%**********************]  7328 of 7361 completed"
     ]
    },
    {
     "name": "stderr",
     "output_type": "stream",
     "text": [
      "Failed to get ticker 'ATRO' reason: HTTPSConnectionPool(host='query2.finance.yahoo.com', port=443): Max retries exceeded with url: /v8/finance/chart/ATRO?range=1d&interval=1d (Caused by NewConnectionError('<urllib3.connection.HTTPSConnection object at 0x000001BCD9198E50>: Failed to establish a new connection: [Errno 11001] getaddrinfo failed'))\n"
     ]
    },
    {
     "name": "stdout",
     "output_type": "stream",
     "text": [
      "[*********************100%%**********************]  7329 of 7361 completed"
     ]
    },
    {
     "name": "stderr",
     "output_type": "stream",
     "text": [
      "Failed to get ticker 'ELTK' reason: HTTPSConnectionPool(host='query2.finance.yahoo.com', port=443): Max retries exceeded with url: /v8/finance/chart/ELTK?range=1d&interval=1d (Caused by NewConnectionError('<urllib3.connection.HTTPSConnection object at 0x000001BCD911E4D0>: Failed to establish a new connection: [Errno 11001] getaddrinfo failed'))\n",
      "Failed to get ticker 'BCYC' reason: HTTPSConnectionPool(host='query2.finance.yahoo.com', port=443): Max retries exceeded with url: /v8/finance/chart/BCYC?range=1d&interval=1d (Caused by NewConnectionError('<urllib3.connection.HTTPSConnection object at 0x000001BCD7FE4450>: Failed to establish a new connection: [Errno 11001] getaddrinfo failed'))\n"
     ]
    },
    {
     "name": "stdout",
     "output_type": "stream",
     "text": [
      "[*********************100%%**********************]  7330 of 7361 completed"
     ]
    },
    {
     "name": "stderr",
     "output_type": "stream",
     "text": [
      "Failed to get ticker 'CSTA' reason: HTTPSConnectionPool(host='query2.finance.yahoo.com', port=443): Max retries exceeded with url: /v8/finance/chart/CSTA?range=1d&interval=1d (Caused by NewConnectionError('<urllib3.connection.HTTPSConnection object at 0x000001BCD7F825D0>: Failed to establish a new connection: [Errno 11001] getaddrinfo failed'))\n",
      "Failed to get ticker 'AEY' reason: HTTPSConnectionPool(host='query2.finance.yahoo.com', port=443): Max retries exceeded with url: /v8/finance/chart/AEY?range=1d&interval=1d (Caused by NewConnectionError('<urllib3.connection.HTTPSConnection object at 0x000001BCDA240650>: Failed to establish a new connection: [Errno 11001] getaddrinfo failed'))\n"
     ]
    },
    {
     "name": "stdout",
     "output_type": "stream",
     "text": [
      "[*********************100%%**********************]  7333 of 7361 completed"
     ]
    },
    {
     "name": "stderr",
     "output_type": "stream",
     "text": [
      "Failed to get ticker 'RELIW' reason: HTTPSConnectionPool(host='query2.finance.yahoo.com', port=443): Max retries exceeded with url: /v8/finance/chart/RELIW?range=1d&interval=1d (Caused by NewConnectionError('<urllib3.connection.HTTPSConnection object at 0x000001BCD9199110>: Failed to establish a new connection: [Errno 11001] getaddrinfo failed'))\n"
     ]
    },
    {
     "name": "stdout",
     "output_type": "stream",
     "text": [
      "[*********************100%%**********************]  7334 of 7361 completed"
     ]
    },
    {
     "name": "stderr",
     "output_type": "stream",
     "text": [
      "Failed to get ticker 'MITAW' reason: HTTPSConnectionPool(host='query2.finance.yahoo.com', port=443): Max retries exceeded with url: /v8/finance/chart/MITAW?range=1d&interval=1d (Caused by NewConnectionError('<urllib3.connection.HTTPSConnection object at 0x000001BCD9129450>: Failed to establish a new connection: [Errno 11001] getaddrinfo failed'))\n"
     ]
    },
    {
     "name": "stdout",
     "output_type": "stream",
     "text": [
      "[*********************100%%**********************]  7335 of 7361 completed"
     ]
    },
    {
     "name": "stderr",
     "output_type": "stream",
     "text": [
      "Failed to get ticker 'NVGS' reason: HTTPSConnectionPool(host='query2.finance.yahoo.com', port=443): Max retries exceeded with url: /v8/finance/chart/NVGS?range=1d&interval=1d (Caused by NewConnectionError('<urllib3.connection.HTTPSConnection object at 0x000001BCD9161210>: Failed to establish a new connection: [Errno 11001] getaddrinfo failed'))\n"
     ]
    },
    {
     "name": "stdout",
     "output_type": "stream",
     "text": [
      "[*********************100%%**********************]  7336 of 7361 completed"
     ]
    },
    {
     "name": "stderr",
     "output_type": "stream",
     "text": [
      "Failed to get ticker 'FIBK' reason: HTTPSConnectionPool(host='query2.finance.yahoo.com', port=443): Max retries exceeded with url: /v8/finance/chart/FIBK?range=1d&interval=1d (Caused by NewConnectionError('<urllib3.connection.HTTPSConnection object at 0x000001BCBB761E50>: Failed to establish a new connection: [Errno 11001] getaddrinfo failed'))\n",
      "Failed to get ticker 'EDN' reason: HTTPSConnectionPool(host='query2.finance.yahoo.com', port=443): Max retries exceeded with url: /v8/finance/chart/EDN?range=1d&interval=1d (Caused by NewConnectionError('<urllib3.connection.HTTPSConnection object at 0x000001BCD91DED50>: Failed to establish a new connection: [Errno 11001] getaddrinfo failed'))\n"
     ]
    },
    {
     "name": "stdout",
     "output_type": "stream",
     "text": [
      "[*********************100%%**********************]  7339 of 7361 completed"
     ]
    },
    {
     "name": "stderr",
     "output_type": "stream",
     "text": [
      "Failed to get ticker 'FRGI' reason: HTTPSConnectionPool(host='query2.finance.yahoo.com', port=443): Max retries exceeded with url: /v8/finance/chart/FRGI?range=1d&interval=1d (Caused by NewConnectionError('<urllib3.connection.HTTPSConnection object at 0x000001BCDA25E390>: Failed to establish a new connection: [Errno 11001] getaddrinfo failed'))\n",
      "Failed to get ticker 'EEFT' reason: HTTPSConnectionPool(host='query2.finance.yahoo.com', port=443): Max retries exceeded with url: /v8/finance/chart/EEFT?range=1d&interval=1d (Caused by NewConnectionError('<urllib3.connection.HTTPSConnection object at 0x000001BCD7FAA590>: Failed to establish a new connection: [Errno 11001] getaddrinfo failed'))\n",
      "Failed to get ticker 'KDP' reason: HTTPSConnectionPool(host='query2.finance.yahoo.com', port=443): Max retries exceeded with url: /v8/finance/chart/KDP?range=1d&interval=1d (Caused by NewConnectionError('<urllib3.connection.HTTPSConnection object at 0x000001BCD91DEA10>: Failed to establish a new connection: [Errno 11001] getaddrinfo failed'))\n"
     ]
    },
    {
     "name": "stdout",
     "output_type": "stream",
     "text": [
      "[*********************100%%**********************]  7341 of 7361 completed"
     ]
    },
    {
     "name": "stderr",
     "output_type": "stream",
     "text": [
      "Failed to get ticker 'AGIO' reason: HTTPSConnectionPool(host='query2.finance.yahoo.com', port=443): Max retries exceeded with url: /v8/finance/chart/AGIO?range=1d&interval=1d (Caused by NewConnectionError('<urllib3.connection.HTTPSConnection object at 0x000001BCDA25DF90>: Failed to establish a new connection: [Errno 11001] getaddrinfo failed'))\n",
      "Failed to get ticker 'VGASW' reason: HTTPSConnectionPool(host='query2.finance.yahoo.com', port=443): Max retries exceeded with url: /v8/finance/chart/VGASW?range=1d&interval=1d (Caused by NewConnectionError('<urllib3.connection.HTTPSConnection object at 0x000001BCD911F4D0>: Failed to establish a new connection: [Errno 11001] getaddrinfo failed'))\n"
     ]
    },
    {
     "name": "stdout",
     "output_type": "stream",
     "text": [
      "[*********************100%%**********************]  7343 of 7361 completed"
     ]
    },
    {
     "name": "stderr",
     "output_type": "stream",
     "text": [
      "Failed to get ticker 'SKGRU' reason: HTTPSConnectionPool(host='query2.finance.yahoo.com', port=443): Max retries exceeded with url: /v8/finance/chart/SKGRU?range=1d&interval=1d (Caused by NewConnectionError('<urllib3.connection.HTTPSConnection object at 0x000001BCBB6DA350>: Failed to establish a new connection: [Errno 11001] getaddrinfo failed'))\n",
      "Failed to get ticker 'ALSA' reason: HTTPSConnectionPool(host='query2.finance.yahoo.com', port=443): Max retries exceeded with url: /v8/finance/chart/ALSA?range=1d&interval=1d (Caused by NewConnectionError('<urllib3.connection.HTTPSConnection object at 0x000001BCD9199650>: Failed to establish a new connection: [Errno 11001] getaddrinfo failed'))\n"
     ]
    },
    {
     "name": "stdout",
     "output_type": "stream",
     "text": [
      "[*********************100%%**********************]  7345 of 7361 completed"
     ]
    },
    {
     "name": "stderr",
     "output_type": "stream",
     "text": [
      "Failed to get ticker 'NCNC' reason: HTTPSConnectionPool(host='query2.finance.yahoo.com', port=443): Max retries exceeded with url: /v8/finance/chart/NCNC?range=1d&interval=1d (Caused by NewConnectionError('<urllib3.connection.HTTPSConnection object at 0x000001BCBB763410>: Failed to establish a new connection: [Errno 11001] getaddrinfo failed'))\n"
     ]
    },
    {
     "name": "stdout",
     "output_type": "stream",
     "text": [
      "[*********************100%%**********************]  7346 of 7361 completed"
     ]
    },
    {
     "name": "stderr",
     "output_type": "stream",
     "text": [
      "Failed to get ticker 'ESTA' reason: HTTPSConnectionPool(host='query2.finance.yahoo.com', port=443): Max retries exceeded with url: /v8/finance/chart/ESTA?range=1d&interval=1d (Caused by NewConnectionError('<urllib3.connection.HTTPSConnection object at 0x000001BCD7FE76D0>: Failed to establish a new connection: [Errno 11001] getaddrinfo failed'))\n"
     ]
    },
    {
     "name": "stdout",
     "output_type": "stream",
     "text": [
      "[*********************100%%**********************]  7348 of 7361 completed"
     ]
    },
    {
     "name": "stderr",
     "output_type": "stream",
     "text": [
      "Failed to get ticker 'BMBL' reason: HTTPSConnectionPool(host='query2.finance.yahoo.com', port=443): Max retries exceeded with url: /v8/finance/chart/BMBL?range=1d&interval=1d (Caused by NewConnectionError('<urllib3.connection.HTTPSConnection object at 0x000001BCD91DCFD0>: Failed to establish a new connection: [Errno 11001] getaddrinfo failed'))\n"
     ]
    },
    {
     "name": "stdout",
     "output_type": "stream",
     "text": [
      "[*********************100%%**********************]  7349 of 7361 completed"
     ]
    },
    {
     "name": "stderr",
     "output_type": "stream",
     "text": [
      "Failed to get ticker 'SCHW' reason: HTTPSConnectionPool(host='query2.finance.yahoo.com', port=443): Max retries exceeded with url: /v8/finance/chart/SCHW?range=1d&interval=1d (Caused by NewConnectionError('<urllib3.connection.HTTPSConnection object at 0x000001BCD9180150>: Failed to establish a new connection: [Errno 11001] getaddrinfo failed'))\n"
     ]
    },
    {
     "name": "stdout",
     "output_type": "stream",
     "text": [
      "[*********************100%%**********************]  7350 of 7361 completed"
     ]
    },
    {
     "name": "stderr",
     "output_type": "stream",
     "text": [
      "Failed to get ticker 'CYCC' reason: HTTPSConnectionPool(host='query2.finance.yahoo.com', port=443): Max retries exceeded with url: /v8/finance/chart/CYCC?range=1d&interval=1d (Caused by NewConnectionError('<urllib3.connection.HTTPSConnection object at 0x000001BCBB73BF90>: Failed to establish a new connection: [Errno 11001] getaddrinfo failed'))\n"
     ]
    },
    {
     "name": "stdout",
     "output_type": "stream",
     "text": [
      "[*********************100%%**********************]  7351 of 7361 completed"
     ]
    },
    {
     "name": "stderr",
     "output_type": "stream",
     "text": [
      "Failed to get ticker 'INFY' reason: HTTPSConnectionPool(host='query2.finance.yahoo.com', port=443): Max retries exceeded with url: /v8/finance/chart/INFY?range=1d&interval=1d (Caused by NewConnectionError('<urllib3.connection.HTTPSConnection object at 0x000001BCDA25F310>: Failed to establish a new connection: [Errno 11001] getaddrinfo failed'))\n"
     ]
    },
    {
     "name": "stdout",
     "output_type": "stream",
     "text": [
      "[*********************100%%**********************]  7352 of 7361 completed"
     ]
    },
    {
     "name": "stderr",
     "output_type": "stream",
     "text": [
      "Failed to get ticker 'EW' reason: HTTPSConnectionPool(host='query2.finance.yahoo.com', port=443): Max retries exceeded with url: /v8/finance/chart/EW?range=1d&interval=1d (Caused by NewConnectionError('<urllib3.connection.HTTPSConnection object at 0x000001BCD9197F10>: Failed to establish a new connection: [Errno 11001] getaddrinfo failed'))\n"
     ]
    },
    {
     "name": "stdout",
     "output_type": "stream",
     "text": [
      "[*********************100%%**********************]  7353 of 7361 completed"
     ]
    },
    {
     "name": "stderr",
     "output_type": "stream",
     "text": [
      "Failed to get ticker 'GIII' reason: HTTPSConnectionPool(host='query2.finance.yahoo.com', port=443): Max retries exceeded with url: /v8/finance/chart/GIII?range=1d&interval=1d (Caused by NewConnectionError('<urllib3.connection.HTTPSConnection object at 0x000001BCD91A8150>: Failed to establish a new connection: [Errno 11001] getaddrinfo failed'))\n",
      "Failed to get ticker 'VCYT' reason: HTTPSConnectionPool(host='query2.finance.yahoo.com', port=443): Max retries exceeded with url: /v8/finance/chart/VCYT?range=1d&interval=1d (Caused by NewConnectionError('<urllib3.connection.HTTPSConnection object at 0x000001BCD91DF6D0>: Failed to establish a new connection: [Errno 11001] getaddrinfo failed'))\n"
     ]
    },
    {
     "name": "stdout",
     "output_type": "stream",
     "text": [
      "[*********************100%%**********************]  7355 of 7361 completed"
     ]
    },
    {
     "name": "stderr",
     "output_type": "stream",
     "text": [
      "Failed to get ticker 'HSTM' reason: HTTPSConnectionPool(host='query2.finance.yahoo.com', port=443): Max retries exceeded with url: /v8/finance/chart/HSTM?range=1d&interval=1d (Caused by NewConnectionError('<urllib3.connection.HTTPSConnection object at 0x000001BCD9182B50>: Failed to establish a new connection: [Errno 11001] getaddrinfo failed'))\n",
      "Failed to get ticker 'PAX' reason: HTTPSConnectionPool(host='query2.finance.yahoo.com', port=443): Max retries exceeded with url: /v8/finance/chart/PAX?range=1d&interval=1d (Caused by NewConnectionError('<urllib3.connection.HTTPSConnection object at 0x000001BCDA268910>: Failed to establish a new connection: [Errno 11001] getaddrinfo failed'))\n"
     ]
    },
    {
     "name": "stdout",
     "output_type": "stream",
     "text": [
      "[*********************100%%**********************]  7357 of 7361 completed"
     ]
    },
    {
     "name": "stderr",
     "output_type": "stream",
     "text": [
      "Failed to get ticker 'BBGI' reason: HTTPSConnectionPool(host='query2.finance.yahoo.com', port=443): Max retries exceeded with url: /v8/finance/chart/BBGI?range=1d&interval=1d (Caused by NewConnectionError('<urllib3.connection.HTTPSConnection object at 0x000001BCD91BFB50>: Failed to establish a new connection: [Errno 11001] getaddrinfo failed'))\n"
     ]
    },
    {
     "name": "stdout",
     "output_type": "stream",
     "text": [
      "[*********************100%%**********************]  7361 of 7361 completed"
     ]
    },
    {
     "name": "stderr",
     "output_type": "stream",
     "text": [
      "\n",
      "910 Failed downloads:\n",
      "['FEXDR', 'BUJAR', 'SAGAR', 'BLACR', 'ATMCR', 'MCACR', 'RWODR', 'TMTCR', 'CETUR', 'LBBBR', 'NOVVR', 'MSSAR', 'MBTCR', 'BOWNR', 'SVIIR', 'EMCGR', 'NVACR', 'GLSTR', 'WINVR', 'IGTAR', 'ASCAR', 'ATMVR', 'SFB', 'YOTAR', 'GECCZ', 'DISTR', 'IMAQR', 'HHGCR', 'EFHTR', 'JGGCR', 'PPHPR', 'GBBKR', 'ONFOW', 'CSLMR', 'CNFRZ', 'ASCBR', 'ARIZR', 'HSPOR', 'GODNR', 'CLRCR', 'BRLIR', 'RFACR', 'ACAXR', 'BREZR', 'MCAGR', 'ATAKR']: Exception(\"%ticker%: Period '1y' is invalid, must be one of ['1d', '5d']\")\n",
      "['EAI', 'EMP', 'BJRI', 'MIMO', 'PACW', 'HHLA', 'UPC', 'ISRLU', 'ELUT', 'XTNT', 'BNTC', 'THM', 'URGN', 'HST', 'BCSA', 'AREC', 'CVE', 'TIL', 'WVVIP', 'BPMC', 'ALVO', 'CXT', 'MBINM', 'BANF', 'GDC', 'JEQ', 'DRRX', 'ALSAR', 'ESCA', 'HQY', 'PEGA', 'FDX', 'OPRX', 'ARTEU', 'EIGR', 'BTM', 'ACBA', 'ESGLW', 'GBR', 'SONM', 'WAL', 'TNK', 'LHC', 'KPTI', 'MAR', 'SMAPW', 'LGST', 'SBLK', 'PML', 'GOVXW', 'RZC', 'ACB', 'WB', 'AG', 'BRLIU', 'TOL', 'BBW', 'RNAZ', 'NCNA', 'SOS', 'SIG', 'LFST', 'MDBH', 'OC', 'INSI', 'JOAN', 'AXGN', 'HSPOU', 'ESACU', 'SMP', 'KRP', 'SVRE', 'WSM', 'NBSTU', 'ENERR', 'KRMD', 'SEEL', 'MLNK', 'SANM', 'CHSCL', 'NWPX', 'PFL', 'LEN', 'GTES', 'GTHX', 'INFN', 'STRRP', 'EVTV', 'MTRYU', 'NTB', 'UMH', 'AUR', 'AFGE', 'GRRRW', 'TMPO', 'FOF', 'GMBL', 'PMCB', 'HCXY', 'YOTA', 'DCFCW', 'CBH', 'TBLD', 'FLNG', 'ZWS', 'NKTX', 'TENKR', 'SPOK', 'EBIX', 'APGB', 'USA', 'PARA', 'TATT', 'FSLR', 'NC', 'AC', 'CSWC', 'PEGRU', 'STOK', 'OCC', 'CORR', 'IINN', 'SOVO', 'IRT', 'NTRS', 'OCUL', 'SNSE', 'SOHO', 'SRV', 'SNV', 'MCAG', 'QLYS', 'ABLVW', 'GDTC', 'ICUCW', 'NVEE', 'CSQ', 'RERE', 'SVM', 'FEIM', 'GRND', 'SUPV', 'CMPX', 'FGH', 'KNDI', 'FICO', 'LVOX', 'CTXR', 'BLDEW', 'ROG', 'KOS', 'ENX', 'PNBK', 'UCIB', 'AIRT', 'ABM', 'MDC', 'LCID', 'CTG', 'MAA', 'CASI', 'MYGN', 'AENZ', 'IMAX', 'CSTL', 'GCTK', 'PYPD', 'NXTP', 'BMAC', 'ACHR', 'CREG', 'IPDN', 'RETA', 'JNVR', 'TDS', 'CEADW', 'TPG', 'GKOS', 'PSTG', 'DGX', 'EHAB', 'CERE', 'ANGH', 'WLDS', 'DAKT', 'PEPLW', 'BJ', 'FUV', 'INDB', 'PJT', 'GDHG', 'ARL', 'AVNT', 'VLD', 'CRSR', 'GDS', 'PIIIW', 'BYFC', 'QLGN', 'CRGY', 'WMC', 'EVE', 'PLRX', 'RFACU', 'SINT', 'NYMTZ', 'GFAI', 'GDSTR', 'MYTE', 'SUM', 'CDAQU', 'CNHI', 'BLEUU', 'RYAM', 'HTLD', 'AHG', 'FLFV', 'LAZR', 'WEA', 'CGNX', 'ESHAR', 'NWG', 'MTEX', 'SLCA', 'ESEA', 'INLX', 'CYTH', 'MPWR', 'URBN', 'ANGO', 'R', 'EQNR', 'ITCI', 'GSDWU', 'EQX', 'SE', 'ATAKU', 'ONVO', 'THS', 'ZD', 'EVGRU', 'ACN', 'CAN', 'MUR', 'NTZ', 'CCBG', 'DMYY', 'ZLS', 'BAC', 'ASTE', 'QOMOW', 'DNB', 'TYGO', 'PTPI', 'CROX', 'FLNC', 'TIRX', 'RFL', 'BMTX', 'MBNKP', 'RMBI', 'PRPO', 'ROVR', 'MFIN', 'BBY', 'PASG', 'FDBC', 'PLMIW', 'SEPAW', 'GBBK', 'HSON', 'LAZ', 'MLCO', 'SGH', 'GPACU', 'JOBY', 'DMAC', 'CTSH', 'SIEN', 'NKSH', 'ACBAU', 'CRVS', 'SP', 'LKQ', 'GDL', 'NTRSO', 'CZNC', 'PAM', 'BYNOU', 'GBCI', 'HCDIZ', 'XPEL', 'TVE', 'AYTU', 'CZR', 'PSTX', 'ANAB', 'TRP', 'CRESW', 'AIO', 'OMI', 'AIP', 'HHRS', 'NLSPW', 'BDSX', 'ATLX', 'PLPC', 'STM', 'UFPI', 'CAAP', 'BWMN', 'USOI', 'CIX', 'WDC', 'ADMA', 'HL', 'PPYA', 'TTP', 'KELYB', 'QOMOR', 'TPX', 'AROC', 'CVLY', 'CHCI', 'ASCBW', 'BXRX', 'CSSEL', 'MOB', 'OXSQG', 'BE', 'WELL', 'EXPE', 'PXDT', 'SB', 'NPABW', 'LEG', 'STAA', 'WBA', 'LIFW', 'EXLS', 'NIC', 'AAPL', 'SECO', 'CRBU', 'AMAT', 'LC', 'PRGO', 'TCN', 'SATS', 'CTBB', 'NFBK', 'RELL', 'HAIAU', 'OCG', 'OXY', 'SIMO', 'BTTR', 'BRP', 'KAI', 'CLPT', 'INVZW', 'RBOT', 'CALB', 'VMAR', 'GNE', 'AGNCM', 'HHS', 'KYCHR', 'OKE', 'GILT', 'TMTC', 'NXT', 'ARWR', 'MBTCU', 'ARIZW', 'MUC', 'ACAH', 'JSM', 'SAVE', 'WRNT', 'SGBX', 'IVCPU', 'NRIM', 'UP', 'ADRT', 'PDLB', 'INDI', 'LIVBU', 'WBX', 'PFTA', 'PAXS', 'GHY', 'BGB', 'ISRG', 'NYCB', 'NGD', 'ASGI', 'EPM', 'HYMCW', 'RGP', 'ENIC', 'HUDA', 'FDEU', 'GLLIR', 'ALUR', 'NETDW', 'FSBC', 'BMEA', 'SHW', 'NCPLW', 'VIRT', 'EWTX', 'HEQ', 'PHK', 'GRABW', 'SIF', 'PCB', 'MO', 'VPV', 'PWUPU', 'SFRWW', 'ADOCW', 'WINV', 'VFS', 'CHCT', 'FAM', 'BWMX', 'EOT', 'ERNA', 'XFOR', 'HSPO', 'ANZU', 'ATER', 'LULU', 'CAMP', 'RNR', 'EZPW', 'SFIX', 'GTACU', 'SGHC', 'CHI', 'PNRG', 'PFD', 'ACCO', 'AMSC', 'ENER', 'NIM', 'LTRX', 'SBS', 'VQS', 'EVRI', 'NAZ', 'BRC', 'ULTA', 'ACAX', 'TOMZ', 'GFOR', 'COMP', 'CIFRW', 'MTEK', 'ALPP', 'GHL', 'CANG', 'YOTAW', 'ESLT', 'MBAC', 'FAT', 'LPRO', 'RGT', 'OPAL', 'HPLTW', 'NEP', 'QVCD', 'S', 'AAON', 'CARM', 'NOMD', 'IVCAU', 'CLOEU', 'BBU', 'OVID', 'ROST', 'FMSTW', 'TENX', 'SPLP', 'UIS', 'MCAC', 'DSU', 'MHI', 'HEI', 'BFIIW', 'WNNR', 'GLBZ', 'GENE', 'OOMA', 'WING', 'NTAP', 'BUI', 'LBRDP', 'ALOR', 'MAS', 'BGSF', 'ASO', 'MHO', 'ALK', 'OSW', 'NMT', 'DISH', 'JFBR', 'CLRB', 'CLINW', 'MI', 'CFFSU', 'LCFYW', 'JBHT', 'MYO', 'AIB', 'VFC', 'CADE', 'HROWM', 'WAFD', 'WSR', 'NCAC', 'AIMDW', 'RACYU', 'AIMAU', 'ATR', 'CXE', 'RNP', 'ATO', 'LEXXW', 'SAMAU', 'SCI', 'BRAC', 'EDF', 'APG', 'BSRR', 'FTCH', 'UNMA', 'FFWM', 'DHCAW', 'MSEX', 'DNA', 'EM', 'DECA', 'AMK', 'HSPOW', 'BLD', 'RRAC', 'MAIN', 'BBCP', 'IXAQW', 'NPK', 'PFX', 'OLITW', 'DUO', 'FDS', 'GEO', 'GTACW', 'BHACU', 'BAK', 'EGP', 'ALG', 'AEHR', 'NCMI', 'ADTHW', 'CDMO', 'WNEB', 'DUKB', 'FBMS', 'GOTU', 'NN', 'TKO', 'OAKUW', 'ABCM', 'MLAB', 'BIOS', 'UZE', 'RMBS', 'NNVC', 'LEXX', 'VNRX', 'BYTSU', 'CTBI', 'ABEO', 'ORGO', 'PTCT', 'ACAHW', 'CMG', 'IFBD', 'WCN', 'SPT', 'BTOG', 'ETWO', 'ELMD', 'OTECW', 'SRBK', 'COGT', 'CAL', 'DDD', 'RGS', 'MCAGU', 'LGO', 'ALGT', 'CXH', 'CELC', 'DXLG', 'KBR', 'GMED', 'BFC', 'KNSW', 'ATNI', 'GDNRW', 'HTFC', 'GJH', 'WLYB', 'BEPI', 'OXLCL', 'TGS', 'PYPL', 'STTK', 'GLADZ', 'PDD', 'IMGN', 'CWH', 'ELSE', 'BLDR', 'AXSM', 'ASUR', 'HTIBP', 'SAMA', 'GFF', 'WMG', 'GPRO', 'AURA', 'CISS', 'WEL', 'CBD', 'ZLAB', 'VINC', 'EIC', 'BDJ', 'OPK', 'DTSTW', 'MSA', 'ZNTL', 'ACAB', 'AIF', 'TBPH', 'REAX', 'ATIP', 'TRONW', 'SGEN', 'SCD', 'GMFIW', 'ACNT', 'EDU', 'HOPE', 'ATEC', 'FSP', 'RPTX', 'CLBT', 'ETY', 'WTFC', 'HRL', 'FMN', 'CLW', 'HELE', 'GAM', 'FPF', 'TYRA', 'MHUA', 'AEF', 'FGEN', 'BEEP', 'LABP', 'TLIS', 'SMTC', 'BLNK', 'ATXS', 'NRACU', 'FIAC', 'OLPX', 'CLEU', 'DISAW', 'TFINP', 'BAER', 'ALE', 'FSM', 'TYL', 'FHN', 'WAVS', 'VSCO', 'HEPA', 'FANG', 'GRTX', 'NETI', 'ARDC', 'LDP', 'QNRX', 'SKWD', 'TUP', 'EGLE', 'USAC', 'PSEC', 'VRTX', 'PFMT', 'BWAQR', 'PEB', 'DHC', 'UTL', 'YEXT', 'PTIXW', 'RUM', 'MDT', 'WT', 'UAL', 'SAR', 'HKD', 'BRAG', 'PLG', 'PRTC', 'ODVWW', 'KMDA', 'GLPG', 'VOC', 'LCII', 'ALRM', 'MAYS', 'TGVC', 'ALSAW', 'EXG', 'PBF', 'RPT', 'FORL', 'WINT', 'TALKW', 'MSD', 'AOD', 'EVV', 'CASS', 'ABLV', 'PROC', 'T', 'IRS', 'ORA', 'OSI', 'STRC', 'INBKZ', 'ENVX', 'TCI', 'WHLRD', 'SSY', 'YETI', 'VLYPP', 'HROWL', 'WSO', 'AEL', 'KYN', 'EHI', 'NLY', 'STX', 'NMM', 'VBTX', 'TTEK', 'SILK', 'ESGR', 'BTCY', 'CHKP', 'AFGD', 'NOGNW', 'LUNR', 'HSIC', 'MGOL', 'NXRT', 'HPF', 'HNVR', 'KOF', 'OCTO', 'NNBR', 'ALTO', 'FITBO', 'LUNA', 'TMC', 'HUBB', 'BOH', 'HAIN', 'EPAM', 'TRMB', 'HFBL', 'RXRX', 'RQI', 'ADPT', 'PVH', 'MMC', 'WAVSU', 'VRTV', 'BRKHW', 'BEATW', 'ALC', 'FFIV', 'CEM', 'OCAXW', 'ARCH', 'HDSN', 'OCX', 'AEMD', 'OZ', 'ARAY', 'VRSN', 'WWAC', 'NRO', 'AKAN', 'AMX', 'USEG', 'MSGS', 'CHKEZ', 'AGAE', 'OXLCP', 'CURIW', 'BRFH', 'ABEV', 'INPX', 'GNLN', 'GNW', 'MHF', 'ODD', 'WOLF', 'PRSTW', 'AQB', 'ZLSWU', 'GOEVW', 'IGTAW', 'BGI', 'ATRO', 'ELTK', 'BCYC', 'CSTA', 'AEY', 'RELIW', 'MITAW', 'NVGS', 'FIBK', 'EDN', 'FRGI', 'EEFT', 'KDP', 'AGIO', 'VGASW', 'SKGRU', 'OPTT', 'ALSA', 'NCNC', 'ESTA', 'BMBL', 'SCHW', 'CYCC', 'INFY', 'EW', 'GIII', 'VCYT', 'HSTM', 'PAX', 'BBGI']: Exception('%ticker%: No price data found, symbol may be delisted (period=1y)')\n"
     ]
    },
    {
     "name": "stdout",
     "output_type": "stream",
     "text": [
      "\n",
      "11630.901747226715\n"
     ]
    }
   ],
   "source": [
    "s = time.time()\n",
    "data = get_data(get_all_tickers())\n",
    "data_cop = data.copy()\n",
    "print(time.time() - s)"
   ]
  },
  {
   "cell_type": "code",
   "execution_count": 6,
   "id": "e74d0993-2687-461c-be4c-1a773e300160",
   "metadata": {
    "tags": []
   },
   "outputs": [
    {
     "name": "stderr",
     "output_type": "stream",
     "text": [
      "C:\\Users\\sasso\\AppData\\Local\\Temp\\ipykernel_2264\\1131990687.py:6: FutureWarning: The behavior of DataFrame.idxmax with all-NA values, or any-NA and skipna=False, is deprecated. In a future version this will raise ValueError\n",
      "  date_of_high = df['High'].idxmax()\n"
     ]
    }
   ],
   "source": [
    "df = get_info(data)\n",
    "cop = df.copy()\n",
    "# df"
   ]
  },
  {
   "cell_type": "markdown",
   "id": "635c4dc0-92a0-4108-97a5-75a5bd67addf",
   "metadata": {},
   "source": [
    "### Filtering out stocks that don't match "
   ]
  },
  {
   "cell_type": "code",
   "execution_count": 7,
   "id": "3accc6e3-0cda-4fe6-ad1b-33c17361aafc",
   "metadata": {
    "tags": []
   },
   "outputs": [
    {
     "data": {
      "text/html": [
       "<div>\n",
       "<style scoped>\n",
       "    .dataframe tbody tr th:only-of-type {\n",
       "        vertical-align: middle;\n",
       "    }\n",
       "\n",
       "    .dataframe tbody tr th {\n",
       "        vertical-align: top;\n",
       "    }\n",
       "\n",
       "    .dataframe thead th {\n",
       "        text-align: right;\n",
       "    }\n",
       "</style>\n",
       "<table border=\"1\" class=\"dataframe\">\n",
       "  <thead>\n",
       "    <tr style=\"text-align: right;\">\n",
       "      <th></th>\n",
       "      <th>Close</th>\n",
       "      <th>52wk High</th>\n",
       "      <th>Percent from 52</th>\n",
       "      <th>Volume</th>\n",
       "      <th>doh</th>\n",
       "      <th>Volume$</th>\n",
       "    </tr>\n",
       "  </thead>\n",
       "  <tbody>\n",
       "    <tr>\n",
       "      <th>NEWR</th>\n",
       "      <td>85.47</td>\n",
       "      <td>86.00</td>\n",
       "      <td>0.62</td>\n",
       "      <td>605,500.00</td>\n",
       "      <td>2023-05-17</td>\n",
       "      <td>51,752,085.74</td>\n",
       "    </tr>\n",
       "    <tr>\n",
       "      <th>ARGO</th>\n",
       "      <td>29.76</td>\n",
       "      <td>30.13</td>\n",
       "      <td>1.23</td>\n",
       "      <td>245,900.00</td>\n",
       "      <td>2023-04-06</td>\n",
       "      <td>7,317,984.06</td>\n",
       "    </tr>\n",
       "    <tr>\n",
       "      <th>CIR</th>\n",
       "      <td>55.73</td>\n",
       "      <td>56.48</td>\n",
       "      <td>1.33</td>\n",
       "      <td>148,100.00</td>\n",
       "      <td>2023-06-30</td>\n",
       "      <td>8,253,612.93</td>\n",
       "    </tr>\n",
       "    <tr>\n",
       "      <th>EMLD</th>\n",
       "      <td>10.45</td>\n",
       "      <td>10.66</td>\n",
       "      <td>1.97</td>\n",
       "      <td>505,800.00</td>\n",
       "      <td>2023-06-09</td>\n",
       "      <td>5,285,609.90</td>\n",
       "    </tr>\n",
       "    <tr>\n",
       "      <th>NGMS</th>\n",
       "      <td>27.21</td>\n",
       "      <td>27.77</td>\n",
       "      <td>2.01</td>\n",
       "      <td>94,900.00</td>\n",
       "      <td>2023-05-18</td>\n",
       "      <td>2,582,228.91</td>\n",
       "    </tr>\n",
       "    <tr>\n",
       "      <th>TRTN</th>\n",
       "      <td>82.94</td>\n",
       "      <td>84.68</td>\n",
       "      <td>2.05</td>\n",
       "      <td>794,200.00</td>\n",
       "      <td>2023-07-07</td>\n",
       "      <td>65,870,949.94</td>\n",
       "    </tr>\n",
       "    <tr>\n",
       "      <th>HCVI</th>\n",
       "      <td>10.38</td>\n",
       "      <td>10.60</td>\n",
       "      <td>2.08</td>\n",
       "      <td>3,645,900.00</td>\n",
       "      <td>2023-06-16</td>\n",
       "      <td>37,844,442.42</td>\n",
       "    </tr>\n",
       "    <tr>\n",
       "      <th>XOM</th>\n",
       "      <td>116.23</td>\n",
       "      <td>119.92</td>\n",
       "      <td>3.08</td>\n",
       "      <td>11,306,900.00</td>\n",
       "      <td>2023-04-28</td>\n",
       "      <td>1,314,201,024.96</td>\n",
       "    </tr>\n",
       "    <tr>\n",
       "      <th>AON</th>\n",
       "      <td>335.53</td>\n",
       "      <td>347.37</td>\n",
       "      <td>3.41</td>\n",
       "      <td>507,000.00</td>\n",
       "      <td>2023-06-30</td>\n",
       "      <td>170,113,709.38</td>\n",
       "    </tr>\n",
       "    <tr>\n",
       "      <th>ALCC</th>\n",
       "      <td>10.35</td>\n",
       "      <td>10.77</td>\n",
       "      <td>3.90</td>\n",
       "      <td>2,984,200.00</td>\n",
       "      <td>2023-05-31</td>\n",
       "      <td>30,886,471.14</td>\n",
       "    </tr>\n",
       "    <tr>\n",
       "      <th>CNK</th>\n",
       "      <td>18.11</td>\n",
       "      <td>18.85</td>\n",
       "      <td>3.93</td>\n",
       "      <td>2,963,800.00</td>\n",
       "      <td>2023-06-13</td>\n",
       "      <td>53,674,419.81</td>\n",
       "    </tr>\n",
       "    <tr>\n",
       "      <th>BGC</th>\n",
       "      <td>5.28</td>\n",
       "      <td>5.51</td>\n",
       "      <td>4.17</td>\n",
       "      <td>1,484,600.00</td>\n",
       "      <td>2023-03-16</td>\n",
       "      <td>7,838,688.31</td>\n",
       "    </tr>\n",
       "    <tr>\n",
       "      <th>KELYA</th>\n",
       "      <td>18.61</td>\n",
       "      <td>19.43</td>\n",
       "      <td>4.22</td>\n",
       "      <td>76,700.00</td>\n",
       "      <td>2023-05-23</td>\n",
       "      <td>1,427,387.05</td>\n",
       "    </tr>\n",
       "    <tr>\n",
       "      <th>ORLY</th>\n",
       "      <td>933.64</td>\n",
       "      <td>975.72</td>\n",
       "      <td>4.31</td>\n",
       "      <td>274,100.00</td>\n",
       "      <td>2023-07-12</td>\n",
       "      <td>255,910,728.02</td>\n",
       "    </tr>\n",
       "    <tr>\n",
       "      <th>GGN</th>\n",
       "      <td>3.74</td>\n",
       "      <td>3.91</td>\n",
       "      <td>4.35</td>\n",
       "      <td>526,000.00</td>\n",
       "      <td>2023-07-13</td>\n",
       "      <td>1,967,240.01</td>\n",
       "    </tr>\n",
       "  </tbody>\n",
       "</table>\n",
       "</div>"
      ],
      "text/plain": [
       "       Close  52wk High  Percent from 52        Volume        doh  \\\n",
       "NEWR   85.47      86.00             0.62    605,500.00 2023-05-17   \n",
       "ARGO   29.76      30.13             1.23    245,900.00 2023-04-06   \n",
       "CIR    55.73      56.48             1.33    148,100.00 2023-06-30   \n",
       "EMLD   10.45      10.66             1.97    505,800.00 2023-06-09   \n",
       "NGMS   27.21      27.77             2.01     94,900.00 2023-05-18   \n",
       "TRTN   82.94      84.68             2.05    794,200.00 2023-07-07   \n",
       "HCVI   10.38      10.60             2.08  3,645,900.00 2023-06-16   \n",
       "XOM   116.23     119.92             3.08 11,306,900.00 2023-04-28   \n",
       "AON   335.53     347.37             3.41    507,000.00 2023-06-30   \n",
       "ALCC   10.35      10.77             3.90  2,984,200.00 2023-05-31   \n",
       "CNK    18.11      18.85             3.93  2,963,800.00 2023-06-13   \n",
       "BGC     5.28       5.51             4.17  1,484,600.00 2023-03-16   \n",
       "KELYA  18.61      19.43             4.22     76,700.00 2023-05-23   \n",
       "ORLY  933.64     975.72             4.31    274,100.00 2023-07-12   \n",
       "GGN     3.74       3.91             4.35    526,000.00 2023-07-13   \n",
       "\n",
       "               Volume$  \n",
       "NEWR     51,752,085.74  \n",
       "ARGO      7,317,984.06  \n",
       "CIR       8,253,612.93  \n",
       "EMLD      5,285,609.90  \n",
       "NGMS      2,582,228.91  \n",
       "TRTN     65,870,949.94  \n",
       "HCVI     37,844,442.42  \n",
       "XOM   1,314,201,024.96  \n",
       "AON     170,113,709.38  \n",
       "ALCC     30,886,471.14  \n",
       "CNK      53,674,419.81  \n",
       "BGC       7,838,688.31  \n",
       "KELYA     1,427,387.05  \n",
       "ORLY    255,910,728.02  \n",
       "GGN       1,967,240.01  "
      ]
     },
     "execution_count": 7,
     "metadata": {},
     "output_type": "execute_result"
    }
   ],
   "source": [
    "df = cop.copy()\n",
    "df = df.dropna(subset=['Close'])\n",
    "vol_thresh = 10000\n",
    "vold_thresh = 1000000\n",
    "df = df[df['Volume'] >= vol_thresh]\n",
    "df = df[df['Volume$'] >= vold_thresh]\n",
    "time_thresh1 = datetime.now() - timedelta(days=75)  # Hit the high between 120 and 200 days ago (3 - 7 months)\n",
    "time_thresh2 = datetime.now() - timedelta(days=200)  \n",
    "df = df[(df[\"doh\"] < time_thresh1) & (df[\"doh\"] > time_thresh2)]\n",
    "df.sort_values(by='Percent from 52', ascending=True).head(15)"
   ]
  },
  {
   "cell_type": "markdown",
   "id": "d3bb938c-559a-4d0c-b7a8-c3270f0aef39",
   "metadata": {},
   "source": [
    "# Testing out (manually backtesting)"
   ]
  },
  {
   "cell_type": "code",
   "execution_count": 32,
   "id": "5eb6dc4e-5dab-47b3-8176-302c2559daef",
   "metadata": {},
   "outputs": [],
   "source": [
    "def get_info_test(df):        \n",
    "    days_back = 12\n",
    "    \n",
    "    _highs = df['High'][:-days_back].max()\n",
    "    _closes = df['Close'].iloc[-days_back]\n",
    "    _pct_to_52 = ((_highs - _closes) / _highs) * 100\n",
    "    # _volume = np.nanmean(df[\"Volume\"].iloc[-days_back])\n",
    "    _date_of_high = df['High'][:-days_back].idxmax()\n",
    "    \n",
    "    highs = df['High'].max()\n",
    "    date_of_high = df['High'].idxmax()\n",
    "    closes = df['Close'].iloc[-1]\n",
    "    volume = df[\"Volume\"].iloc[-3:].mean()  # Calculates the average volume in the last 3 days\n",
    "    pct_to_52 = ((highs - closes) / highs) * 100\n",
    "    \n",
    "    new_df = pd.DataFrame({'Old Close': _closes, 'Old 52wk High': _highs, \"Old Percent from 52\": _pct_to_52, \"Volume\": volume, \"doh\": _date_of_high, \"Close\": closes, \"Prct252\": pct_to_52, \"high52\": highs, \"date of break\": date_of_high})\n",
    "\n",
    "    return new_df"
   ]
  },
  {
   "cell_type": "code",
   "execution_count": 33,
   "id": "2b4d8c63-1ebd-4a53-97ce-1a40258ccc09",
   "metadata": {},
   "outputs": [
    {
     "data": {
      "text/html": [
       "<div>\n",
       "<style scoped>\n",
       "    .dataframe tbody tr th:only-of-type {\n",
       "        vertical-align: middle;\n",
       "    }\n",
       "\n",
       "    .dataframe tbody tr th {\n",
       "        vertical-align: top;\n",
       "    }\n",
       "\n",
       "    .dataframe thead th {\n",
       "        text-align: right;\n",
       "    }\n",
       "</style>\n",
       "<table border=\"1\" class=\"dataframe\">\n",
       "  <thead>\n",
       "    <tr style=\"text-align: right;\">\n",
       "      <th></th>\n",
       "      <th>Old Close</th>\n",
       "      <th>Old 52wk High</th>\n",
       "      <th>Old Percent from 52</th>\n",
       "      <th>Volume</th>\n",
       "      <th>doh</th>\n",
       "      <th>Close</th>\n",
       "      <th>Prct252</th>\n",
       "      <th>high52</th>\n",
       "      <th>date of break</th>\n",
       "    </tr>\n",
       "  </thead>\n",
       "  <tbody>\n",
       "    <tr>\n",
       "      <th>A</th>\n",
       "      <td>127.62</td>\n",
       "      <td>160.26</td>\n",
       "      <td>20.37</td>\n",
       "      <td>1,333,326.33</td>\n",
       "      <td>2022-12-13</td>\n",
       "      <td>126.87</td>\n",
       "      <td>20.83</td>\n",
       "      <td>160.26</td>\n",
       "      <td>2022-12-13</td>\n",
       "    </tr>\n",
       "    <tr>\n",
       "      <th>AA</th>\n",
       "      <td>33.38</td>\n",
       "      <td>58.24</td>\n",
       "      <td>42.68</td>\n",
       "      <td>3,132,267.33</td>\n",
       "      <td>2022-08-26</td>\n",
       "      <td>33.80</td>\n",
       "      <td>41.96</td>\n",
       "      <td>58.24</td>\n",
       "      <td>2022-08-26</td>\n",
       "    </tr>\n",
       "    <tr>\n",
       "      <th>AAC</th>\n",
       "      <td>10.56</td>\n",
       "      <td>10.60</td>\n",
       "      <td>0.38</td>\n",
       "      <td>21,163.33</td>\n",
       "      <td>2023-07-18</td>\n",
       "      <td>10.65</td>\n",
       "      <td>0.05</td>\n",
       "      <td>10.65</td>\n",
       "      <td>2023-07-31</td>\n",
       "    </tr>\n",
       "    <tr>\n",
       "      <th>AACG</th>\n",
       "      <td>1.39</td>\n",
       "      <td>2.64</td>\n",
       "      <td>47.35</td>\n",
       "      <td>2,835.00</td>\n",
       "      <td>2022-08-18</td>\n",
       "      <td>1.32</td>\n",
       "      <td>50.00</td>\n",
       "      <td>2.64</td>\n",
       "      <td>2022-08-18</td>\n",
       "    </tr>\n",
       "    <tr>\n",
       "      <th>AACI</th>\n",
       "      <td>10.51</td>\n",
       "      <td>12.20</td>\n",
       "      <td>13.85</td>\n",
       "      <td>8,276.50</td>\n",
       "      <td>2023-01-30</td>\n",
       "      <td>NaN</td>\n",
       "      <td>NaN</td>\n",
       "      <td>12.20</td>\n",
       "      <td>2023-01-30</td>\n",
       "    </tr>\n",
       "    <tr>\n",
       "      <th>...</th>\n",
       "      <td>...</td>\n",
       "      <td>...</td>\n",
       "      <td>...</td>\n",
       "      <td>...</td>\n",
       "      <td>...</td>\n",
       "      <td>...</td>\n",
       "      <td>...</td>\n",
       "      <td>...</td>\n",
       "      <td>...</td>\n",
       "    </tr>\n",
       "    <tr>\n",
       "      <th>ZVSA</th>\n",
       "      <td>0.20</td>\n",
       "      <td>25.00</td>\n",
       "      <td>99.21</td>\n",
       "      <td>1,000,905.00</td>\n",
       "      <td>2022-12-12</td>\n",
       "      <td>0.17</td>\n",
       "      <td>99.33</td>\n",
       "      <td>25.00</td>\n",
       "      <td>2022-12-12</td>\n",
       "    </tr>\n",
       "    <tr>\n",
       "      <th>ZWS</th>\n",
       "      <td>27.33</td>\n",
       "      <td>31.77</td>\n",
       "      <td>13.98</td>\n",
       "      <td>590,255.00</td>\n",
       "      <td>2022-08-18</td>\n",
       "      <td>30.21</td>\n",
       "      <td>4.91</td>\n",
       "      <td>31.77</td>\n",
       "      <td>2022-08-18</td>\n",
       "    </tr>\n",
       "    <tr>\n",
       "      <th>ZYME</th>\n",
       "      <td>7.87</td>\n",
       "      <td>10.80</td>\n",
       "      <td>27.13</td>\n",
       "      <td>923,709.67</td>\n",
       "      <td>2023-01-19</td>\n",
       "      <td>7.16</td>\n",
       "      <td>33.66</td>\n",
       "      <td>10.80</td>\n",
       "      <td>2023-01-19</td>\n",
       "    </tr>\n",
       "    <tr>\n",
       "      <th>ZYNE</th>\n",
       "      <td>0.36</td>\n",
       "      <td>1.39</td>\n",
       "      <td>74.10</td>\n",
       "      <td>96,968.00</td>\n",
       "      <td>2022-08-08</td>\n",
       "      <td>0.35</td>\n",
       "      <td>74.97</td>\n",
       "      <td>1.39</td>\n",
       "      <td>2022-08-08</td>\n",
       "    </tr>\n",
       "    <tr>\n",
       "      <th>ZYXI</th>\n",
       "      <td>9.17</td>\n",
       "      <td>17.25</td>\n",
       "      <td>46.84</td>\n",
       "      <td>250,934.00</td>\n",
       "      <td>2023-01-06</td>\n",
       "      <td>8.25</td>\n",
       "      <td>52.17</td>\n",
       "      <td>17.25</td>\n",
       "      <td>2023-01-06</td>\n",
       "    </tr>\n",
       "  </tbody>\n",
       "</table>\n",
       "<p>7428 rows × 9 columns</p>\n",
       "</div>"
      ],
      "text/plain": [
       "      Old Close  Old 52wk High  Old Percent from 52       Volume        doh  \\\n",
       "A        127.62         160.26                20.37 1,333,326.33 2022-12-13   \n",
       "AA        33.38          58.24                42.68 3,132,267.33 2022-08-26   \n",
       "AAC       10.56          10.60                 0.38    21,163.33 2023-07-18   \n",
       "AACG       1.39           2.64                47.35     2,835.00 2022-08-18   \n",
       "AACI      10.51          12.20                13.85     8,276.50 2023-01-30   \n",
       "...         ...            ...                  ...          ...        ...   \n",
       "ZVSA       0.20          25.00                99.21 1,000,905.00 2022-12-12   \n",
       "ZWS       27.33          31.77                13.98   590,255.00 2022-08-18   \n",
       "ZYME       7.87          10.80                27.13   923,709.67 2023-01-19   \n",
       "ZYNE       0.36           1.39                74.10    96,968.00 2022-08-08   \n",
       "ZYXI       9.17          17.25                46.84   250,934.00 2023-01-06   \n",
       "\n",
       "      Close  Prct252  high52 date of break  \n",
       "A    126.87    20.83  160.26    2022-12-13  \n",
       "AA    33.80    41.96   58.24    2022-08-26  \n",
       "AAC   10.65     0.05   10.65    2023-07-31  \n",
       "AACG   1.32    50.00    2.64    2022-08-18  \n",
       "AACI    NaN      NaN   12.20    2023-01-30  \n",
       "...     ...      ...     ...           ...  \n",
       "ZVSA   0.17    99.33   25.00    2022-12-12  \n",
       "ZWS   30.21     4.91   31.77    2022-08-18  \n",
       "ZYME   7.16    33.66   10.80    2023-01-19  \n",
       "ZYNE   0.35    74.97    1.39    2022-08-08  \n",
       "ZYXI   8.25    52.17   17.25    2023-01-06  \n",
       "\n",
       "[7428 rows x 9 columns]"
      ]
     },
     "execution_count": 33,
     "metadata": {},
     "output_type": "execute_result"
    }
   ],
   "source": [
    "df_test = get_info_test(data)\n",
    "cop_test = df_test.copy()\n",
    "cop_test"
   ]
  },
  {
   "cell_type": "markdown",
   "id": "0db6c9ec-62bf-4a87-9b67-2d89bca37ea8",
   "metadata": {},
   "source": [
    "### Filtering and sorting"
   ]
  },
  {
   "cell_type": "code",
   "execution_count": 7,
   "id": "bc5df53a-112e-4e3e-86bc-17e4bbe15ca9",
   "metadata": {},
   "outputs": [
    {
     "ename": "NameError",
     "evalue": "name 'cop_test' is not defined",
     "output_type": "error",
     "traceback": [
      "\u001b[1;31m---------------------------------------------------------------------------\u001b[0m",
      "\u001b[1;31mNameError\u001b[0m                                 Traceback (most recent call last)",
      "Input \u001b[1;32mIn [7]\u001b[0m, in \u001b[0;36m<cell line: 1>\u001b[1;34m()\u001b[0m\n\u001b[1;32m----> 1\u001b[0m df_test \u001b[38;5;241m=\u001b[39m \u001b[43mcop_test\u001b[49m\u001b[38;5;241m.\u001b[39mcopy()\n\u001b[0;32m      2\u001b[0m time_thresh \u001b[38;5;241m=\u001b[39m datetime\u001b[38;5;241m.\u001b[39mnow() \u001b[38;5;241m-\u001b[39m timedelta(days\u001b[38;5;241m=\u001b[39m\u001b[38;5;241m120\u001b[39m)\n\u001b[0;32m      3\u001b[0m break_time_thresh \u001b[38;5;241m=\u001b[39m datetime\u001b[38;5;241m.\u001b[39mnow() \u001b[38;5;241m-\u001b[39m timedelta(days\u001b[38;5;241m=\u001b[39m\u001b[38;5;241m2\u001b[39m)  \u001b[38;5;66;03m# How many days ago it broke\u001b[39;00m\n",
      "\u001b[1;31mNameError\u001b[0m: name 'cop_test' is not defined"
     ]
    }
   ],
   "source": [
    "df_test = cop_test.copy()\n",
    "time_thresh = datetime.now() - timedelta(days=120)\n",
    "break_time_thresh = datetime.now() - timedelta(days=2)  # How many days ago it broke\n",
    "vol_thresh = 10000\n",
    "# print(break_time_thresh)\n",
    "df_test = df_test[df_test[\"Old 52wk High\"] != df_test[\"high52\"]]\n",
    "df_test = df_test[df_test[\"doh\"] < time_thresh]\n",
    "df_test = df_test[df_test[\"date of break\"] > break_time_thresh]\n",
    "df_test[\"diff\"] = datetime.now() - df_test[\"date of break\"]\n",
    "pd.options.display.float_format = '{:.2f}'.format\n",
    "df_test.sort_values(by='Volume', ascending=False).head(20)"
   ]
  },
  {
   "cell_type": "markdown",
   "id": "ddf7ffe0-786e-49d6-a589-27c989b36b3e",
   "metadata": {},
   "source": [
    "# Random shit"
   ]
  },
  {
   "cell_type": "code",
   "execution_count": 9,
   "id": "5ccad97c-88bb-43bf-8b8e-2aa10d1a77bc",
   "metadata": {},
   "outputs": [
    {
     "data": {
      "text/html": [
       "<div>\n",
       "<style scoped>\n",
       "    .dataframe tbody tr th:only-of-type {\n",
       "        vertical-align: middle;\n",
       "    }\n",
       "\n",
       "    .dataframe tbody tr th {\n",
       "        vertical-align: top;\n",
       "    }\n",
       "\n",
       "    .dataframe thead th {\n",
       "        text-align: right;\n",
       "    }\n",
       "</style>\n",
       "<table border=\"1\" class=\"dataframe\">\n",
       "  <thead>\n",
       "    <tr style=\"text-align: right;\">\n",
       "      <th></th>\n",
       "      <th>Nasdaq Traded</th>\n",
       "      <th>Security Name</th>\n",
       "      <th>Listing Exchange</th>\n",
       "      <th>Market Category</th>\n",
       "      <th>ETF</th>\n",
       "      <th>Round Lot Size</th>\n",
       "      <th>Test Issue</th>\n",
       "      <th>Financial Status</th>\n",
       "      <th>CQS Symbol</th>\n",
       "      <th>NASDAQ Symbol</th>\n",
       "      <th>NextShares</th>\n",
       "    </tr>\n",
       "    <tr>\n",
       "      <th>Symbol</th>\n",
       "      <th></th>\n",
       "      <th></th>\n",
       "      <th></th>\n",
       "      <th></th>\n",
       "      <th></th>\n",
       "      <th></th>\n",
       "      <th></th>\n",
       "      <th></th>\n",
       "      <th></th>\n",
       "      <th></th>\n",
       "      <th></th>\n",
       "    </tr>\n",
       "  </thead>\n",
       "  <tbody>\n",
       "    <tr>\n",
       "      <th>A</th>\n",
       "      <td>True</td>\n",
       "      <td>Agilent Technologies, Inc. Common Stock</td>\n",
       "      <td>N</td>\n",
       "      <td></td>\n",
       "      <td>False</td>\n",
       "      <td>100.00</td>\n",
       "      <td>False</td>\n",
       "      <td>NaN</td>\n",
       "      <td>A</td>\n",
       "      <td>A</td>\n",
       "      <td>False</td>\n",
       "    </tr>\n",
       "    <tr>\n",
       "      <th>AA</th>\n",
       "      <td>True</td>\n",
       "      <td>Alcoa Corporation Common Stock</td>\n",
       "      <td>N</td>\n",
       "      <td></td>\n",
       "      <td>False</td>\n",
       "      <td>100.00</td>\n",
       "      <td>False</td>\n",
       "      <td>NaN</td>\n",
       "      <td>AA</td>\n",
       "      <td>AA</td>\n",
       "      <td>False</td>\n",
       "    </tr>\n",
       "    <tr>\n",
       "      <th>AAC</th>\n",
       "      <td>True</td>\n",
       "      <td>Ares Acquisition Corporation Class A Ordinary ...</td>\n",
       "      <td>N</td>\n",
       "      <td></td>\n",
       "      <td>False</td>\n",
       "      <td>100.00</td>\n",
       "      <td>False</td>\n",
       "      <td>NaN</td>\n",
       "      <td>AAC</td>\n",
       "      <td>AAC</td>\n",
       "      <td>False</td>\n",
       "    </tr>\n",
       "    <tr>\n",
       "      <th>AAC.U</th>\n",
       "      <td>True</td>\n",
       "      <td>Ares Acquisition Corporation Units, each consi...</td>\n",
       "      <td>N</td>\n",
       "      <td></td>\n",
       "      <td>False</td>\n",
       "      <td>100.00</td>\n",
       "      <td>False</td>\n",
       "      <td>NaN</td>\n",
       "      <td>AAC.U</td>\n",
       "      <td>AAC=</td>\n",
       "      <td>False</td>\n",
       "    </tr>\n",
       "    <tr>\n",
       "      <th>AAC.W</th>\n",
       "      <td>True</td>\n",
       "      <td>Ares Acquisition Corporation Redeemable Warran...</td>\n",
       "      <td>N</td>\n",
       "      <td></td>\n",
       "      <td>False</td>\n",
       "      <td>100.00</td>\n",
       "      <td>False</td>\n",
       "      <td>NaN</td>\n",
       "      <td>AAC.WS</td>\n",
       "      <td>AAC+</td>\n",
       "      <td>False</td>\n",
       "    </tr>\n",
       "    <tr>\n",
       "      <th>...</th>\n",
       "      <td>...</td>\n",
       "      <td>...</td>\n",
       "      <td>...</td>\n",
       "      <td>...</td>\n",
       "      <td>...</td>\n",
       "      <td>...</td>\n",
       "      <td>...</td>\n",
       "      <td>...</td>\n",
       "      <td>...</td>\n",
       "      <td>...</td>\n",
       "      <td>...</td>\n",
       "    </tr>\n",
       "    <tr>\n",
       "      <th>ZVSA</th>\n",
       "      <td>True</td>\n",
       "      <td>ZyVersa Therapeutics, Inc. - Common Stock</td>\n",
       "      <td>Q</td>\n",
       "      <td>G</td>\n",
       "      <td>False</td>\n",
       "      <td>100.00</td>\n",
       "      <td>False</td>\n",
       "      <td>D</td>\n",
       "      <td>NaN</td>\n",
       "      <td>ZVSA</td>\n",
       "      <td>False</td>\n",
       "    </tr>\n",
       "    <tr>\n",
       "      <th>ZWS</th>\n",
       "      <td>True</td>\n",
       "      <td>Zurn Elkay Water Solutions Corporation Common ...</td>\n",
       "      <td>N</td>\n",
       "      <td></td>\n",
       "      <td>False</td>\n",
       "      <td>100.00</td>\n",
       "      <td>False</td>\n",
       "      <td>NaN</td>\n",
       "      <td>ZWS</td>\n",
       "      <td>ZWS</td>\n",
       "      <td>False</td>\n",
       "    </tr>\n",
       "    <tr>\n",
       "      <th>ZYME</th>\n",
       "      <td>True</td>\n",
       "      <td>Zymeworks Inc. - Common Stock</td>\n",
       "      <td>Q</td>\n",
       "      <td>Q</td>\n",
       "      <td>False</td>\n",
       "      <td>100.00</td>\n",
       "      <td>False</td>\n",
       "      <td>N</td>\n",
       "      <td>NaN</td>\n",
       "      <td>ZYME</td>\n",
       "      <td>False</td>\n",
       "    </tr>\n",
       "    <tr>\n",
       "      <th>ZYNE</th>\n",
       "      <td>True</td>\n",
       "      <td>Zynerba Pharmaceuticals, Inc. - Common Stock</td>\n",
       "      <td>Q</td>\n",
       "      <td>S</td>\n",
       "      <td>False</td>\n",
       "      <td>100.00</td>\n",
       "      <td>False</td>\n",
       "      <td>D</td>\n",
       "      <td>NaN</td>\n",
       "      <td>ZYNE</td>\n",
       "      <td>False</td>\n",
       "    </tr>\n",
       "    <tr>\n",
       "      <th>ZYXI</th>\n",
       "      <td>True</td>\n",
       "      <td>Zynex, Inc. - Common Stock</td>\n",
       "      <td>Q</td>\n",
       "      <td>Q</td>\n",
       "      <td>False</td>\n",
       "      <td>100.00</td>\n",
       "      <td>False</td>\n",
       "      <td>N</td>\n",
       "      <td>NaN</td>\n",
       "      <td>ZYXI</td>\n",
       "      <td>False</td>\n",
       "    </tr>\n",
       "  </tbody>\n",
       "</table>\n",
       "<p>8172 rows × 11 columns</p>\n",
       "</div>"
      ],
      "text/plain": [
       "        Nasdaq Traded                                      Security Name  \\\n",
       "Symbol                                                                     \n",
       "A                True            Agilent Technologies, Inc. Common Stock   \n",
       "AA               True                    Alcoa Corporation Common Stock    \n",
       "AAC              True  Ares Acquisition Corporation Class A Ordinary ...   \n",
       "AAC.U            True  Ares Acquisition Corporation Units, each consi...   \n",
       "AAC.W            True  Ares Acquisition Corporation Redeemable Warran...   \n",
       "...               ...                                                ...   \n",
       "ZVSA             True          ZyVersa Therapeutics, Inc. - Common Stock   \n",
       "ZWS              True  Zurn Elkay Water Solutions Corporation Common ...   \n",
       "ZYME             True                      Zymeworks Inc. - Common Stock   \n",
       "ZYNE             True       Zynerba Pharmaceuticals, Inc. - Common Stock   \n",
       "ZYXI             True                         Zynex, Inc. - Common Stock   \n",
       "\n",
       "       Listing Exchange Market Category    ETF  Round Lot Size  Test Issue  \\\n",
       "Symbol                                                                       \n",
       "A                     N                  False          100.00       False   \n",
       "AA                    N                  False          100.00       False   \n",
       "AAC                   N                  False          100.00       False   \n",
       "AAC.U                 N                  False          100.00       False   \n",
       "AAC.W                 N                  False          100.00       False   \n",
       "...                 ...             ...    ...             ...         ...   \n",
       "ZVSA                  Q               G  False          100.00       False   \n",
       "ZWS                   N                  False          100.00       False   \n",
       "ZYME                  Q               Q  False          100.00       False   \n",
       "ZYNE                  Q               S  False          100.00       False   \n",
       "ZYXI                  Q               Q  False          100.00       False   \n",
       "\n",
       "       Financial Status CQS Symbol NASDAQ Symbol  NextShares  \n",
       "Symbol                                                        \n",
       "A                   NaN          A             A       False  \n",
       "AA                  NaN         AA            AA       False  \n",
       "AAC                 NaN        AAC           AAC       False  \n",
       "AAC.U               NaN      AAC.U          AAC=       False  \n",
       "AAC.W               NaN     AAC.WS          AAC+       False  \n",
       "...                 ...        ...           ...         ...  \n",
       "ZVSA                  D        NaN          ZVSA       False  \n",
       "ZWS                 NaN        ZWS           ZWS       False  \n",
       "ZYME                  N        NaN          ZYME       False  \n",
       "ZYNE                  D        NaN          ZYNE       False  \n",
       "ZYXI                  N        NaN          ZYXI       False  \n",
       "\n",
       "[8172 rows x 11 columns]"
      ]
     },
     "execution_count": 9,
     "metadata": {},
     "output_type": "execute_result"
    }
   ],
   "source": [
    "all_tickers = web.get_nasdaq_symbols()\n",
    "all_tickers = all_tickers[~all_tickers[\"ETF\"] & ~all_tickers[\"Test Issue\"]]\n",
    "# all_tickers.loc[\"O\"]\n",
    "all_tickers"
   ]
  },
  {
   "cell_type": "markdown",
   "id": "59acffb3-a833-41fa-b1d1-acef3e2b05ae",
   "metadata": {},
   "source": [
    "# Import to TradingView using pyautgui"
   ]
  },
  {
   "cell_type": "code",
   "execution_count": 8,
   "id": "2ec7ab50-4b5a-424f-bbc7-b1dbd331ec00",
   "metadata": {
    "tags": []
   },
   "outputs": [],
   "source": [
    "def get_fit_tickers(df, num):\n",
    "    return df.index[:num].tolist()\n",
    "\n",
    "\n",
    "def add_to_tv(df):\n",
    "    # Click plus (1773, 164)\n",
    "    tickers = get_fit_tickers(df, 100)\n",
    "    print(tickers)\n",
    "    pyautogui.click(1773, 164)\n",
    "    for ticker in tickers:\n",
    "        pyautogui.write(ticker)\n",
    "        pyautogui.press(\"enter\")"
   ]
  },
  {
   "cell_type": "markdown",
   "id": "0db06fb9-b5f2-416f-96bb-4344c97d989a",
   "metadata": {},
   "source": [
    "# Finding stocks that broke 52wk high yesterday"
   ]
  },
  {
   "cell_type": "markdown",
   "id": "63c96ec3-257f-4336-ad52-5cb43fda32b3",
   "metadata": {},
   "source": [
    "### First DataFrame that contains necessary information"
   ]
  },
  {
   "cell_type": "code",
   "execution_count": 19,
   "id": "089e961d-7782-4380-8bbd-c598a23576ab",
   "metadata": {
    "tags": []
   },
   "outputs": [],
   "source": [
    "def parse_df(df, old_high=2, high_by=\"High\"):\n",
    "    # old_high- How many days ago it broke high (x or less)\n",
    "    # high_by- by which OHLC to determine d\n",
    "    high = df['High'].max()  # 52 wk high\n",
    "    close = df['Close'].iloc[-1]  # Close of last candle\n",
    "    pct_to_52 = ((high - close) / high) * 100  # Percent change to 52wk high\n",
    "    volume = df[\"Volume\"].iloc[-1]  # Volume of last candle\n",
    "    old_doh = df['High'][:-old_high].idxmax()  # 52wk high before 2 days\n",
    "    doh = df['High'].idxmax()  # 52wk high today\n",
    "    new_df = pd.DataFrame({'Close': close, '52wk High': high, \"% to 52wk\": pct_to_52, \"Volume\": volume, \"Date of high\": doh, \"Old date of high\": old_doh, \"Volume$\": volume * close})\n",
    "\n",
    "    return new_df"
   ]
  },
  {
   "cell_type": "markdown",
   "id": "04e5157d-d453-4238-825d-084d3cdf3aa2",
   "metadata": {},
   "source": [
    "### Filtering and sorting DataFrame"
   ]
  },
  {
   "cell_type": "code",
   "execution_count": 20,
   "id": "324e8a23-4e98-40e6-8176-522159c5be64",
   "metadata": {
    "tags": []
   },
   "outputs": [],
   "source": [
    "def filter_sort_df(df):\n",
    "    df = df.copy()\n",
    "    df = df.dropna(subset=['Close'])\n",
    "\n",
    "    vol_thresh = 10000  # Volume threshold\n",
    "    vold_thresh = 500000  # Volume in dollar threshold, helps filtering out stocks that don't really have a high volume but due to low price they have a high volume\n",
    "    time_thresh1 = datetime.now() - timedelta(days=50)# Hit the high between 120 and 200 days ago (3 - 7 months)\n",
    "    # time_thresh1_b = datetime.now() - timedelta(days=60) \n",
    "    time_thresh2 = datetime.now() - timedelta(days=245)  \n",
    "    # time_thresh2_b = datetime.now() - timedelta(days=200)\n",
    "    df = df[df['Volume'] >= vol_thresh]\n",
    "    df = df[df['Volume$'] >= vold_thresh]\n",
    "    df = df[(df[\"Old date of high\"] < time_thresh1) & (df[\"Old date of high\"] > time_thresh2)]  # Old doh (last support) is between 90 to 200 days'\n",
    "    df = df[df[\"Old date of high\"] != df[\"Date of high\"]]\n",
    "    \n",
    "    return df.sort_values(by='% to 52wk', ascending=True)"
   ]
  },
  {
   "cell_type": "code",
   "execution_count": 21,
   "id": "209c2f85-8fe1-401f-a518-33de3d7e1643",
   "metadata": {
    "tags": []
   },
   "outputs": [
    {
     "name": "stderr",
     "output_type": "stream",
     "text": [
      "C:\\Users\\sasso\\AppData\\Local\\Temp\\ipykernel_2264\\1558894212.py:8: FutureWarning: The behavior of DataFrame.idxmax with all-NA values, or any-NA and skipna=False, is deprecated. In a future version this will raise ValueError\n",
      "  old_doh = df['High'][:-old_high].idxmax()  # 52wk high before 2 days\n",
      "C:\\Users\\sasso\\AppData\\Local\\Temp\\ipykernel_2264\\1558894212.py:9: FutureWarning: The behavior of DataFrame.idxmax with all-NA values, or any-NA and skipna=False, is deprecated. In a future version this will raise ValueError\n",
      "  doh = df['High'].idxmax()  # 52wk high today\n"
     ]
    },
    {
     "data": {
      "text/html": [
       "<div>\n",
       "<style scoped>\n",
       "    .dataframe tbody tr th:only-of-type {\n",
       "        vertical-align: middle;\n",
       "    }\n",
       "\n",
       "    .dataframe tbody tr th {\n",
       "        vertical-align: top;\n",
       "    }\n",
       "\n",
       "    .dataframe thead th {\n",
       "        text-align: right;\n",
       "    }\n",
       "</style>\n",
       "<table border=\"1\" class=\"dataframe\">\n",
       "  <thead>\n",
       "    <tr style=\"text-align: right;\">\n",
       "      <th></th>\n",
       "      <th>Close</th>\n",
       "      <th>52wk High</th>\n",
       "      <th>% to 52wk</th>\n",
       "      <th>Volume</th>\n",
       "      <th>Date of high</th>\n",
       "      <th>Old date of high</th>\n",
       "      <th>Volume$</th>\n",
       "    </tr>\n",
       "  </thead>\n",
       "  <tbody>\n",
       "    <tr>\n",
       "      <th>ATVI</th>\n",
       "      <td>94.05</td>\n",
       "      <td>94.11</td>\n",
       "      <td>0.06</td>\n",
       "      <td>6,857,700.00</td>\n",
       "      <td>2023-09-22</td>\n",
       "      <td>2023-07-17</td>\n",
       "      <td>644,966,705.93</td>\n",
       "    </tr>\n",
       "    <tr>\n",
       "      <th>SIGI</th>\n",
       "      <td>105.49</td>\n",
       "      <td>105.64</td>\n",
       "      <td>0.14</td>\n",
       "      <td>128,000.00</td>\n",
       "      <td>2023-09-25</td>\n",
       "      <td>2023-08-07</td>\n",
       "      <td>13,502,719.73</td>\n",
       "    </tr>\n",
       "    <tr>\n",
       "      <th>CWAN</th>\n",
       "      <td>19.91</td>\n",
       "      <td>20.15</td>\n",
       "      <td>1.19</td>\n",
       "      <td>987,600.00</td>\n",
       "      <td>2023-09-25</td>\n",
       "      <td>2023-02-22</td>\n",
       "      <td>19,663,115.85</td>\n",
       "    </tr>\n",
       "    <tr>\n",
       "      <th>FPL</th>\n",
       "      <td>6.42</td>\n",
       "      <td>6.52</td>\n",
       "      <td>1.53</td>\n",
       "      <td>106,900.00</td>\n",
       "      <td>2023-09-25</td>\n",
       "      <td>2023-07-31</td>\n",
       "      <td>686,298.01</td>\n",
       "    </tr>\n",
       "    <tr>\n",
       "      <th>SUN</th>\n",
       "      <td>47.42</td>\n",
       "      <td>48.72</td>\n",
       "      <td>2.67</td>\n",
       "      <td>231,800.00</td>\n",
       "      <td>2023-09-22</td>\n",
       "      <td>2023-02-03</td>\n",
       "      <td>10,991,955.58</td>\n",
       "    </tr>\n",
       "    <tr>\n",
       "      <th>MPRA</th>\n",
       "      <td>10.46</td>\n",
       "      <td>11.44</td>\n",
       "      <td>8.57</td>\n",
       "      <td>411,200.00</td>\n",
       "      <td>2023-09-25</td>\n",
       "      <td>2023-01-31</td>\n",
       "      <td>4,301,152.02</td>\n",
       "    </tr>\n",
       "    <tr>\n",
       "      <th>RENE</th>\n",
       "      <td>10.79</td>\n",
       "      <td>11.92</td>\n",
       "      <td>9.48</td>\n",
       "      <td>314,500.00</td>\n",
       "      <td>2023-09-25</td>\n",
       "      <td>2023-05-23</td>\n",
       "      <td>3,393,454.99</td>\n",
       "    </tr>\n",
       "  </tbody>\n",
       "</table>\n",
       "</div>"
      ],
      "text/plain": [
       "      Close  52wk High  % to 52wk       Volume Date of high Old date of high  \\\n",
       "ATVI  94.05      94.11       0.06 6,857,700.00   2023-09-22       2023-07-17   \n",
       "SIGI 105.49     105.64       0.14   128,000.00   2023-09-25       2023-08-07   \n",
       "CWAN  19.91      20.15       1.19   987,600.00   2023-09-25       2023-02-22   \n",
       "FPL    6.42       6.52       1.53   106,900.00   2023-09-25       2023-07-31   \n",
       "SUN   47.42      48.72       2.67   231,800.00   2023-09-22       2023-02-03   \n",
       "MPRA  10.46      11.44       8.57   411,200.00   2023-09-25       2023-01-31   \n",
       "RENE  10.79      11.92       9.48   314,500.00   2023-09-25       2023-05-23   \n",
       "\n",
       "            Volume$  \n",
       "ATVI 644,966,705.93  \n",
       "SIGI  13,502,719.73  \n",
       "CWAN  19,663,115.85  \n",
       "FPL      686,298.01  \n",
       "SUN   10,991,955.58  \n",
       "MPRA   4,301,152.02  \n",
       "RENE   3,393,454.99  "
      ]
     },
     "execution_count": 21,
     "metadata": {},
     "output_type": "execute_result"
    }
   ],
   "source": [
    "full_df = parse_df(data, 2)\n",
    "cop = full_df.copy()\n",
    "\n",
    "df = filter_sort_df(cop)\n",
    "df"
   ]
  },
  {
   "cell_type": "code",
   "execution_count": 13,
   "id": "2933069c-2b36-417f-9421-c79ceefdb43c",
   "metadata": {
    "tags": []
   },
   "outputs": [
    {
     "name": "stdout",
     "output_type": "stream",
     "text": [
      "['CASY', 'EC', 'BBCP', 'DO', 'KRYS', 'SFWL']\n"
     ]
    }
   ],
   "source": [
    "add_to_tv(df)"
   ]
  },
  {
   "cell_type": "code",
   "execution_count": 14,
   "id": "6c63715f-7667-4f40-8882-3745e67349a8",
   "metadata": {},
   "outputs": [
    {
     "data": {
      "text/plain": [
       "Close                            449.41\n",
       "52wk High                        492.22\n",
       "% to 52wk                          8.70\n",
       "Volume                        24,350.00\n",
       "Date of high        2023-08-07 00:00:00\n",
       "Old date of high    2023-08-07 00:00:00\n",
       "Volume$                   10,943,133.59\n",
       "Name: URI, dtype: object"
      ]
     },
     "execution_count": 14,
     "metadata": {},
     "output_type": "execute_result"
    }
   ],
   "source": [
    "cop.loc[\"URI\"]"
   ]
  },
  {
   "cell_type": "markdown",
   "id": "4baea3a9-c4b6-4537-a58d-e5ffd018c377",
   "metadata": {},
   "source": [
    "# Finding low 52"
   ]
  },
  {
   "cell_type": "code",
   "execution_count": 6,
   "id": "df654752-4743-4426-aef4-4b91c56ae45b",
   "metadata": {},
   "outputs": [],
   "source": [
    "def parse_df_low(df, old_low=2, low_by=\"Low\"):\n",
    "    # old_low- How many days ago it broke low (x or less)\n",
    "    # low_by- by which OHLC to determine d\n",
    "    low = df['Low'].min()  # 52 wk low\n",
    "    close = df['Close'].iloc[-1]  # Close of last candle\n",
    "    pct_to_52 = ((low - close) / low) * 100  # Percent change to 52wk low\n",
    "    volume = df[\"Volume\"].iloc[-1]  # Volume of last candle\n",
    "    old_doh = df['Low'][:-old_low].idxmin()  # 52wk low before 2 days\n",
    "    doh = df['Low'].idxmin()  # 52wk low today\n",
    "    new_df = pd.DataFrame({'Close': close, '52wk Low': low, \"% to 52wk\": pct_to_52, \"Volume\": volume, \"Date of low\": doh, \"Old date of low\": old_doh, \"Volume$\": volume * close})\n",
    "\n",
    "    return new_df\n",
    "\n",
    "def filter_sort_df_low(df):\n",
    "    df = df.dropna(subset=['Close'])\n",
    "\n",
    "    vol_thresh = 10000  # Volume threshold\n",
    "    vold_thresh = 500000  # Volume in dollar threshold, helps filtering out stocks that don't really have a low volume but due to low price they have a low volume\n",
    "    time_thresh1 = datetime.now() - timedelta(days=75)  # Hit the low between 120 and 200 days ago (3 - 7 months)\n",
    "    time_thresh2 = datetime.now() - timedelta(days=200)  \n",
    "\n",
    "    df = df[df['Volume'] >= vol_thresh]\n",
    "    df = df[df['Volume$'] >= vold_thresh]\n",
    "    df = df[(df[\"Old date of low\"] < time_thresh1) & (df[\"Old date of low\"] > time_thresh2)]  # Old doh (last support) is between 90 to 200 days'\n",
    "    df = df[df[\"Old date of low\"] != df[\"Date of low\"]]\n",
    "    \n",
    "    # return df.sort_values(by='% to 52wk', ascending=True)\n",
    "    return df.sort_values(by='Date of low', ascending=True)"
   ]
  },
  {
   "cell_type": "code",
   "execution_count": 7,
   "id": "4cf16196-5bd1-432d-a573-c19cf7e9097d",
   "metadata": {},
   "outputs": [
    {
     "data": {
      "text/html": [
       "<div>\n",
       "<style scoped>\n",
       "    .dataframe tbody tr th:only-of-type {\n",
       "        vertical-align: middle;\n",
       "    }\n",
       "\n",
       "    .dataframe tbody tr th {\n",
       "        vertical-align: top;\n",
       "    }\n",
       "\n",
       "    .dataframe thead th {\n",
       "        text-align: right;\n",
       "    }\n",
       "</style>\n",
       "<table border=\"1\" class=\"dataframe\">\n",
       "  <thead>\n",
       "    <tr style=\"text-align: right;\">\n",
       "      <th></th>\n",
       "      <th>Close</th>\n",
       "      <th>52wk Low</th>\n",
       "      <th>% to 52wk</th>\n",
       "      <th>Volume</th>\n",
       "      <th>Date of low</th>\n",
       "      <th>Old date of low</th>\n",
       "      <th>Volume$</th>\n",
       "    </tr>\n",
       "  </thead>\n",
       "  <tbody>\n",
       "    <tr>\n",
       "      <th>AHT</th>\n",
       "      <td>2.68</td>\n",
       "      <td>2.58</td>\n",
       "      <td>-3.88</td>\n",
       "      <td>344,800.00</td>\n",
       "      <td>2023-08-22</td>\n",
       "      <td>2023-03-24</td>\n",
       "      <td>924,064.02</td>\n",
       "    </tr>\n",
       "    <tr>\n",
       "      <th>LC</th>\n",
       "      <td>6.85</td>\n",
       "      <td>6.23</td>\n",
       "      <td>-9.95</td>\n",
       "      <td>1,428,700.00</td>\n",
       "      <td>2023-08-22</td>\n",
       "      <td>2023-05-04</td>\n",
       "      <td>9,786,594.86</td>\n",
       "    </tr>\n",
       "    <tr>\n",
       "      <th>SHBI</th>\n",
       "      <td>10.83</td>\n",
       "      <td>10.61</td>\n",
       "      <td>-2.07</td>\n",
       "      <td>239,900.00</td>\n",
       "      <td>2023-08-22</td>\n",
       "      <td>2023-05-12</td>\n",
       "      <td>2,598,116.98</td>\n",
       "    </tr>\n",
       "    <tr>\n",
       "      <th>AROW</th>\n",
       "      <td>17.58</td>\n",
       "      <td>16.88</td>\n",
       "      <td>-4.15</td>\n",
       "      <td>97,200.00</td>\n",
       "      <td>2023-08-23</td>\n",
       "      <td>2023-06-01</td>\n",
       "      <td>1,708,775.99</td>\n",
       "    </tr>\n",
       "    <tr>\n",
       "      <th>PTON</th>\n",
       "      <td>5.82</td>\n",
       "      <td>5.05</td>\n",
       "      <td>-15.25</td>\n",
       "      <td>8,151,200.00</td>\n",
       "      <td>2023-08-23</td>\n",
       "      <td>2023-05-12</td>\n",
       "      <td>47,439,985.40</td>\n",
       "    </tr>\n",
       "    <tr>\n",
       "      <th>...</th>\n",
       "      <td>...</td>\n",
       "      <td>...</td>\n",
       "      <td>...</td>\n",
       "      <td>...</td>\n",
       "      <td>...</td>\n",
       "      <td>...</td>\n",
       "      <td>...</td>\n",
       "    </tr>\n",
       "    <tr>\n",
       "      <th>NXST</th>\n",
       "      <td>133.65</td>\n",
       "      <td>133.32</td>\n",
       "      <td>-0.25</td>\n",
       "      <td>1,131,200.00</td>\n",
       "      <td>2023-09-07</td>\n",
       "      <td>2023-05-31</td>\n",
       "      <td>151,184,873.10</td>\n",
       "    </tr>\n",
       "    <tr>\n",
       "      <th>DG</th>\n",
       "      <td>123.72</td>\n",
       "      <td>123.31</td>\n",
       "      <td>-0.33</td>\n",
       "      <td>5,281,400.00</td>\n",
       "      <td>2023-09-07</td>\n",
       "      <td>2023-06-12</td>\n",
       "      <td>653,414,814.45</td>\n",
       "    </tr>\n",
       "    <tr>\n",
       "      <th>OPI</th>\n",
       "      <td>5.85</td>\n",
       "      <td>5.81</td>\n",
       "      <td>-0.69</td>\n",
       "      <td>2,365,600.00</td>\n",
       "      <td>2023-09-07</td>\n",
       "      <td>2023-05-02</td>\n",
       "      <td>13,838,759.77</td>\n",
       "    </tr>\n",
       "    <tr>\n",
       "      <th>EDBL</th>\n",
       "      <td>0.89</td>\n",
       "      <td>0.77</td>\n",
       "      <td>-15.89</td>\n",
       "      <td>4,558,500.00</td>\n",
       "      <td>2023-09-07</td>\n",
       "      <td>2023-06-20</td>\n",
       "      <td>4,057,064.93</td>\n",
       "    </tr>\n",
       "    <tr>\n",
       "      <th>WTER</th>\n",
       "      <td>0.36</td>\n",
       "      <td>0.31</td>\n",
       "      <td>-16.13</td>\n",
       "      <td>1,856,000.00</td>\n",
       "      <td>2023-09-07</td>\n",
       "      <td>2023-04-26</td>\n",
       "      <td>668,160.03</td>\n",
       "    </tr>\n",
       "  </tbody>\n",
       "</table>\n",
       "<p>84 rows × 7 columns</p>\n",
       "</div>"
      ],
      "text/plain": [
       "      Close  52wk Low  % to 52wk       Volume Date of low Old date of low  \\\n",
       "AHT    2.68      2.58      -3.88   344,800.00  2023-08-22      2023-03-24   \n",
       "LC     6.85      6.23      -9.95 1,428,700.00  2023-08-22      2023-05-04   \n",
       "SHBI  10.83     10.61      -2.07   239,900.00  2023-08-22      2023-05-12   \n",
       "AROW  17.58     16.88      -4.15    97,200.00  2023-08-23      2023-06-01   \n",
       "PTON   5.82      5.05     -15.25 8,151,200.00  2023-08-23      2023-05-12   \n",
       "...     ...       ...        ...          ...         ...             ...   \n",
       "NXST 133.65    133.32      -0.25 1,131,200.00  2023-09-07      2023-05-31   \n",
       "DG   123.72    123.31      -0.33 5,281,400.00  2023-09-07      2023-06-12   \n",
       "OPI    5.85      5.81      -0.69 2,365,600.00  2023-09-07      2023-05-02   \n",
       "EDBL   0.89      0.77     -15.89 4,558,500.00  2023-09-07      2023-06-20   \n",
       "WTER   0.36      0.31     -16.13 1,856,000.00  2023-09-07      2023-04-26   \n",
       "\n",
       "            Volume$  \n",
       "AHT      924,064.02  \n",
       "LC     9,786,594.86  \n",
       "SHBI   2,598,116.98  \n",
       "AROW   1,708,775.99  \n",
       "PTON  47,439,985.40  \n",
       "...             ...  \n",
       "NXST 151,184,873.10  \n",
       "DG   653,414,814.45  \n",
       "OPI   13,838,759.77  \n",
       "EDBL   4,057,064.93  \n",
       "WTER     668,160.03  \n",
       "\n",
       "[84 rows x 7 columns]"
      ]
     },
     "execution_count": 7,
     "metadata": {},
     "output_type": "execute_result"
    }
   ],
   "source": [
    "full_df = parse_df_low(data, 12)\n",
    "cop = full_df.copy()\n",
    "\n",
    "df = filter_sort_df_low(cop)\n",
    "df"
   ]
  },
  {
   "cell_type": "code",
   "execution_count": 26,
   "id": "cc925f24-70f0-4872-a487-a8d249961d9c",
   "metadata": {},
   "outputs": [
    {
     "data": {
      "text/html": [
       "<div>\n",
       "<style scoped>\n",
       "    .dataframe tbody tr th:only-of-type {\n",
       "        vertical-align: middle;\n",
       "    }\n",
       "\n",
       "    .dataframe tbody tr th {\n",
       "        vertical-align: top;\n",
       "    }\n",
       "\n",
       "    .dataframe thead th {\n",
       "        text-align: right;\n",
       "    }\n",
       "</style>\n",
       "<table border=\"1\" class=\"dataframe\">\n",
       "  <thead>\n",
       "    <tr style=\"text-align: right;\">\n",
       "      <th></th>\n",
       "      <th>A</th>\n",
       "      <th>AA</th>\n",
       "      <th>AAC</th>\n",
       "      <th>AACG</th>\n",
       "      <th>AACI</th>\n",
       "      <th>AACIU</th>\n",
       "      <th>AACIW</th>\n",
       "      <th>AACT</th>\n",
       "      <th>AADI</th>\n",
       "      <th>AAIC</th>\n",
       "      <th>...</th>\n",
       "      <th>ZUO</th>\n",
       "      <th>ZURA</th>\n",
       "      <th>ZURAW</th>\n",
       "      <th>ZVIA</th>\n",
       "      <th>ZVRA</th>\n",
       "      <th>ZVSA</th>\n",
       "      <th>ZWS</th>\n",
       "      <th>ZYME</th>\n",
       "      <th>ZYNE</th>\n",
       "      <th>ZYXI</th>\n",
       "    </tr>\n",
       "    <tr>\n",
       "      <th>Date</th>\n",
       "      <th></th>\n",
       "      <th></th>\n",
       "      <th></th>\n",
       "      <th></th>\n",
       "      <th></th>\n",
       "      <th></th>\n",
       "      <th></th>\n",
       "      <th></th>\n",
       "      <th></th>\n",
       "      <th></th>\n",
       "      <th></th>\n",
       "      <th></th>\n",
       "      <th></th>\n",
       "      <th></th>\n",
       "      <th></th>\n",
       "      <th></th>\n",
       "      <th></th>\n",
       "      <th></th>\n",
       "      <th></th>\n",
       "      <th></th>\n",
       "      <th></th>\n",
       "    </tr>\n",
       "  </thead>\n",
       "  <tbody>\n",
       "    <tr>\n",
       "      <th>2022-09-02</th>\n",
       "      <td>129.30</td>\n",
       "      <td>47.91</td>\n",
       "      <td>9.90</td>\n",
       "      <td>2.22</td>\n",
       "      <td>9.89</td>\n",
       "      <td>9.96</td>\n",
       "      <td>0.08</td>\n",
       "      <td>10.11</td>\n",
       "      <td>13.26</td>\n",
       "      <td>3.18</td>\n",
       "      <td>...</td>\n",
       "      <td>7.94</td>\n",
       "      <td>7.24</td>\n",
       "      <td>0.45</td>\n",
       "      <td>4.72</td>\n",
       "      <td>5.56</td>\n",
       "      <td>9.98</td>\n",
       "      <td>26.99</td>\n",
       "      <td>4.76</td>\n",
       "      <td>1.11</td>\n",
       "      <td>8.78</td>\n",
       "    </tr>\n",
       "    <tr>\n",
       "      <th>2022-09-06</th>\n",
       "      <td>129.30</td>\n",
       "      <td>47.91</td>\n",
       "      <td>9.90</td>\n",
       "      <td>2.22</td>\n",
       "      <td>9.89</td>\n",
       "      <td>9.96</td>\n",
       "      <td>0.08</td>\n",
       "      <td>10.11</td>\n",
       "      <td>13.26</td>\n",
       "      <td>3.18</td>\n",
       "      <td>...</td>\n",
       "      <td>7.89</td>\n",
       "      <td>7.24</td>\n",
       "      <td>0.45</td>\n",
       "      <td>4.72</td>\n",
       "      <td>5.56</td>\n",
       "      <td>9.98</td>\n",
       "      <td>26.99</td>\n",
       "      <td>4.76</td>\n",
       "      <td>1.11</td>\n",
       "      <td>8.78</td>\n",
       "    </tr>\n",
       "    <tr>\n",
       "      <th>2022-09-07</th>\n",
       "      <td>131.43</td>\n",
       "      <td>47.66</td>\n",
       "      <td>9.92</td>\n",
       "      <td>2.16</td>\n",
       "      <td>9.89</td>\n",
       "      <td>9.96</td>\n",
       "      <td>0.08</td>\n",
       "      <td>10.11</td>\n",
       "      <td>13.07</td>\n",
       "      <td>3.18</td>\n",
       "      <td>...</td>\n",
       "      <td>7.85</td>\n",
       "      <td>7.24</td>\n",
       "      <td>0.45</td>\n",
       "      <td>4.89</td>\n",
       "      <td>5.65</td>\n",
       "      <td>9.98</td>\n",
       "      <td>27.65</td>\n",
       "      <td>4.65</td>\n",
       "      <td>1.12</td>\n",
       "      <td>9.17</td>\n",
       "    </tr>\n",
       "    <tr>\n",
       "      <th>2022-09-08</th>\n",
       "      <td>135.19</td>\n",
       "      <td>48.86</td>\n",
       "      <td>9.92</td>\n",
       "      <td>2.15</td>\n",
       "      <td>9.89</td>\n",
       "      <td>9.96</td>\n",
       "      <td>0.08</td>\n",
       "      <td>10.11</td>\n",
       "      <td>12.87</td>\n",
       "      <td>3.20</td>\n",
       "      <td>...</td>\n",
       "      <td>7.92</td>\n",
       "      <td>7.24</td>\n",
       "      <td>0.45</td>\n",
       "      <td>5.05</td>\n",
       "      <td>5.93</td>\n",
       "      <td>9.98</td>\n",
       "      <td>27.98</td>\n",
       "      <td>5.07</td>\n",
       "      <td>1.18</td>\n",
       "      <td>9.30</td>\n",
       "    </tr>\n",
       "    <tr>\n",
       "      <th>2022-09-09</th>\n",
       "      <td>137.63</td>\n",
       "      <td>52.62</td>\n",
       "      <td>9.91</td>\n",
       "      <td>2.04</td>\n",
       "      <td>9.89</td>\n",
       "      <td>9.96</td>\n",
       "      <td>0.08</td>\n",
       "      <td>10.11</td>\n",
       "      <td>12.54</td>\n",
       "      <td>3.19</td>\n",
       "      <td>...</td>\n",
       "      <td>8.33</td>\n",
       "      <td>7.24</td>\n",
       "      <td>0.45</td>\n",
       "      <td>4.94</td>\n",
       "      <td>6.18</td>\n",
       "      <td>10.00</td>\n",
       "      <td>28.55</td>\n",
       "      <td>5.22</td>\n",
       "      <td>1.19</td>\n",
       "      <td>9.42</td>\n",
       "    </tr>\n",
       "    <tr>\n",
       "      <th>...</th>\n",
       "      <td>...</td>\n",
       "      <td>...</td>\n",
       "      <td>...</td>\n",
       "      <td>...</td>\n",
       "      <td>...</td>\n",
       "      <td>...</td>\n",
       "      <td>...</td>\n",
       "      <td>...</td>\n",
       "      <td>...</td>\n",
       "      <td>...</td>\n",
       "      <td>...</td>\n",
       "      <td>...</td>\n",
       "      <td>...</td>\n",
       "      <td>...</td>\n",
       "      <td>...</td>\n",
       "      <td>...</td>\n",
       "      <td>...</td>\n",
       "      <td>...</td>\n",
       "      <td>...</td>\n",
       "      <td>...</td>\n",
       "      <td>...</td>\n",
       "    </tr>\n",
       "    <tr>\n",
       "      <th>2023-08-28</th>\n",
       "      <td>119.92</td>\n",
       "      <td>28.48</td>\n",
       "      <td>10.69</td>\n",
       "      <td>1.21</td>\n",
       "      <td>10.61</td>\n",
       "      <td>10.65</td>\n",
       "      <td>0.08</td>\n",
       "      <td>10.21</td>\n",
       "      <td>6.80</td>\n",
       "      <td>4.57</td>\n",
       "      <td>...</td>\n",
       "      <td>8.88</td>\n",
       "      <td>6.73</td>\n",
       "      <td>0.45</td>\n",
       "      <td>2.34</td>\n",
       "      <td>5.11</td>\n",
       "      <td>0.15</td>\n",
       "      <td>29.23</td>\n",
       "      <td>7.49</td>\n",
       "      <td>1.32</td>\n",
       "      <td>7.66</td>\n",
       "    </tr>\n",
       "    <tr>\n",
       "      <th>2023-08-29</th>\n",
       "      <td>122.02</td>\n",
       "      <td>29.61</td>\n",
       "      <td>10.69</td>\n",
       "      <td>1.24</td>\n",
       "      <td>10.61</td>\n",
       "      <td>10.65</td>\n",
       "      <td>0.08</td>\n",
       "      <td>10.21</td>\n",
       "      <td>6.71</td>\n",
       "      <td>4.62</td>\n",
       "      <td>...</td>\n",
       "      <td>8.91</td>\n",
       "      <td>6.79</td>\n",
       "      <td>0.45</td>\n",
       "      <td>2.49</td>\n",
       "      <td>5.31</td>\n",
       "      <td>0.14</td>\n",
       "      <td>29.39</td>\n",
       "      <td>7.53</td>\n",
       "      <td>1.32</td>\n",
       "      <td>7.71</td>\n",
       "    </tr>\n",
       "    <tr>\n",
       "      <th>2023-08-30</th>\n",
       "      <td>122.68</td>\n",
       "      <td>29.51</td>\n",
       "      <td>10.70</td>\n",
       "      <td>1.26</td>\n",
       "      <td>10.53</td>\n",
       "      <td>10.65</td>\n",
       "      <td>0.08</td>\n",
       "      <td>10.23</td>\n",
       "      <td>6.68</td>\n",
       "      <td>4.61</td>\n",
       "      <td>...</td>\n",
       "      <td>9.05</td>\n",
       "      <td>6.91</td>\n",
       "      <td>0.45</td>\n",
       "      <td>2.59</td>\n",
       "      <td>5.30</td>\n",
       "      <td>0.14</td>\n",
       "      <td>29.57</td>\n",
       "      <td>7.35</td>\n",
       "      <td>1.32</td>\n",
       "      <td>7.75</td>\n",
       "    </tr>\n",
       "    <tr>\n",
       "      <th>2023-08-31</th>\n",
       "      <td>121.07</td>\n",
       "      <td>30.08</td>\n",
       "      <td>10.69</td>\n",
       "      <td>1.24</td>\n",
       "      <td>10.53</td>\n",
       "      <td>10.65</td>\n",
       "      <td>0.08</td>\n",
       "      <td>10.23</td>\n",
       "      <td>6.30</td>\n",
       "      <td>4.62</td>\n",
       "      <td>...</td>\n",
       "      <td>9.11</td>\n",
       "      <td>6.88</td>\n",
       "      <td>NaN</td>\n",
       "      <td>2.57</td>\n",
       "      <td>5.07</td>\n",
       "      <td>0.14</td>\n",
       "      <td>29.62</td>\n",
       "      <td>7.24</td>\n",
       "      <td>1.33</td>\n",
       "      <td>7.70</td>\n",
       "    </tr>\n",
       "    <tr>\n",
       "      <th>2023-09-01</th>\n",
       "      <td>121.91</td>\n",
       "      <td>31.10</td>\n",
       "      <td>10.69</td>\n",
       "      <td>1.26</td>\n",
       "      <td>10.54</td>\n",
       "      <td>10.65</td>\n",
       "      <td>0.08</td>\n",
       "      <td>10.24</td>\n",
       "      <td>5.86</td>\n",
       "      <td>4.58</td>\n",
       "      <td>...</td>\n",
       "      <td>9.21</td>\n",
       "      <td>6.98</td>\n",
       "      <td>NaN</td>\n",
       "      <td>2.64</td>\n",
       "      <td>5.38</td>\n",
       "      <td>0.14</td>\n",
       "      <td>29.65</td>\n",
       "      <td>7.49</td>\n",
       "      <td>1.32</td>\n",
       "      <td>7.55</td>\n",
       "    </tr>\n",
       "  </tbody>\n",
       "</table>\n",
       "<p>251 rows × 7384 columns</p>\n",
       "</div>"
      ],
      "text/plain": [
       "                A    AA   AAC  AACG  AACI  AACIU  AACIW  AACT  AADI  AAIC  \\\n",
       "Date                                                                        \n",
       "2022-09-02 129.30 47.91  9.90  2.22  9.89   9.96   0.08 10.11 13.26  3.18   \n",
       "2022-09-06 129.30 47.91  9.90  2.22  9.89   9.96   0.08 10.11 13.26  3.18   \n",
       "2022-09-07 131.43 47.66  9.92  2.16  9.89   9.96   0.08 10.11 13.07  3.18   \n",
       "2022-09-08 135.19 48.86  9.92  2.15  9.89   9.96   0.08 10.11 12.87  3.20   \n",
       "2022-09-09 137.63 52.62  9.91  2.04  9.89   9.96   0.08 10.11 12.54  3.19   \n",
       "...           ...   ...   ...   ...   ...    ...    ...   ...   ...   ...   \n",
       "2023-08-28 119.92 28.48 10.69  1.21 10.61  10.65   0.08 10.21  6.80  4.57   \n",
       "2023-08-29 122.02 29.61 10.69  1.24 10.61  10.65   0.08 10.21  6.71  4.62   \n",
       "2023-08-30 122.68 29.51 10.70  1.26 10.53  10.65   0.08 10.23  6.68  4.61   \n",
       "2023-08-31 121.07 30.08 10.69  1.24 10.53  10.65   0.08 10.23  6.30  4.62   \n",
       "2023-09-01 121.91 31.10 10.69  1.26 10.54  10.65   0.08 10.24  5.86  4.58   \n",
       "\n",
       "            ...  ZUO  ZURA  ZURAW  ZVIA  ZVRA  ZVSA   ZWS  ZYME  ZYNE  ZYXI  \n",
       "Date        ...                                                              \n",
       "2022-09-02  ... 7.94  7.24   0.45  4.72  5.56  9.98 26.99  4.76  1.11  8.78  \n",
       "2022-09-06  ... 7.89  7.24   0.45  4.72  5.56  9.98 26.99  4.76  1.11  8.78  \n",
       "2022-09-07  ... 7.85  7.24   0.45  4.89  5.65  9.98 27.65  4.65  1.12  9.17  \n",
       "2022-09-08  ... 7.92  7.24   0.45  5.05  5.93  9.98 27.98  5.07  1.18  9.30  \n",
       "2022-09-09  ... 8.33  7.24   0.45  4.94  6.18 10.00 28.55  5.22  1.19  9.42  \n",
       "...         ...  ...   ...    ...   ...   ...   ...   ...   ...   ...   ...  \n",
       "2023-08-28  ... 8.88  6.73   0.45  2.34  5.11  0.15 29.23  7.49  1.32  7.66  \n",
       "2023-08-29  ... 8.91  6.79   0.45  2.49  5.31  0.14 29.39  7.53  1.32  7.71  \n",
       "2023-08-30  ... 9.05  6.91   0.45  2.59  5.30  0.14 29.57  7.35  1.32  7.75  \n",
       "2023-08-31  ... 9.11  6.88    NaN  2.57  5.07  0.14 29.62  7.24  1.33  7.70  \n",
       "2023-09-01  ... 9.21  6.98    NaN  2.64  5.38  0.14 29.65  7.49  1.32  7.55  \n",
       "\n",
       "[251 rows x 7384 columns]"
      ]
     },
     "execution_count": 26,
     "metadata": {},
     "output_type": "execute_result"
    }
   ],
   "source": [
    "copcop = data.copy()\n",
    "copcop = copcop.bfill()\n",
    "copcop[\"Close\"]"
   ]
  },
  {
   "cell_type": "code",
   "execution_count": 6,
   "id": "595674db-961b-4abe-bf39-dd59e2216e4f",
   "metadata": {},
   "outputs": [
    {
     "name": "stdout",
     "output_type": "stream",
     "text": [
      "[*********************100%***********************]  500 of 500 completed\n",
      "\n",
      "43 Failed downloads:\n",
      "- AENTW: 1d data not available for startTime=-2208994789 and endTime=1693852610. Only 100 years worth of day granularity data are allowed to be fetched per request.\n",
      "- ADERW: 1d data not available for startTime=-2208994789 and endTime=1693852611. Only 100 years worth of day granularity data are allowed to be fetched per request.\n",
      "- AGILW: 1d data not available for startTime=-2208994789 and endTime=1693852612. Only 100 years worth of day granularity data are allowed to be fetched per request.\n",
      "- AACIW: 1d data not available for startTime=-2208994789 and endTime=1693852613. Only 100 years worth of day granularity data are allowed to be fetched per request.\n",
      "- ADSEW: 1d data not available for startTime=-2208994789 and endTime=1693852613. Only 100 years worth of day granularity data are allowed to be fetched per request.\n",
      "- APACW: 1d data not available for startTime=-2208994789 and endTime=1693852614. Only 100 years worth of day granularity data are allowed to be fetched per request.\n",
      "- ADOCW: 1d data not available for startTime=-2208994789 and endTime=1693852615. Only 100 years worth of day granularity data are allowed to be fetched per request.\n",
      "- ALVOW: 1d data not available for startTime=-2208994789 and endTime=1693852616. Only 100 years worth of day granularity data are allowed to be fetched per request.\n",
      "- ACAHW: 1d data not available for startTime=-2208994789 and endTime=1693852617. Only 100 years worth of day granularity data are allowed to be fetched per request.\n",
      "- ACACW: 1d data not available for startTime=-2208994789 and endTime=1693852617. Only 100 years worth of day granularity data are allowed to be fetched per request.\n",
      "- ADOCR: 1d data not available for startTime=-2208994789 and endTime=1693852618. Only 100 years worth of day granularity data are allowed to be fetched per request.\n",
      "- AOGOW: 1d data not available for startTime=-2208994789 and endTime=1693852619. Only 100 years worth of day granularity data are allowed to be fetched per request.\n",
      "- ALSAW: 1d data not available for startTime=-2208994789 and endTime=1693852619. Only 100 years worth of day granularity data are allowed to be fetched per request.\n",
      "- ACONW: 1d data not available for startTime=-2208994789 and endTime=1693852620. Only 100 years worth of day granularity data are allowed to be fetched per request.\n",
      "- ACABW: 1d data not available for startTime=-2208994789 and endTime=1693852621. Only 100 years worth of day granularity data are allowed to be fetched per request.\n",
      "- ALSAR: 1d data not available for startTime=-2208994789 and endTime=1693852622. Only 100 years worth of day granularity data are allowed to be fetched per request.\n",
      "- ADTHW: 1d data not available for startTime=-2208994789 and endTime=1693852622. Only 100 years worth of day granularity data are allowed to be fetched per request.\n",
      "- APTMW: 1d data not available for startTime=-2208994789 and endTime=1693852622. Only 100 years worth of day granularity data are allowed to be fetched per request.\n",
      "- AIMDW: 1d data not available for startTime=-2208994789 and endTime=1693852624. Only 100 years worth of day granularity data are allowed to be fetched per request.\n",
      "- AFARW: 1d data not available for startTime=-2208994789 and endTime=1693852624. Only 100 years worth of day granularity data are allowed to be fetched per request.\n",
      "- AQUNR: 1d data not available for startTime=-2208994789 and endTime=1693852624. Only 100 years worth of day granularity data are allowed to be fetched per request.\n",
      "- AIBBR: 1d data not available for startTime=-2208994789 and endTime=1693852625. Only 100 years worth of day granularity data are allowed to be fetched per request.\n",
      "- APCXW: 1d data not available for startTime=-2208994789 and endTime=1693852625. Only 100 years worth of day granularity data are allowed to be fetched per request.\n",
      "- ALORW: 1d data not available for startTime=-2208994789 and endTime=1693852627. Only 100 years worth of day granularity data are allowed to be fetched per request.\n",
      "- ACDCW: 1d data not available for startTime=-2208994789 and endTime=1693852628. Only 100 years worth of day granularity data are allowed to be fetched per request.\n",
      "- ANZUW: 1d data not available for startTime=-2208994789 and endTime=1693852628. Only 100 years worth of day granularity data are allowed to be fetched per request.\n",
      "- ACBAW: 1d data not available for startTime=-2208994789 and endTime=1693852629. Only 100 years worth of day granularity data are allowed to be fetched per request.\n",
      "- AGRIW: 1d data not available for startTime=-2208994789 and endTime=1693852631. Only 100 years worth of day granularity data are allowed to be fetched per request.\n",
      "- ABLVW: 1d data not available for startTime=-2208994789 and endTime=1693852631. Only 100 years worth of day granularity data are allowed to be fetched per request.\n",
      "- ADVWW: 1d data not available for startTime=-2208994789 and endTime=1693852631. Only 100 years worth of day granularity data are allowed to be fetched per request.\n",
      "- ACAXW: 1d data not available for startTime=-2208994789 and endTime=1693852632. Only 100 years worth of day granularity data are allowed to be fetched per request.\n",
      "- ARBEW: 1d data not available for startTime=-2208994789 and endTime=1693852632. Only 100 years worth of day granularity data are allowed to be fetched per request.\n",
      "- APXIW: 1d data not available for startTime=-2208994789 and endTime=1693852633. Only 100 years worth of day granularity data are allowed to be fetched per request.\n",
      "- ALCYW: 1d data not available for startTime=-2208994789 and endTime=1693852633. Only 100 years worth of day granularity data are allowed to be fetched per request.\n",
      "- ANGHW: 1d data not available for startTime=-2208994789 and endTime=1693852634. Only 100 years worth of day granularity data are allowed to be fetched per request.\n",
      "- AIMAW: 1d data not available for startTime=-2208994789 and endTime=1693852634. Only 100 years worth of day granularity data are allowed to be fetched per request.\n",
      "- AMAOW: 1d data not available for startTime=-2208994789 and endTime=1693852635. Only 100 years worth of day granularity data are allowed to be fetched per request.\n",
      "- AFRIW: 1d data not available for startTime=-2208994789 and endTime=1693852636. Only 100 years worth of day granularity data are allowed to be fetched per request.\n",
      "- ACAXR: 1d data not available for startTime=-2208994789 and endTime=1693852636. Only 100 years worth of day granularity data are allowed to be fetched per request.\n",
      "- AGBAW: 1d data not available for startTime=-2208994789 and endTime=1693852636. Only 100 years worth of day granularity data are allowed to be fetched per request.\n",
      "- ABLLW: 1d data not available for startTime=-2208994789 and endTime=1693852637. Only 100 years worth of day granularity data are allowed to be fetched per request.\n",
      "- ADNWW: 1d data not available for startTime=-2208994789 and endTime=1693852638. Only 100 years worth of day granularity data are allowed to be fetched per request.\n",
      "- AEAEW: 1d data not available for startTime=-2208994789 and endTime=1693852638. Only 100 years worth of day granularity data are allowed to be fetched per request.\n"
     ]
    }
   ],
   "source": [
    "test = get_data(get_all_tickers()[0:500], \"max\")\n",
    "test_cop = test.copy()\n"
   ]
  },
  {
   "cell_type": "code",
   "execution_count": 11,
   "id": "dd9add20-8aab-4e9e-be04-41008bb2437a",
   "metadata": {},
   "outputs": [
    {
     "data": {
      "text/plain": [
       "AFGC    1.32\n",
       "ABLV    1.32\n",
       "AAL     1.31\n",
       "AKR     1.31\n",
       "ACV     1.28\n",
       "ABR     1.27\n",
       "ADSE    1.26\n",
       "AEFC    1.23\n",
       "AIRTP   1.23\n",
       "ADNT    1.22\n",
       "ALIM    1.22\n",
       "APLE    1.20\n",
       "ACGLO   1.17\n",
       "AFGD    1.15\n",
       "AGNCP   1.15\n",
       "ALVO    1.13\n",
       "AIRC    1.12\n",
       "AGIO    1.11\n",
       "AIO     1.09\n",
       "ABNB    1.09\n",
       "ACAQ    1.07\n",
       "AMUB    1.06\n",
       "ABL     1.06\n",
       "AGR     1.05\n",
       "AQNB    1.05\n",
       "AGNCO   1.05\n",
       "AAIN    1.05\n",
       "AGNCM   1.04\n",
       "AGNCL   1.04\n",
       "AJXA    1.03\n",
       "dtype: float64"
      ]
     },
     "execution_count": 11,
     "metadata": {},
     "output_type": "execute_result"
    }
   ],
   "source": [
    "test_cop = test_cop.bfill()\n",
    "(test_cop[\"Close\"].iloc[0] / test_cop[\"Close\"].iloc[-1]).dropna().sort_values(ascending=False)[200:230]"
   ]
  },
  {
   "cell_type": "code",
   "execution_count": 7,
   "id": "201eeed0-dbe4-4017-8576-26ef34405fee",
   "metadata": {},
   "outputs": [
    {
     "ename": "ModuleNotFoundError",
     "evalue": "No module named 'tensorflow'",
     "output_type": "error",
     "traceback": [
      "\u001b[1;31m---------------------------------------------------------------------------\u001b[0m",
      "\u001b[1;31mModuleNotFoundError\u001b[0m                       Traceback (most recent call last)",
      "Cell \u001b[1;32mIn[7], line 1\u001b[0m\n\u001b[1;32m----> 1\u001b[0m \u001b[38;5;28;01mimport\u001b[39;00m \u001b[38;5;21;01mtensorflow\u001b[39;00m \u001b[38;5;28;01mas\u001b[39;00m \u001b[38;5;21;01mtf\u001b[39;00m\n\u001b[0;32m      3\u001b[0m \u001b[38;5;28;01mif\u001b[39;00m tf\u001b[38;5;241m.\u001b[39mconfig\u001b[38;5;241m.\u001b[39mlist_physical_devices(\u001b[38;5;124m'\u001b[39m\u001b[38;5;124mGPU\u001b[39m\u001b[38;5;124m'\u001b[39m):\n\u001b[0;32m      4\u001b[0m     \u001b[38;5;28mprint\u001b[39m(\u001b[38;5;124m\"\u001b[39m\u001b[38;5;124mGPU is available\u001b[39m\u001b[38;5;124m\"\u001b[39m)\n",
      "\u001b[1;31mModuleNotFoundError\u001b[0m: No module named 'tensorflow'"
     ]
    }
   ],
   "source": [
    "import tensorflow as tf\n",
    "\n",
    "if tf.config.list_physical_devices('GPU'):\n",
    "    print(\"GPU is available\")\n",
    "else:\n",
    "    print(\"GPU not available\")\n"
   ]
  },
  {
   "cell_type": "code",
   "execution_count": 8,
   "id": "07a42de2-9c53-47af-afa9-27c65eb44aa4",
   "metadata": {},
   "outputs": [
    {
     "ename": "ModuleNotFoundError",
     "evalue": "No module named 'tensorflow'",
     "output_type": "error",
     "traceback": [
      "\u001b[1;31m---------------------------------------------------------------------------\u001b[0m",
      "\u001b[1;31mModuleNotFoundError\u001b[0m                       Traceback (most recent call last)",
      "Cell \u001b[1;32mIn[8], line 1\u001b[0m\n\u001b[1;32m----> 1\u001b[0m \u001b[38;5;28;01mfrom\u001b[39;00m \u001b[38;5;21;01mtensorflow\u001b[39;00m\u001b[38;5;21;01m.\u001b[39;00m\u001b[38;5;21;01mpython\u001b[39;00m\u001b[38;5;21;01m.\u001b[39;00m\u001b[38;5;21;01mclient\u001b[39;00m \u001b[38;5;28;01mimport\u001b[39;00m device_lib\n\u001b[0;32m      2\u001b[0m device_lib\u001b[38;5;241m.\u001b[39mlist_local_devices()\n",
      "\u001b[1;31mModuleNotFoundError\u001b[0m: No module named 'tensorflow'"
     ]
    }
   ],
   "source": [
    "from tensorflow.python.client import device_lib\n",
    "device_lib.list_local_devices()"
   ]
  },
  {
   "cell_type": "code",
   "execution_count": 13,
   "id": "a06c2176-d931-4522-adfa-c3f61e8b96ef",
   "metadata": {},
   "outputs": [
    {
     "ename": "TypeError",
     "evalue": "read_csv() takes 1 positional argument but 2 positional arguments (and 3 keyword-only arguments) were given",
     "output_type": "error",
     "traceback": [
      "\u001b[1;31m---------------------------------------------------------------------------\u001b[0m",
      "\u001b[1;31mTypeError\u001b[0m                                 Traceback (most recent call last)",
      "Cell \u001b[1;32mIn[13], line 2\u001b[0m\n\u001b[0;32m      1\u001b[0m \u001b[38;5;28;01mfrom\u001b[39;00m \u001b[38;5;21;01mpandas_datareader\u001b[39;00m\u001b[38;5;21;01m.\u001b[39;00m\u001b[38;5;21;01mnasdaq_trader\u001b[39;00m \u001b[38;5;28;01mimport\u001b[39;00m get_nasdaq_symbols\n\u001b[1;32m----> 2\u001b[0m \u001b[43mget_nasdaq_symbols\u001b[49m\u001b[43m(\u001b[49m\u001b[43m)\u001b[49m\n",
      "File \u001b[1;32m~\\AppData\\Local\\Programs\\Python\\Python311\\Lib\\site-packages\\pandas_datareader\\nasdaq_trader.py:107\u001b[0m, in \u001b[0;36mget_nasdaq_symbols\u001b[1;34m(retry_count, timeout, pause)\u001b[0m\n\u001b[0;32m    105\u001b[0m \u001b[38;5;28;01mwhile\u001b[39;00m retry_count \u001b[38;5;241m>\u001b[39m \u001b[38;5;241m0\u001b[39m:\n\u001b[0;32m    106\u001b[0m     \u001b[38;5;28;01mtry\u001b[39;00m:\n\u001b[1;32m--> 107\u001b[0m         _ticker_cache \u001b[38;5;241m=\u001b[39m \u001b[43m_download_nasdaq_symbols\u001b[49m\u001b[43m(\u001b[49m\u001b[43mtimeout\u001b[49m\u001b[38;5;241;43m=\u001b[39;49m\u001b[43mtimeout\u001b[49m\u001b[43m)\u001b[49m\n\u001b[0;32m    108\u001b[0m         retry_count \u001b[38;5;241m=\u001b[39m \u001b[38;5;241m-\u001b[39m\u001b[38;5;241m1\u001b[39m\n\u001b[0;32m    109\u001b[0m     \u001b[38;5;28;01mexcept\u001b[39;00m RemoteDataError:\n\u001b[0;32m    110\u001b[0m         \u001b[38;5;66;03m# retry on any exception\u001b[39;00m\n",
      "File \u001b[1;32m~\\AppData\\Local\\Programs\\Python\\Python311\\Lib\\site-packages\\pandas_datareader\\nasdaq_trader.py:70\u001b[0m, in \u001b[0;36m_download_nasdaq_symbols\u001b[1;34m(timeout)\u001b[0m\n\u001b[0;32m     65\u001b[0m \u001b[38;5;66;03m# For pandas >= 0.20.0, the Python parser issues a warning if\u001b[39;00m\n\u001b[0;32m     66\u001b[0m \u001b[38;5;66;03m# both a converter and dtype are specified for the same column.\u001b[39;00m\n\u001b[0;32m     67\u001b[0m \u001b[38;5;66;03m# However, this measure is probably temporary until the read_csv\u001b[39;00m\n\u001b[0;32m     68\u001b[0m \u001b[38;5;66;03m# behavior is better formalized.\u001b[39;00m\n\u001b[0;32m     69\u001b[0m \u001b[38;5;28;01mwith\u001b[39;00m warnings\u001b[38;5;241m.\u001b[39mcatch_warnings(record\u001b[38;5;241m=\u001b[39m\u001b[38;5;28;01mTrue\u001b[39;00m):\n\u001b[1;32m---> 70\u001b[0m     data \u001b[38;5;241m=\u001b[39m \u001b[43mread_csv\u001b[49m\u001b[43m(\u001b[49m\n\u001b[0;32m     71\u001b[0m \u001b[43m        \u001b[49m\u001b[43mStringIO\u001b[49m\u001b[43m(\u001b[49m\u001b[38;5;124;43m\"\u001b[39;49m\u001b[38;5;130;43;01m\\n\u001b[39;49;00m\u001b[38;5;124;43m\"\u001b[39;49m\u001b[38;5;241;43m.\u001b[39;49m\u001b[43mjoin\u001b[49m\u001b[43m(\u001b[49m\u001b[43mlines\u001b[49m\u001b[43m[\u001b[49m\u001b[43m:\u001b[49m\u001b[38;5;241;43m-\u001b[39;49m\u001b[38;5;241;43m1\u001b[39;49m\u001b[43m]\u001b[49m\u001b[43m)\u001b[49m\u001b[43m)\u001b[49m\u001b[43m,\u001b[49m\n\u001b[0;32m     72\u001b[0m \u001b[43m        \u001b[49m\u001b[38;5;124;43m\"\u001b[39;49m\u001b[38;5;124;43m|\u001b[39;49m\u001b[38;5;124;43m\"\u001b[39;49m\u001b[43m,\u001b[49m\n\u001b[0;32m     73\u001b[0m \u001b[43m        \u001b[49m\u001b[43mdtype\u001b[49m\u001b[38;5;241;43m=\u001b[39;49m\u001b[43m_TICKER_DTYPE\u001b[49m\u001b[43m,\u001b[49m\n\u001b[0;32m     74\u001b[0m \u001b[43m        \u001b[49m\u001b[43mconverters\u001b[49m\u001b[38;5;241;43m=\u001b[39;49m\u001b[43mconverter_map\u001b[49m\u001b[43m,\u001b[49m\n\u001b[0;32m     75\u001b[0m \u001b[43m        \u001b[49m\u001b[43mindex_col\u001b[49m\u001b[38;5;241;43m=\u001b[39;49m\u001b[38;5;241;43m1\u001b[39;49m\u001b[43m,\u001b[49m\n\u001b[0;32m     76\u001b[0m \u001b[43m    \u001b[49m\u001b[43m)\u001b[49m\n\u001b[0;32m     78\u001b[0m \u001b[38;5;66;03m# Properly cast enumerations\u001b[39;00m\n\u001b[0;32m     79\u001b[0m \u001b[38;5;28;01mfor\u001b[39;00m cat \u001b[38;5;129;01min\u001b[39;00m _CATEGORICAL:\n",
      "\u001b[1;31mTypeError\u001b[0m: read_csv() takes 1 positional argument but 2 positional arguments (and 3 keyword-only arguments) were given"
     ]
    }
   ],
   "source": [
    "from pandas_datareader.nasdaq_trader import get_nasdaq_symbols\n",
    "get_nasdaq_symbols()"
   ]
  },
  {
   "cell_type": "code",
   "execution_count": null,
   "id": "7ef49f70-abe1-4f8d-ab55-9716bbd284ec",
   "metadata": {},
   "outputs": [],
   "source": []
  }
 ],
 "metadata": {
  "kernelspec": {
   "display_name": "Python 3 (ipykernel)",
   "language": "python",
   "name": "python3"
  },
  "language_info": {
   "codemirror_mode": {
    "name": "ipython",
    "version": 3
   },
   "file_extension": ".py",
   "mimetype": "text/x-python",
   "name": "python",
   "nbconvert_exporter": "python",
   "pygments_lexer": "ipython3",
   "version": "3.11.5"
  }
 },
 "nbformat": 4,
 "nbformat_minor": 5
}
