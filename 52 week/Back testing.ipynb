{
 "cells": [
  {
   "cell_type": "code",
   "execution_count": 87,
   "id": "8f0b4f34-f49b-43dc-be1f-3df1db611786",
   "metadata": {},
   "outputs": [],
   "source": [
    "from datetime import datetime, timedelta\n",
    "from IPython.display import clear_output\n",
    "import pandas_datareader.data as web\n",
    "import matplotlib.pyplot as plt\n",
    "import yfinance as yf\n",
    "import pandas as pd\n",
    "import numpy as np\n",
    "import time\n",
    "\n",
    "pd.options.display.float_format = '{:,.2f}'.format"
   ]
  },
  {
   "cell_type": "markdown",
   "id": "eec524a7-0526-4f4b-b002-d4d7a0242916",
   "metadata": {
    "tags": []
   },
   "source": [
    "# Downloads tickers and formatting data"
   ]
  },
  {
   "cell_type": "markdown",
   "id": "64df9979-5c30-46d9-b7f3-d3b5f883c98b",
   "metadata": {},
   "source": [
    "### Fetching tickers from nasdaq and filtering out ETFs are stocks that we have a problem getting their prices"
   ]
  },
  {
   "cell_type": "code",
   "execution_count": 2,
   "id": "db20923b-1b67-447c-ae86-9808c76eabe4",
   "metadata": {},
   "outputs": [],
   "source": [
    "def get_all_tickers(etf=False):\n",
    "    # Get a list of all available tickers from Yahoo Finance\n",
    "    all_tickers = web.get_nasdaq_symbols()\n",
    "    all_tickers = all_tickers[~all_tickers[\"Test Issue\"]]  # Filter out stocks that we can't fetch their data for some reason\n",
    "    \n",
    "    if not etf:\n",
    "        all_tickers = all_tickers[~all_tickers[\"ETF\"]]  # Filter out ETFs\n",
    "    tickers = all_tickers.index.tolist()\n",
    "    return [str(ticker) for ticker in tickers if str(ticker).isalpha()]"
   ]
  },
  {
   "cell_type": "markdown",
   "id": "33d1f06e-4498-470d-bbac-e4b919aa9eec",
   "metadata": {},
   "source": [
    "### Downloads data"
   ]
  },
  {
   "cell_type": "code",
   "execution_count": 37,
   "id": "e3bfa793-c7a4-437c-a668-0cdde3ed154d",
   "metadata": {},
   "outputs": [],
   "source": [
    "def get_data(tickers_list):\n",
    "    return yf.download(tickers_list, period=\"max\")"
   ]
  },
  {
   "cell_type": "code",
   "execution_count": 38,
   "id": "072a55d2-0e81-4f72-a77e-df25bb700f56",
   "metadata": {},
   "outputs": [
    {
     "name": "stdout",
     "output_type": "stream",
     "text": [
      "[*********************100%***********************]  1 of 1 completed\n",
      "0.9495415687561035\n"
     ]
    }
   ],
   "source": [
    "s = time.time()\n",
    "# data = get_data(get_all_tickers())\n",
    "data = get_data(\"BA\")\n",
    "data_cop = data.copy()\n",
    "print(time.time() - s)"
   ]
  },
  {
   "cell_type": "markdown",
   "id": "8571a98c-61db-4b35-8161-4e6d9d305c4d",
   "metadata": {},
   "source": [
    "### Strategy and more shit"
   ]
  },
  {
   "cell_type": "markdown",
   "id": "2aacc959-febf-4f12-ac8f-4d8c25464e8d",
   "metadata": {},
   "source": [
    "### Parsing initial dataframe"
   ]
  },
  {
   "cell_type": "code",
   "execution_count": 139,
   "id": "c27b04c2-eaaa-45b4-a403-620c1c23747d",
   "metadata": {
    "tags": []
   },
   "outputs": [],
   "source": [
    "def parse_data(data):\n",
    "    df = data.copy()\n",
    "    df.drop(columns=[\"Low\", \"Open\", \"Adj Close\"], inplace=True)\n",
    "    window_size = 252\n",
    "    df[\"High52\"] = df[\"High\"].rolling(window_size).max()\n",
    "    df[\"doh\"] = np.datetime64(\"1700-01-01\")\n",
    "    df[\"Strategy\"] = 0\n",
    "    df[\"pos\"] = np.nan  # Piece of shit, or position\n",
    "    # Iterate through the DataFrame to find the dates of break (dob)\n",
    "    for i in range(window_size, len(df)):\n",
    "        if df['High52'][i] != df['High52'][i-1]:\n",
    "            df.loc[df.index[i], 'doh'] = df.index[i]\n",
    "        else:\n",
    "            df.loc[df.index[i], 'doh'] = df[\"doh\"][i-1]\n",
    "    return df"
   ]
  },
  {
   "cell_type": "code",
   "execution_count": 140,
   "id": "6bd251d2-2b9d-4cd4-8ef7-cdebdb5074b9",
   "metadata": {},
   "outputs": [
    {
     "ename": "TypeError",
     "evalue": "Invalid comparison between dtype=timedelta64[ns] and datetime",
     "output_type": "error",
     "traceback": [
      "\u001b[1;31m---------------------------------------------------------------------------\u001b[0m",
      "\u001b[1;31mInvalidComparison\u001b[0m                         Traceback (most recent call last)",
      "File \u001b[1;32mC:\\Python\\lib\\site-packages\\pandas\\core\\arrays\\datetimelike.py:1008\u001b[0m, in \u001b[0;36mDatetimeLikeArrayMixin._cmp_method\u001b[1;34m(self, other, op)\u001b[0m\n\u001b[0;32m   1007\u001b[0m \u001b[38;5;28;01mtry\u001b[39;00m:\n\u001b[1;32m-> 1008\u001b[0m     other \u001b[38;5;241m=\u001b[39m \u001b[38;5;28;43mself\u001b[39;49m\u001b[38;5;241;43m.\u001b[39;49m\u001b[43m_validate_comparison_value\u001b[49m\u001b[43m(\u001b[49m\u001b[43mother\u001b[49m\u001b[43m)\u001b[49m\n\u001b[0;32m   1009\u001b[0m \u001b[38;5;28;01mexcept\u001b[39;00m InvalidComparison:\n",
      "File \u001b[1;32mC:\\Python\\lib\\site-packages\\pandas\\core\\arrays\\datetimelike.py:542\u001b[0m, in \u001b[0;36mDatetimeLikeArrayMixin._validate_comparison_value\u001b[1;34m(self, other)\u001b[0m\n\u001b[0;32m    541\u001b[0m \u001b[38;5;28;01melif\u001b[39;00m \u001b[38;5;129;01mnot\u001b[39;00m is_list_like(other):\n\u001b[1;32m--> 542\u001b[0m     \u001b[38;5;28;01mraise\u001b[39;00m InvalidComparison(other)\n\u001b[0;32m    544\u001b[0m \u001b[38;5;28;01melif\u001b[39;00m \u001b[38;5;28mlen\u001b[39m(other) \u001b[38;5;241m!=\u001b[39m \u001b[38;5;28mlen\u001b[39m(\u001b[38;5;28mself\u001b[39m):\n",
      "\u001b[1;31mInvalidComparison\u001b[0m: 2023-02-09 22:48:59.620786",
      "\nDuring handling of the above exception, another exception occurred:\n",
      "\u001b[1;31mTypeError\u001b[0m                                 Traceback (most recent call last)",
      "Input \u001b[1;32mIn [140]\u001b[0m, in \u001b[0;36m<cell line: 24>\u001b[1;34m()\u001b[0m\n\u001b[0;32m     19\u001b[0m     df[\u001b[38;5;124m'\u001b[39m\u001b[38;5;124mpos\u001b[39m\u001b[38;5;124m'\u001b[39m] \u001b[38;5;241m=\u001b[39m df[\u001b[38;5;124m'\u001b[39m\u001b[38;5;124mpos\u001b[39m\u001b[38;5;124m'\u001b[39m]\u001b[38;5;241m.\u001b[39mreplace(to_replace\u001b[38;5;241m=\u001b[39mnp\u001b[38;5;241m.\u001b[39mnan, method\u001b[38;5;241m=\u001b[39m\u001b[38;5;124m'\u001b[39m\u001b[38;5;124mffill\u001b[39m\u001b[38;5;124m'\u001b[39m)\n\u001b[0;32m     21\u001b[0m     \u001b[38;5;28;01mreturn\u001b[39;00m df\n\u001b[1;32m---> 24\u001b[0m df \u001b[38;5;241m=\u001b[39m \u001b[43mstrategy\u001b[49m\u001b[43m(\u001b[49m\u001b[43mparse_data\u001b[49m\u001b[43m(\u001b[49m\u001b[43mdata_cop\u001b[49m\u001b[43m)\u001b[49m\u001b[43m)\u001b[49m\n",
      "Input \u001b[1;32mIn [140]\u001b[0m, in \u001b[0;36mstrategy\u001b[1;34m(parsed_data)\u001b[0m\n\u001b[0;32m      7\u001b[0m \u001b[38;5;66;03m# Buy signal\u001b[39;00m\n\u001b[0;32m      8\u001b[0m buy_cond \u001b[38;5;241m=\u001b[39m df[\u001b[38;5;124m\"\u001b[39m\u001b[38;5;124mHigh\u001b[39m\u001b[38;5;124m\"\u001b[39m] \u001b[38;5;241m>\u001b[39m df[\u001b[38;5;124m\"\u001b[39m\u001b[38;5;124mHigh52\u001b[39m\u001b[38;5;124m\"\u001b[39m]\u001b[38;5;241m.\u001b[39mshift()\n\u001b[1;32m----> 9\u001b[0m buy_cond2 \u001b[38;5;241m=\u001b[39m (\u001b[43mdf\u001b[49m\u001b[38;5;241;43m.\u001b[39;49m\u001b[43mindex\u001b[49m\u001b[43m \u001b[49m\u001b[38;5;241;43m-\u001b[39;49m\u001b[43m \u001b[49m\u001b[43mdf\u001b[49m\u001b[43m[\u001b[49m\u001b[38;5;124;43m\"\u001b[39;49m\u001b[38;5;124;43mdoh\u001b[39;49m\u001b[38;5;124;43m\"\u001b[39;49m\u001b[43m]\u001b[49m\u001b[43m \u001b[49m\u001b[38;5;241;43m<\u001b[39;49m\u001b[43m \u001b[49m\u001b[43mtime_thresh2\u001b[49m)\n\u001b[0;32m     10\u001b[0m df\u001b[38;5;241m.\u001b[39mloc[buy_cond, \u001b[38;5;124m\"\u001b[39m\u001b[38;5;124mStrategy\u001b[39m\u001b[38;5;124m\"\u001b[39m] \u001b[38;5;241m=\u001b[39m \u001b[38;5;241m1\u001b[39m \n\u001b[0;32m     12\u001b[0m \u001b[38;5;66;03m# Sell cond- sell after 3 days, just for testing because I don't know yet how I should do it\u001b[39;00m\n",
      "File \u001b[1;32mC:\\Python\\lib\\site-packages\\pandas\\core\\ops\\common.py:70\u001b[0m, in \u001b[0;36m_unpack_zerodim_and_defer.<locals>.new_method\u001b[1;34m(self, other)\u001b[0m\n\u001b[0;32m     66\u001b[0m             \u001b[38;5;28;01mreturn\u001b[39;00m \u001b[38;5;28mNotImplemented\u001b[39m\n\u001b[0;32m     68\u001b[0m other \u001b[38;5;241m=\u001b[39m item_from_zerodim(other)\n\u001b[1;32m---> 70\u001b[0m \u001b[38;5;28;01mreturn\u001b[39;00m \u001b[43mmethod\u001b[49m\u001b[43m(\u001b[49m\u001b[38;5;28;43mself\u001b[39;49m\u001b[43m,\u001b[49m\u001b[43m \u001b[49m\u001b[43mother\u001b[49m\u001b[43m)\u001b[49m\n",
      "File \u001b[1;32mC:\\Python\\lib\\site-packages\\pandas\\core\\arraylike.py:48\u001b[0m, in \u001b[0;36mOpsMixin.__lt__\u001b[1;34m(self, other)\u001b[0m\n\u001b[0;32m     46\u001b[0m \u001b[38;5;129m@unpack_zerodim_and_defer\u001b[39m(\u001b[38;5;124m\"\u001b[39m\u001b[38;5;124m__lt__\u001b[39m\u001b[38;5;124m\"\u001b[39m)\n\u001b[0;32m     47\u001b[0m \u001b[38;5;28;01mdef\u001b[39;00m \u001b[38;5;21m__lt__\u001b[39m(\u001b[38;5;28mself\u001b[39m, other):\n\u001b[1;32m---> 48\u001b[0m     \u001b[38;5;28;01mreturn\u001b[39;00m \u001b[38;5;28;43mself\u001b[39;49m\u001b[38;5;241;43m.\u001b[39;49m\u001b[43m_cmp_method\u001b[49m\u001b[43m(\u001b[49m\u001b[43mother\u001b[49m\u001b[43m,\u001b[49m\u001b[43m \u001b[49m\u001b[43moperator\u001b[49m\u001b[38;5;241;43m.\u001b[39;49m\u001b[43mlt\u001b[49m\u001b[43m)\u001b[49m\n",
      "File \u001b[1;32mC:\\Python\\lib\\site-packages\\pandas\\core\\series.py:5623\u001b[0m, in \u001b[0;36mSeries._cmp_method\u001b[1;34m(self, other, op)\u001b[0m\n\u001b[0;32m   5620\u001b[0m rvalues \u001b[38;5;241m=\u001b[39m extract_array(other, extract_numpy\u001b[38;5;241m=\u001b[39m\u001b[38;5;28;01mTrue\u001b[39;00m, extract_range\u001b[38;5;241m=\u001b[39m\u001b[38;5;28;01mTrue\u001b[39;00m)\n\u001b[0;32m   5622\u001b[0m \u001b[38;5;28;01mwith\u001b[39;00m np\u001b[38;5;241m.\u001b[39merrstate(\u001b[38;5;28mall\u001b[39m\u001b[38;5;241m=\u001b[39m\u001b[38;5;124m\"\u001b[39m\u001b[38;5;124mignore\u001b[39m\u001b[38;5;124m\"\u001b[39m):\n\u001b[1;32m-> 5623\u001b[0m     res_values \u001b[38;5;241m=\u001b[39m \u001b[43mops\u001b[49m\u001b[38;5;241;43m.\u001b[39;49m\u001b[43mcomparison_op\u001b[49m\u001b[43m(\u001b[49m\u001b[43mlvalues\u001b[49m\u001b[43m,\u001b[49m\u001b[43m \u001b[49m\u001b[43mrvalues\u001b[49m\u001b[43m,\u001b[49m\u001b[43m \u001b[49m\u001b[43mop\u001b[49m\u001b[43m)\u001b[49m\n\u001b[0;32m   5625\u001b[0m \u001b[38;5;28;01mreturn\u001b[39;00m \u001b[38;5;28mself\u001b[39m\u001b[38;5;241m.\u001b[39m_construct_result(res_values, name\u001b[38;5;241m=\u001b[39mres_name)\n",
      "File \u001b[1;32mC:\\Python\\lib\\site-packages\\pandas\\core\\ops\\array_ops.py:269\u001b[0m, in \u001b[0;36mcomparison_op\u001b[1;34m(left, right, op)\u001b[0m\n\u001b[0;32m    260\u001b[0m         \u001b[38;5;28;01mraise\u001b[39;00m \u001b[38;5;167;01mValueError\u001b[39;00m(\n\u001b[0;32m    261\u001b[0m             \u001b[38;5;124m\"\u001b[39m\u001b[38;5;124mLengths must match to compare\u001b[39m\u001b[38;5;124m\"\u001b[39m, lvalues\u001b[38;5;241m.\u001b[39mshape, rvalues\u001b[38;5;241m.\u001b[39mshape\n\u001b[0;32m    262\u001b[0m         )\n\u001b[0;32m    264\u001b[0m \u001b[38;5;28;01mif\u001b[39;00m should_extension_dispatch(lvalues, rvalues) \u001b[38;5;129;01mor\u001b[39;00m (\n\u001b[0;32m    265\u001b[0m     (\u001b[38;5;28misinstance\u001b[39m(rvalues, (Timedelta, BaseOffset, Timestamp)) \u001b[38;5;129;01mor\u001b[39;00m right \u001b[38;5;129;01mis\u001b[39;00m NaT)\n\u001b[0;32m    266\u001b[0m     \u001b[38;5;129;01mand\u001b[39;00m \u001b[38;5;129;01mnot\u001b[39;00m is_object_dtype(lvalues\u001b[38;5;241m.\u001b[39mdtype)\n\u001b[0;32m    267\u001b[0m ):\n\u001b[0;32m    268\u001b[0m     \u001b[38;5;66;03m# Call the method on lvalues\u001b[39;00m\n\u001b[1;32m--> 269\u001b[0m     res_values \u001b[38;5;241m=\u001b[39m \u001b[43mop\u001b[49m\u001b[43m(\u001b[49m\u001b[43mlvalues\u001b[49m\u001b[43m,\u001b[49m\u001b[43m \u001b[49m\u001b[43mrvalues\u001b[49m\u001b[43m)\u001b[49m\n\u001b[0;32m    271\u001b[0m \u001b[38;5;28;01melif\u001b[39;00m is_scalar(rvalues) \u001b[38;5;129;01mand\u001b[39;00m isna(rvalues):  \u001b[38;5;66;03m# TODO: but not pd.NA?\u001b[39;00m\n\u001b[0;32m    272\u001b[0m     \u001b[38;5;66;03m# numpy does not like comparisons vs None\u001b[39;00m\n\u001b[0;32m    273\u001b[0m     \u001b[38;5;28;01mif\u001b[39;00m op \u001b[38;5;129;01mis\u001b[39;00m operator\u001b[38;5;241m.\u001b[39mne:\n",
      "File \u001b[1;32mC:\\Python\\lib\\site-packages\\pandas\\core\\ops\\common.py:70\u001b[0m, in \u001b[0;36m_unpack_zerodim_and_defer.<locals>.new_method\u001b[1;34m(self, other)\u001b[0m\n\u001b[0;32m     66\u001b[0m             \u001b[38;5;28;01mreturn\u001b[39;00m \u001b[38;5;28mNotImplemented\u001b[39m\n\u001b[0;32m     68\u001b[0m other \u001b[38;5;241m=\u001b[39m item_from_zerodim(other)\n\u001b[1;32m---> 70\u001b[0m \u001b[38;5;28;01mreturn\u001b[39;00m \u001b[43mmethod\u001b[49m\u001b[43m(\u001b[49m\u001b[38;5;28;43mself\u001b[39;49m\u001b[43m,\u001b[49m\u001b[43m \u001b[49m\u001b[43mother\u001b[49m\u001b[43m)\u001b[49m\n",
      "File \u001b[1;32mC:\\Python\\lib\\site-packages\\pandas\\core\\arraylike.py:48\u001b[0m, in \u001b[0;36mOpsMixin.__lt__\u001b[1;34m(self, other)\u001b[0m\n\u001b[0;32m     46\u001b[0m \u001b[38;5;129m@unpack_zerodim_and_defer\u001b[39m(\u001b[38;5;124m\"\u001b[39m\u001b[38;5;124m__lt__\u001b[39m\u001b[38;5;124m\"\u001b[39m)\n\u001b[0;32m     47\u001b[0m \u001b[38;5;28;01mdef\u001b[39;00m \u001b[38;5;21m__lt__\u001b[39m(\u001b[38;5;28mself\u001b[39m, other):\n\u001b[1;32m---> 48\u001b[0m     \u001b[38;5;28;01mreturn\u001b[39;00m \u001b[38;5;28;43mself\u001b[39;49m\u001b[38;5;241;43m.\u001b[39;49m\u001b[43m_cmp_method\u001b[49m\u001b[43m(\u001b[49m\u001b[43mother\u001b[49m\u001b[43m,\u001b[49m\u001b[43m \u001b[49m\u001b[43moperator\u001b[49m\u001b[38;5;241;43m.\u001b[39;49m\u001b[43mlt\u001b[49m\u001b[43m)\u001b[49m\n",
      "File \u001b[1;32mC:\\Python\\lib\\site-packages\\pandas\\core\\arrays\\datetimelike.py:1010\u001b[0m, in \u001b[0;36mDatetimeLikeArrayMixin._cmp_method\u001b[1;34m(self, other, op)\u001b[0m\n\u001b[0;32m   1008\u001b[0m     other \u001b[38;5;241m=\u001b[39m \u001b[38;5;28mself\u001b[39m\u001b[38;5;241m.\u001b[39m_validate_comparison_value(other)\n\u001b[0;32m   1009\u001b[0m \u001b[38;5;28;01mexcept\u001b[39;00m InvalidComparison:\n\u001b[1;32m-> 1010\u001b[0m     \u001b[38;5;28;01mreturn\u001b[39;00m \u001b[43minvalid_comparison\u001b[49m\u001b[43m(\u001b[49m\u001b[38;5;28;43mself\u001b[39;49m\u001b[43m,\u001b[49m\u001b[43m \u001b[49m\u001b[43mother\u001b[49m\u001b[43m,\u001b[49m\u001b[43m \u001b[49m\u001b[43mop\u001b[49m\u001b[43m)\u001b[49m\n\u001b[0;32m   1012\u001b[0m dtype \u001b[38;5;241m=\u001b[39m \u001b[38;5;28mgetattr\u001b[39m(other, \u001b[38;5;124m\"\u001b[39m\u001b[38;5;124mdtype\u001b[39m\u001b[38;5;124m\"\u001b[39m, \u001b[38;5;28;01mNone\u001b[39;00m)\n\u001b[0;32m   1013\u001b[0m \u001b[38;5;28;01mif\u001b[39;00m is_object_dtype(dtype):\n\u001b[0;32m   1014\u001b[0m     \u001b[38;5;66;03m# We have to use comp_method_OBJECT_ARRAY instead of numpy\u001b[39;00m\n\u001b[0;32m   1015\u001b[0m     \u001b[38;5;66;03m#  comparison otherwise it would fail to raise when\u001b[39;00m\n\u001b[0;32m   1016\u001b[0m     \u001b[38;5;66;03m#  comparing tz-aware and tz-naive\u001b[39;00m\n",
      "File \u001b[1;32mC:\\Python\\lib\\site-packages\\pandas\\core\\ops\\invalid.py:34\u001b[0m, in \u001b[0;36minvalid_comparison\u001b[1;34m(left, right, op)\u001b[0m\n\u001b[0;32m     32\u001b[0m \u001b[38;5;28;01melse\u001b[39;00m:\n\u001b[0;32m     33\u001b[0m     typ \u001b[38;5;241m=\u001b[39m \u001b[38;5;28mtype\u001b[39m(right)\u001b[38;5;241m.\u001b[39m\u001b[38;5;18m__name__\u001b[39m\n\u001b[1;32m---> 34\u001b[0m     \u001b[38;5;28;01mraise\u001b[39;00m \u001b[38;5;167;01mTypeError\u001b[39;00m(\u001b[38;5;124mf\u001b[39m\u001b[38;5;124m\"\u001b[39m\u001b[38;5;124mInvalid comparison between dtype=\u001b[39m\u001b[38;5;132;01m{\u001b[39;00mleft\u001b[38;5;241m.\u001b[39mdtype\u001b[38;5;132;01m}\u001b[39;00m\u001b[38;5;124m and \u001b[39m\u001b[38;5;132;01m{\u001b[39;00mtyp\u001b[38;5;132;01m}\u001b[39;00m\u001b[38;5;124m\"\u001b[39m)\n\u001b[0;32m     35\u001b[0m \u001b[38;5;28;01mreturn\u001b[39;00m res_values\n",
      "\u001b[1;31mTypeError\u001b[0m: Invalid comparison between dtype=timedelta64[ns] and datetime"
     ]
    }
   ],
   "source": [
    "def strategy(parsed_data):\n",
    "    df = parsed_data.copy()\n",
    "\n",
    "    time_thresh1 = datetime.now() - timedelta(days=75)  # Hit the high between 120 and 200 days ago (3 - 7 months)\n",
    "    time_thresh2 = datetime.now() - timedelta(days=200)  \n",
    "    \n",
    "    # Buy signal\n",
    "    buy_cond = df[\"High\"] > df[\"High52\"].shift()\n",
    "    buy_cond2 = (df.index - df[\"doh\"] < time_thresh2)\n",
    "    df.loc[buy_cond, \"Strategy\"] = 1 \n",
    "    \n",
    "    # Sell cond- sell after 3 days, just for testing because I don't know yet how I should do it\n",
    "    sell_cond = df[\"Strategy\"].shift(3) == 1\n",
    "    df.loc[sell_cond, \"Strategy\"] = -1\n",
    "    \n",
    "    # Position\n",
    "    df.loc[df['Strategy'] == 1, 'pos'] = 1\n",
    "    df.loc[df['Strategy'] == -1, 'pos'] = 0\n",
    "    df['pos'] = df['pos'].replace(to_replace=np.nan, method='ffill')\n",
    "    \n",
    "    return df\n",
    "\n",
    "\n",
    "df = strategy(parse_data(data_cop))"
   ]
  },
  {
   "cell_type": "code",
   "execution_count": null,
   "id": "65fcee57-6283-43b9-b85f-054e9c03205c",
   "metadata": {},
   "outputs": [],
   "source": [
    "df[\"pos\"].value_counts()"
   ]
  },
  {
   "cell_type": "code",
   "execution_count": 95,
   "id": "66872f94-ad0a-44b8-b1d1-ba1b5dc4f8fe",
   "metadata": {},
   "outputs": [
    {
     "data": {
      "text/plain": [
       "<Axes: xlabel='Date'>"
      ]
     },
     "execution_count": 95,
     "metadata": {},
     "output_type": "execute_result"
    },
    {
     "data": {
      "image/png": "[encoded data removed]",
      "text/plain": [
       "<Figure size 1440x864 with 1 Axes>"
      ]
     },
     "metadata": {
      "needs_background": "light"
     },
     "output_type": "display_data"
    }
   ],
   "source": [
    "df['2012-01-01':'2023-12-31'][\"High52\"].plot(figsize=(20,12))"
   ]
  },
  {
   "cell_type": "code",
   "execution_count": 121,
   "id": "df70c079-2bb1-46f9-80fb-bc3a8bdc2d24",
   "metadata": {},
   "outputs": [
    {
     "data": {
      "text/html": [
       "<div>\n",
       "<style scoped>\n",
       "    .dataframe tbody tr th:only-of-type {\n",
       "        vertical-align: middle;\n",
       "    }\n",
       "\n",
       "    .dataframe tbody tr th {\n",
       "        vertical-align: top;\n",
       "    }\n",
       "\n",
       "    .dataframe thead th {\n",
       "        text-align: right;\n",
       "    }\n",
       "</style>\n",
       "<table border=\"1\" class=\"dataframe\">\n",
       "  <thead>\n",
       "    <tr style=\"text-align: right;\">\n",
       "      <th></th>\n",
       "      <th>High</th>\n",
       "      <th>Close</th>\n",
       "      <th>Volume</th>\n",
       "      <th>High52</th>\n",
       "      <th>doh</th>\n",
       "      <th>Strategy</th>\n",
       "      <th>pos</th>\n",
       "    </tr>\n",
       "    <tr>\n",
       "      <th>Date</th>\n",
       "      <th></th>\n",
       "      <th></th>\n",
       "      <th></th>\n",
       "      <th></th>\n",
       "      <th></th>\n",
       "      <th></th>\n",
       "      <th></th>\n",
       "    </tr>\n",
       "  </thead>\n",
       "  <tbody>\n",
       "    <tr>\n",
       "      <th>1963-01-28</th>\n",
       "      <td>0.64</td>\n",
       "      <td>0.64</td>\n",
       "      <td>984150</td>\n",
       "      <td>0.93</td>\n",
       "      <td>None</td>\n",
       "      <td>0</td>\n",
       "      <td>NaN</td>\n",
       "    </tr>\n",
       "    <tr>\n",
       "      <th>1963-01-29</th>\n",
       "      <td>0.64</td>\n",
       "      <td>0.63</td>\n",
       "      <td>528525</td>\n",
       "      <td>0.93</td>\n",
       "      <td>None</td>\n",
       "      <td>0</td>\n",
       "      <td>NaN</td>\n",
       "    </tr>\n",
       "    <tr>\n",
       "      <th>1963-01-30</th>\n",
       "      <td>0.64</td>\n",
       "      <td>0.63</td>\n",
       "      <td>461700</td>\n",
       "      <td>0.93</td>\n",
       "      <td>None</td>\n",
       "      <td>0</td>\n",
       "      <td>NaN</td>\n",
       "    </tr>\n",
       "    <tr>\n",
       "      <th>1963-01-31</th>\n",
       "      <td>0.64</td>\n",
       "      <td>0.64</td>\n",
       "      <td>656100</td>\n",
       "      <td>0.93</td>\n",
       "      <td>None</td>\n",
       "      <td>0</td>\n",
       "      <td>NaN</td>\n",
       "    </tr>\n",
       "    <tr>\n",
       "      <th>1963-02-01</th>\n",
       "      <td>0.66</td>\n",
       "      <td>0.66</td>\n",
       "      <td>643950</td>\n",
       "      <td>0.93</td>\n",
       "      <td>1963-02-01 00:00:00</td>\n",
       "      <td>0</td>\n",
       "      <td>NaN</td>\n",
       "    </tr>\n",
       "    <tr>\n",
       "      <th>1963-02-04</th>\n",
       "      <td>0.66</td>\n",
       "      <td>0.65</td>\n",
       "      <td>959850</td>\n",
       "      <td>0.93</td>\n",
       "      <td>1963-02-01 00:00:00</td>\n",
       "      <td>0</td>\n",
       "      <td>NaN</td>\n",
       "    </tr>\n",
       "    <tr>\n",
       "      <th>1963-02-05</th>\n",
       "      <td>0.65</td>\n",
       "      <td>0.65</td>\n",
       "      <td>376650</td>\n",
       "      <td>0.93</td>\n",
       "      <td>1963-02-01 00:00:00</td>\n",
       "      <td>0</td>\n",
       "      <td>NaN</td>\n",
       "    </tr>\n",
       "    <tr>\n",
       "      <th>1963-02-06</th>\n",
       "      <td>0.65</td>\n",
       "      <td>0.64</td>\n",
       "      <td>346275</td>\n",
       "      <td>0.93</td>\n",
       "      <td>1963-02-01 00:00:00</td>\n",
       "      <td>0</td>\n",
       "      <td>NaN</td>\n",
       "    </tr>\n",
       "    <tr>\n",
       "      <th>1963-02-07</th>\n",
       "      <td>0.65</td>\n",
       "      <td>0.65</td>\n",
       "      <td>285525</td>\n",
       "      <td>0.93</td>\n",
       "      <td>1963-02-01 00:00:00</td>\n",
       "      <td>0</td>\n",
       "      <td>NaN</td>\n",
       "    </tr>\n",
       "    <tr>\n",
       "      <th>1963-02-08</th>\n",
       "      <td>0.65</td>\n",
       "      <td>0.64</td>\n",
       "      <td>510300</td>\n",
       "      <td>0.93</td>\n",
       "      <td>1963-02-01 00:00:00</td>\n",
       "      <td>0</td>\n",
       "      <td>NaN</td>\n",
       "    </tr>\n",
       "    <tr>\n",
       "      <th>1963-02-11</th>\n",
       "      <td>0.65</td>\n",
       "      <td>0.65</td>\n",
       "      <td>528525</td>\n",
       "      <td>0.93</td>\n",
       "      <td>1963-02-01 00:00:00</td>\n",
       "      <td>0</td>\n",
       "      <td>NaN</td>\n",
       "    </tr>\n",
       "    <tr>\n",
       "      <th>1963-02-12</th>\n",
       "      <td>0.65</td>\n",
       "      <td>0.64</td>\n",
       "      <td>431325</td>\n",
       "      <td>0.93</td>\n",
       "      <td>1963-02-01 00:00:00</td>\n",
       "      <td>0</td>\n",
       "      <td>NaN</td>\n",
       "    </tr>\n",
       "    <tr>\n",
       "      <th>1963-02-13</th>\n",
       "      <td>0.65</td>\n",
       "      <td>0.64</td>\n",
       "      <td>467775</td>\n",
       "      <td>0.93</td>\n",
       "      <td>1963-02-01 00:00:00</td>\n",
       "      <td>0</td>\n",
       "      <td>NaN</td>\n",
       "    </tr>\n",
       "    <tr>\n",
       "      <th>1963-02-14</th>\n",
       "      <td>0.65</td>\n",
       "      <td>0.64</td>\n",
       "      <td>546750</td>\n",
       "      <td>0.93</td>\n",
       "      <td>1963-02-01 00:00:00</td>\n",
       "      <td>0</td>\n",
       "      <td>NaN</td>\n",
       "    </tr>\n",
       "    <tr>\n",
       "      <th>1963-02-15</th>\n",
       "      <td>0.64</td>\n",
       "      <td>0.64</td>\n",
       "      <td>376650</td>\n",
       "      <td>0.92</td>\n",
       "      <td>1963-02-15 00:00:00</td>\n",
       "      <td>0</td>\n",
       "      <td>NaN</td>\n",
       "    </tr>\n",
       "    <tr>\n",
       "      <th>1963-02-18</th>\n",
       "      <td>0.64</td>\n",
       "      <td>0.63</td>\n",
       "      <td>358425</td>\n",
       "      <td>0.92</td>\n",
       "      <td>1963-02-18 00:00:00</td>\n",
       "      <td>0</td>\n",
       "      <td>NaN</td>\n",
       "    </tr>\n",
       "    <tr>\n",
       "      <th>1963-02-19</th>\n",
       "      <td>0.63</td>\n",
       "      <td>0.62</td>\n",
       "      <td>680400</td>\n",
       "      <td>0.92</td>\n",
       "      <td>1963-02-18 00:00:00</td>\n",
       "      <td>0</td>\n",
       "      <td>NaN</td>\n",
       "    </tr>\n",
       "    <tr>\n",
       "      <th>1963-02-20</th>\n",
       "      <td>0.62</td>\n",
       "      <td>0.62</td>\n",
       "      <td>419175</td>\n",
       "      <td>0.90</td>\n",
       "      <td>1963-02-20 00:00:00</td>\n",
       "      <td>0</td>\n",
       "      <td>NaN</td>\n",
       "    </tr>\n",
       "    <tr>\n",
       "      <th>1963-02-21</th>\n",
       "      <td>0.62</td>\n",
       "      <td>0.62</td>\n",
       "      <td>413100</td>\n",
       "      <td>0.89</td>\n",
       "      <td>1963-02-21 00:00:00</td>\n",
       "      <td>0</td>\n",
       "      <td>NaN</td>\n",
       "    </tr>\n",
       "    <tr>\n",
       "      <th>1963-02-25</th>\n",
       "      <td>0.64</td>\n",
       "      <td>0.63</td>\n",
       "      <td>431325</td>\n",
       "      <td>0.89</td>\n",
       "      <td>1963-02-21 00:00:00</td>\n",
       "      <td>0</td>\n",
       "      <td>NaN</td>\n",
       "    </tr>\n",
       "  </tbody>\n",
       "</table>\n",
       "</div>"
      ],
      "text/plain": [
       "            High  Close  Volume  High52                  doh  Strategy  pos\n",
       "Date                                                                       \n",
       "1963-01-28  0.64   0.64  984150    0.93                 None         0  NaN\n",
       "1963-01-29  0.64   0.63  528525    0.93                 None         0  NaN\n",
       "1963-01-30  0.64   0.63  461700    0.93                 None         0  NaN\n",
       "1963-01-31  0.64   0.64  656100    0.93                 None         0  NaN\n",
       "1963-02-01  0.66   0.66  643950    0.93  1963-02-01 00:00:00         0  NaN\n",
       "1963-02-04  0.66   0.65  959850    0.93  1963-02-01 00:00:00         0  NaN\n",
       "1963-02-05  0.65   0.65  376650    0.93  1963-02-01 00:00:00         0  NaN\n",
       "1963-02-06  0.65   0.64  346275    0.93  1963-02-01 00:00:00         0  NaN\n",
       "1963-02-07  0.65   0.65  285525    0.93  1963-02-01 00:00:00         0  NaN\n",
       "1963-02-08  0.65   0.64  510300    0.93  1963-02-01 00:00:00         0  NaN\n",
       "1963-02-11  0.65   0.65  528525    0.93  1963-02-01 00:00:00         0  NaN\n",
       "1963-02-12  0.65   0.64  431325    0.93  1963-02-01 00:00:00         0  NaN\n",
       "1963-02-13  0.65   0.64  467775    0.93  1963-02-01 00:00:00         0  NaN\n",
       "1963-02-14  0.65   0.64  546750    0.93  1963-02-01 00:00:00         0  NaN\n",
       "1963-02-15  0.64   0.64  376650    0.92  1963-02-15 00:00:00         0  NaN\n",
       "1963-02-18  0.64   0.63  358425    0.92  1963-02-18 00:00:00         0  NaN\n",
       "1963-02-19  0.63   0.62  680400    0.92  1963-02-18 00:00:00         0  NaN\n",
       "1963-02-20  0.62   0.62  419175    0.90  1963-02-20 00:00:00         0  NaN\n",
       "1963-02-21  0.62   0.62  413100    0.89  1963-02-21 00:00:00         0  NaN\n",
       "1963-02-25  0.64   0.63  431325    0.89  1963-02-21 00:00:00         0  NaN"
      ]
     },
     "execution_count": 121,
     "metadata": {},
     "output_type": "execute_result"
    }
   ],
   "source": [
    "df[270:290]"
   ]
  },
  {
   "cell_type": "code",
   "execution_count": 110,
   "id": "44d5be67-aeaa-450a-b17a-a7e50d48b340",
   "metadata": {},
   "outputs": [
    {
     "data": {
      "text/plain": [
       "1963-02-01    1\n",
       "2005-04-05    1\n",
       "2005-03-15    1\n",
       "2005-03-04    1\n",
       "2005-03-03    1\n",
       "             ..\n",
       "1982-11-02    1\n",
       "1982-10-27    1\n",
       "1982-10-22    1\n",
       "1982-10-21    1\n",
       "2023-08-01    1\n",
       "Name: doh, Length: 1313, dtype: int64"
      ]
     },
     "execution_count": 110,
     "metadata": {},
     "output_type": "execute_result"
    }
   ],
   "source": [
    "df[\"doh\"].value_counts()"
   ]
  },
  {
   "cell_type": "code",
   "execution_count": 118,
   "id": "116ba8c6-46d9-48f5-a35b-8f47616ddbd3",
   "metadata": {},
   "outputs": [
    {
     "data": {
      "text/plain": [
       "0.9218109846115112"
      ]
     },
     "execution_count": 118,
     "metadata": {},
     "output_type": "execute_result"
    }
   ],
   "source": [
    "df.loc[\"1963-02-15\"][\"High52\"]"
   ]
  },
  {
   "cell_type": "code",
   "execution_count": 138,
   "id": "7cc81bcf-67a8-4fdb-a20c-afa7e78a1299",
   "metadata": {},
   "outputs": [
    {
     "data": {
      "text/plain": [
       "pandas.core.indexes.datetimes.DatetimeIndex"
      ]
     },
     "execution_count": 138,
     "metadata": {},
     "output_type": "execute_result"
    }
   ],
   "source": [
    "# type(pd.Timestamp(\"1700-01-01\", \"ns\"))\n",
    "type(df.index)"
   ]
  },
  {
   "cell_type": "code",
   "execution_count": null,
   "id": "d6891f6f-b60c-4be7-8654-ed85e3e39892",
   "metadata": {},
   "outputs": [],
   "source": []
  }
 ],
 "metadata": {
  "kernelspec": {
   "display_name": "Python 3 (ipykernel)",
   "language": "python",
   "name": "python3"
  },
  "language_info": {
   "codemirror_mode": {
    "name": "ipython",
    "version": 3
   },
   "file_extension": ".py",
   "mimetype": "text/x-python",
   "name": "python",
   "nbconvert_exporter": "python",
   "pygments_lexer": "ipython3",
   "version": "3.10.4"
  }
 },
 "nbformat": 4,
 "nbformat_minor": 5
}
