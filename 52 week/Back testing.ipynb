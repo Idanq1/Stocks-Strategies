{
 "cells": [
  {
   "cell_type": "code",
   "execution_count": 1,
   "id": "8f0b4f34-f49b-43dc-be1f-3df1db611786",
   "metadata": {},
   "outputs": [],
   "source": [
    "from datetime import datetime, timedelta\n",
    "from IPython.display import clear_output\n",
    "import pandas_datareader.data as web\n",
    "import yfinance as yf\n",
    "\n",
    "import pandas as pd\n",
    "import numpy as np\n",
    "import time\n",
    "\n",
    "pd.options.display.float_format = '{:,.2f}'.format"
   ]
  },
  {
   "cell_type": "markdown",
   "id": "eec524a7-0526-4f4b-b002-d4d7a0242916",
   "metadata": {
    "tags": []
   },
   "source": [
    "# Downloads tickers and formatting data"
   ]
  },
  {
   "cell_type": "markdown",
   "id": "64df9979-5c30-46d9-b7f3-d3b5f883c98b",
   "metadata": {},
   "source": [
    "### Fetching tickers from nasdaq and filtering out ETFs are stocks that we have a problem getting their prices"
   ]
  },
  {
   "cell_type": "code",
   "execution_count": 2,
   "id": "db20923b-1b67-447c-ae86-9808c76eabe4",
   "metadata": {},
   "outputs": [],
   "source": [
    "def get_all_tickers(etf=False):\n",
    "    # Get a list of all available tickers from Yahoo Finance\n",
    "    all_tickers = web.get_nasdaq_symbols()\n",
    "    all_tickers = all_tickers[~all_tickers[\"Test Issue\"]]  # Filter out stocks that we can't fetch their data for some reason\n",
    "    \n",
    "    if not etf:\n",
    "        all_tickers = all_tickers[~all_tickers[\"ETF\"]]  # Filter out ETFs\n",
    "    tickers = all_tickers.index.tolist()\n",
    "    return [str(ticker) for ticker in tickers if str(ticker).isalpha()]"
   ]
  },
  {
   "cell_type": "markdown",
   "id": "33d1f06e-4498-470d-bbac-e4b919aa9eec",
   "metadata": {},
   "source": [
    "### Downloads data"
   ]
  },
  {
   "cell_type": "code",
   "execution_count": 3,
   "id": "e3bfa793-c7a4-437c-a668-0cdde3ed154d",
   "metadata": {},
   "outputs": [],
   "source": [
    "def get_data(tickers_list):\n",
    "    return yf.download(tickers_list, period=\"1y\")"
   ]
  },
  {
   "cell_type": "code",
   "execution_count": 4,
   "id": "072a55d2-0e81-4f72-a77e-df25bb700f56",
   "metadata": {},
   "outputs": [
    {
     "name": "stdout",
     "output_type": "stream",
     "text": [
      "[*********************100%***********************]  3 of 3 completed\n",
      "0.5462014675140381\n"
     ]
    }
   ],
   "source": [
    "s = time.time()\n",
    "# data = get_data(get_all_tickers())\n",
    "data = get_data([\"BA\", \"TSLA\", \"AAPL\"])\n",
    "data_cop = data.copy()\n",
    "print(time.time() - s)"
   ]
  },
  {
   "cell_type": "markdown",
   "id": "8571a98c-61db-4b35-8161-4e6d9d305c4d",
   "metadata": {},
   "source": [
    "### First DataFrame that contains necessary information"
   ]
  },
  {
   "cell_type": "code",
   "execution_count": 18,
   "id": "c1ea4968-4f97-4dab-b567-0736adb61115",
   "metadata": {},
   "outputs": [],
   "source": [
    "def parse_df(df, old_high=2, high_by=\"High\"):\n",
    "    # old_high- How many days ago it broke high (x or less)\n",
    "    # high_by- by which OHLC to determine d\n",
    "    high = df['High'].max()  # 52 wk high\n",
    "    close = df['Close'].iloc[-1]  # Close of last candle\n",
    "    pct_to_52 = ((high - close) / high) * 100  # Percent change to 52wk high\n",
    "    volume = df[\"Volume\"].iloc[-1]  # Volume of last candle\n",
    "    old_doh = df['High'][:-old_high].idxmax()  # 52wk high before 2 days\n",
    "    doh = df['High'].idxmax()  # 52wk high today\n",
    "    new_df = pd.DataFrame({'Close': close, '52wk High': high, \"% to 52wk\": pct_to_52, \"Volume\": volume, \"Date of high\": doh, \"Old date of high\": old_doh, \"Volume$\": volume * close, \"strategy\": 0})\n",
    "\n",
    "    return new_df"
   ]
  },
  {
   "cell_type": "markdown",
   "id": "2aacc959-febf-4f12-ac8f-4d8c25464e8d",
   "metadata": {},
   "source": [
    "### Filtering out stocks that don't match "
   ]
  },
  {
   "cell_type": "code",
   "execution_count": 19,
   "id": "cce93931-05e6-466b-8138-32aa7cb4c251",
   "metadata": {},
   "outputs": [
    {
     "data": {
      "text/html": [
       "<div>\n",
       "<style scoped>\n",
       "    .dataframe tbody tr th:only-of-type {\n",
       "        vertical-align: middle;\n",
       "    }\n",
       "\n",
       "    .dataframe tbody tr th {\n",
       "        vertical-align: top;\n",
       "    }\n",
       "\n",
       "    .dataframe thead th {\n",
       "        text-align: right;\n",
       "    }\n",
       "</style>\n",
       "<table border=\"1\" class=\"dataframe\">\n",
       "  <thead>\n",
       "    <tr style=\"text-align: right;\">\n",
       "      <th></th>\n",
       "      <th>Close</th>\n",
       "      <th>52wk High</th>\n",
       "      <th>% to 52wk</th>\n",
       "      <th>Volume</th>\n",
       "      <th>Date of high</th>\n",
       "      <th>Old date of high</th>\n",
       "      <th>Volume$</th>\n",
       "      <th>strategy</th>\n",
       "    </tr>\n",
       "  </thead>\n",
       "  <tbody>\n",
       "    <tr>\n",
       "      <th>AAPL</th>\n",
       "      <td>178.61</td>\n",
       "      <td>198.23</td>\n",
       "      <td>9.90</td>\n",
       "      <td>51418700</td>\n",
       "      <td>2023-07-19</td>\n",
       "      <td>2023-07-19</td>\n",
       "      <td>9,183,894,038.38</td>\n",
       "      <td>0</td>\n",
       "    </tr>\n",
       "    <tr>\n",
       "      <th>BA</th>\n",
       "      <td>223.41</td>\n",
       "      <td>243.10</td>\n",
       "      <td>8.10</td>\n",
       "      <td>12346500</td>\n",
       "      <td>2023-08-01</td>\n",
       "      <td>2023-08-01</td>\n",
       "      <td>2,758,331,610.21</td>\n",
       "      <td>0</td>\n",
       "    </tr>\n",
       "    <tr>\n",
       "      <th>TSLA</th>\n",
       "      <td>238.59</td>\n",
       "      <td>313.80</td>\n",
       "      <td>23.97</td>\n",
       "      <td>106345900</td>\n",
       "      <td>2022-09-21</td>\n",
       "      <td>2022-09-21</td>\n",
       "      <td>25,373,067,891.55</td>\n",
       "      <td>0</td>\n",
       "    </tr>\n",
       "  </tbody>\n",
       "</table>\n",
       "</div>"
      ],
      "text/plain": [
       "      Close  52wk High  % to 52wk     Volume Date of high Old date of high  \\\n",
       "AAPL 178.61     198.23       9.90   51418700   2023-07-19       2023-07-19   \n",
       "BA   223.41     243.10       8.10   12346500   2023-08-01       2023-08-01   \n",
       "TSLA 238.59     313.80      23.97  106345900   2022-09-21       2022-09-21   \n",
       "\n",
       "               Volume$  strategy  \n",
       "AAPL  9,183,894,038.38         0  \n",
       "BA    2,758,331,610.21         0  \n",
       "TSLA 25,373,067,891.55         0  "
      ]
     },
     "execution_count": 19,
     "metadata": {},
     "output_type": "execute_result"
    }
   ],
   "source": [
    "parsed = parse_df(data_cop)\n",
    "parsed"
   ]
  },
  {
   "cell_type": "code",
   "execution_count": 17,
   "id": "c27b04c2-eaaa-45b4-a403-620c1c23747d",
   "metadata": {
    "tags": []
   },
   "outputs": [
    {
     "data": {
      "text/plain": [
       "Close                            223.41\n",
       "52wk High                        243.10\n",
       "% to 52wk                          8.10\n",
       "Volume                         12346500\n",
       "Date of high        2023-08-01 00:00:00\n",
       "Old date of high    2023-08-01 00:00:00\n",
       "Volume$                2,758,331,610.21\n",
       "Name: BA, dtype: object"
      ]
     },
     "execution_count": 17,
     "metadata": {},
     "output_type": "execute_result"
    }
   ],
   "source": [
    "parsed.loc[\"BA\"]"
   ]
  },
  {
   "cell_type": "code",
   "execution_count": null,
   "id": "6bd251d2-2b9d-4cd4-8ef7-cdebdb5074b9",
   "metadata": {},
   "outputs": [],
   "source": [
    "def buy_signal"
   ]
  }
 ],
 "metadata": {
  "kernelspec": {
   "display_name": "Python 3 (ipykernel)",
   "language": "python",
   "name": "python3"
  },
  "language_info": {
   "codemirror_mode": {
    "name": "ipython",
    "version": 3
   },
   "file_extension": ".py",
   "mimetype": "text/x-python",
   "name": "python",
   "nbconvert_exporter": "python",
   "pygments_lexer": "ipython3",
   "version": "3.10.4"
  }
 },
 "nbformat": 4,
 "nbformat_minor": 5
}
