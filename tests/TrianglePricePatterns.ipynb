{
 "cells": [
  {
   "cell_type": "markdown",
   "id": "05a8fd91",
   "metadata": {},
   "source": [
    "# Triangle Price Patterns"
   ]
  },
  {
   "cell_type": "code",
   "execution_count": 9,
   "id": "964219a4",
   "metadata": {},
   "outputs": [
    {
     "data": {
      "text/html": [
       "<div>\n",
       "<style scoped>\n",
       "    .dataframe tbody tr th:only-of-type {\n",
       "        vertical-align: middle;\n",
       "    }\n",
       "\n",
       "    .dataframe tbody tr th {\n",
       "        vertical-align: top;\n",
       "    }\n",
       "\n",
       "    .dataframe thead th {\n",
       "        text-align: right;\n",
       "    }\n",
       "</style>\n",
       "<table border=\"1\" class=\"dataframe\">\n",
       "  <thead>\n",
       "    <tr style=\"text-align: right;\">\n",
       "      <th></th>\n",
       "      <th>time</th>\n",
       "      <th>open</th>\n",
       "      <th>high</th>\n",
       "      <th>low</th>\n",
       "      <th>close</th>\n",
       "      <th>volume</th>\n",
       "    </tr>\n",
       "  </thead>\n",
       "  <tbody>\n",
       "    <tr>\n",
       "      <th>0</th>\n",
       "      <td>04.05.2003 21:00:00.000</td>\n",
       "      <td>1.12354</td>\n",
       "      <td>1.12354</td>\n",
       "      <td>1.12166</td>\n",
       "      <td>1.12274</td>\n",
       "      <td>95533.0976</td>\n",
       "    </tr>\n",
       "    <tr>\n",
       "      <th>1</th>\n",
       "      <td>05.05.2003 01:00:00.000</td>\n",
       "      <td>1.12242</td>\n",
       "      <td>1.12276</td>\n",
       "      <td>1.12067</td>\n",
       "      <td>1.12126</td>\n",
       "      <td>93778.5996</td>\n",
       "    </tr>\n",
       "    <tr>\n",
       "      <th>2</th>\n",
       "      <td>05.05.2003 05:00:00.000</td>\n",
       "      <td>1.12139</td>\n",
       "      <td>1.12255</td>\n",
       "      <td>1.12030</td>\n",
       "      <td>1.12113</td>\n",
       "      <td>90924.6992</td>\n",
       "    </tr>\n",
       "    <tr>\n",
       "      <th>3</th>\n",
       "      <td>05.05.2003 09:00:00.000</td>\n",
       "      <td>1.12092</td>\n",
       "      <td>1.12331</td>\n",
       "      <td>1.12049</td>\n",
       "      <td>1.12174</td>\n",
       "      <td>91254.6992</td>\n",
       "    </tr>\n",
       "    <tr>\n",
       "      <th>4</th>\n",
       "      <td>05.05.2003 13:00:00.000</td>\n",
       "      <td>1.12194</td>\n",
       "      <td>1.12900</td>\n",
       "      <td>1.12130</td>\n",
       "      <td>1.12712</td>\n",
       "      <td>308003.4083</td>\n",
       "    </tr>\n",
       "    <tr>\n",
       "      <th>5</th>\n",
       "      <td>05.05.2003 17:00:00.000</td>\n",
       "      <td>1.12718</td>\n",
       "      <td>1.13019</td>\n",
       "      <td>1.12657</td>\n",
       "      <td>1.12804</td>\n",
       "      <td>373668.2930</td>\n",
       "    </tr>\n",
       "    <tr>\n",
       "      <th>6</th>\n",
       "      <td>05.05.2003 21:00:00.000</td>\n",
       "      <td>1.12798</td>\n",
       "      <td>1.13004</td>\n",
       "      <td>1.12772</td>\n",
       "      <td>1.12913</td>\n",
       "      <td>94283.7988</td>\n",
       "    </tr>\n",
       "    <tr>\n",
       "      <th>7</th>\n",
       "      <td>06.05.2003 01:00:00.000</td>\n",
       "      <td>1.12892</td>\n",
       "      <td>1.12967</td>\n",
       "      <td>1.12743</td>\n",
       "      <td>1.12855</td>\n",
       "      <td>95461.9980</td>\n",
       "    </tr>\n",
       "    <tr>\n",
       "      <th>8</th>\n",
       "      <td>06.05.2003 05:00:00.000</td>\n",
       "      <td>1.12856</td>\n",
       "      <td>1.13412</td>\n",
       "      <td>1.12738</td>\n",
       "      <td>1.13381</td>\n",
       "      <td>92809.0996</td>\n",
       "    </tr>\n",
       "    <tr>\n",
       "      <th>9</th>\n",
       "      <td>06.05.2003 09:00:00.000</td>\n",
       "      <td>1.13383</td>\n",
       "      <td>1.13662</td>\n",
       "      <td>1.13188</td>\n",
       "      <td>1.13456</td>\n",
       "      <td>90255.7988</td>\n",
       "    </tr>\n",
       "  </tbody>\n",
       "</table>\n",
       "</div>"
      ],
      "text/plain": [
       "                      time     open     high      low    close       volume\n",
       "0  04.05.2003 21:00:00.000  1.12354  1.12354  1.12166  1.12274   95533.0976\n",
       "1  05.05.2003 01:00:00.000  1.12242  1.12276  1.12067  1.12126   93778.5996\n",
       "2  05.05.2003 05:00:00.000  1.12139  1.12255  1.12030  1.12113   90924.6992\n",
       "3  05.05.2003 09:00:00.000  1.12092  1.12331  1.12049  1.12174   91254.6992\n",
       "4  05.05.2003 13:00:00.000  1.12194  1.12900  1.12130  1.12712  308003.4083\n",
       "5  05.05.2003 17:00:00.000  1.12718  1.13019  1.12657  1.12804  373668.2930\n",
       "6  05.05.2003 21:00:00.000  1.12798  1.13004  1.12772  1.12913   94283.7988\n",
       "7  06.05.2003 01:00:00.000  1.12892  1.12967  1.12743  1.12855   95461.9980\n",
       "8  06.05.2003 05:00:00.000  1.12856  1.13412  1.12738  1.13381   92809.0996\n",
       "9  06.05.2003 09:00:00.000  1.13383  1.13662  1.13188  1.13456   90255.7988"
      ]
     },
     "execution_count": 9,
     "metadata": {},
     "output_type": "execute_result"
    }
   ],
   "source": [
    "import pandas as pd\n",
    "df = pd.read_csv(\"EURUSD_Candlestick_4_Hour_ASK_05.05.2003-16.10.2021.csv\")\n",
    "df.columns=['time', 'open', 'high', 'low', 'close', 'volume']\n",
    "#Check if NA values are in data\n",
    "df=df[df['volume']!=0]\n",
    "df.reset_index(drop=True, inplace=True)\n",
    "df.isna().sum()\n",
    "df.head(10)"
   ]
  },
  {
   "cell_type": "code",
   "execution_count": 10,
   "id": "31aeb78e",
   "metadata": {},
   "outputs": [],
   "source": [
    "def pivotid(df1, l, n1, n2): #n1 n2 before and after candle l\n",
    "    if l-n1 < 0 or l+n2 >= len(df1):\n",
    "        return 0\n",
    "    \n",
    "    pividlow=1\n",
    "    pividhigh=1\n",
    "    for i in range(l-n1, l+n2+1):\n",
    "        if(df1.low[l]>df1.low[i]):\n",
    "            pividlow=0\n",
    "        if(df1.high[l]<df1.high[i]):\n",
    "            pividhigh=0\n",
    "    if pividlow and pividhigh:\n",
    "        return 3\n",
    "    elif pividlow:\n",
    "        return 1\n",
    "    elif pividhigh:\n",
    "        return 2\n",
    "    else:\n",
    "        return 0\n",
    "    \n",
    "df['pivot'] = df.apply(lambda x: pivotid(df, x.name,3,3), axis=1)"
   ]
  },
  {
   "cell_type": "markdown",
   "id": "aca2010e",
   "metadata": {},
   "source": [
    "## Pivot Candles Vizualisation"
   ]
  },
  {
   "cell_type": "code",
   "execution_count": 25,
   "id": "e0c88a20",
   "metadata": {},
   "outputs": [
    {
     "data": {
      "text/plain": [
       "0            NaN\n",
       "1            NaN\n",
       "2            NaN\n",
       "3            NaN\n",
       "4            NaN\n",
       "          ...   \n",
       "28821        NaN\n",
       "28822    1.16289\n",
       "28823        NaN\n",
       "28824        NaN\n",
       "28825        NaN\n",
       "Name: pointpos, Length: 28826, dtype: float64"
      ]
     },
     "execution_count": 25,
     "metadata": {},
     "output_type": "execute_result"
    }
   ],
   "source": [
    "import numpy as np\n",
    "def pointpos(x):\n",
    "    if x['pivot']==1:\n",
    "        return x['low']-1e-3\n",
    "    elif x['pivot']==2:\n",
    "        return x['high']+1e-3\n",
    "    else:\n",
    "        return np.nan\n",
    "\n",
    "df['pointpos'] = df.apply(lambda row: pointpos(row), axis=1)"
   ]
  },
  {
   "cell_type": "code",
   "execution_count": 24,
   "id": "f8e8c116",
   "metadata": {},
   "outputs": [
    {
     "data": {
      "text/html": [
       "<iframe\n",
       "    scrolling=\"no\"\n",
       "    width=\"100%\"\n",
       "    height=\"545px\"\n",
       "    src=\"iframe_figures/figure_24.html\"\n",
       "    frameborder=\"0\"\n",
       "    allowfullscreen\n",
       "></iframe>\n"
      ]
     },
     "metadata": {},
     "output_type": "display_data"
    }
   ],
   "source": [
    "import plotly.graph_objects as go\n",
    "from plotly.subplots import make_subplots\n",
    "from datetime import datetime\n",
    "import plotly.io as pio\n",
    "pio.renderers.default = \"iframe\"\n",
    "dfpl = df[28000:28500]\n",
    "fig = go.Figure(data=[go.Candlestick(x=dfpl.index,\n",
    "                open=dfpl['open'],\n",
    "                high=dfpl['high'],\n",
    "                low=dfpl['low'],\n",
    "                close=dfpl['close'])])\n",
    "\n",
    "fig.add_scatter(x=dfpl.index, y=dfpl['pointpos'], mode=\"markers\",\n",
    "                marker=dict(size=5, color=\"MediumPurple\"),\n",
    "                name=\"pivot\")\n",
    "#fig.update_layout(xaxis_rangeslider_visible=False)\n",
    "fig.show()"
   ]
  },
  {
   "cell_type": "code",
   "execution_count": 13,
   "id": "ba7fa861",
   "metadata": {},
   "outputs": [
    {
     "name": "stdout",
     "output_type": "stream",
     "text": [
      "0.9467196859421256 -0.8258282598225213\n"
     ]
    },
    {
     "data": {
      "application/vnd.plotly.v1+json": {
       "config": {
        "plotlyServerURL": "https://plot.ly"
       },
       "data": [
        {
         "close": [
          1.24631,
          1.2453,
          1.24618,
          1.2452,
          1.2438,
          1.24278,
          1.25436,
          1.2532,
          1.25383,
          1.25291,
          1.25613,
          1.25575,
          1.26274,
          1.2635,
          1.26148,
          1.26254,
          1.26157,
          1.26711,
          1.26178,
          1.25844,
          1.25724,
          1.25778,
          1.26192,
          1.26388,
          1.26087,
          1.26146,
          1.26169,
          1.2642,
          1.26442,
          1.26289,
          1.26372,
          1.2632,
          1.26348,
          1.26196,
          1.25836,
          1.2608,
          1.26842,
          1.2692,
          1.26891,
          1.26985,
          1.26862,
          1.27444,
          1.27439,
          1.27267,
          1.27209,
          1.27308,
          1.27714,
          1.27466,
          1.27138,
          1.27099,
          1.26967,
          1.26932,
          1.26972,
          1.27108,
          1.27546,
          1.27615,
          1.27558,
          1.27618,
          1.27785,
          1.27838
         ],
         "high": [
          1.24705,
          1.24636,
          1.24626,
          1.24687,
          1.2458,
          1.24424,
          1.25473,
          1.25449,
          1.25424,
          1.25429,
          1.25662,
          1.25667,
          1.2634,
          1.26402,
          1.26322,
          1.26388,
          1.26408,
          1.26775,
          1.26883,
          1.26262,
          1.259,
          1.25892,
          1.26321,
          1.26668,
          1.2653,
          1.26343,
          1.26179,
          1.26477,
          1.26686,
          1.26451,
          1.26588,
          1.26525,
          1.26413,
          1.26367,
          1.26284,
          1.26381,
          1.26958,
          1.27182,
          1.27122,
          1.27031,
          1.27046,
          1.27627,
          1.27623,
          1.27452,
          1.27497,
          1.27336,
          1.27854,
          1.27783,
          1.2752,
          1.27151,
          1.27129,
          1.27091,
          1.27041,
          1.27115,
          1.27816,
          1.2763,
          1.27693,
          1.27656,
          1.28026,
          1.27997
         ],
         "low": [
          1.24166,
          1.24333,
          1.24407,
          1.24461,
          1.24299,
          1.24062,
          1.24241,
          1.25256,
          1.25224,
          1.25201,
          1.2524,
          1.25143,
          1.25467,
          1.26062,
          1.26109,
          1.26081,
          1.26133,
          1.26104,
          1.25991,
          1.25558,
          1.25588,
          1.25692,
          1.25599,
          1.26176,
          1.2607,
          1.26086,
          1.26058,
          1.26166,
          1.26182,
          1.262,
          1.25927,
          1.26221,
          1.26184,
          1.26078,
          1.25722,
          1.25823,
          1.26067,
          1.26782,
          1.26856,
          1.26844,
          1.26747,
          1.26755,
          1.27182,
          1.27247,
          1.27195,
          1.27142,
          1.27256,
          1.27422,
          1.26949,
          1.26925,
          1.26875,
          1.26822,
          1.26624,
          1.2673,
          1.27074,
          1.27476,
          1.27509,
          1.27522,
          1.27597,
          1.2773
         ],
         "open": [
          1.24215,
          1.24625,
          1.24507,
          1.24616,
          1.2452,
          1.24375,
          1.24284,
          1.25429,
          1.25329,
          1.25382,
          1.2529,
          1.256,
          1.25571,
          1.26273,
          1.2629,
          1.26135,
          1.2625,
          1.26155,
          1.26676,
          1.26185,
          1.25848,
          1.25722,
          1.25778,
          1.26193,
          1.26376,
          1.26105,
          1.26128,
          1.26171,
          1.26425,
          1.26437,
          1.26281,
          1.2639,
          1.26316,
          1.26345,
          1.26211,
          1.25839,
          1.26093,
          1.26827,
          1.26924,
          1.26883,
          1.26994,
          1.26867,
          1.27417,
          1.27452,
          1.27292,
          1.27208,
          1.27315,
          1.27696,
          1.27486,
          1.27126,
          1.27098,
          1.26977,
          1.26943,
          1.26969,
          1.27087,
          1.27555,
          1.27583,
          1.27556,
          1.27625,
          1.2779
         ],
         "type": "candlestick",
         "x": [
          4666,
          4667,
          4668,
          4669,
          4670,
          4671,
          4672,
          4673,
          4674,
          4675,
          4676,
          4677,
          4678,
          4679,
          4680,
          4681,
          4682,
          4683,
          4684,
          4685,
          4686,
          4687,
          4688,
          4689,
          4690,
          4691,
          4692,
          4693,
          4694,
          4695,
          4696,
          4697,
          4698,
          4699,
          4700,
          4701,
          4702,
          4703,
          4704,
          4705,
          4706,
          4707,
          4708,
          4709,
          4710,
          4711,
          4712,
          4713,
          4714,
          4715,
          4716,
          4717,
          4718,
          4719,
          4720,
          4721,
          4722,
          4723,
          4724,
          4725
         ]
        },
        {
         "marker": {
          "color": "MediumPurple",
          "size": 4
         },
         "mode": "markers",
         "name": "pivot",
         "type": "scatter",
         "x": [
          4666,
          4667,
          4668,
          4669,
          4670,
          4671,
          4672,
          4673,
          4674,
          4675,
          4676,
          4677,
          4678,
          4679,
          4680,
          4681,
          4682,
          4683,
          4684,
          4685,
          4686,
          4687,
          4688,
          4689,
          4690,
          4691,
          4692,
          4693,
          4694,
          4695,
          4696,
          4697,
          4698,
          4699,
          4700,
          4701,
          4702,
          4703,
          4704,
          4705,
          4706,
          4707,
          4708,
          4709,
          4710,
          4711,
          4712,
          4713,
          4714,
          4715,
          4716,
          4717,
          4718,
          4719,
          4720,
          4721,
          4722,
          4723,
          4724,
          4725
         ],
         "y": [
          1.2480499999999999,
          null,
          null,
          null,
          null,
          1.2396200000000002,
          1.2557299999999998,
          null,
          null,
          null,
          null,
          1.2504300000000002,
          null,
          null,
          null,
          null,
          null,
          null,
          1.2698299999999998,
          1.25458,
          null,
          null,
          null,
          1.26768,
          null,
          null,
          1.2595800000000001,
          null,
          1.26786,
          null,
          1.25827,
          null,
          null,
          null,
          1.2562200000000001,
          null,
          null,
          1.2728199999999998,
          null,
          null,
          1.2664700000000002,
          1.27727,
          null,
          null,
          null,
          null,
          1.27954,
          null,
          null,
          null,
          null,
          null,
          1.2652400000000001,
          null,
          1.2791599999999999,
          null,
          null,
          null,
          null,
          null
         ]
        },
        {
         "mode": "lines",
         "name": "min slope",
         "type": "scatter",
         "x": [
          4677,
          4685,
          4692,
          4696,
          4711
         ],
         "y": [
          1.2518196889952156,
          1.2555494497607655,
          1.258812990430622,
          1.2606778708133974,
          1.2676711722488039
         ]
        },
        {
         "mode": "lines",
         "name": "max slope",
         "type": "scatter",
         "x": [
          4684,
          4689,
          4694,
          4709
         ],
         "y": [
          1.268441666666667,
          1.267456666666667,
          1.2664716666666669,
          1.2635166666666673
         ]
        }
       ],
       "layout": {
        "template": {
         "data": {
          "bar": [
           {
            "error_x": {
             "color": "#2a3f5f"
            },
            "error_y": {
             "color": "#2a3f5f"
            },
            "marker": {
             "line": {
              "color": "#E5ECF6",
              "width": 0.5
             },
             "pattern": {
              "fillmode": "overlay",
              "size": 10,
              "solidity": 0.2
             }
            },
            "type": "bar"
           }
          ],
          "barpolar": [
           {
            "marker": {
             "line": {
              "color": "#E5ECF6",
              "width": 0.5
             },
             "pattern": {
              "fillmode": "overlay",
              "size": 10,
              "solidity": 0.2
             }
            },
            "type": "barpolar"
           }
          ],
          "carpet": [
           {
            "aaxis": {
             "endlinecolor": "#2a3f5f",
             "gridcolor": "white",
             "linecolor": "white",
             "minorgridcolor": "white",
             "startlinecolor": "#2a3f5f"
            },
            "baxis": {
             "endlinecolor": "#2a3f5f",
             "gridcolor": "white",
             "linecolor": "white",
             "minorgridcolor": "white",
             "startlinecolor": "#2a3f5f"
            },
            "type": "carpet"
           }
          ],
          "choropleth": [
           {
            "colorbar": {
             "outlinewidth": 0,
             "ticks": ""
            },
            "type": "choropleth"
           }
          ],
          "contour": [
           {
            "colorbar": {
             "outlinewidth": 0,
             "ticks": ""
            },
            "colorscale": [
             [
              0,
              "#0d0887"
             ],
             [
              0.1111111111111111,
              "#46039f"
             ],
             [
              0.2222222222222222,
              "#7201a8"
             ],
             [
              0.3333333333333333,
              "#9c179e"
             ],
             [
              0.4444444444444444,
              "#bd3786"
             ],
             [
              0.5555555555555556,
              "#d8576b"
             ],
             [
              0.6666666666666666,
              "#ed7953"
             ],
             [
              0.7777777777777778,
              "#fb9f3a"
             ],
             [
              0.8888888888888888,
              "#fdca26"
             ],
             [
              1,
              "#f0f921"
             ]
            ],
            "type": "contour"
           }
          ],
          "contourcarpet": [
           {
            "colorbar": {
             "outlinewidth": 0,
             "ticks": ""
            },
            "type": "contourcarpet"
           }
          ],
          "heatmap": [
           {
            "colorbar": {
             "outlinewidth": 0,
             "ticks": ""
            },
            "colorscale": [
             [
              0,
              "#0d0887"
             ],
             [
              0.1111111111111111,
              "#46039f"
             ],
             [
              0.2222222222222222,
              "#7201a8"
             ],
             [
              0.3333333333333333,
              "#9c179e"
             ],
             [
              0.4444444444444444,
              "#bd3786"
             ],
             [
              0.5555555555555556,
              "#d8576b"
             ],
             [
              0.6666666666666666,
              "#ed7953"
             ],
             [
              0.7777777777777778,
              "#fb9f3a"
             ],
             [
              0.8888888888888888,
              "#fdca26"
             ],
             [
              1,
              "#f0f921"
             ]
            ],
            "type": "heatmap"
           }
          ],
          "heatmapgl": [
           {
            "colorbar": {
             "outlinewidth": 0,
             "ticks": ""
            },
            "colorscale": [
             [
              0,
              "#0d0887"
             ],
             [
              0.1111111111111111,
              "#46039f"
             ],
             [
              0.2222222222222222,
              "#7201a8"
             ],
             [
              0.3333333333333333,
              "#9c179e"
             ],
             [
              0.4444444444444444,
              "#bd3786"
             ],
             [
              0.5555555555555556,
              "#d8576b"
             ],
             [
              0.6666666666666666,
              "#ed7953"
             ],
             [
              0.7777777777777778,
              "#fb9f3a"
             ],
             [
              0.8888888888888888,
              "#fdca26"
             ],
             [
              1,
              "#f0f921"
             ]
            ],
            "type": "heatmapgl"
           }
          ],
          "histogram": [
           {
            "marker": {
             "pattern": {
              "fillmode": "overlay",
              "size": 10,
              "solidity": 0.2
             }
            },
            "type": "histogram"
           }
          ],
          "histogram2d": [
           {
            "colorbar": {
             "outlinewidth": 0,
             "ticks": ""
            },
            "colorscale": [
             [
              0,
              "#0d0887"
             ],
             [
              0.1111111111111111,
              "#46039f"
             ],
             [
              0.2222222222222222,
              "#7201a8"
             ],
             [
              0.3333333333333333,
              "#9c179e"
             ],
             [
              0.4444444444444444,
              "#bd3786"
             ],
             [
              0.5555555555555556,
              "#d8576b"
             ],
             [
              0.6666666666666666,
              "#ed7953"
             ],
             [
              0.7777777777777778,
              "#fb9f3a"
             ],
             [
              0.8888888888888888,
              "#fdca26"
             ],
             [
              1,
              "#f0f921"
             ]
            ],
            "type": "histogram2d"
           }
          ],
          "histogram2dcontour": [
           {
            "colorbar": {
             "outlinewidth": 0,
             "ticks": ""
            },
            "colorscale": [
             [
              0,
              "#0d0887"
             ],
             [
              0.1111111111111111,
              "#46039f"
             ],
             [
              0.2222222222222222,
              "#7201a8"
             ],
             [
              0.3333333333333333,
              "#9c179e"
             ],
             [
              0.4444444444444444,
              "#bd3786"
             ],
             [
              0.5555555555555556,
              "#d8576b"
             ],
             [
              0.6666666666666666,
              "#ed7953"
             ],
             [
              0.7777777777777778,
              "#fb9f3a"
             ],
             [
              0.8888888888888888,
              "#fdca26"
             ],
             [
              1,
              "#f0f921"
             ]
            ],
            "type": "histogram2dcontour"
           }
          ],
          "mesh3d": [
           {
            "colorbar": {
             "outlinewidth": 0,
             "ticks": ""
            },
            "type": "mesh3d"
           }
          ],
          "parcoords": [
           {
            "line": {
             "colorbar": {
              "outlinewidth": 0,
              "ticks": ""
             }
            },
            "type": "parcoords"
           }
          ],
          "pie": [
           {
            "automargin": true,
            "type": "pie"
           }
          ],
          "scatter": [
           {
            "fillpattern": {
             "fillmode": "overlay",
             "size": 10,
             "solidity": 0.2
            },
            "type": "scatter"
           }
          ],
          "scatter3d": [
           {
            "line": {
             "colorbar": {
              "outlinewidth": 0,
              "ticks": ""
             }
            },
            "marker": {
             "colorbar": {
              "outlinewidth": 0,
              "ticks": ""
             }
            },
            "type": "scatter3d"
           }
          ],
          "scattercarpet": [
           {
            "marker": {
             "colorbar": {
              "outlinewidth": 0,
              "ticks": ""
             }
            },
            "type": "scattercarpet"
           }
          ],
          "scattergeo": [
           {
            "marker": {
             "colorbar": {
              "outlinewidth": 0,
              "ticks": ""
             }
            },
            "type": "scattergeo"
           }
          ],
          "scattergl": [
           {
            "marker": {
             "colorbar": {
              "outlinewidth": 0,
              "ticks": ""
             }
            },
            "type": "scattergl"
           }
          ],
          "scattermapbox": [
           {
            "marker": {
             "colorbar": {
              "outlinewidth": 0,
              "ticks": ""
             }
            },
            "type": "scattermapbox"
           }
          ],
          "scatterpolar": [
           {
            "marker": {
             "colorbar": {
              "outlinewidth": 0,
              "ticks": ""
             }
            },
            "type": "scatterpolar"
           }
          ],
          "scatterpolargl": [
           {
            "marker": {
             "colorbar": {
              "outlinewidth": 0,
              "ticks": ""
             }
            },
            "type": "scatterpolargl"
           }
          ],
          "scatterternary": [
           {
            "marker": {
             "colorbar": {
              "outlinewidth": 0,
              "ticks": ""
             }
            },
            "type": "scatterternary"
           }
          ],
          "surface": [
           {
            "colorbar": {
             "outlinewidth": 0,
             "ticks": ""
            },
            "colorscale": [
             [
              0,
              "#0d0887"
             ],
             [
              0.1111111111111111,
              "#46039f"
             ],
             [
              0.2222222222222222,
              "#7201a8"
             ],
             [
              0.3333333333333333,
              "#9c179e"
             ],
             [
              0.4444444444444444,
              "#bd3786"
             ],
             [
              0.5555555555555556,
              "#d8576b"
             ],
             [
              0.6666666666666666,
              "#ed7953"
             ],
             [
              0.7777777777777778,
              "#fb9f3a"
             ],
             [
              0.8888888888888888,
              "#fdca26"
             ],
             [
              1,
              "#f0f921"
             ]
            ],
            "type": "surface"
           }
          ],
          "table": [
           {
            "cells": {
             "fill": {
              "color": "#EBF0F8"
             },
             "line": {
              "color": "white"
             }
            },
            "header": {
             "fill": {
              "color": "#C8D4E3"
             },
             "line": {
              "color": "white"
             }
            },
            "type": "table"
           }
          ]
         },
         "layout": {
          "annotationdefaults": {
           "arrowcolor": "#2a3f5f",
           "arrowhead": 0,
           "arrowwidth": 1
          },
          "autotypenumbers": "strict",
          "coloraxis": {
           "colorbar": {
            "outlinewidth": 0,
            "ticks": ""
           }
          },
          "colorscale": {
           "diverging": [
            [
             0,
             "#8e0152"
            ],
            [
             0.1,
             "#c51b7d"
            ],
            [
             0.2,
             "#de77ae"
            ],
            [
             0.3,
             "#f1b6da"
            ],
            [
             0.4,
             "#fde0ef"
            ],
            [
             0.5,
             "#f7f7f7"
            ],
            [
             0.6,
             "#e6f5d0"
            ],
            [
             0.7,
             "#b8e186"
            ],
            [
             0.8,
             "#7fbc41"
            ],
            [
             0.9,
             "#4d9221"
            ],
            [
             1,
             "#276419"
            ]
           ],
           "sequential": [
            [
             0,
             "#0d0887"
            ],
            [
             0.1111111111111111,
             "#46039f"
            ],
            [
             0.2222222222222222,
             "#7201a8"
            ],
            [
             0.3333333333333333,
             "#9c179e"
            ],
            [
             0.4444444444444444,
             "#bd3786"
            ],
            [
             0.5555555555555556,
             "#d8576b"
            ],
            [
             0.6666666666666666,
             "#ed7953"
            ],
            [
             0.7777777777777778,
             "#fb9f3a"
            ],
            [
             0.8888888888888888,
             "#fdca26"
            ],
            [
             1,
             "#f0f921"
            ]
           ],
           "sequentialminus": [
            [
             0,
             "#0d0887"
            ],
            [
             0.1111111111111111,
             "#46039f"
            ],
            [
             0.2222222222222222,
             "#7201a8"
            ],
            [
             0.3333333333333333,
             "#9c179e"
            ],
            [
             0.4444444444444444,
             "#bd3786"
            ],
            [
             0.5555555555555556,
             "#d8576b"
            ],
            [
             0.6666666666666666,
             "#ed7953"
            ],
            [
             0.7777777777777778,
             "#fb9f3a"
            ],
            [
             0.8888888888888888,
             "#fdca26"
            ],
            [
             1,
             "#f0f921"
            ]
           ]
          },
          "colorway": [
           "#636efa",
           "#EF553B",
           "#00cc96",
           "#ab63fa",
           "#FFA15A",
           "#19d3f3",
           "#FF6692",
           "#B6E880",
           "#FF97FF",
           "#FECB52"
          ],
          "font": {
           "color": "#2a3f5f"
          },
          "geo": {
           "bgcolor": "white",
           "lakecolor": "white",
           "landcolor": "#E5ECF6",
           "showlakes": true,
           "showland": true,
           "subunitcolor": "white"
          },
          "hoverlabel": {
           "align": "left"
          },
          "hovermode": "closest",
          "mapbox": {
           "style": "light"
          },
          "paper_bgcolor": "white",
          "plot_bgcolor": "#E5ECF6",
          "polar": {
           "angularaxis": {
            "gridcolor": "white",
            "linecolor": "white",
            "ticks": ""
           },
           "bgcolor": "#E5ECF6",
           "radialaxis": {
            "gridcolor": "white",
            "linecolor": "white",
            "ticks": ""
           }
          },
          "scene": {
           "xaxis": {
            "backgroundcolor": "#E5ECF6",
            "gridcolor": "white",
            "gridwidth": 2,
            "linecolor": "white",
            "showbackground": true,
            "ticks": "",
            "zerolinecolor": "white"
           },
           "yaxis": {
            "backgroundcolor": "#E5ECF6",
            "gridcolor": "white",
            "gridwidth": 2,
            "linecolor": "white",
            "showbackground": true,
            "ticks": "",
            "zerolinecolor": "white"
           },
           "zaxis": {
            "backgroundcolor": "#E5ECF6",
            "gridcolor": "white",
            "gridwidth": 2,
            "linecolor": "white",
            "showbackground": true,
            "ticks": "",
            "zerolinecolor": "white"
           }
          },
          "shapedefaults": {
           "line": {
            "color": "#2a3f5f"
           }
          },
          "ternary": {
           "aaxis": {
            "gridcolor": "white",
            "linecolor": "white",
            "ticks": ""
           },
           "baxis": {
            "gridcolor": "white",
            "linecolor": "white",
            "ticks": ""
           },
           "bgcolor": "#E5ECF6",
           "caxis": {
            "gridcolor": "white",
            "linecolor": "white",
            "ticks": ""
           }
          },
          "title": {
           "x": 0.05
          },
          "xaxis": {
           "automargin": true,
           "gridcolor": "white",
           "linecolor": "white",
           "ticks": "",
           "title": {
            "standoff": 15
           },
           "zerolinecolor": "white",
           "zerolinewidth": 2
          },
          "yaxis": {
           "automargin": true,
           "gridcolor": "white",
           "linecolor": "white",
           "ticks": "",
           "title": {
            "standoff": 15
           },
           "zerolinecolor": "white",
           "zerolinewidth": 2
          }
         }
        },
        "xaxis": {
         "rangeslider": {
          "visible": false
         }
        }
       }
      },
      "text/html": [
       "<div>                            <div id=\"b7cbcd77-5daa-4c25-bbaf-a36d80a81612\" class=\"plotly-graph-div\" style=\"height:525px; width:100%;\"></div>            <script type=\"text/javascript\">                require([\"plotly\"], function(Plotly) {                    window.PLOTLYENV=window.PLOTLYENV || {};                                    if (document.getElementById(\"b7cbcd77-5daa-4c25-bbaf-a36d80a81612\")) {                    Plotly.newPlot(                        \"b7cbcd77-5daa-4c25-bbaf-a36d80a81612\",                        [{\"close\":[1.24631,1.2453,1.24618,1.2452,1.2438,1.24278,1.25436,1.2532,1.25383,1.25291,1.25613,1.25575,1.26274,1.2635,1.26148,1.26254,1.26157,1.26711,1.26178,1.25844,1.25724,1.25778,1.26192,1.26388,1.26087,1.26146,1.26169,1.2642,1.26442,1.26289,1.26372,1.2632,1.26348,1.26196,1.25836,1.2608,1.26842,1.2692,1.26891,1.26985,1.26862,1.27444,1.27439,1.27267,1.27209,1.27308,1.27714,1.27466,1.27138,1.27099,1.26967,1.26932,1.26972,1.27108,1.27546,1.27615,1.27558,1.27618,1.27785,1.27838],\"high\":[1.24705,1.24636,1.24626,1.24687,1.2458,1.24424,1.25473,1.25449,1.25424,1.25429,1.25662,1.25667,1.2634,1.26402,1.26322,1.26388,1.26408,1.26775,1.26883,1.26262,1.259,1.25892,1.26321,1.26668,1.2653,1.26343,1.26179,1.26477,1.26686,1.26451,1.26588,1.26525,1.26413,1.26367,1.26284,1.26381,1.26958,1.27182,1.27122,1.27031,1.27046,1.27627,1.27623,1.27452,1.27497,1.27336,1.27854,1.27783,1.2752,1.27151,1.27129,1.27091,1.27041,1.27115,1.27816,1.2763,1.27693,1.27656,1.28026,1.27997],\"low\":[1.24166,1.24333,1.24407,1.24461,1.24299,1.24062,1.24241,1.25256,1.25224,1.25201,1.2524,1.25143,1.25467,1.26062,1.26109,1.26081,1.26133,1.26104,1.25991,1.25558,1.25588,1.25692,1.25599,1.26176,1.2607,1.26086,1.26058,1.26166,1.26182,1.262,1.25927,1.26221,1.26184,1.26078,1.25722,1.25823,1.26067,1.26782,1.26856,1.26844,1.26747,1.26755,1.27182,1.27247,1.27195,1.27142,1.27256,1.27422,1.26949,1.26925,1.26875,1.26822,1.26624,1.2673,1.27074,1.27476,1.27509,1.27522,1.27597,1.2773],\"open\":[1.24215,1.24625,1.24507,1.24616,1.2452,1.24375,1.24284,1.25429,1.25329,1.25382,1.2529,1.256,1.25571,1.26273,1.2629,1.26135,1.2625,1.26155,1.26676,1.26185,1.25848,1.25722,1.25778,1.26193,1.26376,1.26105,1.26128,1.26171,1.26425,1.26437,1.26281,1.2639,1.26316,1.26345,1.26211,1.25839,1.26093,1.26827,1.26924,1.26883,1.26994,1.26867,1.27417,1.27452,1.27292,1.27208,1.27315,1.27696,1.27486,1.27126,1.27098,1.26977,1.26943,1.26969,1.27087,1.27555,1.27583,1.27556,1.27625,1.2779],\"x\":[4666,4667,4668,4669,4670,4671,4672,4673,4674,4675,4676,4677,4678,4679,4680,4681,4682,4683,4684,4685,4686,4687,4688,4689,4690,4691,4692,4693,4694,4695,4696,4697,4698,4699,4700,4701,4702,4703,4704,4705,4706,4707,4708,4709,4710,4711,4712,4713,4714,4715,4716,4717,4718,4719,4720,4721,4722,4723,4724,4725],\"type\":\"candlestick\"},{\"marker\":{\"color\":\"MediumPurple\",\"size\":4},\"mode\":\"markers\",\"name\":\"pivot\",\"x\":[4666,4667,4668,4669,4670,4671,4672,4673,4674,4675,4676,4677,4678,4679,4680,4681,4682,4683,4684,4685,4686,4687,4688,4689,4690,4691,4692,4693,4694,4695,4696,4697,4698,4699,4700,4701,4702,4703,4704,4705,4706,4707,4708,4709,4710,4711,4712,4713,4714,4715,4716,4717,4718,4719,4720,4721,4722,4723,4724,4725],\"y\":[1.2480499999999999,null,null,null,null,1.2396200000000002,1.2557299999999998,null,null,null,null,1.2504300000000002,null,null,null,null,null,null,1.2698299999999998,1.25458,null,null,null,1.26768,null,null,1.2595800000000001,null,1.26786,null,1.25827,null,null,null,1.2562200000000001,null,null,1.2728199999999998,null,null,1.2664700000000002,1.27727,null,null,null,null,1.27954,null,null,null,null,null,1.2652400000000001,null,1.2791599999999999,null,null,null,null,null],\"type\":\"scatter\"},{\"mode\":\"lines\",\"name\":\"min slope\",\"x\":[4677.0,4685.0,4692.0,4696.0,4711.0],\"y\":[1.2518196889952156,1.2555494497607655,1.258812990430622,1.2606778708133974,1.2676711722488039],\"type\":\"scatter\"},{\"mode\":\"lines\",\"name\":\"max slope\",\"x\":[4684.0,4689.0,4694.0,4709.0],\"y\":[1.268441666666667,1.267456666666667,1.2664716666666669,1.2635166666666673],\"type\":\"scatter\"}],                        {\"template\":{\"data\":{\"histogram2dcontour\":[{\"type\":\"histogram2dcontour\",\"colorbar\":{\"outlinewidth\":0,\"ticks\":\"\"},\"colorscale\":[[0.0,\"#0d0887\"],[0.1111111111111111,\"#46039f\"],[0.2222222222222222,\"#7201a8\"],[0.3333333333333333,\"#9c179e\"],[0.4444444444444444,\"#bd3786\"],[0.5555555555555556,\"#d8576b\"],[0.6666666666666666,\"#ed7953\"],[0.7777777777777778,\"#fb9f3a\"],[0.8888888888888888,\"#fdca26\"],[1.0,\"#f0f921\"]]}],\"choropleth\":[{\"type\":\"choropleth\",\"colorbar\":{\"outlinewidth\":0,\"ticks\":\"\"}}],\"histogram2d\":[{\"type\":\"histogram2d\",\"colorbar\":{\"outlinewidth\":0,\"ticks\":\"\"},\"colorscale\":[[0.0,\"#0d0887\"],[0.1111111111111111,\"#46039f\"],[0.2222222222222222,\"#7201a8\"],[0.3333333333333333,\"#9c179e\"],[0.4444444444444444,\"#bd3786\"],[0.5555555555555556,\"#d8576b\"],[0.6666666666666666,\"#ed7953\"],[0.7777777777777778,\"#fb9f3a\"],[0.8888888888888888,\"#fdca26\"],[1.0,\"#f0f921\"]]}],\"heatmap\":[{\"type\":\"heatmap\",\"colorbar\":{\"outlinewidth\":0,\"ticks\":\"\"},\"colorscale\":[[0.0,\"#0d0887\"],[0.1111111111111111,\"#46039f\"],[0.2222222222222222,\"#7201a8\"],[0.3333333333333333,\"#9c179e\"],[0.4444444444444444,\"#bd3786\"],[0.5555555555555556,\"#d8576b\"],[0.6666666666666666,\"#ed7953\"],[0.7777777777777778,\"#fb9f3a\"],[0.8888888888888888,\"#fdca26\"],[1.0,\"#f0f921\"]]}],\"heatmapgl\":[{\"type\":\"heatmapgl\",\"colorbar\":{\"outlinewidth\":0,\"ticks\":\"\"},\"colorscale\":[[0.0,\"#0d0887\"],[0.1111111111111111,\"#46039f\"],[0.2222222222222222,\"#7201a8\"],[0.3333333333333333,\"#9c179e\"],[0.4444444444444444,\"#bd3786\"],[0.5555555555555556,\"#d8576b\"],[0.6666666666666666,\"#ed7953\"],[0.7777777777777778,\"#fb9f3a\"],[0.8888888888888888,\"#fdca26\"],[1.0,\"#f0f921\"]]}],\"contourcarpet\":[{\"type\":\"contourcarpet\",\"colorbar\":{\"outlinewidth\":0,\"ticks\":\"\"}}],\"contour\":[{\"type\":\"contour\",\"colorbar\":{\"outlinewidth\":0,\"ticks\":\"\"},\"colorscale\":[[0.0,\"#0d0887\"],[0.1111111111111111,\"#46039f\"],[0.2222222222222222,\"#7201a8\"],[0.3333333333333333,\"#9c179e\"],[0.4444444444444444,\"#bd3786\"],[0.5555555555555556,\"#d8576b\"],[0.6666666666666666,\"#ed7953\"],[0.7777777777777778,\"#fb9f3a\"],[0.8888888888888888,\"#fdca26\"],[1.0,\"#f0f921\"]]}],\"surface\":[{\"type\":\"surface\",\"colorbar\":{\"outlinewidth\":0,\"ticks\":\"\"},\"colorscale\":[[0.0,\"#0d0887\"],[0.1111111111111111,\"#46039f\"],[0.2222222222222222,\"#7201a8\"],[0.3333333333333333,\"#9c179e\"],[0.4444444444444444,\"#bd3786\"],[0.5555555555555556,\"#d8576b\"],[0.6666666666666666,\"#ed7953\"],[0.7777777777777778,\"#fb9f3a\"],[0.8888888888888888,\"#fdca26\"],[1.0,\"#f0f921\"]]}],\"mesh3d\":[{\"type\":\"mesh3d\",\"colorbar\":{\"outlinewidth\":0,\"ticks\":\"\"}}],\"scatter\":[{\"fillpattern\":{\"fillmode\":\"overlay\",\"size\":10,\"solidity\":0.2},\"type\":\"scatter\"}],\"parcoords\":[{\"type\":\"parcoords\",\"line\":{\"colorbar\":{\"outlinewidth\":0,\"ticks\":\"\"}}}],\"scatterpolargl\":[{\"type\":\"scatterpolargl\",\"marker\":{\"colorbar\":{\"outlinewidth\":0,\"ticks\":\"\"}}}],\"bar\":[{\"error_x\":{\"color\":\"#2a3f5f\"},\"error_y\":{\"color\":\"#2a3f5f\"},\"marker\":{\"line\":{\"color\":\"#E5ECF6\",\"width\":0.5},\"pattern\":{\"fillmode\":\"overlay\",\"size\":10,\"solidity\":0.2}},\"type\":\"bar\"}],\"scattergeo\":[{\"type\":\"scattergeo\",\"marker\":{\"colorbar\":{\"outlinewidth\":0,\"ticks\":\"\"}}}],\"scatterpolar\":[{\"type\":\"scatterpolar\",\"marker\":{\"colorbar\":{\"outlinewidth\":0,\"ticks\":\"\"}}}],\"histogram\":[{\"marker\":{\"pattern\":{\"fillmode\":\"overlay\",\"size\":10,\"solidity\":0.2}},\"type\":\"histogram\"}],\"scattergl\":[{\"type\":\"scattergl\",\"marker\":{\"colorbar\":{\"outlinewidth\":0,\"ticks\":\"\"}}}],\"scatter3d\":[{\"type\":\"scatter3d\",\"line\":{\"colorbar\":{\"outlinewidth\":0,\"ticks\":\"\"}},\"marker\":{\"colorbar\":{\"outlinewidth\":0,\"ticks\":\"\"}}}],\"scattermapbox\":[{\"type\":\"scattermapbox\",\"marker\":{\"colorbar\":{\"outlinewidth\":0,\"ticks\":\"\"}}}],\"scatterternary\":[{\"type\":\"scatterternary\",\"marker\":{\"colorbar\":{\"outlinewidth\":0,\"ticks\":\"\"}}}],\"scattercarpet\":[{\"type\":\"scattercarpet\",\"marker\":{\"colorbar\":{\"outlinewidth\":0,\"ticks\":\"\"}}}],\"carpet\":[{\"aaxis\":{\"endlinecolor\":\"#2a3f5f\",\"gridcolor\":\"white\",\"linecolor\":\"white\",\"minorgridcolor\":\"white\",\"startlinecolor\":\"#2a3f5f\"},\"baxis\":{\"endlinecolor\":\"#2a3f5f\",\"gridcolor\":\"white\",\"linecolor\":\"white\",\"minorgridcolor\":\"white\",\"startlinecolor\":\"#2a3f5f\"},\"type\":\"carpet\"}],\"table\":[{\"cells\":{\"fill\":{\"color\":\"#EBF0F8\"},\"line\":{\"color\":\"white\"}},\"header\":{\"fill\":{\"color\":\"#C8D4E3\"},\"line\":{\"color\":\"white\"}},\"type\":\"table\"}],\"barpolar\":[{\"marker\":{\"line\":{\"color\":\"#E5ECF6\",\"width\":0.5},\"pattern\":{\"fillmode\":\"overlay\",\"size\":10,\"solidity\":0.2}},\"type\":\"barpolar\"}],\"pie\":[{\"automargin\":true,\"type\":\"pie\"}]},\"layout\":{\"autotypenumbers\":\"strict\",\"colorway\":[\"#636efa\",\"#EF553B\",\"#00cc96\",\"#ab63fa\",\"#FFA15A\",\"#19d3f3\",\"#FF6692\",\"#B6E880\",\"#FF97FF\",\"#FECB52\"],\"font\":{\"color\":\"#2a3f5f\"},\"hovermode\":\"closest\",\"hoverlabel\":{\"align\":\"left\"},\"paper_bgcolor\":\"white\",\"plot_bgcolor\":\"#E5ECF6\",\"polar\":{\"bgcolor\":\"#E5ECF6\",\"angularaxis\":{\"gridcolor\":\"white\",\"linecolor\":\"white\",\"ticks\":\"\"},\"radialaxis\":{\"gridcolor\":\"white\",\"linecolor\":\"white\",\"ticks\":\"\"}},\"ternary\":{\"bgcolor\":\"#E5ECF6\",\"aaxis\":{\"gridcolor\":\"white\",\"linecolor\":\"white\",\"ticks\":\"\"},\"baxis\":{\"gridcolor\":\"white\",\"linecolor\":\"white\",\"ticks\":\"\"},\"caxis\":{\"gridcolor\":\"white\",\"linecolor\":\"white\",\"ticks\":\"\"}},\"coloraxis\":{\"colorbar\":{\"outlinewidth\":0,\"ticks\":\"\"}},\"colorscale\":{\"sequential\":[[0.0,\"#0d0887\"],[0.1111111111111111,\"#46039f\"],[0.2222222222222222,\"#7201a8\"],[0.3333333333333333,\"#9c179e\"],[0.4444444444444444,\"#bd3786\"],[0.5555555555555556,\"#d8576b\"],[0.6666666666666666,\"#ed7953\"],[0.7777777777777778,\"#fb9f3a\"],[0.8888888888888888,\"#fdca26\"],[1.0,\"#f0f921\"]],\"sequentialminus\":[[0.0,\"#0d0887\"],[0.1111111111111111,\"#46039f\"],[0.2222222222222222,\"#7201a8\"],[0.3333333333333333,\"#9c179e\"],[0.4444444444444444,\"#bd3786\"],[0.5555555555555556,\"#d8576b\"],[0.6666666666666666,\"#ed7953\"],[0.7777777777777778,\"#fb9f3a\"],[0.8888888888888888,\"#fdca26\"],[1.0,\"#f0f921\"]],\"diverging\":[[0,\"#8e0152\"],[0.1,\"#c51b7d\"],[0.2,\"#de77ae\"],[0.3,\"#f1b6da\"],[0.4,\"#fde0ef\"],[0.5,\"#f7f7f7\"],[0.6,\"#e6f5d0\"],[0.7,\"#b8e186\"],[0.8,\"#7fbc41\"],[0.9,\"#4d9221\"],[1,\"#276419\"]]},\"xaxis\":{\"gridcolor\":\"white\",\"linecolor\":\"white\",\"ticks\":\"\",\"title\":{\"standoff\":15},\"zerolinecolor\":\"white\",\"automargin\":true,\"zerolinewidth\":2},\"yaxis\":{\"gridcolor\":\"white\",\"linecolor\":\"white\",\"ticks\":\"\",\"title\":{\"standoff\":15},\"zerolinecolor\":\"white\",\"automargin\":true,\"zerolinewidth\":2},\"scene\":{\"xaxis\":{\"backgroundcolor\":\"#E5ECF6\",\"gridcolor\":\"white\",\"linecolor\":\"white\",\"showbackground\":true,\"ticks\":\"\",\"zerolinecolor\":\"white\",\"gridwidth\":2},\"yaxis\":{\"backgroundcolor\":\"#E5ECF6\",\"gridcolor\":\"white\",\"linecolor\":\"white\",\"showbackground\":true,\"ticks\":\"\",\"zerolinecolor\":\"white\",\"gridwidth\":2},\"zaxis\":{\"backgroundcolor\":\"#E5ECF6\",\"gridcolor\":\"white\",\"linecolor\":\"white\",\"showbackground\":true,\"ticks\":\"\",\"zerolinecolor\":\"white\",\"gridwidth\":2}},\"shapedefaults\":{\"line\":{\"color\":\"#2a3f5f\"}},\"annotationdefaults\":{\"arrowcolor\":\"#2a3f5f\",\"arrowhead\":0,\"arrowwidth\":1},\"geo\":{\"bgcolor\":\"white\",\"landcolor\":\"#E5ECF6\",\"subunitcolor\":\"white\",\"showland\":true,\"showlakes\":true,\"lakecolor\":\"white\"},\"title\":{\"x\":0.05},\"mapbox\":{\"style\":\"light\"}}},\"xaxis\":{\"rangeslider\":{\"visible\":false}}},                        {\"responsive\": true}                    ).then(function(){\n",
       "                            \n",
       "var gd = document.getElementById('b7cbcd77-5daa-4c25-bbaf-a36d80a81612');\n",
       "var x = new MutationObserver(function (mutations, observer) {{\n",
       "        var display = window.getComputedStyle(gd).display;\n",
       "        if (!display || display === 'none') {{\n",
       "            console.log([gd, 'removed!']);\n",
       "            Plotly.purge(gd);\n",
       "            observer.disconnect();\n",
       "        }}\n",
       "}});\n",
       "\n",
       "// Listen for the removal of the full notebook cells\n",
       "var notebookContainer = gd.closest('#notebook-container');\n",
       "if (notebookContainer) {{\n",
       "    x.observe(notebookContainer, {childList: true});\n",
       "}}\n",
       "\n",
       "// Listen for the clearing of the current output cell\n",
       "var outputEl = gd.closest('.output');\n",
       "if (outputEl) {{\n",
       "    x.observe(outputEl, {childList: true});\n",
       "}}\n",
       "\n",
       "                        })                };                });            </script>        </div>"
      ]
     },
     "metadata": {},
     "output_type": "display_data"
    }
   ],
   "source": [
    "import numpy as np\n",
    "from matplotlib import pyplot\n",
    "from scipy.stats import linregress\n",
    "\n",
    "backcandles = 20\n",
    "\n",
    "candleid = 4696\n",
    "\n",
    "maxim = np.array([])\n",
    "minim = np.array([])\n",
    "xxmin = np.array([])\n",
    "xxmax = np.array([])\n",
    "\n",
    "for i in range(candleid-backcandles, candleid+1):\n",
    "    if df.iloc[i].pivot == 1:\n",
    "        minim = np.append(minim, df.iloc[i].low)\n",
    "        xxmin = np.append(xxmin, i) #could be i instead df.iloc[i].name\n",
    "    if df.iloc[i].pivot == 2:\n",
    "        maxim = np.append(maxim, df.iloc[i].high)\n",
    "        xxmax = np.append(xxmax, i) # df.iloc[i].name\n",
    "        \n",
    "#slmin, intercmin = np.polyfit(xxmin, minim,1) #numpy\n",
    "#slmax, intercmax = np.polyfit(xxmax, maxim,1)\n",
    "\n",
    "slmin, intercmin, rmin, pmin, semin = linregress(xxmin, minim)\n",
    "slmax, intercmax, rmax, pmax, semax = linregress(xxmax, maxim)\n",
    "\n",
    "print(rmin, rmax)\n",
    "\n",
    "dfpl = df[candleid-backcandles-10:candleid+backcandles+10]\n",
    "\n",
    "fig = go.Figure(data=[go.Candlestick(x=dfpl.index,\n",
    "                open=dfpl['open'],\n",
    "                high=dfpl['high'],\n",
    "                low=dfpl['low'],\n",
    "                close=dfpl['close'])])\n",
    "\n",
    "fig.add_scatter(x=dfpl.index, y=dfpl['pointpos'], mode=\"markers\",\n",
    "                marker=dict(size=4, color=\"MediumPurple\"),\n",
    "                name=\"pivot\")\n",
    "\n",
    "#-------------------------------------------------------------------------\n",
    "# Fitting intercepts to meet highest or lowest candle point in time slice\n",
    "#adjintercmin = df.low.loc[candleid-backcandles:candleid].min() - slmin*df.low.iloc[candleid-backcandles:candleid].idxmin()\n",
    "#adjintercmax = df.high.loc[candleid-backcandles:candleid].max() - slmax*df.high.iloc[candleid-backcandles:candleid].idxmax()\n",
    "\n",
    "xxmin = np.append(xxmin, xxmin[-1]+15)\n",
    "xxmax = np.append(xxmax, xxmax[-1]+15)\n",
    "#fig.add_trace(go.Scatter(x=xxmin, y=slmin*xxmin + adjintercmin, mode='lines', name='min slope'))\n",
    "#fig.add_trace(go.Scatter(x=xxmax, y=slmax*xxmax + adjintercmax, mode='lines', name='max slope'))\n",
    "\n",
    "fig.add_trace(go.Scatter(x=xxmin, y=slmin*xxmin + intercmin, mode='lines', name='min slope'))\n",
    "fig.add_trace(go.Scatter(x=xxmax, y=slmax*xxmax + intercmax, mode='lines', name='max slope'))\n",
    "fig.update_layout(xaxis_rangeslider_visible=False)\n",
    "fig.show()"
   ]
  },
  {
   "cell_type": "code",
   "execution_count": 14,
   "id": "b603a4d3",
   "metadata": {},
   "outputs": [
    {
     "name": "stdout",
     "output_type": "stream",
     "text": [
      "0.9902660844291709 -1.0 12082\n"
     ]
    }
   ],
   "source": [
    "import numpy as np\n",
    "from matplotlib import pyplot\n",
    "from scipy.stats import linregress\n",
    "\n",
    "backcandles= 20\n",
    "\n",
    "for candleid in range(11000, len(df)):\n",
    "    maxim = np.array([])\n",
    "    minim = np.array([])\n",
    "    xxmin = np.array([])\n",
    "    xxmax = np.array([])\n",
    "    for i in range(candleid-backcandles, candleid+1):\n",
    "        if df.iloc[i].pivot == 1:\n",
    "            minim = np.append(minim, df.iloc[i].low)\n",
    "            xxmin = np.append(xxmin, i) #could be i instead df.iloc[i].name\n",
    "        if df.iloc[i].pivot == 2:\n",
    "            maxim = np.append(maxim, df.iloc[i].high)\n",
    "            xxmax = np.append(xxmax, i) # df.iloc[i].name\n",
    "    \n",
    "    if (xxmax.size <3 and xxmin.size <3) or xxmax.size==0 or xxmin.size==0:\n",
    "        continue\n",
    "    \n",
    "    #slmin, intercmin = np.polyfit(xxmin, minim,1) #numpy\n",
    "    #slmax, intercmax = np.polyfit(xxmax, maxim,1)\n",
    "\n",
    "    slmin, intercmin, rmin, pmin, semin = linregress(xxmin, minim)\n",
    "    slmax, intercmax, rmax, pmax, semax = linregress(xxmax, maxim)\n",
    "        \n",
    "    #if abs(rmax)>=0.7 and abs(rmin)>=0.7 and abs(slmin)<=0.00001 and slmax<-0.0001:\n",
    "    #if abs(rmax)>=0.7 and abs(rmin)>=0.7 and slmin>=0.0001 and abs(slmax)<=0.00001:\n",
    "    if abs(rmax)>=0.9 and abs(rmin)>=0.9 and slmin>=0.0001 and slmax<=-0.0001:\n",
    "        print(rmin, rmax, candleid)\n",
    "        break\n",
    "        \n",
    "    if candleid % 1000 == 0:\n",
    "        print(candleid)"
   ]
  },
  {
   "cell_type": "code",
   "execution_count": null,
   "id": "81f71e55",
   "metadata": {},
   "outputs": [],
   "source": []
  }
 ],
 "metadata": {
  "kernelspec": {
   "display_name": "Python 3 (ipykernel)",
   "language": "python",
   "name": "python3"
  },
  "language_info": {
   "codemirror_mode": {
    "name": "ipython",
    "version": 3
   },
   "file_extension": ".py",
   "mimetype": "text/x-python",
   "name": "python",
   "nbconvert_exporter": "python",
   "pygments_lexer": "ipython3",
   "version": "3.10.4"
  }
 },
 "nbformat": 4,
 "nbformat_minor": 5
}
